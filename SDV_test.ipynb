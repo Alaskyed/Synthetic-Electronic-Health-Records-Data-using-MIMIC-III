{
 "cells": [
  {
   "cell_type": "code",
   "execution_count": null,
   "metadata": {},
   "outputs": [],
   "source": [
    "import pandas as pd\n",
    "import datetime"
   ]
  },
  {
   "cell_type": "code",
   "execution_count": null,
   "metadata": {},
   "outputs": [],
   "source": [
    "td = datetime.timedelta(days=100*365)"
   ]
  },
  {
   "cell_type": "code",
   "execution_count": null,
   "metadata": {},
   "outputs": [],
   "source": [
    "t1 = pd.to_datetime(\"1990-01-01\")"
   ]
  },
  {
   "cell_type": "code",
   "execution_count": null,
   "metadata": {},
   "outputs": [],
   "source": [
    "t2 = pd.to_datetime(\"2000-01-01\")"
   ]
  },
  {
   "cell_type": "code",
   "execution_count": null,
   "metadata": {},
   "outputs": [],
   "source": [
    "td = t2.date() - t1.date()"
   ]
  },
  {
   "cell_type": "code",
   "execution_count": null,
   "metadata": {},
   "outputs": [],
   "source": [
    "td.total_seconds()"
   ]
  },
  {
   "cell_type": "code",
   "execution_count": null,
   "metadata": {},
   "outputs": [],
   "source": [
    "t2.day_of_week"
   ]
  },
  {
   "cell_type": "code",
   "execution_count": null,
   "metadata": {},
   "outputs": [],
   "source": [
    "# plot Gaussian Function\n",
    "# 注：正态分布也叫高斯分布\n",
    "import matplotlib.pyplot as plt\n",
    "import numpy as np\n",
    " \n",
    "u1 = 1970  # 第一个高斯分布的均值\n",
    "sigma1 = 0.05  # 第一个高斯分布的标准差\n",
    " \n",
    "u2 = 1990  # 第二个高斯分布的均值\n",
    "sigma2 = 0.05  # 第二个高斯分布的标准差\n",
    "\n",
    "u3 = 2010  # 第二个高斯分布的均值\n",
    "sigma3 = 0.05  # 第二个高斯分布的标准差\n",
    "u4 = 2030  # 第二个高斯分布的均值\n",
    "sigma4 = 0.05  # 第二个高斯分布的标准差\n",
    "u5 = 2040  # 第二个高斯分布的均值\n",
    "sigma5 = 0.05  # 第二个高斯分布的标准差\n",
    "\n",
    "x = np.arange(1900, 2100, 1)\n",
    "# 表示高斯分布函数\n",
    "y1 = np.multiply(np.power(np.sqrt(2 * np.pi) * sigma1, -1), np.exp(-np.power(x - u1, 2) / 3 * sigma1 ** 2))\n",
    "y2 = np.multiply(np.power(np.sqrt(2 * np.pi) * sigma2, -1), np.exp(-np.power(x - u2, 2) / 5 * sigma2 ** 2))\n",
    "y3 = np.multiply(np.power(np.sqrt(2 * np.pi) * sigma3, -1), np.exp(-np.power(x - u3, 2) / 0.5 * sigma3 ** 2))\n",
    "y4 = np.multiply(np.power(np.sqrt(2 * np.pi) * sigma4, -1), np.exp(-np.power(x - u4, 2) / 2 * sigma4 ** 2))\n",
    "y5 = np.multiply(np.power(np.sqrt(2 * np.pi) * sigma5, -1), np.exp(-np.power(x - u5, 2) / 2 * sigma5 ** 2))\n",
    " \n",
    "plt.rcParams['font.sans-serif'] = ['SimHei']  # 解决pythonmatplotlib绘图无法显示中文的问题\n",
    "plt.rcParams['axes.unicode_minus'] = False  # 用来正常显示负号\n",
    " \n",
    "\n",
    "plt.plot(x, y1, 'b-', linewidth=2)\n",
    "plt.plot(x, y2, 'r-', linewidth=2)\n",
    "plt.plot(x, y3, 'g-', linewidth=2)\n",
    "plt.plot(x, y4, 'y-', linewidth=2)\n",
    "plt.plot(x, y5, 'c-', linewidth=2)\n",
    "plt.show()"
   ]
  },
  {
   "cell_type": "code",
   "execution_count": null,
   "metadata": {},
   "outputs": [],
   "source": [
    "dict={'a':1, 'b':2, 'c':3}"
   ]
  },
  {
   "cell_type": "code",
   "execution_count": null,
   "metadata": {},
   "outputs": [],
   "source": [
    "sorted(dict.items(), key=lambda item: item[1]).pop()[0]"
   ]
  },
  {
   "cell_type": "code",
   "execution_count": null,
   "metadata": {},
   "outputs": [],
   "source": [
    "import pandas as pd\n",
    "import numpy as np\n",
    "\n",
    "import common"
   ]
  },
  {
   "cell_type": "code",
   "execution_count": null,
   "metadata": {},
   "outputs": [],
   "source": [
    "from sdv.demo import load_tabular_demo\n",
    "from sdv.tabular import GaussianCopula\n",
    "from sdv.tabular import CTGAN\n",
    "from sdv.evaluation import evaluate\n",
    "\n",
    "# Ignore warnings\n",
    "import warnings\n",
    "warnings.filterwarnings(\"ignore\")"
   ]
  },
  {
   "cell_type": "code",
   "execution_count": null,
   "metadata": {},
   "outputs": [],
   "source": [
    "real_data = load_tabular_demo('student_placements')\n",
    "model = CTGAN()\n",
    "model.fit(real_data)\n",
    "synthetic_data = model.sample(len(real_data))"
   ]
  },
  {
   "cell_type": "code",
   "execution_count": null,
   "metadata": {},
   "outputs": [],
   "source": [
    "evaluate(synthetic_data, real_data, metrics=['CSTest', 'KSTest', 'ContinuousKLDivergence', 'DiscreteKLDivergence'])"
   ]
  },
  {
   "cell_type": "code",
   "execution_count": null,
   "metadata": {},
   "outputs": [],
   "source": []
  },
  {
   "cell_type": "code",
   "execution_count": null,
   "metadata": {},
   "outputs": [],
   "source": [
    "import uuid\n",
    "def uuid_generate(n):\n",
    "    uuid_list = []\n",
    "    for i in range(n):\n",
    "        uuid_list.append(str(uuid.uuid4()))\n",
    "    return uuid_list"
   ]
  },
  {
   "cell_type": "code",
   "execution_count": null,
   "metadata": {},
   "outputs": [],
   "source": [
    "uuid_generate(100)"
   ]
  },
  {
   "cell_type": "code",
   "execution_count": null,
   "metadata": {},
   "outputs": [],
   "source": [
    "import names\n",
    "def name_generate(n):\n",
    "    names_list=[]\n",
    "    for i in range(n):\n",
    "        names_list.append(names.get_full_name())\n",
    "    return names_list"
   ]
  }
 ],
 "metadata": {
  "kernelspec": {
   "display_name": "Python 3.8.13 ('msc_project')",
   "language": "python",
   "name": "python3"
  },
  "language_info": {
   "codemirror_mode": {
    "name": "ipython",
    "version": 3
   },
   "file_extension": ".py",
   "mimetype": "text/x-python",
   "name": "python",
   "nbconvert_exporter": "python",
   "pygments_lexer": "ipython3",
   "version": "3.8.13"
  },
  "orig_nbformat": 4,
  "vscode": {
   "interpreter": {
    "hash": "e56015fb566b08f7af163d42c82cf08fa5d6db3fbaaffa0afaaff5a893fc0496"
   }
  }
 },
 "nbformat": 4,
 "nbformat_minor": 2
}
