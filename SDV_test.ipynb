{
 "cells": [
  {
   "cell_type": "code",
   "execution_count": 1,
   "metadata": {},
   "outputs": [],
   "source": [
    "from sdv import load_demo\n",
    "from sdv import Metadata"
   ]
  },
  {
   "cell_type": "code",
   "execution_count": 2,
   "metadata": {},
   "outputs": [],
   "source": [
    "tables = load_demo()"
   ]
  },
  {
   "cell_type": "code",
   "execution_count": 3,
   "metadata": {},
   "outputs": [
    {
     "data": {
      "text/html": [
       "<div>\n",
       "<style scoped>\n",
       "    .dataframe tbody tr th:only-of-type {\n",
       "        vertical-align: middle;\n",
       "    }\n",
       "\n",
       "    .dataframe tbody tr th {\n",
       "        vertical-align: top;\n",
       "    }\n",
       "\n",
       "    .dataframe thead th {\n",
       "        text-align: right;\n",
       "    }\n",
       "</style>\n",
       "<table border=\"1\" class=\"dataframe\">\n",
       "  <thead>\n",
       "    <tr style=\"text-align: right;\">\n",
       "      <th></th>\n",
       "      <th>user_id</th>\n",
       "      <th>country</th>\n",
       "      <th>gender</th>\n",
       "      <th>age</th>\n",
       "    </tr>\n",
       "  </thead>\n",
       "  <tbody>\n",
       "    <tr>\n",
       "      <th>0</th>\n",
       "      <td>0</td>\n",
       "      <td>US</td>\n",
       "      <td>M</td>\n",
       "      <td>34</td>\n",
       "    </tr>\n",
       "    <tr>\n",
       "      <th>1</th>\n",
       "      <td>1</td>\n",
       "      <td>UK</td>\n",
       "      <td>F</td>\n",
       "      <td>23</td>\n",
       "    </tr>\n",
       "    <tr>\n",
       "      <th>2</th>\n",
       "      <td>2</td>\n",
       "      <td>ES</td>\n",
       "      <td>None</td>\n",
       "      <td>44</td>\n",
       "    </tr>\n",
       "    <tr>\n",
       "      <th>3</th>\n",
       "      <td>3</td>\n",
       "      <td>UK</td>\n",
       "      <td>M</td>\n",
       "      <td>22</td>\n",
       "    </tr>\n",
       "    <tr>\n",
       "      <th>4</th>\n",
       "      <td>4</td>\n",
       "      <td>US</td>\n",
       "      <td>F</td>\n",
       "      <td>54</td>\n",
       "    </tr>\n",
       "    <tr>\n",
       "      <th>5</th>\n",
       "      <td>5</td>\n",
       "      <td>DE</td>\n",
       "      <td>M</td>\n",
       "      <td>57</td>\n",
       "    </tr>\n",
       "    <tr>\n",
       "      <th>6</th>\n",
       "      <td>6</td>\n",
       "      <td>BG</td>\n",
       "      <td>F</td>\n",
       "      <td>45</td>\n",
       "    </tr>\n",
       "    <tr>\n",
       "      <th>7</th>\n",
       "      <td>7</td>\n",
       "      <td>ES</td>\n",
       "      <td>None</td>\n",
       "      <td>41</td>\n",
       "    </tr>\n",
       "    <tr>\n",
       "      <th>8</th>\n",
       "      <td>8</td>\n",
       "      <td>FR</td>\n",
       "      <td>F</td>\n",
       "      <td>23</td>\n",
       "    </tr>\n",
       "    <tr>\n",
       "      <th>9</th>\n",
       "      <td>9</td>\n",
       "      <td>UK</td>\n",
       "      <td>None</td>\n",
       "      <td>30</td>\n",
       "    </tr>\n",
       "  </tbody>\n",
       "</table>\n",
       "</div>"
      ],
      "text/plain": [
       "   user_id country gender  age\n",
       "0        0      US      M   34\n",
       "1        1      UK      F   23\n",
       "2        2      ES   None   44\n",
       "3        3      UK      M   22\n",
       "4        4      US      F   54\n",
       "5        5      DE      M   57\n",
       "6        6      BG      F   45\n",
       "7        7      ES   None   41\n",
       "8        8      FR      F   23\n",
       "9        9      UK   None   30"
      ]
     },
     "execution_count": 3,
     "metadata": {},
     "output_type": "execute_result"
    }
   ],
   "source": [
    "tables['users']"
   ]
  },
  {
   "cell_type": "code",
   "execution_count": 4,
   "metadata": {},
   "outputs": [
    {
     "data": {
      "text/html": [
       "<div>\n",
       "<style scoped>\n",
       "    .dataframe tbody tr th:only-of-type {\n",
       "        vertical-align: middle;\n",
       "    }\n",
       "\n",
       "    .dataframe tbody tr th {\n",
       "        vertical-align: top;\n",
       "    }\n",
       "\n",
       "    .dataframe thead th {\n",
       "        text-align: right;\n",
       "    }\n",
       "</style>\n",
       "<table border=\"1\" class=\"dataframe\">\n",
       "  <thead>\n",
       "    <tr style=\"text-align: right;\">\n",
       "      <th></th>\n",
       "      <th>session_id</th>\n",
       "      <th>user_id</th>\n",
       "      <th>device</th>\n",
       "      <th>os</th>\n",
       "      <th>minutes</th>\n",
       "    </tr>\n",
       "  </thead>\n",
       "  <tbody>\n",
       "    <tr>\n",
       "      <th>0</th>\n",
       "      <td>0</td>\n",
       "      <td>0</td>\n",
       "      <td>mobile</td>\n",
       "      <td>android</td>\n",
       "      <td>23</td>\n",
       "    </tr>\n",
       "    <tr>\n",
       "      <th>1</th>\n",
       "      <td>1</td>\n",
       "      <td>1</td>\n",
       "      <td>tablet</td>\n",
       "      <td>ios</td>\n",
       "      <td>12</td>\n",
       "    </tr>\n",
       "    <tr>\n",
       "      <th>2</th>\n",
       "      <td>2</td>\n",
       "      <td>2</td>\n",
       "      <td>tablet</td>\n",
       "      <td>android</td>\n",
       "      <td>8</td>\n",
       "    </tr>\n",
       "    <tr>\n",
       "      <th>3</th>\n",
       "      <td>3</td>\n",
       "      <td>3</td>\n",
       "      <td>mobile</td>\n",
       "      <td>android</td>\n",
       "      <td>13</td>\n",
       "    </tr>\n",
       "    <tr>\n",
       "      <th>4</th>\n",
       "      <td>4</td>\n",
       "      <td>4</td>\n",
       "      <td>mobile</td>\n",
       "      <td>ios</td>\n",
       "      <td>9</td>\n",
       "    </tr>\n",
       "    <tr>\n",
       "      <th>5</th>\n",
       "      <td>5</td>\n",
       "      <td>5</td>\n",
       "      <td>mobile</td>\n",
       "      <td>android</td>\n",
       "      <td>32</td>\n",
       "    </tr>\n",
       "    <tr>\n",
       "      <th>6</th>\n",
       "      <td>6</td>\n",
       "      <td>6</td>\n",
       "      <td>mobile</td>\n",
       "      <td>ios</td>\n",
       "      <td>7</td>\n",
       "    </tr>\n",
       "    <tr>\n",
       "      <th>7</th>\n",
       "      <td>7</td>\n",
       "      <td>7</td>\n",
       "      <td>tablet</td>\n",
       "      <td>ios</td>\n",
       "      <td>21</td>\n",
       "    </tr>\n",
       "    <tr>\n",
       "      <th>8</th>\n",
       "      <td>8</td>\n",
       "      <td>8</td>\n",
       "      <td>mobile</td>\n",
       "      <td>ios</td>\n",
       "      <td>29</td>\n",
       "    </tr>\n",
       "    <tr>\n",
       "      <th>9</th>\n",
       "      <td>9</td>\n",
       "      <td>9</td>\n",
       "      <td>tablet</td>\n",
       "      <td>ios</td>\n",
       "      <td>34</td>\n",
       "    </tr>\n",
       "  </tbody>\n",
       "</table>\n",
       "</div>"
      ],
      "text/plain": [
       "   session_id  user_id  device       os  minutes\n",
       "0           0        0  mobile  android       23\n",
       "1           1        1  tablet      ios       12\n",
       "2           2        2  tablet  android        8\n",
       "3           3        3  mobile  android       13\n",
       "4           4        4  mobile      ios        9\n",
       "5           5        5  mobile  android       32\n",
       "6           6        6  mobile      ios        7\n",
       "7           7        7  tablet      ios       21\n",
       "8           8        8  mobile      ios       29\n",
       "9           9        9  tablet      ios       34"
      ]
     },
     "execution_count": 4,
     "metadata": {},
     "output_type": "execute_result"
    }
   ],
   "source": [
    "tables['sessions']"
   ]
  },
  {
   "cell_type": "code",
   "execution_count": 5,
   "metadata": {},
   "outputs": [
    {
     "data": {
      "text/html": [
       "<div>\n",
       "<style scoped>\n",
       "    .dataframe tbody tr th:only-of-type {\n",
       "        vertical-align: middle;\n",
       "    }\n",
       "\n",
       "    .dataframe tbody tr th {\n",
       "        vertical-align: top;\n",
       "    }\n",
       "\n",
       "    .dataframe thead th {\n",
       "        text-align: right;\n",
       "    }\n",
       "</style>\n",
       "<table border=\"1\" class=\"dataframe\">\n",
       "  <thead>\n",
       "    <tr style=\"text-align: right;\">\n",
       "      <th></th>\n",
       "      <th>transaction_id</th>\n",
       "      <th>session_id</th>\n",
       "      <th>timestamp</th>\n",
       "      <th>amount</th>\n",
       "      <th>cancelled</th>\n",
       "    </tr>\n",
       "  </thead>\n",
       "  <tbody>\n",
       "    <tr>\n",
       "      <th>0</th>\n",
       "      <td>0</td>\n",
       "      <td>0</td>\n",
       "      <td>2019-01-01 12:34:32</td>\n",
       "      <td>100.0</td>\n",
       "      <td>False</td>\n",
       "    </tr>\n",
       "    <tr>\n",
       "      <th>1</th>\n",
       "      <td>1</td>\n",
       "      <td>1</td>\n",
       "      <td>2019-01-01 12:42:21</td>\n",
       "      <td>55.3</td>\n",
       "      <td>False</td>\n",
       "    </tr>\n",
       "    <tr>\n",
       "      <th>2</th>\n",
       "      <td>2</td>\n",
       "      <td>2</td>\n",
       "      <td>2019-01-07 17:23:11</td>\n",
       "      <td>79.5</td>\n",
       "      <td>False</td>\n",
       "    </tr>\n",
       "    <tr>\n",
       "      <th>3</th>\n",
       "      <td>3</td>\n",
       "      <td>3</td>\n",
       "      <td>2019-01-10 11:08:57</td>\n",
       "      <td>112.1</td>\n",
       "      <td>True</td>\n",
       "    </tr>\n",
       "    <tr>\n",
       "      <th>4</th>\n",
       "      <td>4</td>\n",
       "      <td>4</td>\n",
       "      <td>2019-01-10 21:54:08</td>\n",
       "      <td>110.0</td>\n",
       "      <td>True</td>\n",
       "    </tr>\n",
       "    <tr>\n",
       "      <th>5</th>\n",
       "      <td>5</td>\n",
       "      <td>5</td>\n",
       "      <td>2019-01-11 11:21:20</td>\n",
       "      <td>76.3</td>\n",
       "      <td>False</td>\n",
       "    </tr>\n",
       "    <tr>\n",
       "      <th>6</th>\n",
       "      <td>6</td>\n",
       "      <td>6</td>\n",
       "      <td>2019-01-22 14:44:10</td>\n",
       "      <td>89.5</td>\n",
       "      <td>False</td>\n",
       "    </tr>\n",
       "    <tr>\n",
       "      <th>7</th>\n",
       "      <td>7</td>\n",
       "      <td>7</td>\n",
       "      <td>2019-01-23 10:14:09</td>\n",
       "      <td>132.1</td>\n",
       "      <td>True</td>\n",
       "    </tr>\n",
       "    <tr>\n",
       "      <th>8</th>\n",
       "      <td>8</td>\n",
       "      <td>8</td>\n",
       "      <td>2019-01-27 16:09:17</td>\n",
       "      <td>68.0</td>\n",
       "      <td>False</td>\n",
       "    </tr>\n",
       "    <tr>\n",
       "      <th>9</th>\n",
       "      <td>9</td>\n",
       "      <td>9</td>\n",
       "      <td>2019-01-29 12:10:48</td>\n",
       "      <td>99.9</td>\n",
       "      <td>False</td>\n",
       "    </tr>\n",
       "  </tbody>\n",
       "</table>\n",
       "</div>"
      ],
      "text/plain": [
       "   transaction_id  session_id           timestamp  amount  cancelled\n",
       "0               0           0 2019-01-01 12:34:32   100.0      False\n",
       "1               1           1 2019-01-01 12:42:21    55.3      False\n",
       "2               2           2 2019-01-07 17:23:11    79.5      False\n",
       "3               3           3 2019-01-10 11:08:57   112.1       True\n",
       "4               4           4 2019-01-10 21:54:08   110.0       True\n",
       "5               5           5 2019-01-11 11:21:20    76.3      False\n",
       "6               6           6 2019-01-22 14:44:10    89.5      False\n",
       "7               7           7 2019-01-23 10:14:09   132.1       True\n",
       "8               8           8 2019-01-27 16:09:17    68.0      False\n",
       "9               9           9 2019-01-29 12:10:48    99.9      False"
      ]
     },
     "execution_count": 5,
     "metadata": {},
     "output_type": "execute_result"
    }
   ],
   "source": [
    "tables['transactions']"
   ]
  },
  {
   "cell_type": "code",
   "execution_count": 6,
   "metadata": {},
   "outputs": [
    {
     "data": {
      "text/plain": [
       "Metadata\n",
       "  root_path: .\n",
       "  tables: []\n",
       "  relationships:"
      ]
     },
     "execution_count": 6,
     "metadata": {},
     "output_type": "execute_result"
    }
   ],
   "source": [
    "metadata = Metadata()\n",
    "metadata"
   ]
  },
  {
   "cell_type": "code",
   "execution_count": 7,
   "metadata": {},
   "outputs": [],
   "source": [
    "metadata.add_table(name='users', data=tables['users'], primary_key='user_id')"
   ]
  },
  {
   "cell_type": "code",
   "execution_count": 8,
   "metadata": {},
   "outputs": [
    {
     "data": {
      "image/svg+xml": "<?xml version=\"1.0\" encoding=\"UTF-8\" standalone=\"no\"?>\n<!DOCTYPE svg PUBLIC \"-//W3C//DTD SVG 1.1//EN\"\n \"http://www.w3.org/Graphics/SVG/1.1/DTD/svg11.dtd\">\n<!-- Generated by graphviz version 5.0.0 (20220707.1540)\n -->\n<!-- Title: Metadata Pages: 1 -->\n<svg width=\"156pt\" height=\"123pt\"\n viewBox=\"0.00 0.00 156.00 123.00\" xmlns=\"http://www.w3.org/2000/svg\" xmlns:xlink=\"http://www.w3.org/1999/xlink\">\n<g id=\"graph0\" class=\"graph\" transform=\"scale(1 1) rotate(0) translate(4 119)\">\n<title>Metadata</title>\n<polygon fill=\"white\" stroke=\"transparent\" points=\"-4,4 -4,-119 152,-119 152,4 -4,4\"/>\n<!-- users -->\n<g id=\"node1\" class=\"node\">\n<title>users</title>\n<path fill=\"#ffec8b\" stroke=\"black\" d=\"M12,-0.5C12,-0.5 136,-0.5 136,-0.5 142,-0.5 148,-6.5 148,-12.5 148,-12.5 148,-102.5 148,-102.5 148,-108.5 142,-114.5 136,-114.5 136,-114.5 12,-114.5 12,-114.5 6,-114.5 0,-108.5 0,-102.5 0,-102.5 0,-12.5 0,-12.5 0,-6.5 6,-0.5 12,-0.5\"/>\n<text text-anchor=\"middle\" x=\"74\" y=\"-99.3\" font-family=\"Times New Roman,serif\" font-size=\"14.00\">users</text>\n<polyline fill=\"none\" stroke=\"black\" points=\"0,-91.5 148,-91.5 \"/>\n<text text-anchor=\"start\" x=\"8\" y=\"-76.3\" font-family=\"Times New Roman,serif\" font-size=\"14.00\">user_id : id &#45; integer</text>\n<text text-anchor=\"start\" x=\"8\" y=\"-61.3\" font-family=\"Times New Roman,serif\" font-size=\"14.00\">country : categorical</text>\n<text text-anchor=\"start\" x=\"8\" y=\"-46.3\" font-family=\"Times New Roman,serif\" font-size=\"14.00\">gender : categorical</text>\n<text text-anchor=\"start\" x=\"8\" y=\"-31.3\" font-family=\"Times New Roman,serif\" font-size=\"14.00\">age : numerical &#45; integer</text>\n<polyline fill=\"none\" stroke=\"black\" points=\"0,-23.5 148,-23.5 \"/>\n<text text-anchor=\"start\" x=\"8\" y=\"-8.3\" font-family=\"Times New Roman,serif\" font-size=\"14.00\">Primary key: user_id</text>\n</g>\n</g>\n</svg>\n",
      "text/plain": [
       "<graphviz.graphs.Digraph at 0x27fc7da3c70>"
      ]
     },
     "execution_count": 8,
     "metadata": {},
     "output_type": "execute_result"
    }
   ],
   "source": [
    "metadata.visualize()"
   ]
  },
  {
   "cell_type": "code",
   "execution_count": 10,
   "metadata": {},
   "outputs": [
    {
     "data": {
      "text/plain": [
       "{'fields': {'user_id': {'type': 'id', 'subtype': 'integer'},\n",
       "  'country': {'type': 'categorical'},\n",
       "  'gender': {'type': 'categorical'},\n",
       "  'age': {'type': 'numerical', 'subtype': 'integer'}},\n",
       " 'primary_key': 'user_id'}"
      ]
     },
     "execution_count": 10,
     "metadata": {},
     "output_type": "execute_result"
    }
   ],
   "source": [
    "metadata.get_table_meta('users')"
   ]
  },
  {
   "cell_type": "code",
   "execution_count": 15,
   "metadata": {},
   "outputs": [],
   "source": [
    "metadata.add_table(name='sessions', data=tables['sessions'], primary_key='session_id', parent='users', foreign_key='user_id')"
   ]
  },
  {
   "cell_type": "code",
   "execution_count": 16,
   "metadata": {},
   "outputs": [],
   "source": [
    "transactions_fields = {\n",
    "    'timestamp': {\n",
    "    'type': 'datetime',\n",
    "    'format': '%Y-%m-%d'\n",
    "    }\n",
    "}"
   ]
  },
  {
   "cell_type": "code",
   "execution_count": 17,
   "metadata": {},
   "outputs": [],
   "source": [
    "metadata.add_table(name='transactions', data=tables['transactions'], fields_metadata=transactions_fields, primary_key='transaction_id', parent='sessions')"
   ]
  },
  {
   "cell_type": "code",
   "execution_count": 18,
   "metadata": {},
   "outputs": [
    {
     "data": {
      "image/svg+xml": "<?xml version=\"1.0\" encoding=\"UTF-8\" standalone=\"no\"?>\n<!DOCTYPE svg PUBLIC \"-//W3C//DTD SVG 1.1//EN\"\n \"http://www.w3.org/Graphics/SVG/1.1/DTD/svg11.dtd\">\n<!-- Generated by graphviz version 5.0.0 (20220707.1540)\n -->\n<!-- Title: Metadata Pages: 1 -->\n<svg width=\"381pt\" height=\"515pt\"\n viewBox=\"0.00 0.00 380.50 515.00\" xmlns=\"http://www.w3.org/2000/svg\" xmlns:xlink=\"http://www.w3.org/1999/xlink\">\n<g id=\"graph0\" class=\"graph\" transform=\"scale(1 1) rotate(0) translate(4 511)\">\n<title>Metadata</title>\n<polygon fill=\"white\" stroke=\"transparent\" points=\"-4,4 -4,-511 376.5,-511 376.5,4 -4,4\"/>\n<!-- users -->\n<g id=\"node1\" class=\"node\">\n<title>users</title>\n<path fill=\"#ffec8b\" stroke=\"black\" d=\"M42.5,-392.5C42.5,-392.5 166.5,-392.5 166.5,-392.5 172.5,-392.5 178.5,-398.5 178.5,-404.5 178.5,-404.5 178.5,-494.5 178.5,-494.5 178.5,-500.5 172.5,-506.5 166.5,-506.5 166.5,-506.5 42.5,-506.5 42.5,-506.5 36.5,-506.5 30.5,-500.5 30.5,-494.5 30.5,-494.5 30.5,-404.5 30.5,-404.5 30.5,-398.5 36.5,-392.5 42.5,-392.5\"/>\n<text text-anchor=\"middle\" x=\"104.5\" y=\"-491.3\" font-family=\"Times New Roman,serif\" font-size=\"14.00\">users</text>\n<polyline fill=\"none\" stroke=\"black\" points=\"30.5,-483.5 178.5,-483.5 \"/>\n<text text-anchor=\"start\" x=\"38.5\" y=\"-468.3\" font-family=\"Times New Roman,serif\" font-size=\"14.00\">user_id : id &#45; integer</text>\n<text text-anchor=\"start\" x=\"38.5\" y=\"-453.3\" font-family=\"Times New Roman,serif\" font-size=\"14.00\">country : categorical</text>\n<text text-anchor=\"start\" x=\"38.5\" y=\"-438.3\" font-family=\"Times New Roman,serif\" font-size=\"14.00\">gender : categorical</text>\n<text text-anchor=\"start\" x=\"38.5\" y=\"-423.3\" font-family=\"Times New Roman,serif\" font-size=\"14.00\">age : numerical &#45; integer</text>\n<polyline fill=\"none\" stroke=\"black\" points=\"30.5,-415.5 178.5,-415.5 \"/>\n<text text-anchor=\"start\" x=\"38.5\" y=\"-400.3\" font-family=\"Times New Roman,serif\" font-size=\"14.00\">Primary key: user_id</text>\n</g>\n<!-- sessions -->\n<g id=\"node2\" class=\"node\">\n<title>sessions</title>\n<path fill=\"#ffec8b\" stroke=\"black\" d=\"M30,-196.5C30,-196.5 179,-196.5 179,-196.5 185,-196.5 191,-202.5 191,-208.5 191,-208.5 191,-328.5 191,-328.5 191,-334.5 185,-340.5 179,-340.5 179,-340.5 30,-340.5 30,-340.5 24,-340.5 18,-334.5 18,-328.5 18,-328.5 18,-208.5 18,-208.5 18,-202.5 24,-196.5 30,-196.5\"/>\n<text text-anchor=\"middle\" x=\"104.5\" y=\"-325.3\" font-family=\"Times New Roman,serif\" font-size=\"14.00\">sessions</text>\n<polyline fill=\"none\" stroke=\"black\" points=\"18,-317.5 191,-317.5 \"/>\n<text text-anchor=\"start\" x=\"26\" y=\"-302.3\" font-family=\"Times New Roman,serif\" font-size=\"14.00\">session_id : id &#45; integer</text>\n<text text-anchor=\"start\" x=\"26\" y=\"-287.3\" font-family=\"Times New Roman,serif\" font-size=\"14.00\">user_id : id &#45; integer</text>\n<text text-anchor=\"start\" x=\"26\" y=\"-272.3\" font-family=\"Times New Roman,serif\" font-size=\"14.00\">device : categorical</text>\n<text text-anchor=\"start\" x=\"26\" y=\"-257.3\" font-family=\"Times New Roman,serif\" font-size=\"14.00\">os : categorical</text>\n<text text-anchor=\"start\" x=\"26\" y=\"-242.3\" font-family=\"Times New Roman,serif\" font-size=\"14.00\">minutes : numerical &#45; integer</text>\n<polyline fill=\"none\" stroke=\"black\" points=\"18,-234.5 191,-234.5 \"/>\n<text text-anchor=\"start\" x=\"26\" y=\"-219.3\" font-family=\"Times New Roman,serif\" font-size=\"14.00\">Primary key: session_id</text>\n<text text-anchor=\"start\" x=\"26\" y=\"-204.3\" font-family=\"Times New Roman,serif\" font-size=\"14.00\">Foreign key (users): user_id</text>\n</g>\n<!-- users&#45;&gt;sessions -->\n<g id=\"edge1\" class=\"edge\">\n<title>users&#45;&gt;sessions</title>\n<path fill=\"none\" stroke=\"black\" d=\"M104.5,-392.35C104.5,-379.15 104.5,-364.82 104.5,-350.77\"/>\n<polygon fill=\"none\" stroke=\"black\" points=\"108,-340.6 104.5,-350.6 101,-340.6 108,-340.6\"/>\n<text text-anchor=\"middle\" x=\"201.5\" y=\"-362.8\" font-family=\"Times New Roman,serif\" font-size=\"14.00\"> &#160;&#160;sessions.user_id &gt; users.user_id</text>\n</g>\n<!-- transactions -->\n<g id=\"node3\" class=\"node\">\n<title>transactions</title>\n<path fill=\"#ffec8b\" stroke=\"black\" d=\"M12,-0.5C12,-0.5 197,-0.5 197,-0.5 203,-0.5 209,-6.5 209,-12.5 209,-12.5 209,-132.5 209,-132.5 209,-138.5 203,-144.5 197,-144.5 197,-144.5 12,-144.5 12,-144.5 6,-144.5 0,-138.5 0,-132.5 0,-132.5 0,-12.5 0,-12.5 0,-6.5 6,-0.5 12,-0.5\"/>\n<text text-anchor=\"middle\" x=\"104.5\" y=\"-129.3\" font-family=\"Times New Roman,serif\" font-size=\"14.00\">transactions</text>\n<polyline fill=\"none\" stroke=\"black\" points=\"0,-121.5 209,-121.5 \"/>\n<text text-anchor=\"start\" x=\"8\" y=\"-106.3\" font-family=\"Times New Roman,serif\" font-size=\"14.00\">timestamp : datetime</text>\n<text text-anchor=\"start\" x=\"8\" y=\"-91.3\" font-family=\"Times New Roman,serif\" font-size=\"14.00\">transaction_id : id &#45; integer</text>\n<text text-anchor=\"start\" x=\"8\" y=\"-76.3\" font-family=\"Times New Roman,serif\" font-size=\"14.00\">session_id : id &#45; integer</text>\n<text text-anchor=\"start\" x=\"8\" y=\"-61.3\" font-family=\"Times New Roman,serif\" font-size=\"14.00\">amount : numerical &#45; float</text>\n<text text-anchor=\"start\" x=\"8\" y=\"-46.3\" font-family=\"Times New Roman,serif\" font-size=\"14.00\">cancelled : boolean</text>\n<polyline fill=\"none\" stroke=\"black\" points=\"0,-38.5 209,-38.5 \"/>\n<text text-anchor=\"start\" x=\"8\" y=\"-23.3\" font-family=\"Times New Roman,serif\" font-size=\"14.00\">Primary key: transaction_id</text>\n<text text-anchor=\"start\" x=\"8\" y=\"-8.3\" font-family=\"Times New Roman,serif\" font-size=\"14.00\">Foreign key (sessions): session_id</text>\n</g>\n<!-- sessions&#45;&gt;transactions -->\n<g id=\"edge2\" class=\"edge\">\n<title>sessions&#45;&gt;transactions</title>\n<path fill=\"none\" stroke=\"black\" d=\"M104.5,-196.36C104.5,-182.92 104.5,-168.76 104.5,-155.03\"/>\n<polygon fill=\"none\" stroke=\"black\" points=\"108,-144.63 104.5,-154.63 101,-144.63 108,-144.63\"/>\n<text text-anchor=\"middle\" x=\"238.5\" y=\"-166.8\" font-family=\"Times New Roman,serif\" font-size=\"14.00\"> &#160;&#160;transactions.session_id &gt; sessions.session_id</text>\n</g>\n</g>\n</svg>\n",
      "text/plain": [
       "<graphviz.graphs.Digraph at 0x27fc8baa370>"
      ]
     },
     "execution_count": 18,
     "metadata": {},
     "output_type": "execute_result"
    }
   ],
   "source": [
    "metadata.visualize()"
   ]
  },
  {
   "cell_type": "code",
   "execution_count": 19,
   "metadata": {},
   "outputs": [
    {
     "data": {
      "text/plain": [
       "{'tables': {'users': {'fields': {'user_id': {'type': 'id',\n",
       "     'subtype': 'integer'},\n",
       "    'country': {'type': 'categorical'},\n",
       "    'gender': {'type': 'categorical'},\n",
       "    'age': {'type': 'numerical', 'subtype': 'integer'}},\n",
       "   'primary_key': 'user_id'},\n",
       "  'sessions': {'fields': {'session_id': {'type': 'id', 'subtype': 'integer'},\n",
       "    'user_id': {'type': 'id',\n",
       "     'subtype': 'integer',\n",
       "     'ref': {'table': 'users', 'field': 'user_id'}},\n",
       "    'device': {'type': 'categorical'},\n",
       "    'os': {'type': 'categorical'},\n",
       "    'minutes': {'type': 'numerical', 'subtype': 'integer'}},\n",
       "   'primary_key': 'session_id'},\n",
       "  'transactions': {'fields': {'timestamp': {'type': 'datetime',\n",
       "     'format': '%Y-%m-%d'},\n",
       "    'transaction_id': {'type': 'id', 'subtype': 'integer'},\n",
       "    'session_id': {'type': 'id',\n",
       "     'subtype': 'integer',\n",
       "     'ref': {'table': 'sessions', 'field': 'session_id'}},\n",
       "    'amount': {'type': 'numerical', 'subtype': 'float'},\n",
       "    'cancelled': {'type': 'boolean'}},\n",
       "   'primary_key': 'transaction_id'}}}"
      ]
     },
     "execution_count": 19,
     "metadata": {},
     "output_type": "execute_result"
    }
   ],
   "source": [
    "metadata.to_dict()"
   ]
  },
  {
   "cell_type": "markdown",
   "metadata": {},
   "source": [
    "---"
   ]
  },
  {
   "cell_type": "code",
   "execution_count": 20,
   "metadata": {},
   "outputs": [],
   "source": [
    "from sdv.relational import HMA1"
   ]
  },
  {
   "cell_type": "code",
   "execution_count": 22,
   "metadata": {},
   "outputs": [],
   "source": [
    "model1 = HMA1(metadata)"
   ]
  },
  {
   "cell_type": "code",
   "execution_count": 23,
   "metadata": {},
   "outputs": [
    {
     "name": "stderr",
     "output_type": "stream",
     "text": [
      "d:\\Environment\\anaconda3\\envs\\msc_project\\lib\\site-packages\\sdv\\relational\\hma.py:255: PerformanceWarning: DataFrame is highly fragmented.  This is usually the result of calling `frame.insert` many times, which has poor performance.  Consider joining all columns at once using pd.concat(axis=1) instead. To get a de-fragmented frame, use `newframe = frame.copy()`\n",
      "  table.reset_index(inplace=True)\n"
     ]
    }
   ],
   "source": [
    "model1.fit(tables)"
   ]
  },
  {
   "cell_type": "code",
   "execution_count": 24,
   "metadata": {},
   "outputs": [],
   "source": [
    "new_data = model1.sample()"
   ]
  },
  {
   "cell_type": "code",
   "execution_count": 25,
   "metadata": {},
   "outputs": [
    {
     "data": {
      "text/plain": [
       "{'users':    user_id country gender  age\n",
       " 0        0      US      F   37\n",
       " 1        1      US      F   29\n",
       " 2        2      UK      M   37\n",
       " 3        3      DE    NaN   42\n",
       " 4        4      ES    NaN   53\n",
       " 5        5      BG      M   22\n",
       " 6        6      US      M   47\n",
       " 7        7      ES      M   30\n",
       " 8        8      UK      M   38\n",
       " 9        9      ES      M   52,\n",
       " 'sessions':    session_id  user_id  device       os  minutes\n",
       " 0           0        0  mobile  android       17\n",
       " 1           1        1  mobile      ios        7\n",
       " 2           2        2  mobile  android        7\n",
       " 3           3        3  tablet  android       15\n",
       " 4           4        4  mobile  android       31\n",
       " 5           5        5  mobile  android       33\n",
       " 6           6        6  tablet  android       13\n",
       " 7           7        7  mobile  android        7\n",
       " 8           8        8  tablet  android        7\n",
       " 9           9        9  mobile      ios       31,\n",
       " 'transactions':             timestamp  transaction_id  session_id  amount  cancelled\n",
       " 0 2019-01-01 12:34:32               0           0    84.6      False\n",
       " 1 2019-01-09 08:36:38               1           1    77.6      False\n",
       " 2 2019-01-01 12:34:32               2           2    88.0      False\n",
       " 3 2019-01-17 11:10:21               3           3   108.5      False\n",
       " 4 2019-01-17 23:28:56               4           4   108.2      False\n",
       " 5 2019-01-05 18:34:53               5           5    56.0      False\n",
       " 6 2019-01-01 12:34:32               6           6    59.7      False\n",
       " 7 2019-01-03 08:53:06               7           7    97.8       True\n",
       " 8 2019-01-01 12:34:32               8           8   105.4       True\n",
       " 9 2019-01-22 08:25:39               9           9    71.4      False}"
      ]
     },
     "execution_count": 25,
     "metadata": {},
     "output_type": "execute_result"
    }
   ],
   "source": [
    "new_data"
   ]
  },
  {
   "cell_type": "markdown",
   "metadata": {},
   "source": [
    "---"
   ]
  },
  {
   "cell_type": "code",
   "execution_count": 28,
   "metadata": {},
   "outputs": [],
   "source": [
    "model1.save('my_test_hma1_model.pkl')"
   ]
  },
  {
   "cell_type": "code",
   "execution_count": 30,
   "metadata": {},
   "outputs": [
    {
     "data": {
      "text/plain": [
       "dict_keys(['users', 'sessions', 'transactions'])"
      ]
     },
     "execution_count": 30,
     "metadata": {},
     "output_type": "execute_result"
    }
   ],
   "source": [
    "loaded = HMA1.load('my_test_hma1_model.pkl')"
   ]
  },
  {
   "cell_type": "code",
   "execution_count": null,
   "metadata": {},
   "outputs": [],
   "source": [
    "new_data = loaded.sample(num_rows=1000)"
   ]
  },
  {
   "cell_type": "code",
   "execution_count": null,
   "metadata": {},
   "outputs": [],
   "source": [
    "new_data.keys()"
   ]
  },
  {
   "cell_type": "markdown",
   "metadata": {},
   "source": [
    "---\n",
    "\n",
    "## Timeseries"
   ]
  },
  {
   "cell_type": "code",
   "execution_count": 32,
   "metadata": {},
   "outputs": [],
   "source": [
    "from sdv.demo import load_timeseries_demo\n",
    "\n",
    "data = load_timeseries_demo()"
   ]
  },
  {
   "cell_type": "code",
   "execution_count": 37,
   "metadata": {},
   "outputs": [
    {
     "data": {
      "text/html": [
       "<div>\n",
       "<style scoped>\n",
       "    .dataframe tbody tr th:only-of-type {\n",
       "        vertical-align: middle;\n",
       "    }\n",
       "\n",
       "    .dataframe tbody tr th {\n",
       "        vertical-align: top;\n",
       "    }\n",
       "\n",
       "    .dataframe thead th {\n",
       "        text-align: right;\n",
       "    }\n",
       "</style>\n",
       "<table border=\"1\" class=\"dataframe\">\n",
       "  <thead>\n",
       "    <tr style=\"text-align: right;\">\n",
       "      <th></th>\n",
       "      <th>Symbol</th>\n",
       "      <th>Date</th>\n",
       "      <th>Open</th>\n",
       "      <th>Close</th>\n",
       "      <th>Volume</th>\n",
       "      <th>MarketCap</th>\n",
       "      <th>Sector</th>\n",
       "      <th>Industry</th>\n",
       "    </tr>\n",
       "  </thead>\n",
       "  <tbody>\n",
       "    <tr>\n",
       "      <th>0</th>\n",
       "      <td>AAPL</td>\n",
       "      <td>2018-12-31</td>\n",
       "      <td>39.632500</td>\n",
       "      <td>39.435001</td>\n",
       "      <td>140014000</td>\n",
       "      <td>7.378734e+11</td>\n",
       "      <td>Technology</td>\n",
       "      <td>Computer Manufacturing</td>\n",
       "    </tr>\n",
       "    <tr>\n",
       "      <th>1</th>\n",
       "      <td>AAPL</td>\n",
       "      <td>2019-01-02</td>\n",
       "      <td>38.722500</td>\n",
       "      <td>39.480000</td>\n",
       "      <td>148158800</td>\n",
       "      <td>7.378734e+11</td>\n",
       "      <td>Technology</td>\n",
       "      <td>Computer Manufacturing</td>\n",
       "    </tr>\n",
       "    <tr>\n",
       "      <th>2</th>\n",
       "      <td>AAPL</td>\n",
       "      <td>2019-01-03</td>\n",
       "      <td>35.994999</td>\n",
       "      <td>35.547501</td>\n",
       "      <td>365248800</td>\n",
       "      <td>7.378734e+11</td>\n",
       "      <td>Technology</td>\n",
       "      <td>Computer Manufacturing</td>\n",
       "    </tr>\n",
       "    <tr>\n",
       "      <th>3</th>\n",
       "      <td>AAPL</td>\n",
       "      <td>2019-01-04</td>\n",
       "      <td>36.132500</td>\n",
       "      <td>37.064999</td>\n",
       "      <td>234428400</td>\n",
       "      <td>7.378734e+11</td>\n",
       "      <td>Technology</td>\n",
       "      <td>Computer Manufacturing</td>\n",
       "    </tr>\n",
       "    <tr>\n",
       "      <th>4</th>\n",
       "      <td>AAPL</td>\n",
       "      <td>2019-01-07</td>\n",
       "      <td>37.174999</td>\n",
       "      <td>36.982498</td>\n",
       "      <td>219111200</td>\n",
       "      <td>7.378734e+11</td>\n",
       "      <td>Technology</td>\n",
       "      <td>Computer Manufacturing</td>\n",
       "    </tr>\n",
       "  </tbody>\n",
       "</table>\n",
       "</div>"
      ],
      "text/plain": [
       "  Symbol       Date       Open      Close     Volume     MarketCap  \\\n",
       "0   AAPL 2018-12-31  39.632500  39.435001  140014000  7.378734e+11   \n",
       "1   AAPL 2019-01-02  38.722500  39.480000  148158800  7.378734e+11   \n",
       "2   AAPL 2019-01-03  35.994999  35.547501  365248800  7.378734e+11   \n",
       "3   AAPL 2019-01-04  36.132500  37.064999  234428400  7.378734e+11   \n",
       "4   AAPL 2019-01-07  37.174999  36.982498  219111200  7.378734e+11   \n",
       "\n",
       "       Sector                Industry  \n",
       "0  Technology  Computer Manufacturing  \n",
       "1  Technology  Computer Manufacturing  \n",
       "2  Technology  Computer Manufacturing  \n",
       "3  Technology  Computer Manufacturing  \n",
       "4  Technology  Computer Manufacturing  "
      ]
     },
     "execution_count": 37,
     "metadata": {},
     "output_type": "execute_result"
    }
   ],
   "source": [
    "data.head()"
   ]
  },
  {
   "cell_type": "code",
   "execution_count": 38,
   "metadata": {},
   "outputs": [],
   "source": [
    "entity_columns = ['Symbol']\n",
    "context_columns = ['MarketCap', 'Sector', 'Industry']\n",
    "sequence_index = 'Date'"
   ]
  },
  {
   "cell_type": "code",
   "execution_count": 39,
   "metadata": {},
   "outputs": [],
   "source": [
    "from sdv.timeseries import PAR"
   ]
  },
  {
   "cell_type": "code",
   "execution_count": 40,
   "metadata": {},
   "outputs": [],
   "source": [
    "model = PAR(entity_columns=entity_columns,context_columns=context_columns,sequence_index=sequence_index,)"
   ]
  },
  {
   "cell_type": "code",
   "execution_count": null,
   "metadata": {},
   "outputs": [],
   "source": []
  }
 ],
 "metadata": {
  "kernelspec": {
   "display_name": "Python 3.8.13 ('msc_project')",
   "language": "python",
   "name": "python3"
  },
  "language_info": {
   "codemirror_mode": {
    "name": "ipython",
    "version": 3
   },
   "file_extension": ".py",
   "mimetype": "text/x-python",
   "name": "python",
   "nbconvert_exporter": "python",
   "pygments_lexer": "ipython3",
   "version": "3.8.13"
  },
  "orig_nbformat": 4,
  "vscode": {
   "interpreter": {
    "hash": "e56015fb566b08f7af163d42c82cf08fa5d6db3fbaaffa0afaaff5a893fc0496"
   }
  }
 },
 "nbformat": 4,
 "nbformat_minor": 2
}
