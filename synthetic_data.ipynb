{
 "cells": [
  {
   "cell_type": "code",
   "execution_count": 1,
   "metadata": {},
   "outputs": [],
   "source": [
    "import pandas as pd\n",
    "import numpy as np\n",
    "import cloudpickle\n",
    "\n",
    "import common"
   ]
  },
  {
   "cell_type": "code",
   "execution_count": 2,
   "metadata": {},
   "outputs": [],
   "source": [
    "sythetic_sets_path = \"../synthetic_sets/\""
   ]
  },
  {
   "cell_type": "markdown",
   "metadata": {},
   "source": [
    "## Load models"
   ]
  },
  {
   "cell_type": "code",
   "execution_count": 3,
   "metadata": {},
   "outputs": [],
   "source": [
    "model_path = \"../temp_sets_100/100_models/\""
   ]
  },
  {
   "cell_type": "code",
   "execution_count": 5,
   "metadata": {},
   "outputs": [],
   "source": [
    "patients_model = common.load_model(model_path + 'patients_model.pkl')"
   ]
  },
  {
   "cell_type": "code",
   "execution_count": null,
   "metadata": {},
   "outputs": [],
   "source": [
    "admissions_model = common.load_model('admissions_model.pkl')"
   ]
  },
  {
   "cell_type": "code",
   "execution_count": null,
   "metadata": {},
   "outputs": [],
   "source": [
    "callout_model = common.load_model('callout_model.pkl')"
   ]
  },
  {
   "cell_type": "code",
   "execution_count": null,
   "metadata": {},
   "outputs": [],
   "source": [
    "icustays_model = common.load_model('icustays_model.pkl')"
   ]
  },
  {
   "cell_type": "code",
   "execution_count": null,
   "metadata": {},
   "outputs": [],
   "source": [
    "chartevents_model = common.load_model('chartevents_model.pkl')"
   ]
  },
  {
   "cell_type": "code",
   "execution_count": null,
   "metadata": {},
   "outputs": [],
   "source": [
    "cptevents_model = common.load_model('cptevents_model.pkl')"
   ]
  },
  {
   "cell_type": "code",
   "execution_count": null,
   "metadata": {},
   "outputs": [],
   "source": [
    "labevents_model = common.load_model('labevents_model.pkl')"
   ]
  },
  {
   "cell_type": "code",
   "execution_count": null,
   "metadata": {},
   "outputs": [],
   "source": [
    "microbiologyevents_model = common.load_model('microbiologyevents_model.pkl')"
   ]
  },
  {
   "cell_type": "code",
   "execution_count": null,
   "metadata": {},
   "outputs": [],
   "source": [
    "outputevents_model = common.load_model('outputevents_model.pkl')"
   ]
  },
  {
   "cell_type": "code",
   "execution_count": null,
   "metadata": {},
   "outputs": [],
   "source": [
    "procedureevents_model = common.load_model('procedureevents_model.pkl')"
   ]
  },
  {
   "cell_type": "code",
   "execution_count": null,
   "metadata": {},
   "outputs": [],
   "source": [
    "procedures_icd_model = common.load_model('procedures_icd_model.pkl')"
   ]
  },
  {
   "cell_type": "markdown",
   "metadata": {},
   "source": [
    "---"
   ]
  },
  {
   "cell_type": "markdown",
   "metadata": {},
   "source": [
    "## Generate data"
   ]
  },
  {
   "cell_type": "code",
   "execution_count": 6,
   "metadata": {},
   "outputs": [
    {
     "name": "stderr",
     "output_type": "stream",
     "text": [
      "Sampling rows: 100%|██████████| 100/100 [00:02<00:00, 43.33it/s]\n"
     ]
    }
   ],
   "source": [
    "patients_df = patients_model.sample(100)"
   ]
  },
  {
   "cell_type": "code",
   "execution_count": 116,
   "metadata": {},
   "outputs": [
    {
     "name": "stderr",
     "output_type": "stream",
     "text": [
      "Sampling rows: 100%|██████████| 130/130 [00:00<00:00, 1315.93it/s]\n"
     ]
    }
   ],
   "source": [
    "admissions_df = admissions_model.sample(130)"
   ]
  },
  {
   "cell_type": "code",
   "execution_count": 117,
   "metadata": {},
   "outputs": [],
   "source": [
    "callout_df = callout_model.sample(80)"
   ]
  },
  {
   "cell_type": "code",
   "execution_count": 118,
   "metadata": {},
   "outputs": [
    {
     "name": "stderr",
     "output_type": "stream",
     "text": [
      "Sampling rows: 100%|██████████| 140/140 [00:00<00:00, 2181.93it/s]\n"
     ]
    }
   ],
   "source": [
    "icustays_df = icustays_model.sample(140)"
   ]
  },
  {
   "cell_type": "code",
   "execution_count": 119,
   "metadata": {},
   "outputs": [
    {
     "name": "stderr",
     "output_type": "stream",
     "text": [
      "Sampling rows: 100%|██████████| 10000/10000 [00:00<00:00, 14534.23it/s]\n"
     ]
    }
   ],
   "source": [
    "chartevents_df = chartevents_model.sample(10000)"
   ]
  },
  {
   "cell_type": "code",
   "execution_count": 120,
   "metadata": {},
   "outputs": [
    {
     "name": "stderr",
     "output_type": "stream",
     "text": [
      "Sampling rows: 100%|██████████| 1500/1500 [00:00<00:00, 33262.78it/s]\n"
     ]
    }
   ],
   "source": [
    "cptevents_df = cptevents_model.sample(1500)"
   ]
  },
  {
   "cell_type": "code",
   "execution_count": 155,
   "metadata": {},
   "outputs": [
    {
     "name": "stderr",
     "output_type": "stream",
     "text": [
      "Sampling rows: 100%|██████████| 5000/5000 [00:00<00:00, 11460.27it/s]\n"
     ]
    }
   ],
   "source": [
    "labevents_df = labevents_model.sample(5000)"
   ]
  },
  {
   "cell_type": "code",
   "execution_count": null,
   "metadata": {},
   "outputs": [],
   "source": [
    "microbiologyevents_df = microbiologyevents_model.sample(50000)"
   ]
  },
  {
   "cell_type": "code",
   "execution_count": null,
   "metadata": {},
   "outputs": [],
   "source": [
    "outputevents_df = outputevents_model.sample(5000)"
   ]
  },
  {
   "cell_type": "code",
   "execution_count": null,
   "metadata": {},
   "outputs": [],
   "source": [
    "procedureevents_df = procedureevents_model.sample(1000)"
   ]
  },
  {
   "cell_type": "code",
   "execution_count": 121,
   "metadata": {},
   "outputs": [],
   "source": [
    "import random\n",
    "\n",
    "def add_subject_id(df, subject_ids, live_ids):\n",
    "\n",
    "    # No death data, \n",
    "    if pd.isna(df['deathtime']):\n",
    "        if df['index'] < (len(subject_ids) - 1):\n",
    "            return subject_ids[df['index']%(len(subject_ids) - 1)]\n",
    "        else:\n",
    "            return random.choice(subject_ids)\n",
    "    else:\n",
    "        # if match a death data, choose a patients from live list, and delete it from live list(because one person can just dead once)\n",
    "        subject_id = live_ids.pop()\n",
    "        return subject_id"
   ]
  },
  {
   "cell_type": "markdown",
   "metadata": {},
   "source": [
    "## Post-process data"
   ]
  },
  {
   "cell_type": "code",
   "execution_count": 122,
   "metadata": {},
   "outputs": [],
   "source": [
    "# Reset time data\n",
    "def reset_time(df, early_col_name, late_col_name, second_early_col_name=None):\n",
    "    '''\n",
    "    If first_early_col_name exist, then use late_col - first_early_col_name, else, \n",
    "        then use late_col - second_early_col_name, else set result as NaN\n",
    "    The result is the time delta, save it as the late column\n",
    "    '''\n",
    "\n",
    "    if pd.isna(df[late_col_name]):\n",
    "        return pd.NaT\n",
    "    elif (pd.isna(df[late_col_name]) == False) & pd.isna(df[early_col_name]):\n",
    "        return df[second_early_col_name] + pd.Timedelta(seconds=int(df[late_col_name]))\n",
    "    else:\n",
    "        return df[early_col_name] + pd.Timedelta(seconds=int(df[late_col_name]))"
   ]
  },
  {
   "cell_type": "markdown",
   "metadata": {},
   "source": [
    "### Patients"
   ]
  },
  {
   "cell_type": "code",
   "execution_count": 123,
   "metadata": {},
   "outputs": [],
   "source": [
    "patients_df.to_csv(sythetic_sets_path + \"patients.csv\", index=None)"
   ]
  },
  {
   "cell_type": "markdown",
   "metadata": {},
   "source": [
    "### Admissions"
   ]
  },
  {
   "cell_type": "code",
   "execution_count": 124,
   "metadata": {},
   "outputs": [],
   "source": [
    "# save the patients who don't have death record. When one patients match a death date, then delete it from the list\n",
    "live_ids = patients_df['subject_id'].tolist()\n",
    "admissions_df['subject_id'] = admissions_df.reset_index().apply(add_subject_id, args=(patients_df['subject_id'].tolist(), live_ids), axis=1)"
   ]
  },
  {
   "cell_type": "code",
   "execution_count": 125,
   "metadata": {},
   "outputs": [],
   "source": [
    "# Adjust `subject_id` position\n",
    "admissions_df.insert(0, 'subject_id', admissions_df.pop('subject_id'))\n",
    "# Change type of `subject_id`\n",
    "admissions_df['subject_id'] = admissions_df['subject_id'].astype(int)"
   ]
  },
  {
   "cell_type": "code",
   "execution_count": 126,
   "metadata": {},
   "outputs": [],
   "source": [
    "# Merge patients info and admissions info\n",
    "admissions_df = pd.merge(patients_df.loc[:, ['subject_id', 'dob']], admissions_df, how='inner', on=['subject_id'])"
   ]
  },
  {
   "cell_type": "code",
   "execution_count": 127,
   "metadata": {},
   "outputs": [],
   "source": [
    "admissions_df['admittime'] = admissions_df.apply(reset_time, args=('dob', 'admittime'), axis=1)\n",
    "admissions_df['dischtime'] = admissions_df.apply(reset_time, args=('admittime', 'dischtime'), axis=1)\n",
    "admissions_df['edregtime'] = admissions_df.apply(reset_time, args=('admittime', 'edregtime'), axis=1)\n",
    "admissions_df['edouttime'] = admissions_df.apply(reset_time, args=('edregtime', 'edouttime'), axis=1)"
   ]
  },
  {
   "cell_type": "code",
   "execution_count": 128,
   "metadata": {},
   "outputs": [],
   "source": [
    "admissions_df.drop(['dob'], axis=1, inplace=True)"
   ]
  },
  {
   "cell_type": "code",
   "execution_count": 129,
   "metadata": {},
   "outputs": [],
   "source": [
    "admissions_df.to_csv(sythetic_sets_path + \"admissions.csv\", index=None)"
   ]
  },
  {
   "cell_type": "code",
   "execution_count": 130,
   "metadata": {},
   "outputs": [],
   "source": [
    "# Pick up 'subject_id', 'hadm_id' and 'admittime' from admissions_df (random sample)\n",
    "hadm_ids_df = admissions_df.loc[:, ['subject_id', 'hadm_id', 'admittime']]"
   ]
  },
  {
   "cell_type": "markdown",
   "metadata": {},
   "source": [
    "###  Callout"
   ]
  },
  {
   "cell_type": "code",
   "execution_count": 131,
   "metadata": {},
   "outputs": [
    {
     "data": {
      "text/html": [
       "<div>\n",
       "<style scoped>\n",
       "    .dataframe tbody tr th:only-of-type {\n",
       "        vertical-align: middle;\n",
       "    }\n",
       "\n",
       "    .dataframe tbody tr th {\n",
       "        vertical-align: top;\n",
       "    }\n",
       "\n",
       "    .dataframe thead th {\n",
       "        text-align: right;\n",
       "    }\n",
       "</style>\n",
       "<table border=\"1\" class=\"dataframe\">\n",
       "  <thead>\n",
       "    <tr style=\"text-align: right;\">\n",
       "      <th></th>\n",
       "      <th>submit_wardid</th>\n",
       "      <th>curr_wardid</th>\n",
       "      <th>curr_careunit</th>\n",
       "      <th>callout_wardid</th>\n",
       "      <th>callout_service</th>\n",
       "      <th>request_tele</th>\n",
       "      <th>request_resp</th>\n",
       "      <th>request_cdiff</th>\n",
       "      <th>request_mrsa</th>\n",
       "      <th>request_vre</th>\n",
       "      <th>callout_status</th>\n",
       "      <th>callout_outcome</th>\n",
       "      <th>discharge_wardid</th>\n",
       "      <th>acknowledge_status</th>\n",
       "      <th>createtime</th>\n",
       "      <th>updatetime</th>\n",
       "      <th>acknowledgetime</th>\n",
       "      <th>outcometime</th>\n",
       "    </tr>\n",
       "  </thead>\n",
       "  <tbody>\n",
       "    <tr>\n",
       "      <th>0</th>\n",
       "      <td>15</td>\n",
       "      <td>48</td>\n",
       "      <td>CCU</td>\n",
       "      <td>40</td>\n",
       "      <td>MED</td>\n",
       "      <td>0</td>\n",
       "      <td>0</td>\n",
       "      <td>0</td>\n",
       "      <td>1</td>\n",
       "      <td>0</td>\n",
       "      <td>Inactive</td>\n",
       "      <td>Cancelled</td>\n",
       "      <td>30.0</td>\n",
       "      <td>Revised</td>\n",
       "      <td>1214044.0</td>\n",
       "      <td>200571.0</td>\n",
       "      <td>2.0</td>\n",
       "      <td>36038.0</td>\n",
       "    </tr>\n",
       "    <tr>\n",
       "      <th>1</th>\n",
       "      <td>7</td>\n",
       "      <td>20</td>\n",
       "      <td>MICU</td>\n",
       "      <td>52</td>\n",
       "      <td>CSURG</td>\n",
       "      <td>1</td>\n",
       "      <td>0</td>\n",
       "      <td>0</td>\n",
       "      <td>0</td>\n",
       "      <td>0</td>\n",
       "      <td>Inactive</td>\n",
       "      <td>Discharged</td>\n",
       "      <td>0.0</td>\n",
       "      <td>Acknowledged</td>\n",
       "      <td>2109074.0</td>\n",
       "      <td>8668.0</td>\n",
       "      <td>6790.0</td>\n",
       "      <td>12218.0</td>\n",
       "    </tr>\n",
       "    <tr>\n",
       "      <th>2</th>\n",
       "      <td>45</td>\n",
       "      <td>28</td>\n",
       "      <td>TSICU</td>\n",
       "      <td>55</td>\n",
       "      <td>ORTHO</td>\n",
       "      <td>0</td>\n",
       "      <td>0</td>\n",
       "      <td>1</td>\n",
       "      <td>0</td>\n",
       "      <td>0</td>\n",
       "      <td>Inactive</td>\n",
       "      <td>Cancelled</td>\n",
       "      <td>31.0</td>\n",
       "      <td>Acknowledged</td>\n",
       "      <td>31877.0</td>\n",
       "      <td>106981.0</td>\n",
       "      <td>NaN</td>\n",
       "      <td>21913.0</td>\n",
       "    </tr>\n",
       "    <tr>\n",
       "      <th>3</th>\n",
       "      <td>11</td>\n",
       "      <td>24</td>\n",
       "      <td>MICU</td>\n",
       "      <td>1</td>\n",
       "      <td>MED</td>\n",
       "      <td>1</td>\n",
       "      <td>0</td>\n",
       "      <td>0</td>\n",
       "      <td>1</td>\n",
       "      <td>0</td>\n",
       "      <td>Inactive</td>\n",
       "      <td>Cancelled</td>\n",
       "      <td>NaN</td>\n",
       "      <td>Revised</td>\n",
       "      <td>420696.0</td>\n",
       "      <td>15171.0</td>\n",
       "      <td>6380.0</td>\n",
       "      <td>9841.0</td>\n",
       "    </tr>\n",
       "    <tr>\n",
       "      <th>4</th>\n",
       "      <td>7</td>\n",
       "      <td>16</td>\n",
       "      <td>MICU</td>\n",
       "      <td>55</td>\n",
       "      <td>SURG</td>\n",
       "      <td>1</td>\n",
       "      <td>0</td>\n",
       "      <td>0</td>\n",
       "      <td>0</td>\n",
       "      <td>0</td>\n",
       "      <td>Inactive</td>\n",
       "      <td>Discharged</td>\n",
       "      <td>55.0</td>\n",
       "      <td>Acknowledged</td>\n",
       "      <td>709173.0</td>\n",
       "      <td>10746.0</td>\n",
       "      <td>NaN</td>\n",
       "      <td>19413.0</td>\n",
       "    </tr>\n",
       "  </tbody>\n",
       "</table>\n",
       "</div>"
      ],
      "text/plain": [
       "   submit_wardid  curr_wardid curr_careunit  callout_wardid callout_service  \\\n",
       "0             15           48           CCU              40             MED   \n",
       "1              7           20          MICU              52           CSURG   \n",
       "2             45           28         TSICU              55           ORTHO   \n",
       "3             11           24          MICU               1             MED   \n",
       "4              7           16          MICU              55            SURG   \n",
       "\n",
       "   request_tele  request_resp  request_cdiff  request_mrsa  request_vre  \\\n",
       "0             0             0              0             1            0   \n",
       "1             1             0              0             0            0   \n",
       "2             0             0              1             0            0   \n",
       "3             1             0              0             1            0   \n",
       "4             1             0              0             0            0   \n",
       "\n",
       "  callout_status callout_outcome  discharge_wardid acknowledge_status  \\\n",
       "0       Inactive       Cancelled              30.0            Revised   \n",
       "1       Inactive      Discharged               0.0       Acknowledged   \n",
       "2       Inactive       Cancelled              31.0       Acknowledged   \n",
       "3       Inactive       Cancelled               NaN            Revised   \n",
       "4       Inactive      Discharged              55.0       Acknowledged   \n",
       "\n",
       "   createtime  updatetime  acknowledgetime  outcometime  \n",
       "0   1214044.0    200571.0              2.0      36038.0  \n",
       "1   2109074.0      8668.0           6790.0      12218.0  \n",
       "2     31877.0    106981.0              NaN      21913.0  \n",
       "3    420696.0     15171.0           6380.0       9841.0  \n",
       "4    709173.0     10746.0              NaN      19413.0  "
      ]
     },
     "execution_count": 131,
     "metadata": {},
     "output_type": "execute_result"
    }
   ],
   "source": [
    "callout_df.head()"
   ]
  },
  {
   "cell_type": "code",
   "execution_count": 132,
   "metadata": {},
   "outputs": [],
   "source": [
    "# Add 'subject_id', 'hadm_id' to callout_df\n",
    "callout_df = pd.concat([hadm_ids_df.sample(n=len(callout_df), replace=True, axis=0).reset_index(drop=True), callout_df], axis=1)"
   ]
  },
  {
   "cell_type": "code",
   "execution_count": 133,
   "metadata": {},
   "outputs": [],
   "source": [
    "callout_df['createtime'] = callout_df.apply(reset_time, args=('admittime', 'createtime'), axis=1)\n",
    "callout_df['updatetime'] = callout_df.apply(reset_time, args=('createtime', 'updatetime'), axis=1)\n",
    "callout_df['acknowledgetime'] = callout_df.apply(reset_time, args=('updatetime', 'acknowledgetime'), axis=1)\n",
    "callout_df['outcometime'] = callout_df.apply(reset_time, args=('acknowledgetime', 'outcometime', 'updatetime'), axis=1)"
   ]
  },
  {
   "cell_type": "code",
   "execution_count": 134,
   "metadata": {},
   "outputs": [],
   "source": [
    "callout_df.drop(['admittime'], axis=1, inplace=True)"
   ]
  },
  {
   "cell_type": "code",
   "execution_count": 135,
   "metadata": {},
   "outputs": [],
   "source": [
    "callout_df.to_csv(sythetic_sets_path + \"callout.csv\", index=None)"
   ]
  },
  {
   "cell_type": "markdown",
   "metadata": {},
   "source": [
    "### Icustays"
   ]
  },
  {
   "cell_type": "code",
   "execution_count": 136,
   "metadata": {},
   "outputs": [],
   "source": [
    "# Add 'subject_id', 'hadm_id' to icustays_df\n",
    "icustays_df = pd.concat([hadm_ids_df.sample(n=len(icustays_df), replace=True, axis=0).reset_index(drop=True), icustays_df], axis=1)"
   ]
  },
  {
   "cell_type": "code",
   "execution_count": 137,
   "metadata": {},
   "outputs": [],
   "source": [
    "icustays_df['intime'] = icustays_df.apply(reset_time, args=('admittime', 'intime'), axis=1)\n",
    "icustays_df['outtime'] = icustays_df.apply(reset_time, args=('intime', 'outtime'), axis=1)"
   ]
  },
  {
   "cell_type": "code",
   "execution_count": 138,
   "metadata": {},
   "outputs": [],
   "source": [
    "icustays_df.drop(['admittime'], axis=1, inplace=True)"
   ]
  },
  {
   "cell_type": "code",
   "execution_count": 139,
   "metadata": {},
   "outputs": [],
   "source": [
    "icustays_df.to_csv(sythetic_sets_path + \"icustays.csv\", index=None)"
   ]
  },
  {
   "cell_type": "code",
   "execution_count": 140,
   "metadata": {},
   "outputs": [],
   "source": [
    "# Pick up 'subject_id', 'hadm_id', 'icustay_id' and 'intime' from icustays_df (random sample)\n",
    "icustays_ids_df = icustays_df.loc[:, ['subject_id', 'hadm_id', 'icustay_id','intime']]"
   ]
  },
  {
   "cell_type": "markdown",
   "metadata": {},
   "source": [
    "### Chartevents"
   ]
  },
  {
   "cell_type": "code",
   "execution_count": 141,
   "metadata": {},
   "outputs": [],
   "source": [
    "def is_number(s):\n",
    "    try:\n",
    "        float(s)\n",
    "        return True\n",
    "    except ValueError:\n",
    "        pass\n",
    " \n",
    "    try:\n",
    "        import unicodedata\n",
    "        unicodedata.numeric(s)\n",
    "        return True\n",
    "    except (TypeError, ValueError):\n",
    "        pass\n",
    " \n",
    "    return False\n",
    "\n",
    "def format_numeric_values(df):\n",
    "    # Numeric value\n",
    "    if is_number(df['value']):\n",
    "        return round(float(df['value']), 2)\n",
    "    # String\n",
    "    else:\n",
    "        return df['value']"
   ]
  },
  {
   "cell_type": "code",
   "execution_count": 142,
   "metadata": {},
   "outputs": [],
   "source": [
    "chartevents_df['value'] = chartevents_df.apply(format_numeric_values, axis=1)"
   ]
  },
  {
   "cell_type": "code",
   "execution_count": 143,
   "metadata": {},
   "outputs": [],
   "source": [
    "# Add 'subject_id', 'hadm_id' to icustays_df\n",
    "chartevents_df = pd.concat([icustays_ids_df.sample(n=len(chartevents_df), replace=True, axis=0).reset_index(drop=True), chartevents_df], axis=1)"
   ]
  },
  {
   "cell_type": "code",
   "execution_count": 144,
   "metadata": {},
   "outputs": [],
   "source": [
    "chartevents_df['charttime'] = chartevents_df.apply(reset_time, args=('intime', 'charttime'), axis=1)\n",
    "chartevents_df['storetime'] = chartevents_df.apply(reset_time, args=('charttime', 'storetime'), axis=1)"
   ]
  },
  {
   "cell_type": "code",
   "execution_count": 145,
   "metadata": {},
   "outputs": [],
   "source": [
    "chartevents_df.drop(['intime'], axis=1, inplace=True)"
   ]
  },
  {
   "cell_type": "code",
   "execution_count": 146,
   "metadata": {},
   "outputs": [],
   "source": [
    "chartevents_df.to_csv(sythetic_sets_path + \"chartevents.csv\", index=None)"
   ]
  },
  {
   "cell_type": "markdown",
   "metadata": {},
   "source": [
    "### CPTevents"
   ]
  },
  {
   "cell_type": "code",
   "execution_count": 147,
   "metadata": {},
   "outputs": [],
   "source": [
    "cptevents_icu_df = cptevents_df.loc[cptevents_df['costcenter'] == 'ICU']\n",
    "cptevents_resp_df = cptevents_df.loc[cptevents_df['costcenter'] == 'Resp']"
   ]
  },
  {
   "cell_type": "code",
   "execution_count": 148,
   "metadata": {},
   "outputs": [],
   "source": [
    "icu_hadm_ids_df = hadm_ids_df.sample(frac=0.8, axis=0)\n",
    "resp_hadm_ids_df = hadm_ids_df[~hadm_ids_df.index.isin(icu_hadm_ids_df.index)]"
   ]
  },
  {
   "cell_type": "code",
   "execution_count": 149,
   "metadata": {},
   "outputs": [
    {
     "data": {
      "text/plain": [
       "130"
      ]
     },
     "execution_count": 149,
     "metadata": {},
     "output_type": "execute_result"
    }
   ],
   "source": [
    "len(hadm_ids_df)"
   ]
  },
  {
   "cell_type": "code",
   "execution_count": 150,
   "metadata": {},
   "outputs": [],
   "source": [
    "cptevents_icu_df = pd.concat([icu_hadm_ids_df.sample(n=len(cptevents_icu_df), replace=True, axis=0).reset_index(drop=True), cptevents_icu_df.reset_index(drop=True)], axis=1)\n",
    "cptevents_resp_df = pd.concat([resp_hadm_ids_df.sample(n=len(cptevents_resp_df), replace=True, axis=0).reset_index(drop=True), cptevents_resp_df.reset_index(drop=True)], axis=1)"
   ]
  },
  {
   "cell_type": "code",
   "execution_count": 151,
   "metadata": {},
   "outputs": [],
   "source": [
    "cptevents_df = pd.concat([cptevents_icu_df, cptevents_resp_df], axis=0, ignore_index=True)"
   ]
  },
  {
   "cell_type": "code",
   "execution_count": 152,
   "metadata": {},
   "outputs": [],
   "source": [
    "cptevents_df = cptevents_df.sort_values(['subject_id', 'hadm_id']).drop(['admittime'], axis=1)"
   ]
  },
  {
   "cell_type": "markdown",
   "metadata": {},
   "source": [
    "### Labevents"
   ]
  },
  {
   "cell_type": "code",
   "execution_count": 156,
   "metadata": {},
   "outputs": [],
   "source": [
    "labevents_df['value'] = chartevents_df.apply(format_numeric_values, axis=1)"
   ]
  },
  {
   "cell_type": "code",
   "execution_count": 157,
   "metadata": {},
   "outputs": [],
   "source": [
    "# Add 'subject_id', 'hadm_id' to icustays_df\n",
    "labevents_df = pd.concat([hadm_ids_df.sample(n=len(labevents_df), replace=True, axis=0).reset_index(drop=True), labevents_df], axis=1)"
   ]
  },
  {
   "cell_type": "code",
   "execution_count": 158,
   "metadata": {},
   "outputs": [],
   "source": [
    "labevents_df['charttime'] = labevents_df.apply(reset_time, args=('admittime', 'charttime'), axis=1)"
   ]
  },
  {
   "cell_type": "code",
   "execution_count": 159,
   "metadata": {},
   "outputs": [],
   "source": [
    "labevents_df.drop(['admittime'], axis=1, inplace=True)"
   ]
  },
  {
   "cell_type": "code",
   "execution_count": 162,
   "metadata": {},
   "outputs": [],
   "source": [
    "labevents_df.to_csv(sythetic_sets_path + \"labevents_df.csv\", index=None)"
   ]
  },
  {
   "cell_type": "markdown",
   "metadata": {},
   "source": [
    "### microbiologyevents"
   ]
  },
  {
   "cell_type": "code",
   "execution_count": null,
   "metadata": {},
   "outputs": [],
   "source": [
    "microbiologyevents_df['value'] = microbiologyevents_df.apply(format_numeric_values, axis=1)"
   ]
  },
  {
   "cell_type": "code",
   "execution_count": null,
   "metadata": {},
   "outputs": [],
   "source": [
    "# Add 'subject_id', 'hadm_id' to icustays_df\n",
    "microbiologyevents_df = pd.concat([hadm_ids_df.sample(n=len(microbiologyevents_df), replace=True, axis=0).reset_index(drop=True), microbiologyevents_df], axis=1)"
   ]
  },
  {
   "cell_type": "code",
   "execution_count": null,
   "metadata": {},
   "outputs": [],
   "source": [
    "microbiologyevents_df['charttime'] = microbiologyevents_df.apply(reset_time, args=('admittime', 'charttime'), axis=1)"
   ]
  },
  {
   "cell_type": "code",
   "execution_count": null,
   "metadata": {},
   "outputs": [],
   "source": [
    "microbiologyevents_df.drop(['admittime'], axis=1, inplace=True)"
   ]
  },
  {
   "cell_type": "code",
   "execution_count": null,
   "metadata": {},
   "outputs": [],
   "source": [
    "microbiologyevents_df.to_csv(sythetic_sets_path + \"microbiologyevents_df.csv\", index=None)"
   ]
  },
  {
   "cell_type": "markdown",
   "metadata": {},
   "source": [
    "### outputevents"
   ]
  },
  {
   "cell_type": "code",
   "execution_count": null,
   "metadata": {},
   "outputs": [],
   "source": [
    "outputevents_df['value'] = outputevents_df.apply(format_numeric_values, axis=1)"
   ]
  },
  {
   "cell_type": "code",
   "execution_count": null,
   "metadata": {},
   "outputs": [],
   "source": [
    "# Add 'subject_id', 'hadm_id' to icustays_df\n",
    "outputevents_df = pd.concat([hadm_ids_df.sample(n=len(outputevents_df), replace=True, axis=0).reset_index(drop=True), outputevents_df], axis=1)"
   ]
  },
  {
   "cell_type": "code",
   "execution_count": null,
   "metadata": {},
   "outputs": [],
   "source": [
    "outputevents_df['charttime'] = outputevents_df.apply(reset_time, args=('admittime', 'charttime'), axis=1)"
   ]
  },
  {
   "cell_type": "code",
   "execution_count": null,
   "metadata": {},
   "outputs": [],
   "source": [
    "outputevents_df.drop(['admittime'], axis=1, inplace=True)"
   ]
  },
  {
   "cell_type": "code",
   "execution_count": null,
   "metadata": {},
   "outputs": [],
   "source": [
    "outputevents_df.to_csv(sythetic_sets_path + \"outputevents_df.csv\", index=None)"
   ]
  },
  {
   "cell_type": "markdown",
   "metadata": {},
   "source": [
    "### procedureevents"
   ]
  },
  {
   "cell_type": "code",
   "execution_count": null,
   "metadata": {},
   "outputs": [],
   "source": [
    "procedureevents_df['value'] = procedureevents_df.apply(format_numeric_values, axis=1)"
   ]
  },
  {
   "cell_type": "code",
   "execution_count": null,
   "metadata": {},
   "outputs": [],
   "source": [
    "# Add 'subject_id', 'hadm_id' to icustays_df\n",
    "procedureevents_df = pd.concat([hadm_ids_df.sample(n=len(procedureevents_df), replace=True, axis=0).reset_index(drop=True), outputevents_df], axis=1)"
   ]
  },
  {
   "cell_type": "code",
   "execution_count": null,
   "metadata": {},
   "outputs": [],
   "source": [
    "procedureevents_df['charttime'] = procedureevents_df.apply(reset_time, args=('admittime', 'charttime'), axis=1)"
   ]
  },
  {
   "cell_type": "code",
   "execution_count": null,
   "metadata": {},
   "outputs": [],
   "source": [
    "procedureevents_df.drop(['admittime'], axis=1, inplace=True)"
   ]
  },
  {
   "cell_type": "code",
   "execution_count": null,
   "metadata": {},
   "outputs": [],
   "source": [
    "procedureevents_df.to_csv(sythetic_sets_path + \"procedureevents_df.csv\", index=None)"
   ]
  },
  {
   "cell_type": "code",
   "execution_count": null,
   "metadata": {},
   "outputs": [],
   "source": []
  }
 ],
 "metadata": {
  "kernelspec": {
   "display_name": "Python 3.8.13 ('msc_project')",
   "language": "python",
   "name": "python3"
  },
  "language_info": {
   "codemirror_mode": {
    "name": "ipython",
    "version": 3
   },
   "file_extension": ".py",
   "mimetype": "text/x-python",
   "name": "python",
   "nbconvert_exporter": "python",
   "pygments_lexer": "ipython3",
   "version": "3.8.13"
  },
  "orig_nbformat": 4,
  "vscode": {
   "interpreter": {
    "hash": "e56015fb566b08f7af163d42c82cf08fa5d6db3fbaaffa0afaaff5a893fc0496"
   }
  }
 },
 "nbformat": 4,
 "nbformat_minor": 2
}
