{
 "cells": [
  {
   "cell_type": "code",
   "execution_count": 1,
   "metadata": {},
   "outputs": [],
   "source": [
    "import pandas as pd"
   ]
  },
  {
   "cell_type": "code",
   "execution_count": 2,
   "metadata": {},
   "outputs": [],
   "source": [
    "# file_path = \"F:\\\\MSc Project\\\\MIMIC III Datasets\\\\\""
   ]
  },
  {
   "cell_type": "code",
   "execution_count": null,
   "metadata": {},
   "outputs": [],
   "source": [
    "file_path = \"F:\\\\MSc Project\\\\temp_sets\\\\\""
   ]
  },
  {
   "cell_type": "code",
   "execution_count": 3,
   "metadata": {},
   "outputs": [],
   "source": [
    "chartevents_df_it = pd.read_csv(file_path + \"CHARTEVENTS_random_sample.csv\", chunksize=100000)"
   ]
  },
  {
   "cell_type": "code",
   "execution_count": 4,
   "metadata": {},
   "outputs": [
    {
     "name": "stdout",
     "output_type": "stream",
     "text": [
      "0\n"
     ]
    },
    {
     "name": "stderr",
     "output_type": "stream",
     "text": [
      "C:\\Users\\Zhang\\AppData\\Local\\Temp\\ipykernel_12852\\2436975901.py:1: DtypeWarning: Columns (14) have mixed types. Specify dtype option on import or set low_memory=False.\n",
      "  for i, part_df in enumerate(chartevents_df_it):\n",
      "C:\\Users\\Zhang\\AppData\\Local\\Temp\\ipykernel_12852\\2436975901.py:1: DtypeWarning: Columns (14) have mixed types. Specify dtype option on import or set low_memory=False.\n",
      "  for i, part_df in enumerate(chartevents_df_it):\n"
     ]
    },
    {
     "name": "stdout",
     "output_type": "stream",
     "text": [
      "100000\n",
      "200000\n"
     ]
    },
    {
     "name": "stderr",
     "output_type": "stream",
     "text": [
      "C:\\Users\\Zhang\\AppData\\Local\\Temp\\ipykernel_12852\\2436975901.py:1: DtypeWarning: Columns (11,14,15) have mixed types. Specify dtype option on import or set low_memory=False.\n",
      "  for i, part_df in enumerate(chartevents_df_it):\n",
      "C:\\Users\\Zhang\\AppData\\Local\\Temp\\ipykernel_12852\\2436975901.py:1: DtypeWarning: Columns (14) have mixed types. Specify dtype option on import or set low_memory=False.\n",
      "  for i, part_df in enumerate(chartevents_df_it):\n"
     ]
    },
    {
     "name": "stdout",
     "output_type": "stream",
     "text": [
      "300000\n",
      "400000\n"
     ]
    },
    {
     "name": "stderr",
     "output_type": "stream",
     "text": [
      "C:\\Users\\Zhang\\AppData\\Local\\Temp\\ipykernel_12852\\2436975901.py:1: DtypeWarning: Columns (14,15) have mixed types. Specify dtype option on import or set low_memory=False.\n",
      "  for i, part_df in enumerate(chartevents_df_it):\n",
      "C:\\Users\\Zhang\\AppData\\Local\\Temp\\ipykernel_12852\\2436975901.py:1: DtypeWarning: Columns (14) have mixed types. Specify dtype option on import or set low_memory=False.\n",
      "  for i, part_df in enumerate(chartevents_df_it):\n"
     ]
    },
    {
     "name": "stdout",
     "output_type": "stream",
     "text": [
      "500000\n",
      "600000\n"
     ]
    },
    {
     "name": "stderr",
     "output_type": "stream",
     "text": [
      "C:\\Users\\Zhang\\AppData\\Local\\Temp\\ipykernel_12852\\2436975901.py:1: DtypeWarning: Columns (14) have mixed types. Specify dtype option on import or set low_memory=False.\n",
      "  for i, part_df in enumerate(chartevents_df_it):\n",
      "C:\\Users\\Zhang\\AppData\\Local\\Temp\\ipykernel_12852\\2436975901.py:1: DtypeWarning: Columns (14,15) have mixed types. Specify dtype option on import or set low_memory=False.\n",
      "  for i, part_df in enumerate(chartevents_df_it):\n"
     ]
    },
    {
     "name": "stdout",
     "output_type": "stream",
     "text": [
      "700000\n",
      "800000\n"
     ]
    },
    {
     "name": "stderr",
     "output_type": "stream",
     "text": [
      "C:\\Users\\Zhang\\AppData\\Local\\Temp\\ipykernel_12852\\2436975901.py:1: DtypeWarning: Columns (14,15) have mixed types. Specify dtype option on import or set low_memory=False.\n",
      "  for i, part_df in enumerate(chartevents_df_it):\n",
      "C:\\Users\\Zhang\\AppData\\Local\\Temp\\ipykernel_12852\\2436975901.py:1: DtypeWarning: Columns (14) have mixed types. Specify dtype option on import or set low_memory=False.\n",
      "  for i, part_df in enumerate(chartevents_df_it):\n"
     ]
    },
    {
     "name": "stdout",
     "output_type": "stream",
     "text": [
      "900000\n",
      "1000000\n"
     ]
    },
    {
     "name": "stderr",
     "output_type": "stream",
     "text": [
      "C:\\Users\\Zhang\\AppData\\Local\\Temp\\ipykernel_12852\\2436975901.py:1: DtypeWarning: Columns (14,15) have mixed types. Specify dtype option on import or set low_memory=False.\n",
      "  for i, part_df in enumerate(chartevents_df_it):\n",
      "C:\\Users\\Zhang\\AppData\\Local\\Temp\\ipykernel_12852\\2436975901.py:1: DtypeWarning: Columns (14) have mixed types. Specify dtype option on import or set low_memory=False.\n",
      "  for i, part_df in enumerate(chartevents_df_it):\n"
     ]
    },
    {
     "name": "stdout",
     "output_type": "stream",
     "text": [
      "1100000\n",
      "1200000\n",
      "1300000\n"
     ]
    },
    {
     "name": "stderr",
     "output_type": "stream",
     "text": [
      "C:\\Users\\Zhang\\AppData\\Local\\Temp\\ipykernel_12852\\2436975901.py:1: DtypeWarning: Columns (14) have mixed types. Specify dtype option on import or set low_memory=False.\n",
      "  for i, part_df in enumerate(chartevents_df_it):\n"
     ]
    },
    {
     "name": "stdout",
     "output_type": "stream",
     "text": [
      "1400000\n",
      "1500000\n"
     ]
    },
    {
     "name": "stderr",
     "output_type": "stream",
     "text": [
      "C:\\Users\\Zhang\\AppData\\Local\\Temp\\ipykernel_12852\\2436975901.py:1: DtypeWarning: Columns (14,15) have mixed types. Specify dtype option on import or set low_memory=False.\n",
      "  for i, part_df in enumerate(chartevents_df_it):\n"
     ]
    },
    {
     "name": "stdout",
     "output_type": "stream",
     "text": [
      "1600000\n",
      "1700000\n"
     ]
    },
    {
     "name": "stderr",
     "output_type": "stream",
     "text": [
      "C:\\Users\\Zhang\\AppData\\Local\\Temp\\ipykernel_12852\\2436975901.py:1: DtypeWarning: Columns (14) have mixed types. Specify dtype option on import or set low_memory=False.\n",
      "  for i, part_df in enumerate(chartevents_df_it):\n",
      "C:\\Users\\Zhang\\AppData\\Local\\Temp\\ipykernel_12852\\2436975901.py:1: DtypeWarning: Columns (14,15) have mixed types. Specify dtype option on import or set low_memory=False.\n",
      "  for i, part_df in enumerate(chartevents_df_it):\n"
     ]
    },
    {
     "name": "stdout",
     "output_type": "stream",
     "text": [
      "1800000\n",
      "1900000\n"
     ]
    },
    {
     "name": "stderr",
     "output_type": "stream",
     "text": [
      "C:\\Users\\Zhang\\AppData\\Local\\Temp\\ipykernel_12852\\2436975901.py:1: DtypeWarning: Columns (11,14,15) have mixed types. Specify dtype option on import or set low_memory=False.\n",
      "  for i, part_df in enumerate(chartevents_df_it):\n",
      "C:\\Users\\Zhang\\AppData\\Local\\Temp\\ipykernel_12852\\2436975901.py:1: DtypeWarning: Columns (14,15) have mixed types. Specify dtype option on import or set low_memory=False.\n",
      "  for i, part_df in enumerate(chartevents_df_it):\n"
     ]
    },
    {
     "name": "stdout",
     "output_type": "stream",
     "text": [
      "2000000\n",
      "2100000\n"
     ]
    },
    {
     "name": "stderr",
     "output_type": "stream",
     "text": [
      "C:\\Users\\Zhang\\AppData\\Local\\Temp\\ipykernel_12852\\2436975901.py:1: DtypeWarning: Columns (14) have mixed types. Specify dtype option on import or set low_memory=False.\n",
      "  for i, part_df in enumerate(chartevents_df_it):\n"
     ]
    },
    {
     "name": "stdout",
     "output_type": "stream",
     "text": [
      "2200000\n",
      "2300000\n",
      "2400000\n"
     ]
    },
    {
     "name": "stderr",
     "output_type": "stream",
     "text": [
      "C:\\Users\\Zhang\\AppData\\Local\\Temp\\ipykernel_12852\\2436975901.py:1: DtypeWarning: Columns (14) have mixed types. Specify dtype option on import or set low_memory=False.\n",
      "  for i, part_df in enumerate(chartevents_df_it):\n"
     ]
    },
    {
     "name": "stdout",
     "output_type": "stream",
     "text": [
      "2500000\n",
      "2600000\n"
     ]
    },
    {
     "name": "stderr",
     "output_type": "stream",
     "text": [
      "C:\\Users\\Zhang\\AppData\\Local\\Temp\\ipykernel_12852\\2436975901.py:1: DtypeWarning: Columns (14) have mixed types. Specify dtype option on import or set low_memory=False.\n",
      "  for i, part_df in enumerate(chartevents_df_it):\n",
      "C:\\Users\\Zhang\\AppData\\Local\\Temp\\ipykernel_12852\\2436975901.py:1: DtypeWarning: Columns (14) have mixed types. Specify dtype option on import or set low_memory=False.\n",
      "  for i, part_df in enumerate(chartevents_df_it):\n"
     ]
    },
    {
     "name": "stdout",
     "output_type": "stream",
     "text": [
      "2700000\n",
      "2800000\n"
     ]
    },
    {
     "name": "stderr",
     "output_type": "stream",
     "text": [
      "C:\\Users\\Zhang\\AppData\\Local\\Temp\\ipykernel_12852\\2436975901.py:1: DtypeWarning: Columns (14,15) have mixed types. Specify dtype option on import or set low_memory=False.\n",
      "  for i, part_df in enumerate(chartevents_df_it):\n"
     ]
    },
    {
     "name": "stdout",
     "output_type": "stream",
     "text": [
      "2900000\n",
      "3000000\n"
     ]
    },
    {
     "name": "stderr",
     "output_type": "stream",
     "text": [
      "C:\\Users\\Zhang\\AppData\\Local\\Temp\\ipykernel_12852\\2436975901.py:1: DtypeWarning: Columns (14) have mixed types. Specify dtype option on import or set low_memory=False.\n",
      "  for i, part_df in enumerate(chartevents_df_it):\n",
      "C:\\Users\\Zhang\\AppData\\Local\\Temp\\ipykernel_12852\\2436975901.py:1: DtypeWarning: Columns (11,14,15) have mixed types. Specify dtype option on import or set low_memory=False.\n",
      "  for i, part_df in enumerate(chartevents_df_it):\n"
     ]
    },
    {
     "name": "stdout",
     "output_type": "stream",
     "text": [
      "3100000\n",
      "3200000\n"
     ]
    },
    {
     "name": "stderr",
     "output_type": "stream",
     "text": [
      "C:\\Users\\Zhang\\AppData\\Local\\Temp\\ipykernel_12852\\2436975901.py:1: DtypeWarning: Columns (14) have mixed types. Specify dtype option on import or set low_memory=False.\n",
      "  for i, part_df in enumerate(chartevents_df_it):\n"
     ]
    },
    {
     "name": "stdout",
     "output_type": "stream",
     "text": [
      "3300000\n",
      "3400000\n"
     ]
    },
    {
     "name": "stderr",
     "output_type": "stream",
     "text": [
      "C:\\Users\\Zhang\\AppData\\Local\\Temp\\ipykernel_12852\\2436975901.py:1: DtypeWarning: Columns (14) have mixed types. Specify dtype option on import or set low_memory=False.\n",
      "  for i, part_df in enumerate(chartevents_df_it):\n",
      "C:\\Users\\Zhang\\AppData\\Local\\Temp\\ipykernel_12852\\2436975901.py:1: DtypeWarning: Columns (11,14,15) have mixed types. Specify dtype option on import or set low_memory=False.\n",
      "  for i, part_df in enumerate(chartevents_df_it):\n"
     ]
    },
    {
     "name": "stdout",
     "output_type": "stream",
     "text": [
      "3500000\n",
      "3600000\n",
      "3700000\n"
     ]
    },
    {
     "name": "stderr",
     "output_type": "stream",
     "text": [
      "C:\\Users\\Zhang\\AppData\\Local\\Temp\\ipykernel_12852\\2436975901.py:1: DtypeWarning: Columns (14) have mixed types. Specify dtype option on import or set low_memory=False.\n",
      "  for i, part_df in enumerate(chartevents_df_it):\n",
      "C:\\Users\\Zhang\\AppData\\Local\\Temp\\ipykernel_12852\\2436975901.py:1: DtypeWarning: Columns (11,14,15) have mixed types. Specify dtype option on import or set low_memory=False.\n",
      "  for i, part_df in enumerate(chartevents_df_it):\n"
     ]
    },
    {
     "name": "stdout",
     "output_type": "stream",
     "text": [
      "3800000\n",
      "3900000\n"
     ]
    },
    {
     "name": "stderr",
     "output_type": "stream",
     "text": [
      "C:\\Users\\Zhang\\AppData\\Local\\Temp\\ipykernel_12852\\2436975901.py:1: DtypeWarning: Columns (14,15) have mixed types. Specify dtype option on import or set low_memory=False.\n",
      "  for i, part_df in enumerate(chartevents_df_it):\n",
      "C:\\Users\\Zhang\\AppData\\Local\\Temp\\ipykernel_12852\\2436975901.py:1: DtypeWarning: Columns (11,14,15) have mixed types. Specify dtype option on import or set low_memory=False.\n",
      "  for i, part_df in enumerate(chartevents_df_it):\n"
     ]
    },
    {
     "name": "stdout",
     "output_type": "stream",
     "text": [
      "4000000\n",
      "4100000\n"
     ]
    },
    {
     "name": "stderr",
     "output_type": "stream",
     "text": [
      "C:\\Users\\Zhang\\AppData\\Local\\Temp\\ipykernel_12852\\2436975901.py:1: DtypeWarning: Columns (14,15) have mixed types. Specify dtype option on import or set low_memory=False.\n",
      "  for i, part_df in enumerate(chartevents_df_it):\n",
      "C:\\Users\\Zhang\\AppData\\Local\\Temp\\ipykernel_12852\\2436975901.py:1: DtypeWarning: Columns (14) have mixed types. Specify dtype option on import or set low_memory=False.\n",
      "  for i, part_df in enumerate(chartevents_df_it):\n"
     ]
    },
    {
     "name": "stdout",
     "output_type": "stream",
     "text": [
      "4200000\n",
      "4300000\n",
      "4400000\n"
     ]
    },
    {
     "name": "stderr",
     "output_type": "stream",
     "text": [
      "C:\\Users\\Zhang\\AppData\\Local\\Temp\\ipykernel_12852\\2436975901.py:1: DtypeWarning: Columns (14,15) have mixed types. Specify dtype option on import or set low_memory=False.\n",
      "  for i, part_df in enumerate(chartevents_df_it):\n",
      "C:\\Users\\Zhang\\AppData\\Local\\Temp\\ipykernel_12852\\2436975901.py:1: DtypeWarning: Columns (14,15) have mixed types. Specify dtype option on import or set low_memory=False.\n",
      "  for i, part_df in enumerate(chartevents_df_it):\n"
     ]
    },
    {
     "name": "stdout",
     "output_type": "stream",
     "text": [
      "4500000\n",
      "4600000\n"
     ]
    },
    {
     "name": "stderr",
     "output_type": "stream",
     "text": [
      "C:\\Users\\Zhang\\AppData\\Local\\Temp\\ipykernel_12852\\2436975901.py:1: DtypeWarning: Columns (14) have mixed types. Specify dtype option on import or set low_memory=False.\n",
      "  for i, part_df in enumerate(chartevents_df_it):\n",
      "C:\\Users\\Zhang\\AppData\\Local\\Temp\\ipykernel_12852\\2436975901.py:1: DtypeWarning: Columns (11,14,15) have mixed types. Specify dtype option on import or set low_memory=False.\n",
      "  for i, part_df in enumerate(chartevents_df_it):\n"
     ]
    },
    {
     "name": "stdout",
     "output_type": "stream",
     "text": [
      "4700000\n",
      "4800000\n"
     ]
    },
    {
     "name": "stderr",
     "output_type": "stream",
     "text": [
      "C:\\Users\\Zhang\\AppData\\Local\\Temp\\ipykernel_12852\\2436975901.py:1: DtypeWarning: Columns (14) have mixed types. Specify dtype option on import or set low_memory=False.\n",
      "  for i, part_df in enumerate(chartevents_df_it):\n",
      "C:\\Users\\Zhang\\AppData\\Local\\Temp\\ipykernel_12852\\2436975901.py:1: DtypeWarning: Columns (14,15) have mixed types. Specify dtype option on import or set low_memory=False.\n",
      "  for i, part_df in enumerate(chartevents_df_it):\n"
     ]
    },
    {
     "name": "stdout",
     "output_type": "stream",
     "text": [
      "4900000\n",
      "5000000\n"
     ]
    },
    {
     "name": "stderr",
     "output_type": "stream",
     "text": [
      "C:\\Users\\Zhang\\AppData\\Local\\Temp\\ipykernel_12852\\2436975901.py:1: DtypeWarning: Columns (14,15) have mixed types. Specify dtype option on import or set low_memory=False.\n",
      "  for i, part_df in enumerate(chartevents_df_it):\n"
     ]
    },
    {
     "name": "stdout",
     "output_type": "stream",
     "text": [
      "5100000\n",
      "5200000\n"
     ]
    },
    {
     "name": "stderr",
     "output_type": "stream",
     "text": [
      "C:\\Users\\Zhang\\AppData\\Local\\Temp\\ipykernel_12852\\2436975901.py:1: DtypeWarning: Columns (14) have mixed types. Specify dtype option on import or set low_memory=False.\n",
      "  for i, part_df in enumerate(chartevents_df_it):\n",
      "C:\\Users\\Zhang\\AppData\\Local\\Temp\\ipykernel_12852\\2436975901.py:1: DtypeWarning: Columns (14) have mixed types. Specify dtype option on import or set low_memory=False.\n",
      "  for i, part_df in enumerate(chartevents_df_it):\n"
     ]
    },
    {
     "name": "stdout",
     "output_type": "stream",
     "text": [
      "5300000\n",
      "5400000\n"
     ]
    },
    {
     "name": "stderr",
     "output_type": "stream",
     "text": [
      "C:\\Users\\Zhang\\AppData\\Local\\Temp\\ipykernel_12852\\2436975901.py:1: DtypeWarning: Columns (14,15) have mixed types. Specify dtype option on import or set low_memory=False.\n",
      "  for i, part_df in enumerate(chartevents_df_it):\n"
     ]
    },
    {
     "name": "stdout",
     "output_type": "stream",
     "text": [
      "5500000\n",
      "5600000\n"
     ]
    },
    {
     "name": "stderr",
     "output_type": "stream",
     "text": [
      "C:\\Users\\Zhang\\AppData\\Local\\Temp\\ipykernel_12852\\2436975901.py:1: DtypeWarning: Columns (14) have mixed types. Specify dtype option on import or set low_memory=False.\n",
      "  for i, part_df in enumerate(chartevents_df_it):\n"
     ]
    },
    {
     "name": "stdout",
     "output_type": "stream",
     "text": [
      "5700000\n",
      "5800000\n",
      "5900000\n",
      "6000000\n"
     ]
    },
    {
     "name": "stderr",
     "output_type": "stream",
     "text": [
      "C:\\Users\\Zhang\\AppData\\Local\\Temp\\ipykernel_12852\\2436975901.py:1: DtypeWarning: Columns (14,15) have mixed types. Specify dtype option on import or set low_memory=False.\n",
      "  for i, part_df in enumerate(chartevents_df_it):\n",
      "C:\\Users\\Zhang\\AppData\\Local\\Temp\\ipykernel_12852\\2436975901.py:1: DtypeWarning: Columns (14) have mixed types. Specify dtype option on import or set low_memory=False.\n",
      "  for i, part_df in enumerate(chartevents_df_it):\n"
     ]
    },
    {
     "name": "stdout",
     "output_type": "stream",
     "text": [
      "6100000\n",
      "6200000\n"
     ]
    },
    {
     "name": "stderr",
     "output_type": "stream",
     "text": [
      "C:\\Users\\Zhang\\AppData\\Local\\Temp\\ipykernel_12852\\2436975901.py:1: DtypeWarning: Columns (14) have mixed types. Specify dtype option on import or set low_memory=False.\n",
      "  for i, part_df in enumerate(chartevents_df_it):\n",
      "C:\\Users\\Zhang\\AppData\\Local\\Temp\\ipykernel_12852\\2436975901.py:1: DtypeWarning: Columns (14) have mixed types. Specify dtype option on import or set low_memory=False.\n",
      "  for i, part_df in enumerate(chartevents_df_it):\n"
     ]
    },
    {
     "name": "stdout",
     "output_type": "stream",
     "text": [
      "6300000\n",
      "6400000\n"
     ]
    },
    {
     "name": "stderr",
     "output_type": "stream",
     "text": [
      "C:\\Users\\Zhang\\AppData\\Local\\Temp\\ipykernel_12852\\2436975901.py:1: DtypeWarning: Columns (9,14,15) have mixed types. Specify dtype option on import or set low_memory=False.\n",
      "  for i, part_df in enumerate(chartevents_df_it):\n",
      "C:\\Users\\Zhang\\AppData\\Local\\Temp\\ipykernel_12852\\2436975901.py:1: DtypeWarning: Columns (14,15) have mixed types. Specify dtype option on import or set low_memory=False.\n",
      "  for i, part_df in enumerate(chartevents_df_it):\n"
     ]
    },
    {
     "name": "stdout",
     "output_type": "stream",
     "text": [
      "6500000\n",
      "6600000\n"
     ]
    },
    {
     "name": "stderr",
     "output_type": "stream",
     "text": [
      "C:\\Users\\Zhang\\AppData\\Local\\Temp\\ipykernel_12852\\2436975901.py:1: DtypeWarning: Columns (14) have mixed types. Specify dtype option on import or set low_memory=False.\n",
      "  for i, part_df in enumerate(chartevents_df_it):\n",
      "C:\\Users\\Zhang\\AppData\\Local\\Temp\\ipykernel_12852\\2436975901.py:1: DtypeWarning: Columns (14) have mixed types. Specify dtype option on import or set low_memory=False.\n",
      "  for i, part_df in enumerate(chartevents_df_it):\n"
     ]
    },
    {
     "name": "stdout",
     "output_type": "stream",
     "text": [
      "6700000\n",
      "6800000\n"
     ]
    },
    {
     "name": "stderr",
     "output_type": "stream",
     "text": [
      "C:\\Users\\Zhang\\AppData\\Local\\Temp\\ipykernel_12852\\2436975901.py:1: DtypeWarning: Columns (14) have mixed types. Specify dtype option on import or set low_memory=False.\n",
      "  for i, part_df in enumerate(chartevents_df_it):\n",
      "C:\\Users\\Zhang\\AppData\\Local\\Temp\\ipykernel_12852\\2436975901.py:1: DtypeWarning: Columns (14,15) have mixed types. Specify dtype option on import or set low_memory=False.\n",
      "  for i, part_df in enumerate(chartevents_df_it):\n"
     ]
    },
    {
     "name": "stdout",
     "output_type": "stream",
     "text": [
      "6900000\n",
      "7000000\n"
     ]
    },
    {
     "name": "stderr",
     "output_type": "stream",
     "text": [
      "C:\\Users\\Zhang\\AppData\\Local\\Temp\\ipykernel_12852\\2436975901.py:1: DtypeWarning: Columns (14) have mixed types. Specify dtype option on import or set low_memory=False.\n",
      "  for i, part_df in enumerate(chartevents_df_it):\n",
      "C:\\Users\\Zhang\\AppData\\Local\\Temp\\ipykernel_12852\\2436975901.py:1: DtypeWarning: Columns (9,14,15) have mixed types. Specify dtype option on import or set low_memory=False.\n",
      "  for i, part_df in enumerate(chartevents_df_it):\n"
     ]
    },
    {
     "name": "stdout",
     "output_type": "stream",
     "text": [
      "7100000\n",
      "7200000\n",
      "7300000\n"
     ]
    },
    {
     "name": "stderr",
     "output_type": "stream",
     "text": [
      "C:\\Users\\Zhang\\AppData\\Local\\Temp\\ipykernel_12852\\2436975901.py:1: DtypeWarning: Columns (9,14,15) have mixed types. Specify dtype option on import or set low_memory=False.\n",
      "  for i, part_df in enumerate(chartevents_df_it):\n"
     ]
    }
   ],
   "source": [
    "for i, part_df in enumerate(chartevents_df_it):\n",
    "    sample_df = part_df.sample(frac=0.05, replace=False, weights=None, random_state=None, axis=None)\n",
    "    if i == 0:\n",
    "        sample_df.to_csv(file_path + \"CHARTEVENTS_random_sample_1.csv\", mode='w')\n",
    "    else:\n",
    "        sample_df.to_csv(file_path + \"CHARTEVENTS_random_sample_1.csv\", mode='a', header=False)\n",
    "    \n",
    "    print(i*100000)\n"
   ]
  },
  {
   "cell_type": "code",
   "execution_count": null,
   "metadata": {},
   "outputs": [],
   "source": []
  }
 ],
 "metadata": {
  "kernelspec": {
   "display_name": "Python 3.8.13 ('msc_project')",
   "language": "python",
   "name": "python3"
  },
  "language_info": {
   "codemirror_mode": {
    "name": "ipython",
    "version": 3
   },
   "file_extension": ".py",
   "mimetype": "text/x-python",
   "name": "python",
   "nbconvert_exporter": "python",
   "pygments_lexer": "ipython3",
   "version": "3.8.13"
  },
  "orig_nbformat": 4,
  "vscode": {
   "interpreter": {
    "hash": "e56015fb566b08f7af163d42c82cf08fa5d6db3fbaaffa0afaaff5a893fc0496"
   }
  }
 },
 "nbformat": 4,
 "nbformat_minor": 2
}
