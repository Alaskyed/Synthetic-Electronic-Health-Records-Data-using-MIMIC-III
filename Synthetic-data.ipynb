{
 "cells": [
  {
   "cell_type": "code",
   "execution_count": 171,
   "metadata": {},
   "outputs": [],
   "source": [
    "import pandas as pd\n",
    "import numpy as np\n",
    "import cloudpickle"
   ]
  },
  {
   "cell_type": "markdown",
   "metadata": {},
   "source": [
    "## Load models"
   ]
  },
  {
   "cell_type": "code",
   "execution_count": 172,
   "metadata": {},
   "outputs": [],
   "source": [
    "model_path = \"../temp_sets_100/100_models/\""
   ]
  },
  {
   "cell_type": "code",
   "execution_count": 173,
   "metadata": {},
   "outputs": [],
   "source": [
    "with open(model_path + 'patients_model.pkl', 'rb') as f:\n",
    "    patients_model = cloudpickle.load(f)"
   ]
  },
  {
   "cell_type": "code",
   "execution_count": 174,
   "metadata": {},
   "outputs": [],
   "source": [
    "with open(model_path + 'admissions_model.pkl', 'rb') as f:\n",
    "    admissions_model = cloudpickle.load(f)"
   ]
  },
  {
   "cell_type": "code",
   "execution_count": 175,
   "metadata": {},
   "outputs": [],
   "source": [
    "with open(model_path + 'callout_model.pkl', 'rb') as f:\n",
    "    callout_model = cloudpickle.load(f)"
   ]
  },
  {
   "cell_type": "code",
   "execution_count": 176,
   "metadata": {},
   "outputs": [],
   "source": [
    "with open(model_path + 'icustays_model.pkl', 'rb') as f:\n",
    "    icustays_model = cloudpickle.load(f)"
   ]
  },
  {
   "cell_type": "markdown",
   "metadata": {},
   "source": [
    "---"
   ]
  },
  {
   "cell_type": "markdown",
   "metadata": {},
   "source": [
    "## Generate data"
   ]
  },
  {
   "cell_type": "code",
   "execution_count": 177,
   "metadata": {},
   "outputs": [
    {
     "name": "stderr",
     "output_type": "stream",
     "text": [
      "Sampling rows: 100%|██████████| 100/100 [00:00<00:00, 6200.83it/s]\n"
     ]
    }
   ],
   "source": [
    "patients_df = patients_model.sample(100)"
   ]
  },
  {
   "cell_type": "code",
   "execution_count": 178,
   "metadata": {},
   "outputs": [
    {
     "name": "stderr",
     "output_type": "stream",
     "text": [
      "Sampling rows: 100%|██████████| 130/130 [00:00<00:00, 648.54it/s] \n"
     ]
    }
   ],
   "source": [
    "admissions_df = admissions_model.sample(130)"
   ]
  },
  {
   "cell_type": "code",
   "execution_count": 179,
   "metadata": {},
   "outputs": [],
   "source": [
    "callout_df = callout_model.sample(80)"
   ]
  },
  {
   "cell_type": "code",
   "execution_count": 180,
   "metadata": {},
   "outputs": [],
   "source": [
    "icustays_df = icustays_model.sample(140)"
   ]
  },
  {
   "cell_type": "code",
   "execution_count": 181,
   "metadata": {},
   "outputs": [],
   "source": [
    "import random\n",
    "\n",
    "def add_subject_id(df, subject_ids, live_ids):\n",
    "\n",
    "    # No death data, \n",
    "    if pd.isna(df['deathtime']):\n",
    "        if df['index'] < (len(subject_ids) - 1):\n",
    "            return subject_ids[df['index']%(len(subject_ids) - 1)]\n",
    "        else:\n",
    "            return random.choice(subject_ids)\n",
    "    else:\n",
    "        # if match a death data, choose a patients from live list, and delete it from live list(because one person can just dead once)\n",
    "        subject_id = live_ids.pop()\n",
    "        return subject_id"
   ]
  },
  {
   "cell_type": "markdown",
   "metadata": {},
   "source": [
    "## Post-process data"
   ]
  },
  {
   "cell_type": "code",
   "execution_count": 182,
   "metadata": {},
   "outputs": [],
   "source": [
    "# Reset time data\n",
    "def reset_time(df, early_col_name, late_col_name, second_early_col_name=None):\n",
    "    '''\n",
    "    If first_early_col_name exist, then use late_col - first_early_col_name, else, use then use late_col - second_early_col_name, else set result as NaN\n",
    "    The result is the time delta, save it as the late column\n",
    "    '''\n",
    "    # print(df['hadm_id'])\n",
    "    # print(df[late_col_name])\n",
    "    # print(df[early_col_name])\n",
    "\n",
    "    if pd.isna(df[late_col_name]):\n",
    "        return pd.NaT\n",
    "    elif (pd.isna(df[late_col_name]) == False) & pd.isna(df[early_col_name]):\n",
    "        return df[second_early_col_name] + pd.Timedelta(seconds=int(df[late_col_name]))\n",
    "    else:\n",
    "        return df[early_col_name] + pd.Timedelta(seconds=int(df[late_col_name]))"
   ]
  },
  {
   "cell_type": "markdown",
   "metadata": {},
   "source": [
    "### Admissions"
   ]
  },
  {
   "cell_type": "code",
   "execution_count": 183,
   "metadata": {},
   "outputs": [],
   "source": [
    "# save the patients who don't have death record. When one patients match a death date, then delete it from the list\n",
    "live_ids = patients_df['subject_id'].tolist()\n",
    "admissions_df['subject_id'] = admissions_df.reset_index().apply(add_subject_id, args=(patients_df['subject_id'].tolist(), live_ids), axis=1)"
   ]
  },
  {
   "cell_type": "code",
   "execution_count": 184,
   "metadata": {},
   "outputs": [],
   "source": [
    "# Adjust `subject_id` position\n",
    "admissions_df.insert(0, 'subject_id', admissions_df.pop('subject_id'))\n",
    "# Change type of `subject_id`\n",
    "admissions_df['subject_id'] = admissions_df['subject_id'].astype(int)"
   ]
  },
  {
   "cell_type": "code",
   "execution_count": 185,
   "metadata": {},
   "outputs": [],
   "source": [
    "# Merge patients info and admissions info\n",
    "admissions_df = pd.merge(patients_df.loc[:, ['subject_id', 'dob']], admissions_df, how='inner', on=['subject_id'])"
   ]
  },
  {
   "cell_type": "code",
   "execution_count": 186,
   "metadata": {},
   "outputs": [],
   "source": [
    "admissions_df['admittime'] = admissions_df.apply(reset_time, args=('dob', 'admittime'), axis=1)\n",
    "admissions_df['dischtime'] = admissions_df.apply(reset_time, args=('admittime', 'dischtime'), axis=1)\n",
    "admissions_df['edregtime'] = admissions_df.apply(reset_time, args=('admittime', 'edregtime'), axis=1)\n",
    "admissions_df['edouttime'] = admissions_df.apply(reset_time, args=('edregtime', 'edouttime'), axis=1)"
   ]
  },
  {
   "cell_type": "code",
   "execution_count": 187,
   "metadata": {},
   "outputs": [],
   "source": [
    "admissions_df.drop(['dob'], axis=1, inplace=True)"
   ]
  },
  {
   "cell_type": "markdown",
   "metadata": {},
   "source": [
    "###  Callout"
   ]
  },
  {
   "cell_type": "code",
   "execution_count": 188,
   "metadata": {},
   "outputs": [
    {
     "data": {
      "text/html": [
       "<div>\n",
       "<style scoped>\n",
       "    .dataframe tbody tr th:only-of-type {\n",
       "        vertical-align: middle;\n",
       "    }\n",
       "\n",
       "    .dataframe tbody tr th {\n",
       "        vertical-align: top;\n",
       "    }\n",
       "\n",
       "    .dataframe thead th {\n",
       "        text-align: right;\n",
       "    }\n",
       "</style>\n",
       "<table border=\"1\" class=\"dataframe\">\n",
       "  <thead>\n",
       "    <tr style=\"text-align: right;\">\n",
       "      <th></th>\n",
       "      <th>submit_wardid</th>\n",
       "      <th>curr_wardid</th>\n",
       "      <th>curr_careunit</th>\n",
       "      <th>callout_wardid</th>\n",
       "      <th>callout_service</th>\n",
       "      <th>request_tele</th>\n",
       "      <th>request_resp</th>\n",
       "      <th>request_cdiff</th>\n",
       "      <th>request_mrsa</th>\n",
       "      <th>request_vre</th>\n",
       "      <th>callout_status</th>\n",
       "      <th>callout_outcome</th>\n",
       "      <th>discharge_wardid</th>\n",
       "      <th>acknowledge_status</th>\n",
       "      <th>createtime</th>\n",
       "      <th>updatetime</th>\n",
       "      <th>acknowledgetime</th>\n",
       "      <th>outcometime</th>\n",
       "    </tr>\n",
       "  </thead>\n",
       "  <tbody>\n",
       "    <tr>\n",
       "      <th>0</th>\n",
       "      <td>37</td>\n",
       "      <td>2</td>\n",
       "      <td>MICU</td>\n",
       "      <td>1</td>\n",
       "      <td>TRAUM</td>\n",
       "      <td>0</td>\n",
       "      <td>0</td>\n",
       "      <td>0</td>\n",
       "      <td>0</td>\n",
       "      <td>0</td>\n",
       "      <td>Inactive</td>\n",
       "      <td>Discharged</td>\n",
       "      <td>21.0</td>\n",
       "      <td>Acknowledged</td>\n",
       "      <td>718131.0</td>\n",
       "      <td>3846.0</td>\n",
       "      <td>6422.0</td>\n",
       "      <td>35979.0</td>\n",
       "    </tr>\n",
       "    <tr>\n",
       "      <th>1</th>\n",
       "      <td>10</td>\n",
       "      <td>37</td>\n",
       "      <td>MICU</td>\n",
       "      <td>55</td>\n",
       "      <td>MED</td>\n",
       "      <td>0</td>\n",
       "      <td>0</td>\n",
       "      <td>0</td>\n",
       "      <td>0</td>\n",
       "      <td>0</td>\n",
       "      <td>Inactive</td>\n",
       "      <td>Discharged</td>\n",
       "      <td>15.0</td>\n",
       "      <td>Acknowledged</td>\n",
       "      <td>1492046.0</td>\n",
       "      <td>4747.0</td>\n",
       "      <td>NaN</td>\n",
       "      <td>49017.0</td>\n",
       "    </tr>\n",
       "    <tr>\n",
       "      <th>2</th>\n",
       "      <td>7</td>\n",
       "      <td>24</td>\n",
       "      <td>SICU</td>\n",
       "      <td>31</td>\n",
       "      <td>SURG</td>\n",
       "      <td>1</td>\n",
       "      <td>0</td>\n",
       "      <td>0</td>\n",
       "      <td>0</td>\n",
       "      <td>0</td>\n",
       "      <td>Inactive</td>\n",
       "      <td>Discharged</td>\n",
       "      <td>24.0</td>\n",
       "      <td>Acknowledged</td>\n",
       "      <td>170205.0</td>\n",
       "      <td>12909.0</td>\n",
       "      <td>3002.0</td>\n",
       "      <td>54913.0</td>\n",
       "    </tr>\n",
       "    <tr>\n",
       "      <th>3</th>\n",
       "      <td>43</td>\n",
       "      <td>2</td>\n",
       "      <td>CSRU</td>\n",
       "      <td>23</td>\n",
       "      <td>NSURG</td>\n",
       "      <td>1</td>\n",
       "      <td>0</td>\n",
       "      <td>0</td>\n",
       "      <td>0</td>\n",
       "      <td>0</td>\n",
       "      <td>Inactive</td>\n",
       "      <td>Discharged</td>\n",
       "      <td>40.0</td>\n",
       "      <td>Acknowledged</td>\n",
       "      <td>90691.0</td>\n",
       "      <td>11819.0</td>\n",
       "      <td>48765.0</td>\n",
       "      <td>31978.0</td>\n",
       "    </tr>\n",
       "    <tr>\n",
       "      <th>4</th>\n",
       "      <td>40</td>\n",
       "      <td>15</td>\n",
       "      <td>SICU</td>\n",
       "      <td>33</td>\n",
       "      <td>MED</td>\n",
       "      <td>1</td>\n",
       "      <td>0</td>\n",
       "      <td>0</td>\n",
       "      <td>0</td>\n",
       "      <td>0</td>\n",
       "      <td>Inactive</td>\n",
       "      <td>Cancelled</td>\n",
       "      <td>28.0</td>\n",
       "      <td>Acknowledged</td>\n",
       "      <td>631033.0</td>\n",
       "      <td>9276.0</td>\n",
       "      <td>57804.0</td>\n",
       "      <td>17233.0</td>\n",
       "    </tr>\n",
       "  </tbody>\n",
       "</table>\n",
       "</div>"
      ],
      "text/plain": [
       "   submit_wardid  curr_wardid curr_careunit  callout_wardid callout_service  \\\n",
       "0             37            2          MICU               1           TRAUM   \n",
       "1             10           37          MICU              55             MED   \n",
       "2              7           24          SICU              31            SURG   \n",
       "3             43            2          CSRU              23           NSURG   \n",
       "4             40           15          SICU              33             MED   \n",
       "\n",
       "   request_tele  request_resp  request_cdiff  request_mrsa  request_vre  \\\n",
       "0             0             0              0             0            0   \n",
       "1             0             0              0             0            0   \n",
       "2             1             0              0             0            0   \n",
       "3             1             0              0             0            0   \n",
       "4             1             0              0             0            0   \n",
       "\n",
       "  callout_status callout_outcome  discharge_wardid acknowledge_status  \\\n",
       "0       Inactive      Discharged              21.0       Acknowledged   \n",
       "1       Inactive      Discharged              15.0       Acknowledged   \n",
       "2       Inactive      Discharged              24.0       Acknowledged   \n",
       "3       Inactive      Discharged              40.0       Acknowledged   \n",
       "4       Inactive       Cancelled              28.0       Acknowledged   \n",
       "\n",
       "   createtime  updatetime  acknowledgetime  outcometime  \n",
       "0    718131.0      3846.0           6422.0      35979.0  \n",
       "1   1492046.0      4747.0              NaN      49017.0  \n",
       "2    170205.0     12909.0           3002.0      54913.0  \n",
       "3     90691.0     11819.0          48765.0      31978.0  \n",
       "4    631033.0      9276.0          57804.0      17233.0  "
      ]
     },
     "execution_count": 188,
     "metadata": {},
     "output_type": "execute_result"
    }
   ],
   "source": [
    "callout_df.head()"
   ]
  },
  {
   "cell_type": "code",
   "execution_count": 189,
   "metadata": {},
   "outputs": [],
   "source": [
    "# Pick up 'subject_id', 'hadm_id' and 'admittime' from admissions_df (random sample)\n",
    "hadm_ids_df = admissions_df.loc[:, ['subject_id', 'hadm_id', 'admittime']]"
   ]
  },
  {
   "cell_type": "code",
   "execution_count": 190,
   "metadata": {},
   "outputs": [],
   "source": [
    "# Add 'subject_id', 'hadm_id' to callout_df\n",
    "callout_df = pd.concat([hadm_ids_df.sample(n=len(callout_df), replace=True, axis=0).reset_index(drop=True), callout_df], axis=1)"
   ]
  },
  {
   "cell_type": "code",
   "execution_count": 191,
   "metadata": {},
   "outputs": [],
   "source": [
    "callout_df['createtime'] = callout_df.apply(reset_time, args=('admittime', 'createtime'), axis=1)\n",
    "callout_df['updatetime'] = callout_df.apply(reset_time, args=('createtime', 'updatetime'), axis=1)\n",
    "callout_df['acknowledgetime'] = callout_df.apply(reset_time, args=('updatetime', 'acknowledgetime'), axis=1)\n",
    "callout_df['outcometime'] = callout_df.apply(reset_time, args=('acknowledgetime', 'outcometime', 'updatetime'), axis=1)"
   ]
  },
  {
   "cell_type": "code",
   "execution_count": 192,
   "metadata": {},
   "outputs": [],
   "source": [
    "callout_df.drop(['admittime'], axis=1, inplace=True)"
   ]
  },
  {
   "cell_type": "markdown",
   "metadata": {},
   "source": [
    "### icustays"
   ]
  },
  {
   "cell_type": "code",
   "execution_count": 193,
   "metadata": {},
   "outputs": [
    {
     "data": {
      "text/html": [
       "<div>\n",
       "<style scoped>\n",
       "    .dataframe tbody tr th:only-of-type {\n",
       "        vertical-align: middle;\n",
       "    }\n",
       "\n",
       "    .dataframe tbody tr th {\n",
       "        vertical-align: top;\n",
       "    }\n",
       "\n",
       "    .dataframe thead th {\n",
       "        text-align: right;\n",
       "    }\n",
       "</style>\n",
       "<table border=\"1\" class=\"dataframe\">\n",
       "  <thead>\n",
       "    <tr style=\"text-align: right;\">\n",
       "      <th></th>\n",
       "      <th>icustay_id</th>\n",
       "      <th>dbsource</th>\n",
       "      <th>first_careunit</th>\n",
       "      <th>last_careunit</th>\n",
       "      <th>first_wardid</th>\n",
       "      <th>last_wardid</th>\n",
       "      <th>intime</th>\n",
       "      <th>outtime</th>\n",
       "    </tr>\n",
       "  </thead>\n",
       "  <tbody>\n",
       "    <tr>\n",
       "      <th>0</th>\n",
       "      <td>251662</td>\n",
       "      <td>carevue</td>\n",
       "      <td>CCU</td>\n",
       "      <td>SICU</td>\n",
       "      <td>21</td>\n",
       "      <td>37</td>\n",
       "      <td>107598.0</td>\n",
       "      <td>322519.0</td>\n",
       "    </tr>\n",
       "    <tr>\n",
       "      <th>1</th>\n",
       "      <td>230664</td>\n",
       "      <td>carevue</td>\n",
       "      <td>NICU</td>\n",
       "      <td>CSRU</td>\n",
       "      <td>19</td>\n",
       "      <td>57</td>\n",
       "      <td>155378.0</td>\n",
       "      <td>71211.0</td>\n",
       "    </tr>\n",
       "    <tr>\n",
       "      <th>2</th>\n",
       "      <td>255981</td>\n",
       "      <td>carevue</td>\n",
       "      <td>NICU</td>\n",
       "      <td>CCU</td>\n",
       "      <td>57</td>\n",
       "      <td>44</td>\n",
       "      <td>118678.0</td>\n",
       "      <td>3120.0</td>\n",
       "    </tr>\n",
       "    <tr>\n",
       "      <th>3</th>\n",
       "      <td>255271</td>\n",
       "      <td>metavision</td>\n",
       "      <td>NICU</td>\n",
       "      <td>MICU</td>\n",
       "      <td>7</td>\n",
       "      <td>31</td>\n",
       "      <td>48276.0</td>\n",
       "      <td>3120.0</td>\n",
       "    </tr>\n",
       "    <tr>\n",
       "      <th>4</th>\n",
       "      <td>201891</td>\n",
       "      <td>carevue</td>\n",
       "      <td>CSRU</td>\n",
       "      <td>MICU</td>\n",
       "      <td>32</td>\n",
       "      <td>57</td>\n",
       "      <td>73617.0</td>\n",
       "      <td>476375.0</td>\n",
       "    </tr>\n",
       "    <tr>\n",
       "      <th>...</th>\n",
       "      <td>...</td>\n",
       "      <td>...</td>\n",
       "      <td>...</td>\n",
       "      <td>...</td>\n",
       "      <td>...</td>\n",
       "      <td>...</td>\n",
       "      <td>...</td>\n",
       "      <td>...</td>\n",
       "    </tr>\n",
       "    <tr>\n",
       "      <th>135</th>\n",
       "      <td>224816</td>\n",
       "      <td>carevue</td>\n",
       "      <td>SICU</td>\n",
       "      <td>CSRU</td>\n",
       "      <td>12</td>\n",
       "      <td>57</td>\n",
       "      <td>31.0</td>\n",
       "      <td>3120.0</td>\n",
       "    </tr>\n",
       "    <tr>\n",
       "      <th>136</th>\n",
       "      <td>235640</td>\n",
       "      <td>carevue</td>\n",
       "      <td>SICU</td>\n",
       "      <td>MICU</td>\n",
       "      <td>19</td>\n",
       "      <td>57</td>\n",
       "      <td>11422.0</td>\n",
       "      <td>121297.0</td>\n",
       "    </tr>\n",
       "    <tr>\n",
       "      <th>137</th>\n",
       "      <td>254375</td>\n",
       "      <td>carevue</td>\n",
       "      <td>NICU</td>\n",
       "      <td>MICU</td>\n",
       "      <td>57</td>\n",
       "      <td>26</td>\n",
       "      <td>31.0</td>\n",
       "      <td>3120.0</td>\n",
       "    </tr>\n",
       "    <tr>\n",
       "      <th>138</th>\n",
       "      <td>259200</td>\n",
       "      <td>carevue</td>\n",
       "      <td>SICU</td>\n",
       "      <td>SICU</td>\n",
       "      <td>33</td>\n",
       "      <td>22</td>\n",
       "      <td>78915.0</td>\n",
       "      <td>277144.0</td>\n",
       "    </tr>\n",
       "    <tr>\n",
       "      <th>139</th>\n",
       "      <td>201891</td>\n",
       "      <td>metavision</td>\n",
       "      <td>MICU</td>\n",
       "      <td>CSRU</td>\n",
       "      <td>17</td>\n",
       "      <td>16</td>\n",
       "      <td>143271.0</td>\n",
       "      <td>288715.0</td>\n",
       "    </tr>\n",
       "  </tbody>\n",
       "</table>\n",
       "<p>140 rows × 8 columns</p>\n",
       "</div>"
      ],
      "text/plain": [
       "     icustay_id    dbsource first_careunit last_careunit  first_wardid  \\\n",
       "0        251662     carevue            CCU          SICU            21   \n",
       "1        230664     carevue           NICU          CSRU            19   \n",
       "2        255981     carevue           NICU           CCU            57   \n",
       "3        255271  metavision           NICU          MICU             7   \n",
       "4        201891     carevue           CSRU          MICU            32   \n",
       "..          ...         ...            ...           ...           ...   \n",
       "135      224816     carevue           SICU          CSRU            12   \n",
       "136      235640     carevue           SICU          MICU            19   \n",
       "137      254375     carevue           NICU          MICU            57   \n",
       "138      259200     carevue           SICU          SICU            33   \n",
       "139      201891  metavision           MICU          CSRU            17   \n",
       "\n",
       "     last_wardid    intime   outtime  \n",
       "0             37  107598.0  322519.0  \n",
       "1             57  155378.0   71211.0  \n",
       "2             44  118678.0    3120.0  \n",
       "3             31   48276.0    3120.0  \n",
       "4             57   73617.0  476375.0  \n",
       "..           ...       ...       ...  \n",
       "135           57      31.0    3120.0  \n",
       "136           57   11422.0  121297.0  \n",
       "137           26      31.0    3120.0  \n",
       "138           22   78915.0  277144.0  \n",
       "139           16  143271.0  288715.0  \n",
       "\n",
       "[140 rows x 8 columns]"
      ]
     },
     "execution_count": 193,
     "metadata": {},
     "output_type": "execute_result"
    }
   ],
   "source": [
    "icustays_df"
   ]
  },
  {
   "cell_type": "code",
   "execution_count": 194,
   "metadata": {},
   "outputs": [],
   "source": [
    "# Add 'subject_id', 'hadm_id' to icustays_df\n",
    "icustays_df = pd.concat([hadm_ids_df.sample(n=len(icustays_df), replace=True, axis=0).reset_index(drop=True), icustays_df], axis=1)"
   ]
  },
  {
   "cell_type": "code",
   "execution_count": 195,
   "metadata": {},
   "outputs": [],
   "source": [
    "icustays_df['intime'] = icustays_df.apply(reset_time, args=('admittime', 'intime'), axis=1)\n",
    "icustays_df['outtime'] = icustays_df.apply(reset_time, args=('intime', 'outtime'), axis=1)"
   ]
  },
  {
   "cell_type": "code",
   "execution_count": 197,
   "metadata": {},
   "outputs": [],
   "source": [
    "icustays_df.drop(['admittime'], axis=1, inplace=True)"
   ]
  }
 ],
 "metadata": {
  "kernelspec": {
   "display_name": "Python 3.8.13 ('msc_project')",
   "language": "python",
   "name": "python3"
  },
  "language_info": {
   "codemirror_mode": {
    "name": "ipython",
    "version": 3
   },
   "file_extension": ".py",
   "mimetype": "text/x-python",
   "name": "python",
   "nbconvert_exporter": "python",
   "pygments_lexer": "ipython3",
   "version": "3.8.13"
  },
  "orig_nbformat": 4,
  "vscode": {
   "interpreter": {
    "hash": "e56015fb566b08f7af163d42c82cf08fa5d6db3fbaaffa0afaaff5a893fc0496"
   }
  }
 },
 "nbformat": 4,
 "nbformat_minor": 2
}
