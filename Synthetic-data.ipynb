{
 "cells": [
  {
   "cell_type": "code",
   "execution_count": 1,
   "metadata": {},
   "outputs": [],
   "source": [
    "from sdv.tabular import CTGAN\n",
    "from sdv.sampling import Condition\n",
    "\n",
    "import cloudpickle"
   ]
  },
  {
   "cell_type": "code",
   "execution_count": 2,
   "metadata": {},
   "outputs": [],
   "source": [
    "model_path = \"../temp_sets_100/100_models/\""
   ]
  },
  {
   "cell_type": "code",
   "execution_count": 5,
   "metadata": {},
   "outputs": [],
   "source": [
    "with open(model_path + 'patients_model.pkl', 'rb') as f:\n",
    "    patients_model = cloudpickle.load(f)"
   ]
  },
  {
   "cell_type": "code",
   "execution_count": 4,
   "metadata": {},
   "outputs": [],
   "source": [
    "with open(model_path + 'admissions_model.pkl', 'rb') as f:\n",
    "    admissions_model = cloudpickle.load(f)"
   ]
  },
  {
   "cell_type": "code",
   "execution_count": 22,
   "metadata": {},
   "outputs": [],
   "source": [
    "labevents_model = CTGAN.load(model_path + 'labevents_model.pkl')"
   ]
  },
  {
   "cell_type": "markdown",
   "metadata": {},
   "source": [
    "---"
   ]
  },
  {
   "cell_type": "markdown",
   "metadata": {},
   "source": [
    "### Generate data"
   ]
  },
  {
   "cell_type": "code",
   "execution_count": 10,
   "metadata": {},
   "outputs": [
    {
     "name": "stderr",
     "output_type": "stream",
     "text": [
      "Sampling rows: 100%|██████████| 10/10 [00:00<00:00, 29.61it/s]\n"
     ]
    }
   ],
   "source": [
    "patients_df = patients_model.sample(10)"
   ]
  },
  {
   "cell_type": "code",
   "execution_count": 12,
   "metadata": {},
   "outputs": [
    {
     "data": {
      "text/html": [
       "<div>\n",
       "<style scoped>\n",
       "    .dataframe tbody tr th:only-of-type {\n",
       "        vertical-align: middle;\n",
       "    }\n",
       "\n",
       "    .dataframe tbody tr th {\n",
       "        vertical-align: top;\n",
       "    }\n",
       "\n",
       "    .dataframe thead th {\n",
       "        text-align: right;\n",
       "    }\n",
       "</style>\n",
       "<table border=\"1\" class=\"dataframe\">\n",
       "  <thead>\n",
       "    <tr style=\"text-align: right;\">\n",
       "      <th></th>\n",
       "      <th>subject_id</th>\n",
       "      <th>gender</th>\n",
       "      <th>dob</th>\n",
       "      <th>dod</th>\n",
       "      <th>dod_hosp</th>\n",
       "      <th>dod_ssn</th>\n",
       "    </tr>\n",
       "  </thead>\n",
       "  <tbody>\n",
       "    <tr>\n",
       "      <th>0</th>\n",
       "      <td>18697</td>\n",
       "      <td>F</td>\n",
       "      <td>2106-01-15</td>\n",
       "      <td>2146-12-20</td>\n",
       "      <td>NaT</td>\n",
       "      <td>2146-12-20</td>\n",
       "    </tr>\n",
       "    <tr>\n",
       "      <th>1</th>\n",
       "      <td>36373</td>\n",
       "      <td>F</td>\n",
       "      <td>2183-04-07</td>\n",
       "      <td>2210-06-03</td>\n",
       "      <td>2210-06-03</td>\n",
       "      <td>NaT</td>\n",
       "    </tr>\n",
       "    <tr>\n",
       "      <th>2</th>\n",
       "      <td>569</td>\n",
       "      <td>F</td>\n",
       "      <td>2112-02-08</td>\n",
       "      <td>2152-07-24</td>\n",
       "      <td>2152-07-24</td>\n",
       "      <td>NaT</td>\n",
       "    </tr>\n",
       "    <tr>\n",
       "      <th>3</th>\n",
       "      <td>33458</td>\n",
       "      <td>M</td>\n",
       "      <td>2133-01-23</td>\n",
       "      <td>2149-01-07</td>\n",
       "      <td>2149-01-07</td>\n",
       "      <td>NaT</td>\n",
       "    </tr>\n",
       "    <tr>\n",
       "      <th>4</th>\n",
       "      <td>79396</td>\n",
       "      <td>F</td>\n",
       "      <td>2083-08-10</td>\n",
       "      <td>2212-09-02</td>\n",
       "      <td>2212-09-02</td>\n",
       "      <td>NaT</td>\n",
       "    </tr>\n",
       "  </tbody>\n",
       "</table>\n",
       "</div>"
      ],
      "text/plain": [
       "   subject_id gender        dob        dod   dod_hosp    dod_ssn\n",
       "0       18697      F 2106-01-15 2146-12-20        NaT 2146-12-20\n",
       "1       36373      F 2183-04-07 2210-06-03 2210-06-03        NaT\n",
       "2         569      F 2112-02-08 2152-07-24 2152-07-24        NaT\n",
       "3       33458      M 2133-01-23 2149-01-07 2149-01-07        NaT\n",
       "4       79396      F 2083-08-10 2212-09-02 2212-09-02        NaT"
      ]
     },
     "execution_count": 12,
     "metadata": {},
     "output_type": "execute_result"
    }
   ],
   "source": [
    "patients_df.head()"
   ]
  },
  {
   "cell_type": "code",
   "execution_count": 17,
   "metadata": {},
   "outputs": [
    {
     "data": {
      "text/plain": [
       "18697"
      ]
     },
     "execution_count": 17,
     "metadata": {},
     "output_type": "execute_result"
    }
   ],
   "source": [
    "patients_df['subject_id'].values[0]"
   ]
  },
  {
   "cell_type": "code",
   "execution_count": 16,
   "metadata": {},
   "outputs": [
    {
     "name": "stderr",
     "output_type": "stream",
     "text": [
      "Sampling rows:  80%|████████  | 8/10 [00:18<00:04,  2.32s/it]\n"
     ]
    },
    {
     "data": {
      "text/html": [
       "<div>\n",
       "<style scoped>\n",
       "    .dataframe tbody tr th:only-of-type {\n",
       "        vertical-align: middle;\n",
       "    }\n",
       "\n",
       "    .dataframe tbody tr th {\n",
       "        vertical-align: top;\n",
       "    }\n",
       "\n",
       "    .dataframe thead th {\n",
       "        text-align: right;\n",
       "    }\n",
       "</style>\n",
       "<table border=\"1\" class=\"dataframe\">\n",
       "  <thead>\n",
       "    <tr style=\"text-align: right;\">\n",
       "      <th></th>\n",
       "      <th>subject_id</th>\n",
       "      <th>hadm_id</th>\n",
       "      <th>admittime</th>\n",
       "      <th>dischtime</th>\n",
       "      <th>deathtime</th>\n",
       "      <th>admission_type</th>\n",
       "      <th>admission_location</th>\n",
       "      <th>discharge_location</th>\n",
       "      <th>insurance</th>\n",
       "      <th>language</th>\n",
       "      <th>religion</th>\n",
       "      <th>marital_status</th>\n",
       "      <th>ethnicity</th>\n",
       "      <th>edregtime</th>\n",
       "      <th>edouttime</th>\n",
       "      <th>has_chartevents_data</th>\n",
       "    </tr>\n",
       "  </thead>\n",
       "  <tbody>\n",
       "    <tr>\n",
       "      <th>0</th>\n",
       "      <td>55633</td>\n",
       "      <td>139956</td>\n",
       "      <td>2116-01-30 16:10:00</td>\n",
       "      <td>2116-05-20 14:27:00</td>\n",
       "      <td>NaT</td>\n",
       "      <td>EMERGENCY</td>\n",
       "      <td>PHYS REFERRAL/NORMAL DELI</td>\n",
       "      <td>SNF</td>\n",
       "      <td>Private</td>\n",
       "      <td>RUSS</td>\n",
       "      <td>CATHOLIC</td>\n",
       "      <td>SINGLE</td>\n",
       "      <td>WHITE</td>\n",
       "      <td>NaT</td>\n",
       "      <td>NaT</td>\n",
       "      <td>1</td>\n",
       "    </tr>\n",
       "    <tr>\n",
       "      <th>1</th>\n",
       "      <td>47003</td>\n",
       "      <td>139011</td>\n",
       "      <td>2131-04-24 12:24:00</td>\n",
       "      <td>2131-07-09 09:57:00</td>\n",
       "      <td>2131-07-09 09:57:00</td>\n",
       "      <td>EMERGENCY</td>\n",
       "      <td>CLINIC REFERRAL/PREMATURE</td>\n",
       "      <td>HOME HEALTH CARE</td>\n",
       "      <td>Medicare</td>\n",
       "      <td>ENGL</td>\n",
       "      <td>PROTESTANT QUAKER</td>\n",
       "      <td>MARRIED</td>\n",
       "      <td>WHITE</td>\n",
       "      <td>NaT</td>\n",
       "      <td>NaT</td>\n",
       "      <td>1</td>\n",
       "    </tr>\n",
       "    <tr>\n",
       "      <th>2</th>\n",
       "      <td>47040</td>\n",
       "      <td>111760</td>\n",
       "      <td>2112-02-09 11:50:00</td>\n",
       "      <td>2112-12-29 17:50:00</td>\n",
       "      <td>NaT</td>\n",
       "      <td>EMERGENCY</td>\n",
       "      <td>PHYS REFERRAL/NORMAL DELI</td>\n",
       "      <td>DEAD/EXPIRED</td>\n",
       "      <td>Medicare</td>\n",
       "      <td>ENGL</td>\n",
       "      <td>NOT SPECIFIED</td>\n",
       "      <td>WIDOWED</td>\n",
       "      <td>WHITE</td>\n",
       "      <td>NaT</td>\n",
       "      <td>NaT</td>\n",
       "      <td>1</td>\n",
       "    </tr>\n",
       "    <tr>\n",
       "      <th>3</th>\n",
       "      <td>53195</td>\n",
       "      <td>119510</td>\n",
       "      <td>2127-08-18 08:28:00</td>\n",
       "      <td>2128-01-24 15:58:00</td>\n",
       "      <td>NaT</td>\n",
       "      <td>NEWBORN</td>\n",
       "      <td>CLINIC REFERRAL/PREMATURE</td>\n",
       "      <td>SNF</td>\n",
       "      <td>Private</td>\n",
       "      <td>ENGL</td>\n",
       "      <td>PROTESTANT QUAKER</td>\n",
       "      <td>MARRIED</td>\n",
       "      <td>WHITE</td>\n",
       "      <td>NaT</td>\n",
       "      <td>NaT</td>\n",
       "      <td>1</td>\n",
       "    </tr>\n",
       "    <tr>\n",
       "      <th>4</th>\n",
       "      <td>99503</td>\n",
       "      <td>157887</td>\n",
       "      <td>2136-08-06 08:51:00</td>\n",
       "      <td>2137-06-13 20:06:00</td>\n",
       "      <td>NaT</td>\n",
       "      <td>EMERGENCY</td>\n",
       "      <td>EMERGENCY ROOM ADMIT</td>\n",
       "      <td>SNF</td>\n",
       "      <td>Private</td>\n",
       "      <td>CAPE</td>\n",
       "      <td>CATHOLIC</td>\n",
       "      <td>NaN</td>\n",
       "      <td>WHITE</td>\n",
       "      <td>NaT</td>\n",
       "      <td>NaT</td>\n",
       "      <td>1</td>\n",
       "    </tr>\n",
       "    <tr>\n",
       "      <th>5</th>\n",
       "      <td>55934</td>\n",
       "      <td>100223</td>\n",
       "      <td>2144-08-18 06:38:00</td>\n",
       "      <td>2145-07-18 01:50:00</td>\n",
       "      <td>NaT</td>\n",
       "      <td>ELECTIVE</td>\n",
       "      <td>TRANSFER FROM HOSP/EXTRAM</td>\n",
       "      <td>HOME</td>\n",
       "      <td>Medicare</td>\n",
       "      <td>ENGL</td>\n",
       "      <td>CATHOLIC</td>\n",
       "      <td>NaN</td>\n",
       "      <td>WHITE</td>\n",
       "      <td>NaT</td>\n",
       "      <td>NaT</td>\n",
       "      <td>1</td>\n",
       "    </tr>\n",
       "    <tr>\n",
       "      <th>6</th>\n",
       "      <td>49959</td>\n",
       "      <td>150174</td>\n",
       "      <td>2107-07-25 15:47:00</td>\n",
       "      <td>2108-07-22 20:16:00</td>\n",
       "      <td>NaT</td>\n",
       "      <td>EMERGENCY</td>\n",
       "      <td>PHYS REFERRAL/NORMAL DELI</td>\n",
       "      <td>SNF</td>\n",
       "      <td>Medicare</td>\n",
       "      <td>ENGL</td>\n",
       "      <td>UNOBTAINABLE</td>\n",
       "      <td>NaN</td>\n",
       "      <td>WHITE</td>\n",
       "      <td>NaT</td>\n",
       "      <td>NaT</td>\n",
       "      <td>1</td>\n",
       "    </tr>\n",
       "    <tr>\n",
       "      <th>7</th>\n",
       "      <td>49964</td>\n",
       "      <td>100223</td>\n",
       "      <td>2090-09-22 03:36:00</td>\n",
       "      <td>2091-06-03 11:07:00</td>\n",
       "      <td>NaT</td>\n",
       "      <td>EMERGENCY</td>\n",
       "      <td>EMERGENCY ROOM ADMIT</td>\n",
       "      <td>REHAB/DISTINCT PART HOSP</td>\n",
       "      <td>Medicaid</td>\n",
       "      <td>RUSS</td>\n",
       "      <td>UNOBTAINABLE</td>\n",
       "      <td>MARRIED</td>\n",
       "      <td>WHITE</td>\n",
       "      <td>NaT</td>\n",
       "      <td>NaT</td>\n",
       "      <td>1</td>\n",
       "    </tr>\n",
       "  </tbody>\n",
       "</table>\n",
       "</div>"
      ],
      "text/plain": [
       "   subject_id  hadm_id           admittime           dischtime  \\\n",
       "0       55633   139956 2116-01-30 16:10:00 2116-05-20 14:27:00   \n",
       "1       47003   139011 2131-04-24 12:24:00 2131-07-09 09:57:00   \n",
       "2       47040   111760 2112-02-09 11:50:00 2112-12-29 17:50:00   \n",
       "3       53195   119510 2127-08-18 08:28:00 2128-01-24 15:58:00   \n",
       "4       99503   157887 2136-08-06 08:51:00 2137-06-13 20:06:00   \n",
       "5       55934   100223 2144-08-18 06:38:00 2145-07-18 01:50:00   \n",
       "6       49959   150174 2107-07-25 15:47:00 2108-07-22 20:16:00   \n",
       "7       49964   100223 2090-09-22 03:36:00 2091-06-03 11:07:00   \n",
       "\n",
       "            deathtime admission_type         admission_location  \\\n",
       "0                 NaT      EMERGENCY  PHYS REFERRAL/NORMAL DELI   \n",
       "1 2131-07-09 09:57:00      EMERGENCY  CLINIC REFERRAL/PREMATURE   \n",
       "2                 NaT      EMERGENCY  PHYS REFERRAL/NORMAL DELI   \n",
       "3                 NaT        NEWBORN  CLINIC REFERRAL/PREMATURE   \n",
       "4                 NaT      EMERGENCY       EMERGENCY ROOM ADMIT   \n",
       "5                 NaT       ELECTIVE  TRANSFER FROM HOSP/EXTRAM   \n",
       "6                 NaT      EMERGENCY  PHYS REFERRAL/NORMAL DELI   \n",
       "7                 NaT      EMERGENCY       EMERGENCY ROOM ADMIT   \n",
       "\n",
       "         discharge_location insurance language           religion  \\\n",
       "0                       SNF   Private     RUSS           CATHOLIC   \n",
       "1          HOME HEALTH CARE  Medicare     ENGL  PROTESTANT QUAKER   \n",
       "2              DEAD/EXPIRED  Medicare     ENGL      NOT SPECIFIED   \n",
       "3                       SNF   Private     ENGL  PROTESTANT QUAKER   \n",
       "4                       SNF   Private     CAPE           CATHOLIC   \n",
       "5                      HOME  Medicare     ENGL           CATHOLIC   \n",
       "6                       SNF  Medicare     ENGL       UNOBTAINABLE   \n",
       "7  REHAB/DISTINCT PART HOSP  Medicaid     RUSS       UNOBTAINABLE   \n",
       "\n",
       "  marital_status ethnicity edregtime edouttime  has_chartevents_data  \n",
       "0         SINGLE     WHITE       NaT       NaT                     1  \n",
       "1        MARRIED     WHITE       NaT       NaT                     1  \n",
       "2        WIDOWED     WHITE       NaT       NaT                     1  \n",
       "3        MARRIED     WHITE       NaT       NaT                     1  \n",
       "4            NaN     WHITE       NaT       NaT                     1  \n",
       "5            NaN     WHITE       NaT       NaT                     1  \n",
       "6            NaN     WHITE       NaT       NaT                     1  \n",
       "7        MARRIED     WHITE       NaT       NaT                     1  "
      ]
     },
     "execution_count": 16,
     "metadata": {},
     "output_type": "execute_result"
    }
   ],
   "source": [
    "admissions_model.sample(10)"
   ]
  },
  {
   "cell_type": "code",
   "execution_count": null,
   "metadata": {},
   "outputs": [],
   "source": []
  },
  {
   "cell_type": "code",
   "execution_count": 28,
   "metadata": {},
   "outputs": [],
   "source": [
    "admission_condition = Condition({\n",
    "    'subject_id': patients_df['subject_id'].values[0]\n",
    "}, num_rows=2)"
   ]
  },
  {
   "cell_type": "code",
   "execution_count": 29,
   "metadata": {},
   "outputs": [
    {
     "name": "stderr",
     "output_type": "stream",
     "text": [
      "Sampling conditions:   0%|          | 0/2 [00:00<?, ?it/s]d:\\Environment\\anaconda3\\envs\\msc_project\\lib\\site-packages\\sdv\\metadata\\table.py:459: UserWarning: Error transforming CustomConstraint. Using the reject sampling approach instead.\n",
      "  warnings.warn(\n",
      "Sampling conditions:   0%|          | 0/2 [00:20<?, ?it/s]\n"
     ]
    },
    {
     "ename": "ValueError",
     "evalue": "Unable to sample any rows for the given conditions. Try increasing `max_tries_per_batch` (currently: 100). Note that increasing this value will also increase the sampling time.",
     "output_type": "error",
     "traceback": [
      "\u001b[1;31m---------------------------------------------------------------------------\u001b[0m",
      "\u001b[1;31mValueError\u001b[0m                                Traceback (most recent call last)",
      "\u001b[1;32mf:\\MSc Project\\Synthetic-Electronic-Health-Records-Data-using-MIMIC-III\\Synthetic-data.ipynb Cell 14\u001b[0m in \u001b[0;36m<cell line: 1>\u001b[1;34m()\u001b[0m\n\u001b[1;32m----> <a href='vscode-notebook-cell:/f%3A/MSc%20Project/Synthetic-Electronic-Health-Records-Data-using-MIMIC-III/Synthetic-data.ipynb#X25sZmlsZQ%3D%3D?line=0'>1</a>\u001b[0m admissions_model\u001b[39m.\u001b[39;49msample_conditions(conditions\u001b[39m=\u001b[39;49m[admission_condition])\n",
      "File \u001b[1;32md:\\Environment\\anaconda3\\envs\\msc_project\\lib\\site-packages\\sdv\\tabular\\base.py:744\u001b[0m, in \u001b[0;36mBaseTabularModel.sample_conditions\u001b[1;34m(self, conditions, max_tries_per_batch, batch_size, randomize_samples, output_file_path)\u001b[0m\n\u001b[0;32m    712\u001b[0m \u001b[39mdef\u001b[39;00m \u001b[39msample_conditions\u001b[39m(\u001b[39mself\u001b[39m, conditions, max_tries_per_batch\u001b[39m=\u001b[39m\u001b[39m100\u001b[39m, batch_size\u001b[39m=\u001b[39m\u001b[39mNone\u001b[39;00m,\n\u001b[0;32m    713\u001b[0m                       randomize_samples\u001b[39m=\u001b[39m\u001b[39mTrue\u001b[39;00m, output_file_path\u001b[39m=\u001b[39m\u001b[39mNone\u001b[39;00m):\n\u001b[0;32m    714\u001b[0m     \u001b[39m\"\"\"Sample rows from this table with the given conditions.\u001b[39;00m\n\u001b[0;32m    715\u001b[0m \n\u001b[0;32m    716\u001b[0m \u001b[39m    Args:\u001b[39;00m\n\u001b[1;32m   (...)\u001b[0m\n\u001b[0;32m    742\u001b[0m \u001b[39m                * no rows could be generated.\u001b[39;00m\n\u001b[0;32m    743\u001b[0m \u001b[39m    \"\"\"\u001b[39;00m\n\u001b[1;32m--> 744\u001b[0m     \u001b[39mreturn\u001b[39;00m \u001b[39mself\u001b[39;49m\u001b[39m.\u001b[39;49m_sample_conditions(\n\u001b[0;32m    745\u001b[0m         conditions, max_tries_per_batch, batch_size, randomize_samples, output_file_path)\n",
      "File \u001b[1;32md:\\Environment\\anaconda3\\envs\\msc_project\\lib\\site-packages\\sdv\\tabular\\base.py:704\u001b[0m, in \u001b[0;36mBaseTabularModel._sample_conditions\u001b[1;34m(self, conditions, max_tries_per_batch, batch_size, randomize_samples, output_file_path)\u001b[0m\n\u001b[0;32m    696\u001b[0m     check_num_rows(\n\u001b[0;32m    697\u001b[0m         num_rows\u001b[39m=\u001b[39m\u001b[39mlen\u001b[39m(sampled),\n\u001b[0;32m    698\u001b[0m         expected_num_rows\u001b[39m=\u001b[39mnum_rows,\n\u001b[0;32m    699\u001b[0m         is_reject_sampling\u001b[39m=\u001b[39mis_reject_sampling,\n\u001b[0;32m    700\u001b[0m         max_tries_per_batch\u001b[39m=\u001b[39mmax_tries_per_batch\n\u001b[0;32m    701\u001b[0m     )\n\u001b[0;32m    703\u001b[0m \u001b[39mexcept\u001b[39;00m (\u001b[39mException\u001b[39;00m, \u001b[39mKeyboardInterrupt\u001b[39;00m) \u001b[39mas\u001b[39;00m error:\n\u001b[1;32m--> 704\u001b[0m     handle_sampling_error(output_file_path \u001b[39m==\u001b[39;49m TMP_FILE_NAME, output_file_path, error)\n\u001b[0;32m    706\u001b[0m \u001b[39melse\u001b[39;00m:\n\u001b[0;32m    707\u001b[0m     \u001b[39mif\u001b[39;00m output_file_path \u001b[39m==\u001b[39m TMP_FILE_NAME \u001b[39mand\u001b[39;00m os\u001b[39m.\u001b[39mpath\u001b[39m.\u001b[39mexists(output_file_path):\n",
      "File \u001b[1;32md:\\Environment\\anaconda3\\envs\\msc_project\\lib\\site-packages\\sdv\\tabular\\utils.py:155\u001b[0m, in \u001b[0;36mhandle_sampling_error\u001b[1;34m(is_tmp_file, output_file_path, sampling_error)\u001b[0m\n\u001b[0;32m    141\u001b[0m \u001b[39m\"\"\"Handle sampling errors by printing a user-legible error and then raising.\u001b[39;00m\n\u001b[0;32m    142\u001b[0m \n\u001b[0;32m    143\u001b[0m \u001b[39mArgs:\u001b[39;00m\n\u001b[1;32m   (...)\u001b[0m\n\u001b[0;32m    152\u001b[0m \u001b[39m    The error will be raised.\u001b[39;00m\n\u001b[0;32m    153\u001b[0m \u001b[39m\"\"\"\u001b[39;00m\n\u001b[0;32m    154\u001b[0m \u001b[39mif\u001b[39;00m \u001b[39m'\u001b[39m\u001b[39mUnable to sample any rows for the given conditions\u001b[39m\u001b[39m'\u001b[39m \u001b[39min\u001b[39;00m \u001b[39mstr\u001b[39m(sampling_error):\n\u001b[1;32m--> 155\u001b[0m     \u001b[39mraise\u001b[39;00m sampling_error\n\u001b[0;32m    157\u001b[0m \u001b[39mif\u001b[39;00m is_tmp_file:\n\u001b[0;32m    158\u001b[0m     \u001b[39mprint\u001b[39m(\u001b[39m'\u001b[39m\u001b[39mError: Sampling terminated. Partial results are stored in a temporary file: \u001b[39m\u001b[39m'\u001b[39m\n\u001b[0;32m    159\u001b[0m           \u001b[39mf\u001b[39m\u001b[39m'\u001b[39m\u001b[39m{\u001b[39;00moutput_file_path\u001b[39m}\u001b[39;00m\u001b[39m. This file will be overridden the next time you sample. \u001b[39m\u001b[39m'\u001b[39m\n\u001b[0;32m    160\u001b[0m           \u001b[39m'\u001b[39m\u001b[39mPlease rename the file if you wish to save these results.\u001b[39m\u001b[39m'\u001b[39m)\n",
      "File \u001b[1;32md:\\Environment\\anaconda3\\envs\\msc_project\\lib\\site-packages\\sdv\\tabular\\base.py:696\u001b[0m, in \u001b[0;36mBaseTabularModel._sample_conditions\u001b[1;34m(self, conditions, max_tries_per_batch, batch_size, randomize_samples, output_file_path)\u001b[0m\n\u001b[0;32m    692\u001b[0m             sampled \u001b[39m=\u001b[39m pd\u001b[39m.\u001b[39mconcat([sampled, sampled_for_condition], ignore_index\u001b[39m=\u001b[39m\u001b[39mTrue\u001b[39;00m)\n\u001b[0;32m    694\u001b[0m     is_reject_sampling \u001b[39m=\u001b[39m (\u001b[39mhasattr\u001b[39m(\u001b[39mself\u001b[39m, \u001b[39m'\u001b[39m\u001b[39m_model\u001b[39m\u001b[39m'\u001b[39m) \u001b[39mand\u001b[39;00m \u001b[39mnot\u001b[39;00m \u001b[39misinstance\u001b[39m(\n\u001b[0;32m    695\u001b[0m         \u001b[39mself\u001b[39m\u001b[39m.\u001b[39m_model, copulas\u001b[39m.\u001b[39mmultivariate\u001b[39m.\u001b[39mGaussianMultivariate))\n\u001b[1;32m--> 696\u001b[0m     check_num_rows(\n\u001b[0;32m    697\u001b[0m         num_rows\u001b[39m=\u001b[39;49m\u001b[39mlen\u001b[39;49m(sampled),\n\u001b[0;32m    698\u001b[0m         expected_num_rows\u001b[39m=\u001b[39;49mnum_rows,\n\u001b[0;32m    699\u001b[0m         is_reject_sampling\u001b[39m=\u001b[39;49mis_reject_sampling,\n\u001b[0;32m    700\u001b[0m         max_tries_per_batch\u001b[39m=\u001b[39;49mmax_tries_per_batch\n\u001b[0;32m    701\u001b[0m     )\n\u001b[0;32m    703\u001b[0m \u001b[39mexcept\u001b[39;00m (\u001b[39mException\u001b[39;00m, \u001b[39mKeyboardInterrupt\u001b[39;00m) \u001b[39mas\u001b[39;00m error:\n\u001b[0;32m    704\u001b[0m     handle_sampling_error(output_file_path \u001b[39m==\u001b[39m TMP_FILE_NAME, output_file_path, error)\n",
      "File \u001b[1;32md:\\Environment\\anaconda3\\envs\\msc_project\\lib\\site-packages\\sdv\\tabular\\utils.py:201\u001b[0m, in \u001b[0;36mcheck_num_rows\u001b[1;34m(num_rows, expected_num_rows, is_reject_sampling, max_tries_per_batch)\u001b[0m\n\u001b[0;32m    196\u001b[0m     \u001b[39melse\u001b[39;00m:\n\u001b[0;32m    197\u001b[0m         user_msg \u001b[39m=\u001b[39m user_msg \u001b[39m+\u001b[39m (\n\u001b[0;32m    198\u001b[0m             \u001b[39m'\u001b[39m\u001b[39mThis may be because the provided values are out-of-bounds in the \u001b[39m\u001b[39m'\u001b[39m\n\u001b[0;32m    199\u001b[0m             \u001b[39m'\u001b[39m\u001b[39mcurrent model. \u001b[39m\u001b[39m\\n\u001b[39;00m\u001b[39mPlease try again with a different set of values.\u001b[39m\u001b[39m'\u001b[39m\n\u001b[0;32m    200\u001b[0m         )\n\u001b[1;32m--> 201\u001b[0m     \u001b[39mraise\u001b[39;00m \u001b[39mValueError\u001b[39;00m(user_msg)\n\u001b[0;32m    203\u001b[0m \u001b[39melse\u001b[39;00m:\n\u001b[0;32m    204\u001b[0m     \u001b[39m# This case should only happen with reject sampling.\u001b[39;00m\n\u001b[0;32m    205\u001b[0m     user_msg \u001b[39m=\u001b[39m (\n\u001b[0;32m    206\u001b[0m         \u001b[39mf\u001b[39m\u001b[39m'\u001b[39m\u001b[39mOnly able to sample \u001b[39m\u001b[39m{\u001b[39;00mnum_rows\u001b[39m}\u001b[39;00m\u001b[39m rows for the given conditions. \u001b[39m\u001b[39m'\u001b[39m\n\u001b[0;32m    207\u001b[0m         \u001b[39m'\u001b[39m\u001b[39mTo sample more rows, try increasing `max_tries_per_batch` \u001b[39m\u001b[39m'\u001b[39m\n\u001b[0;32m    208\u001b[0m         \u001b[39mf\u001b[39m\u001b[39m'\u001b[39m\u001b[39m(currently: \u001b[39m\u001b[39m{\u001b[39;00mmax_tries_per_batch\u001b[39m}\u001b[39;00m\u001b[39m). Note that increasing this value \u001b[39m\u001b[39m'\u001b[39m\n\u001b[0;32m    209\u001b[0m         \u001b[39m'\u001b[39m\u001b[39mwill also increase the sampling time.\u001b[39m\u001b[39m'\u001b[39m\n\u001b[0;32m    210\u001b[0m     )\n",
      "\u001b[1;31mValueError\u001b[0m: Unable to sample any rows for the given conditions. Try increasing `max_tries_per_batch` (currently: 100). Note that increasing this value will also increase the sampling time."
     ]
    }
   ],
   "source": [
    "admissions_model.sample_conditions(conditions=[admission_condition])"
   ]
  },
  {
   "cell_type": "code",
   "execution_count": 26,
   "metadata": {},
   "outputs": [
    {
     "name": "stderr",
     "output_type": "stream",
     "text": [
      "Sampling conditions:   0%|          | 0/2 [00:00<?, ?it/s]d:\\Environment\\anaconda3\\envs\\msc_project\\lib\\site-packages\\sdv\\metadata\\table.py:459: UserWarning: Error transforming CustomConstraint. Using the reject sampling approach instead.\n",
      "  warnings.warn(\n",
      "Sampling conditions: 100%|██████████| 2/2 [00:00<00:00,  5.43it/s]\n"
     ]
    },
    {
     "data": {
      "text/html": [
       "<div>\n",
       "<style scoped>\n",
       "    .dataframe tbody tr th:only-of-type {\n",
       "        vertical-align: middle;\n",
       "    }\n",
       "\n",
       "    .dataframe tbody tr th {\n",
       "        vertical-align: top;\n",
       "    }\n",
       "\n",
       "    .dataframe thead th {\n",
       "        text-align: right;\n",
       "    }\n",
       "</style>\n",
       "<table border=\"1\" class=\"dataframe\">\n",
       "  <thead>\n",
       "    <tr style=\"text-align: right;\">\n",
       "      <th></th>\n",
       "      <th>subject_id</th>\n",
       "      <th>gender</th>\n",
       "      <th>dob</th>\n",
       "      <th>dod</th>\n",
       "      <th>dod_hosp</th>\n",
       "      <th>dod_ssn</th>\n",
       "    </tr>\n",
       "  </thead>\n",
       "  <tbody>\n",
       "    <tr>\n",
       "      <th>0</th>\n",
       "      <td>9451</td>\n",
       "      <td>F</td>\n",
       "      <td>2165-06-14</td>\n",
       "      <td>2163-12-12</td>\n",
       "      <td>2163-12-12</td>\n",
       "      <td>NaT</td>\n",
       "    </tr>\n",
       "    <tr>\n",
       "      <th>1</th>\n",
       "      <td>41905</td>\n",
       "      <td>F</td>\n",
       "      <td>2086-05-13</td>\n",
       "      <td>2131-04-14</td>\n",
       "      <td>2131-04-14</td>\n",
       "      <td>NaT</td>\n",
       "    </tr>\n",
       "  </tbody>\n",
       "</table>\n",
       "</div>"
      ],
      "text/plain": [
       "   subject_id gender        dob        dod   dod_hosp dod_ssn\n",
       "0        9451      F 2165-06-14 2163-12-12 2163-12-12     NaT\n",
       "1       41905      F 2086-05-13 2131-04-14 2131-04-14     NaT"
      ]
     },
     "execution_count": 26,
     "metadata": {},
     "output_type": "execute_result"
    }
   ],
   "source": [
    "patients_model.sample_conditions(conditions=[admission_condition])"
   ]
  }
 ],
 "metadata": {
  "kernelspec": {
   "display_name": "Python 3.8.13 ('msc_project')",
   "language": "python",
   "name": "python3"
  },
  "language_info": {
   "codemirror_mode": {
    "name": "ipython",
    "version": 3
   },
   "file_extension": ".py",
   "mimetype": "text/x-python",
   "name": "python",
   "nbconvert_exporter": "python",
   "pygments_lexer": "ipython3",
   "version": "3.8.13"
  },
  "orig_nbformat": 4,
  "vscode": {
   "interpreter": {
    "hash": "e56015fb566b08f7af163d42c82cf08fa5d6db3fbaaffa0afaaff5a893fc0496"
   }
  }
 },
 "nbformat": 4,
 "nbformat_minor": 2
}
