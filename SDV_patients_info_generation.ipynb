{
 "cells": [
  {
   "cell_type": "code",
   "execution_count": 1,
   "metadata": {},
   "outputs": [],
   "source": [
    "# from google.colab import drive\n",
    "# drive.mount('/content/drive')"
   ]
  },
  {
   "cell_type": "code",
   "execution_count": 2,
   "metadata": {},
   "outputs": [],
   "source": [
    "# ! pip install pgmpy"
   ]
  },
  {
   "cell_type": "code",
   "execution_count": 3,
   "metadata": {},
   "outputs": [],
   "source": [
    "# Ignore warnings\n",
    "import warnings\n",
    "warnings.filterwarnings(\"ignore\")"
   ]
  },
  {
   "cell_type": "code",
   "execution_count": 4,
   "metadata": {},
   "outputs": [],
   "source": [
    "import pandas as pd\n",
    "import numpy as np"
   ]
  },
  {
   "cell_type": "code",
   "execution_count": 5,
   "metadata": {},
   "outputs": [],
   "source": [
    "date_set_path = \"../temp_sets/\""
   ]
  },
  {
   "cell_type": "markdown",
   "metadata": {},
   "source": [
    "## Time data discretisation"
   ]
  },
  {
   "cell_type": "code",
   "execution_count": 6,
   "metadata": {},
   "outputs": [],
   "source": [
    "def date_discretisation(date):\n",
    "    if not pd.isna(date):\n",
    "        # Do not use \"-\" as connector, because Pandas might read it as date or time!!\n",
    "        return str(date.quarter) + \"&\" + str(date.dayofweek)\n",
    "    else:\n",
    "        return \"Na\""
   ]
  },
  {
   "cell_type": "code",
   "execution_count": 7,
   "metadata": {},
   "outputs": [],
   "source": [
    "def datetime_discretisation(date):\n",
    "    if not pd.isna(date):\n",
    "        # Do not use \"-\" as connector, because Pandas might read it as date or time!!\n",
    "        return str(date.quarter) + \"&\" + str(date.dayofweek) + \"&\" + str(date.hour)\n",
    "    else:\n",
    "        return \"Na\""
   ]
  },
  {
   "cell_type": "markdown",
   "metadata": {},
   "source": [
    "## Read Tempdatasets"
   ]
  },
  {
   "cell_type": "code",
   "execution_count": 8,
   "metadata": {},
   "outputs": [],
   "source": [
    "# read csv file as dataframe, and drop ROW_ID column\n",
    "def read_csv_no_rowid(file_path):\n",
    "    df = pd.read_csv(file_path)\n",
    "    df.drop([\"Unnamed: 0\", 'row_id'], axis=1, inplace=True)\n",
    "\n",
    "    return df"
   ]
  },
  {
   "cell_type": "code",
   "execution_count": 9,
   "metadata": {},
   "outputs": [],
   "source": [
    "# check NaN value\n",
    "\n",
    "def nan_count(df):\n",
    "    print(\"Total columns: \" + str(len(df.columns)))\n",
    "    print(\"Total rows: \" + str(len(df)))\n",
    "    print(\"--------------\")\n",
    "    print(df.isnull().sum())"
   ]
  },
  {
   "cell_type": "markdown",
   "metadata": {},
   "source": [
    "### Patients"
   ]
  },
  {
   "cell_type": "code",
   "execution_count": 10,
   "metadata": {},
   "outputs": [],
   "source": [
    "random_patients_df = read_csv_no_rowid(date_set_path+\"patients.csv\")"
   ]
  },
  {
   "cell_type": "code",
   "execution_count": 11,
   "metadata": {},
   "outputs": [],
   "source": [
    "# Drop useless colums\n",
    "random_patients_df.drop(['dod', 'expire_flag'], axis=1, inplace=True)"
   ]
  },
  {
   "cell_type": "code",
   "execution_count": 12,
   "metadata": {},
   "outputs": [],
   "source": [
    "# Transfer some date type\n",
    "\n",
    "random_patients_df['dob'] = pd.to_datetime(random_patients_df['dob'])\n",
    "# random_patients_df['DOD'] = pd.to_datetime(random_patients_df['DOD'])\n",
    "random_patients_df['dod_hosp'] = pd.to_datetime(random_patients_df['dod_hosp'])\n",
    "random_patients_df['dod_ssn'] = pd.to_datetime(random_patients_df['dod_ssn'])"
   ]
  },
  {
   "cell_type": "code",
   "execution_count": 13,
   "metadata": {},
   "outputs": [
    {
     "name": "stdout",
     "output_type": "stream",
     "text": [
      "Total columns: 5\n",
      "Total rows: 1000\n",
      "--------------\n",
      "subject_id      0\n",
      "gender          0\n",
      "dob             0\n",
      "dod_hosp      774\n",
      "dod_ssn       702\n",
      "dtype: int64\n"
     ]
    }
   ],
   "source": [
    "nan_count(random_patients_df)"
   ]
  },
  {
   "cell_type": "code",
   "execution_count": 14,
   "metadata": {},
   "outputs": [],
   "source": [
    "# random_patients_df.loc[:, 'dob'] = random_patients_df.loc[:, 'dob'].apply(date_discretisation)\n",
    "# random_patients_df.loc[:, 'dod_hosp'] = random_patients_df.loc[:, 'dod_hosp'].apply(date_discretisation)\n",
    "# random_patients_df.loc[:, 'dod_ssn'] = random_patients_df.loc[:, 'dod_ssn'].apply(date_discretisation)"
   ]
  },
  {
   "cell_type": "code",
   "execution_count": 15,
   "metadata": {},
   "outputs": [],
   "source": [
    "# random_patients_df['dob'].fillna(value=nan_time, inplace=True)\n",
    "# random_patients_df['dod_hosp'].fillna(value=nan_time, inplace=True)\n",
    "# random_patients_df['dod_ssn'].fillna(value=nan_time, inplace=True)"
   ]
  },
  {
   "cell_type": "code",
   "execution_count": 16,
   "metadata": {},
   "outputs": [
    {
     "name": "stdout",
     "output_type": "stream",
     "text": [
      "Total columns: 5\n",
      "Total rows: 1000\n",
      "--------------\n",
      "subject_id      0\n",
      "gender          0\n",
      "dob             0\n",
      "dod_hosp      774\n",
      "dod_ssn       702\n",
      "dtype: int64\n"
     ]
    }
   ],
   "source": [
    "nan_count(random_patients_df)"
   ]
  },
  {
   "cell_type": "markdown",
   "metadata": {},
   "source": [
    "### Admissions\n",
    "\n",
    "Note: the 'deathtime' in admission table cannot be dropped, as this column includes the exact time."
   ]
  },
  {
   "cell_type": "code",
   "execution_count": 17,
   "metadata": {},
   "outputs": [],
   "source": [
    "admissions_sample_df = read_csv_no_rowid(date_set_path+\"admissions.csv\")"
   ]
  },
  {
   "cell_type": "code",
   "execution_count": 18,
   "metadata": {},
   "outputs": [],
   "source": [
    "admissions_sample_df.drop(['diagnosis', 'hospital_expire_flag'], axis=1, inplace=True)"
   ]
  },
  {
   "cell_type": "code",
   "execution_count": 19,
   "metadata": {},
   "outputs": [],
   "source": [
    "admissions_sample_df['admittime'] = pd.to_datetime(admissions_sample_df['admittime'])\n",
    "admissions_sample_df['dischtime'] = pd.to_datetime(admissions_sample_df['dischtime'])\n",
    "admissions_sample_df['deathtime'] = pd.to_datetime(admissions_sample_df['deathtime'])\n",
    "admissions_sample_df['edregtime'] = pd.to_datetime(admissions_sample_df['edregtime'])\n",
    "admissions_sample_df['edouttime'] = pd.to_datetime(admissions_sample_df['edouttime'])"
   ]
  },
  {
   "cell_type": "code",
   "execution_count": 20,
   "metadata": {},
   "outputs": [
    {
     "data": {
      "text/plain": [
       "subject_id                       int64\n",
       "hadm_id                          int64\n",
       "admittime               datetime64[ns]\n",
       "dischtime               datetime64[ns]\n",
       "deathtime               datetime64[ns]\n",
       "admission_type                  object\n",
       "admission_location              object\n",
       "discharge_location              object\n",
       "insurance                       object\n",
       "language                        object\n",
       "religion                        object\n",
       "marital_status                  object\n",
       "ethnicity                       object\n",
       "edregtime               datetime64[ns]\n",
       "edouttime               datetime64[ns]\n",
       "has_chartevents_data             int64\n",
       "dtype: object"
      ]
     },
     "execution_count": 20,
     "metadata": {},
     "output_type": "execute_result"
    }
   ],
   "source": [
    "admissions_sample_df.dtypes"
   ]
  },
  {
   "cell_type": "code",
   "execution_count": 21,
   "metadata": {},
   "outputs": [],
   "source": [
    "# admissions_sample_df.loc[:, 'admittime'] = admissions_sample_df.loc[:, 'admittime'].apply(datetime_discretisation)\n",
    "# admissions_sample_df.loc[:, 'dischtime'] = admissions_sample_df.loc[:, 'dischtime'].apply(datetime_discretisation)\n",
    "# admissions_sample_df.loc[:, 'deathtime'] = admissions_sample_df.loc[:, 'deathtime'].apply(datetime_discretisation)\n",
    "# admissions_sample_df.loc[:, 'edregtime'] = admissions_sample_df.loc[:, 'edregtime'].apply(datetime_discretisation)\n",
    "# admissions_sample_df.loc[:, 'edouttime'] = admissions_sample_df.loc[:, 'edouttime'].apply(datetime_discretisation)"
   ]
  },
  {
   "cell_type": "code",
   "execution_count": 22,
   "metadata": {},
   "outputs": [],
   "source": [
    "admissions_sample_df['language'].fillna(value='unknow', inplace=True)\n",
    "admissions_sample_df['marital_status'].fillna(value='unknow', inplace=True)\n",
    "admissions_sample_df['religion'].fillna(value='unknow', inplace=True)\n",
    "# admissions_sample_df['deathtime'].fillna(value=nan_time, inplace=True)\n",
    "# admissions_sample_df['edregtime'].fillna(value=nan_time, inplace=True)\n",
    "# admissions_sample_df['edouttime'].fillna(value=nan_time, inplace=True)"
   ]
  },
  {
   "cell_type": "code",
   "execution_count": 23,
   "metadata": {},
   "outputs": [
    {
     "name": "stdout",
     "output_type": "stream",
     "text": [
      "Total columns: 16\n",
      "Total rows: 1289\n",
      "--------------\n",
      "subject_id                 0\n",
      "hadm_id                    0\n",
      "admittime                  0\n",
      "dischtime                  0\n",
      "deathtime               1159\n",
      "admission_type             0\n",
      "admission_location         0\n",
      "discharge_location         0\n",
      "insurance                  0\n",
      "language                   0\n",
      "religion                   0\n",
      "marital_status             0\n",
      "ethnicity                  0\n",
      "edregtime                604\n",
      "edouttime                604\n",
      "has_chartevents_data       0\n",
      "dtype: int64\n"
     ]
    }
   ],
   "source": [
    "nan_count(admissions_sample_df)"
   ]
  },
  {
   "cell_type": "markdown",
   "metadata": {},
   "source": [
    "### Callout"
   ]
  },
  {
   "cell_type": "code",
   "execution_count": 24,
   "metadata": {},
   "outputs": [],
   "source": [
    "callout_sample_df = read_csv_no_rowid(date_set_path+\"callout.csv\")"
   ]
  },
  {
   "cell_type": "code",
   "execution_count": 25,
   "metadata": {},
   "outputs": [],
   "source": [
    "callout_sample_df.drop(['submit_careunit', 'firstreservationtime', 'currentreservationtime'], axis=1, inplace=True)"
   ]
  },
  {
   "cell_type": "code",
   "execution_count": 26,
   "metadata": {},
   "outputs": [],
   "source": [
    "callout_sample_df['createtime'] = pd.to_datetime(callout_sample_df['createtime'])\n",
    "callout_sample_df['updatetime'] = pd.to_datetime(callout_sample_df['updatetime'])\n",
    "callout_sample_df['acknowledgetime'] = pd.to_datetime(callout_sample_df['acknowledgetime'])\n",
    "callout_sample_df['outcometime'] = pd.to_datetime(callout_sample_df['outcometime'])"
   ]
  },
  {
   "cell_type": "code",
   "execution_count": 27,
   "metadata": {},
   "outputs": [],
   "source": [
    "# callout_sample_df.loc[:, 'createtime'] = callout_sample_df.loc[:, 'createtime'].apply(datetime_discretisation)\n",
    "# callout_sample_df.loc[:, 'updatetime'] = callout_sample_df.loc[:, 'updatetime'].apply(datetime_discretisation)\n",
    "# callout_sample_df.loc[:, 'acknowledgetime'] = callout_sample_df.loc[:, 'acknowledgetime'].apply(datetime_discretisation)\n",
    "# callout_sample_df.loc[:, 'outcometime'] = callout_sample_df.loc[:, 'outcometime'].apply(datetime_discretisation)"
   ]
  },
  {
   "cell_type": "code",
   "execution_count": 28,
   "metadata": {},
   "outputs": [],
   "source": [
    "callout_sample_df['discharge_wardid'].fillna(value=100, inplace=True)\n",
    "# callout_sample_df['acknowledgetime'].fillna(value=nan_time, inplace=True)"
   ]
  },
  {
   "cell_type": "code",
   "execution_count": 29,
   "metadata": {},
   "outputs": [
    {
     "name": "stdout",
     "output_type": "stream",
     "text": [
      "Total columns: 20\n",
      "Total rows: 807\n",
      "--------------\n",
      "subject_id             0\n",
      "hadm_id                0\n",
      "submit_wardid          0\n",
      "curr_wardid            0\n",
      "curr_careunit          0\n",
      "callout_wardid         0\n",
      "callout_service        0\n",
      "request_tele           0\n",
      "request_resp           0\n",
      "request_cdiff          0\n",
      "request_mrsa           0\n",
      "request_vre            0\n",
      "callout_status         0\n",
      "callout_outcome        0\n",
      "discharge_wardid       0\n",
      "acknowledge_status     0\n",
      "createtime             0\n",
      "updatetime             0\n",
      "acknowledgetime       35\n",
      "outcometime            0\n",
      "dtype: int64\n"
     ]
    }
   ],
   "source": [
    "nan_count(callout_sample_df)"
   ]
  },
  {
   "cell_type": "markdown",
   "metadata": {},
   "source": [
    "### ICUstays"
   ]
  },
  {
   "cell_type": "code",
   "execution_count": 30,
   "metadata": {},
   "outputs": [],
   "source": [
    "icustays_sample_df = read_csv_no_rowid(date_set_path+\"icustays.csv\")"
   ]
  },
  {
   "cell_type": "code",
   "execution_count": 31,
   "metadata": {},
   "outputs": [],
   "source": [
    "icustays_sample_df.drop(['los'], axis=1, inplace=True)"
   ]
  },
  {
   "cell_type": "code",
   "execution_count": 32,
   "metadata": {},
   "outputs": [],
   "source": [
    "icustays_sample_df['intime'] = pd.to_datetime(icustays_sample_df['intime'])\n",
    "icustays_sample_df['outtime'] = pd.to_datetime(icustays_sample_df['outtime'])"
   ]
  },
  {
   "cell_type": "code",
   "execution_count": 33,
   "metadata": {},
   "outputs": [],
   "source": [
    "# icustays_sample_df.loc[:, 'intime'] = icustays_sample_df.loc[:, 'intime'].apply(datetime_discretisation)\n",
    "# icustays_sample_df.loc[:, 'outtime'] = icustays_sample_df.loc[:, 'outtime'].apply(datetime_discretisation)"
   ]
  },
  {
   "cell_type": "code",
   "execution_count": 34,
   "metadata": {},
   "outputs": [
    {
     "name": "stdout",
     "output_type": "stream",
     "text": [
      "Total columns: 10\n",
      "Total rows: 1342\n",
      "--------------\n",
      "subject_id        0\n",
      "hadm_id           0\n",
      "icustay_id        0\n",
      "dbsource          0\n",
      "first_careunit    0\n",
      "last_careunit     0\n",
      "first_wardid      0\n",
      "last_wardid       0\n",
      "intime            0\n",
      "outtime           0\n",
      "dtype: int64\n"
     ]
    }
   ],
   "source": [
    "nan_count(icustays_sample_df)"
   ]
  },
  {
   "cell_type": "markdown",
   "metadata": {},
   "source": [
    "---"
   ]
  },
  {
   "cell_type": "markdown",
   "metadata": {},
   "source": [
    "## Combine samples"
   ]
  },
  {
   "cell_type": "code",
   "execution_count": 35,
   "metadata": {},
   "outputs": [],
   "source": [
    "# patients_df = pd.merge(random_patients_df, admissions_sample_df, on=['subject_id'], how='inner')\n",
    "# patients_df = pd.merge(patients_df, callout_sample_df, on=['subject_id', 'hadm_id'], how='inner')\n",
    "# patients_df = pd.merge(patients_df, icustays_sample_df, on=['subject_id', 'hadm_id'], how='inner')"
   ]
  },
  {
   "cell_type": "code",
   "execution_count": 36,
   "metadata": {},
   "outputs": [],
   "source": [
    "# patients_df.columns"
   ]
  },
  {
   "cell_type": "code",
   "execution_count": 37,
   "metadata": {},
   "outputs": [],
   "source": [
    "# nan_count(patients_df)"
   ]
  },
  {
   "cell_type": "code",
   "execution_count": 38,
   "metadata": {},
   "outputs": [],
   "source": [
    "# patients_df = pd.merge(patients_df, services_sample_df, on=['subject_id', 'hadm_id'], how='outer')\n",
    "# patients_df = pd.merge(patients_df, transfers_sample_df.drop(['icustay_id', 'dbsource', 'curr_careunit', 'curr_wardid', \\\n",
    "#                                                 'intime', 'outtime', 'los'], axis=1), on=['subject_id', 'hadm_id'], how='outer')\n",
    "# patients_df.fillna(value=\"Na\", inplace=True)"
   ]
  },
  {
   "cell_type": "code",
   "execution_count": 39,
   "metadata": {},
   "outputs": [],
   "source": [
    "# patients_df.to_csv(\"patients_info.csv\")"
   ]
  },
  {
   "cell_type": "code",
   "execution_count": 40,
   "metadata": {},
   "outputs": [],
   "source": [
    "# patients_df.drop(['subject_id', 'hadm_id'], axis=1, inplace=True)"
   ]
  },
  {
   "cell_type": "markdown",
   "metadata": {},
   "source": [
    "---"
   ]
  },
  {
   "cell_type": "markdown",
   "metadata": {},
   "source": [
    "##  Build Network"
   ]
  },
  {
   "cell_type": "code",
   "execution_count": 41,
   "metadata": {},
   "outputs": [],
   "source": [
    "from sdv import Metadata\n",
    "from sdv.relational import HMA1\n",
    "\n",
    "from sdv.constraints import GreaterThan"
   ]
  },
  {
   "cell_type": "code",
   "execution_count": 42,
   "metadata": {},
   "outputs": [],
   "source": [
    "patients_tables = {\n",
    "    'random_patients_df': random_patients_df,\n",
    "    'admissions_sample_df': admissions_sample_df,\n",
    "    'callout_sample_df': callout_sample_df,\n",
    "    'icustays_sample_df': icustays_sample_df\n",
    "}"
   ]
  },
  {
   "cell_type": "code",
   "execution_count": 43,
   "metadata": {},
   "outputs": [],
   "source": [
    "# contains in patients\n"
   ]
  },
  {
   "cell_type": "code",
   "execution_count": 44,
   "metadata": {},
   "outputs": [],
   "source": [
    "# contains in admissions\n",
    "admittime_dischtime = GreaterThan(\n",
    "    low='admittime',\n",
    "    high='dischtime',\n",
    "    handling_strategy='reject_sampling'\n",
    ")\n",
    "\n",
    "edregtime_edouttime = GreaterThan(\n",
    "    low='edregtime',\n",
    "    high='edouttime',\n",
    "    handling_strategy='reject_sampling'\n",
    ")"
   ]
  },
  {
   "cell_type": "code",
   "execution_count": 45,
   "metadata": {},
   "outputs": [],
   "source": [
    "# contains in callout\n",
    "createtime_updatetime = GreaterThan(\n",
    "    low='createtime',\n",
    "    high='updatetime',\n",
    "    handling_strategy='reject_sampling'\n",
    ")\n",
    "\n",
    "createtime_acknowledgetime = GreaterThan(\n",
    "    low='createtime',\n",
    "    high='acknowledgetime',\n",
    "    handling_strategy='reject_sampling'\n",
    ")\n",
    "\n",
    "updatetime_outcometime = GreaterThan(\n",
    "    low='updatetime',\n",
    "    high='outcometime',\n",
    "    handling_strategy='reject_sampling'\n",
    ")\n",
    "\n",
    "acknowledgetime_outcometime = GreaterThan(\n",
    "    low='acknowledgetime',\n",
    "    high='outcometime',\n",
    "    handling_strategy='reject_sampling'\n",
    ")"
   ]
  },
  {
   "cell_type": "code",
   "execution_count": 46,
   "metadata": {},
   "outputs": [],
   "source": [
    "# contains in icu_stays\n",
    "intime_outtime = GreaterThan(\n",
    "    low='intime',\n",
    "    high='outtime',\n",
    "    handling_strategy='transform'\n",
    ")"
   ]
  },
  {
   "cell_type": "code",
   "execution_count": 47,
   "metadata": {},
   "outputs": [],
   "source": [
    "metadata = Metadata()"
   ]
  },
  {
   "cell_type": "code",
   "execution_count": 48,
   "metadata": {},
   "outputs": [],
   "source": [
    "metadata.add_table(name='random_patients_df', data=patients_tables['random_patients_df'], primary_key='subject_id')\n",
    "\n",
    "metadata.add_table(name='admissions_sample_df', data=patients_tables['admissions_sample_df'], primary_key='hadm_id', \n",
    "    parent='random_patients_df', foreign_key='subject_id', constraints=[edregtime_edouttime])\n",
    "\n",
    "metadata.add_table(name='callout_sample_df', data=patients_tables['callout_sample_df'], primary_key='hadm_id', \n",
    "    parent='random_patients_df', foreign_key='subject_id', \n",
    "    constraints=[createtime_updatetime, createtime_acknowledgetime, updatetime_outcometime, acknowledgetime_outcometime])\n",
    "    \n",
    "metadata.add_table(name='icustays_sample_df', data=patients_tables['icustays_sample_df'], primary_key='icustay_id', \n",
    "    parent='callout_sample_df', foreign_key='hadm_id', constraints=[intime_outtime])"
   ]
  },
  {
   "cell_type": "code",
   "execution_count": 49,
   "metadata": {},
   "outputs": [
    {
     "name": "stdout",
     "output_type": "stream",
     "text": [
      "Total columns: 10\n",
      "Total rows: 1342\n",
      "--------------\n",
      "subject_id        0\n",
      "hadm_id           0\n",
      "icustay_id        0\n",
      "dbsource          0\n",
      "first_careunit    0\n",
      "last_careunit     0\n",
      "first_wardid      0\n",
      "last_wardid       0\n",
      "intime            0\n",
      "outtime           0\n",
      "dtype: int64\n"
     ]
    }
   ],
   "source": [
    "nan_count(icustays_sample_df)"
   ]
  },
  {
   "cell_type": "code",
   "execution_count": 50,
   "metadata": {},
   "outputs": [],
   "source": [
    "# metadata.add_table(name='random_patients_df', data=patients_tables['random_patients_df'], primary_key='subject_id')\n",
    "\n",
    "# metadata.add_table(name='admissions_sample_df', data=patients_tables['admissions_sample_df'], primary_key='hadm_id', \n",
    "#     parent='random_patients_df', foreign_key='subject_id', constraints=[admittime_dischtime, edregtime_edouttime])\n",
    "\n",
    "# metadata.add_table(name='callout_sample_df', data=patients_tables['callout_sample_df'], primary_key='hadm_id', \n",
    "#     parent='random_patients_df', foreign_key='subject_id', \n",
    "#     constraints=[createtime_updatetime, createtime_acknowledgetime, updatetime_outcometime, acknowledgetime_outcometime])\n",
    "    \n",
    "# metadata.add_table(name='icustays_sample_df', data=patients_tables['icustays_sample_df'], primary_key='icustay_id', \n",
    "#     parent='callout_sample_df', foreign_key='hadm_id', constraints=[intime_outtime])"
   ]
  },
  {
   "cell_type": "code",
   "execution_count": 51,
   "metadata": {},
   "outputs": [],
   "source": [
    "# metadata.visualize()"
   ]
  },
  {
   "cell_type": "code",
   "execution_count": 52,
   "metadata": {},
   "outputs": [],
   "source": [
    "patients_info_model = HMA1(metadata)"
   ]
  },
  {
   "cell_type": "code",
   "execution_count": 53,
   "metadata": {},
   "outputs": [],
   "source": [
    "patients_info_model.fit(patients_tables)"
   ]
  },
  {
   "cell_type": "code",
   "execution_count": 90,
   "metadata": {},
   "outputs": [],
   "source": [
    "patients_info_model.save(\"../temp_sets/models/patients_info_model.pkl\")"
   ]
  },
  {
   "cell_type": "code",
   "execution_count": 91,
   "metadata": {},
   "outputs": [],
   "source": [
    "new_data_sample = patients_info_model.sample(num_rows = 1000)"
   ]
  },
  {
   "cell_type": "markdown",
   "metadata": {},
   "source": [
    "---"
   ]
  },
  {
   "cell_type": "code",
   "execution_count": 92,
   "metadata": {},
   "outputs": [],
   "source": [
    "from sdv.evaluation import evaluate"
   ]
  },
  {
   "cell_type": "code",
   "execution_count": 99,
   "metadata": {},
   "outputs": [
    {
     "data": {
      "text/html": [
       "<div>\n",
       "<style scoped>\n",
       "    .dataframe tbody tr th:only-of-type {\n",
       "        vertical-align: middle;\n",
       "    }\n",
       "\n",
       "    .dataframe tbody tr th {\n",
       "        vertical-align: top;\n",
       "    }\n",
       "\n",
       "    .dataframe thead th {\n",
       "        text-align: right;\n",
       "    }\n",
       "</style>\n",
       "<table border=\"1\" class=\"dataframe\">\n",
       "  <thead>\n",
       "    <tr style=\"text-align: right;\">\n",
       "      <th></th>\n",
       "      <th>subject_id</th>\n",
       "      <th>hadm_id</th>\n",
       "      <th>submit_wardid</th>\n",
       "      <th>curr_wardid</th>\n",
       "      <th>curr_careunit</th>\n",
       "      <th>callout_wardid</th>\n",
       "      <th>callout_service</th>\n",
       "      <th>request_tele</th>\n",
       "      <th>request_resp</th>\n",
       "      <th>request_cdiff</th>\n",
       "      <th>request_mrsa</th>\n",
       "      <th>request_vre</th>\n",
       "      <th>callout_status</th>\n",
       "      <th>callout_outcome</th>\n",
       "      <th>discharge_wardid</th>\n",
       "      <th>acknowledge_status</th>\n",
       "      <th>createtime</th>\n",
       "      <th>updatetime</th>\n",
       "      <th>acknowledgetime</th>\n",
       "      <th>outcometime</th>\n",
       "    </tr>\n",
       "  </thead>\n",
       "  <tbody>\n",
       "    <tr>\n",
       "      <th>0</th>\n",
       "      <td>518</td>\n",
       "      <td>79</td>\n",
       "      <td>22</td>\n",
       "      <td>38</td>\n",
       "      <td>SICU</td>\n",
       "      <td>21</td>\n",
       "      <td>CSURG</td>\n",
       "      <td>1</td>\n",
       "      <td>0</td>\n",
       "      <td>0</td>\n",
       "      <td>0</td>\n",
       "      <td>0</td>\n",
       "      <td>Inactive</td>\n",
       "      <td>Discharged</td>\n",
       "      <td>28.0</td>\n",
       "      <td>Acknowledged</td>\n",
       "      <td>2132-01-12 16:55:44.359519232</td>\n",
       "      <td>2160-01-02 23:40:34.586804224</td>\n",
       "      <td>2171-10-13 11:08:13.608137728</td>\n",
       "      <td>2203-07-28 07:37:02.321100800</td>\n",
       "    </tr>\n",
       "    <tr>\n",
       "      <th>1</th>\n",
       "      <td>534</td>\n",
       "      <td>80</td>\n",
       "      <td>22</td>\n",
       "      <td>34</td>\n",
       "      <td>SICU</td>\n",
       "      <td>18</td>\n",
       "      <td>OMED</td>\n",
       "      <td>1</td>\n",
       "      <td>0</td>\n",
       "      <td>0</td>\n",
       "      <td>0</td>\n",
       "      <td>0</td>\n",
       "      <td>Inactive</td>\n",
       "      <td>Discharged</td>\n",
       "      <td>26.0</td>\n",
       "      <td>Acknowledged</td>\n",
       "      <td>2105-12-27 11:42:32.577035776</td>\n",
       "      <td>2127-11-30 15:35:06.207374336</td>\n",
       "      <td>2126-07-04 23:33:10.479185920</td>\n",
       "      <td>2142-11-04 01:46:03.801082880</td>\n",
       "    </tr>\n",
       "    <tr>\n",
       "      <th>2</th>\n",
       "      <td>534</td>\n",
       "      <td>81</td>\n",
       "      <td>25</td>\n",
       "      <td>47</td>\n",
       "      <td>SICU</td>\n",
       "      <td>35</td>\n",
       "      <td>CMED</td>\n",
       "      <td>1</td>\n",
       "      <td>0</td>\n",
       "      <td>0</td>\n",
       "      <td>0</td>\n",
       "      <td>0</td>\n",
       "      <td>Inactive</td>\n",
       "      <td>Cancelled</td>\n",
       "      <td>73.0</td>\n",
       "      <td>Acknowledged</td>\n",
       "      <td>2106-06-05 13:13:49.802624000</td>\n",
       "      <td>2127-12-23 01:00:49.191844864</td>\n",
       "      <td>NaT</td>\n",
       "      <td>2142-10-26 10:51:12.483483648</td>\n",
       "    </tr>\n",
       "    <tr>\n",
       "      <th>3</th>\n",
       "      <td>555</td>\n",
       "      <td>82</td>\n",
       "      <td>25</td>\n",
       "      <td>36</td>\n",
       "      <td>SICU</td>\n",
       "      <td>12</td>\n",
       "      <td>CSURG</td>\n",
       "      <td>1</td>\n",
       "      <td>0</td>\n",
       "      <td>0</td>\n",
       "      <td>0</td>\n",
       "      <td>0</td>\n",
       "      <td>Inactive</td>\n",
       "      <td>Discharged</td>\n",
       "      <td>0.0</td>\n",
       "      <td>Acknowledged</td>\n",
       "      <td>1969-11-22 23:55:13.635221884</td>\n",
       "      <td>1977-09-10 03:01:57.780327200</td>\n",
       "      <td>2013-10-15 01:23:29.150006784</td>\n",
       "      <td>2019-09-28 03:48:14.343142400</td>\n",
       "    </tr>\n",
       "    <tr>\n",
       "      <th>4</th>\n",
       "      <td>565</td>\n",
       "      <td>83</td>\n",
       "      <td>48</td>\n",
       "      <td>35</td>\n",
       "      <td>MICU</td>\n",
       "      <td>21</td>\n",
       "      <td>CCU</td>\n",
       "      <td>1</td>\n",
       "      <td>0</td>\n",
       "      <td>0</td>\n",
       "      <td>0</td>\n",
       "      <td>0</td>\n",
       "      <td>Inactive</td>\n",
       "      <td>Discharged</td>\n",
       "      <td>0.0</td>\n",
       "      <td>Acknowledged</td>\n",
       "      <td>2000-07-21 14:28:27.981632896</td>\n",
       "      <td>2015-08-15 11:10:46.274389248</td>\n",
       "      <td>2003-07-27 15:41:50.534866176</td>\n",
       "      <td>2041-10-03 19:45:40.428942336</td>\n",
       "    </tr>\n",
       "  </tbody>\n",
       "</table>\n",
       "</div>"
      ],
      "text/plain": [
       "   subject_id  hadm_id  submit_wardid  curr_wardid curr_careunit  \\\n",
       "0         518       79             22           38          SICU   \n",
       "1         534       80             22           34          SICU   \n",
       "2         534       81             25           47          SICU   \n",
       "3         555       82             25           36          SICU   \n",
       "4         565       83             48           35          MICU   \n",
       "\n",
       "   callout_wardid callout_service  request_tele  request_resp  request_cdiff  \\\n",
       "0              21           CSURG             1             0              0   \n",
       "1              18            OMED             1             0              0   \n",
       "2              35            CMED             1             0              0   \n",
       "3              12           CSURG             1             0              0   \n",
       "4              21             CCU             1             0              0   \n",
       "\n",
       "   request_mrsa  request_vre callout_status callout_outcome  discharge_wardid  \\\n",
       "0             0            0       Inactive      Discharged              28.0   \n",
       "1             0            0       Inactive      Discharged              26.0   \n",
       "2             0            0       Inactive       Cancelled              73.0   \n",
       "3             0            0       Inactive      Discharged               0.0   \n",
       "4             0            0       Inactive      Discharged               0.0   \n",
       "\n",
       "  acknowledge_status                    createtime  \\\n",
       "0       Acknowledged 2132-01-12 16:55:44.359519232   \n",
       "1       Acknowledged 2105-12-27 11:42:32.577035776   \n",
       "2       Acknowledged 2106-06-05 13:13:49.802624000   \n",
       "3       Acknowledged 1969-11-22 23:55:13.635221884   \n",
       "4       Acknowledged 2000-07-21 14:28:27.981632896   \n",
       "\n",
       "                     updatetime               acknowledgetime  \\\n",
       "0 2160-01-02 23:40:34.586804224 2171-10-13 11:08:13.608137728   \n",
       "1 2127-11-30 15:35:06.207374336 2126-07-04 23:33:10.479185920   \n",
       "2 2127-12-23 01:00:49.191844864                           NaT   \n",
       "3 1977-09-10 03:01:57.780327200 2013-10-15 01:23:29.150006784   \n",
       "4 2015-08-15 11:10:46.274389248 2003-07-27 15:41:50.534866176   \n",
       "\n",
       "                    outcometime  \n",
       "0 2203-07-28 07:37:02.321100800  \n",
       "1 2142-11-04 01:46:03.801082880  \n",
       "2 2142-10-26 10:51:12.483483648  \n",
       "3 2019-09-28 03:48:14.343142400  \n",
       "4 2041-10-03 19:45:40.428942336  "
      ]
     },
     "execution_count": 99,
     "metadata": {},
     "output_type": "execute_result"
    }
   ],
   "source": [
    "new_data_sample['callout_sample_df'].head(5)"
   ]
  },
  {
   "cell_type": "code",
   "execution_count": 102,
   "metadata": {},
   "outputs": [
    {
     "data": {
      "text/plain": [
       "0.7062228509428266"
      ]
     },
     "execution_count": 102,
     "metadata": {},
     "output_type": "execute_result"
    }
   ],
   "source": [
    "evaluate(\n",
    "    new_data_sample['callout_sample_df'].loc[:, ['curr_careunit', 'callout_service','callout_status','callout_outcome','acknowledge_status']], \n",
    "    callout_sample_df.loc[:, ['curr_careunit', 'callout_service','callout_status','callout_outcome','acknowledge_status']], \n",
    "    metrics=['DiscreteKLDivergence'])"
   ]
  },
  {
   "cell_type": "code",
   "execution_count": 116,
   "metadata": {},
   "outputs": [],
   "source": [
    "from sdv.metrics.relational import KSTestExtended"
   ]
  },
  {
   "cell_type": "code",
   "execution_count": 122,
   "metadata": {},
   "outputs": [
    {
     "data": {
      "text/plain": [
       "0.6968312980239912"
      ]
     },
     "execution_count": 122,
     "metadata": {},
     "output_type": "execute_result"
    }
   ],
   "source": [
    "KSTestExtended.compute(patients_tables, new_data_sample)"
   ]
  }
 ],
 "metadata": {
  "kernelspec": {
   "display_name": "Python 3.8.13 ('msc_project')",
   "language": "python",
   "name": "python3"
  },
  "language_info": {
   "codemirror_mode": {
    "name": "ipython",
    "version": 3
   },
   "file_extension": ".py",
   "mimetype": "text/x-python",
   "name": "python",
   "nbconvert_exporter": "python",
   "pygments_lexer": "ipython3",
   "version": "3.8.13"
  },
  "orig_nbformat": 4,
  "vscode": {
   "interpreter": {
    "hash": "e56015fb566b08f7af163d42c82cf08fa5d6db3fbaaffa0afaaff5a893fc0496"
   }
  }
 },
 "nbformat": 4,
 "nbformat_minor": 2
}
