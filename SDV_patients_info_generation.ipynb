{
 "cells": [
  {
   "cell_type": "code",
   "execution_count": null,
   "metadata": {},
   "outputs": [],
   "source": [
    "# from google.colab import drive\n",
    "# drive.mount('/content/drive')"
   ]
  },
  {
   "cell_type": "code",
   "execution_count": null,
   "metadata": {},
   "outputs": [],
   "source": [
    "# ! pip install pgmpy"
   ]
  },
  {
   "cell_type": "code",
   "execution_count": 1,
   "metadata": {},
   "outputs": [],
   "source": [
    "# Ignore warnings\n",
    "import warnings\n",
    "warnings.filterwarnings(\"ignore\")"
   ]
  },
  {
   "cell_type": "code",
   "execution_count": 2,
   "metadata": {},
   "outputs": [],
   "source": [
    "import pandas as pd\n",
    "import numpy as np\n",
    "\n",
    "import common"
   ]
  },
  {
   "cell_type": "code",
   "execution_count": 3,
   "metadata": {},
   "outputs": [],
   "source": [
    "date_set_path = \"../temp_sets_100/\""
   ]
  },
  {
   "cell_type": "markdown",
   "metadata": {},
   "source": [
    "## Patients"
   ]
  },
  {
   "cell_type": "markdown",
   "metadata": {},
   "source": [
    "### Read samples"
   ]
  },
  {
   "cell_type": "code",
   "execution_count": 4,
   "metadata": {},
   "outputs": [],
   "source": [
    "patients_df = common.read_csv_no_rowid(date_set_path+\"patients.csv\")"
   ]
  },
  {
   "cell_type": "markdown",
   "metadata": {},
   "source": [
    "### Data preproces"
   ]
  },
  {
   "cell_type": "code",
   "execution_count": 5,
   "metadata": {},
   "outputs": [],
   "source": [
    "# Drop useless colums\n",
    "patients_df.drop(['dod', 'expire_flag'], axis=1, inplace=True)"
   ]
  },
  {
   "cell_type": "markdown",
   "metadata": {},
   "source": [
    "#### Deal with null value"
   ]
  },
  {
   "cell_type": "code",
   "execution_count": 7,
   "metadata": {},
   "outputs": [
    {
     "name": "stdout",
     "output_type": "stream",
     "text": [
      "Total columns: 5\n",
      "Total rows: 100\n",
      "--------------\n",
      "subject_id     0\n",
      "gender         0\n",
      "dob            0\n",
      "dod_hosp      78\n",
      "dod_ssn       63\n",
      "dtype: int64\n"
     ]
    }
   ],
   "source": [
    "# Check null value in table\n",
    "common.nan_count(patients_df)"
   ]
  },
  {
   "cell_type": "code",
   "execution_count": 8,
   "metadata": {},
   "outputs": [],
   "source": [
    "# Set a value replacing the null time value\n",
    "nan_datetime=pd.to_datetime(0)"
   ]
  },
  {
   "cell_type": "code",
   "execution_count": 9,
   "metadata": {},
   "outputs": [],
   "source": [
    "patients_df['dob'].fillna(value=nan_datetime, inplace=True)\n",
    "patients_df['dod_hosp'].fillna(value=nan_datetime, inplace=True)\n",
    "patients_df['dod_ssn'].fillna(value=nan_datetime, inplace=True)"
   ]
  },
  {
   "cell_type": "code",
   "execution_count": 10,
   "metadata": {},
   "outputs": [
    {
     "name": "stdout",
     "output_type": "stream",
     "text": [
      "Total columns: 5\n",
      "Total rows: 100\n",
      "--------------\n",
      "subject_id    0\n",
      "gender        0\n",
      "dob           0\n",
      "dod_hosp      0\n",
      "dod_ssn       0\n",
      "dtype: int64\n"
     ]
    }
   ],
   "source": [
    "common.nan_count(patients_df)"
   ]
  },
  {
   "cell_type": "markdown",
   "metadata": {},
   "source": [
    "#### Set the column types"
   ]
  },
  {
   "cell_type": "code",
   "execution_count": 11,
   "metadata": {},
   "outputs": [
    {
     "data": {
      "text/plain": [
       "subject_id             int64\n",
       "gender                object\n",
       "dob           datetime64[ns]\n",
       "dod_hosp      datetime64[ns]\n",
       "dod_ssn       datetime64[ns]\n",
       "dtype: object"
      ]
     },
     "execution_count": 11,
     "metadata": {},
     "output_type": "execute_result"
    }
   ],
   "source": [
    "patients_df.dtypes"
   ]
  },
  {
   "cell_type": "code",
   "execution_count": 6,
   "metadata": {},
   "outputs": [],
   "source": [
    "# Transfer some date type\n",
    "\n",
    "patients_df['dob'] = pd.to_datetime(patients_df['dob'])\n",
    "# patients_df['DOD'] = pd.to_datetime(patients_df['DOD'])\n",
    "patients_df['dod_hosp'] = pd.to_datetime(patients_df['dod_hosp'])\n",
    "patients_df['dod_ssn'] = pd.to_datetime(patients_df['dod_ssn'])"
   ]
  },
  {
   "cell_type": "code",
   "execution_count": null,
   "metadata": {},
   "outputs": [],
   "source": [
    "patients_df.dtypes"
   ]
  },
  {
   "cell_type": "markdown",
   "metadata": {},
   "source": [
    "### Admissions\n",
    "\n",
    "Note: the 'deathtime' in admission table cannot be dropped, as this column includes the exact time."
   ]
  },
  {
   "cell_type": "code",
   "execution_count": null,
   "metadata": {},
   "outputs": [],
   "source": [
    "admissions_sample_df = common.read_csv_no_rowid(date_set_path+\"admissions.csv\")"
   ]
  },
  {
   "cell_type": "code",
   "execution_count": null,
   "metadata": {},
   "outputs": [],
   "source": [
    "admissions_sample_df.drop(['diagnosis', 'hospital_expire_flag'], axis=1, inplace=True)"
   ]
  },
  {
   "cell_type": "code",
   "execution_count": null,
   "metadata": {},
   "outputs": [],
   "source": [
    "admissions_sample_df['admittime'] = pd.to_datetime(admissions_sample_df['admittime'])\n",
    "admissions_sample_df['dischtime'] = pd.to_datetime(admissions_sample_df['dischtime'])\n",
    "admissions_sample_df['deathtime'] = pd.to_datetime(admissions_sample_df['deathtime'])\n",
    "admissions_sample_df['edregtime'] = pd.to_datetime(admissions_sample_df['edregtime'])\n",
    "admissions_sample_df['edouttime'] = pd.to_datetime(admissions_sample_df['edouttime'])"
   ]
  },
  {
   "cell_type": "code",
   "execution_count": null,
   "metadata": {},
   "outputs": [],
   "source": [
    "admissions_sample_df.dtypes"
   ]
  },
  {
   "cell_type": "code",
   "execution_count": null,
   "metadata": {},
   "outputs": [],
   "source": [
    "# admissions_sample_df.loc[:, 'admittime'] = admissions_sample_df.loc[:, 'admittime'].apply(datetime_discretisation)\n",
    "# admissions_sample_df.loc[:, 'dischtime'] = admissions_sample_df.loc[:, 'dischtime'].apply(datetime_discretisation)\n",
    "# admissions_sample_df.loc[:, 'deathtime'] = admissions_sample_df.loc[:, 'deathtime'].apply(datetime_discretisation)\n",
    "# admissions_sample_df.loc[:, 'edregtime'] = admissions_sample_df.loc[:, 'edregtime'].apply(datetime_discretisation)\n",
    "# admissions_sample_df.loc[:, 'edouttime'] = admissions_sample_df.loc[:, 'edouttime'].apply(datetime_discretisation)"
   ]
  },
  {
   "cell_type": "code",
   "execution_count": null,
   "metadata": {},
   "outputs": [],
   "source": [
    "admissions_sample_df['language'].fillna(value='unknow', inplace=True)\n",
    "admissions_sample_df['marital_status'].fillna(value='unknow', inplace=True)\n",
    "admissions_sample_df['religion'].fillna(value='unknow', inplace=True)\n",
    "# admissions_sample_df['deathtime'].fillna(value=nan_time, inplace=True)\n",
    "# admissions_sample_df['edregtime'].fillna(value=nan_time, inplace=True)\n",
    "# admissions_sample_df['edouttime'].fillna(value=nan_time, inplace=True)"
   ]
  },
  {
   "cell_type": "code",
   "execution_count": null,
   "metadata": {},
   "outputs": [],
   "source": [
    "common.nan_count(admissions_sample_df)"
   ]
  },
  {
   "cell_type": "markdown",
   "metadata": {},
   "source": [
    "### Callout"
   ]
  },
  {
   "cell_type": "code",
   "execution_count": null,
   "metadata": {},
   "outputs": [],
   "source": [
    "callout_sample_df = common.read_csv_no_rowid(date_set_path+\"callout.csv\")"
   ]
  },
  {
   "cell_type": "code",
   "execution_count": null,
   "metadata": {},
   "outputs": [],
   "source": [
    "callout_sample_df.drop(['submit_careunit', 'firstreservationtime', 'currentreservationtime'], axis=1, inplace=True)"
   ]
  },
  {
   "cell_type": "code",
   "execution_count": null,
   "metadata": {},
   "outputs": [],
   "source": [
    "callout_sample_df['createtime'] = pd.to_datetime(callout_sample_df['createtime'])\n",
    "callout_sample_df['updatetime'] = pd.to_datetime(callout_sample_df['updatetime'])\n",
    "callout_sample_df['acknowledgetime'] = pd.to_datetime(callout_sample_df['acknowledgetime'])\n",
    "callout_sample_df['outcometime'] = pd.to_datetime(callout_sample_df['outcometime'])"
   ]
  },
  {
   "cell_type": "code",
   "execution_count": null,
   "metadata": {},
   "outputs": [],
   "source": [
    "# callout_sample_df.loc[:, 'createtime'] = callout_sample_df.loc[:, 'createtime'].apply(datetime_discretisation)\n",
    "# callout_sample_df.loc[:, 'updatetime'] = callout_sample_df.loc[:, 'updatetime'].apply(datetime_discretisation)\n",
    "# callout_sample_df.loc[:, 'acknowledgetime'] = callout_sample_df.loc[:, 'acknowledgetime'].apply(datetime_discretisation)\n",
    "# callout_sample_df.loc[:, 'outcometime'] = callout_sample_df.loc[:, 'outcometime'].apply(datetime_discretisation)"
   ]
  },
  {
   "cell_type": "code",
   "execution_count": null,
   "metadata": {},
   "outputs": [],
   "source": [
    "callout_sample_df['discharge_wardid'].fillna(value=100, inplace=True)\n",
    "# callout_sample_df['acknowledgetime'].fillna(value=nan_time, inplace=True)"
   ]
  },
  {
   "cell_type": "code",
   "execution_count": null,
   "metadata": {},
   "outputs": [],
   "source": [
    "common.nan_count(callout_sample_df)"
   ]
  },
  {
   "cell_type": "markdown",
   "metadata": {},
   "source": [
    "### ICUstays"
   ]
  },
  {
   "cell_type": "code",
   "execution_count": null,
   "metadata": {},
   "outputs": [],
   "source": [
    "icustays_sample_df = common.read_csv_no_rowid(date_set_path+\"icustays.csv\")"
   ]
  },
  {
   "cell_type": "code",
   "execution_count": null,
   "metadata": {},
   "outputs": [],
   "source": [
    "icustays_sample_df.drop(['los'], axis=1, inplace=True)"
   ]
  },
  {
   "cell_type": "code",
   "execution_count": null,
   "metadata": {},
   "outputs": [],
   "source": [
    "icustays_sample_df['intime'] = pd.to_datetime(icustays_sample_df['intime'])\n",
    "icustays_sample_df['outtime'] = pd.to_datetime(icustays_sample_df['outtime'])"
   ]
  },
  {
   "cell_type": "code",
   "execution_count": null,
   "metadata": {},
   "outputs": [],
   "source": [
    "# icustays_sample_df.loc[:, 'intime'] = icustays_sample_df.loc[:, 'intime'].apply(datetime_discretisation)\n",
    "# icustays_sample_df.loc[:, 'outtime'] = icustays_sample_df.loc[:, 'outtime'].apply(datetime_discretisation)"
   ]
  },
  {
   "cell_type": "code",
   "execution_count": null,
   "metadata": {},
   "outputs": [],
   "source": [
    "common.nan_count(icustays_sample_df)"
   ]
  },
  {
   "cell_type": "markdown",
   "metadata": {},
   "source": [
    "---"
   ]
  },
  {
   "cell_type": "markdown",
   "metadata": {},
   "source": [
    "## Combine samples"
   ]
  },
  {
   "cell_type": "code",
   "execution_count": null,
   "metadata": {},
   "outputs": [],
   "source": [
    "# patients_df = pd.merge(patients_df, admissions_sample_df, on=['subject_id'], how='inner')\n",
    "# patients_df = pd.merge(patients_df, callout_sample_df, on=['subject_id', 'hadm_id'], how='inner')\n",
    "# patients_df = pd.merge(patients_df, icustays_sample_df, on=['subject_id', 'hadm_id'], how='inner')"
   ]
  },
  {
   "cell_type": "code",
   "execution_count": null,
   "metadata": {},
   "outputs": [],
   "source": [
    "# patients_df.columns"
   ]
  },
  {
   "cell_type": "code",
   "execution_count": null,
   "metadata": {},
   "outputs": [],
   "source": [
    "# nan_count(patients_df)"
   ]
  },
  {
   "cell_type": "code",
   "execution_count": null,
   "metadata": {},
   "outputs": [],
   "source": [
    "# patients_df = pd.merge(patients_df, services_sample_df, on=['subject_id', 'hadm_id'], how='outer')\n",
    "# patients_df = pd.merge(patients_df, transfers_sample_df.drop(['icustay_id', 'dbsource', 'curr_careunit', 'curr_wardid', \\\n",
    "#                                                 'intime', 'outtime', 'los'], axis=1), on=['subject_id', 'hadm_id'], how='outer')\n",
    "# patients_df.fillna(value=\"Na\", inplace=True)"
   ]
  },
  {
   "cell_type": "code",
   "execution_count": null,
   "metadata": {},
   "outputs": [],
   "source": [
    "# patients_df.to_csv(\"patients_info.csv\")"
   ]
  },
  {
   "cell_type": "code",
   "execution_count": null,
   "metadata": {},
   "outputs": [],
   "source": [
    "# patients_df.drop(['subject_id', 'hadm_id'], axis=1, inplace=True)"
   ]
  },
  {
   "cell_type": "markdown",
   "metadata": {},
   "source": [
    "---"
   ]
  },
  {
   "cell_type": "markdown",
   "metadata": {},
   "source": [
    "##  Build Network"
   ]
  },
  {
   "cell_type": "code",
   "execution_count": null,
   "metadata": {},
   "outputs": [],
   "source": [
    "from sdv import Metadata\n",
    "from sdv.relational import HMA1\n",
    "\n",
    "from sdv.constraints import GreaterThan"
   ]
  },
  {
   "cell_type": "code",
   "execution_count": null,
   "metadata": {},
   "outputs": [],
   "source": [
    "patients_tables = {\n",
    "    'patients_df': patients_df,\n",
    "    'admissions_sample_df': admissions_sample_df,\n",
    "    'callout_sample_df': callout_sample_df,\n",
    "    'icustays_sample_df': icustays_sample_df\n",
    "}"
   ]
  },
  {
   "cell_type": "code",
   "execution_count": null,
   "metadata": {},
   "outputs": [],
   "source": [
    "# contains in patients\n"
   ]
  },
  {
   "cell_type": "code",
   "execution_count": null,
   "metadata": {},
   "outputs": [],
   "source": [
    "# contains in admissions\n",
    "admittime_dischtime = GreaterThan(\n",
    "    low='admittime',\n",
    "    high='dischtime',\n",
    "    handling_strategy='reject_sampling'\n",
    ")\n",
    "\n",
    "edregtime_edouttime = GreaterThan(\n",
    "    low='edregtime',\n",
    "    high='edouttime',\n",
    "    handling_strategy='reject_sampling'\n",
    ")"
   ]
  },
  {
   "cell_type": "code",
   "execution_count": null,
   "metadata": {},
   "outputs": [],
   "source": [
    "# contains in callout\n",
    "createtime_updatetime = GreaterThan(\n",
    "    low='createtime',\n",
    "    high='updatetime',\n",
    "    handling_strategy='reject_sampling'\n",
    ")\n",
    "\n",
    "createtime_acknowledgetime = GreaterThan(\n",
    "    low='createtime',\n",
    "    high='acknowledgetime',\n",
    "    handling_strategy='reject_sampling'\n",
    ")\n",
    "\n",
    "updatetime_outcometime = GreaterThan(\n",
    "    low='updatetime',\n",
    "    high='outcometime',\n",
    "    handling_strategy='reject_sampling'\n",
    ")\n",
    "\n",
    "acknowledgetime_outcometime = GreaterThan(\n",
    "    low='acknowledgetime',\n",
    "    high='outcometime',\n",
    "    handling_strategy='reject_sampling'\n",
    ")"
   ]
  },
  {
   "cell_type": "code",
   "execution_count": null,
   "metadata": {},
   "outputs": [],
   "source": [
    "# contains in icu_stays\n",
    "intime_outtime = GreaterThan(\n",
    "    low='intime',\n",
    "    high='outtime',\n",
    "    handling_strategy='transform'\n",
    ")"
   ]
  },
  {
   "cell_type": "code",
   "execution_count": null,
   "metadata": {},
   "outputs": [],
   "source": [
    "metadata = Metadata()"
   ]
  },
  {
   "cell_type": "code",
   "execution_count": null,
   "metadata": {},
   "outputs": [],
   "source": [
    "metadata.add_table(name='patients_df', data=patients_tables['patients_df'], primary_key='subject_id')\n",
    "\n",
    "metadata.add_table(name='admissions_sample_df', data=patients_tables['admissions_sample_df'], primary_key='hadm_id', \n",
    "    parent='patients_df', foreign_key='subject_id', constraints=[edregtime_edouttime])\n",
    "\n",
    "metadata.add_table(name='callout_sample_df', data=patients_tables['callout_sample_df'], primary_key='hadm_id', \n",
    "    parent='patients_df', foreign_key='subject_id', \n",
    "    constraints=[createtime_updatetime, createtime_acknowledgetime, updatetime_outcometime, acknowledgetime_outcometime])\n",
    "    \n",
    "metadata.add_table(name='icustays_sample_df', data=patients_tables['icustays_sample_df'], primary_key='icustay_id', \n",
    "    parent='callout_sample_df', foreign_key='hadm_id', constraints=[intime_outtime])"
   ]
  },
  {
   "cell_type": "code",
   "execution_count": null,
   "metadata": {},
   "outputs": [],
   "source": [
    "nan_count(icustays_sample_df)"
   ]
  },
  {
   "cell_type": "code",
   "execution_count": null,
   "metadata": {},
   "outputs": [],
   "source": [
    "# metadata.add_table(name='patients_df', data=patients_tables['patients_df'], primary_key='subject_id')\n",
    "\n",
    "# metadata.add_table(name='admissions_sample_df', data=patients_tables['admissions_sample_df'], primary_key='hadm_id', \n",
    "#     parent='patients_df', foreign_key='subject_id', constraints=[admittime_dischtime, edregtime_edouttime])\n",
    "\n",
    "# metadata.add_table(name='callout_sample_df', data=patients_tables['callout_sample_df'], primary_key='hadm_id', \n",
    "#     parent='patients_df', foreign_key='subject_id', \n",
    "#     constraints=[createtime_updatetime, createtime_acknowledgetime, updatetime_outcometime, acknowledgetime_outcometime])\n",
    "    \n",
    "# metadata.add_table(name='icustays_sample_df', data=patients_tables['icustays_sample_df'], primary_key='icustay_id', \n",
    "#     parent='callout_sample_df', foreign_key='hadm_id', constraints=[intime_outtime])"
   ]
  },
  {
   "cell_type": "code",
   "execution_count": null,
   "metadata": {},
   "outputs": [],
   "source": [
    "# metadata.visualize()"
   ]
  },
  {
   "cell_type": "code",
   "execution_count": null,
   "metadata": {},
   "outputs": [],
   "source": [
    "patients_info_model = HMA1(metadata)"
   ]
  },
  {
   "cell_type": "code",
   "execution_count": null,
   "metadata": {},
   "outputs": [],
   "source": [
    "patients_info_model.fit(patients_tables)"
   ]
  },
  {
   "cell_type": "code",
   "execution_count": null,
   "metadata": {},
   "outputs": [],
   "source": [
    "patients_info_model.save(\"../temp_sets/models/patients_info_model.pkl\")"
   ]
  },
  {
   "cell_type": "code",
   "execution_count": null,
   "metadata": {},
   "outputs": [],
   "source": [
    "new_data_sample = patients_info_model.sample(num_rows = 1000)"
   ]
  },
  {
   "cell_type": "markdown",
   "metadata": {},
   "source": [
    "---"
   ]
  },
  {
   "cell_type": "code",
   "execution_count": null,
   "metadata": {},
   "outputs": [],
   "source": [
    "from sdv.evaluation import evaluate"
   ]
  },
  {
   "cell_type": "code",
   "execution_count": null,
   "metadata": {},
   "outputs": [],
   "source": [
    "new_data_sample['callout_sample_df'].head(5)"
   ]
  },
  {
   "cell_type": "code",
   "execution_count": null,
   "metadata": {},
   "outputs": [],
   "source": [
    "evaluate(\n",
    "    new_data_sample['callout_sample_df'].loc[:, ['curr_careunit', 'callout_service','callout_status','callout_outcome','acknowledge_status']], \n",
    "    callout_sample_df.loc[:, ['curr_careunit', 'callout_service','callout_status','callout_outcome','acknowledge_status']], \n",
    "    metrics=['DiscreteKLDivergence'])"
   ]
  },
  {
   "cell_type": "code",
   "execution_count": null,
   "metadata": {},
   "outputs": [],
   "source": [
    "from sdv.metrics.relational import KSTestExtended"
   ]
  },
  {
   "cell_type": "code",
   "execution_count": null,
   "metadata": {},
   "outputs": [],
   "source": [
    "KSTestExtended.compute(patients_tables, new_data_sample)"
   ]
  }
 ],
 "metadata": {
  "kernelspec": {
   "display_name": "Python 3.8.13 ('msc_project')",
   "language": "python",
   "name": "python3"
  },
  "language_info": {
   "codemirror_mode": {
    "name": "ipython",
    "version": 3
   },
   "file_extension": ".py",
   "mimetype": "text/x-python",
   "name": "python",
   "nbconvert_exporter": "python",
   "pygments_lexer": "ipython3",
   "version": "3.8.13"
  },
  "orig_nbformat": 4,
  "vscode": {
   "interpreter": {
    "hash": "e56015fb566b08f7af163d42c82cf08fa5d6db3fbaaffa0afaaff5a893fc0496"
   }
  }
 },
 "nbformat": 4,
 "nbformat_minor": 2
}
