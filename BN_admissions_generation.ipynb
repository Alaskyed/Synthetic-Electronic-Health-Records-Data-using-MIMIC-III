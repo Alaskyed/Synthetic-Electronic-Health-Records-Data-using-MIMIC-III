{
 "cells": [
  {
   "cell_type": "code",
   "execution_count": 1,
   "metadata": {},
   "outputs": [],
   "source": [
    "# Ignore warnings\n",
    "import warnings\n",
    "warnings.filterwarnings(\"ignore\")"
   ]
  },
  {
   "cell_type": "code",
   "execution_count": 2,
   "metadata": {},
   "outputs": [],
   "source": [
    "import pandas as pd\n",
    "import numpy as np\n",
    "\n",
    "import common"
   ]
  },
  {
   "cell_type": "code",
   "execution_count": 3,
   "metadata": {},
   "outputs": [],
   "source": [
    "data_set_path = \"../temp_sets_100/\""
   ]
  },
  {
   "cell_type": "markdown",
   "metadata": {},
   "source": [
    "## Time data discretisation"
   ]
  },
  {
   "cell_type": "code",
   "execution_count": 4,
   "metadata": {},
   "outputs": [],
   "source": [
    "def date_discretisation(date):\n",
    "    if not pd.isna(date):\n",
    "        # Do not use \"-\" as connector, because Pandas might read it as date or time!!\n",
    "        return str(date.quarter) + \"&\" + str(date.dayofweek)\n",
    "    else:\n",
    "        return \"Na\""
   ]
  },
  {
   "cell_type": "code",
   "execution_count": 5,
   "metadata": {},
   "outputs": [],
   "source": [
    "def datetime_discretisation(date):\n",
    "    if not pd.isna(date):\n",
    "        # Do not use \"-\" as connector, because Pandas might read it as date or time!!\n",
    "        return str(date.quarter) + \"&\" + str(date.dayofweek) + \"&\" + str(date.hour)\n",
    "    else:\n",
    "        return \"Na\""
   ]
  },
  {
   "cell_type": "markdown",
   "metadata": {},
   "source": [
    "## Read Data"
   ]
  },
  {
   "cell_type": "code",
   "execution_count": 6,
   "metadata": {},
   "outputs": [],
   "source": [
    "admissions_df = common.read_csv_no_rowid(data_set_path+\"admissions.csv\")"
   ]
  },
  {
   "cell_type": "code",
   "execution_count": 7,
   "metadata": {},
   "outputs": [],
   "source": [
    "admissions_df.drop(['diagnosis', 'hospital_expire_flag'], axis=1, inplace=True)"
   ]
  },
  {
   "cell_type": "code",
   "execution_count": 8,
   "metadata": {},
   "outputs": [],
   "source": [
    "admissions_df['admittime'] = pd.to_datetime(admissions_df['admittime'])\n",
    "admissions_df['dischtime'] = pd.to_datetime(admissions_df['dischtime'])\n",
    "admissions_df['deathtime'] = pd.to_datetime(admissions_df['deathtime'])\n",
    "admissions_df['edregtime'] = pd.to_datetime(admissions_df['edregtime'])\n",
    "admissions_df['edouttime'] = pd.to_datetime(admissions_df['edouttime'])"
   ]
  },
  {
   "cell_type": "markdown",
   "metadata": {},
   "source": [
    "---"
   ]
  },
  {
   "cell_type": "markdown",
   "metadata": {},
   "source": [
    "##  Build Network"
   ]
  },
  {
   "cell_type": "code",
   "execution_count": 9,
   "metadata": {},
   "outputs": [
    {
     "data": {
      "text/plain": [
       "143"
      ]
     },
     "execution_count": 9,
     "metadata": {},
     "output_type": "execute_result"
    }
   ],
   "source": [
    "len(admissions_df)"
   ]
  },
  {
   "cell_type": "code",
   "execution_count": 10,
   "metadata": {},
   "outputs": [
    {
     "data": {
      "application/vnd.jupyter.widget-view+json": {
       "model_id": "48d92f7974b7473685cda0019352f229",
       "version_major": 2,
       "version_minor": 0
      },
      "text/plain": [
       "  0%|          | 0/1000000 [00:00<?, ?it/s]"
      ]
     },
     "metadata": {},
     "output_type": "display_data"
    },
    {
     "name": "stdout",
     "output_type": "stream",
     "text": [
      "[('subject_id', 'edregtime'), ('hadm_id', 'subject_id'), ('admittime', 'dischtime'), ('dischtime', 'hadm_id'), ('deathtime', 'marital_status'), ('deathtime', 'religion'), ('deathtime', 'edouttime'), ('ethnicity', 'admittime'), ('edregtime', 'deathtime')]\n"
     ]
    }
   ],
   "source": [
    "from pgmpy.estimators import HillClimbSearch\n",
    "\n",
    "hc = HillClimbSearch(admissions_df)\n",
    "best_model = hc.estimate()\n",
    "print(best_model.edges())\n",
    "edges = best_model.edges()"
   ]
  },
  {
   "cell_type": "code",
   "execution_count": 11,
   "metadata": {},
   "outputs": [],
   "source": [
    "features = list(best_model.nodes())"
   ]
  },
  {
   "cell_type": "code",
   "execution_count": 12,
   "metadata": {},
   "outputs": [],
   "source": [
    "from pgmpy.models import BayesianNetwork\n",
    "from pgmpy.estimators import BayesianEstimator\n",
    "\n",
    "bn_admissions_model = BayesianNetwork(edges)"
   ]
  },
  {
   "cell_type": "code",
   "execution_count": 13,
   "metadata": {},
   "outputs": [
    {
     "data": {
      "text/plain": [
       "9"
      ]
     },
     "execution_count": 13,
     "metadata": {},
     "output_type": "execute_result"
    }
   ],
   "source": [
    "len(edges)"
   ]
  },
  {
   "cell_type": "code",
   "execution_count": 14,
   "metadata": {},
   "outputs": [],
   "source": [
    "bn_admissions_model.fit(\n",
    "    admissions_df.loc[:, features], \n",
    "    estimator=BayesianEstimator, \n",
    "    prior_type=\"BDeu\", \n",
    "    n_jobs=8) # default equivalent_sample_size=5"
   ]
  },
  {
   "cell_type": "markdown",
   "metadata": {},
   "source": [
    "## Generation test"
   ]
  },
  {
   "cell_type": "code",
   "execution_count": 15,
   "metadata": {},
   "outputs": [
    {
     "data": {
      "text/plain": [
       "(100, 143)"
      ]
     },
     "execution_count": 15,
     "metadata": {},
     "output_type": "execute_result"
    }
   ],
   "source": [
    "bn_admissions_model.get_cpds()[0].values.shape"
   ]
  },
  {
   "cell_type": "code",
   "execution_count": 16,
   "metadata": {},
   "outputs": [],
   "source": [
    "# patients_info_model.fit_update(patients_df.loc[101:200, list(patients_info_model.nodes)])"
   ]
  },
  {
   "cell_type": "code",
   "execution_count": 17,
   "metadata": {},
   "outputs": [],
   "source": [
    "# patients_info_model.save(filename=\"patients_info_model.bif\", filetype='bif')"
   ]
  },
  {
   "cell_type": "code",
   "execution_count": 18,
   "metadata": {},
   "outputs": [
    {
     "data": {
      "application/vnd.jupyter.widget-view+json": {
       "model_id": "4c72f47e68da4ffa86d13ea9d13af53b",
       "version_major": 2,
       "version_minor": 0
      },
      "text/plain": [
       "  0%|          | 0/10 [00:00<?, ?it/s]"
      ]
     },
     "metadata": {},
     "output_type": "display_data"
    }
   ],
   "source": [
    "sample = bn_admissions_model.simulate(n_samples=100)"
   ]
  },
  {
   "cell_type": "markdown",
   "metadata": {},
   "source": [
    "## Evaluation"
   ]
  },
  {
   "cell_type": "code",
   "execution_count": 19,
   "metadata": {},
   "outputs": [],
   "source": [
    "from sdv.evaluation import evaluate"
   ]
  },
  {
   "cell_type": "code",
   "execution_count": 20,
   "metadata": {},
   "outputs": [
    {
     "data": {
      "text/plain": [
       "0.2744373237733679"
      ]
     },
     "execution_count": 20,
     "metadata": {},
     "output_type": "execute_result"
    }
   ],
   "source": [
    "evaluate(sample, admissions_df.loc[:, sample.columns], metrics=['ContinuousKLDivergence'])"
   ]
  },
  {
   "cell_type": "code",
   "execution_count": 21,
   "metadata": {},
   "outputs": [
    {
     "data": {
      "text/plain": [
       "0.17308929996753739"
      ]
     },
     "execution_count": 21,
     "metadata": {},
     "output_type": "execute_result"
    }
   ],
   "source": [
    "evaluate(sample, admissions_df.loc[:, sample.columns], metrics=['DiscreteKLDivergence'])"
   ]
  },
  {
   "cell_type": "code",
   "execution_count": 22,
   "metadata": {},
   "outputs": [
    {
     "data": {
      "text/plain": [
       "0.5524356828608811"
      ]
     },
     "execution_count": 22,
     "metadata": {},
     "output_type": "execute_result"
    }
   ],
   "source": [
    "evaluate(sample, admissions_df.loc[:, sample.columns], metrics=['CSTest', 'KSTest', 'ContinuousKLDivergence', 'DiscreteKLDivergence'])"
   ]
  },
  {
   "cell_type": "code",
   "execution_count": 23,
   "metadata": {},
   "outputs": [
    {
     "data": {
      "text/plain": [
       "Index(['marital_status', 'edouttime', 'ethnicity', 'deathtime', 'edregtime',\n",
       "       'dischtime', 'religion', 'hadm_id', 'admittime', 'subject_id'],\n",
       "      dtype='object')"
      ]
     },
     "execution_count": 23,
     "metadata": {},
     "output_type": "execute_result"
    }
   ],
   "source": [
    "sample.columns"
   ]
  },
  {
   "cell_type": "code",
   "execution_count": 24,
   "metadata": {},
   "outputs": [
    {
     "data": {
      "text/html": [
       "<div>\n",
       "<style scoped>\n",
       "    .dataframe tbody tr th:only-of-type {\n",
       "        vertical-align: middle;\n",
       "    }\n",
       "\n",
       "    .dataframe tbody tr th {\n",
       "        vertical-align: top;\n",
       "    }\n",
       "\n",
       "    .dataframe thead th {\n",
       "        text-align: right;\n",
       "    }\n",
       "</style>\n",
       "<table border=\"1\" class=\"dataframe\">\n",
       "  <thead>\n",
       "    <tr style=\"text-align: right;\">\n",
       "      <th></th>\n",
       "      <th>marital_status</th>\n",
       "      <th>edouttime</th>\n",
       "      <th>ethnicity</th>\n",
       "      <th>deathtime</th>\n",
       "      <th>edregtime</th>\n",
       "      <th>dischtime</th>\n",
       "      <th>religion</th>\n",
       "      <th>hadm_id</th>\n",
       "      <th>admittime</th>\n",
       "      <th>subject_id</th>\n",
       "    </tr>\n",
       "  </thead>\n",
       "  <tbody>\n",
       "    <tr>\n",
       "      <th>0</th>\n",
       "      <td>DIVORCED</td>\n",
       "      <td>2165-04-04 07:53:00</td>\n",
       "      <td>WHITE</td>\n",
       "      <td>NaT</td>\n",
       "      <td>2165-04-04 01:14:00</td>\n",
       "      <td>2165-04-16 14:41:00</td>\n",
       "      <td>EPISCOPALIAN</td>\n",
       "      <td>140114</td>\n",
       "      <td>2165-04-04 02:25:00</td>\n",
       "      <td>44346</td>\n",
       "    </tr>\n",
       "    <tr>\n",
       "      <th>1</th>\n",
       "      <td>MARRIED</td>\n",
       "      <td>2200-04-18 23:26:00</td>\n",
       "      <td>WHITE</td>\n",
       "      <td>NaT</td>\n",
       "      <td>2200-04-18 12:31:00</td>\n",
       "      <td>2200-04-28 14:20:00</td>\n",
       "      <td>CATHOLIC</td>\n",
       "      <td>108403</td>\n",
       "      <td>2200-04-18 21:52:00</td>\n",
       "      <td>22903</td>\n",
       "    </tr>\n",
       "    <tr>\n",
       "      <th>2</th>\n",
       "      <td>MARRIED</td>\n",
       "      <td>NaT</td>\n",
       "      <td>ASIAN</td>\n",
       "      <td>NaT</td>\n",
       "      <td>NaT</td>\n",
       "      <td>2191-03-27 01:45:00</td>\n",
       "      <td>PROTESTANT QUAKER</td>\n",
       "      <td>135145</td>\n",
       "      <td>2191-03-23 07:15:00</td>\n",
       "      <td>9279</td>\n",
       "    </tr>\n",
       "    <tr>\n",
       "      <th>3</th>\n",
       "      <td>NaN</td>\n",
       "      <td>NaT</td>\n",
       "      <td>WHITE</td>\n",
       "      <td>NaT</td>\n",
       "      <td>NaT</td>\n",
       "      <td>2134-03-05 15:30:00</td>\n",
       "      <td>CATHOLIC</td>\n",
       "      <td>110468</td>\n",
       "      <td>2134-02-12 22:50:00</td>\n",
       "      <td>20915</td>\n",
       "    </tr>\n",
       "    <tr>\n",
       "      <th>4</th>\n",
       "      <td>SINGLE</td>\n",
       "      <td>2170-05-12 02:32:00</td>\n",
       "      <td>WHITE</td>\n",
       "      <td>NaT</td>\n",
       "      <td>2170-05-11 20:39:00</td>\n",
       "      <td>2170-05-29 16:10:00</td>\n",
       "      <td>PROTESTANT QUAKER</td>\n",
       "      <td>158677</td>\n",
       "      <td>2170-05-12 00:33:00</td>\n",
       "      <td>42124</td>\n",
       "    </tr>\n",
       "    <tr>\n",
       "      <th>...</th>\n",
       "      <td>...</td>\n",
       "      <td>...</td>\n",
       "      <td>...</td>\n",
       "      <td>...</td>\n",
       "      <td>...</td>\n",
       "      <td>...</td>\n",
       "      <td>...</td>\n",
       "      <td>...</td>\n",
       "      <td>...</td>\n",
       "      <td>...</td>\n",
       "    </tr>\n",
       "    <tr>\n",
       "      <th>138</th>\n",
       "      <td>SINGLE</td>\n",
       "      <td>2131-03-16 17:54:00</td>\n",
       "      <td>WHITE</td>\n",
       "      <td>NaT</td>\n",
       "      <td>2131-03-16 12:15:00</td>\n",
       "      <td>2131-04-17 12:09:00</td>\n",
       "      <td>PROTESTANT QUAKER</td>\n",
       "      <td>105544</td>\n",
       "      <td>2131-03-16 17:30:00</td>\n",
       "      <td>26277</td>\n",
       "    </tr>\n",
       "    <tr>\n",
       "      <th>139</th>\n",
       "      <td>SINGLE</td>\n",
       "      <td>NaT</td>\n",
       "      <td>WHITE</td>\n",
       "      <td>NaT</td>\n",
       "      <td>NaT</td>\n",
       "      <td>2131-09-12 13:09:00</td>\n",
       "      <td>PROTESTANT QUAKER</td>\n",
       "      <td>113935</td>\n",
       "      <td>2131-06-05 15:50:00</td>\n",
       "      <td>26277</td>\n",
       "    </tr>\n",
       "    <tr>\n",
       "      <th>140</th>\n",
       "      <td>SINGLE</td>\n",
       "      <td>NaT</td>\n",
       "      <td>WHITE</td>\n",
       "      <td>NaT</td>\n",
       "      <td>NaT</td>\n",
       "      <td>2131-10-18 16:48:00</td>\n",
       "      <td>PROTESTANT QUAKER</td>\n",
       "      <td>131516</td>\n",
       "      <td>2131-10-16 17:49:00</td>\n",
       "      <td>26277</td>\n",
       "    </tr>\n",
       "    <tr>\n",
       "      <th>141</th>\n",
       "      <td>SINGLE</td>\n",
       "      <td>NaT</td>\n",
       "      <td>WHITE</td>\n",
       "      <td>2132-04-28 12:00:00</td>\n",
       "      <td>NaT</td>\n",
       "      <td>2132-04-28 12:00:00</td>\n",
       "      <td>PROTESTANT QUAKER</td>\n",
       "      <td>172510</td>\n",
       "      <td>2132-04-23 14:43:00</td>\n",
       "      <td>26277</td>\n",
       "    </tr>\n",
       "    <tr>\n",
       "      <th>142</th>\n",
       "      <td>MARRIED</td>\n",
       "      <td>NaT</td>\n",
       "      <td>WHITE</td>\n",
       "      <td>NaT</td>\n",
       "      <td>NaT</td>\n",
       "      <td>2130-09-24 16:00:00</td>\n",
       "      <td>ROMANIAN EAST. ORTH</td>\n",
       "      <td>183509</td>\n",
       "      <td>2130-09-13 18:10:00</td>\n",
       "      <td>90756</td>\n",
       "    </tr>\n",
       "  </tbody>\n",
       "</table>\n",
       "<p>143 rows × 10 columns</p>\n",
       "</div>"
      ],
      "text/plain": [
       "    marital_status           edouttime ethnicity           deathtime  \\\n",
       "0         DIVORCED 2165-04-04 07:53:00     WHITE                 NaT   \n",
       "1          MARRIED 2200-04-18 23:26:00     WHITE                 NaT   \n",
       "2          MARRIED                 NaT     ASIAN                 NaT   \n",
       "3              NaN                 NaT     WHITE                 NaT   \n",
       "4           SINGLE 2170-05-12 02:32:00     WHITE                 NaT   \n",
       "..             ...                 ...       ...                 ...   \n",
       "138         SINGLE 2131-03-16 17:54:00     WHITE                 NaT   \n",
       "139         SINGLE                 NaT     WHITE                 NaT   \n",
       "140         SINGLE                 NaT     WHITE                 NaT   \n",
       "141         SINGLE                 NaT     WHITE 2132-04-28 12:00:00   \n",
       "142        MARRIED                 NaT     WHITE                 NaT   \n",
       "\n",
       "              edregtime           dischtime             religion  hadm_id  \\\n",
       "0   2165-04-04 01:14:00 2165-04-16 14:41:00         EPISCOPALIAN   140114   \n",
       "1   2200-04-18 12:31:00 2200-04-28 14:20:00             CATHOLIC   108403   \n",
       "2                   NaT 2191-03-27 01:45:00    PROTESTANT QUAKER   135145   \n",
       "3                   NaT 2134-03-05 15:30:00             CATHOLIC   110468   \n",
       "4   2170-05-11 20:39:00 2170-05-29 16:10:00    PROTESTANT QUAKER   158677   \n",
       "..                  ...                 ...                  ...      ...   \n",
       "138 2131-03-16 12:15:00 2131-04-17 12:09:00    PROTESTANT QUAKER   105544   \n",
       "139                 NaT 2131-09-12 13:09:00    PROTESTANT QUAKER   113935   \n",
       "140                 NaT 2131-10-18 16:48:00    PROTESTANT QUAKER   131516   \n",
       "141                 NaT 2132-04-28 12:00:00    PROTESTANT QUAKER   172510   \n",
       "142                 NaT 2130-09-24 16:00:00  ROMANIAN EAST. ORTH   183509   \n",
       "\n",
       "              admittime  subject_id  \n",
       "0   2165-04-04 02:25:00       44346  \n",
       "1   2200-04-18 21:52:00       22903  \n",
       "2   2191-03-23 07:15:00        9279  \n",
       "3   2134-02-12 22:50:00       20915  \n",
       "4   2170-05-12 00:33:00       42124  \n",
       "..                  ...         ...  \n",
       "138 2131-03-16 17:30:00       26277  \n",
       "139 2131-06-05 15:50:00       26277  \n",
       "140 2131-10-16 17:49:00       26277  \n",
       "141 2132-04-23 14:43:00       26277  \n",
       "142 2130-09-13 18:10:00       90756  \n",
       "\n",
       "[143 rows x 10 columns]"
      ]
     },
     "execution_count": 24,
     "metadata": {},
     "output_type": "execute_result"
    }
   ],
   "source": [
    "admissions_df.loc[:, sample.columns]"
   ]
  },
  {
   "cell_type": "code",
   "execution_count": 25,
   "metadata": {},
   "outputs": [],
   "source": [
    "# my_model.fit(callout_sample_df, estimator=BayesianEstimator, prior_type=\"BDeu\") # default equivalent_sample_size=5\n",
    "# for cpd in patients_info_model.get_cpds():\n",
    "#     print(cpd)"
   ]
  },
  {
   "cell_type": "code",
   "execution_count": 26,
   "metadata": {},
   "outputs": [],
   "source": [
    "# patients_info_model.edges"
   ]
  },
  {
   "cell_type": "code",
   "execution_count": 27,
   "metadata": {},
   "outputs": [
    {
     "data": {
      "text/plain": [
       "<AxesSubplot:>"
      ]
     },
     "execution_count": 27,
     "metadata": {},
     "output_type": "execute_result"
    },
    {
     "data": {
      "image/png": "[encoded data removed]",
      "text/plain": [
       "<Figure size 432x288 with 1 Axes>"
      ]
     },
     "metadata": {
      "needs_background": "light"
     },
     "output_type": "display_data"
    }
   ],
   "source": [
    "sample['admittime'].hist()"
   ]
  },
  {
   "cell_type": "code",
   "execution_count": 28,
   "metadata": {},
   "outputs": [
    {
     "data": {
      "text/plain": [
       "<AxesSubplot:>"
      ]
     },
     "execution_count": 28,
     "metadata": {},
     "output_type": "execute_result"
    },
    {
     "data": {
      "image/png": "[encoded data removed]",
      "text/plain": [
       "<Figure size 432x288 with 1 Axes>"
      ]
     },
     "metadata": {
      "needs_background": "light"
     },
     "output_type": "display_data"
    }
   ],
   "source": [
    "admissions_df['admittime'].hist()"
   ]
  }
 ],
 "metadata": {
  "kernelspec": {
   "display_name": "Python 3.8.13 ('msc_project')",
   "language": "python",
   "name": "python3"
  },
  "language_info": {
   "codemirror_mode": {
    "name": "ipython",
    "version": 3
   },
   "file_extension": ".py",
   "mimetype": "text/x-python",
   "name": "python",
   "nbconvert_exporter": "python",
   "pygments_lexer": "ipython3",
   "version": "3.8.13"
  },
  "orig_nbformat": 4,
  "vscode": {
   "interpreter": {
    "hash": "e56015fb566b08f7af163d42c82cf08fa5d6db3fbaaffa0afaaff5a893fc0496"
   }
  }
 },
 "nbformat": 4,
 "nbformat_minor": 2
}
