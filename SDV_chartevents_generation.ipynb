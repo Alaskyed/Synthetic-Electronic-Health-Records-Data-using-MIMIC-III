{
 "cells": [
  {
   "cell_type": "code",
   "execution_count": 19,
   "metadata": {},
   "outputs": [],
   "source": [
    "# from google.colab import drive\n",
    "# drive.mount('/content/drive')"
   ]
  },
  {
   "cell_type": "code",
   "execution_count": 1,
   "metadata": {},
   "outputs": [],
   "source": [
    "# Ignore warnings\n",
    "import warnings\n",
    "warnings.filterwarnings(\"ignore\")"
   ]
  },
  {
   "cell_type": "code",
   "execution_count": 2,
   "metadata": {},
   "outputs": [],
   "source": [
    "import pandas as pd\n",
    "import numpy as np"
   ]
  },
  {
   "cell_type": "code",
   "execution_count": 3,
   "metadata": {},
   "outputs": [],
   "source": [
    "date_set_path = \"../temp_sets/\""
   ]
  },
  {
   "cell_type": "markdown",
   "metadata": {},
   "source": [
    "## Read Tempdatasets"
   ]
  },
  {
   "cell_type": "code",
   "execution_count": 30,
   "metadata": {},
   "outputs": [],
   "source": [
    "# read csv file as dataframe, and drop ROW_ID column\n",
    "def read_csv_no_rowid(file_path):\n",
    "    df = pd.read_csv(file_path)\n",
    "    low_list = [x.lower() for x in df.columns]\n",
    "    df.columns = low_list\n",
    "    df.drop(['unnamed: 0.1', 'unnamed: 0', 'row_id'], axis=1, inplace=True)\n",
    "\n",
    "    return df"
   ]
  },
  {
   "cell_type": "code",
   "execution_count": 31,
   "metadata": {},
   "outputs": [],
   "source": [
    "# check NaN value\n",
    "\n",
    "def nan_count(df):\n",
    "    print(\"Total columns: \" + str(len(df.columns)))\n",
    "    print(\"Total rows: \" + str(len(df)))\n",
    "    print(\"--------------\")\n",
    "    print(df.isnull().sum())"
   ]
  },
  {
   "cell_type": "markdown",
   "metadata": {},
   "source": [
    "### Chartevents"
   ]
  },
  {
   "cell_type": "code",
   "execution_count": 32,
   "metadata": {},
   "outputs": [],
   "source": [
    "chartevents_sample_df = read_csv_no_rowid(date_set_path + \"CHARTEVENTS_random_sample_1.csv\")"
   ]
  },
  {
   "cell_type": "code",
   "execution_count": 33,
   "metadata": {},
   "outputs": [
    {
     "data": {
      "text/html": [
       "<div>\n",
       "<style scoped>\n",
       "    .dataframe tbody tr th:only-of-type {\n",
       "        vertical-align: middle;\n",
       "    }\n",
       "\n",
       "    .dataframe tbody tr th {\n",
       "        vertical-align: top;\n",
       "    }\n",
       "\n",
       "    .dataframe thead th {\n",
       "        text-align: right;\n",
       "    }\n",
       "</style>\n",
       "<table border=\"1\" class=\"dataframe\">\n",
       "  <thead>\n",
       "    <tr style=\"text-align: right;\">\n",
       "      <th></th>\n",
       "      <th>subject_id</th>\n",
       "      <th>hadm_id</th>\n",
       "      <th>icustay_id</th>\n",
       "      <th>itemid</th>\n",
       "      <th>charttime</th>\n",
       "      <th>storetime</th>\n",
       "      <th>cgid</th>\n",
       "      <th>value</th>\n",
       "      <th>valuenum</th>\n",
       "      <th>valueuom</th>\n",
       "      <th>warning</th>\n",
       "      <th>error</th>\n",
       "      <th>resultstatus</th>\n",
       "      <th>stopped</th>\n",
       "    </tr>\n",
       "  </thead>\n",
       "  <tbody>\n",
       "    <tr>\n",
       "      <th>0</th>\n",
       "      <td>10694</td>\n",
       "      <td>138159</td>\n",
       "      <td>294193.0</td>\n",
       "      <td>220210</td>\n",
       "      <td>2153-08-21 10:34:00</td>\n",
       "      <td>NaN</td>\n",
       "      <td>NaN</td>\n",
       "      <td>27.0</td>\n",
       "      <td>27.0</td>\n",
       "      <td>insp/min</td>\n",
       "      <td>0.0</td>\n",
       "      <td>0.0</td>\n",
       "      <td>NaN</td>\n",
       "      <td>NaN</td>\n",
       "    </tr>\n",
       "    <tr>\n",
       "      <th>1</th>\n",
       "      <td>1459</td>\n",
       "      <td>172420</td>\n",
       "      <td>212644.0</td>\n",
       "      <td>224162</td>\n",
       "      <td>2195-11-10 11:56:00</td>\n",
       "      <td>2195-11-10 11:57:00</td>\n",
       "      <td>15047.0</td>\n",
       "      <td>8.0</td>\n",
       "      <td>8.0</td>\n",
       "      <td>insp/min</td>\n",
       "      <td>0.0</td>\n",
       "      <td>0.0</td>\n",
       "      <td>NaN</td>\n",
       "      <td>NaN</td>\n",
       "    </tr>\n",
       "    <tr>\n",
       "      <th>2</th>\n",
       "      <td>8492</td>\n",
       "      <td>118470</td>\n",
       "      <td>225777.0</td>\n",
       "      <td>220210</td>\n",
       "      <td>2117-07-03 14:00:00</td>\n",
       "      <td>2117-07-03 15:01:00</td>\n",
       "      <td>19593.0</td>\n",
       "      <td>19.0</td>\n",
       "      <td>19.0</td>\n",
       "      <td>insp/min</td>\n",
       "      <td>0.0</td>\n",
       "      <td>0.0</td>\n",
       "      <td>NaN</td>\n",
       "      <td>NaN</td>\n",
       "    </tr>\n",
       "    <tr>\n",
       "      <th>3</th>\n",
       "      <td>10694</td>\n",
       "      <td>138159</td>\n",
       "      <td>294193.0</td>\n",
       "      <td>220293</td>\n",
       "      <td>2153-08-14 06:13:00</td>\n",
       "      <td>NaN</td>\n",
       "      <td>NaN</td>\n",
       "      <td>18.0</td>\n",
       "      <td>18.0</td>\n",
       "      <td>L/min</td>\n",
       "      <td>0.0</td>\n",
       "      <td>0.0</td>\n",
       "      <td>NaN</td>\n",
       "      <td>NaN</td>\n",
       "    </tr>\n",
       "    <tr>\n",
       "      <th>4</th>\n",
       "      <td>12831</td>\n",
       "      <td>119477</td>\n",
       "      <td>295273.0</td>\n",
       "      <td>224697</td>\n",
       "      <td>2195-09-19 12:02:00</td>\n",
       "      <td>NaN</td>\n",
       "      <td>NaN</td>\n",
       "      <td>11.0</td>\n",
       "      <td>11.0</td>\n",
       "      <td>cmH2O</td>\n",
       "      <td>0.0</td>\n",
       "      <td>0.0</td>\n",
       "      <td>NaN</td>\n",
       "      <td>NaN</td>\n",
       "    </tr>\n",
       "  </tbody>\n",
       "</table>\n",
       "</div>"
      ],
      "text/plain": [
       "   subject_id  hadm_id  icustay_id  itemid            charttime  \\\n",
       "0       10694   138159    294193.0  220210  2153-08-21 10:34:00   \n",
       "1        1459   172420    212644.0  224162  2195-11-10 11:56:00   \n",
       "2        8492   118470    225777.0  220210  2117-07-03 14:00:00   \n",
       "3       10694   138159    294193.0  220293  2153-08-14 06:13:00   \n",
       "4       12831   119477    295273.0  224697  2195-09-19 12:02:00   \n",
       "\n",
       "             storetime     cgid value  valuenum  valueuom  warning  error  \\\n",
       "0                  NaN      NaN  27.0      27.0  insp/min      0.0    0.0   \n",
       "1  2195-11-10 11:57:00  15047.0   8.0       8.0  insp/min      0.0    0.0   \n",
       "2  2117-07-03 15:01:00  19593.0  19.0      19.0  insp/min      0.0    0.0   \n",
       "3                  NaN      NaN  18.0      18.0     L/min      0.0    0.0   \n",
       "4                  NaN      NaN  11.0      11.0     cmH2O      0.0    0.0   \n",
       "\n",
       "  resultstatus stopped  \n",
       "0          NaN     NaN  \n",
       "1          NaN     NaN  \n",
       "2          NaN     NaN  \n",
       "3          NaN     NaN  \n",
       "4          NaN     NaN  "
      ]
     },
     "execution_count": 33,
     "metadata": {},
     "output_type": "execute_result"
    }
   ],
   "source": [
    "chartevents_sample_df.head()"
   ]
  },
  {
   "cell_type": "code",
   "execution_count": 34,
   "metadata": {},
   "outputs": [],
   "source": [
    "# Drop useless colums\n",
    "chartevents_sample_df.drop(['storetime', 'cgid', 'valuenum', 'valueuom', 'warning', 'error', 'resultstatus', 'stopped'], axis=1, inplace=True)"
   ]
  },
  {
   "cell_type": "code",
   "execution_count": 35,
   "metadata": {},
   "outputs": [],
   "source": [
    "chartevents_sample_df.dropna(subset=['icustay_id'], inplace=True, axis=0)"
   ]
  },
  {
   "cell_type": "code",
   "execution_count": 36,
   "metadata": {},
   "outputs": [
    {
     "data": {
      "text/html": [
       "<div>\n",
       "<style scoped>\n",
       "    .dataframe tbody tr th:only-of-type {\n",
       "        vertical-align: middle;\n",
       "    }\n",
       "\n",
       "    .dataframe tbody tr th {\n",
       "        vertical-align: top;\n",
       "    }\n",
       "\n",
       "    .dataframe thead th {\n",
       "        text-align: right;\n",
       "    }\n",
       "</style>\n",
       "<table border=\"1\" class=\"dataframe\">\n",
       "  <thead>\n",
       "    <tr style=\"text-align: right;\">\n",
       "      <th></th>\n",
       "      <th>subject_id</th>\n",
       "      <th>hadm_id</th>\n",
       "      <th>icustay_id</th>\n",
       "      <th>itemid</th>\n",
       "      <th>charttime</th>\n",
       "      <th>value</th>\n",
       "    </tr>\n",
       "  </thead>\n",
       "  <tbody>\n",
       "  </tbody>\n",
       "</table>\n",
       "</div>"
      ],
      "text/plain": [
       "Empty DataFrame\n",
       "Columns: [subject_id, hadm_id, icustay_id, itemid, charttime, value]\n",
       "Index: []"
      ]
     },
     "execution_count": 36,
     "metadata": {},
     "output_type": "execute_result"
    }
   ],
   "source": [
    "chartevents_sample_df.loc[pd.isna(chartevents_sample_df['icustay_id']) == True]"
   ]
  },
  {
   "cell_type": "code",
   "execution_count": 37,
   "metadata": {},
   "outputs": [],
   "source": [
    "# Transfer some date type\n",
    "chartevents_sample_df['icustay_id'] = chartevents_sample_df['icustay_id'].astype(int)\n",
    "chartevents_sample_df['charttime'] = pd.to_datetime(chartevents_sample_df['charttime'])"
   ]
  },
  {
   "cell_type": "code",
   "execution_count": 38,
   "metadata": {},
   "outputs": [
    {
     "data": {
      "text/plain": [
       "subject_id             int64\n",
       "hadm_id                int64\n",
       "icustay_id             int32\n",
       "itemid                 int64\n",
       "charttime     datetime64[ns]\n",
       "value                 object\n",
       "dtype: object"
      ]
     },
     "execution_count": 38,
     "metadata": {},
     "output_type": "execute_result"
    }
   ],
   "source": [
    "chartevents_sample_df.dtypes"
   ]
  },
  {
   "cell_type": "code",
   "execution_count": 39,
   "metadata": {},
   "outputs": [
    {
     "name": "stdout",
     "output_type": "stream",
     "text": [
      "Total columns: 6\n",
      "Total rows: 825983\n",
      "--------------\n",
      "subject_id       0\n",
      "hadm_id          0\n",
      "icustay_id       0\n",
      "itemid           0\n",
      "charttime        0\n",
      "value         5164\n",
      "dtype: int64\n"
     ]
    }
   ],
   "source": [
    "nan_count(chartevents_sample_df)"
   ]
  },
  {
   "cell_type": "code",
   "execution_count": 40,
   "metadata": {},
   "outputs": [],
   "source": [
    "chartevents_sample_df['value'].fillna(value='Na', inplace=True)"
   ]
  },
  {
   "cell_type": "code",
   "execution_count": 41,
   "metadata": {},
   "outputs": [
    {
     "name": "stdout",
     "output_type": "stream",
     "text": [
      "Total columns: 6\n",
      "Total rows: 825983\n",
      "--------------\n",
      "subject_id    0\n",
      "hadm_id       0\n",
      "icustay_id    0\n",
      "itemid        0\n",
      "charttime     0\n",
      "value         0\n",
      "dtype: int64\n"
     ]
    }
   ],
   "source": [
    "nan_count(chartevents_sample_df)"
   ]
  },
  {
   "cell_type": "code",
   "execution_count": 42,
   "metadata": {},
   "outputs": [
    {
     "data": {
      "text/html": [
       "<div>\n",
       "<style scoped>\n",
       "    .dataframe tbody tr th:only-of-type {\n",
       "        vertical-align: middle;\n",
       "    }\n",
       "\n",
       "    .dataframe tbody tr th {\n",
       "        vertical-align: top;\n",
       "    }\n",
       "\n",
       "    .dataframe thead th {\n",
       "        text-align: right;\n",
       "    }\n",
       "</style>\n",
       "<table border=\"1\" class=\"dataframe\">\n",
       "  <thead>\n",
       "    <tr style=\"text-align: right;\">\n",
       "      <th></th>\n",
       "      <th>subject_id</th>\n",
       "      <th>hadm_id</th>\n",
       "      <th>icustay_id</th>\n",
       "      <th>itemid</th>\n",
       "      <th>charttime</th>\n",
       "      <th>value</th>\n",
       "    </tr>\n",
       "  </thead>\n",
       "  <tbody>\n",
       "    <tr>\n",
       "      <th>0</th>\n",
       "      <td>10694</td>\n",
       "      <td>138159</td>\n",
       "      <td>294193</td>\n",
       "      <td>220210</td>\n",
       "      <td>2153-08-21 10:34:00</td>\n",
       "      <td>27.0</td>\n",
       "    </tr>\n",
       "    <tr>\n",
       "      <th>1</th>\n",
       "      <td>1459</td>\n",
       "      <td>172420</td>\n",
       "      <td>212644</td>\n",
       "      <td>224162</td>\n",
       "      <td>2195-11-10 11:56:00</td>\n",
       "      <td>8.0</td>\n",
       "    </tr>\n",
       "    <tr>\n",
       "      <th>2</th>\n",
       "      <td>8492</td>\n",
       "      <td>118470</td>\n",
       "      <td>225777</td>\n",
       "      <td>220210</td>\n",
       "      <td>2117-07-03 14:00:00</td>\n",
       "      <td>19.0</td>\n",
       "    </tr>\n",
       "    <tr>\n",
       "      <th>3</th>\n",
       "      <td>10694</td>\n",
       "      <td>138159</td>\n",
       "      <td>294193</td>\n",
       "      <td>220293</td>\n",
       "      <td>2153-08-14 06:13:00</td>\n",
       "      <td>18.0</td>\n",
       "    </tr>\n",
       "    <tr>\n",
       "      <th>4</th>\n",
       "      <td>12831</td>\n",
       "      <td>119477</td>\n",
       "      <td>295273</td>\n",
       "      <td>224697</td>\n",
       "      <td>2195-09-19 12:02:00</td>\n",
       "      <td>11.0</td>\n",
       "    </tr>\n",
       "  </tbody>\n",
       "</table>\n",
       "</div>"
      ],
      "text/plain": [
       "   subject_id  hadm_id  icustay_id  itemid           charttime value\n",
       "0       10694   138159      294193  220210 2153-08-21 10:34:00  27.0\n",
       "1        1459   172420      212644  224162 2195-11-10 11:56:00   8.0\n",
       "2        8492   118470      225777  220210 2117-07-03 14:00:00  19.0\n",
       "3       10694   138159      294193  220293 2153-08-14 06:13:00  18.0\n",
       "4       12831   119477      295273  224697 2195-09-19 12:02:00  11.0"
      ]
     },
     "execution_count": 42,
     "metadata": {},
     "output_type": "execute_result"
    }
   ],
   "source": [
    "chartevents_sample_df.head()"
   ]
  },
  {
   "cell_type": "markdown",
   "metadata": {},
   "source": [
    "##  Build Network"
   ]
  },
  {
   "cell_type": "markdown",
   "metadata": {},
   "source": [
    "---"
   ]
  },
  {
   "cell_type": "markdown",
   "metadata": {},
   "source": [
    "### CTGAN"
   ]
  },
  {
   "cell_type": "code",
   "execution_count": 43,
   "metadata": {},
   "outputs": [],
   "source": [
    "from sdv.tabular import CTGAN\n",
    "from sdv.evaluation import evaluate\n",
    "from sdv.constraints import FixedCombinations"
   ]
  },
  {
   "cell_type": "code",
   "execution_count": 44,
   "metadata": {},
   "outputs": [],
   "source": [
    "fixed_subject_hadm_icustay_constraint = FixedCombinations(\n",
    "    column_names=['subject_id', 'hadm_id', 'icustay_id'],\n",
    "    handling_strategy='transform'\n",
    ")\n",
    "\n",
    "fixed_item_value_constraint = FixedCombinations(\n",
    "    column_names=['itemid', 'value'],\n",
    "    handling_strategy='transform'\n",
    ")"
   ]
  },
  {
   "cell_type": "code",
   "execution_count": 45,
   "metadata": {},
   "outputs": [],
   "source": [
    "chartevents_constraints = [fixed_subject_hadm_icustay_constraint, fixed_item_value_constraint]"
   ]
  },
  {
   "cell_type": "code",
   "execution_count": 46,
   "metadata": {},
   "outputs": [],
   "source": [
    "model = CTGAN(constraints=chartevents_constraints, cuda=True, verbose=True, epochs=100)"
   ]
  },
  {
   "cell_type": "code",
   "execution_count": 47,
   "metadata": {},
   "outputs": [
    {
     "data": {
      "text/plain": [
       "825983"
      ]
     },
     "execution_count": 47,
     "metadata": {},
     "output_type": "execute_result"
    }
   ],
   "source": [
    "len(chartevents_sample_df)"
   ]
  },
  {
   "cell_type": "code",
   "execution_count": null,
   "metadata": {},
   "outputs": [],
   "source": [
    "model.fit(chartevents_sample_df.sample(n=100000))"
   ]
  },
  {
   "cell_type": "code",
   "execution_count": null,
   "metadata": {},
   "outputs": [],
   "source": [
    "sample = model.sample(num_rows=10000)"
   ]
  },
  {
   "cell_type": "code",
   "execution_count": null,
   "metadata": {},
   "outputs": [
    {
     "data": {
      "text/html": [
       "<div>\n",
       "<style scoped>\n",
       "    .dataframe tbody tr th:only-of-type {\n",
       "        vertical-align: middle;\n",
       "    }\n",
       "\n",
       "    .dataframe tbody tr th {\n",
       "        vertical-align: top;\n",
       "    }\n",
       "\n",
       "    .dataframe thead th {\n",
       "        text-align: right;\n",
       "    }\n",
       "</style>\n",
       "<table border=\"1\" class=\"dataframe\">\n",
       "  <thead>\n",
       "    <tr style=\"text-align: right;\">\n",
       "      <th></th>\n",
       "      <th>subject_id</th>\n",
       "      <th>hadm_id</th>\n",
       "      <th>icustay_id</th>\n",
       "      <th>itemid</th>\n",
       "      <th>charttime</th>\n",
       "      <th>value</th>\n",
       "      <th>valuenum</th>\n",
       "      <th>valueuom</th>\n",
       "    </tr>\n",
       "  </thead>\n",
       "  <tbody>\n",
       "    <tr>\n",
       "      <th>0</th>\n",
       "      <td>10139</td>\n",
       "      <td>103843</td>\n",
       "      <td>236308</td>\n",
       "      <td>2269</td>\n",
       "      <td>2126-04-21 15:14:00</td>\n",
       "      <td>97</td>\n",
       "      <td>-4.085128</td>\n",
       "      <td>Na</td>\n",
       "    </tr>\n",
       "    <tr>\n",
       "      <th>1</th>\n",
       "      <td>4394</td>\n",
       "      <td>132535</td>\n",
       "      <td>201596</td>\n",
       "      <td>228332</td>\n",
       "      <td>2165-03-10 01:31:00</td>\n",
       "      <td>-21</td>\n",
       "      <td>-27.002549</td>\n",
       "      <td>BPM</td>\n",
       "    </tr>\n",
       "    <tr>\n",
       "      <th>2</th>\n",
       "      <td>11279</td>\n",
       "      <td>103849</td>\n",
       "      <td>246752</td>\n",
       "      <td>3753</td>\n",
       "      <td>2166-11-19 00:32:00</td>\n",
       "      <td>-19</td>\n",
       "      <td>-56.898943</td>\n",
       "      <td>units</td>\n",
       "    </tr>\n",
       "    <tr>\n",
       "      <th>3</th>\n",
       "      <td>19696</td>\n",
       "      <td>143133</td>\n",
       "      <td>211294</td>\n",
       "      <td>1995</td>\n",
       "      <td>2136-08-24 08:20:00</td>\n",
       "      <td>Social Services</td>\n",
       "      <td>-1.706791</td>\n",
       "      <td>ml/min</td>\n",
       "    </tr>\n",
       "    <tr>\n",
       "      <th>4</th>\n",
       "      <td>57493</td>\n",
       "      <td>103850</td>\n",
       "      <td>202438</td>\n",
       "      <td>3415</td>\n",
       "      <td>2126-01-31 19:37:00</td>\n",
       "      <td>Standard</td>\n",
       "      <td>-2.061842</td>\n",
       "      <td>Na</td>\n",
       "    </tr>\n",
       "    <tr>\n",
       "      <th>...</th>\n",
       "      <td>...</td>\n",
       "      <td>...</td>\n",
       "      <td>...</td>\n",
       "      <td>...</td>\n",
       "      <td>...</td>\n",
       "      <td>...</td>\n",
       "      <td>...</td>\n",
       "      <td>...</td>\n",
       "    </tr>\n",
       "    <tr>\n",
       "      <th>9984</th>\n",
       "      <td>91125</td>\n",
       "      <td>143100</td>\n",
       "      <td>245975</td>\n",
       "      <td>221906</td>\n",
       "      <td>2114-12-22 15:52:00</td>\n",
       "      <td>21.420000076293945</td>\n",
       "      <td>42.476885</td>\n",
       "      <td>Breath</td>\n",
       "    </tr>\n",
       "    <tr>\n",
       "      <th>9985</th>\n",
       "      <td>19718</td>\n",
       "      <td>137883</td>\n",
       "      <td>267225</td>\n",
       "      <td>223616</td>\n",
       "      <td>2126-02-24 06:15:00</td>\n",
       "      <td>5.5</td>\n",
       "      <td>40.287828</td>\n",
       "      <td>mmHg</td>\n",
       "    </tr>\n",
       "    <tr>\n",
       "      <th>9994</th>\n",
       "      <td>57485</td>\n",
       "      <td>103615</td>\n",
       "      <td>259051</td>\n",
       "      <td>225682</td>\n",
       "      <td>2113-06-13 05:29:00</td>\n",
       "      <td>8.3999996185302734</td>\n",
       "      <td>-2.848200</td>\n",
       "      <td>Na</td>\n",
       "    </tr>\n",
       "    <tr>\n",
       "      <th>9996</th>\n",
       "      <td>57645</td>\n",
       "      <td>103824</td>\n",
       "      <td>258357</td>\n",
       "      <td>226396</td>\n",
       "      <td>2136-11-11 13:32:00</td>\n",
       "      <td>108</td>\n",
       "      <td>-13.787698</td>\n",
       "      <td>in</td>\n",
       "    </tr>\n",
       "    <tr>\n",
       "      <th>9997</th>\n",
       "      <td>57488</td>\n",
       "      <td>103816</td>\n",
       "      <td>235354</td>\n",
       "      <td>3814</td>\n",
       "      <td>2119-01-26 05:09:00</td>\n",
       "      <td>90</td>\n",
       "      <td>33.504519</td>\n",
       "      <td>ml/min</td>\n",
       "    </tr>\n",
       "  </tbody>\n",
       "</table>\n",
       "<p>5922 rows × 8 columns</p>\n",
       "</div>"
      ],
      "text/plain": [
       "      subject_id  hadm_id  icustay_id  itemid           charttime  \\\n",
       "0          10139   103843      236308    2269 2126-04-21 15:14:00   \n",
       "1           4394   132535      201596  228332 2165-03-10 01:31:00   \n",
       "2          11279   103849      246752    3753 2166-11-19 00:32:00   \n",
       "3          19696   143133      211294    1995 2136-08-24 08:20:00   \n",
       "4          57493   103850      202438    3415 2126-01-31 19:37:00   \n",
       "...          ...      ...         ...     ...                 ...   \n",
       "9984       91125   143100      245975  221906 2114-12-22 15:52:00   \n",
       "9985       19718   137883      267225  223616 2126-02-24 06:15:00   \n",
       "9994       57485   103615      259051  225682 2113-06-13 05:29:00   \n",
       "9996       57645   103824      258357  226396 2136-11-11 13:32:00   \n",
       "9997       57488   103816      235354    3814 2119-01-26 05:09:00   \n",
       "\n",
       "                   value   valuenum valueuom  \n",
       "0                     97  -4.085128       Na  \n",
       "1                    -21 -27.002549      BPM  \n",
       "2                    -19 -56.898943    units  \n",
       "3        Social Services  -1.706791   ml/min  \n",
       "4               Standard  -2.061842       Na  \n",
       "...                  ...        ...      ...  \n",
       "9984  21.420000076293945  42.476885   Breath  \n",
       "9985                 5.5  40.287828     mmHg  \n",
       "9994  8.3999996185302734  -2.848200       Na  \n",
       "9996                 108 -13.787698       in  \n",
       "9997                  90  33.504519   ml/min  \n",
       "\n",
       "[5922 rows x 8 columns]"
      ]
     },
     "execution_count": 24,
     "metadata": {},
     "output_type": "execute_result"
    }
   ],
   "source": [
    "sample.drop_duplicates(subset=['icustay_id'])"
   ]
  },
  {
   "cell_type": "code",
   "execution_count": null,
   "metadata": {},
   "outputs": [],
   "source": [
    "evaluate(sample, chartevents_sample_df.loc[0:1000, :], aggregate=False)"
   ]
  },
  {
   "cell_type": "markdown",
   "metadata": {},
   "source": [
    "### Timeseries table (error)"
   ]
  },
  {
   "cell_type": "code",
   "execution_count": null,
   "metadata": {},
   "outputs": [],
   "source": [
    "# from sdv.timeseries import PAR\n",
    "# from sdv.constraints import FixedCombinations"
   ]
  },
  {
   "cell_type": "code",
   "execution_count": null,
   "metadata": {},
   "outputs": [],
   "source": [
    "# entity_columns = ['subject_id', 'hadm_id', 'icustay_id']\n",
    "# context_columns = []\n",
    "# sequence_index = 'charttime'"
   ]
  },
  {
   "cell_type": "code",
   "execution_count": null,
   "metadata": {},
   "outputs": [],
   "source": [
    "# fixed_itemid_value_constraint = FixedCombinations(column_names=['itemid', 'value'], handling_strategy='transform')\n",
    "\n",
    "# constraints = [fixed_itemid_value_constraint]"
   ]
  },
  {
   "cell_type": "code",
   "execution_count": null,
   "metadata": {},
   "outputs": [],
   "source": [
    "# model = PAR(entity_columns=entity_columns,context_columns=context_columns,sequence_index=sequence_index, constraints=constraints)"
   ]
  },
  {
   "cell_type": "code",
   "execution_count": null,
   "metadata": {},
   "outputs": [],
   "source": [
    "# model.fit(chartevents_sample_df.loc[18170:19000, :])"
   ]
  },
  {
   "cell_type": "code",
   "execution_count": null,
   "metadata": {},
   "outputs": [],
   "source": [
    "# model.sample(num_sequences=2)"
   ]
  },
  {
   "cell_type": "code",
   "execution_count": null,
   "metadata": {},
   "outputs": [],
   "source": [
    "# # 检查是否存在entity=1的情况, 这种情况下回报错(bugs)\n",
    "# sequences = chartevents_sample_df[['subject_id', 'hadm_id', 'icustay_id', 'itemid']].groupby(['subject_id', 'hadm_id', 'icustay_id', 'itemid']).size().reset_index().rename(columns={0: 'sequence_length'})\n",
    "# sequences[sequences['sequence_length'] == 1]"
   ]
  }
 ],
 "metadata": {
  "kernelspec": {
   "display_name": "Python 3.8.13 ('msc_project')",
   "language": "python",
   "name": "python3"
  },
  "language_info": {
   "codemirror_mode": {
    "name": "ipython",
    "version": 3
   },
   "file_extension": ".py",
   "mimetype": "text/x-python",
   "name": "python",
   "nbconvert_exporter": "python",
   "pygments_lexer": "ipython3",
   "version": "3.8.13"
  },
  "orig_nbformat": 4,
  "vscode": {
   "interpreter": {
    "hash": "e56015fb566b08f7af163d42c82cf08fa5d6db3fbaaffa0afaaff5a893fc0496"
   }
  }
 },
 "nbformat": 4,
 "nbformat_minor": 2
}
