{
 "cells": [
  {
   "cell_type": "code",
   "execution_count": 1,
   "metadata": {},
   "outputs": [],
   "source": [
    "# from google.colab import drive\n",
    "# drive.mount('/content/drive')"
   ]
  },
  {
   "cell_type": "code",
   "execution_count": 2,
   "metadata": {},
   "outputs": [],
   "source": [
    "# Ignore warnings\n",
    "import warnings\n",
    "warnings.filterwarnings(\"ignore\")"
   ]
  },
  {
   "cell_type": "code",
   "execution_count": 3,
   "metadata": {},
   "outputs": [],
   "source": [
    "import pandas as pd\n",
    "import numpy as np"
   ]
  },
  {
   "cell_type": "code",
   "execution_count": 4,
   "metadata": {},
   "outputs": [],
   "source": [
    "date_set_path = \"../temp_sets/\""
   ]
  },
  {
   "cell_type": "markdown",
   "metadata": {},
   "source": [
    "## Read Tempdatasets"
   ]
  },
  {
   "cell_type": "code",
   "execution_count": 5,
   "metadata": {},
   "outputs": [],
   "source": [
    "# read csv file as dataframe, and drop ROW_ID column\n",
    "def read_csv_no_rowid(file_path):\n",
    "    df = pd.read_csv(file_path)\n",
    "    low_list = [x.lower() for x in df.columns]\n",
    "    df.columns = low_list\n",
    "    # df.drop(['unnamed: 0', 'row_id'], axis=1, inplace=True)\n",
    "    df.drop(['row_id'], axis=1, inplace=True)\n",
    "\n",
    "    return df"
   ]
  },
  {
   "cell_type": "code",
   "execution_count": 6,
   "metadata": {},
   "outputs": [],
   "source": [
    "# check NaN value\n",
    "\n",
    "def nan_count(df):\n",
    "    print(\"Total columns: \" + str(len(df.columns)))\n",
    "    print(\"Total rows: \" + str(len(df)))\n",
    "    print(\"--------------\")\n",
    "    print(df.isnull().sum())"
   ]
  },
  {
   "cell_type": "markdown",
   "metadata": {},
   "source": [
    "### Chartevents"
   ]
  },
  {
   "cell_type": "code",
   "execution_count": 7,
   "metadata": {},
   "outputs": [],
   "source": [
    "chartevents_sample_df = read_csv_no_rowid(date_set_path + \"CHARTEVENTS_random_small_sample.csv\")"
   ]
  },
  {
   "cell_type": "code",
   "execution_count": 8,
   "metadata": {},
   "outputs": [],
   "source": [
    "# Drop some null value\n",
    "chartevents_sample_df.dropna(subset=['subject_id', 'hadm_id', 'icustay_id'], inplace=True, axis=0)"
   ]
  },
  {
   "cell_type": "code",
   "execution_count": 9,
   "metadata": {},
   "outputs": [
    {
     "data": {
      "text/html": [
       "<div>\n",
       "<style scoped>\n",
       "    .dataframe tbody tr th:only-of-type {\n",
       "        vertical-align: middle;\n",
       "    }\n",
       "\n",
       "    .dataframe tbody tr th {\n",
       "        vertical-align: top;\n",
       "    }\n",
       "\n",
       "    .dataframe thead th {\n",
       "        text-align: right;\n",
       "    }\n",
       "</style>\n",
       "<table border=\"1\" class=\"dataframe\">\n",
       "  <thead>\n",
       "    <tr style=\"text-align: right;\">\n",
       "      <th></th>\n",
       "      <th>unnamed: 0</th>\n",
       "      <th>subject_id</th>\n",
       "      <th>hadm_id</th>\n",
       "      <th>icustay_id</th>\n",
       "      <th>itemid</th>\n",
       "      <th>charttime</th>\n",
       "      <th>storetime</th>\n",
       "      <th>cgid</th>\n",
       "      <th>value</th>\n",
       "      <th>valuenum</th>\n",
       "      <th>valueuom</th>\n",
       "      <th>warning</th>\n",
       "      <th>error</th>\n",
       "      <th>resultstatus</th>\n",
       "      <th>stopped</th>\n",
       "    </tr>\n",
       "  </thead>\n",
       "  <tbody>\n",
       "    <tr>\n",
       "      <th>0</th>\n",
       "      <td>53817</td>\n",
       "      <td>10694</td>\n",
       "      <td>138159</td>\n",
       "      <td>294193.0</td>\n",
       "      <td>220210</td>\n",
       "      <td>8/21/2153 10:34</td>\n",
       "      <td>NaN</td>\n",
       "      <td>NaN</td>\n",
       "      <td>27.0</td>\n",
       "      <td>27.0</td>\n",
       "      <td>insp/min</td>\n",
       "      <td>0.0</td>\n",
       "      <td>0.0</td>\n",
       "      <td>NaN</td>\n",
       "      <td>NaN</td>\n",
       "    </tr>\n",
       "    <tr>\n",
       "      <th>1</th>\n",
       "      <td>5723</td>\n",
       "      <td>1459</td>\n",
       "      <td>172420</td>\n",
       "      <td>212644.0</td>\n",
       "      <td>224162</td>\n",
       "      <td>11/10/2195 11:56</td>\n",
       "      <td>11/10/2195 11:57</td>\n",
       "      <td>15047.0</td>\n",
       "      <td>8.0</td>\n",
       "      <td>8.0</td>\n",
       "      <td>insp/min</td>\n",
       "      <td>0.0</td>\n",
       "      <td>0.0</td>\n",
       "      <td>NaN</td>\n",
       "      <td>NaN</td>\n",
       "    </tr>\n",
       "    <tr>\n",
       "      <th>2</th>\n",
       "      <td>32996</td>\n",
       "      <td>8492</td>\n",
       "      <td>118470</td>\n",
       "      <td>225777.0</td>\n",
       "      <td>220210</td>\n",
       "      <td>7/3/2117 14:00</td>\n",
       "      <td>7/3/2117 15:01</td>\n",
       "      <td>19593.0</td>\n",
       "      <td>19.0</td>\n",
       "      <td>19.0</td>\n",
       "      <td>insp/min</td>\n",
       "      <td>0.0</td>\n",
       "      <td>0.0</td>\n",
       "      <td>NaN</td>\n",
       "      <td>NaN</td>\n",
       "    </tr>\n",
       "    <tr>\n",
       "      <th>3</th>\n",
       "      <td>45372</td>\n",
       "      <td>10694</td>\n",
       "      <td>138159</td>\n",
       "      <td>294193.0</td>\n",
       "      <td>220293</td>\n",
       "      <td>8/14/2153 6:13</td>\n",
       "      <td>NaN</td>\n",
       "      <td>NaN</td>\n",
       "      <td>18.0</td>\n",
       "      <td>18.0</td>\n",
       "      <td>L/min</td>\n",
       "      <td>0.0</td>\n",
       "      <td>0.0</td>\n",
       "      <td>NaN</td>\n",
       "      <td>NaN</td>\n",
       "    </tr>\n",
       "    <tr>\n",
       "      <th>4</th>\n",
       "      <td>70221</td>\n",
       "      <td>12831</td>\n",
       "      <td>119477</td>\n",
       "      <td>295273.0</td>\n",
       "      <td>224697</td>\n",
       "      <td>9/19/2195 12:02</td>\n",
       "      <td>NaN</td>\n",
       "      <td>NaN</td>\n",
       "      <td>11.0</td>\n",
       "      <td>11.0</td>\n",
       "      <td>cmH2O</td>\n",
       "      <td>0.0</td>\n",
       "      <td>0.0</td>\n",
       "      <td>NaN</td>\n",
       "      <td>NaN</td>\n",
       "    </tr>\n",
       "  </tbody>\n",
       "</table>\n",
       "</div>"
      ],
      "text/plain": [
       "   unnamed: 0  subject_id  hadm_id  icustay_id  itemid         charttime  \\\n",
       "0       53817       10694   138159    294193.0  220210   8/21/2153 10:34   \n",
       "1        5723        1459   172420    212644.0  224162  11/10/2195 11:56   \n",
       "2       32996        8492   118470    225777.0  220210    7/3/2117 14:00   \n",
       "3       45372       10694   138159    294193.0  220293    8/14/2153 6:13   \n",
       "4       70221       12831   119477    295273.0  224697   9/19/2195 12:02   \n",
       "\n",
       "          storetime     cgid value  valuenum  valueuom  warning  error  \\\n",
       "0               NaN      NaN  27.0      27.0  insp/min      0.0    0.0   \n",
       "1  11/10/2195 11:57  15047.0   8.0       8.0  insp/min      0.0    0.0   \n",
       "2    7/3/2117 15:01  19593.0  19.0      19.0  insp/min      0.0    0.0   \n",
       "3               NaN      NaN  18.0      18.0     L/min      0.0    0.0   \n",
       "4               NaN      NaN  11.0      11.0     cmH2O      0.0    0.0   \n",
       "\n",
       "  resultstatus stopped  \n",
       "0          NaN     NaN  \n",
       "1          NaN     NaN  \n",
       "2          NaN     NaN  \n",
       "3          NaN     NaN  \n",
       "4          NaN     NaN  "
      ]
     },
     "execution_count": 9,
     "metadata": {},
     "output_type": "execute_result"
    }
   ],
   "source": [
    "chartevents_sample_df.head()"
   ]
  },
  {
   "cell_type": "code",
   "execution_count": 10,
   "metadata": {},
   "outputs": [],
   "source": [
    "# Drop useless colums\n",
    "chartevents_sample_df.drop(['storetime', 'cgid', 'valuenum', 'valueuom', 'warning', 'error', 'resultstatus', 'stopped'], axis=1, inplace=True)"
   ]
  },
  {
   "cell_type": "code",
   "execution_count": 11,
   "metadata": {},
   "outputs": [
    {
     "name": "stdout",
     "output_type": "stream",
     "text": [
      "Total columns: 7\n",
      "Total rows: 825983\n",
      "--------------\n",
      "unnamed: 0       0\n",
      "subject_id       0\n",
      "hadm_id          0\n",
      "icustay_id       0\n",
      "itemid           0\n",
      "charttime        0\n",
      "value         5164\n",
      "dtype: int64\n"
     ]
    }
   ],
   "source": [
    "nan_count(chartevents_sample_df)"
   ]
  },
  {
   "cell_type": "code",
   "execution_count": 12,
   "metadata": {},
   "outputs": [
    {
     "name": "stdout",
     "output_type": "stream",
     "text": [
      "Total columns: 7\n",
      "Total rows: 825983\n",
      "--------------\n",
      "unnamed: 0       0\n",
      "subject_id       0\n",
      "hadm_id          0\n",
      "icustay_id       0\n",
      "itemid           0\n",
      "charttime        0\n",
      "value         5164\n",
      "dtype: int64\n"
     ]
    }
   ],
   "source": [
    "nan_count(chartevents_sample_df)"
   ]
  },
  {
   "cell_type": "code",
   "execution_count": 13,
   "metadata": {},
   "outputs": [],
   "source": [
    "chartevents_sample_df['value'].fillna(value='Na', inplace=True)"
   ]
  },
  {
   "cell_type": "code",
   "execution_count": 14,
   "metadata": {},
   "outputs": [
    {
     "data": {
      "text/plain": [
       "unnamed: 0      int64\n",
       "subject_id      int64\n",
       "hadm_id         int64\n",
       "icustay_id    float64\n",
       "itemid          int64\n",
       "charttime      object\n",
       "value          object\n",
       "dtype: object"
      ]
     },
     "execution_count": 14,
     "metadata": {},
     "output_type": "execute_result"
    }
   ],
   "source": [
    "chartevents_sample_df.dtypes"
   ]
  },
  {
   "cell_type": "code",
   "execution_count": 15,
   "metadata": {},
   "outputs": [],
   "source": [
    "# Transfer some date type\n",
    "# chartevents_sample_df['subject_id'] = chartevents_sample_df['subject_id'].astype(str)\n",
    "# chartevents_sample_df['hadm_id'] = chartevents_sample_df['hadm_id'].astype(str)\n",
    "# chartevents_sample_df['icustay_id'] = chartevents_sample_df['icustay_id'].astype(str)\n",
    "\n",
    "# chartevents_sample_df['itemid'] = chartevents_sample_df['itemid'].astype(str)\n",
    "\n",
    "chartevents_sample_df['charttime'] = pd.to_datetime(chartevents_sample_df['charttime'])"
   ]
  },
  {
   "cell_type": "code",
   "execution_count": 16,
   "metadata": {},
   "outputs": [
    {
     "data": {
      "text/plain": [
       "unnamed: 0             int64\n",
       "subject_id             int64\n",
       "hadm_id                int64\n",
       "icustay_id           float64\n",
       "itemid                 int64\n",
       "charttime     datetime64[ns]\n",
       "value                 object\n",
       "dtype: object"
      ]
     },
     "execution_count": 16,
     "metadata": {},
     "output_type": "execute_result"
    }
   ],
   "source": [
    "chartevents_sample_df.dtypes"
   ]
  },
  {
   "cell_type": "code",
   "execution_count": 17,
   "metadata": {},
   "outputs": [
    {
     "data": {
      "text/plain": [
       "825983"
      ]
     },
     "execution_count": 17,
     "metadata": {},
     "output_type": "execute_result"
    }
   ],
   "source": [
    "len(chartevents_sample_df)"
   ]
  },
  {
   "cell_type": "markdown",
   "metadata": {},
   "source": [
    "##  Build Network"
   ]
  },
  {
   "cell_type": "markdown",
   "metadata": {},
   "source": [
    "---"
   ]
  },
  {
   "cell_type": "markdown",
   "metadata": {},
   "source": [
    "### CTGAN"
   ]
  },
  {
   "cell_type": "code",
   "execution_count": 18,
   "metadata": {},
   "outputs": [],
   "source": [
    "from sdv.tabular import CTGAN\n",
    "from sdv.evaluation import evaluate\n",
    "from sdv.constraints import FixedCombinations"
   ]
  },
  {
   "cell_type": "code",
   "execution_count": 19,
   "metadata": {},
   "outputs": [],
   "source": [
    "fixed_subject_hadm_icustay_constraint = FixedCombinations(\n",
    "    column_names=['subject_id', 'hadm_id', 'icustay_id']\n",
    ")\n",
    "\n",
    "fixed_item_value_constraint = FixedCombinations(\n",
    "    column_names=['itemid', 'value']\n",
    ")"
   ]
  },
  {
   "cell_type": "code",
   "execution_count": 20,
   "metadata": {},
   "outputs": [],
   "source": [
    "chartevents_constraints = [fixed_subject_hadm_icustay_constraint, fixed_item_value_constraint]"
   ]
  },
  {
   "cell_type": "code",
   "execution_count": 21,
   "metadata": {},
   "outputs": [],
   "source": [
    "model = CTGAN(constraints=chartevents_constraints, cuda=True, verbose=True, epochs=300)"
   ]
  },
  {
   "cell_type": "code",
   "execution_count": 22,
   "metadata": {},
   "outputs": [
    {
     "data": {
      "text/plain": [
       "825983"
      ]
     },
     "execution_count": 22,
     "metadata": {},
     "output_type": "execute_result"
    }
   ],
   "source": [
    "len(chartevents_sample_df)"
   ]
  },
  {
   "cell_type": "code",
   "execution_count": 23,
   "metadata": {},
   "outputs": [
    {
     "name": "stdout",
     "output_type": "stream",
     "text": [
      "Epoch 1, Loss G:  6.7207,Loss D: -0.0052\n",
      "Epoch 2, Loss G:  6.6821,Loss D: -0.0051\n",
      "Epoch 3, Loss G:  6.7013,Loss D: -0.0116\n",
      "Epoch 4, Loss G:  6.6926,Loss D: -0.0040\n",
      "Epoch 5, Loss G:  6.6849,Loss D: -0.0104\n",
      "Epoch 6, Loss G:  6.6709,Loss D: -0.0109\n",
      "Epoch 7, Loss G:  6.6973,Loss D:  0.0028\n",
      "Epoch 8, Loss G:  6.6745,Loss D: -0.0055\n",
      "Epoch 9, Loss G:  6.6558,Loss D: -0.0002\n",
      "Epoch 10, Loss G:  6.6643,Loss D:  0.0036\n",
      "Epoch 11, Loss G:  6.6735,Loss D:  0.0059\n",
      "Epoch 12, Loss G:  6.6549,Loss D:  0.0148\n",
      "Epoch 13, Loss G:  6.6527,Loss D:  0.0199\n",
      "Epoch 14, Loss G:  6.6329,Loss D:  0.0122\n",
      "Epoch 15, Loss G:  6.6575,Loss D:  0.0106\n",
      "Epoch 16, Loss G:  6.6416,Loss D: -0.0002\n",
      "Epoch 17, Loss G:  6.6653,Loss D: -0.0115\n",
      "Epoch 18, Loss G:  6.6492,Loss D: -0.0179\n",
      "Epoch 19, Loss G:  6.6576,Loss D: -0.0141\n",
      "Epoch 20, Loss G:  6.6645,Loss D:  0.0032\n",
      "Epoch 21, Loss G:  6.6012,Loss D:  0.0088\n",
      "Epoch 22, Loss G:  6.6132,Loss D:  0.0210\n",
      "Epoch 23, Loss G:  6.6032,Loss D:  0.0275\n",
      "Epoch 24, Loss G:  6.6046,Loss D: -0.0032\n",
      "Epoch 25, Loss G:  6.6079,Loss D:  0.0039\n",
      "Epoch 26, Loss G:  6.6432,Loss D: -0.0090\n",
      "Epoch 27, Loss G:  6.6673,Loss D: -0.0152\n",
      "Epoch 28, Loss G:  6.6613,Loss D: -0.0317\n",
      "Epoch 29, Loss G:  6.6679,Loss D: -0.0358\n",
      "Epoch 30, Loss G:  6.6494,Loss D: -0.0326\n",
      "Epoch 31, Loss G:  6.6590,Loss D:  0.0010\n",
      "Epoch 32, Loss G:  6.6097,Loss D:  0.0049\n",
      "Epoch 33, Loss G:  6.6023,Loss D:  0.0176\n",
      "Epoch 34, Loss G:  6.5892,Loss D:  0.0136\n",
      "Epoch 35, Loss G:  6.5680,Loss D:  0.0165\n",
      "Epoch 36, Loss G:  6.6105,Loss D:  0.0113\n",
      "Epoch 37, Loss G:  6.5731,Loss D:  0.0185\n",
      "Epoch 38, Loss G:  6.5941,Loss D:  0.0124\n",
      "Epoch 39, Loss G:  6.5757,Loss D: -0.0066\n",
      "Epoch 40, Loss G:  6.6092,Loss D: -0.0191\n",
      "Epoch 41, Loss G:  6.5862,Loss D: -0.0149\n",
      "Epoch 42, Loss G:  6.5708,Loss D: -0.0194\n",
      "Epoch 43, Loss G:  6.5707,Loss D: -0.0007\n",
      "Epoch 44, Loss G:  6.6002,Loss D: -0.0021\n",
      "Epoch 45, Loss G:  6.5503,Loss D:  0.0188\n",
      "Epoch 46, Loss G:  6.5461,Loss D:  0.0313\n",
      "Epoch 47, Loss G:  6.5054,Loss D:  0.0157\n",
      "Epoch 48, Loss G:  6.5635,Loss D:  0.0348\n",
      "Epoch 49, Loss G:  6.5590,Loss D:  0.0293\n",
      "Epoch 50, Loss G:  6.5361,Loss D:  0.0019\n",
      "Epoch 51, Loss G:  6.5531,Loss D: -0.0143\n",
      "Epoch 52, Loss G:  6.5686,Loss D: -0.0205\n",
      "Epoch 53, Loss G:  6.5634,Loss D: -0.0315\n",
      "Epoch 54, Loss G:  6.5738,Loss D: -0.0328\n",
      "Epoch 55, Loss G:  6.5777,Loss D: -0.0456\n",
      "Epoch 56, Loss G:  6.5590,Loss D: -0.0397\n",
      "Epoch 57, Loss G:  6.5389,Loss D: -0.0169\n",
      "Epoch 58, Loss G:  6.5120,Loss D: -0.0192\n",
      "Epoch 59, Loss G:  6.4791,Loss D:  0.0068\n",
      "Epoch 60, Loss G:  6.4765,Loss D:  0.0363\n",
      "Epoch 61, Loss G:  6.4948,Loss D:  0.0294\n",
      "Epoch 62, Loss G:  6.4289,Loss D:  0.0216\n",
      "Epoch 63, Loss G:  6.4837,Loss D:  0.0251\n",
      "Epoch 64, Loss G:  6.4685,Loss D:  0.0113\n",
      "Epoch 65, Loss G:  6.4768,Loss D: -0.0141\n",
      "Epoch 66, Loss G:  6.5031,Loss D: -0.0032\n",
      "Epoch 67, Loss G:  6.5161,Loss D: -0.0453\n",
      "Epoch 68, Loss G:  6.4968,Loss D: -0.0312\n",
      "Epoch 69, Loss G:  6.4991,Loss D: -0.0298\n",
      "Epoch 70, Loss G:  6.4734,Loss D: -0.0186\n",
      "Epoch 71, Loss G:  6.4262,Loss D:  0.0040\n",
      "Epoch 72, Loss G:  6.4185,Loss D:  0.0287\n",
      "Epoch 73, Loss G:  6.4224,Loss D:  0.0411\n",
      "Epoch 74, Loss G:  6.4171,Loss D:  0.0305\n",
      "Epoch 75, Loss G:  6.4056,Loss D:  0.0285\n",
      "Epoch 76, Loss G:  6.4627,Loss D:  0.0305\n",
      "Epoch 77, Loss G:  6.4507,Loss D: -0.0019\n",
      "Epoch 78, Loss G:  6.4754,Loss D: -0.0061\n",
      "Epoch 79, Loss G:  6.4825,Loss D: -0.0316\n",
      "Epoch 80, Loss G:  6.4986,Loss D: -0.0236\n",
      "Epoch 81, Loss G:  6.4666,Loss D: -0.0150\n",
      "Epoch 82, Loss G:  6.4640,Loss D: -0.0065\n",
      "Epoch 83, Loss G:  6.4212,Loss D: -0.0004\n",
      "Epoch 84, Loss G:  6.4242,Loss D: -0.0070\n",
      "Epoch 85, Loss G:  6.3979,Loss D:  0.0022\n",
      "Epoch 86, Loss G:  6.4158,Loss D: -0.0021\n",
      "Epoch 87, Loss G:  6.4282,Loss D:  0.0082\n",
      "Epoch 88, Loss G:  6.4299,Loss D: -0.0095\n",
      "Epoch 89, Loss G:  6.4226,Loss D: -0.0316\n",
      "Epoch 90, Loss G:  6.4769,Loss D: -0.0211\n",
      "Epoch 91, Loss G:  6.4457,Loss D: -0.0241\n",
      "Epoch 92, Loss G:  6.3976,Loss D: -0.0003\n",
      "Epoch 93, Loss G:  6.3493,Loss D:  0.0199\n",
      "Epoch 94, Loss G:  6.3536,Loss D:  0.0033\n",
      "Epoch 95, Loss G:  6.3428,Loss D:  0.0379\n",
      "Epoch 96, Loss G:  6.3369,Loss D:  0.0156\n",
      "Epoch 97, Loss G:  6.3460,Loss D:  0.0246\n",
      "Epoch 98, Loss G:  6.3563,Loss D: -0.0031\n",
      "Epoch 99, Loss G:  6.3540,Loss D: -0.0040\n",
      "Epoch 100, Loss G:  6.3326,Loss D: -0.0143\n",
      "Epoch 101, Loss G:  6.3856,Loss D: -0.0114\n",
      "Epoch 102, Loss G:  6.3394,Loss D: -0.0027\n",
      "Epoch 103, Loss G:  6.3154,Loss D: -0.0208\n",
      "Epoch 104, Loss G:  6.3368,Loss D: -0.0132\n",
      "Epoch 105, Loss G:  6.3165,Loss D: -0.0134\n",
      "Epoch 106, Loss G:  6.3344,Loss D: -0.0264\n",
      "Epoch 107, Loss G:  6.3198,Loss D: -0.0351\n",
      "Epoch 108, Loss G:  6.3593,Loss D: -0.0027\n",
      "Epoch 109, Loss G:  6.2481,Loss D: -0.0008\n",
      "Epoch 110, Loss G:  6.2553,Loss D: -0.0094\n",
      "Epoch 111, Loss G:  6.2675,Loss D:  0.0057\n",
      "Epoch 112, Loss G:  6.2369,Loss D:  0.0296\n",
      "Epoch 113, Loss G:  6.1494,Loss D:  0.0278\n",
      "Epoch 114, Loss G:  6.2212,Loss D:  0.0065\n",
      "Epoch 115, Loss G:  6.2011,Loss D:  0.0034\n",
      "Epoch 116, Loss G:  6.1807,Loss D:  0.0081\n",
      "Epoch 117, Loss G:  6.2139,Loss D: -0.0092\n",
      "Epoch 118, Loss G:  6.2091,Loss D: -0.0011\n",
      "Epoch 119, Loss G:  6.1923,Loss D: -0.0041\n",
      "Epoch 120, Loss G:  6.1860,Loss D: -0.0076\n",
      "Epoch 121, Loss G:  6.1912,Loss D:  0.0028\n",
      "Epoch 122, Loss G:  6.1776,Loss D: -0.0223\n",
      "Epoch 123, Loss G:  6.1459,Loss D: -0.0365\n",
      "Epoch 124, Loss G:  6.1300,Loss D: -0.0369\n",
      "Epoch 125, Loss G:  6.1734,Loss D: -0.0497\n",
      "Epoch 126, Loss G:  6.1605,Loss D: -0.0162\n",
      "Epoch 127, Loss G:  6.0729,Loss D: -0.0066\n",
      "Epoch 128, Loss G:  6.0356,Loss D:  0.0191\n",
      "Epoch 129, Loss G:  6.1080,Loss D:  0.0178\n",
      "Epoch 130, Loss G:  6.0347,Loss D:  0.0072\n",
      "Epoch 131, Loss G:  6.0534,Loss D:  0.0192\n",
      "Epoch 132, Loss G:  6.0786,Loss D:  0.0130\n",
      "Epoch 133, Loss G:  6.0792,Loss D:  0.0075\n",
      "Epoch 134, Loss G:  5.9847,Loss D: -0.0173\n",
      "Epoch 135, Loss G:  6.0869,Loss D: -0.0154\n",
      "Epoch 136, Loss G:  6.0242,Loss D: -0.0114\n",
      "Epoch 137, Loss G:  5.8649,Loss D: -0.0006\n",
      "Epoch 138, Loss G:  5.9575,Loss D:  0.0066\n",
      "Epoch 139, Loss G:  5.9547,Loss D:  0.0054\n",
      "Epoch 140, Loss G:  5.9091,Loss D:  0.0175\n",
      "Epoch 141, Loss G:  5.8959,Loss D:  0.0144\n",
      "Epoch 142, Loss G:  5.9101,Loss D:  0.0114\n",
      "Epoch 143, Loss G:  5.8465,Loss D: -0.0163\n",
      "Epoch 144, Loss G:  5.8461,Loss D: -0.0217\n",
      "Epoch 145, Loss G:  5.7972,Loss D: -0.0230\n",
      "Epoch 146, Loss G:  5.8343,Loss D: -0.0278\n",
      "Epoch 147, Loss G:  5.7781,Loss D: -0.0155\n",
      "Epoch 148, Loss G:  5.7592,Loss D: -0.0220\n",
      "Epoch 149, Loss G:  5.7209,Loss D:  0.0180\n",
      "Epoch 150, Loss G:  5.6873,Loss D:  0.0043\n",
      "Epoch 151, Loss G:  5.6790,Loss D:  0.0136\n",
      "Epoch 152, Loss G:  5.6355,Loss D:  0.0147\n",
      "Epoch 153, Loss G:  5.6451,Loss D:  0.0081\n",
      "Epoch 154, Loss G:  5.6430,Loss D: -0.0139\n",
      "Epoch 155, Loss G:  5.5996,Loss D: -0.0207\n",
      "Epoch 156, Loss G:  5.5796,Loss D: -0.0108\n",
      "Epoch 157, Loss G:  5.5991,Loss D: -0.0326\n",
      "Epoch 158, Loss G:  5.5481,Loss D: -0.0490\n",
      "Epoch 159, Loss G:  5.5099,Loss D: -0.0062\n",
      "Epoch 160, Loss G:  5.4341,Loss D: -0.0163\n",
      "Epoch 161, Loss G:  5.4624,Loss D:  0.0007\n",
      "Epoch 162, Loss G:  5.4045,Loss D: -0.0117\n",
      "Epoch 163, Loss G:  5.3895,Loss D:  0.0225\n",
      "Epoch 164, Loss G:  5.3868,Loss D:  0.0005\n",
      "Epoch 165, Loss G:  5.3576,Loss D:  0.0082\n",
      "Epoch 166, Loss G:  5.3483,Loss D:  0.0087\n",
      "Epoch 167, Loss G:  5.2617,Loss D:  0.0242\n",
      "Epoch 168, Loss G:  5.2425,Loss D:  0.0169\n",
      "Epoch 169, Loss G:  5.2201,Loss D:  0.0287\n",
      "Epoch 170, Loss G:  5.1548,Loss D:  0.0098\n",
      "Epoch 171, Loss G:  5.1479,Loss D:  0.0177\n",
      "Epoch 172, Loss G:  5.1601,Loss D:  0.0018\n",
      "Epoch 173, Loss G:  5.0926,Loss D: -0.0019\n",
      "Epoch 174, Loss G:  5.1378,Loss D: -0.0195\n",
      "Epoch 175, Loss G:  5.1255,Loss D: -0.0311\n",
      "Epoch 176, Loss G:  5.0264,Loss D: -0.0359\n",
      "Epoch 177, Loss G:  5.0589,Loss D: -0.0430\n",
      "Epoch 178, Loss G:  4.9848,Loss D: -0.0191\n",
      "Epoch 179, Loss G:  4.9222,Loss D: -0.0199\n",
      "Epoch 180, Loss G:  4.9385,Loss D:  0.0043\n",
      "Epoch 181, Loss G:  4.9402,Loss D: -0.0017\n",
      "Epoch 182, Loss G:  4.8522,Loss D: -0.0102\n",
      "Epoch 183, Loss G:  4.8598,Loss D: -0.0217\n",
      "Epoch 184, Loss G:  4.8716,Loss D: -0.0043\n",
      "Epoch 185, Loss G:  4.8252,Loss D:  0.0070\n",
      "Epoch 186, Loss G:  4.7158,Loss D: -0.0043\n",
      "Epoch 187, Loss G:  4.6231,Loss D:  0.0121\n",
      "Epoch 188, Loss G:  4.6439,Loss D: -0.0070\n",
      "Epoch 189, Loss G:  4.6812,Loss D: -0.0063\n",
      "Epoch 190, Loss G:  4.5368,Loss D:  0.0019\n",
      "Epoch 191, Loss G:  4.5949,Loss D: -0.0168\n",
      "Epoch 192, Loss G:  4.6078,Loss D: -0.0080\n",
      "Epoch 193, Loss G:  4.4428,Loss D:  0.0010\n",
      "Epoch 194, Loss G:  4.5812,Loss D:  0.0266\n",
      "Epoch 195, Loss G:  4.4197,Loss D:  0.0315\n",
      "Epoch 196, Loss G:  4.3356,Loss D:  0.0161\n",
      "Epoch 197, Loss G:  4.3345,Loss D:  0.0077\n",
      "Epoch 198, Loss G:  4.3153,Loss D:  0.0038\n",
      "Epoch 199, Loss G:  4.2920,Loss D: -0.0206\n",
      "Epoch 200, Loss G:  4.3391,Loss D: -0.0310\n",
      "Epoch 201, Loss G:  4.2373,Loss D: -0.0153\n",
      "Epoch 202, Loss G:  4.1577,Loss D: -0.0434\n",
      "Epoch 203, Loss G:  4.1938,Loss D: -0.0328\n",
      "Epoch 204, Loss G:  4.0995,Loss D: -0.0262\n",
      "Epoch 205, Loss G:  4.1544,Loss D: -0.0291\n",
      "Epoch 206, Loss G:  4.0114,Loss D: -0.0534\n",
      "Epoch 207, Loss G:  3.9790,Loss D: -0.0328\n",
      "Epoch 208, Loss G:  3.9588,Loss D: -0.0274\n",
      "Epoch 209, Loss G:  3.8244,Loss D:  0.0124\n",
      "Epoch 210, Loss G:  3.8397,Loss D:  0.0256\n",
      "Epoch 211, Loss G:  3.8063,Loss D:  0.0108\n",
      "Epoch 212, Loss G:  3.7224,Loss D:  0.0319\n",
      "Epoch 213, Loss G:  3.7286,Loss D:  0.0344\n",
      "Epoch 214, Loss G:  3.5895,Loss D: -0.0073\n",
      "Epoch 215, Loss G:  3.6305,Loss D: -0.0205\n",
      "Epoch 216, Loss G:  3.4263,Loss D: -0.0056\n",
      "Epoch 217, Loss G:  3.4404,Loss D:  0.0173\n",
      "Epoch 218, Loss G:  3.4045,Loss D:  0.0174\n",
      "Epoch 219, Loss G:  3.3195,Loss D:  0.0245\n",
      "Epoch 220, Loss G:  3.3537,Loss D:  0.0192\n",
      "Epoch 221, Loss G:  3.2993,Loss D: -0.0093\n",
      "Epoch 222, Loss G:  3.2335,Loss D: -0.0084\n",
      "Epoch 223, Loss G:  3.1606,Loss D: -0.0295\n",
      "Epoch 224, Loss G:  3.1027,Loss D: -0.0395\n",
      "Epoch 225, Loss G:  3.0765,Loss D: -0.0583\n",
      "Epoch 226, Loss G:  2.9988,Loss D: -0.0400\n",
      "Epoch 227, Loss G:  2.8765,Loss D: -0.0393\n",
      "Epoch 228, Loss G:  2.8557,Loss D: -0.0287\n",
      "Epoch 229, Loss G:  2.7785,Loss D: -0.0184\n",
      "Epoch 230, Loss G:  2.6456,Loss D:  0.0273\n",
      "Epoch 231, Loss G:  2.5314,Loss D: -0.0022\n",
      "Epoch 232, Loss G:  2.5020,Loss D:  0.0270\n",
      "Epoch 233, Loss G:  2.4513,Loss D:  0.0230\n",
      "Epoch 234, Loss G:  2.4050,Loss D: -0.0123\n",
      "Epoch 235, Loss G:  2.3099,Loss D: -0.0134\n",
      "Epoch 236, Loss G:  2.2515,Loss D: -0.0138\n",
      "Epoch 237, Loss G:  2.1775,Loss D: -0.0340\n",
      "Epoch 238, Loss G:  2.0573,Loss D:  0.0007\n",
      "Epoch 239, Loss G:  1.9755,Loss D: -0.0069\n",
      "Epoch 240, Loss G:  1.9428,Loss D: -0.0247\n",
      "Epoch 241, Loss G:  1.8104,Loss D: -0.0084\n",
      "Epoch 242, Loss G:  1.7763,Loss D:  0.0098\n",
      "Epoch 243, Loss G:  1.6479,Loss D:  0.0399\n",
      "Epoch 244, Loss G:  1.6475,Loss D:  0.0352\n",
      "Epoch 245, Loss G:  1.5645,Loss D:  0.0517\n",
      "Epoch 246, Loss G:  1.4418,Loss D:  0.0266\n",
      "Epoch 247, Loss G:  1.4265,Loss D: -0.0111\n",
      "Epoch 248, Loss G:  1.3862,Loss D:  0.0035\n",
      "Epoch 249, Loss G:  1.2999,Loss D: -0.0537\n",
      "Epoch 250, Loss G:  1.2413,Loss D: -0.0630\n",
      "Epoch 251, Loss G:  1.2786,Loss D: -0.0382\n",
      "Epoch 252, Loss G:  1.1644,Loss D: -0.0707\n",
      "Epoch 253, Loss G:  1.0918,Loss D: -0.0309\n",
      "Epoch 254, Loss G:  1.0071,Loss D: -0.0563\n",
      "Epoch 255, Loss G:  0.9340,Loss D: -0.0213\n",
      "Epoch 256, Loss G:  0.8933,Loss D: -0.0157\n",
      "Epoch 257, Loss G:  0.8882,Loss D:  0.0003\n",
      "Epoch 258, Loss G:  0.7897,Loss D: -0.0035\n",
      "Epoch 259, Loss G:  0.7458,Loss D:  0.0487\n",
      "Epoch 260, Loss G:  0.6819,Loss D:  0.0357\n",
      "Epoch 261, Loss G:  0.6153,Loss D:  0.0080\n",
      "Epoch 262, Loss G:  0.5730,Loss D:  0.0482\n",
      "Epoch 263, Loss G:  0.5502,Loss D:  0.0444\n",
      "Epoch 264, Loss G:  0.4867,Loss D:  0.0281\n",
      "Epoch 265, Loss G:  0.4552,Loss D:  0.0215\n",
      "Epoch 266, Loss G:  0.4352,Loss D: -0.0013\n",
      "Epoch 267, Loss G:  0.4205,Loss D: -0.0050\n",
      "Epoch 268, Loss G:  0.4057,Loss D: -0.0363\n",
      "Epoch 269, Loss G:  0.3945,Loss D: -0.0508\n",
      "Epoch 270, Loss G:  0.3646,Loss D: -0.0491\n",
      "Epoch 271, Loss G:  0.3074,Loss D: -0.0302\n",
      "Epoch 272, Loss G:  0.2816,Loss D: -0.0588\n",
      "Epoch 273, Loss G:  0.2361,Loss D: -0.0312\n",
      "Epoch 274, Loss G:  0.2183,Loss D: -0.0328\n",
      "Epoch 275, Loss G:  0.1953,Loss D: -0.0286\n",
      "Epoch 276, Loss G:  0.1520,Loss D: -0.0204\n",
      "Epoch 277, Loss G:  0.1368,Loss D: -0.0263\n",
      "Epoch 278, Loss G:  0.0888,Loss D: -0.0038\n",
      "Epoch 279, Loss G:  0.0318,Loss D:  0.0078\n",
      "Epoch 280, Loss G:  0.0294,Loss D:  0.0402\n",
      "Epoch 281, Loss G:  0.0205,Loss D:  0.0389\n",
      "Epoch 282, Loss G:  0.0034,Loss D:  0.0532\n",
      "Epoch 283, Loss G:  0.0148,Loss D:  0.0222\n",
      "Epoch 284, Loss G: -0.0010,Loss D:  0.0398\n",
      "Epoch 285, Loss G: -0.0094,Loss D:  0.0323\n",
      "Epoch 286, Loss G:  0.0045,Loss D:  0.0173\n",
      "Epoch 287, Loss G: -0.0069,Loss D:  0.0049\n",
      "Epoch 288, Loss G:  0.0000,Loss D: -0.0002\n",
      "Epoch 289, Loss G: -0.0103,Loss D: -0.0239\n",
      "Epoch 290, Loss G:  0.0110,Loss D: -0.0453\n",
      "Epoch 291, Loss G:  0.0066,Loss D: -0.0406\n",
      "Epoch 292, Loss G: -0.0093,Loss D: -0.0220\n",
      "Epoch 293, Loss G: -0.0291,Loss D: -0.0122\n",
      "Epoch 294, Loss G: -0.0274,Loss D: -0.0279\n",
      "Epoch 295, Loss G: -0.0546,Loss D: -0.0203\n",
      "Epoch 296, Loss G: -0.0430,Loss D: -0.0487\n",
      "Epoch 297, Loss G: -0.0912,Loss D: -0.0023\n",
      "Epoch 298, Loss G: -0.1150,Loss D:  0.0119\n",
      "Epoch 299, Loss G: -0.1270,Loss D:  0.0358\n",
      "Epoch 300, Loss G: -0.1546,Loss D:  0.0353\n"
     ]
    }
   ],
   "source": [
    "train_data = chartevents_sample_df.sample(n=1000)\n",
    "model.fit(train_data)"
   ]
  },
  {
   "cell_type": "code",
   "execution_count": 24,
   "metadata": {},
   "outputs": [
    {
     "name": "stderr",
     "output_type": "stream",
     "text": [
      "Sampling rows: 100%|██████████| 1000/1000 [00:00<00:00, 9288.41it/s]\n"
     ]
    }
   ],
   "source": [
    "sample = model.sample(num_rows=1000)"
   ]
  },
  {
   "cell_type": "code",
   "execution_count": 25,
   "metadata": {},
   "outputs": [],
   "source": [
    "chartevents_sample_df['value'] = chartevents_sample_df['value'].astype(str)"
   ]
  },
  {
   "cell_type": "code",
   "execution_count": 26,
   "metadata": {},
   "outputs": [
    {
     "data": {
      "text/plain": [
       "0.7112779193893275"
      ]
     },
     "execution_count": 26,
     "metadata": {},
     "output_type": "execute_result"
    }
   ],
   "source": [
    "evaluate(sample, train_data, metrics=['ContinuousKLDivergence'])"
   ]
  },
  {
   "cell_type": "code",
   "execution_count": 27,
   "metadata": {},
   "outputs": [
    {
     "data": {
      "text/plain": [
       "nan"
      ]
     },
     "execution_count": 27,
     "metadata": {},
     "output_type": "execute_result"
    }
   ],
   "source": [
    "evaluate(sample, train_data, metrics=['DiscreteKLDivergence'])"
   ]
  },
  {
   "cell_type": "code",
   "execution_count": 28,
   "metadata": {},
   "outputs": [],
   "source": [
    "# evaluate(sample, chartevents_sample_df.loc[0:1000, :], aggregate=False)"
   ]
  },
  {
   "cell_type": "code",
   "execution_count": 31,
   "metadata": {},
   "outputs": [
    {
     "data": {
      "text/plain": [
       "<AxesSubplot:>"
      ]
     },
     "execution_count": 31,
     "metadata": {},
     "output_type": "execute_result"
    },
    {
     "data": {
      "image/png": "[encoded data removed]",
      "text/plain": [
       "<Figure size 432x288 with 1 Axes>"
      ]
     },
     "metadata": {
      "needs_background": "light"
     },
     "output_type": "display_data"
    }
   ],
   "source": [
    "sample.sort_values('itemid')['itemid'].hist()"
   ]
  },
  {
   "cell_type": "code",
   "execution_count": 34,
   "metadata": {},
   "outputs": [
    {
     "data": {
      "text/plain": [
       "<AxesSubplot:>"
      ]
     },
     "execution_count": 34,
     "metadata": {},
     "output_type": "execute_result"
    },
    {
     "data": {
      "image/png": "[encoded data removed]",
      "text/plain": [
       "<Figure size 432x288 with 1 Axes>"
      ]
     },
     "metadata": {
      "needs_background": "light"
     },
     "output_type": "display_data"
    }
   ],
   "source": [
    "train_data.sort_values('itemid')['itemid'].hist()"
   ]
  }
 ],
 "metadata": {
  "kernelspec": {
   "display_name": "Python 3.8.13 ('msc_project')",
   "language": "python",
   "name": "python3"
  },
  "language_info": {
   "codemirror_mode": {
    "name": "ipython",
    "version": 3
   },
   "file_extension": ".py",
   "mimetype": "text/x-python",
   "name": "python",
   "nbconvert_exporter": "python",
   "pygments_lexer": "ipython3",
   "version": "3.8.13"
  },
  "orig_nbformat": 4,
  "vscode": {
   "interpreter": {
    "hash": "e56015fb566b08f7af163d42c82cf08fa5d6db3fbaaffa0afaaff5a893fc0496"
   }
  }
 },
 "nbformat": 4,
 "nbformat_minor": 2
}
