{
 "cells": [
  {
   "cell_type": "code",
   "execution_count": 8,
   "metadata": {},
   "outputs": [],
   "source": [
    "# from google.colab import drive\n",
    "# drive.mount('/content/drive')"
   ]
  },
  {
   "cell_type": "code",
   "execution_count": 9,
   "metadata": {},
   "outputs": [],
   "source": [
    "# Ignore warnings\n",
    "import warnings\n",
    "warnings.filterwarnings(\"ignore\")"
   ]
  },
  {
   "cell_type": "code",
   "execution_count": 10,
   "metadata": {},
   "outputs": [],
   "source": [
    "import pandas as pd\n",
    "import numpy as np"
   ]
  },
  {
   "cell_type": "code",
   "execution_count": 11,
   "metadata": {},
   "outputs": [],
   "source": [
    "date_set_path = \"../temp_sets_100/\""
   ]
  },
  {
   "cell_type": "markdown",
   "metadata": {},
   "source": [
    "## Read Tempdatasets"
   ]
  },
  {
   "cell_type": "code",
   "execution_count": 12,
   "metadata": {},
   "outputs": [],
   "source": [
    "# read csv file as dataframe, and drop ROW_ID column\n",
    "def read_csv_no_rowid(file_path):\n",
    "    df = pd.read_csv(file_path)\n",
    "    low_list = [x.lower() for x in df.columns]\n",
    "    df.columns = low_list\n",
    "    # df.drop(['unnamed: 0', 'row_id'], axis=1, inplace=True)\n",
    "    df.drop(['row_id'], axis=1, inplace=True)\n",
    "\n",
    "    return df"
   ]
  },
  {
   "cell_type": "code",
   "execution_count": 13,
   "metadata": {},
   "outputs": [],
   "source": [
    "# check NaN value\n",
    "\n",
    "def nan_count(df):\n",
    "    print(\"Total columns: \" + str(len(df.columns)))\n",
    "    print(\"Total rows: \" + str(len(df)))\n",
    "    print(\"--------------\")\n",
    "    print(df.isnull().sum())"
   ]
  },
  {
   "cell_type": "markdown",
   "metadata": {},
   "source": [
    "### Chartevents"
   ]
  },
  {
   "cell_type": "code",
   "execution_count": 15,
   "metadata": {},
   "outputs": [],
   "source": [
    "chartevents_sample_df = read_csv_no_rowid(date_set_path + \"chartevents.csv\")"
   ]
  },
  {
   "cell_type": "code",
   "execution_count": 16,
   "metadata": {},
   "outputs": [],
   "source": [
    "# Drop some null value\n",
    "chartevents_sample_df.dropna(subset=['subject_id', 'hadm_id', 'icustay_id'], inplace=True, axis=0)"
   ]
  },
  {
   "cell_type": "code",
   "execution_count": 17,
   "metadata": {},
   "outputs": [
    {
     "data": {
      "text/html": [
       "<div>\n",
       "<style scoped>\n",
       "    .dataframe tbody tr th:only-of-type {\n",
       "        vertical-align: middle;\n",
       "    }\n",
       "\n",
       "    .dataframe tbody tr th {\n",
       "        vertical-align: top;\n",
       "    }\n",
       "\n",
       "    .dataframe thead th {\n",
       "        text-align: right;\n",
       "    }\n",
       "</style>\n",
       "<table border=\"1\" class=\"dataframe\">\n",
       "  <thead>\n",
       "    <tr style=\"text-align: right;\">\n",
       "      <th></th>\n",
       "      <th>unnamed: 0</th>\n",
       "      <th>subject_id</th>\n",
       "      <th>hadm_id</th>\n",
       "      <th>icustay_id</th>\n",
       "      <th>itemid</th>\n",
       "      <th>charttime</th>\n",
       "      <th>storetime</th>\n",
       "      <th>cgid</th>\n",
       "      <th>value</th>\n",
       "      <th>valuenum</th>\n",
       "      <th>valueuom</th>\n",
       "      <th>warning</th>\n",
       "      <th>error</th>\n",
       "      <th>resultstatus</th>\n",
       "      <th>stopped</th>\n",
       "    </tr>\n",
       "  </thead>\n",
       "  <tbody>\n",
       "    <tr>\n",
       "      <th>0</th>\n",
       "      <td>0</td>\n",
       "      <td>569</td>\n",
       "      <td>116412</td>\n",
       "      <td>271533.0</td>\n",
       "      <td>644</td>\n",
       "      <td>2105-02-22 15:00:00</td>\n",
       "      <td>2105-02-22 15:13:00</td>\n",
       "      <td>16057</td>\n",
       "      <td>Intact</td>\n",
       "      <td>NaN</td>\n",
       "      <td>NaN</td>\n",
       "      <td>NaN</td>\n",
       "      <td>NaN</td>\n",
       "      <td>NaN</td>\n",
       "      <td>NotStopd</td>\n",
       "    </tr>\n",
       "    <tr>\n",
       "      <th>1</th>\n",
       "      <td>1</td>\n",
       "      <td>569</td>\n",
       "      <td>116412</td>\n",
       "      <td>271533.0</td>\n",
       "      <td>550</td>\n",
       "      <td>2105-02-22 15:00:00</td>\n",
       "      <td>2105-02-22 15:13:00</td>\n",
       "      <td>16057</td>\n",
       "      <td>Universal</td>\n",
       "      <td>NaN</td>\n",
       "      <td>NaN</td>\n",
       "      <td>NaN</td>\n",
       "      <td>NaN</td>\n",
       "      <td>NaN</td>\n",
       "      <td>NotStopd</td>\n",
       "    </tr>\n",
       "    <tr>\n",
       "      <th>2</th>\n",
       "      <td>2</td>\n",
       "      <td>569</td>\n",
       "      <td>116412</td>\n",
       "      <td>271533.0</td>\n",
       "      <td>581</td>\n",
       "      <td>2105-02-22 15:00:00</td>\n",
       "      <td>2105-02-22 15:13:00</td>\n",
       "      <td>16057</td>\n",
       "      <td>88.5</td>\n",
       "      <td>88.5</td>\n",
       "      <td>kg</td>\n",
       "      <td>NaN</td>\n",
       "      <td>NaN</td>\n",
       "      <td>NaN</td>\n",
       "      <td>NotStopd</td>\n",
       "    </tr>\n",
       "    <tr>\n",
       "      <th>3</th>\n",
       "      <td>3</td>\n",
       "      <td>569</td>\n",
       "      <td>116412</td>\n",
       "      <td>271533.0</td>\n",
       "      <td>593</td>\n",
       "      <td>2105-02-22 15:00:00</td>\n",
       "      <td>2105-02-22 15:13:00</td>\n",
       "      <td>16057</td>\n",
       "      <td>Diminished</td>\n",
       "      <td>NaN</td>\n",
       "      <td>NaN</td>\n",
       "      <td>NaN</td>\n",
       "      <td>NaN</td>\n",
       "      <td>NaN</td>\n",
       "      <td>NotStopd</td>\n",
       "    </tr>\n",
       "    <tr>\n",
       "      <th>4</th>\n",
       "      <td>4</td>\n",
       "      <td>569</td>\n",
       "      <td>116412</td>\n",
       "      <td>271533.0</td>\n",
       "      <td>599</td>\n",
       "      <td>2105-02-22 15:00:00</td>\n",
       "      <td>2105-02-22 15:13:00</td>\n",
       "      <td>16057</td>\n",
       "      <td>Clear</td>\n",
       "      <td>NaN</td>\n",
       "      <td>NaN</td>\n",
       "      <td>NaN</td>\n",
       "      <td>NaN</td>\n",
       "      <td>NaN</td>\n",
       "      <td>NotStopd</td>\n",
       "    </tr>\n",
       "  </tbody>\n",
       "</table>\n",
       "</div>"
      ],
      "text/plain": [
       "   unnamed: 0  subject_id  hadm_id  icustay_id  itemid            charttime  \\\n",
       "0           0         569   116412    271533.0     644  2105-02-22 15:00:00   \n",
       "1           1         569   116412    271533.0     550  2105-02-22 15:00:00   \n",
       "2           2         569   116412    271533.0     581  2105-02-22 15:00:00   \n",
       "3           3         569   116412    271533.0     593  2105-02-22 15:00:00   \n",
       "4           4         569   116412    271533.0     599  2105-02-22 15:00:00   \n",
       "\n",
       "             storetime   cgid       value  valuenum valueuom  warning  error  \\\n",
       "0  2105-02-22 15:13:00  16057      Intact       NaN      NaN      NaN    NaN   \n",
       "1  2105-02-22 15:13:00  16057   Universal       NaN      NaN      NaN    NaN   \n",
       "2  2105-02-22 15:13:00  16057        88.5      88.5       kg      NaN    NaN   \n",
       "3  2105-02-22 15:13:00  16057  Diminished       NaN      NaN      NaN    NaN   \n",
       "4  2105-02-22 15:13:00  16057       Clear       NaN      NaN      NaN    NaN   \n",
       "\n",
       "  resultstatus   stopped  \n",
       "0          NaN  NotStopd  \n",
       "1          NaN  NotStopd  \n",
       "2          NaN  NotStopd  \n",
       "3          NaN  NotStopd  \n",
       "4          NaN  NotStopd  "
      ]
     },
     "execution_count": 17,
     "metadata": {},
     "output_type": "execute_result"
    }
   ],
   "source": [
    "chartevents_sample_df.head()"
   ]
  },
  {
   "cell_type": "code",
   "execution_count": 18,
   "metadata": {},
   "outputs": [],
   "source": [
    "# Drop useless colums\n",
    "chartevents_sample_df.drop(['storetime', 'cgid', 'valuenum', 'valueuom', 'warning', 'error', 'resultstatus', 'stopped'], axis=1, inplace=True)"
   ]
  },
  {
   "cell_type": "code",
   "execution_count": 19,
   "metadata": {},
   "outputs": [
    {
     "name": "stdout",
     "output_type": "stream",
     "text": [
      "Total columns: 7\n",
      "Total rows: 674770\n",
      "--------------\n",
      "unnamed: 0       0\n",
      "subject_id       0\n",
      "hadm_id          0\n",
      "icustay_id       0\n",
      "itemid           0\n",
      "charttime        0\n",
      "value         3595\n",
      "dtype: int64\n"
     ]
    }
   ],
   "source": [
    "nan_count(chartevents_sample_df)"
   ]
  },
  {
   "cell_type": "code",
   "execution_count": 20,
   "metadata": {},
   "outputs": [
    {
     "name": "stdout",
     "output_type": "stream",
     "text": [
      "Total columns: 7\n",
      "Total rows: 674770\n",
      "--------------\n",
      "unnamed: 0       0\n",
      "subject_id       0\n",
      "hadm_id          0\n",
      "icustay_id       0\n",
      "itemid           0\n",
      "charttime        0\n",
      "value         3595\n",
      "dtype: int64\n"
     ]
    }
   ],
   "source": [
    "nan_count(chartevents_sample_df)"
   ]
  },
  {
   "cell_type": "code",
   "execution_count": 21,
   "metadata": {},
   "outputs": [],
   "source": [
    "chartevents_sample_df['value'].fillna(value='Na', inplace=True)"
   ]
  },
  {
   "cell_type": "code",
   "execution_count": 22,
   "metadata": {},
   "outputs": [
    {
     "data": {
      "text/plain": [
       "unnamed: 0      int64\n",
       "subject_id      int64\n",
       "hadm_id         int64\n",
       "icustay_id    float64\n",
       "itemid          int64\n",
       "charttime      object\n",
       "value          object\n",
       "dtype: object"
      ]
     },
     "execution_count": 22,
     "metadata": {},
     "output_type": "execute_result"
    }
   ],
   "source": [
    "chartevents_sample_df.dtypes"
   ]
  },
  {
   "cell_type": "code",
   "execution_count": 23,
   "metadata": {},
   "outputs": [],
   "source": [
    "# Transfer some date type\n",
    "# chartevents_sample_df['subject_id'] = chartevents_sample_df['subject_id'].astype(str)\n",
    "# chartevents_sample_df['hadm_id'] = chartevents_sample_df['hadm_id'].astype(str)\n",
    "# chartevents_sample_df['icustay_id'] = chartevents_sample_df['icustay_id'].astype(str)\n",
    "\n",
    "# chartevents_sample_df['itemid'] = chartevents_sample_df['itemid'].astype(str)\n",
    "\n",
    "chartevents_sample_df['charttime'] = pd.to_datetime(chartevents_sample_df['charttime'])"
   ]
  },
  {
   "cell_type": "code",
   "execution_count": 24,
   "metadata": {},
   "outputs": [
    {
     "data": {
      "text/plain": [
       "unnamed: 0             int64\n",
       "subject_id             int64\n",
       "hadm_id                int64\n",
       "icustay_id           float64\n",
       "itemid                 int64\n",
       "charttime     datetime64[ns]\n",
       "value                 object\n",
       "dtype: object"
      ]
     },
     "execution_count": 24,
     "metadata": {},
     "output_type": "execute_result"
    }
   ],
   "source": [
    "chartevents_sample_df.dtypes"
   ]
  },
  {
   "cell_type": "code",
   "execution_count": 25,
   "metadata": {},
   "outputs": [
    {
     "data": {
      "text/plain": [
       "674770"
      ]
     },
     "execution_count": 25,
     "metadata": {},
     "output_type": "execute_result"
    }
   ],
   "source": [
    "len(chartevents_sample_df)"
   ]
  },
  {
   "cell_type": "markdown",
   "metadata": {},
   "source": [
    "##  Build Network"
   ]
  },
  {
   "cell_type": "markdown",
   "metadata": {},
   "source": [
    "---"
   ]
  },
  {
   "cell_type": "markdown",
   "metadata": {},
   "source": [
    "### CTGAN"
   ]
  },
  {
   "cell_type": "code",
   "execution_count": 26,
   "metadata": {},
   "outputs": [],
   "source": [
    "from sdv.tabular import CTGAN\n",
    "from sdv.evaluation import evaluate\n",
    "from sdv.constraints import FixedCombinations"
   ]
  },
  {
   "cell_type": "code",
   "execution_count": 27,
   "metadata": {},
   "outputs": [],
   "source": [
    "fixed_subject_hadm_icustay_constraint = FixedCombinations(\n",
    "    column_names=['subject_id', 'hadm_id', 'icustay_id']\n",
    ")\n",
    "\n",
    "fixed_item_value_constraint = FixedCombinations(\n",
    "    column_names=['itemid', 'value']\n",
    ")"
   ]
  },
  {
   "cell_type": "code",
   "execution_count": 28,
   "metadata": {},
   "outputs": [],
   "source": [
    "chartevents_constraints = [fixed_subject_hadm_icustay_constraint, fixed_item_value_constraint]"
   ]
  },
  {
   "cell_type": "code",
   "execution_count": 29,
   "metadata": {},
   "outputs": [],
   "source": [
    "model = CTGAN(constraints=chartevents_constraints, cuda=True, verbose=True, epochs=300)"
   ]
  },
  {
   "cell_type": "code",
   "execution_count": 30,
   "metadata": {},
   "outputs": [
    {
     "data": {
      "text/plain": [
       "674770"
      ]
     },
     "execution_count": 30,
     "metadata": {},
     "output_type": "execute_result"
    }
   ],
   "source": [
    "len(chartevents_sample_df)"
   ]
  },
  {
   "cell_type": "code",
   "execution_count": 31,
   "metadata": {},
   "outputs": [
    {
     "name": "stdout",
     "output_type": "stream",
     "text": [
      "Epoch 1, Loss G:  5.6268,Loss D: -0.0010\n",
      "Epoch 2, Loss G:  5.5939,Loss D: -0.0054\n",
      "Epoch 3, Loss G:  5.5288,Loss D: -0.0208\n",
      "Epoch 4, Loss G:  5.6167,Loss D: -0.0248\n",
      "Epoch 5, Loss G:  5.5414,Loss D: -0.0260\n",
      "Epoch 6, Loss G:  5.5577,Loss D: -0.0366\n",
      "Epoch 7, Loss G:  5.6284,Loss D: -0.0354\n",
      "Epoch 8, Loss G:  5.5546,Loss D: -0.0294\n",
      "Epoch 9, Loss G:  5.6298,Loss D: -0.0488\n",
      "Epoch 10, Loss G:  5.4762,Loss D: -0.0380\n",
      "Epoch 11, Loss G:  5.4846,Loss D: -0.0131\n",
      "Epoch 12, Loss G:  5.5906,Loss D:  0.0152\n",
      "Epoch 13, Loss G:  5.3901,Loss D:  0.0170\n",
      "Epoch 14, Loss G:  5.5003,Loss D: -0.0166\n",
      "Epoch 15, Loss G:  5.4800,Loss D: -0.0116\n",
      "Epoch 16, Loss G:  5.4616,Loss D: -0.0503\n",
      "Epoch 17, Loss G:  5.5434,Loss D: -0.0230\n",
      "Epoch 18, Loss G:  5.5623,Loss D: -0.0250\n",
      "Epoch 19, Loss G:  5.3784,Loss D: -0.0036\n",
      "Epoch 20, Loss G:  5.4395,Loss D: -0.0051\n",
      "Epoch 21, Loss G:  5.4501,Loss D: -0.0097\n",
      "Epoch 22, Loss G:  5.3664,Loss D:  0.0099\n",
      "Epoch 23, Loss G:  5.4929,Loss D: -0.0292\n",
      "Epoch 24, Loss G:  5.4488,Loss D: -0.0516\n",
      "Epoch 25, Loss G:  5.3799,Loss D: -0.0568\n",
      "Epoch 26, Loss G:  5.5428,Loss D: -0.0537\n",
      "Epoch 27, Loss G:  5.4908,Loss D: -0.0607\n",
      "Epoch 28, Loss G:  5.4476,Loss D: -0.0638\n",
      "Epoch 29, Loss G:  5.3389,Loss D: -0.0281\n",
      "Epoch 30, Loss G:  5.3699,Loss D:  0.0266\n",
      "Epoch 31, Loss G:  5.3661,Loss D:  0.0403\n",
      "Epoch 32, Loss G:  5.3129,Loss D:  0.0365\n",
      "Epoch 33, Loss G:  5.3464,Loss D:  0.0086\n",
      "Epoch 34, Loss G:  5.4400,Loss D:  0.0444\n",
      "Epoch 35, Loss G:  5.3811,Loss D:  0.0134\n",
      "Epoch 36, Loss G:  5.3784,Loss D: -0.0457\n",
      "Epoch 37, Loss G:  5.4400,Loss D: -0.0689\n",
      "Epoch 38, Loss G:  5.3617,Loss D: -0.0735\n",
      "Epoch 39, Loss G:  5.3595,Loss D: -0.0785\n",
      "Epoch 40, Loss G:  5.3802,Loss D: -0.0823\n",
      "Epoch 41, Loss G:  5.4208,Loss D: -0.0735\n",
      "Epoch 42, Loss G:  5.3538,Loss D: -0.0348\n",
      "Epoch 43, Loss G:  5.2874,Loss D:  0.0097\n",
      "Epoch 44, Loss G:  5.1457,Loss D:  0.0051\n",
      "Epoch 45, Loss G:  5.2112,Loss D:  0.0185\n",
      "Epoch 46, Loss G:  5.2164,Loss D:  0.0403\n",
      "Epoch 47, Loss G:  5.2316,Loss D:  0.0207\n",
      "Epoch 48, Loss G:  5.2894,Loss D:  0.0204\n",
      "Epoch 49, Loss G:  5.2176,Loss D:  0.0011\n",
      "Epoch 50, Loss G:  5.2643,Loss D: -0.0353\n",
      "Epoch 51, Loss G:  5.2153,Loss D: -0.0469\n",
      "Epoch 52, Loss G:  5.2869,Loss D: -0.0303\n",
      "Epoch 53, Loss G:  5.2841,Loss D: -0.0424\n",
      "Epoch 54, Loss G:  5.1466,Loss D: -0.0444\n",
      "Epoch 55, Loss G:  5.2764,Loss D: -0.0251\n",
      "Epoch 56, Loss G:  5.2029,Loss D:  0.0077\n",
      "Epoch 57, Loss G:  5.1595,Loss D:  0.0304\n",
      "Epoch 58, Loss G:  5.0767,Loss D:  0.0158\n",
      "Epoch 59, Loss G:  5.2264,Loss D:  0.0192\n",
      "Epoch 60, Loss G:  5.2466,Loss D: -0.0104\n",
      "Epoch 61, Loss G:  5.2284,Loss D: -0.0522\n",
      "Epoch 62, Loss G:  5.1734,Loss D: -0.0647\n",
      "Epoch 63, Loss G:  5.2970,Loss D: -0.0480\n",
      "Epoch 64, Loss G:  5.1357,Loss D: -0.0550\n",
      "Epoch 65, Loss G:  5.1299,Loss D: -0.0539\n",
      "Epoch 66, Loss G:  5.1648,Loss D: -0.0354\n",
      "Epoch 67, Loss G:  5.1446,Loss D: -0.0059\n",
      "Epoch 68, Loss G:  5.0874,Loss D: -0.0003\n",
      "Epoch 69, Loss G:  5.0717,Loss D:  0.0627\n",
      "Epoch 70, Loss G:  5.0899,Loss D:  0.0611\n",
      "Epoch 71, Loss G:  5.1127,Loss D:  0.0438\n",
      "Epoch 72, Loss G:  4.9461,Loss D:  0.0178\n",
      "Epoch 73, Loss G:  5.1462,Loss D: -0.0056\n",
      "Epoch 74, Loss G:  5.0086,Loss D: -0.0365\n",
      "Epoch 75, Loss G:  4.9584,Loss D: -0.0296\n",
      "Epoch 76, Loss G:  5.0398,Loss D: -0.0785\n",
      "Epoch 77, Loss G:  4.9964,Loss D: -0.0666\n",
      "Epoch 78, Loss G:  5.0290,Loss D: -0.0593\n",
      "Epoch 79, Loss G:  4.9929,Loss D: -0.0102\n",
      "Epoch 80, Loss G:  4.8853,Loss D:  0.0032\n",
      "Epoch 81, Loss G:  4.9226,Loss D:  0.0334\n",
      "Epoch 82, Loss G:  4.9800,Loss D:  0.0311\n",
      "Epoch 83, Loss G:  4.8501,Loss D:  0.0417\n",
      "Epoch 84, Loss G:  4.8941,Loss D:  0.0287\n",
      "Epoch 85, Loss G:  4.9440,Loss D:  0.0042\n",
      "Epoch 86, Loss G:  4.9531,Loss D: -0.0122\n",
      "Epoch 87, Loss G:  4.9594,Loss D: -0.0017\n",
      "Epoch 88, Loss G:  4.9924,Loss D: -0.0637\n",
      "Epoch 89, Loss G:  4.9562,Loss D: -0.0458\n",
      "Epoch 90, Loss G:  4.9880,Loss D: -0.0556\n",
      "Epoch 91, Loss G:  4.8221,Loss D: -0.0329\n",
      "Epoch 92, Loss G:  4.8334,Loss D: -0.0167\n",
      "Epoch 93, Loss G:  4.8839,Loss D: -0.0190\n",
      "Epoch 94, Loss G:  4.7780,Loss D:  0.0078\n",
      "Epoch 95, Loss G:  4.7493,Loss D: -0.0148\n",
      "Epoch 96, Loss G:  4.8024,Loss D:  0.0123\n",
      "Epoch 97, Loss G:  4.8808,Loss D: -0.0101\n",
      "Epoch 98, Loss G:  4.8667,Loss D:  0.0081\n",
      "Epoch 99, Loss G:  4.8269,Loss D: -0.0081\n",
      "Epoch 100, Loss G:  4.7029,Loss D: -0.0070\n",
      "Epoch 101, Loss G:  4.6955,Loss D:  0.0231\n",
      "Epoch 102, Loss G:  4.6793,Loss D:  0.0469\n",
      "Epoch 103, Loss G:  4.7198,Loss D:  0.0268\n",
      "Epoch 104, Loss G:  4.6691,Loss D:  0.0026\n",
      "Epoch 105, Loss G:  4.7284,Loss D: -0.0348\n",
      "Epoch 106, Loss G:  4.5559,Loss D: -0.0687\n",
      "Epoch 107, Loss G:  4.5462,Loss D: -0.0402\n",
      "Epoch 108, Loss G:  4.6131,Loss D: -0.0733\n",
      "Epoch 109, Loss G:  4.6161,Loss D: -0.0281\n",
      "Epoch 110, Loss G:  4.4576,Loss D: -0.0276\n",
      "Epoch 111, Loss G:  4.4843,Loss D: -0.0126\n",
      "Epoch 112, Loss G:  4.4640,Loss D: -0.0108\n",
      "Epoch 113, Loss G:  4.3159,Loss D: -0.0003\n",
      "Epoch 114, Loss G:  4.5634,Loss D:  0.0091\n",
      "Epoch 115, Loss G:  4.4841,Loss D: -0.0160\n",
      "Epoch 116, Loss G:  4.4635,Loss D:  0.0035\n",
      "Epoch 117, Loss G:  4.3649,Loss D:  0.0007\n",
      "Epoch 118, Loss G:  4.2978,Loss D:  0.0453\n",
      "Epoch 119, Loss G:  4.2897,Loss D:  0.0271\n",
      "Epoch 120, Loss G:  4.2849,Loss D: -0.0075\n",
      "Epoch 121, Loss G:  4.2285,Loss D:  0.0067\n",
      "Epoch 122, Loss G:  4.2970,Loss D: -0.0019\n",
      "Epoch 123, Loss G:  4.2275,Loss D: -0.0105\n",
      "Epoch 124, Loss G:  4.2004,Loss D:  0.0346\n",
      "Epoch 125, Loss G:  4.4191,Loss D: -0.0057\n",
      "Epoch 126, Loss G:  4.1431,Loss D:  0.0044\n",
      "Epoch 127, Loss G:  4.2349,Loss D: -0.0329\n",
      "Epoch 128, Loss G:  4.1691,Loss D:  0.0034\n",
      "Epoch 129, Loss G:  4.1126,Loss D: -0.0305\n",
      "Epoch 130, Loss G:  3.9194,Loss D: -0.0423\n",
      "Epoch 131, Loss G:  4.0073,Loss D: -0.0426\n",
      "Epoch 132, Loss G:  4.0107,Loss D: -0.0257\n",
      "Epoch 133, Loss G:  3.9260,Loss D: -0.0185\n",
      "Epoch 134, Loss G:  3.7447,Loss D: -0.0417\n",
      "Epoch 135, Loss G:  3.8700,Loss D: -0.0517\n",
      "Epoch 136, Loss G:  4.0580,Loss D:  0.0074\n",
      "Epoch 137, Loss G:  3.9197,Loss D: -0.0022\n",
      "Epoch 138, Loss G:  3.7545,Loss D: -0.0078\n",
      "Epoch 139, Loss G:  3.9299,Loss D: -0.0542\n",
      "Epoch 140, Loss G:  3.7777,Loss D: -0.0260\n",
      "Epoch 141, Loss G:  3.8125,Loss D: -0.0759\n",
      "Epoch 142, Loss G:  3.7358,Loss D: -0.0647\n",
      "Epoch 143, Loss G:  3.6206,Loss D: -0.0316\n",
      "Epoch 144, Loss G:  3.5954,Loss D: -0.0033\n",
      "Epoch 145, Loss G:  3.6453,Loss D: -0.0285\n",
      "Epoch 146, Loss G:  3.5324,Loss D:  0.0037\n",
      "Epoch 147, Loss G:  3.3570,Loss D: -0.0237\n",
      "Epoch 148, Loss G:  3.3964,Loss D: -0.0057\n",
      "Epoch 149, Loss G:  3.4492,Loss D: -0.0148\n",
      "Epoch 150, Loss G:  3.2542,Loss D: -0.0293\n",
      "Epoch 151, Loss G:  3.4702,Loss D:  0.0024\n",
      "Epoch 152, Loss G:  3.3846,Loss D:  0.0192\n",
      "Epoch 153, Loss G:  3.1750,Loss D:  0.0369\n",
      "Epoch 154, Loss G:  3.1933,Loss D:  0.0265\n",
      "Epoch 155, Loss G:  3.2912,Loss D:  0.0201\n",
      "Epoch 156, Loss G:  3.3253,Loss D: -0.0144\n",
      "Epoch 157, Loss G:  3.2102,Loss D: -0.0280\n",
      "Epoch 158, Loss G:  3.1283,Loss D: -0.0177\n",
      "Epoch 159, Loss G:  3.2955,Loss D: -0.0764\n",
      "Epoch 160, Loss G:  3.3116,Loss D: -0.1217\n",
      "Epoch 161, Loss G:  3.1984,Loss D: -0.0641\n",
      "Epoch 162, Loss G:  3.2245,Loss D: -0.0962\n",
      "Epoch 163, Loss G:  2.9291,Loss D: -0.0910\n",
      "Epoch 164, Loss G:  3.0729,Loss D: -0.0059\n",
      "Epoch 165, Loss G:  2.9510,Loss D: -0.0345\n",
      "Epoch 166, Loss G:  3.0182,Loss D: -0.0389\n",
      "Epoch 167, Loss G:  3.1070,Loss D:  0.0101\n",
      "Epoch 168, Loss G:  3.1275,Loss D: -0.0510\n",
      "Epoch 169, Loss G:  3.1649,Loss D: -0.0352\n",
      "Epoch 170, Loss G:  2.9355,Loss D: -0.0218\n",
      "Epoch 171, Loss G:  2.7789,Loss D:  0.0101\n",
      "Epoch 172, Loss G:  2.6392,Loss D: -0.0015\n",
      "Epoch 173, Loss G:  3.0356,Loss D: -0.0189\n",
      "Epoch 174, Loss G:  2.9536,Loss D:  0.0159\n",
      "Epoch 175, Loss G:  2.7669,Loss D: -0.0113\n",
      "Epoch 176, Loss G:  2.8181,Loss D: -0.0553\n",
      "Epoch 177, Loss G:  2.5844,Loss D: -0.0673\n",
      "Epoch 178, Loss G:  2.9031,Loss D: -0.0259\n",
      "Epoch 179, Loss G:  2.8929,Loss D: -0.0456\n",
      "Epoch 180, Loss G:  2.8705,Loss D: -0.0446\n",
      "Epoch 181, Loss G:  2.7042,Loss D: -0.0336\n",
      "Epoch 182, Loss G:  2.8050,Loss D: -0.0213\n",
      "Epoch 183, Loss G:  2.5490,Loss D: -0.0126\n",
      "Epoch 184, Loss G:  2.5058,Loss D:  0.0279\n",
      "Epoch 185, Loss G:  2.6015,Loss D: -0.0070\n",
      "Epoch 186, Loss G:  2.4910,Loss D: -0.0078\n",
      "Epoch 187, Loss G:  2.4743,Loss D:  0.0044\n",
      "Epoch 188, Loss G:  2.2550,Loss D:  0.0455\n",
      "Epoch 189, Loss G:  2.4251,Loss D:  0.0177\n",
      "Epoch 190, Loss G:  2.4727,Loss D:  0.0260\n",
      "Epoch 191, Loss G:  2.5485,Loss D:  0.0357\n",
      "Epoch 192, Loss G:  2.5481,Loss D: -0.0019\n",
      "Epoch 193, Loss G:  2.2658,Loss D: -0.0162\n",
      "Epoch 194, Loss G:  2.5061,Loss D: -0.0337\n",
      "Epoch 195, Loss G:  2.4911,Loss D: -0.0400\n",
      "Epoch 196, Loss G:  2.4873,Loss D: -0.0662\n",
      "Epoch 197, Loss G:  2.5850,Loss D: -0.0686\n",
      "Epoch 198, Loss G:  2.3219,Loss D: -0.0942\n",
      "Epoch 199, Loss G:  2.3381,Loss D: -0.0408\n",
      "Epoch 200, Loss G:  2.3619,Loss D: -0.0078\n",
      "Epoch 201, Loss G:  2.2464,Loss D: -0.0500\n",
      "Epoch 202, Loss G:  2.3475,Loss D: -0.0282\n",
      "Epoch 203, Loss G:  2.3395,Loss D: -0.0391\n",
      "Epoch 204, Loss G:  2.4241,Loss D: -0.0185\n",
      "Epoch 205, Loss G:  2.2480,Loss D:  0.0071\n",
      "Epoch 206, Loss G:  2.1354,Loss D:  0.0478\n",
      "Epoch 207, Loss G:  2.0817,Loss D:  0.0521\n",
      "Epoch 208, Loss G:  2.1435,Loss D:  0.0479\n",
      "Epoch 209, Loss G:  2.2411,Loss D:  0.0477\n",
      "Epoch 210, Loss G:  2.3330,Loss D: -0.0090\n",
      "Epoch 211, Loss G:  2.2451,Loss D: -0.0392\n",
      "Epoch 212, Loss G:  2.2494,Loss D: -0.0038\n",
      "Epoch 213, Loss G:  1.9952,Loss D: -0.0796\n",
      "Epoch 214, Loss G:  2.0302,Loss D: -0.0262\n",
      "Epoch 215, Loss G:  2.0523,Loss D: -0.0303\n",
      "Epoch 216, Loss G:  1.9995,Loss D: -0.0221\n",
      "Epoch 217, Loss G:  2.0645,Loss D: -0.0203\n",
      "Epoch 218, Loss G:  2.0419,Loss D: -0.0053\n",
      "Epoch 219, Loss G:  1.9152,Loss D:  0.0004\n",
      "Epoch 220, Loss G:  1.9457,Loss D:  0.0402\n",
      "Epoch 221, Loss G:  1.9027,Loss D: -0.0254\n",
      "Epoch 222, Loss G:  1.8312,Loss D:  0.0578\n",
      "Epoch 223, Loss G:  1.8135,Loss D:  0.0032\n",
      "Epoch 224, Loss G:  1.9096,Loss D:  0.0214\n",
      "Epoch 225, Loss G:  1.6557,Loss D: -0.0038\n",
      "Epoch 226, Loss G:  1.8754,Loss D:  0.0307\n",
      "Epoch 227, Loss G:  1.8372,Loss D: -0.0103\n",
      "Epoch 228, Loss G:  1.7729,Loss D:  0.0247\n",
      "Epoch 229, Loss G:  1.7368,Loss D: -0.0070\n",
      "Epoch 230, Loss G:  1.9479,Loss D: -0.0155\n",
      "Epoch 231, Loss G:  1.7883,Loss D: -0.0495\n",
      "Epoch 232, Loss G:  1.7640,Loss D: -0.0366\n",
      "Epoch 233, Loss G:  1.4715,Loss D: -0.0024\n",
      "Epoch 234, Loss G:  1.8466,Loss D: -0.0117\n",
      "Epoch 235, Loss G:  1.6396,Loss D: -0.0093\n",
      "Epoch 236, Loss G:  1.6155,Loss D:  0.0345\n",
      "Epoch 237, Loss G:  1.6649,Loss D:  0.0065\n",
      "Epoch 238, Loss G:  1.6288,Loss D:  0.0098\n",
      "Epoch 239, Loss G:  1.6432,Loss D: -0.0267\n",
      "Epoch 240, Loss G:  1.4434,Loss D: -0.0322\n",
      "Epoch 241, Loss G:  1.4456,Loss D: -0.0010\n",
      "Epoch 242, Loss G:  1.5611,Loss D:  0.0097\n",
      "Epoch 243, Loss G:  1.4351,Loss D:  0.0071\n",
      "Epoch 244, Loss G:  1.5017,Loss D: -0.0244\n",
      "Epoch 245, Loss G:  1.4594,Loss D: -0.0434\n",
      "Epoch 246, Loss G:  1.4710,Loss D: -0.0350\n",
      "Epoch 247, Loss G:  1.5762,Loss D: -0.0569\n",
      "Epoch 248, Loss G:  1.3789,Loss D: -0.0496\n",
      "Epoch 249, Loss G:  1.3449,Loss D: -0.0450\n",
      "Epoch 250, Loss G:  1.2955,Loss D: -0.0217\n",
      "Epoch 251, Loss G:  1.3223,Loss D: -0.0028\n",
      "Epoch 252, Loss G:  1.2775,Loss D:  0.0015\n",
      "Epoch 253, Loss G:  1.1658,Loss D:  0.0010\n",
      "Epoch 254, Loss G:  1.2444,Loss D:  0.0380\n",
      "Epoch 255, Loss G:  1.1777,Loss D:  0.0352\n",
      "Epoch 256, Loss G:  1.1203,Loss D:  0.0540\n",
      "Epoch 257, Loss G:  1.1399,Loss D: -0.0003\n",
      "Epoch 258, Loss G:  1.0164,Loss D: -0.0068\n",
      "Epoch 259, Loss G:  0.9490,Loss D:  0.0011\n",
      "Epoch 260, Loss G:  1.0415,Loss D:  0.0112\n",
      "Epoch 261, Loss G:  1.2320,Loss D: -0.0111\n",
      "Epoch 262, Loss G:  1.0689,Loss D: -0.0155\n",
      "Epoch 263, Loss G:  1.0924,Loss D: -0.0367\n",
      "Epoch 264, Loss G:  1.0523,Loss D: -0.0439\n",
      "Epoch 265, Loss G:  1.1030,Loss D: -0.0697\n",
      "Epoch 266, Loss G:  0.9499,Loss D: -0.0315\n",
      "Epoch 267, Loss G:  0.9994,Loss D: -0.0316\n",
      "Epoch 268, Loss G:  0.9363,Loss D:  0.0117\n",
      "Epoch 269, Loss G:  0.8883,Loss D: -0.0100\n",
      "Epoch 270, Loss G:  0.7863,Loss D: -0.0191\n",
      "Epoch 271, Loss G:  0.8739,Loss D:  0.0044\n",
      "Epoch 272, Loss G:  0.6440,Loss D:  0.0162\n",
      "Epoch 273, Loss G:  0.8480,Loss D:  0.0088\n",
      "Epoch 274, Loss G:  0.7698,Loss D: -0.0480\n",
      "Epoch 275, Loss G:  0.7943,Loss D: -0.0838\n",
      "Epoch 276, Loss G:  0.7353,Loss D:  0.0232\n",
      "Epoch 277, Loss G:  0.7345,Loss D: -0.0206\n",
      "Epoch 278, Loss G:  0.6766,Loss D: -0.0393\n",
      "Epoch 279, Loss G:  0.5522,Loss D: -0.0019\n",
      "Epoch 280, Loss G:  0.6381,Loss D: -0.0246\n",
      "Epoch 281, Loss G:  0.4113,Loss D: -0.0361\n",
      "Epoch 282, Loss G:  0.5156,Loss D:  0.0125\n",
      "Epoch 283, Loss G:  0.4452,Loss D:  0.0052\n",
      "Epoch 284, Loss G:  0.5051,Loss D: -0.0517\n",
      "Epoch 285, Loss G:  0.5258,Loss D: -0.0331\n",
      "Epoch 286, Loss G:  0.3681,Loss D: -0.0899\n",
      "Epoch 287, Loss G:  0.4599,Loss D: -0.0575\n",
      "Epoch 288, Loss G:  0.3407,Loss D: -0.0377\n",
      "Epoch 289, Loss G:  0.3890,Loss D: -0.0443\n",
      "Epoch 290, Loss G:  0.2896,Loss D: -0.0311\n",
      "Epoch 291, Loss G:  0.2846,Loss D: -0.0417\n",
      "Epoch 292, Loss G:  0.3022,Loss D: -0.0357\n",
      "Epoch 293, Loss G:  0.2213,Loss D: -0.0001\n",
      "Epoch 294, Loss G:  0.2820,Loss D:  0.0074\n",
      "Epoch 295, Loss G:  0.1461,Loss D: -0.0179\n",
      "Epoch 296, Loss G:  0.1327,Loss D: -0.0409\n",
      "Epoch 297, Loss G:  0.0714,Loss D: -0.0109\n",
      "Epoch 298, Loss G:  0.2277,Loss D: -0.0747\n",
      "Epoch 299, Loss G:  0.2362,Loss D: -0.0717\n",
      "Epoch 300, Loss G:  0.1407,Loss D: -0.0621\n"
     ]
    }
   ],
   "source": [
    "train_data = chartevents_sample_df.sample(n=1000)\n",
    "model.fit(train_data)"
   ]
  },
  {
   "cell_type": "code",
   "execution_count": 32,
   "metadata": {},
   "outputs": [],
   "source": [
    "model.save(date_set_path + \"100_models/\" + \"chartevents_model.pkl\")"
   ]
  },
  {
   "cell_type": "code",
   "execution_count": 33,
   "metadata": {},
   "outputs": [
    {
     "name": "stderr",
     "output_type": "stream",
     "text": [
      "Sampling rows: 100%|██████████| 1000/1000 [00:00<00:00, 13412.80it/s]\n"
     ]
    }
   ],
   "source": [
    "sample = model.sample(num_rows=1000)"
   ]
  },
  {
   "cell_type": "code",
   "execution_count": 34,
   "metadata": {},
   "outputs": [],
   "source": [
    "chartevents_sample_df['value'] = chartevents_sample_df['value'].astype(str)"
   ]
  },
  {
   "cell_type": "code",
   "execution_count": 35,
   "metadata": {},
   "outputs": [
    {
     "data": {
      "text/plain": [
       "0.7103331114787974"
      ]
     },
     "execution_count": 35,
     "metadata": {},
     "output_type": "execute_result"
    }
   ],
   "source": [
    "evaluate(sample, train_data, metrics=['ContinuousKLDivergence'])"
   ]
  },
  {
   "cell_type": "code",
   "execution_count": 36,
   "metadata": {},
   "outputs": [
    {
     "data": {
      "text/plain": [
       "nan"
      ]
     },
     "execution_count": 36,
     "metadata": {},
     "output_type": "execute_result"
    }
   ],
   "source": [
    "evaluate(sample, train_data, metrics=['DiscreteKLDivergence'])"
   ]
  },
  {
   "cell_type": "code",
   "execution_count": 37,
   "metadata": {},
   "outputs": [],
   "source": [
    "# evaluate(sample, chartevents_sample_df.loc[0:1000, :], aggregate=False)"
   ]
  },
  {
   "cell_type": "code",
   "execution_count": 38,
   "metadata": {},
   "outputs": [
    {
     "data": {
      "text/plain": [
       "<AxesSubplot:>"
      ]
     },
     "execution_count": 38,
     "metadata": {},
     "output_type": "execute_result"
    },
    {
     "data": {
      "image/png": "[encoded data removed]",
      "text/plain": [
       "<Figure size 432x288 with 1 Axes>"
      ]
     },
     "metadata": {
      "needs_background": "light"
     },
     "output_type": "display_data"
    }
   ],
   "source": [
    "sample.sort_values('itemid')['itemid'].hist()"
   ]
  },
  {
   "cell_type": "code",
   "execution_count": 39,
   "metadata": {},
   "outputs": [
    {
     "data": {
      "text/plain": [
       "<AxesSubplot:>"
      ]
     },
     "execution_count": 39,
     "metadata": {},
     "output_type": "execute_result"
    },
    {
     "data": {
      "image/png": "[encoded data removed]",
      "text/plain": [
       "<Figure size 432x288 with 1 Axes>"
      ]
     },
     "metadata": {
      "needs_background": "light"
     },
     "output_type": "display_data"
    }
   ],
   "source": [
    "train_data.sort_values('itemid')['itemid'].hist()"
   ]
  }
 ],
 "metadata": {
  "kernelspec": {
   "display_name": "Python 3.8.13 ('msc_project')",
   "language": "python",
   "name": "python3"
  },
  "language_info": {
   "codemirror_mode": {
    "name": "ipython",
    "version": 3
   },
   "file_extension": ".py",
   "mimetype": "text/x-python",
   "name": "python",
   "nbconvert_exporter": "python",
   "pygments_lexer": "ipython3",
   "version": "3.8.13"
  },
  "orig_nbformat": 4,
  "vscode": {
   "interpreter": {
    "hash": "e56015fb566b08f7af163d42c82cf08fa5d6db3fbaaffa0afaaff5a893fc0496"
   }
  }
 },
 "nbformat": 4,
 "nbformat_minor": 2
}
