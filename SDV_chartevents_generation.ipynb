{
 "cells": [
  {
   "cell_type": "code",
   "execution_count": 1,
   "metadata": {},
   "outputs": [],
   "source": [
    "# from google.colab import drive\n",
    "# drive.mount('/content/drive')"
   ]
  },
  {
   "cell_type": "code",
   "execution_count": 2,
   "metadata": {},
   "outputs": [],
   "source": [
    "# Ignore warnings\n",
    "import warnings\n",
    "warnings.filterwarnings(\"ignore\")"
   ]
  },
  {
   "cell_type": "code",
   "execution_count": 3,
   "metadata": {},
   "outputs": [],
   "source": [
    "import pandas as pd\n",
    "import numpy as np\n",
    "\n",
    "import common"
   ]
  },
  {
   "cell_type": "code",
   "execution_count": 4,
   "metadata": {},
   "outputs": [],
   "source": [
    "date_set_path = \"../temp_sets_100/\""
   ]
  },
  {
   "cell_type": "markdown",
   "metadata": {},
   "source": [
    "# Chartevents"
   ]
  },
  {
   "cell_type": "markdown",
   "metadata": {},
   "source": [
    "## Read samples"
   ]
  },
  {
   "cell_type": "code",
   "execution_count": 5,
   "metadata": {},
   "outputs": [],
   "source": [
    "chartevents_df = common.read_csv_no_rowid(date_set_path + \"chartevents.csv\")"
   ]
  },
  {
   "cell_type": "markdown",
   "metadata": {},
   "source": [
    "## Data preproces"
   ]
  },
  {
   "cell_type": "code",
   "execution_count": 6,
   "metadata": {},
   "outputs": [],
   "source": [
    "# Drop useless colums\n",
    "chartevents_df.drop(['subject_id', 'hadm_id', 'cgid', 'valuenum', 'valueuom', 'warning', 'error', 'resultstatus', 'stopped'], axis=1, inplace=True)"
   ]
  },
  {
   "cell_type": "markdown",
   "metadata": {},
   "source": [
    "### Process null values"
   ]
  },
  {
   "cell_type": "code",
   "execution_count": 7,
   "metadata": {},
   "outputs": [],
   "source": [
    "# Drop some null value\n",
    "chartevents_df.dropna(subset=['icustay_id'], inplace=True, axis=0)"
   ]
  },
  {
   "cell_type": "code",
   "execution_count": 8,
   "metadata": {},
   "outputs": [
    {
     "name": "stdout",
     "output_type": "stream",
     "text": [
      "Total columns: 5\n",
      "Total rows: 674770\n",
      "--------------\n",
      "icustay_id       0\n",
      "itemid           0\n",
      "charttime        0\n",
      "storetime        0\n",
      "value         3595\n",
      "dtype: int64\n"
     ]
    }
   ],
   "source": [
    "common.nan_count(chartevents_df)"
   ]
  },
  {
   "cell_type": "code",
   "execution_count": 9,
   "metadata": {},
   "outputs": [],
   "source": [
    "chartevents_df['value'].fillna(value='Na', inplace=True)"
   ]
  },
  {
   "cell_type": "markdown",
   "metadata": {},
   "source": [
    "### Set the column types"
   ]
  },
  {
   "cell_type": "code",
   "execution_count": 10,
   "metadata": {},
   "outputs": [
    {
     "data": {
      "text/plain": [
       "icustay_id    float64\n",
       "itemid          int64\n",
       "charttime      object\n",
       "storetime      object\n",
       "value          object\n",
       "dtype: object"
      ]
     },
     "execution_count": 10,
     "metadata": {},
     "output_type": "execute_result"
    }
   ],
   "source": [
    "chartevents_df.dtypes"
   ]
  },
  {
   "cell_type": "code",
   "execution_count": 11,
   "metadata": {},
   "outputs": [],
   "source": [
    "# Transfer some date type\n",
    "# chartevents_df['subject_id'] = chartevents_df['subject_id'].astype(str)\n",
    "# chartevents_df['hadm_id'] = chartevents_df['hadm_id'].astype(str)\n",
    "# chartevents_df['icustay_id'] = chartevents_df['icustay_id'].astype(str)\n",
    "\n",
    "# chartevents_df['itemid'] = chartevents_df['itemid'].astype(str)\n",
    "\n",
    "chartevents_df['charttime'] = pd.to_datetime(chartevents_df['charttime'])\n",
    "chartevents_df['storetime'] = pd.to_datetime(chartevents_df['storetime'])"
   ]
  },
  {
   "cell_type": "code",
   "execution_count": 12,
   "metadata": {},
   "outputs": [
    {
     "data": {
      "text/plain": [
       "icustay_id           float64\n",
       "itemid                 int64\n",
       "charttime     datetime64[ns]\n",
       "storetime     datetime64[ns]\n",
       "value                 object\n",
       "dtype: object"
      ]
     },
     "execution_count": 12,
     "metadata": {},
     "output_type": "execute_result"
    }
   ],
   "source": [
    "chartevents_df.dtypes"
   ]
  },
  {
   "cell_type": "markdown",
   "metadata": {},
   "source": [
    "### Process time value"
   ]
  },
  {
   "cell_type": "code",
   "execution_count": 13,
   "metadata": {},
   "outputs": [],
   "source": [
    "icustays_df = common.read_csv_no_rowid(date_set_path+\"icustays.csv\")"
   ]
  },
  {
   "cell_type": "code",
   "execution_count": 14,
   "metadata": {},
   "outputs": [],
   "source": [
    "icu_intime_df = icustays_df.loc[:, ['icustay_id', 'intime']]\n",
    "icu_intime_df['intime'] = pd.to_datetime(icu_intime_df['intime'])"
   ]
  },
  {
   "cell_type": "code",
   "execution_count": 15,
   "metadata": {},
   "outputs": [],
   "source": [
    "chartevents_mid_df = pd.merge(left=chartevents_df, right=icu_intime_df, how='left', on=['icustay_id'])"
   ]
  },
  {
   "cell_type": "code",
   "execution_count": 16,
   "metadata": {},
   "outputs": [
    {
     "data": {
      "text/plain": [
       "icustay_id           float64\n",
       "itemid                 int64\n",
       "charttime     datetime64[ns]\n",
       "storetime     datetime64[ns]\n",
       "value                 object\n",
       "intime        datetime64[ns]\n",
       "dtype: object"
      ]
     },
     "execution_count": 16,
     "metadata": {},
     "output_type": "execute_result"
    }
   ],
   "source": [
    "chartevents_mid_df.dtypes"
   ]
  },
  {
   "cell_type": "code",
   "execution_count": 17,
   "metadata": {},
   "outputs": [],
   "source": [
    "chartevents_mid_df['storetime'] = chartevents_mid_df.apply(common.time_process, args=('charttime', 'storetime'), axis=1)\n",
    "chartevents_mid_df['charttime'] = chartevents_mid_df.apply(common.time_process, args=('intime', 'charttime'), axis=1)"
   ]
  },
  {
   "cell_type": "code",
   "execution_count": 18,
   "metadata": {},
   "outputs": [
    {
     "data": {
      "text/html": [
       "<div>\n",
       "<style scoped>\n",
       "    .dataframe tbody tr th:only-of-type {\n",
       "        vertical-align: middle;\n",
       "    }\n",
       "\n",
       "    .dataframe tbody tr th {\n",
       "        vertical-align: top;\n",
       "    }\n",
       "\n",
       "    .dataframe thead th {\n",
       "        text-align: right;\n",
       "    }\n",
       "</style>\n",
       "<table border=\"1\" class=\"dataframe\">\n",
       "  <thead>\n",
       "    <tr style=\"text-align: right;\">\n",
       "      <th></th>\n",
       "      <th>icustay_id</th>\n",
       "      <th>itemid</th>\n",
       "      <th>charttime</th>\n",
       "      <th>storetime</th>\n",
       "      <th>value</th>\n",
       "      <th>intime</th>\n",
       "    </tr>\n",
       "  </thead>\n",
       "  <tbody>\n",
       "    <tr>\n",
       "      <th>0</th>\n",
       "      <td>271533.0</td>\n",
       "      <td>644</td>\n",
       "      <td>91600.0</td>\n",
       "      <td>780.0</td>\n",
       "      <td>Intact</td>\n",
       "      <td>2105-02-21 13:33:20</td>\n",
       "    </tr>\n",
       "    <tr>\n",
       "      <th>1</th>\n",
       "      <td>271533.0</td>\n",
       "      <td>550</td>\n",
       "      <td>91600.0</td>\n",
       "      <td>780.0</td>\n",
       "      <td>Universal</td>\n",
       "      <td>2105-02-21 13:33:20</td>\n",
       "    </tr>\n",
       "    <tr>\n",
       "      <th>2</th>\n",
       "      <td>271533.0</td>\n",
       "      <td>581</td>\n",
       "      <td>91600.0</td>\n",
       "      <td>780.0</td>\n",
       "      <td>88.5</td>\n",
       "      <td>2105-02-21 13:33:20</td>\n",
       "    </tr>\n",
       "    <tr>\n",
       "      <th>3</th>\n",
       "      <td>271533.0</td>\n",
       "      <td>593</td>\n",
       "      <td>91600.0</td>\n",
       "      <td>780.0</td>\n",
       "      <td>Diminished</td>\n",
       "      <td>2105-02-21 13:33:20</td>\n",
       "    </tr>\n",
       "    <tr>\n",
       "      <th>4</th>\n",
       "      <td>271533.0</td>\n",
       "      <td>599</td>\n",
       "      <td>91600.0</td>\n",
       "      <td>780.0</td>\n",
       "      <td>Clear</td>\n",
       "      <td>2105-02-21 13:33:20</td>\n",
       "    </tr>\n",
       "    <tr>\n",
       "      <th>...</th>\n",
       "      <td>...</td>\n",
       "      <td>...</td>\n",
       "      <td>...</td>\n",
       "      <td>...</td>\n",
       "      <td>...</td>\n",
       "      <td>...</td>\n",
       "    </tr>\n",
       "    <tr>\n",
       "      <th>674765</th>\n",
       "      <td>237653.0</td>\n",
       "      <td>157</td>\n",
       "      <td>32961.0</td>\n",
       "      <td>720.0</td>\n",
       "      <td>24cm</td>\n",
       "      <td>2107-12-06 18:50:39</td>\n",
       "    </tr>\n",
       "    <tr>\n",
       "      <th>674766</th>\n",
       "      <td>237653.0</td>\n",
       "      <td>200</td>\n",
       "      <td>32961.0</td>\n",
       "      <td>6780.0</td>\n",
       "      <td>Salem Sump</td>\n",
       "      <td>2107-12-06 18:50:39</td>\n",
       "    </tr>\n",
       "    <tr>\n",
       "      <th>674767</th>\n",
       "      <td>237653.0</td>\n",
       "      <td>203</td>\n",
       "      <td>32961.0</td>\n",
       "      <td>6780.0</td>\n",
       "      <td>Low Cont Suction</td>\n",
       "      <td>2107-12-06 18:50:39</td>\n",
       "    </tr>\n",
       "    <tr>\n",
       "      <th>674768</th>\n",
       "      <td>237653.0</td>\n",
       "      <td>156</td>\n",
       "      <td>90561.0</td>\n",
       "      <td>4260.0</td>\n",
       "      <td>Easily Palpable</td>\n",
       "      <td>2107-12-06 18:50:39</td>\n",
       "    </tr>\n",
       "    <tr>\n",
       "      <th>674769</th>\n",
       "      <td>237653.0</td>\n",
       "      <td>156</td>\n",
       "      <td>220161.0</td>\n",
       "      <td>15840.0</td>\n",
       "      <td>Strong/Palpable</td>\n",
       "      <td>2107-12-06 18:50:39</td>\n",
       "    </tr>\n",
       "  </tbody>\n",
       "</table>\n",
       "<p>674770 rows × 6 columns</p>\n",
       "</div>"
      ],
      "text/plain": [
       "        icustay_id  itemid  charttime  storetime             value  \\\n",
       "0         271533.0     644    91600.0      780.0            Intact   \n",
       "1         271533.0     550    91600.0      780.0         Universal   \n",
       "2         271533.0     581    91600.0      780.0              88.5   \n",
       "3         271533.0     593    91600.0      780.0        Diminished   \n",
       "4         271533.0     599    91600.0      780.0             Clear   \n",
       "...            ...     ...        ...        ...               ...   \n",
       "674765    237653.0     157    32961.0      720.0              24cm   \n",
       "674766    237653.0     200    32961.0     6780.0        Salem Sump   \n",
       "674767    237653.0     203    32961.0     6780.0  Low Cont Suction   \n",
       "674768    237653.0     156    90561.0     4260.0   Easily Palpable   \n",
       "674769    237653.0     156   220161.0    15840.0   Strong/Palpable   \n",
       "\n",
       "                    intime  \n",
       "0      2105-02-21 13:33:20  \n",
       "1      2105-02-21 13:33:20  \n",
       "2      2105-02-21 13:33:20  \n",
       "3      2105-02-21 13:33:20  \n",
       "4      2105-02-21 13:33:20  \n",
       "...                    ...  \n",
       "674765 2107-12-06 18:50:39  \n",
       "674766 2107-12-06 18:50:39  \n",
       "674767 2107-12-06 18:50:39  \n",
       "674768 2107-12-06 18:50:39  \n",
       "674769 2107-12-06 18:50:39  \n",
       "\n",
       "[674770 rows x 6 columns]"
      ]
     },
     "execution_count": 18,
     "metadata": {},
     "output_type": "execute_result"
    }
   ],
   "source": [
    "chartevents_mid_df"
   ]
  },
  {
   "cell_type": "code",
   "execution_count": 19,
   "metadata": {},
   "outputs": [],
   "source": [
    "chartevents_df = chartevents_mid_df.drop(['icustay_id', 'intime'], axis=1)"
   ]
  },
  {
   "cell_type": "markdown",
   "metadata": {},
   "source": [
    "##  Build Network"
   ]
  },
  {
   "cell_type": "markdown",
   "metadata": {},
   "source": [
    "---"
   ]
  },
  {
   "cell_type": "markdown",
   "metadata": {},
   "source": [
    "### CTGAN"
   ]
  },
  {
   "cell_type": "code",
   "execution_count": 20,
   "metadata": {},
   "outputs": [],
   "source": [
    "from sdv.tabular import CTGAN\n",
    "from sdv.evaluation import evaluate\n",
    "from sdv.constraints import FixedCombinations"
   ]
  },
  {
   "cell_type": "code",
   "execution_count": 21,
   "metadata": {},
   "outputs": [],
   "source": [
    "fixed_item_value_constraint = FixedCombinations(\n",
    "    column_names=['itemid', 'value']\n",
    ")"
   ]
  },
  {
   "cell_type": "code",
   "execution_count": 22,
   "metadata": {},
   "outputs": [],
   "source": [
    "chartevents_constraints = [fixed_item_value_constraint]"
   ]
  },
  {
   "cell_type": "code",
   "execution_count": 23,
   "metadata": {},
   "outputs": [],
   "source": [
    "model = CTGAN(\n",
    "    constraints=chartevents_constraints, \n",
    "    cuda=True, \n",
    "    verbose=True)"
   ]
  },
  {
   "cell_type": "code",
   "execution_count": 24,
   "metadata": {},
   "outputs": [
    {
     "data": {
      "text/plain": [
       "674770"
      ]
     },
     "execution_count": 24,
     "metadata": {},
     "output_type": "execute_result"
    }
   ],
   "source": [
    "len(chartevents_df)"
   ]
  },
  {
   "cell_type": "code",
   "execution_count": 25,
   "metadata": {},
   "outputs": [
    {
     "name": "stdout",
     "output_type": "stream",
     "text": [
      "Epoch 1, Loss G:  7.1333,Loss D: -0.0131\n",
      "Epoch 2, Loss G:  7.1307,Loss D: -0.0267\n",
      "Epoch 3, Loss G:  7.0787,Loss D: -0.0247\n",
      "Epoch 4, Loss G:  7.0573,Loss D: -0.0325\n",
      "Epoch 5, Loss G:  7.0222,Loss D:  0.0017\n",
      "Epoch 6, Loss G:  6.9824,Loss D:  0.0092\n",
      "Epoch 7, Loss G:  7.0099,Loss D: -0.0002\n",
      "Epoch 8, Loss G:  6.9619,Loss D:  0.0117\n",
      "Epoch 9, Loss G:  6.9544,Loss D:  0.0362\n",
      "Epoch 10, Loss G:  6.9114,Loss D:  0.0466\n",
      "Epoch 11, Loss G:  6.9243,Loss D:  0.0046\n",
      "Epoch 12, Loss G:  6.9769,Loss D: -0.0143\n",
      "Epoch 13, Loss G:  6.9721,Loss D: -0.0239\n",
      "Epoch 14, Loss G:  6.9945,Loss D: -0.0282\n",
      "Epoch 15, Loss G:  6.9342,Loss D:  0.0135\n",
      "Epoch 16, Loss G:  6.9294,Loss D:  0.0399\n",
      "Epoch 17, Loss G:  6.9338,Loss D: -0.0003\n",
      "Epoch 18, Loss G:  6.9339,Loss D:  0.0019\n",
      "Epoch 19, Loss G:  6.9556,Loss D:  0.0032\n",
      "Epoch 20, Loss G:  6.8840,Loss D:  0.0130\n",
      "Epoch 21, Loss G:  6.8554,Loss D:  0.0265\n",
      "Epoch 22, Loss G:  6.8315,Loss D:  0.0261\n",
      "Epoch 23, Loss G:  6.8524,Loss D: -0.0004\n",
      "Epoch 24, Loss G:  6.8638,Loss D: -0.0257\n",
      "Epoch 25, Loss G:  6.8815,Loss D: -0.0474\n",
      "Epoch 26, Loss G:  6.8155,Loss D: -0.0384\n",
      "Epoch 27, Loss G:  6.7879,Loss D:  0.0237\n",
      "Epoch 28, Loss G:  6.7562,Loss D:  0.0416\n",
      "Epoch 29, Loss G:  6.7270,Loss D:  0.0343\n",
      "Epoch 30, Loss G:  6.7814,Loss D:  0.0019\n",
      "Epoch 31, Loss G:  6.7979,Loss D: -0.0051\n",
      "Epoch 32, Loss G:  6.7923,Loss D: -0.0233\n",
      "Epoch 33, Loss G:  6.7323,Loss D:  0.0034\n",
      "Epoch 34, Loss G:  6.6998,Loss D:  0.0291\n",
      "Epoch 35, Loss G:  6.7561,Loss D:  0.0212\n",
      "Epoch 36, Loss G:  6.7826,Loss D:  0.0021\n",
      "Epoch 37, Loss G:  6.7328,Loss D: -0.0179\n",
      "Epoch 38, Loss G:  6.7169,Loss D: -0.0079\n",
      "Epoch 39, Loss G:  6.6694,Loss D:  0.0205\n",
      "Epoch 40, Loss G:  6.6648,Loss D:  0.0123\n",
      "Epoch 41, Loss G:  6.6649,Loss D:  0.0117\n",
      "Epoch 42, Loss G:  6.7065,Loss D: -0.0155\n",
      "Epoch 43, Loss G:  6.6477,Loss D: -0.0106\n",
      "Epoch 44, Loss G:  6.5879,Loss D:  0.0002\n",
      "Epoch 45, Loss G:  6.6010,Loss D:  0.0059\n",
      "Epoch 46, Loss G:  6.5201,Loss D:  0.0071\n",
      "Epoch 47, Loss G:  6.5810,Loss D:  0.0177\n",
      "Epoch 48, Loss G:  6.5231,Loss D:  0.0246\n",
      "Epoch 49, Loss G:  6.5743,Loss D:  0.0130\n",
      "Epoch 50, Loss G:  6.5461,Loss D: -0.0070\n",
      "Epoch 51, Loss G:  6.4983,Loss D:  0.0029\n",
      "Epoch 52, Loss G:  6.5149,Loss D: -0.0072\n",
      "Epoch 53, Loss G:  6.5648,Loss D: -0.0204\n",
      "Epoch 54, Loss G:  6.4806,Loss D: -0.0114\n",
      "Epoch 55, Loss G:  6.4402,Loss D: -0.0251\n",
      "Epoch 56, Loss G:  6.3905,Loss D:  0.0085\n",
      "Epoch 57, Loss G:  6.3625,Loss D:  0.0235\n",
      "Epoch 58, Loss G:  6.3415,Loss D:  0.0279\n",
      "Epoch 59, Loss G:  6.3185,Loss D:  0.0232\n",
      "Epoch 60, Loss G:  6.3388,Loss D:  0.0213\n",
      "Epoch 61, Loss G:  6.2744,Loss D:  0.0231\n",
      "Epoch 62, Loss G:  6.2772,Loss D:  0.0045\n",
      "Epoch 63, Loss G:  6.2514,Loss D: -0.0016\n",
      "Epoch 64, Loss G:  6.2717,Loss D: -0.0097\n",
      "Epoch 65, Loss G:  6.1773,Loss D: -0.0037\n",
      "Epoch 66, Loss G:  6.1172,Loss D: -0.0119\n",
      "Epoch 67, Loss G:  6.1009,Loss D:  0.0111\n",
      "Epoch 68, Loss G:  6.0461,Loss D:  0.0386\n",
      "Epoch 69, Loss G:  6.0788,Loss D: -0.0006\n",
      "Epoch 70, Loss G:  6.0310,Loss D: -0.0245\n",
      "Epoch 71, Loss G:  5.9650,Loss D: -0.0058\n",
      "Epoch 72, Loss G:  5.9165,Loss D:  0.0234\n",
      "Epoch 73, Loss G:  5.8276,Loss D: -0.0025\n",
      "Epoch 74, Loss G:  5.8438,Loss D: -0.0099\n",
      "Epoch 75, Loss G:  5.7678,Loss D: -0.0303\n",
      "Epoch 76, Loss G:  5.6349,Loss D:  0.0139\n",
      "Epoch 77, Loss G:  5.6252,Loss D:  0.0079\n",
      "Epoch 78, Loss G:  5.4479,Loss D:  0.0162\n",
      "Epoch 79, Loss G:  5.4543,Loss D:  0.0178\n",
      "Epoch 80, Loss G:  5.4344,Loss D: -0.0028\n",
      "Epoch 81, Loss G:  5.3843,Loss D: -0.0126\n",
      "Epoch 82, Loss G:  5.1824,Loss D:  0.0000\n",
      "Epoch 83, Loss G:  5.1857,Loss D:  0.0069\n",
      "Epoch 84, Loss G:  5.1772,Loss D:  0.0061\n",
      "Epoch 85, Loss G:  5.0642,Loss D: -0.0058\n",
      "Epoch 86, Loss G:  5.0445,Loss D: -0.0177\n",
      "Epoch 87, Loss G:  4.9163,Loss D: -0.0019\n",
      "Epoch 88, Loss G:  4.9000,Loss D:  0.0155\n",
      "Epoch 89, Loss G:  4.9207,Loss D:  0.0035\n",
      "Epoch 90, Loss G:  4.6982,Loss D: -0.0175\n",
      "Epoch 91, Loss G:  4.8149,Loss D: -0.0130\n",
      "Epoch 92, Loss G:  4.5808,Loss D:  0.0112\n",
      "Epoch 93, Loss G:  4.5309,Loss D:  0.0088\n",
      "Epoch 94, Loss G:  4.5083,Loss D:  0.0224\n",
      "Epoch 95, Loss G:  4.4789,Loss D:  0.0057\n",
      "Epoch 96, Loss G:  4.3129,Loss D:  0.0155\n",
      "Epoch 97, Loss G:  4.3201,Loss D: -0.0046\n",
      "Epoch 98, Loss G:  4.1007,Loss D:  0.0052\n",
      "Epoch 99, Loss G:  4.1045,Loss D:  0.0133\n",
      "Epoch 100, Loss G:  4.0045,Loss D: -0.0030\n",
      "Epoch 101, Loss G:  3.8766,Loss D: -0.0010\n",
      "Epoch 102, Loss G:  3.8406,Loss D:  0.0207\n",
      "Epoch 103, Loss G:  3.6322,Loss D: -0.0012\n",
      "Epoch 104, Loss G:  3.6589,Loss D:  0.0031\n",
      "Epoch 105, Loss G:  3.5064,Loss D:  0.0122\n",
      "Epoch 106, Loss G:  3.4988,Loss D:  0.0074\n",
      "Epoch 107, Loss G:  3.3971,Loss D: -0.0075\n",
      "Epoch 108, Loss G:  3.3563,Loss D: -0.0049\n",
      "Epoch 109, Loss G:  3.3340,Loss D: -0.0111\n",
      "Epoch 110, Loss G:  3.0782,Loss D: -0.0203\n",
      "Epoch 111, Loss G:  3.1506,Loss D: -0.0373\n",
      "Epoch 112, Loss G:  2.8792,Loss D: -0.0001\n",
      "Epoch 113, Loss G:  2.8060,Loss D: -0.0057\n",
      "Epoch 114, Loss G:  2.6765,Loss D:  0.0136\n",
      "Epoch 115, Loss G:  2.6320,Loss D:  0.0067\n",
      "Epoch 116, Loss G:  2.4496,Loss D:  0.0180\n",
      "Epoch 117, Loss G:  2.3872,Loss D:  0.0133\n",
      "Epoch 118, Loss G:  2.1870,Loss D: -0.0230\n",
      "Epoch 119, Loss G:  2.0124,Loss D: -0.0077\n",
      "Epoch 120, Loss G:  1.9359,Loss D: -0.0220\n",
      "Epoch 121, Loss G:  1.7919,Loss D: -0.0126\n",
      "Epoch 122, Loss G:  1.6422,Loss D:  0.0126\n",
      "Epoch 123, Loss G:  1.5627,Loss D:  0.0078\n",
      "Epoch 124, Loss G:  1.3923,Loss D:  0.0053\n",
      "Epoch 125, Loss G:  1.3027,Loss D:  0.0106\n",
      "Epoch 126, Loss G:  1.2237,Loss D: -0.0020\n",
      "Epoch 127, Loss G:  1.1357,Loss D:  0.0035\n",
      "Epoch 128, Loss G:  0.9321,Loss D: -0.0227\n",
      "Epoch 129, Loss G:  0.8779,Loss D: -0.0259\n",
      "Epoch 130, Loss G:  0.7664,Loss D:  0.0035\n",
      "Epoch 131, Loss G:  0.6876,Loss D:  0.0044\n",
      "Epoch 132, Loss G:  0.5794,Loss D: -0.0138\n",
      "Epoch 133, Loss G:  0.4980,Loss D: -0.0022\n",
      "Epoch 134, Loss G:  0.4098,Loss D: -0.0198\n",
      "Epoch 135, Loss G:  0.3112,Loss D: -0.0048\n",
      "Epoch 136, Loss G:  0.2346,Loss D: -0.0116\n",
      "Epoch 137, Loss G:  0.1829,Loss D: -0.0114\n",
      "Epoch 138, Loss G:  0.0856,Loss D: -0.0305\n",
      "Epoch 139, Loss G:  0.0000,Loss D: -0.0041\n",
      "Epoch 140, Loss G: -0.0312,Loss D:  0.0309\n",
      "Epoch 141, Loss G: -0.1142,Loss D:  0.0349\n",
      "Epoch 142, Loss G: -0.1412,Loss D:  0.0132\n",
      "Epoch 143, Loss G: -0.1370,Loss D:  0.0208\n",
      "Epoch 144, Loss G: -0.1735,Loss D:  0.0044\n",
      "Epoch 145, Loss G: -0.1952,Loss D:  0.0211\n",
      "Epoch 146, Loss G: -0.1999,Loss D:  0.0261\n",
      "Epoch 147, Loss G: -0.2149,Loss D:  0.0084\n",
      "Epoch 148, Loss G: -0.2121,Loss D: -0.0145\n",
      "Epoch 149, Loss G: -0.1952,Loss D: -0.0253\n",
      "Epoch 150, Loss G: -0.2020,Loss D: -0.0141\n",
      "Epoch 151, Loss G: -0.1863,Loss D: -0.0229\n",
      "Epoch 152, Loss G: -0.2277,Loss D: -0.0100\n",
      "Epoch 153, Loss G: -0.2626,Loss D:  0.0210\n",
      "Epoch 154, Loss G: -0.2949,Loss D:  0.0363\n",
      "Epoch 155, Loss G: -0.2917,Loss D:  0.0167\n",
      "Epoch 156, Loss G: -0.2903,Loss D: -0.0136\n",
      "Epoch 157, Loss G: -0.3157,Loss D: -0.0106\n",
      "Epoch 158, Loss G: -0.3288,Loss D: -0.0007\n",
      "Epoch 159, Loss G: -0.3502,Loss D: -0.0148\n",
      "Epoch 160, Loss G: -0.3765,Loss D:  0.0482\n",
      "Epoch 161, Loss G: -0.3524,Loss D: -0.0156\n",
      "Epoch 162, Loss G: -0.3548,Loss D:  0.0203\n",
      "Epoch 163, Loss G: -0.3674,Loss D:  0.0197\n",
      "Epoch 164, Loss G: -0.3538,Loss D:  0.0150\n",
      "Epoch 165, Loss G: -0.3127,Loss D:  0.0101\n",
      "Epoch 166, Loss G: -0.2840,Loss D: -0.0158\n",
      "Epoch 167, Loss G: -0.2882,Loss D: -0.0259\n",
      "Epoch 168, Loss G: -0.3121,Loss D: -0.0114\n",
      "Epoch 169, Loss G: -0.2986,Loss D: -0.0273\n",
      "Epoch 170, Loss G: -0.3546,Loss D:  0.0046\n",
      "Epoch 171, Loss G: -0.3791,Loss D:  0.0034\n",
      "Epoch 172, Loss G: -0.3619,Loss D: -0.0212\n",
      "Epoch 173, Loss G: -0.3784,Loss D: -0.0122\n",
      "Epoch 174, Loss G: -0.4073,Loss D: -0.0115\n",
      "Epoch 175, Loss G: -0.3811,Loss D: -0.0214\n",
      "Epoch 176, Loss G: -0.3984,Loss D: -0.0297\n",
      "Epoch 177, Loss G: -0.4352,Loss D: -0.0110\n",
      "Epoch 178, Loss G: -0.4369,Loss D: -0.0123\n",
      "Epoch 179, Loss G: -0.4254,Loss D:  0.0075\n",
      "Epoch 180, Loss G: -0.4337,Loss D:  0.0323\n",
      "Epoch 181, Loss G: -0.4035,Loss D:  0.0099\n",
      "Epoch 182, Loss G: -0.4411,Loss D:  0.0028\n",
      "Epoch 183, Loss G: -0.4015,Loss D: -0.0068\n",
      "Epoch 184, Loss G: -0.3773,Loss D: -0.0121\n",
      "Epoch 185, Loss G: -0.3737,Loss D: -0.0036\n",
      "Epoch 186, Loss G: -0.3861,Loss D: -0.0187\n",
      "Epoch 187, Loss G: -0.3885,Loss D: -0.0024\n",
      "Epoch 188, Loss G: -0.3787,Loss D: -0.0120\n",
      "Epoch 189, Loss G: -0.4016,Loss D:  0.0034\n",
      "Epoch 190, Loss G: -0.4100,Loss D: -0.0386\n",
      "Epoch 191, Loss G: -0.4422,Loss D: -0.0396\n",
      "Epoch 192, Loss G: -0.4626,Loss D:  0.0040\n",
      "Epoch 193, Loss G: -0.4995,Loss D: -0.0140\n",
      "Epoch 194, Loss G: -0.5010,Loss D:  0.0265\n",
      "Epoch 195, Loss G: -0.4986,Loss D:  0.0074\n",
      "Epoch 196, Loss G: -0.4824,Loss D: -0.0123\n",
      "Epoch 197, Loss G: -0.4669,Loss D:  0.0224\n",
      "Epoch 198, Loss G: -0.4419,Loss D:  0.0194\n",
      "Epoch 199, Loss G: -0.4389,Loss D: -0.0068\n",
      "Epoch 200, Loss G: -0.3965,Loss D:  0.0130\n",
      "Epoch 201, Loss G: -0.3721,Loss D: -0.0217\n",
      "Epoch 202, Loss G: -0.3770,Loss D: -0.0341\n",
      "Epoch 203, Loss G: -0.3599,Loss D: -0.0012\n",
      "Epoch 204, Loss G: -0.4241,Loss D: -0.0051\n",
      "Epoch 205, Loss G: -0.4314,Loss D:  0.0252\n",
      "Epoch 206, Loss G: -0.4655,Loss D:  0.0498\n",
      "Epoch 207, Loss G: -0.4789,Loss D:  0.0225\n",
      "Epoch 208, Loss G: -0.4778,Loss D:  0.0018\n",
      "Epoch 209, Loss G: -0.4844,Loss D: -0.0177\n",
      "Epoch 210, Loss G: -0.5051,Loss D: -0.0216\n",
      "Epoch 211, Loss G: -0.5153,Loss D: -0.0376\n",
      "Epoch 212, Loss G: -0.5659,Loss D: -0.0103\n",
      "Epoch 213, Loss G: -0.5777,Loss D: -0.0068\n",
      "Epoch 214, Loss G: -0.5698,Loss D:  0.0038\n",
      "Epoch 215, Loss G: -0.5625,Loss D:  0.0086\n",
      "Epoch 216, Loss G: -0.5494,Loss D:  0.0443\n",
      "Epoch 217, Loss G: -0.5338,Loss D:  0.0120\n",
      "Epoch 218, Loss G: -0.5075,Loss D: -0.0221\n",
      "Epoch 219, Loss G: -0.4561,Loss D: -0.0115\n",
      "Epoch 220, Loss G: -0.4605,Loss D: -0.0031\n",
      "Epoch 221, Loss G: -0.4538,Loss D:  0.0039\n",
      "Epoch 222, Loss G: -0.4546,Loss D:  0.0118\n",
      "Epoch 223, Loss G: -0.4712,Loss D:  0.0205\n",
      "Epoch 224, Loss G: -0.4848,Loss D: -0.0023\n",
      "Epoch 225, Loss G: -0.4968,Loss D:  0.0061\n",
      "Epoch 226, Loss G: -0.5100,Loss D: -0.0236\n",
      "Epoch 227, Loss G: -0.5194,Loss D: -0.0045\n",
      "Epoch 228, Loss G: -0.5620,Loss D:  0.0058\n",
      "Epoch 229, Loss G: -0.5508,Loss D: -0.0073\n",
      "Epoch 230, Loss G: -0.5685,Loss D:  0.0026\n",
      "Epoch 231, Loss G: -0.5766,Loss D: -0.0201\n",
      "Epoch 232, Loss G: -0.5413,Loss D:  0.0106\n",
      "Epoch 233, Loss G: -0.5410,Loss D: -0.0438\n",
      "Epoch 234, Loss G: -0.5082,Loss D: -0.0243\n",
      "Epoch 235, Loss G: -0.5067,Loss D: -0.0273\n",
      "Epoch 236, Loss G: -0.5303,Loss D: -0.0070\n",
      "Epoch 237, Loss G: -0.5266,Loss D:  0.0093\n",
      "Epoch 238, Loss G: -0.5517,Loss D:  0.0449\n",
      "Epoch 239, Loss G: -0.5588,Loss D:  0.0310\n",
      "Epoch 240, Loss G: -0.5648,Loss D:  0.0467\n",
      "Epoch 241, Loss G: -0.5566,Loss D:  0.0104\n",
      "Epoch 242, Loss G: -0.5432,Loss D: -0.0410\n",
      "Epoch 243, Loss G: -0.5940,Loss D: -0.0877\n",
      "Epoch 244, Loss G: -0.6403,Loss D:  0.0097\n",
      "Epoch 245, Loss G: -0.6455,Loss D: -0.0163\n",
      "Epoch 246, Loss G: -0.6131,Loss D:  0.0172\n",
      "Epoch 247, Loss G: -0.5918,Loss D:  0.0000\n",
      "Epoch 248, Loss G: -0.6151,Loss D:  0.0019\n",
      "Epoch 249, Loss G: -0.5809,Loss D: -0.0046\n",
      "Epoch 250, Loss G: -0.5698,Loss D:  0.0108\n",
      "Epoch 251, Loss G: -0.5419,Loss D: -0.0311\n",
      "Epoch 252, Loss G: -0.5801,Loss D:  0.0077\n",
      "Epoch 253, Loss G: -0.5803,Loss D: -0.0246\n",
      "Epoch 254, Loss G: -0.5815,Loss D:  0.0148\n",
      "Epoch 255, Loss G: -0.6033,Loss D: -0.0057\n",
      "Epoch 256, Loss G: -0.5784,Loss D:  0.0026\n",
      "Epoch 257, Loss G: -0.6147,Loss D: -0.0253\n",
      "Epoch 258, Loss G: -0.6386,Loss D: -0.0471\n",
      "Epoch 259, Loss G: -0.6510,Loss D: -0.0286\n",
      "Epoch 260, Loss G: -0.6526,Loss D: -0.0124\n",
      "Epoch 261, Loss G: -0.6924,Loss D: -0.0399\n",
      "Epoch 262, Loss G: -0.6583,Loss D:  0.0685\n",
      "Epoch 263, Loss G: -0.6400,Loss D: -0.0050\n",
      "Epoch 264, Loss G: -0.6300,Loss D: -0.0100\n",
      "Epoch 265, Loss G: -0.5932,Loss D: -0.0391\n",
      "Epoch 266, Loss G: -0.5671,Loss D:  0.0140\n",
      "Epoch 267, Loss G: -0.5878,Loss D:  0.0353\n",
      "Epoch 268, Loss G: -0.5895,Loss D:  0.0015\n",
      "Epoch 269, Loss G: -0.6341,Loss D: -0.0250\n",
      "Epoch 270, Loss G: -0.6230,Loss D: -0.0187\n",
      "Epoch 271, Loss G: -0.6665,Loss D: -0.0009\n",
      "Epoch 272, Loss G: -0.7022,Loss D:  0.0820\n",
      "Epoch 273, Loss G: -0.7222,Loss D:  0.0074\n",
      "Epoch 274, Loss G: -0.7272,Loss D:  0.0099\n",
      "Epoch 275, Loss G: -0.7015,Loss D: -0.0154\n",
      "Epoch 276, Loss G: -0.7020,Loss D:  0.0012\n",
      "Epoch 277, Loss G: -0.6805,Loss D:  0.0175\n",
      "Epoch 278, Loss G: -0.7086,Loss D:  0.0054\n",
      "Epoch 279, Loss G: -0.6988,Loss D:  0.0252\n",
      "Epoch 280, Loss G: -0.6473,Loss D: -0.0154\n",
      "Epoch 281, Loss G: -0.6738,Loss D:  0.0189\n",
      "Epoch 282, Loss G: -0.6933,Loss D:  0.0299\n",
      "Epoch 283, Loss G: -0.6865,Loss D: -0.0055\n",
      "Epoch 284, Loss G: -0.6989,Loss D: -0.0039\n",
      "Epoch 285, Loss G: -0.6933,Loss D:  0.0066\n",
      "Epoch 286, Loss G: -0.7184,Loss D: -0.0158\n",
      "Epoch 287, Loss G: -0.7306,Loss D: -0.0380\n",
      "Epoch 288, Loss G: -0.7399,Loss D: -0.0157\n",
      "Epoch 289, Loss G: -0.7598,Loss D:  0.0064\n",
      "Epoch 290, Loss G: -0.7424,Loss D:  0.0073\n",
      "Epoch 291, Loss G: -0.7397,Loss D:  0.0289\n",
      "Epoch 292, Loss G: -0.7329,Loss D:  0.0335\n",
      "Epoch 293, Loss G: -0.6940,Loss D:  0.0117\n",
      "Epoch 294, Loss G: -0.6671,Loss D:  0.0042\n",
      "Epoch 295, Loss G: -0.6372,Loss D:  0.0134\n",
      "Epoch 296, Loss G: -0.6210,Loss D: -0.0470\n",
      "Epoch 297, Loss G: -0.6139,Loss D: -0.0672\n",
      "Epoch 298, Loss G: -0.6121,Loss D: -0.0029\n",
      "Epoch 299, Loss G: -0.6741,Loss D:  0.0526\n",
      "Epoch 300, Loss G: -0.7145,Loss D:  0.0194\n"
     ]
    }
   ],
   "source": [
    "train_data = chartevents_df.sample(n=2000)\n",
    "model.fit(train_data)"
   ]
  },
  {
   "cell_type": "code",
   "execution_count": 26,
   "metadata": {},
   "outputs": [],
   "source": [
    "# model.save(date_set_path + \"100_models/\" + \"chartevents_model.pkl\")\n",
    "\n",
    "import cloudpickle\n",
    "\n",
    "with open(date_set_path + \"100_models/\" + \"chartevents_model.pkl\", 'wb') as f:\n",
    "    cloudpickle.dump(model, f)"
   ]
  },
  {
   "cell_type": "code",
   "execution_count": 50,
   "metadata": {},
   "outputs": [
    {
     "name": "stderr",
     "output_type": "stream",
     "text": [
      "Sampling rows: 100%|██████████| 10000/10000 [00:00<00:00, 18255.73it/s]\n"
     ]
    }
   ],
   "source": [
    "sample = model.sample(num_rows=10000)"
   ]
  },
  {
   "cell_type": "code",
   "execution_count": 51,
   "metadata": {},
   "outputs": [],
   "source": [
    "def is_number(s):\n",
    "    try:\n",
    "        float(s)\n",
    "        return True\n",
    "    except ValueError:\n",
    "        pass\n",
    " \n",
    "    try:\n",
    "        import unicodedata\n",
    "        unicodedata.numeric(s)\n",
    "        return True\n",
    "    except (TypeError, ValueError):\n",
    "        pass\n",
    " \n",
    "    return False"
   ]
  },
  {
   "cell_type": "code",
   "execution_count": 52,
   "metadata": {},
   "outputs": [],
   "source": [
    "def format_values(df):\n",
    "    if is_number(df['value']):\n",
    "        return round(float(df['value']), 2)\n",
    "    else:\n",
    "        return df['value']\n"
   ]
  },
  {
   "cell_type": "code",
   "execution_count": 53,
   "metadata": {},
   "outputs": [],
   "source": [
    "sample['value'] = sample.apply(format_values, axis=1)\n",
    "sample['value'] = sample['value'].astype(str)"
   ]
  },
  {
   "cell_type": "code",
   "execution_count": 54,
   "metadata": {},
   "outputs": [
    {
     "data": {
      "text/plain": [
       "0.9164529749993492"
      ]
     },
     "execution_count": 54,
     "metadata": {},
     "output_type": "execute_result"
    }
   ],
   "source": [
    "evaluate(sample, train_data, metrics=['ContinuousKLDivergence'])"
   ]
  },
  {
   "cell_type": "code",
   "execution_count": 55,
   "metadata": {},
   "outputs": [
    {
     "data": {
      "text/plain": [
       "nan"
      ]
     },
     "execution_count": 55,
     "metadata": {},
     "output_type": "execute_result"
    }
   ],
   "source": [
    "evaluate(sample, train_data, metrics=['DiscreteKLDivergence'])"
   ]
  },
  {
   "cell_type": "code",
   "execution_count": 56,
   "metadata": {},
   "outputs": [
    {
     "data": {
      "text/plain": [
       "0.47905588271043614"
      ]
     },
     "execution_count": 56,
     "metadata": {},
     "output_type": "execute_result"
    }
   ],
   "source": [
    "evaluate(sample, train_data)"
   ]
  },
  {
   "cell_type": "code",
   "execution_count": 32,
   "metadata": {},
   "outputs": [
    {
     "data": {
      "text/plain": [
       "<AxesSubplot:>"
      ]
     },
     "execution_count": 32,
     "metadata": {},
     "output_type": "execute_result"
    },
    {
     "data": {
      "image/png": "[encoded data removed]",
      "text/plain": [
       "<Figure size 432x288 with 1 Axes>"
      ]
     },
     "metadata": {
      "needs_background": "light"
     },
     "output_type": "display_data"
    }
   ],
   "source": [
    "sample.sort_values('itemid')['itemid'].hist()"
   ]
  },
  {
   "cell_type": "code",
   "execution_count": 33,
   "metadata": {},
   "outputs": [
    {
     "data": {
      "text/plain": [
       "<AxesSubplot:>"
      ]
     },
     "execution_count": 33,
     "metadata": {},
     "output_type": "execute_result"
    },
    {
     "data": {
      "image/png": "[encoded data removed]",
      "text/plain": [
       "<Figure size 432x288 with 1 Axes>"
      ]
     },
     "metadata": {
      "needs_background": "light"
     },
     "output_type": "display_data"
    }
   ],
   "source": [
    "train_data.sort_values('itemid')['itemid'].hist()"
   ]
  }
 ],
 "metadata": {
  "kernelspec": {
   "display_name": "Python 3.8.13 ('msc_project')",
   "language": "python",
   "name": "python3"
  },
  "language_info": {
   "codemirror_mode": {
    "name": "ipython",
    "version": 3
   },
   "file_extension": ".py",
   "mimetype": "text/x-python",
   "name": "python",
   "nbconvert_exporter": "python",
   "pygments_lexer": "ipython3",
   "version": "3.8.13"
  },
  "orig_nbformat": 4,
  "vscode": {
   "interpreter": {
    "hash": "e56015fb566b08f7af163d42c82cf08fa5d6db3fbaaffa0afaaff5a893fc0496"
   }
  }
 },
 "nbformat": 4,
 "nbformat_minor": 2
}
