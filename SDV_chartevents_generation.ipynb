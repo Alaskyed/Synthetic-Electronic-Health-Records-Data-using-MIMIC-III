{
 "cells": [
  {
   "cell_type": "code",
   "execution_count": 1,
   "metadata": {},
   "outputs": [],
   "source": [
    "# from google.colab import drive\n",
    "# drive.mount('/content/drive')"
   ]
  },
  {
   "cell_type": "code",
   "execution_count": 2,
   "metadata": {},
   "outputs": [],
   "source": [
    "# ! pip install pgmpy"
   ]
  },
  {
   "cell_type": "code",
   "execution_count": 3,
   "metadata": {},
   "outputs": [],
   "source": [
    "import pandas as pd\n",
    "import numpy as np"
   ]
  },
  {
   "cell_type": "code",
   "execution_count": 65,
   "metadata": {},
   "outputs": [],
   "source": [
    "date_set_path = \"../temp_sets/\""
   ]
  },
  {
   "cell_type": "markdown",
   "metadata": {},
   "source": [
    "## Time data discretisation"
   ]
  },
  {
   "cell_type": "code",
   "execution_count": 4,
   "metadata": {},
   "outputs": [],
   "source": [
    "def date_discretisation(date):\n",
    "    if not pd.isna(date):\n",
    "        # Do not use \"-\" as connector, because Pandas might read it as date or time!!\n",
    "        return str(date.quarter) + \"&\" + str(date.dayofweek)\n",
    "    else:\n",
    "        return \"Na\""
   ]
  },
  {
   "cell_type": "code",
   "execution_count": 5,
   "metadata": {},
   "outputs": [],
   "source": [
    "def datetime_discretisation(date):\n",
    "    if not pd.isna(date):\n",
    "        # Do not use \"-\" as connector, because Pandas might read it as date or time!!\n",
    "        return str(date.quarter) + \"&\" + str(date.dayofweek) + \"&\" + str(date.hour)\n",
    "    else:\n",
    "        return \"Na\""
   ]
  },
  {
   "cell_type": "code",
   "execution_count": 6,
   "metadata": {},
   "outputs": [],
   "source": [
    "date = pd.to_datetime('10/27/2044')"
   ]
  },
  {
   "cell_type": "code",
   "execution_count": 7,
   "metadata": {},
   "outputs": [
    {
     "data": {
      "text/plain": [
       "'4&3'"
      ]
     },
     "execution_count": 7,
     "metadata": {},
     "output_type": "execute_result"
    }
   ],
   "source": [
    "date_discretisation(date)"
   ]
  },
  {
   "cell_type": "code",
   "execution_count": 8,
   "metadata": {},
   "outputs": [
    {
     "data": {
      "text/plain": [
       "3"
      ]
     },
     "execution_count": 8,
     "metadata": {},
     "output_type": "execute_result"
    }
   ],
   "source": [
    "date.day_of_week"
   ]
  },
  {
   "cell_type": "markdown",
   "metadata": {},
   "source": [
    "## Read Tempdatasets"
   ]
  },
  {
   "cell_type": "code",
   "execution_count": 9,
   "metadata": {},
   "outputs": [],
   "source": [
    "# read csv file as dataframe, and drop ROW_ID column\n",
    "def read_csv_no_rowid(file_path):\n",
    "    df = pd.read_csv(file_path)\n",
    "    df.drop([\"Unnamed: 0\", 'row_id'], axis=1, inplace=True)\n",
    "\n",
    "    return df"
   ]
  },
  {
   "cell_type": "code",
   "execution_count": 10,
   "metadata": {},
   "outputs": [],
   "source": [
    "# check NaN value\n",
    "\n",
    "def nan_count(df):\n",
    "    print(\"Total columns: \" + str(len(df.columns)))\n",
    "    print(\"Total rows: \" + str(len(df)))\n",
    "    print(\"--------------\")\n",
    "    print(df.isnull().sum())"
   ]
  },
  {
   "cell_type": "markdown",
   "metadata": {},
   "source": [
    "### Patients"
   ]
  },
  {
   "cell_type": "code",
   "execution_count": 11,
   "metadata": {},
   "outputs": [],
   "source": [
    "random_patients_df = read_csv_no_rowid(date_set_path+\"patients.csv\")"
   ]
  },
  {
   "cell_type": "code",
   "execution_count": 12,
   "metadata": {},
   "outputs": [],
   "source": [
    "# Drop useless colums\n",
    "random_patients_df.drop(['dod', 'expire_flag'], axis=1, inplace=True)"
   ]
  },
  {
   "cell_type": "code",
   "execution_count": 13,
   "metadata": {},
   "outputs": [],
   "source": [
    "# Transfer some date type\n",
    "\n",
    "random_patients_df['dob'] = pd.to_datetime(random_patients_df['dob'])\n",
    "# random_patients_df['DOD'] = pd.to_datetime(random_patients_df['DOD'])\n",
    "random_patients_df['dod_hosp'] = pd.to_datetime(random_patients_df['dod_hosp'])\n",
    "random_patients_df['dod_ssn'] = pd.to_datetime(random_patients_df['dod_ssn'])"
   ]
  },
  {
   "cell_type": "code",
   "execution_count": 14,
   "metadata": {},
   "outputs": [
    {
     "name": "stdout",
     "output_type": "stream",
     "text": [
      "Total columns: 5\n",
      "Total rows: 1000\n",
      "--------------\n",
      "subject_id      0\n",
      "gender          0\n",
      "dob             0\n",
      "dod_hosp      774\n",
      "dod_ssn       702\n",
      "dtype: int64\n"
     ]
    }
   ],
   "source": [
    "nan_count(random_patients_df)"
   ]
  },
  {
   "cell_type": "code",
   "execution_count": 15,
   "metadata": {},
   "outputs": [],
   "source": [
    "random_patients_df.loc[:, 'dob'] = random_patients_df.loc[:, 'dob'].apply(date_discretisation)\n",
    "random_patients_df.loc[:, 'dod_hosp'] = random_patients_df.loc[:, 'dod_hosp'].apply(date_discretisation)\n",
    "random_patients_df.loc[:, 'dod_ssn'] = random_patients_df.loc[:, 'dod_ssn'].apply(date_discretisation)"
   ]
  },
  {
   "cell_type": "code",
   "execution_count": 16,
   "metadata": {},
   "outputs": [],
   "source": [
    "# random_patients_df['dob'].fillna(value=nan_time, inplace=True)\n",
    "# random_patients_df['dod_hosp'].fillna(value=nan_time, inplace=True)\n",
    "# random_patients_df['dod_ssn'].fillna(value=nan_time, inplace=True)"
   ]
  },
  {
   "cell_type": "code",
   "execution_count": 17,
   "metadata": {},
   "outputs": [
    {
     "name": "stdout",
     "output_type": "stream",
     "text": [
      "Total columns: 5\n",
      "Total rows: 1000\n",
      "--------------\n",
      "subject_id    0\n",
      "gender        0\n",
      "dob           0\n",
      "dod_hosp      0\n",
      "dod_ssn       0\n",
      "dtype: int64\n"
     ]
    }
   ],
   "source": [
    "nan_count(random_patients_df)"
   ]
  },
  {
   "cell_type": "markdown",
   "metadata": {},
   "source": [
    "### Admissions\n",
    "\n",
    "Note: the 'deathtime' in admission table cannot be dropped, as this column includes the exact time."
   ]
  },
  {
   "cell_type": "code",
   "execution_count": 18,
   "metadata": {},
   "outputs": [],
   "source": [
    "admissions_sample_df = read_csv_no_rowid(date_set_path+\"admissions.csv\")"
   ]
  },
  {
   "cell_type": "code",
   "execution_count": 19,
   "metadata": {},
   "outputs": [],
   "source": [
    "admissions_sample_df.drop(['diagnosis', 'hospital_expire_flag'], axis=1, inplace=True)"
   ]
  },
  {
   "cell_type": "code",
   "execution_count": 20,
   "metadata": {},
   "outputs": [],
   "source": [
    "admissions_sample_df['admittime'] = pd.to_datetime(admissions_sample_df['admittime'])\n",
    "admissions_sample_df['dischtime'] = pd.to_datetime(admissions_sample_df['dischtime'])\n",
    "admissions_sample_df['deathtime'] = pd.to_datetime(admissions_sample_df['deathtime'])\n",
    "admissions_sample_df['edregtime'] = pd.to_datetime(admissions_sample_df['edregtime'])\n",
    "admissions_sample_df['edouttime'] = pd.to_datetime(admissions_sample_df['edouttime'])"
   ]
  },
  {
   "cell_type": "code",
   "execution_count": 21,
   "metadata": {},
   "outputs": [
    {
     "data": {
      "text/plain": [
       "subject_id                       int64\n",
       "hadm_id                          int64\n",
       "admittime               datetime64[ns]\n",
       "dischtime               datetime64[ns]\n",
       "deathtime               datetime64[ns]\n",
       "admission_type                  object\n",
       "admission_location              object\n",
       "discharge_location              object\n",
       "insurance                       object\n",
       "language                        object\n",
       "religion                        object\n",
       "marital_status                  object\n",
       "ethnicity                       object\n",
       "edregtime               datetime64[ns]\n",
       "edouttime               datetime64[ns]\n",
       "has_chartevents_data             int64\n",
       "dtype: object"
      ]
     },
     "execution_count": 21,
     "metadata": {},
     "output_type": "execute_result"
    }
   ],
   "source": [
    "admissions_sample_df.dtypes"
   ]
  },
  {
   "cell_type": "code",
   "execution_count": 22,
   "metadata": {},
   "outputs": [],
   "source": [
    "admissions_sample_df.loc[:, 'admittime'] = admissions_sample_df.loc[:, 'admittime'].apply(datetime_discretisation)\n",
    "admissions_sample_df.loc[:, 'dischtime'] = admissions_sample_df.loc[:, 'dischtime'].apply(datetime_discretisation)\n",
    "admissions_sample_df.loc[:, 'deathtime'] = admissions_sample_df.loc[:, 'deathtime'].apply(datetime_discretisation)\n",
    "admissions_sample_df.loc[:, 'edregtime'] = admissions_sample_df.loc[:, 'edregtime'].apply(datetime_discretisation)\n",
    "admissions_sample_df.loc[:, 'edouttime'] = admissions_sample_df.loc[:, 'edouttime'].apply(datetime_discretisation)"
   ]
  },
  {
   "cell_type": "code",
   "execution_count": 23,
   "metadata": {},
   "outputs": [],
   "source": [
    "admissions_sample_df['language'].fillna(value='unknow', inplace=True)\n",
    "admissions_sample_df['marital_status'].fillna(value='unknow', inplace=True)\n",
    "admissions_sample_df['religion'].fillna(value='unknow', inplace=True)\n",
    "# admissions_sample_df['deathtime'].fillna(value=nan_time, inplace=True)\n",
    "# admissions_sample_df['edregtime'].fillna(value=nan_time, inplace=True)\n",
    "# admissions_sample_df['edouttime'].fillna(value=nan_time, inplace=True)"
   ]
  },
  {
   "cell_type": "code",
   "execution_count": 24,
   "metadata": {},
   "outputs": [
    {
     "name": "stdout",
     "output_type": "stream",
     "text": [
      "Total columns: 16\n",
      "Total rows: 1289\n",
      "--------------\n",
      "subject_id              0\n",
      "hadm_id                 0\n",
      "admittime               0\n",
      "dischtime               0\n",
      "deathtime               0\n",
      "admission_type          0\n",
      "admission_location      0\n",
      "discharge_location      0\n",
      "insurance               0\n",
      "language                0\n",
      "religion                0\n",
      "marital_status          0\n",
      "ethnicity               0\n",
      "edregtime               0\n",
      "edouttime               0\n",
      "has_chartevents_data    0\n",
      "dtype: int64\n"
     ]
    }
   ],
   "source": [
    "nan_count(admissions_sample_df)"
   ]
  },
  {
   "cell_type": "markdown",
   "metadata": {},
   "source": [
    "### Callout"
   ]
  },
  {
   "cell_type": "code",
   "execution_count": 25,
   "metadata": {},
   "outputs": [],
   "source": [
    "callout_sample_df = read_csv_no_rowid(date_set_path+\"callout.csv\")"
   ]
  },
  {
   "cell_type": "code",
   "execution_count": 26,
   "metadata": {},
   "outputs": [],
   "source": [
    "callout_sample_df.drop(['submit_careunit', 'firstreservationtime', 'currentreservationtime'], axis=1, inplace=True)"
   ]
  },
  {
   "cell_type": "code",
   "execution_count": 27,
   "metadata": {},
   "outputs": [],
   "source": [
    "callout_sample_df['createtime'] = pd.to_datetime(callout_sample_df['createtime'])\n",
    "callout_sample_df['updatetime'] = pd.to_datetime(callout_sample_df['updatetime'])\n",
    "callout_sample_df['acknowledgetime'] = pd.to_datetime(callout_sample_df['acknowledgetime'])\n",
    "callout_sample_df['outcometime'] = pd.to_datetime(callout_sample_df['outcometime'])"
   ]
  },
  {
   "cell_type": "code",
   "execution_count": 28,
   "metadata": {},
   "outputs": [],
   "source": [
    "callout_sample_df.loc[:, 'createtime'] = callout_sample_df.loc[:, 'createtime'].apply(datetime_discretisation)\n",
    "callout_sample_df.loc[:, 'updatetime'] = callout_sample_df.loc[:, 'updatetime'].apply(datetime_discretisation)\n",
    "callout_sample_df.loc[:, 'acknowledgetime'] = callout_sample_df.loc[:, 'acknowledgetime'].apply(datetime_discretisation)\n",
    "callout_sample_df.loc[:, 'outcometime'] = callout_sample_df.loc[:, 'outcometime'].apply(datetime_discretisation)"
   ]
  },
  {
   "cell_type": "code",
   "execution_count": 29,
   "metadata": {},
   "outputs": [],
   "source": [
    "callout_sample_df['discharge_wardid'].fillna(value=100, inplace=True)\n",
    "# callout_sample_df['acknowledgetime'].fillna(value=nan_time, inplace=True)"
   ]
  },
  {
   "cell_type": "code",
   "execution_count": 30,
   "metadata": {},
   "outputs": [
    {
     "name": "stdout",
     "output_type": "stream",
     "text": [
      "Total columns: 20\n",
      "Total rows: 807\n",
      "--------------\n",
      "subject_id            0\n",
      "hadm_id               0\n",
      "submit_wardid         0\n",
      "curr_wardid           0\n",
      "curr_careunit         0\n",
      "callout_wardid        0\n",
      "callout_service       0\n",
      "request_tele          0\n",
      "request_resp          0\n",
      "request_cdiff         0\n",
      "request_mrsa          0\n",
      "request_vre           0\n",
      "callout_status        0\n",
      "callout_outcome       0\n",
      "discharge_wardid      0\n",
      "acknowledge_status    0\n",
      "createtime            0\n",
      "updatetime            0\n",
      "acknowledgetime       0\n",
      "outcometime           0\n",
      "dtype: int64\n"
     ]
    }
   ],
   "source": [
    "nan_count(callout_sample_df)"
   ]
  },
  {
   "cell_type": "markdown",
   "metadata": {},
   "source": [
    "### ICUstays"
   ]
  },
  {
   "cell_type": "code",
   "execution_count": 31,
   "metadata": {},
   "outputs": [],
   "source": [
    "icustays_sample_df = read_csv_no_rowid(date_set_path+\"icustays.csv\")"
   ]
  },
  {
   "cell_type": "code",
   "execution_count": 32,
   "metadata": {},
   "outputs": [],
   "source": [
    "icustays_sample_df.drop(['los'], axis=1, inplace=True)"
   ]
  },
  {
   "cell_type": "code",
   "execution_count": 33,
   "metadata": {},
   "outputs": [],
   "source": [
    "icustays_sample_df['intime'] = pd.to_datetime(icustays_sample_df['intime'])\n",
    "icustays_sample_df['outtime'] = pd.to_datetime(icustays_sample_df['outtime'])"
   ]
  },
  {
   "cell_type": "code",
   "execution_count": 34,
   "metadata": {},
   "outputs": [],
   "source": [
    "icustays_sample_df.loc[:, 'intime'] = icustays_sample_df.loc[:, 'intime'].apply(datetime_discretisation)\n",
    "icustays_sample_df.loc[:, 'outtime'] = icustays_sample_df.loc[:, 'outtime'].apply(datetime_discretisation)"
   ]
  },
  {
   "cell_type": "code",
   "execution_count": 35,
   "metadata": {},
   "outputs": [
    {
     "name": "stdout",
     "output_type": "stream",
     "text": [
      "Total columns: 10\n",
      "Total rows: 1342\n",
      "--------------\n",
      "subject_id        0\n",
      "hadm_id           0\n",
      "icustay_id        0\n",
      "dbsource          0\n",
      "first_careunit    0\n",
      "last_careunit     0\n",
      "first_wardid      0\n",
      "last_wardid       0\n",
      "intime            0\n",
      "outtime           0\n",
      "dtype: int64\n"
     ]
    }
   ],
   "source": [
    "nan_count(icustays_sample_df)"
   ]
  },
  {
   "cell_type": "markdown",
   "metadata": {},
   "source": [
    "---"
   ]
  },
  {
   "cell_type": "markdown",
   "metadata": {},
   "source": [
    "## Combine samples"
   ]
  },
  {
   "cell_type": "code",
   "execution_count": 36,
   "metadata": {},
   "outputs": [],
   "source": [
    "patients_df = pd.merge(random_patients_df, admissions_sample_df, on=['subject_id'], how='inner')"
   ]
  },
  {
   "cell_type": "code",
   "execution_count": 37,
   "metadata": {},
   "outputs": [],
   "source": [
    "patients_df = pd.merge(patients_df, callout_sample_df, on=['subject_id', 'hadm_id'], how='inner')"
   ]
  },
  {
   "cell_type": "code",
   "execution_count": 38,
   "metadata": {},
   "outputs": [],
   "source": [
    "patients_df = pd.merge(patients_df, icustays_sample_df, on=['subject_id', 'hadm_id'], how='inner')"
   ]
  },
  {
   "cell_type": "code",
   "execution_count": 39,
   "metadata": {},
   "outputs": [
    {
     "data": {
      "text/plain": [
       "Index(['subject_id', 'gender', 'dob', 'dod_hosp', 'dod_ssn', 'hadm_id',\n",
       "       'admittime', 'dischtime', 'deathtime', 'admission_type',\n",
       "       'admission_location', 'discharge_location', 'insurance', 'language',\n",
       "       'religion', 'marital_status', 'ethnicity', 'edregtime', 'edouttime',\n",
       "       'has_chartevents_data', 'submit_wardid', 'curr_wardid', 'curr_careunit',\n",
       "       'callout_wardid', 'callout_service', 'request_tele', 'request_resp',\n",
       "       'request_cdiff', 'request_mrsa', 'request_vre', 'callout_status',\n",
       "       'callout_outcome', 'discharge_wardid', 'acknowledge_status',\n",
       "       'createtime', 'updatetime', 'acknowledgetime', 'outcometime',\n",
       "       'icustay_id', 'dbsource', 'first_careunit', 'last_careunit',\n",
       "       'first_wardid', 'last_wardid', 'intime', 'outtime'],\n",
       "      dtype='object')"
      ]
     },
     "execution_count": 39,
     "metadata": {},
     "output_type": "execute_result"
    }
   ],
   "source": [
    "patients_df.columns"
   ]
  },
  {
   "cell_type": "code",
   "execution_count": 40,
   "metadata": {},
   "outputs": [
    {
     "name": "stdout",
     "output_type": "stream",
     "text": [
      "Total columns: 46\n",
      "Total rows: 992\n",
      "--------------\n",
      "subject_id              0\n",
      "gender                  0\n",
      "dob                     0\n",
      "dod_hosp                0\n",
      "dod_ssn                 0\n",
      "hadm_id                 0\n",
      "admittime               0\n",
      "dischtime               0\n",
      "deathtime               0\n",
      "admission_type          0\n",
      "admission_location      0\n",
      "discharge_location      0\n",
      "insurance               0\n",
      "language                0\n",
      "religion                0\n",
      "marital_status          0\n",
      "ethnicity               0\n",
      "edregtime               0\n",
      "edouttime               0\n",
      "has_chartevents_data    0\n",
      "submit_wardid           0\n",
      "curr_wardid             0\n",
      "curr_careunit           0\n",
      "callout_wardid          0\n",
      "callout_service         0\n",
      "request_tele            0\n",
      "request_resp            0\n",
      "request_cdiff           0\n",
      "request_mrsa            0\n",
      "request_vre             0\n",
      "callout_status          0\n",
      "callout_outcome         0\n",
      "discharge_wardid        0\n",
      "acknowledge_status      0\n",
      "createtime              0\n",
      "updatetime              0\n",
      "acknowledgetime         0\n",
      "outcometime             0\n",
      "icustay_id              0\n",
      "dbsource                0\n",
      "first_careunit          0\n",
      "last_careunit           0\n",
      "first_wardid            0\n",
      "last_wardid             0\n",
      "intime                  0\n",
      "outtime                 0\n",
      "dtype: int64\n"
     ]
    }
   ],
   "source": [
    "nan_count(patients_df)"
   ]
  },
  {
   "cell_type": "code",
   "execution_count": 41,
   "metadata": {},
   "outputs": [],
   "source": [
    "# patients_df = pd.merge(patients_df, services_sample_df, on=['subject_id', 'hadm_id'], how='outer')\n",
    "# patients_df = pd.merge(patients_df, transfers_sample_df.drop(['icustay_id', 'dbsource', 'curr_careunit', 'curr_wardid', \\\n",
    "#                                                 'intime', 'outtime', 'los'], axis=1), on=['subject_id', 'hadm_id'], how='outer')\n",
    "# patients_df.fillna(value=\"Na\", inplace=True)"
   ]
  },
  {
   "cell_type": "code",
   "execution_count": 42,
   "metadata": {},
   "outputs": [],
   "source": [
    "patients_df.to_csv(\"patients_info.csv\")"
   ]
  },
  {
   "cell_type": "code",
   "execution_count": 43,
   "metadata": {},
   "outputs": [],
   "source": [
    "patients_df.drop(['subject_id', 'hadm_id'], axis=1, inplace=True)"
   ]
  },
  {
   "cell_type": "markdown",
   "metadata": {},
   "source": [
    "---"
   ]
  },
  {
   "cell_type": "markdown",
   "metadata": {},
   "source": [
    "##  Build Network"
   ]
  },
  {
   "cell_type": "code",
   "execution_count": 44,
   "metadata": {},
   "outputs": [],
   "source": [
    "from sdv import Metadata\n",
    "from sdv.relational import HMA1"
   ]
  },
  {
   "cell_type": "code",
   "execution_count": 45,
   "metadata": {},
   "outputs": [],
   "source": [
    "patients_tables = {\n",
    "    'random_patients_df': random_patients_df,\n",
    "    'admissions_sample_df': admissions_sample_df,\n",
    "    'callout_sample_df': callout_sample_df,\n",
    "    'icustays_sample_df': icustays_sample_df\n",
    "}"
   ]
  },
  {
   "cell_type": "code",
   "execution_count": 46,
   "metadata": {},
   "outputs": [],
   "source": [
    "metadata = Metadata()"
   ]
  },
  {
   "cell_type": "code",
   "execution_count": 47,
   "metadata": {},
   "outputs": [],
   "source": [
    "metadata.add_table(name='random_patients_df', data=patients_tables['random_patients_df'], primary_key='subject_id')\n",
    "metadata.add_table(name='admissions_sample_df', data=patients_tables['admissions_sample_df'], primary_key='hadm_id', \n",
    "    parent='random_patients_df', foreign_key='subject_id')\n",
    "metadata.add_table(name='callout_sample_df', data=patients_tables['callout_sample_df'], primary_key='hadm_id', \n",
    "    parent='random_patients_df', foreign_key='subject_id')\n",
    "metadata.add_table(name='icustays_sample_df', data=patients_tables['icustays_sample_df'], primary_key='icustay_id', \n",
    "    parent='callout_sample_df', foreign_key='hadm_id')"
   ]
  },
  {
   "cell_type": "code",
   "execution_count": 48,
   "metadata": {},
   "outputs": [
    {
     "data": {
      "image/svg+xml": "<?xml version=\"1.0\" encoding=\"UTF-8\" standalone=\"no\"?>\n<!DOCTYPE svg PUBLIC \"-//W3C//DTD SVG 1.1//EN\"\n \"http://www.w3.org/Graphics/SVG/1.1/DTD/svg11.dtd\">\n<!-- Generated by graphviz version 5.0.0 (20220707.1540)\n -->\n<!-- Title: Metadata Pages: 1 -->\n<svg width=\"911pt\" height=\"830pt\"\n viewBox=\"0.00 0.00 911.00 830.00\" xmlns=\"http://www.w3.org/2000/svg\" xmlns:xlink=\"http://www.w3.org/1999/xlink\">\n<g id=\"graph0\" class=\"graph\" transform=\"scale(1 1) rotate(0) translate(4 826)\">\n<title>Metadata</title>\n<polygon fill=\"white\" stroke=\"transparent\" points=\"-4,4 -4,-826 907,-826 907,4 -4,4\"/>\n<!-- random_patients_df -->\n<g id=\"node1\" class=\"node\">\n<title>random_patients_df</title>\n<path fill=\"#ffec8b\" stroke=\"black\" d=\"M281,-692.5C281,-692.5 405,-692.5 405,-692.5 411,-692.5 417,-698.5 417,-704.5 417,-704.5 417,-809.5 417,-809.5 417,-815.5 411,-821.5 405,-821.5 405,-821.5 281,-821.5 281,-821.5 275,-821.5 269,-815.5 269,-809.5 269,-809.5 269,-704.5 269,-704.5 269,-698.5 275,-692.5 281,-692.5\"/>\n<text text-anchor=\"middle\" x=\"343\" y=\"-806.3\" font-family=\"Times New Roman,serif\" font-size=\"14.00\">random_patients_df</text>\n<polyline fill=\"none\" stroke=\"black\" points=\"269,-798.5 417,-798.5 \"/>\n<text text-anchor=\"start\" x=\"277\" y=\"-783.3\" font-family=\"Times New Roman,serif\" font-size=\"14.00\">subject_id : id &#45; integer</text>\n<text text-anchor=\"start\" x=\"277\" y=\"-768.3\" font-family=\"Times New Roman,serif\" font-size=\"14.00\">gender : categorical</text>\n<text text-anchor=\"start\" x=\"277\" y=\"-753.3\" font-family=\"Times New Roman,serif\" font-size=\"14.00\">dob : categorical</text>\n<text text-anchor=\"start\" x=\"277\" y=\"-738.3\" font-family=\"Times New Roman,serif\" font-size=\"14.00\">dod_hosp : categorical</text>\n<text text-anchor=\"start\" x=\"277\" y=\"-723.3\" font-family=\"Times New Roman,serif\" font-size=\"14.00\">dod_ssn : categorical</text>\n<polyline fill=\"none\" stroke=\"black\" points=\"269,-715.5 417,-715.5 \"/>\n<text text-anchor=\"start\" x=\"277\" y=\"-700.3\" font-family=\"Times New Roman,serif\" font-size=\"14.00\">Primary key: subject_id</text>\n</g>\n<!-- admissions_sample_df -->\n<g id=\"node2\" class=\"node\">\n<title>admissions_sample_df</title>\n<path fill=\"#ffec8b\" stroke=\"black\" d=\"M12,-301.5C12,-301.5 260,-301.5 260,-301.5 266,-301.5 272,-307.5 272,-313.5 272,-313.5 272,-598.5 272,-598.5 272,-604.5 266,-610.5 260,-610.5 260,-610.5 12,-610.5 12,-610.5 6,-610.5 0,-604.5 0,-598.5 0,-598.5 0,-313.5 0,-313.5 0,-307.5 6,-301.5 12,-301.5\"/>\n<text text-anchor=\"middle\" x=\"136\" y=\"-595.3\" font-family=\"Times New Roman,serif\" font-size=\"14.00\">admissions_sample_df</text>\n<polyline fill=\"none\" stroke=\"black\" points=\"0,-587.5 272,-587.5 \"/>\n<text text-anchor=\"start\" x=\"8\" y=\"-572.3\" font-family=\"Times New Roman,serif\" font-size=\"14.00\">subject_id : id &#45; integer</text>\n<text text-anchor=\"start\" x=\"8\" y=\"-557.3\" font-family=\"Times New Roman,serif\" font-size=\"14.00\">hadm_id : id &#45; integer</text>\n<text text-anchor=\"start\" x=\"8\" y=\"-542.3\" font-family=\"Times New Roman,serif\" font-size=\"14.00\">admittime : categorical</text>\n<text text-anchor=\"start\" x=\"8\" y=\"-527.3\" font-family=\"Times New Roman,serif\" font-size=\"14.00\">dischtime : categorical</text>\n<text text-anchor=\"start\" x=\"8\" y=\"-512.3\" font-family=\"Times New Roman,serif\" font-size=\"14.00\">deathtime : categorical</text>\n<text text-anchor=\"start\" x=\"8\" y=\"-497.3\" font-family=\"Times New Roman,serif\" font-size=\"14.00\">admission_type : categorical</text>\n<text text-anchor=\"start\" x=\"8\" y=\"-482.3\" font-family=\"Times New Roman,serif\" font-size=\"14.00\">admission_location : categorical</text>\n<text text-anchor=\"start\" x=\"8\" y=\"-467.3\" font-family=\"Times New Roman,serif\" font-size=\"14.00\">discharge_location : categorical</text>\n<text text-anchor=\"start\" x=\"8\" y=\"-452.3\" font-family=\"Times New Roman,serif\" font-size=\"14.00\">insurance : categorical</text>\n<text text-anchor=\"start\" x=\"8\" y=\"-437.3\" font-family=\"Times New Roman,serif\" font-size=\"14.00\">language : categorical</text>\n<text text-anchor=\"start\" x=\"8\" y=\"-422.3\" font-family=\"Times New Roman,serif\" font-size=\"14.00\">religion : categorical</text>\n<text text-anchor=\"start\" x=\"8\" y=\"-407.3\" font-family=\"Times New Roman,serif\" font-size=\"14.00\">marital_status : categorical</text>\n<text text-anchor=\"start\" x=\"8\" y=\"-392.3\" font-family=\"Times New Roman,serif\" font-size=\"14.00\">ethnicity : categorical</text>\n<text text-anchor=\"start\" x=\"8\" y=\"-377.3\" font-family=\"Times New Roman,serif\" font-size=\"14.00\">edregtime : categorical</text>\n<text text-anchor=\"start\" x=\"8\" y=\"-362.3\" font-family=\"Times New Roman,serif\" font-size=\"14.00\">edouttime : categorical</text>\n<text text-anchor=\"start\" x=\"8\" y=\"-347.3\" font-family=\"Times New Roman,serif\" font-size=\"14.00\">has_chartevents_data : numerical &#45; integer</text>\n<polyline fill=\"none\" stroke=\"black\" points=\"0,-339.5 272,-339.5 \"/>\n<text text-anchor=\"start\" x=\"8\" y=\"-324.3\" font-family=\"Times New Roman,serif\" font-size=\"14.00\">Primary key: hadm_id</text>\n<text text-anchor=\"start\" x=\"8\" y=\"-309.3\" font-family=\"Times New Roman,serif\" font-size=\"14.00\">Foreign key (random_patients_df): subject_id</text>\n</g>\n<!-- random_patients_df&#45;&gt;admissions_sample_df -->\n<g id=\"edge1\" class=\"edge\">\n<title>random_patients_df&#45;&gt;admissions_sample_df</title>\n<path fill=\"none\" stroke=\"black\" d=\"M268.82,-747.3C222.57,-737.62 166.43,-717.18 137,-674 126.11,-658.03 119.55,-639.74 116.01,-620.71\"/>\n<polygon fill=\"none\" stroke=\"black\" points=\"117.89,-610.15 115.99,-620.58 110.98,-611.25 117.89,-610.15\"/>\n<text text-anchor=\"middle\" x=\"332.5\" y=\"-662.8\" font-family=\"Times New Roman,serif\" font-size=\"14.00\"> &#160;&#160;admissions_sample_df.subject_id &gt; random_patients_df.subject_id</text>\n</g>\n<!-- callout_sample_df -->\n<g id=\"node3\" class=\"node\">\n<title>callout_sample_df</title>\n<path fill=\"#ffec8b\" stroke=\"black\" d=\"M426,-271.5C426,-271.5 674,-271.5 674,-271.5 680,-271.5 686,-277.5 686,-283.5 686,-283.5 686,-628.5 686,-628.5 686,-634.5 680,-640.5 674,-640.5 674,-640.5 426,-640.5 426,-640.5 420,-640.5 414,-634.5 414,-628.5 414,-628.5 414,-283.5 414,-283.5 414,-277.5 420,-271.5 426,-271.5\"/>\n<text text-anchor=\"middle\" x=\"550\" y=\"-625.3\" font-family=\"Times New Roman,serif\" font-size=\"14.00\">callout_sample_df</text>\n<polyline fill=\"none\" stroke=\"black\" points=\"414,-617.5 686,-617.5 \"/>\n<text text-anchor=\"start\" x=\"422\" y=\"-602.3\" font-family=\"Times New Roman,serif\" font-size=\"14.00\">subject_id : id &#45; integer</text>\n<text text-anchor=\"start\" x=\"422\" y=\"-587.3\" font-family=\"Times New Roman,serif\" font-size=\"14.00\">hadm_id : id &#45; integer</text>\n<text text-anchor=\"start\" x=\"422\" y=\"-572.3\" font-family=\"Times New Roman,serif\" font-size=\"14.00\">submit_wardid : numerical &#45; integer</text>\n<text text-anchor=\"start\" x=\"422\" y=\"-557.3\" font-family=\"Times New Roman,serif\" font-size=\"14.00\">curr_wardid : numerical &#45; integer</text>\n<text text-anchor=\"start\" x=\"422\" y=\"-542.3\" font-family=\"Times New Roman,serif\" font-size=\"14.00\">curr_careunit : categorical</text>\n<text text-anchor=\"start\" x=\"422\" y=\"-527.3\" font-family=\"Times New Roman,serif\" font-size=\"14.00\">callout_wardid : numerical &#45; integer</text>\n<text text-anchor=\"start\" x=\"422\" y=\"-512.3\" font-family=\"Times New Roman,serif\" font-size=\"14.00\">callout_service : categorical</text>\n<text text-anchor=\"start\" x=\"422\" y=\"-497.3\" font-family=\"Times New Roman,serif\" font-size=\"14.00\">request_tele : numerical &#45; integer</text>\n<text text-anchor=\"start\" x=\"422\" y=\"-482.3\" font-family=\"Times New Roman,serif\" font-size=\"14.00\">request_resp : numerical &#45; integer</text>\n<text text-anchor=\"start\" x=\"422\" y=\"-467.3\" font-family=\"Times New Roman,serif\" font-size=\"14.00\">request_cdiff : numerical &#45; integer</text>\n<text text-anchor=\"start\" x=\"422\" y=\"-452.3\" font-family=\"Times New Roman,serif\" font-size=\"14.00\">request_mrsa : numerical &#45; integer</text>\n<text text-anchor=\"start\" x=\"422\" y=\"-437.3\" font-family=\"Times New Roman,serif\" font-size=\"14.00\">request_vre : numerical &#45; integer</text>\n<text text-anchor=\"start\" x=\"422\" y=\"-422.3\" font-family=\"Times New Roman,serif\" font-size=\"14.00\">callout_status : categorical</text>\n<text text-anchor=\"start\" x=\"422\" y=\"-407.3\" font-family=\"Times New Roman,serif\" font-size=\"14.00\">callout_outcome : categorical</text>\n<text text-anchor=\"start\" x=\"422\" y=\"-392.3\" font-family=\"Times New Roman,serif\" font-size=\"14.00\">discharge_wardid : numerical &#45; float</text>\n<text text-anchor=\"start\" x=\"422\" y=\"-377.3\" font-family=\"Times New Roman,serif\" font-size=\"14.00\">acknowledge_status : categorical</text>\n<text text-anchor=\"start\" x=\"422\" y=\"-362.3\" font-family=\"Times New Roman,serif\" font-size=\"14.00\">createtime : categorical</text>\n<text text-anchor=\"start\" x=\"422\" y=\"-347.3\" font-family=\"Times New Roman,serif\" font-size=\"14.00\">updatetime : categorical</text>\n<text text-anchor=\"start\" x=\"422\" y=\"-332.3\" font-family=\"Times New Roman,serif\" font-size=\"14.00\">acknowledgetime : categorical</text>\n<text text-anchor=\"start\" x=\"422\" y=\"-317.3\" font-family=\"Times New Roman,serif\" font-size=\"14.00\">outcometime : categorical</text>\n<polyline fill=\"none\" stroke=\"black\" points=\"414,-309.5 686,-309.5 \"/>\n<text text-anchor=\"start\" x=\"422\" y=\"-294.3\" font-family=\"Times New Roman,serif\" font-size=\"14.00\">Primary key: hadm_id</text>\n<text text-anchor=\"start\" x=\"422\" y=\"-279.3\" font-family=\"Times New Roman,serif\" font-size=\"14.00\">Foreign key (random_patients_df): subject_id</text>\n</g>\n<!-- random_patients_df&#45;&gt;callout_sample_df -->\n<g id=\"edge2\" class=\"edge\">\n<title>random_patients_df&#45;&gt;callout_sample_df</title>\n<path fill=\"none\" stroke=\"black\" d=\"M417.1,-741.9C456.44,-730.42 501.91,-709.98 528,-674 533.47,-666.46 538.09,-658.36 541.97,-649.89\"/>\n<polygon fill=\"none\" stroke=\"black\" points=\"549.13,-641.91 542.02,-649.77 542.68,-639.19 549.13,-641.91\"/>\n<text text-anchor=\"middle\" x=\"720\" y=\"-662.8\" font-family=\"Times New Roman,serif\" font-size=\"14.00\"> &#160;&#160;callout_sample_df.subject_id &gt; random_patients_df.subject_id</text>\n</g>\n<!-- icustays_sample_df -->\n<g id=\"node4\" class=\"node\">\n<title>icustays_sample_df</title>\n<path fill=\"#ffec8b\" stroke=\"black\" d=\"M435,-0.5C435,-0.5 665,-0.5 665,-0.5 671,-0.5 677,-6.5 677,-12.5 677,-12.5 677,-207.5 677,-207.5 677,-213.5 671,-219.5 665,-219.5 665,-219.5 435,-219.5 435,-219.5 429,-219.5 423,-213.5 423,-207.5 423,-207.5 423,-12.5 423,-12.5 423,-6.5 429,-0.5 435,-0.5\"/>\n<text text-anchor=\"middle\" x=\"550\" y=\"-204.3\" font-family=\"Times New Roman,serif\" font-size=\"14.00\">icustays_sample_df</text>\n<polyline fill=\"none\" stroke=\"black\" points=\"423,-196.5 677,-196.5 \"/>\n<text text-anchor=\"start\" x=\"431\" y=\"-181.3\" font-family=\"Times New Roman,serif\" font-size=\"14.00\">subject_id : numerical &#45; integer</text>\n<text text-anchor=\"start\" x=\"431\" y=\"-166.3\" font-family=\"Times New Roman,serif\" font-size=\"14.00\">hadm_id : id &#45; integer</text>\n<text text-anchor=\"start\" x=\"431\" y=\"-151.3\" font-family=\"Times New Roman,serif\" font-size=\"14.00\">icustay_id : id &#45; integer</text>\n<text text-anchor=\"start\" x=\"431\" y=\"-136.3\" font-family=\"Times New Roman,serif\" font-size=\"14.00\">dbsource : categorical</text>\n<text text-anchor=\"start\" x=\"431\" y=\"-121.3\" font-family=\"Times New Roman,serif\" font-size=\"14.00\">first_careunit : categorical</text>\n<text text-anchor=\"start\" x=\"431\" y=\"-106.3\" font-family=\"Times New Roman,serif\" font-size=\"14.00\">last_careunit : categorical</text>\n<text text-anchor=\"start\" x=\"431\" y=\"-91.3\" font-family=\"Times New Roman,serif\" font-size=\"14.00\">first_wardid : numerical &#45; integer</text>\n<text text-anchor=\"start\" x=\"431\" y=\"-76.3\" font-family=\"Times New Roman,serif\" font-size=\"14.00\">last_wardid : numerical &#45; integer</text>\n<text text-anchor=\"start\" x=\"431\" y=\"-61.3\" font-family=\"Times New Roman,serif\" font-size=\"14.00\">intime : categorical</text>\n<text text-anchor=\"start\" x=\"431\" y=\"-46.3\" font-family=\"Times New Roman,serif\" font-size=\"14.00\">outtime : categorical</text>\n<polyline fill=\"none\" stroke=\"black\" points=\"423,-38.5 677,-38.5 \"/>\n<text text-anchor=\"start\" x=\"431\" y=\"-23.3\" font-family=\"Times New Roman,serif\" font-size=\"14.00\">Primary key: icustay_id</text>\n<text text-anchor=\"start\" x=\"431\" y=\"-8.3\" font-family=\"Times New Roman,serif\" font-size=\"14.00\">Foreign key (callout_sample_df): hadm_id</text>\n</g>\n<!-- callout_sample_df&#45;&gt;icustays_sample_df -->\n<g id=\"edge3\" class=\"edge\">\n<title>callout_sample_df&#45;&gt;icustays_sample_df</title>\n<path fill=\"none\" stroke=\"black\" d=\"M550,-271.42C550,-257.38 550,-243.45 550,-230\"/>\n<polygon fill=\"none\" stroke=\"black\" points=\"553.5,-219.82 550,-229.82 546.5,-219.82 553.5,-219.82\"/>\n<text text-anchor=\"middle\" x=\"723\" y=\"-241.8\" font-family=\"Times New Roman,serif\" font-size=\"14.00\"> &#160;&#160;icustays_sample_df.hadm_id &gt; callout_sample_df.hadm_id</text>\n</g>\n</g>\n</svg>\n",
      "text/plain": [
       "<graphviz.graphs.Digraph at 0x1c0fe3c7580>"
      ]
     },
     "execution_count": 48,
     "metadata": {},
     "output_type": "execute_result"
    }
   ],
   "source": [
    "metadata.visualize()"
   ]
  },
  {
   "cell_type": "code",
   "execution_count": 49,
   "metadata": {},
   "outputs": [],
   "source": [
    "# transactions_fields = {\n",
    "#     'timestamp': {'type': 'datetime', 'format': '%Y-%m-%d'}\n",
    "# }"
   ]
  },
  {
   "cell_type": "code",
   "execution_count": 50,
   "metadata": {},
   "outputs": [],
   "source": [
    "patients_info_model = HMA1(metadata)"
   ]
  },
  {
   "cell_type": "code",
   "execution_count": 51,
   "metadata": {},
   "outputs": [
    {
     "name": "stderr",
     "output_type": "stream",
     "text": [
      "d:\\Environment\\anaconda3\\envs\\msc_project\\lib\\site-packages\\sdv\\relational\\hma.py:255: PerformanceWarning: DataFrame is highly fragmented.  This is usually the result of calling `frame.insert` many times, which has poor performance.  Consider joining all columns at once using pd.concat(axis=1) instead. To get a de-fragmented frame, use `newframe = frame.copy()`\n",
      "  table.reset_index(inplace=True)\n"
     ]
    }
   ],
   "source": [
    "patients_info_model.fit(patients_tables)"
   ]
  },
  {
   "cell_type": "code",
   "execution_count": 60,
   "metadata": {},
   "outputs": [
    {
     "name": "stderr",
     "output_type": "stream",
     "text": [
      "d:\\Environment\\anaconda3\\envs\\msc_project\\lib\\site-packages\\sdv\\relational\\base.py:127: FutureWarning: The default dtype for empty Series will be 'object' instead of 'float64' in a future version. Specify a dtype explicitly to silence this warning.\n",
      "  primary_key_values = pd.Series([x for i, x in zip(range(num_rows), generator)])\n",
      "d:\\Environment\\anaconda3\\envs\\msc_project\\lib\\site-packages\\sdv\\relational\\base.py:127: FutureWarning: The default dtype for empty Series will be 'object' instead of 'float64' in a future version. Specify a dtype explicitly to silence this warning.\n",
      "  primary_key_values = pd.Series([x for i, x in zip(range(num_rows), generator)])\n",
      "d:\\Environment\\anaconda3\\envs\\msc_project\\lib\\site-packages\\sdv\\relational\\base.py:127: FutureWarning: The default dtype for empty Series will be 'object' instead of 'float64' in a future version. Specify a dtype explicitly to silence this warning.\n",
      "  primary_key_values = pd.Series([x for i, x in zip(range(num_rows), generator)])\n",
      "d:\\Environment\\anaconda3\\envs\\msc_project\\lib\\site-packages\\sdv\\relational\\base.py:127: FutureWarning: The default dtype for empty Series will be 'object' instead of 'float64' in a future version. Specify a dtype explicitly to silence this warning.\n",
      "  primary_key_values = pd.Series([x for i, x in zip(range(num_rows), generator)])\n",
      "d:\\Environment\\anaconda3\\envs\\msc_project\\lib\\site-packages\\sdv\\relational\\base.py:127: FutureWarning: The default dtype for empty Series will be 'object' instead of 'float64' in a future version. Specify a dtype explicitly to silence this warning.\n",
      "  primary_key_values = pd.Series([x for i, x in zip(range(num_rows), generator)])\n",
      "d:\\Environment\\anaconda3\\envs\\msc_project\\lib\\site-packages\\sdv\\relational\\base.py:127: FutureWarning: The default dtype for empty Series will be 'object' instead of 'float64' in a future version. Specify a dtype explicitly to silence this warning.\n",
      "  primary_key_values = pd.Series([x for i, x in zip(range(num_rows), generator)])\n",
      "d:\\Environment\\anaconda3\\envs\\msc_project\\lib\\site-packages\\sdv\\relational\\base.py:127: FutureWarning: The default dtype for empty Series will be 'object' instead of 'float64' in a future version. Specify a dtype explicitly to silence this warning.\n",
      "  primary_key_values = pd.Series([x for i, x in zip(range(num_rows), generator)])\n",
      "d:\\Environment\\anaconda3\\envs\\msc_project\\lib\\site-packages\\sdv\\relational\\base.py:127: FutureWarning: The default dtype for empty Series will be 'object' instead of 'float64' in a future version. Specify a dtype explicitly to silence this warning.\n",
      "  primary_key_values = pd.Series([x for i, x in zip(range(num_rows), generator)])\n",
      "d:\\Environment\\anaconda3\\envs\\msc_project\\lib\\site-packages\\sdv\\relational\\base.py:127: FutureWarning: The default dtype for empty Series will be 'object' instead of 'float64' in a future version. Specify a dtype explicitly to silence this warning.\n",
      "  primary_key_values = pd.Series([x for i, x in zip(range(num_rows), generator)])\n",
      "d:\\Environment\\anaconda3\\envs\\msc_project\\lib\\site-packages\\sdv\\relational\\base.py:127: FutureWarning: The default dtype for empty Series will be 'object' instead of 'float64' in a future version. Specify a dtype explicitly to silence this warning.\n",
      "  primary_key_values = pd.Series([x for i, x in zip(range(num_rows), generator)])\n",
      "d:\\Environment\\anaconda3\\envs\\msc_project\\lib\\site-packages\\sdv\\relational\\base.py:127: FutureWarning: The default dtype for empty Series will be 'object' instead of 'float64' in a future version. Specify a dtype explicitly to silence this warning.\n",
      "  primary_key_values = pd.Series([x for i, x in zip(range(num_rows), generator)])\n",
      "d:\\Environment\\anaconda3\\envs\\msc_project\\lib\\site-packages\\sdv\\relational\\base.py:127: FutureWarning: The default dtype for empty Series will be 'object' instead of 'float64' in a future version. Specify a dtype explicitly to silence this warning.\n",
      "  primary_key_values = pd.Series([x for i, x in zip(range(num_rows), generator)])\n",
      "d:\\Environment\\anaconda3\\envs\\msc_project\\lib\\site-packages\\sdv\\relational\\base.py:127: FutureWarning: The default dtype for empty Series will be 'object' instead of 'float64' in a future version. Specify a dtype explicitly to silence this warning.\n",
      "  primary_key_values = pd.Series([x for i, x in zip(range(num_rows), generator)])\n",
      "d:\\Environment\\anaconda3\\envs\\msc_project\\lib\\site-packages\\sdv\\relational\\base.py:127: FutureWarning: The default dtype for empty Series will be 'object' instead of 'float64' in a future version. Specify a dtype explicitly to silence this warning.\n",
      "  primary_key_values = pd.Series([x for i, x in zip(range(num_rows), generator)])\n",
      "d:\\Environment\\anaconda3\\envs\\msc_project\\lib\\site-packages\\sdv\\relational\\base.py:127: FutureWarning: The default dtype for empty Series will be 'object' instead of 'float64' in a future version. Specify a dtype explicitly to silence this warning.\n",
      "  primary_key_values = pd.Series([x for i, x in zip(range(num_rows), generator)])\n",
      "d:\\Environment\\anaconda3\\envs\\msc_project\\lib\\site-packages\\sdv\\relational\\base.py:127: FutureWarning: The default dtype for empty Series will be 'object' instead of 'float64' in a future version. Specify a dtype explicitly to silence this warning.\n",
      "  primary_key_values = pd.Series([x for i, x in zip(range(num_rows), generator)])\n",
      "d:\\Environment\\anaconda3\\envs\\msc_project\\lib\\site-packages\\sdv\\relational\\base.py:127: FutureWarning: The default dtype for empty Series will be 'object' instead of 'float64' in a future version. Specify a dtype explicitly to silence this warning.\n",
      "  primary_key_values = pd.Series([x for i, x in zip(range(num_rows), generator)])\n",
      "d:\\Environment\\anaconda3\\envs\\msc_project\\lib\\site-packages\\sdv\\relational\\base.py:127: FutureWarning: The default dtype for empty Series will be 'object' instead of 'float64' in a future version. Specify a dtype explicitly to silence this warning.\n",
      "  primary_key_values = pd.Series([x for i, x in zip(range(num_rows), generator)])\n",
      "d:\\Environment\\anaconda3\\envs\\msc_project\\lib\\site-packages\\sdv\\relational\\base.py:127: FutureWarning: The default dtype for empty Series will be 'object' instead of 'float64' in a future version. Specify a dtype explicitly to silence this warning.\n",
      "  primary_key_values = pd.Series([x for i, x in zip(range(num_rows), generator)])\n",
      "d:\\Environment\\anaconda3\\envs\\msc_project\\lib\\site-packages\\sdv\\relational\\base.py:127: FutureWarning: The default dtype for empty Series will be 'object' instead of 'float64' in a future version. Specify a dtype explicitly to silence this warning.\n",
      "  primary_key_values = pd.Series([x for i, x in zip(range(num_rows), generator)])\n",
      "d:\\Environment\\anaconda3\\envs\\msc_project\\lib\\site-packages\\sdv\\relational\\base.py:127: FutureWarning: The default dtype for empty Series will be 'object' instead of 'float64' in a future version. Specify a dtype explicitly to silence this warning.\n",
      "  primary_key_values = pd.Series([x for i, x in zip(range(num_rows), generator)])\n",
      "d:\\Environment\\anaconda3\\envs\\msc_project\\lib\\site-packages\\sdv\\relational\\base.py:127: FutureWarning: The default dtype for empty Series will be 'object' instead of 'float64' in a future version. Specify a dtype explicitly to silence this warning.\n",
      "  primary_key_values = pd.Series([x for i, x in zip(range(num_rows), generator)])\n",
      "d:\\Environment\\anaconda3\\envs\\msc_project\\lib\\site-packages\\sdv\\relational\\base.py:127: FutureWarning: The default dtype for empty Series will be 'object' instead of 'float64' in a future version. Specify a dtype explicitly to silence this warning.\n",
      "  primary_key_values = pd.Series([x for i, x in zip(range(num_rows), generator)])\n",
      "d:\\Environment\\anaconda3\\envs\\msc_project\\lib\\site-packages\\sdv\\relational\\base.py:127: FutureWarning: The default dtype for empty Series will be 'object' instead of 'float64' in a future version. Specify a dtype explicitly to silence this warning.\n",
      "  primary_key_values = pd.Series([x for i, x in zip(range(num_rows), generator)])\n",
      "d:\\Environment\\anaconda3\\envs\\msc_project\\lib\\site-packages\\sdv\\relational\\base.py:127: FutureWarning: The default dtype for empty Series will be 'object' instead of 'float64' in a future version. Specify a dtype explicitly to silence this warning.\n",
      "  primary_key_values = pd.Series([x for i, x in zip(range(num_rows), generator)])\n",
      "d:\\Environment\\anaconda3\\envs\\msc_project\\lib\\site-packages\\sdv\\relational\\base.py:127: FutureWarning: The default dtype for empty Series will be 'object' instead of 'float64' in a future version. Specify a dtype explicitly to silence this warning.\n",
      "  primary_key_values = pd.Series([x for i, x in zip(range(num_rows), generator)])\n",
      "d:\\Environment\\anaconda3\\envs\\msc_project\\lib\\site-packages\\sdv\\relational\\base.py:127: FutureWarning: The default dtype for empty Series will be 'object' instead of 'float64' in a future version. Specify a dtype explicitly to silence this warning.\n",
      "  primary_key_values = pd.Series([x for i, x in zip(range(num_rows), generator)])\n",
      "d:\\Environment\\anaconda3\\envs\\msc_project\\lib\\site-packages\\sdv\\relational\\base.py:127: FutureWarning: The default dtype for empty Series will be 'object' instead of 'float64' in a future version. Specify a dtype explicitly to silence this warning.\n",
      "  primary_key_values = pd.Series([x for i, x in zip(range(num_rows), generator)])\n",
      "d:\\Environment\\anaconda3\\envs\\msc_project\\lib\\site-packages\\sdv\\relational\\base.py:127: FutureWarning: The default dtype for empty Series will be 'object' instead of 'float64' in a future version. Specify a dtype explicitly to silence this warning.\n",
      "  primary_key_values = pd.Series([x for i, x in zip(range(num_rows), generator)])\n",
      "d:\\Environment\\anaconda3\\envs\\msc_project\\lib\\site-packages\\sdv\\relational\\base.py:127: FutureWarning: The default dtype for empty Series will be 'object' instead of 'float64' in a future version. Specify a dtype explicitly to silence this warning.\n",
      "  primary_key_values = pd.Series([x for i, x in zip(range(num_rows), generator)])\n",
      "d:\\Environment\\anaconda3\\envs\\msc_project\\lib\\site-packages\\sdv\\relational\\base.py:127: FutureWarning: The default dtype for empty Series will be 'object' instead of 'float64' in a future version. Specify a dtype explicitly to silence this warning.\n",
      "  primary_key_values = pd.Series([x for i, x in zip(range(num_rows), generator)])\n",
      "d:\\Environment\\anaconda3\\envs\\msc_project\\lib\\site-packages\\sdv\\relational\\base.py:127: FutureWarning: The default dtype for empty Series will be 'object' instead of 'float64' in a future version. Specify a dtype explicitly to silence this warning.\n",
      "  primary_key_values = pd.Series([x for i, x in zip(range(num_rows), generator)])\n",
      "d:\\Environment\\anaconda3\\envs\\msc_project\\lib\\site-packages\\sdv\\relational\\base.py:127: FutureWarning: The default dtype for empty Series will be 'object' instead of 'float64' in a future version. Specify a dtype explicitly to silence this warning.\n",
      "  primary_key_values = pd.Series([x for i, x in zip(range(num_rows), generator)])\n",
      "d:\\Environment\\anaconda3\\envs\\msc_project\\lib\\site-packages\\sdv\\relational\\base.py:127: FutureWarning: The default dtype for empty Series will be 'object' instead of 'float64' in a future version. Specify a dtype explicitly to silence this warning.\n",
      "  primary_key_values = pd.Series([x for i, x in zip(range(num_rows), generator)])\n",
      "d:\\Environment\\anaconda3\\envs\\msc_project\\lib\\site-packages\\sdv\\relational\\base.py:127: FutureWarning: The default dtype for empty Series will be 'object' instead of 'float64' in a future version. Specify a dtype explicitly to silence this warning.\n",
      "  primary_key_values = pd.Series([x for i, x in zip(range(num_rows), generator)])\n",
      "d:\\Environment\\anaconda3\\envs\\msc_project\\lib\\site-packages\\sdv\\relational\\base.py:127: FutureWarning: The default dtype for empty Series will be 'object' instead of 'float64' in a future version. Specify a dtype explicitly to silence this warning.\n",
      "  primary_key_values = pd.Series([x for i, x in zip(range(num_rows), generator)])\n",
      "d:\\Environment\\anaconda3\\envs\\msc_project\\lib\\site-packages\\sdv\\relational\\base.py:127: FutureWarning: The default dtype for empty Series will be 'object' instead of 'float64' in a future version. Specify a dtype explicitly to silence this warning.\n",
      "  primary_key_values = pd.Series([x for i, x in zip(range(num_rows), generator)])\n",
      "d:\\Environment\\anaconda3\\envs\\msc_project\\lib\\site-packages\\sdv\\relational\\base.py:127: FutureWarning: The default dtype for empty Series will be 'object' instead of 'float64' in a future version. Specify a dtype explicitly to silence this warning.\n",
      "  primary_key_values = pd.Series([x for i, x in zip(range(num_rows), generator)])\n",
      "d:\\Environment\\anaconda3\\envs\\msc_project\\lib\\site-packages\\sdv\\relational\\base.py:127: FutureWarning: The default dtype for empty Series will be 'object' instead of 'float64' in a future version. Specify a dtype explicitly to silence this warning.\n",
      "  primary_key_values = pd.Series([x for i, x in zip(range(num_rows), generator)])\n",
      "d:\\Environment\\anaconda3\\envs\\msc_project\\lib\\site-packages\\sdv\\relational\\base.py:127: FutureWarning: The default dtype for empty Series will be 'object' instead of 'float64' in a future version. Specify a dtype explicitly to silence this warning.\n",
      "  primary_key_values = pd.Series([x for i, x in zip(range(num_rows), generator)])\n",
      "d:\\Environment\\anaconda3\\envs\\msc_project\\lib\\site-packages\\sdv\\relational\\base.py:127: FutureWarning: The default dtype for empty Series will be 'object' instead of 'float64' in a future version. Specify a dtype explicitly to silence this warning.\n",
      "  primary_key_values = pd.Series([x for i, x in zip(range(num_rows), generator)])\n",
      "d:\\Environment\\anaconda3\\envs\\msc_project\\lib\\site-packages\\sdv\\relational\\base.py:127: FutureWarning: The default dtype for empty Series will be 'object' instead of 'float64' in a future version. Specify a dtype explicitly to silence this warning.\n",
      "  primary_key_values = pd.Series([x for i, x in zip(range(num_rows), generator)])\n",
      "d:\\Environment\\anaconda3\\envs\\msc_project\\lib\\site-packages\\sdv\\relational\\base.py:127: FutureWarning: The default dtype for empty Series will be 'object' instead of 'float64' in a future version. Specify a dtype explicitly to silence this warning.\n",
      "  primary_key_values = pd.Series([x for i, x in zip(range(num_rows), generator)])\n",
      "d:\\Environment\\anaconda3\\envs\\msc_project\\lib\\site-packages\\sdv\\relational\\base.py:127: FutureWarning: The default dtype for empty Series will be 'object' instead of 'float64' in a future version. Specify a dtype explicitly to silence this warning.\n",
      "  primary_key_values = pd.Series([x for i, x in zip(range(num_rows), generator)])\n",
      "d:\\Environment\\anaconda3\\envs\\msc_project\\lib\\site-packages\\sdv\\relational\\base.py:127: FutureWarning: The default dtype for empty Series will be 'object' instead of 'float64' in a future version. Specify a dtype explicitly to silence this warning.\n",
      "  primary_key_values = pd.Series([x for i, x in zip(range(num_rows), generator)])\n",
      "d:\\Environment\\anaconda3\\envs\\msc_project\\lib\\site-packages\\sdv\\relational\\base.py:127: FutureWarning: The default dtype for empty Series will be 'object' instead of 'float64' in a future version. Specify a dtype explicitly to silence this warning.\n",
      "  primary_key_values = pd.Series([x for i, x in zip(range(num_rows), generator)])\n",
      "d:\\Environment\\anaconda3\\envs\\msc_project\\lib\\site-packages\\sdv\\relational\\base.py:127: FutureWarning: The default dtype for empty Series will be 'object' instead of 'float64' in a future version. Specify a dtype explicitly to silence this warning.\n",
      "  primary_key_values = pd.Series([x for i, x in zip(range(num_rows), generator)])\n",
      "d:\\Environment\\anaconda3\\envs\\msc_project\\lib\\site-packages\\sdv\\relational\\base.py:127: FutureWarning: The default dtype for empty Series will be 'object' instead of 'float64' in a future version. Specify a dtype explicitly to silence this warning.\n",
      "  primary_key_values = pd.Series([x for i, x in zip(range(num_rows), generator)])\n",
      "d:\\Environment\\anaconda3\\envs\\msc_project\\lib\\site-packages\\sdv\\relational\\base.py:127: FutureWarning: The default dtype for empty Series will be 'object' instead of 'float64' in a future version. Specify a dtype explicitly to silence this warning.\n",
      "  primary_key_values = pd.Series([x for i, x in zip(range(num_rows), generator)])\n",
      "d:\\Environment\\anaconda3\\envs\\msc_project\\lib\\site-packages\\sdv\\relational\\base.py:127: FutureWarning: The default dtype for empty Series will be 'object' instead of 'float64' in a future version. Specify a dtype explicitly to silence this warning.\n",
      "  primary_key_values = pd.Series([x for i, x in zip(range(num_rows), generator)])\n",
      "d:\\Environment\\anaconda3\\envs\\msc_project\\lib\\site-packages\\sdv\\relational\\base.py:127: FutureWarning: The default dtype for empty Series will be 'object' instead of 'float64' in a future version. Specify a dtype explicitly to silence this warning.\n",
      "  primary_key_values = pd.Series([x for i, x in zip(range(num_rows), generator)])\n",
      "d:\\Environment\\anaconda3\\envs\\msc_project\\lib\\site-packages\\sdv\\relational\\base.py:127: FutureWarning: The default dtype for empty Series will be 'object' instead of 'float64' in a future version. Specify a dtype explicitly to silence this warning.\n",
      "  primary_key_values = pd.Series([x for i, x in zip(range(num_rows), generator)])\n",
      "d:\\Environment\\anaconda3\\envs\\msc_project\\lib\\site-packages\\sdv\\relational\\base.py:127: FutureWarning: The default dtype for empty Series will be 'object' instead of 'float64' in a future version. Specify a dtype explicitly to silence this warning.\n",
      "  primary_key_values = pd.Series([x for i, x in zip(range(num_rows), generator)])\n",
      "d:\\Environment\\anaconda3\\envs\\msc_project\\lib\\site-packages\\sdv\\relational\\base.py:127: FutureWarning: The default dtype for empty Series will be 'object' instead of 'float64' in a future version. Specify a dtype explicitly to silence this warning.\n",
      "  primary_key_values = pd.Series([x for i, x in zip(range(num_rows), generator)])\n",
      "d:\\Environment\\anaconda3\\envs\\msc_project\\lib\\site-packages\\sdv\\relational\\base.py:127: FutureWarning: The default dtype for empty Series will be 'object' instead of 'float64' in a future version. Specify a dtype explicitly to silence this warning.\n",
      "  primary_key_values = pd.Series([x for i, x in zip(range(num_rows), generator)])\n",
      "d:\\Environment\\anaconda3\\envs\\msc_project\\lib\\site-packages\\sdv\\relational\\base.py:127: FutureWarning: The default dtype for empty Series will be 'object' instead of 'float64' in a future version. Specify a dtype explicitly to silence this warning.\n",
      "  primary_key_values = pd.Series([x for i, x in zip(range(num_rows), generator)])\n",
      "d:\\Environment\\anaconda3\\envs\\msc_project\\lib\\site-packages\\sdv\\relational\\base.py:127: FutureWarning: The default dtype for empty Series will be 'object' instead of 'float64' in a future version. Specify a dtype explicitly to silence this warning.\n",
      "  primary_key_values = pd.Series([x for i, x in zip(range(num_rows), generator)])\n",
      "d:\\Environment\\anaconda3\\envs\\msc_project\\lib\\site-packages\\sdv\\relational\\base.py:127: FutureWarning: The default dtype for empty Series will be 'object' instead of 'float64' in a future version. Specify a dtype explicitly to silence this warning.\n",
      "  primary_key_values = pd.Series([x for i, x in zip(range(num_rows), generator)])\n",
      "d:\\Environment\\anaconda3\\envs\\msc_project\\lib\\site-packages\\sdv\\relational\\base.py:127: FutureWarning: The default dtype for empty Series will be 'object' instead of 'float64' in a future version. Specify a dtype explicitly to silence this warning.\n",
      "  primary_key_values = pd.Series([x for i, x in zip(range(num_rows), generator)])\n",
      "d:\\Environment\\anaconda3\\envs\\msc_project\\lib\\site-packages\\sdv\\relational\\base.py:127: FutureWarning: The default dtype for empty Series will be 'object' instead of 'float64' in a future version. Specify a dtype explicitly to silence this warning.\n",
      "  primary_key_values = pd.Series([x for i, x in zip(range(num_rows), generator)])\n",
      "d:\\Environment\\anaconda3\\envs\\msc_project\\lib\\site-packages\\sdv\\relational\\base.py:127: FutureWarning: The default dtype for empty Series will be 'object' instead of 'float64' in a future version. Specify a dtype explicitly to silence this warning.\n",
      "  primary_key_values = pd.Series([x for i, x in zip(range(num_rows), generator)])\n",
      "d:\\Environment\\anaconda3\\envs\\msc_project\\lib\\site-packages\\sdv\\relational\\base.py:127: FutureWarning: The default dtype for empty Series will be 'object' instead of 'float64' in a future version. Specify a dtype explicitly to silence this warning.\n",
      "  primary_key_values = pd.Series([x for i, x in zip(range(num_rows), generator)])\n",
      "d:\\Environment\\anaconda3\\envs\\msc_project\\lib\\site-packages\\sdv\\relational\\base.py:127: FutureWarning: The default dtype for empty Series will be 'object' instead of 'float64' in a future version. Specify a dtype explicitly to silence this warning.\n",
      "  primary_key_values = pd.Series([x for i, x in zip(range(num_rows), generator)])\n",
      "d:\\Environment\\anaconda3\\envs\\msc_project\\lib\\site-packages\\sdv\\relational\\base.py:127: FutureWarning: The default dtype for empty Series will be 'object' instead of 'float64' in a future version. Specify a dtype explicitly to silence this warning.\n",
      "  primary_key_values = pd.Series([x for i, x in zip(range(num_rows), generator)])\n",
      "d:\\Environment\\anaconda3\\envs\\msc_project\\lib\\site-packages\\sdv\\relational\\base.py:127: FutureWarning: The default dtype for empty Series will be 'object' instead of 'float64' in a future version. Specify a dtype explicitly to silence this warning.\n",
      "  primary_key_values = pd.Series([x for i, x in zip(range(num_rows), generator)])\n",
      "d:\\Environment\\anaconda3\\envs\\msc_project\\lib\\site-packages\\sdv\\relational\\base.py:127: FutureWarning: The default dtype for empty Series will be 'object' instead of 'float64' in a future version. Specify a dtype explicitly to silence this warning.\n",
      "  primary_key_values = pd.Series([x for i, x in zip(range(num_rows), generator)])\n",
      "d:\\Environment\\anaconda3\\envs\\msc_project\\lib\\site-packages\\sdv\\relational\\base.py:127: FutureWarning: The default dtype for empty Series will be 'object' instead of 'float64' in a future version. Specify a dtype explicitly to silence this warning.\n",
      "  primary_key_values = pd.Series([x for i, x in zip(range(num_rows), generator)])\n",
      "d:\\Environment\\anaconda3\\envs\\msc_project\\lib\\site-packages\\sdv\\relational\\base.py:127: FutureWarning: The default dtype for empty Series will be 'object' instead of 'float64' in a future version. Specify a dtype explicitly to silence this warning.\n",
      "  primary_key_values = pd.Series([x for i, x in zip(range(num_rows), generator)])\n",
      "d:\\Environment\\anaconda3\\envs\\msc_project\\lib\\site-packages\\sdv\\relational\\base.py:127: FutureWarning: The default dtype for empty Series will be 'object' instead of 'float64' in a future version. Specify a dtype explicitly to silence this warning.\n",
      "  primary_key_values = pd.Series([x for i, x in zip(range(num_rows), generator)])\n",
      "d:\\Environment\\anaconda3\\envs\\msc_project\\lib\\site-packages\\sdv\\relational\\base.py:127: FutureWarning: The default dtype for empty Series will be 'object' instead of 'float64' in a future version. Specify a dtype explicitly to silence this warning.\n",
      "  primary_key_values = pd.Series([x for i, x in zip(range(num_rows), generator)])\n",
      "d:\\Environment\\anaconda3\\envs\\msc_project\\lib\\site-packages\\sdv\\relational\\base.py:127: FutureWarning: The default dtype for empty Series will be 'object' instead of 'float64' in a future version. Specify a dtype explicitly to silence this warning.\n",
      "  primary_key_values = pd.Series([x for i, x in zip(range(num_rows), generator)])\n",
      "d:\\Environment\\anaconda3\\envs\\msc_project\\lib\\site-packages\\sdv\\relational\\base.py:127: FutureWarning: The default dtype for empty Series will be 'object' instead of 'float64' in a future version. Specify a dtype explicitly to silence this warning.\n",
      "  primary_key_values = pd.Series([x for i, x in zip(range(num_rows), generator)])\n",
      "d:\\Environment\\anaconda3\\envs\\msc_project\\lib\\site-packages\\sdv\\relational\\base.py:127: FutureWarning: The default dtype for empty Series will be 'object' instead of 'float64' in a future version. Specify a dtype explicitly to silence this warning.\n",
      "  primary_key_values = pd.Series([x for i, x in zip(range(num_rows), generator)])\n",
      "d:\\Environment\\anaconda3\\envs\\msc_project\\lib\\site-packages\\sdv\\relational\\base.py:127: FutureWarning: The default dtype for empty Series will be 'object' instead of 'float64' in a future version. Specify a dtype explicitly to silence this warning.\n",
      "  primary_key_values = pd.Series([x for i, x in zip(range(num_rows), generator)])\n",
      "d:\\Environment\\anaconda3\\envs\\msc_project\\lib\\site-packages\\sdv\\relational\\base.py:127: FutureWarning: The default dtype for empty Series will be 'object' instead of 'float64' in a future version. Specify a dtype explicitly to silence this warning.\n",
      "  primary_key_values = pd.Series([x for i, x in zip(range(num_rows), generator)])\n",
      "d:\\Environment\\anaconda3\\envs\\msc_project\\lib\\site-packages\\sdv\\relational\\base.py:127: FutureWarning: The default dtype for empty Series will be 'object' instead of 'float64' in a future version. Specify a dtype explicitly to silence this warning.\n",
      "  primary_key_values = pd.Series([x for i, x in zip(range(num_rows), generator)])\n",
      "d:\\Environment\\anaconda3\\envs\\msc_project\\lib\\site-packages\\sdv\\relational\\base.py:127: FutureWarning: The default dtype for empty Series will be 'object' instead of 'float64' in a future version. Specify a dtype explicitly to silence this warning.\n",
      "  primary_key_values = pd.Series([x for i, x in zip(range(num_rows), generator)])\n",
      "d:\\Environment\\anaconda3\\envs\\msc_project\\lib\\site-packages\\sdv\\relational\\base.py:127: FutureWarning: The default dtype for empty Series will be 'object' instead of 'float64' in a future version. Specify a dtype explicitly to silence this warning.\n",
      "  primary_key_values = pd.Series([x for i, x in zip(range(num_rows), generator)])\n",
      "d:\\Environment\\anaconda3\\envs\\msc_project\\lib\\site-packages\\sdv\\relational\\base.py:127: FutureWarning: The default dtype for empty Series will be 'object' instead of 'float64' in a future version. Specify a dtype explicitly to silence this warning.\n",
      "  primary_key_values = pd.Series([x for i, x in zip(range(num_rows), generator)])\n",
      "d:\\Environment\\anaconda3\\envs\\msc_project\\lib\\site-packages\\sdv\\relational\\base.py:127: FutureWarning: The default dtype for empty Series will be 'object' instead of 'float64' in a future version. Specify a dtype explicitly to silence this warning.\n",
      "  primary_key_values = pd.Series([x for i, x in zip(range(num_rows), generator)])\n",
      "d:\\Environment\\anaconda3\\envs\\msc_project\\lib\\site-packages\\sdv\\relational\\base.py:127: FutureWarning: The default dtype for empty Series will be 'object' instead of 'float64' in a future version. Specify a dtype explicitly to silence this warning.\n",
      "  primary_key_values = pd.Series([x for i, x in zip(range(num_rows), generator)])\n",
      "d:\\Environment\\anaconda3\\envs\\msc_project\\lib\\site-packages\\sdv\\relational\\base.py:127: FutureWarning: The default dtype for empty Series will be 'object' instead of 'float64' in a future version. Specify a dtype explicitly to silence this warning.\n",
      "  primary_key_values = pd.Series([x for i, x in zip(range(num_rows), generator)])\n",
      "d:\\Environment\\anaconda3\\envs\\msc_project\\lib\\site-packages\\sdv\\relational\\base.py:127: FutureWarning: The default dtype for empty Series will be 'object' instead of 'float64' in a future version. Specify a dtype explicitly to silence this warning.\n",
      "  primary_key_values = pd.Series([x for i, x in zip(range(num_rows), generator)])\n",
      "d:\\Environment\\anaconda3\\envs\\msc_project\\lib\\site-packages\\sdv\\relational\\base.py:127: FutureWarning: The default dtype for empty Series will be 'object' instead of 'float64' in a future version. Specify a dtype explicitly to silence this warning.\n",
      "  primary_key_values = pd.Series([x for i, x in zip(range(num_rows), generator)])\n",
      "d:\\Environment\\anaconda3\\envs\\msc_project\\lib\\site-packages\\sdv\\relational\\base.py:127: FutureWarning: The default dtype for empty Series will be 'object' instead of 'float64' in a future version. Specify a dtype explicitly to silence this warning.\n",
      "  primary_key_values = pd.Series([x for i, x in zip(range(num_rows), generator)])\n",
      "d:\\Environment\\anaconda3\\envs\\msc_project\\lib\\site-packages\\sdv\\relational\\base.py:127: FutureWarning: The default dtype for empty Series will be 'object' instead of 'float64' in a future version. Specify a dtype explicitly to silence this warning.\n",
      "  primary_key_values = pd.Series([x for i, x in zip(range(num_rows), generator)])\n",
      "d:\\Environment\\anaconda3\\envs\\msc_project\\lib\\site-packages\\sdv\\relational\\base.py:127: FutureWarning: The default dtype for empty Series will be 'object' instead of 'float64' in a future version. Specify a dtype explicitly to silence this warning.\n",
      "  primary_key_values = pd.Series([x for i, x in zip(range(num_rows), generator)])\n",
      "d:\\Environment\\anaconda3\\envs\\msc_project\\lib\\site-packages\\sdv\\relational\\base.py:127: FutureWarning: The default dtype for empty Series will be 'object' instead of 'float64' in a future version. Specify a dtype explicitly to silence this warning.\n",
      "  primary_key_values = pd.Series([x for i, x in zip(range(num_rows), generator)])\n",
      "d:\\Environment\\anaconda3\\envs\\msc_project\\lib\\site-packages\\sdv\\relational\\base.py:127: FutureWarning: The default dtype for empty Series will be 'object' instead of 'float64' in a future version. Specify a dtype explicitly to silence this warning.\n",
      "  primary_key_values = pd.Series([x for i, x in zip(range(num_rows), generator)])\n",
      "d:\\Environment\\anaconda3\\envs\\msc_project\\lib\\site-packages\\sdv\\relational\\base.py:127: FutureWarning: The default dtype for empty Series will be 'object' instead of 'float64' in a future version. Specify a dtype explicitly to silence this warning.\n",
      "  primary_key_values = pd.Series([x for i, x in zip(range(num_rows), generator)])\n",
      "d:\\Environment\\anaconda3\\envs\\msc_project\\lib\\site-packages\\sdv\\relational\\base.py:127: FutureWarning: The default dtype for empty Series will be 'object' instead of 'float64' in a future version. Specify a dtype explicitly to silence this warning.\n",
      "  primary_key_values = pd.Series([x for i, x in zip(range(num_rows), generator)])\n",
      "d:\\Environment\\anaconda3\\envs\\msc_project\\lib\\site-packages\\sdv\\relational\\base.py:127: FutureWarning: The default dtype for empty Series will be 'object' instead of 'float64' in a future version. Specify a dtype explicitly to silence this warning.\n",
      "  primary_key_values = pd.Series([x for i, x in zip(range(num_rows), generator)])\n",
      "d:\\Environment\\anaconda3\\envs\\msc_project\\lib\\site-packages\\sdv\\relational\\base.py:127: FutureWarning: The default dtype for empty Series will be 'object' instead of 'float64' in a future version. Specify a dtype explicitly to silence this warning.\n",
      "  primary_key_values = pd.Series([x for i, x in zip(range(num_rows), generator)])\n",
      "d:\\Environment\\anaconda3\\envs\\msc_project\\lib\\site-packages\\sdv\\relational\\base.py:127: FutureWarning: The default dtype for empty Series will be 'object' instead of 'float64' in a future version. Specify a dtype explicitly to silence this warning.\n",
      "  primary_key_values = pd.Series([x for i, x in zip(range(num_rows), generator)])\n",
      "d:\\Environment\\anaconda3\\envs\\msc_project\\lib\\site-packages\\sdv\\relational\\base.py:127: FutureWarning: The default dtype for empty Series will be 'object' instead of 'float64' in a future version. Specify a dtype explicitly to silence this warning.\n",
      "  primary_key_values = pd.Series([x for i, x in zip(range(num_rows), generator)])\n",
      "d:\\Environment\\anaconda3\\envs\\msc_project\\lib\\site-packages\\sdv\\relational\\base.py:127: FutureWarning: The default dtype for empty Series will be 'object' instead of 'float64' in a future version. Specify a dtype explicitly to silence this warning.\n",
      "  primary_key_values = pd.Series([x for i, x in zip(range(num_rows), generator)])\n",
      "d:\\Environment\\anaconda3\\envs\\msc_project\\lib\\site-packages\\sdv\\relational\\base.py:127: FutureWarning: The default dtype for empty Series will be 'object' instead of 'float64' in a future version. Specify a dtype explicitly to silence this warning.\n",
      "  primary_key_values = pd.Series([x for i, x in zip(range(num_rows), generator)])\n",
      "d:\\Environment\\anaconda3\\envs\\msc_project\\lib\\site-packages\\sdv\\relational\\base.py:127: FutureWarning: The default dtype for empty Series will be 'object' instead of 'float64' in a future version. Specify a dtype explicitly to silence this warning.\n",
      "  primary_key_values = pd.Series([x for i, x in zip(range(num_rows), generator)])\n",
      "d:\\Environment\\anaconda3\\envs\\msc_project\\lib\\site-packages\\sdv\\relational\\base.py:127: FutureWarning: The default dtype for empty Series will be 'object' instead of 'float64' in a future version. Specify a dtype explicitly to silence this warning.\n",
      "  primary_key_values = pd.Series([x for i, x in zip(range(num_rows), generator)])\n",
      "d:\\Environment\\anaconda3\\envs\\msc_project\\lib\\site-packages\\sdv\\relational\\base.py:127: FutureWarning: The default dtype for empty Series will be 'object' instead of 'float64' in a future version. Specify a dtype explicitly to silence this warning.\n",
      "  primary_key_values = pd.Series([x for i, x in zip(range(num_rows), generator)])\n",
      "d:\\Environment\\anaconda3\\envs\\msc_project\\lib\\site-packages\\sdv\\relational\\base.py:127: FutureWarning: The default dtype for empty Series will be 'object' instead of 'float64' in a future version. Specify a dtype explicitly to silence this warning.\n",
      "  primary_key_values = pd.Series([x for i, x in zip(range(num_rows), generator)])\n",
      "d:\\Environment\\anaconda3\\envs\\msc_project\\lib\\site-packages\\sdv\\relational\\base.py:127: FutureWarning: The default dtype for empty Series will be 'object' instead of 'float64' in a future version. Specify a dtype explicitly to silence this warning.\n",
      "  primary_key_values = pd.Series([x for i, x in zip(range(num_rows), generator)])\n",
      "d:\\Environment\\anaconda3\\envs\\msc_project\\lib\\site-packages\\sdv\\relational\\base.py:127: FutureWarning: The default dtype for empty Series will be 'object' instead of 'float64' in a future version. Specify a dtype explicitly to silence this warning.\n",
      "  primary_key_values = pd.Series([x for i, x in zip(range(num_rows), generator)])\n",
      "d:\\Environment\\anaconda3\\envs\\msc_project\\lib\\site-packages\\sdv\\relational\\base.py:127: FutureWarning: The default dtype for empty Series will be 'object' instead of 'float64' in a future version. Specify a dtype explicitly to silence this warning.\n",
      "  primary_key_values = pd.Series([x for i, x in zip(range(num_rows), generator)])\n",
      "d:\\Environment\\anaconda3\\envs\\msc_project\\lib\\site-packages\\sdv\\relational\\base.py:127: FutureWarning: The default dtype for empty Series will be 'object' instead of 'float64' in a future version. Specify a dtype explicitly to silence this warning.\n",
      "  primary_key_values = pd.Series([x for i, x in zip(range(num_rows), generator)])\n",
      "d:\\Environment\\anaconda3\\envs\\msc_project\\lib\\site-packages\\sdv\\relational\\base.py:127: FutureWarning: The default dtype for empty Series will be 'object' instead of 'float64' in a future version. Specify a dtype explicitly to silence this warning.\n",
      "  primary_key_values = pd.Series([x for i, x in zip(range(num_rows), generator)])\n",
      "d:\\Environment\\anaconda3\\envs\\msc_project\\lib\\site-packages\\sdv\\relational\\base.py:127: FutureWarning: The default dtype for empty Series will be 'object' instead of 'float64' in a future version. Specify a dtype explicitly to silence this warning.\n",
      "  primary_key_values = pd.Series([x for i, x in zip(range(num_rows), generator)])\n",
      "d:\\Environment\\anaconda3\\envs\\msc_project\\lib\\site-packages\\sdv\\relational\\base.py:127: FutureWarning: The default dtype for empty Series will be 'object' instead of 'float64' in a future version. Specify a dtype explicitly to silence this warning.\n",
      "  primary_key_values = pd.Series([x for i, x in zip(range(num_rows), generator)])\n",
      "d:\\Environment\\anaconda3\\envs\\msc_project\\lib\\site-packages\\sdv\\relational\\base.py:127: FutureWarning: The default dtype for empty Series will be 'object' instead of 'float64' in a future version. Specify a dtype explicitly to silence this warning.\n",
      "  primary_key_values = pd.Series([x for i, x in zip(range(num_rows), generator)])\n",
      "d:\\Environment\\anaconda3\\envs\\msc_project\\lib\\site-packages\\sdv\\relational\\base.py:127: FutureWarning: The default dtype for empty Series will be 'object' instead of 'float64' in a future version. Specify a dtype explicitly to silence this warning.\n",
      "  primary_key_values = pd.Series([x for i, x in zip(range(num_rows), generator)])\n",
      "d:\\Environment\\anaconda3\\envs\\msc_project\\lib\\site-packages\\sdv\\relational\\base.py:127: FutureWarning: The default dtype for empty Series will be 'object' instead of 'float64' in a future version. Specify a dtype explicitly to silence this warning.\n",
      "  primary_key_values = pd.Series([x for i, x in zip(range(num_rows), generator)])\n",
      "d:\\Environment\\anaconda3\\envs\\msc_project\\lib\\site-packages\\sdv\\relational\\base.py:127: FutureWarning: The default dtype for empty Series will be 'object' instead of 'float64' in a future version. Specify a dtype explicitly to silence this warning.\n",
      "  primary_key_values = pd.Series([x for i, x in zip(range(num_rows), generator)])\n",
      "d:\\Environment\\anaconda3\\envs\\msc_project\\lib\\site-packages\\sdv\\relational\\base.py:127: FutureWarning: The default dtype for empty Series will be 'object' instead of 'float64' in a future version. Specify a dtype explicitly to silence this warning.\n",
      "  primary_key_values = pd.Series([x for i, x in zip(range(num_rows), generator)])\n",
      "d:\\Environment\\anaconda3\\envs\\msc_project\\lib\\site-packages\\sdv\\relational\\base.py:127: FutureWarning: The default dtype for empty Series will be 'object' instead of 'float64' in a future version. Specify a dtype explicitly to silence this warning.\n",
      "  primary_key_values = pd.Series([x for i, x in zip(range(num_rows), generator)])\n",
      "d:\\Environment\\anaconda3\\envs\\msc_project\\lib\\site-packages\\sdv\\relational\\base.py:127: FutureWarning: The default dtype for empty Series will be 'object' instead of 'float64' in a future version. Specify a dtype explicitly to silence this warning.\n",
      "  primary_key_values = pd.Series([x for i, x in zip(range(num_rows), generator)])\n",
      "d:\\Environment\\anaconda3\\envs\\msc_project\\lib\\site-packages\\sdv\\relational\\base.py:127: FutureWarning: The default dtype for empty Series will be 'object' instead of 'float64' in a future version. Specify a dtype explicitly to silence this warning.\n",
      "  primary_key_values = pd.Series([x for i, x in zip(range(num_rows), generator)])\n",
      "d:\\Environment\\anaconda3\\envs\\msc_project\\lib\\site-packages\\sdv\\relational\\base.py:127: FutureWarning: The default dtype for empty Series will be 'object' instead of 'float64' in a future version. Specify a dtype explicitly to silence this warning.\n",
      "  primary_key_values = pd.Series([x for i, x in zip(range(num_rows), generator)])\n",
      "d:\\Environment\\anaconda3\\envs\\msc_project\\lib\\site-packages\\sdv\\relational\\base.py:127: FutureWarning: The default dtype for empty Series will be 'object' instead of 'float64' in a future version. Specify a dtype explicitly to silence this warning.\n",
      "  primary_key_values = pd.Series([x for i, x in zip(range(num_rows), generator)])\n",
      "d:\\Environment\\anaconda3\\envs\\msc_project\\lib\\site-packages\\sdv\\relational\\base.py:127: FutureWarning: The default dtype for empty Series will be 'object' instead of 'float64' in a future version. Specify a dtype explicitly to silence this warning.\n",
      "  primary_key_values = pd.Series([x for i, x in zip(range(num_rows), generator)])\n",
      "d:\\Environment\\anaconda3\\envs\\msc_project\\lib\\site-packages\\sdv\\relational\\base.py:127: FutureWarning: The default dtype for empty Series will be 'object' instead of 'float64' in a future version. Specify a dtype explicitly to silence this warning.\n",
      "  primary_key_values = pd.Series([x for i, x in zip(range(num_rows), generator)])\n",
      "d:\\Environment\\anaconda3\\envs\\msc_project\\lib\\site-packages\\sdv\\relational\\base.py:127: FutureWarning: The default dtype for empty Series will be 'object' instead of 'float64' in a future version. Specify a dtype explicitly to silence this warning.\n",
      "  primary_key_values = pd.Series([x for i, x in zip(range(num_rows), generator)])\n",
      "d:\\Environment\\anaconda3\\envs\\msc_project\\lib\\site-packages\\sdv\\relational\\base.py:127: FutureWarning: The default dtype for empty Series will be 'object' instead of 'float64' in a future version. Specify a dtype explicitly to silence this warning.\n",
      "  primary_key_values = pd.Series([x for i, x in zip(range(num_rows), generator)])\n",
      "d:\\Environment\\anaconda3\\envs\\msc_project\\lib\\site-packages\\sdv\\relational\\base.py:127: FutureWarning: The default dtype for empty Series will be 'object' instead of 'float64' in a future version. Specify a dtype explicitly to silence this warning.\n",
      "  primary_key_values = pd.Series([x for i, x in zip(range(num_rows), generator)])\n",
      "d:\\Environment\\anaconda3\\envs\\msc_project\\lib\\site-packages\\sdv\\relational\\base.py:127: FutureWarning: The default dtype for empty Series will be 'object' instead of 'float64' in a future version. Specify a dtype explicitly to silence this warning.\n",
      "  primary_key_values = pd.Series([x for i, x in zip(range(num_rows), generator)])\n",
      "d:\\Environment\\anaconda3\\envs\\msc_project\\lib\\site-packages\\sdv\\relational\\base.py:127: FutureWarning: The default dtype for empty Series will be 'object' instead of 'float64' in a future version. Specify a dtype explicitly to silence this warning.\n",
      "  primary_key_values = pd.Series([x for i, x in zip(range(num_rows), generator)])\n",
      "d:\\Environment\\anaconda3\\envs\\msc_project\\lib\\site-packages\\sdv\\relational\\base.py:127: FutureWarning: The default dtype for empty Series will be 'object' instead of 'float64' in a future version. Specify a dtype explicitly to silence this warning.\n",
      "  primary_key_values = pd.Series([x for i, x in zip(range(num_rows), generator)])\n",
      "d:\\Environment\\anaconda3\\envs\\msc_project\\lib\\site-packages\\sdv\\relational\\base.py:127: FutureWarning: The default dtype for empty Series will be 'object' instead of 'float64' in a future version. Specify a dtype explicitly to silence this warning.\n",
      "  primary_key_values = pd.Series([x for i, x in zip(range(num_rows), generator)])\n",
      "d:\\Environment\\anaconda3\\envs\\msc_project\\lib\\site-packages\\sdv\\relational\\base.py:127: FutureWarning: The default dtype for empty Series will be 'object' instead of 'float64' in a future version. Specify a dtype explicitly to silence this warning.\n",
      "  primary_key_values = pd.Series([x for i, x in zip(range(num_rows), generator)])\n",
      "d:\\Environment\\anaconda3\\envs\\msc_project\\lib\\site-packages\\sdv\\relational\\base.py:127: FutureWarning: The default dtype for empty Series will be 'object' instead of 'float64' in a future version. Specify a dtype explicitly to silence this warning.\n",
      "  primary_key_values = pd.Series([x for i, x in zip(range(num_rows), generator)])\n",
      "d:\\Environment\\anaconda3\\envs\\msc_project\\lib\\site-packages\\sdv\\relational\\base.py:127: FutureWarning: The default dtype for empty Series will be 'object' instead of 'float64' in a future version. Specify a dtype explicitly to silence this warning.\n",
      "  primary_key_values = pd.Series([x for i, x in zip(range(num_rows), generator)])\n",
      "d:\\Environment\\anaconda3\\envs\\msc_project\\lib\\site-packages\\sdv\\relational\\base.py:127: FutureWarning: The default dtype for empty Series will be 'object' instead of 'float64' in a future version. Specify a dtype explicitly to silence this warning.\n",
      "  primary_key_values = pd.Series([x for i, x in zip(range(num_rows), generator)])\n",
      "d:\\Environment\\anaconda3\\envs\\msc_project\\lib\\site-packages\\sdv\\relational\\base.py:127: FutureWarning: The default dtype for empty Series will be 'object' instead of 'float64' in a future version. Specify a dtype explicitly to silence this warning.\n",
      "  primary_key_values = pd.Series([x for i, x in zip(range(num_rows), generator)])\n",
      "d:\\Environment\\anaconda3\\envs\\msc_project\\lib\\site-packages\\sdv\\relational\\base.py:127: FutureWarning: The default dtype for empty Series will be 'object' instead of 'float64' in a future version. Specify a dtype explicitly to silence this warning.\n",
      "  primary_key_values = pd.Series([x for i, x in zip(range(num_rows), generator)])\n",
      "d:\\Environment\\anaconda3\\envs\\msc_project\\lib\\site-packages\\sdv\\relational\\base.py:127: FutureWarning: The default dtype for empty Series will be 'object' instead of 'float64' in a future version. Specify a dtype explicitly to silence this warning.\n",
      "  primary_key_values = pd.Series([x for i, x in zip(range(num_rows), generator)])\n",
      "d:\\Environment\\anaconda3\\envs\\msc_project\\lib\\site-packages\\sdv\\relational\\base.py:127: FutureWarning: The default dtype for empty Series will be 'object' instead of 'float64' in a future version. Specify a dtype explicitly to silence this warning.\n",
      "  primary_key_values = pd.Series([x for i, x in zip(range(num_rows), generator)])\n",
      "d:\\Environment\\anaconda3\\envs\\msc_project\\lib\\site-packages\\sdv\\relational\\base.py:127: FutureWarning: The default dtype for empty Series will be 'object' instead of 'float64' in a future version. Specify a dtype explicitly to silence this warning.\n",
      "  primary_key_values = pd.Series([x for i, x in zip(range(num_rows), generator)])\n",
      "d:\\Environment\\anaconda3\\envs\\msc_project\\lib\\site-packages\\sdv\\relational\\base.py:127: FutureWarning: The default dtype for empty Series will be 'object' instead of 'float64' in a future version. Specify a dtype explicitly to silence this warning.\n",
      "  primary_key_values = pd.Series([x for i, x in zip(range(num_rows), generator)])\n",
      "d:\\Environment\\anaconda3\\envs\\msc_project\\lib\\site-packages\\sdv\\relational\\base.py:127: FutureWarning: The default dtype for empty Series will be 'object' instead of 'float64' in a future version. Specify a dtype explicitly to silence this warning.\n",
      "  primary_key_values = pd.Series([x for i, x in zip(range(num_rows), generator)])\n",
      "d:\\Environment\\anaconda3\\envs\\msc_project\\lib\\site-packages\\sdv\\relational\\base.py:127: FutureWarning: The default dtype for empty Series will be 'object' instead of 'float64' in a future version. Specify a dtype explicitly to silence this warning.\n",
      "  primary_key_values = pd.Series([x for i, x in zip(range(num_rows), generator)])\n",
      "d:\\Environment\\anaconda3\\envs\\msc_project\\lib\\site-packages\\sdv\\relational\\base.py:127: FutureWarning: The default dtype for empty Series will be 'object' instead of 'float64' in a future version. Specify a dtype explicitly to silence this warning.\n",
      "  primary_key_values = pd.Series([x for i, x in zip(range(num_rows), generator)])\n",
      "d:\\Environment\\anaconda3\\envs\\msc_project\\lib\\site-packages\\sdv\\relational\\base.py:127: FutureWarning: The default dtype for empty Series will be 'object' instead of 'float64' in a future version. Specify a dtype explicitly to silence this warning.\n",
      "  primary_key_values = pd.Series([x for i, x in zip(range(num_rows), generator)])\n",
      "d:\\Environment\\anaconda3\\envs\\msc_project\\lib\\site-packages\\sdv\\relational\\base.py:127: FutureWarning: The default dtype for empty Series will be 'object' instead of 'float64' in a future version. Specify a dtype explicitly to silence this warning.\n",
      "  primary_key_values = pd.Series([x for i, x in zip(range(num_rows), generator)])\n",
      "d:\\Environment\\anaconda3\\envs\\msc_project\\lib\\site-packages\\sdv\\relational\\base.py:127: FutureWarning: The default dtype for empty Series will be 'object' instead of 'float64' in a future version. Specify a dtype explicitly to silence this warning.\n",
      "  primary_key_values = pd.Series([x for i, x in zip(range(num_rows), generator)])\n",
      "d:\\Environment\\anaconda3\\envs\\msc_project\\lib\\site-packages\\sdv\\relational\\base.py:127: FutureWarning: The default dtype for empty Series will be 'object' instead of 'float64' in a future version. Specify a dtype explicitly to silence this warning.\n",
      "  primary_key_values = pd.Series([x for i, x in zip(range(num_rows), generator)])\n",
      "d:\\Environment\\anaconda3\\envs\\msc_project\\lib\\site-packages\\sdv\\relational\\base.py:127: FutureWarning: The default dtype for empty Series will be 'object' instead of 'float64' in a future version. Specify a dtype explicitly to silence this warning.\n",
      "  primary_key_values = pd.Series([x for i, x in zip(range(num_rows), generator)])\n",
      "d:\\Environment\\anaconda3\\envs\\msc_project\\lib\\site-packages\\sdv\\relational\\base.py:127: FutureWarning: The default dtype for empty Series will be 'object' instead of 'float64' in a future version. Specify a dtype explicitly to silence this warning.\n",
      "  primary_key_values = pd.Series([x for i, x in zip(range(num_rows), generator)])\n",
      "d:\\Environment\\anaconda3\\envs\\msc_project\\lib\\site-packages\\sdv\\relational\\base.py:127: FutureWarning: The default dtype for empty Series will be 'object' instead of 'float64' in a future version. Specify a dtype explicitly to silence this warning.\n",
      "  primary_key_values = pd.Series([x for i, x in zip(range(num_rows), generator)])\n",
      "d:\\Environment\\anaconda3\\envs\\msc_project\\lib\\site-packages\\sdv\\relational\\base.py:127: FutureWarning: The default dtype for empty Series will be 'object' instead of 'float64' in a future version. Specify a dtype explicitly to silence this warning.\n",
      "  primary_key_values = pd.Series([x for i, x in zip(range(num_rows), generator)])\n",
      "d:\\Environment\\anaconda3\\envs\\msc_project\\lib\\site-packages\\sdv\\relational\\base.py:127: FutureWarning: The default dtype for empty Series will be 'object' instead of 'float64' in a future version. Specify a dtype explicitly to silence this warning.\n",
      "  primary_key_values = pd.Series([x for i, x in zip(range(num_rows), generator)])\n",
      "d:\\Environment\\anaconda3\\envs\\msc_project\\lib\\site-packages\\sdv\\relational\\base.py:127: FutureWarning: The default dtype for empty Series will be 'object' instead of 'float64' in a future version. Specify a dtype explicitly to silence this warning.\n",
      "  primary_key_values = pd.Series([x for i, x in zip(range(num_rows), generator)])\n",
      "d:\\Environment\\anaconda3\\envs\\msc_project\\lib\\site-packages\\sdv\\relational\\base.py:127: FutureWarning: The default dtype for empty Series will be 'object' instead of 'float64' in a future version. Specify a dtype explicitly to silence this warning.\n",
      "  primary_key_values = pd.Series([x for i, x in zip(range(num_rows), generator)])\n",
      "d:\\Environment\\anaconda3\\envs\\msc_project\\lib\\site-packages\\sdv\\relational\\base.py:127: FutureWarning: The default dtype for empty Series will be 'object' instead of 'float64' in a future version. Specify a dtype explicitly to silence this warning.\n",
      "  primary_key_values = pd.Series([x for i, x in zip(range(num_rows), generator)])\n",
      "d:\\Environment\\anaconda3\\envs\\msc_project\\lib\\site-packages\\sdv\\relational\\base.py:127: FutureWarning: The default dtype for empty Series will be 'object' instead of 'float64' in a future version. Specify a dtype explicitly to silence this warning.\n",
      "  primary_key_values = pd.Series([x for i, x in zip(range(num_rows), generator)])\n",
      "d:\\Environment\\anaconda3\\envs\\msc_project\\lib\\site-packages\\sdv\\relational\\base.py:127: FutureWarning: The default dtype for empty Series will be 'object' instead of 'float64' in a future version. Specify a dtype explicitly to silence this warning.\n",
      "  primary_key_values = pd.Series([x for i, x in zip(range(num_rows), generator)])\n",
      "d:\\Environment\\anaconda3\\envs\\msc_project\\lib\\site-packages\\sdv\\relational\\base.py:127: FutureWarning: The default dtype for empty Series will be 'object' instead of 'float64' in a future version. Specify a dtype explicitly to silence this warning.\n",
      "  primary_key_values = pd.Series([x for i, x in zip(range(num_rows), generator)])\n",
      "d:\\Environment\\anaconda3\\envs\\msc_project\\lib\\site-packages\\sdv\\relational\\base.py:127: FutureWarning: The default dtype for empty Series will be 'object' instead of 'float64' in a future version. Specify a dtype explicitly to silence this warning.\n",
      "  primary_key_values = pd.Series([x for i, x in zip(range(num_rows), generator)])\n",
      "d:\\Environment\\anaconda3\\envs\\msc_project\\lib\\site-packages\\sdv\\relational\\base.py:127: FutureWarning: The default dtype for empty Series will be 'object' instead of 'float64' in a future version. Specify a dtype explicitly to silence this warning.\n",
      "  primary_key_values = pd.Series([x for i, x in zip(range(num_rows), generator)])\n",
      "d:\\Environment\\anaconda3\\envs\\msc_project\\lib\\site-packages\\sdv\\relational\\base.py:127: FutureWarning: The default dtype for empty Series will be 'object' instead of 'float64' in a future version. Specify a dtype explicitly to silence this warning.\n",
      "  primary_key_values = pd.Series([x for i, x in zip(range(num_rows), generator)])\n",
      "d:\\Environment\\anaconda3\\envs\\msc_project\\lib\\site-packages\\sdv\\relational\\base.py:127: FutureWarning: The default dtype for empty Series will be 'object' instead of 'float64' in a future version. Specify a dtype explicitly to silence this warning.\n",
      "  primary_key_values = pd.Series([x for i, x in zip(range(num_rows), generator)])\n",
      "d:\\Environment\\anaconda3\\envs\\msc_project\\lib\\site-packages\\sdv\\relational\\base.py:127: FutureWarning: The default dtype for empty Series will be 'object' instead of 'float64' in a future version. Specify a dtype explicitly to silence this warning.\n",
      "  primary_key_values = pd.Series([x for i, x in zip(range(num_rows), generator)])\n",
      "d:\\Environment\\anaconda3\\envs\\msc_project\\lib\\site-packages\\sdv\\relational\\base.py:127: FutureWarning: The default dtype for empty Series will be 'object' instead of 'float64' in a future version. Specify a dtype explicitly to silence this warning.\n",
      "  primary_key_values = pd.Series([x for i, x in zip(range(num_rows), generator)])\n",
      "d:\\Environment\\anaconda3\\envs\\msc_project\\lib\\site-packages\\sdv\\relational\\base.py:127: FutureWarning: The default dtype for empty Series will be 'object' instead of 'float64' in a future version. Specify a dtype explicitly to silence this warning.\n",
      "  primary_key_values = pd.Series([x for i, x in zip(range(num_rows), generator)])\n",
      "d:\\Environment\\anaconda3\\envs\\msc_project\\lib\\site-packages\\sdv\\relational\\base.py:127: FutureWarning: The default dtype for empty Series will be 'object' instead of 'float64' in a future version. Specify a dtype explicitly to silence this warning.\n",
      "  primary_key_values = pd.Series([x for i, x in zip(range(num_rows), generator)])\n",
      "d:\\Environment\\anaconda3\\envs\\msc_project\\lib\\site-packages\\sdv\\relational\\base.py:127: FutureWarning: The default dtype for empty Series will be 'object' instead of 'float64' in a future version. Specify a dtype explicitly to silence this warning.\n",
      "  primary_key_values = pd.Series([x for i, x in zip(range(num_rows), generator)])\n",
      "d:\\Environment\\anaconda3\\envs\\msc_project\\lib\\site-packages\\sdv\\relational\\base.py:127: FutureWarning: The default dtype for empty Series will be 'object' instead of 'float64' in a future version. Specify a dtype explicitly to silence this warning.\n",
      "  primary_key_values = pd.Series([x for i, x in zip(range(num_rows), generator)])\n",
      "d:\\Environment\\anaconda3\\envs\\msc_project\\lib\\site-packages\\sdv\\relational\\base.py:127: FutureWarning: The default dtype for empty Series will be 'object' instead of 'float64' in a future version. Specify a dtype explicitly to silence this warning.\n",
      "  primary_key_values = pd.Series([x for i, x in zip(range(num_rows), generator)])\n",
      "d:\\Environment\\anaconda3\\envs\\msc_project\\lib\\site-packages\\sdv\\relational\\base.py:127: FutureWarning: The default dtype for empty Series will be 'object' instead of 'float64' in a future version. Specify a dtype explicitly to silence this warning.\n",
      "  primary_key_values = pd.Series([x for i, x in zip(range(num_rows), generator)])\n",
      "d:\\Environment\\anaconda3\\envs\\msc_project\\lib\\site-packages\\sdv\\relational\\base.py:127: FutureWarning: The default dtype for empty Series will be 'object' instead of 'float64' in a future version. Specify a dtype explicitly to silence this warning.\n",
      "  primary_key_values = pd.Series([x for i, x in zip(range(num_rows), generator)])\n",
      "d:\\Environment\\anaconda3\\envs\\msc_project\\lib\\site-packages\\sdv\\relational\\base.py:127: FutureWarning: The default dtype for empty Series will be 'object' instead of 'float64' in a future version. Specify a dtype explicitly to silence this warning.\n",
      "  primary_key_values = pd.Series([x for i, x in zip(range(num_rows), generator)])\n",
      "d:\\Environment\\anaconda3\\envs\\msc_project\\lib\\site-packages\\sdv\\relational\\base.py:127: FutureWarning: The default dtype for empty Series will be 'object' instead of 'float64' in a future version. Specify a dtype explicitly to silence this warning.\n",
      "  primary_key_values = pd.Series([x for i, x in zip(range(num_rows), generator)])\n",
      "d:\\Environment\\anaconda3\\envs\\msc_project\\lib\\site-packages\\sdv\\relational\\base.py:127: FutureWarning: The default dtype for empty Series will be 'object' instead of 'float64' in a future version. Specify a dtype explicitly to silence this warning.\n",
      "  primary_key_values = pd.Series([x for i, x in zip(range(num_rows), generator)])\n",
      "d:\\Environment\\anaconda3\\envs\\msc_project\\lib\\site-packages\\sdv\\relational\\base.py:127: FutureWarning: The default dtype for empty Series will be 'object' instead of 'float64' in a future version. Specify a dtype explicitly to silence this warning.\n",
      "  primary_key_values = pd.Series([x for i, x in zip(range(num_rows), generator)])\n",
      "d:\\Environment\\anaconda3\\envs\\msc_project\\lib\\site-packages\\sdv\\relational\\base.py:127: FutureWarning: The default dtype for empty Series will be 'object' instead of 'float64' in a future version. Specify a dtype explicitly to silence this warning.\n",
      "  primary_key_values = pd.Series([x for i, x in zip(range(num_rows), generator)])\n",
      "d:\\Environment\\anaconda3\\envs\\msc_project\\lib\\site-packages\\sdv\\relational\\base.py:127: FutureWarning: The default dtype for empty Series will be 'object' instead of 'float64' in a future version. Specify a dtype explicitly to silence this warning.\n",
      "  primary_key_values = pd.Series([x for i, x in zip(range(num_rows), generator)])\n",
      "d:\\Environment\\anaconda3\\envs\\msc_project\\lib\\site-packages\\sdv\\relational\\base.py:127: FutureWarning: The default dtype for empty Series will be 'object' instead of 'float64' in a future version. Specify a dtype explicitly to silence this warning.\n",
      "  primary_key_values = pd.Series([x for i, x in zip(range(num_rows), generator)])\n",
      "d:\\Environment\\anaconda3\\envs\\msc_project\\lib\\site-packages\\sdv\\relational\\base.py:127: FutureWarning: The default dtype for empty Series will be 'object' instead of 'float64' in a future version. Specify a dtype explicitly to silence this warning.\n",
      "  primary_key_values = pd.Series([x for i, x in zip(range(num_rows), generator)])\n",
      "d:\\Environment\\anaconda3\\envs\\msc_project\\lib\\site-packages\\sdv\\relational\\base.py:127: FutureWarning: The default dtype for empty Series will be 'object' instead of 'float64' in a future version. Specify a dtype explicitly to silence this warning.\n",
      "  primary_key_values = pd.Series([x for i, x in zip(range(num_rows), generator)])\n",
      "d:\\Environment\\anaconda3\\envs\\msc_project\\lib\\site-packages\\sdv\\relational\\base.py:127: FutureWarning: The default dtype for empty Series will be 'object' instead of 'float64' in a future version. Specify a dtype explicitly to silence this warning.\n",
      "  primary_key_values = pd.Series([x for i, x in zip(range(num_rows), generator)])\n",
      "d:\\Environment\\anaconda3\\envs\\msc_project\\lib\\site-packages\\sdv\\relational\\base.py:127: FutureWarning: The default dtype for empty Series will be 'object' instead of 'float64' in a future version. Specify a dtype explicitly to silence this warning.\n",
      "  primary_key_values = pd.Series([x for i, x in zip(range(num_rows), generator)])\n",
      "d:\\Environment\\anaconda3\\envs\\msc_project\\lib\\site-packages\\sdv\\relational\\base.py:127: FutureWarning: The default dtype for empty Series will be 'object' instead of 'float64' in a future version. Specify a dtype explicitly to silence this warning.\n",
      "  primary_key_values = pd.Series([x for i, x in zip(range(num_rows), generator)])\n",
      "d:\\Environment\\anaconda3\\envs\\msc_project\\lib\\site-packages\\sdv\\relational\\base.py:127: FutureWarning: The default dtype for empty Series will be 'object' instead of 'float64' in a future version. Specify a dtype explicitly to silence this warning.\n",
      "  primary_key_values = pd.Series([x for i, x in zip(range(num_rows), generator)])\n",
      "d:\\Environment\\anaconda3\\envs\\msc_project\\lib\\site-packages\\sdv\\relational\\base.py:127: FutureWarning: The default dtype for empty Series will be 'object' instead of 'float64' in a future version. Specify a dtype explicitly to silence this warning.\n",
      "  primary_key_values = pd.Series([x for i, x in zip(range(num_rows), generator)])\n",
      "d:\\Environment\\anaconda3\\envs\\msc_project\\lib\\site-packages\\sdv\\relational\\base.py:127: FutureWarning: The default dtype for empty Series will be 'object' instead of 'float64' in a future version. Specify a dtype explicitly to silence this warning.\n",
      "  primary_key_values = pd.Series([x for i, x in zip(range(num_rows), generator)])\n",
      "d:\\Environment\\anaconda3\\envs\\msc_project\\lib\\site-packages\\sdv\\relational\\base.py:127: FutureWarning: The default dtype for empty Series will be 'object' instead of 'float64' in a future version. Specify a dtype explicitly to silence this warning.\n",
      "  primary_key_values = pd.Series([x for i, x in zip(range(num_rows), generator)])\n",
      "d:\\Environment\\anaconda3\\envs\\msc_project\\lib\\site-packages\\sdv\\relational\\base.py:127: FutureWarning: The default dtype for empty Series will be 'object' instead of 'float64' in a future version. Specify a dtype explicitly to silence this warning.\n",
      "  primary_key_values = pd.Series([x for i, x in zip(range(num_rows), generator)])\n",
      "d:\\Environment\\anaconda3\\envs\\msc_project\\lib\\site-packages\\sdv\\relational\\base.py:127: FutureWarning: The default dtype for empty Series will be 'object' instead of 'float64' in a future version. Specify a dtype explicitly to silence this warning.\n",
      "  primary_key_values = pd.Series([x for i, x in zip(range(num_rows), generator)])\n",
      "d:\\Environment\\anaconda3\\envs\\msc_project\\lib\\site-packages\\sdv\\relational\\base.py:127: FutureWarning: The default dtype for empty Series will be 'object' instead of 'float64' in a future version. Specify a dtype explicitly to silence this warning.\n",
      "  primary_key_values = pd.Series([x for i, x in zip(range(num_rows), generator)])\n"
     ]
    }
   ],
   "source": [
    "new_data_sample = patients_info_model.sample(num_rows = 500)"
   ]
  },
  {
   "cell_type": "code",
   "execution_count": 53,
   "metadata": {},
   "outputs": [
    {
     "data": {
      "text/html": [
       "<div>\n",
       "<style scoped>\n",
       "    .dataframe tbody tr th:only-of-type {\n",
       "        vertical-align: middle;\n",
       "    }\n",
       "\n",
       "    .dataframe tbody tr th {\n",
       "        vertical-align: top;\n",
       "    }\n",
       "\n",
       "    .dataframe thead th {\n",
       "        text-align: right;\n",
       "    }\n",
       "</style>\n",
       "<table border=\"1\" class=\"dataframe\">\n",
       "  <thead>\n",
       "    <tr style=\"text-align: right;\">\n",
       "      <th></th>\n",
       "      <th>subject_id</th>\n",
       "      <th>hadm_id</th>\n",
       "      <th>admittime</th>\n",
       "      <th>dischtime</th>\n",
       "      <th>deathtime</th>\n",
       "      <th>admission_type</th>\n",
       "      <th>admission_location</th>\n",
       "      <th>discharge_location</th>\n",
       "      <th>insurance</th>\n",
       "      <th>language</th>\n",
       "      <th>religion</th>\n",
       "      <th>marital_status</th>\n",
       "      <th>ethnicity</th>\n",
       "      <th>edregtime</th>\n",
       "      <th>edouttime</th>\n",
       "      <th>has_chartevents_data</th>\n",
       "    </tr>\n",
       "  </thead>\n",
       "  <tbody>\n",
       "    <tr>\n",
       "      <th>0</th>\n",
       "      <td>0</td>\n",
       "      <td>0</td>\n",
       "      <td>1&amp;6&amp;10</td>\n",
       "      <td>4&amp;0&amp;18</td>\n",
       "      <td>2&amp;5&amp;12</td>\n",
       "      <td>EMERGENCY</td>\n",
       "      <td>PHYS REFERRAL/NORMAL DELI</td>\n",
       "      <td>HOME</td>\n",
       "      <td>Private</td>\n",
       "      <td>unknow</td>\n",
       "      <td>CATHOLIC</td>\n",
       "      <td>MARRIED</td>\n",
       "      <td>WHITE</td>\n",
       "      <td>2&amp;1&amp;21</td>\n",
       "      <td>4&amp;6&amp;1</td>\n",
       "      <td>1</td>\n",
       "    </tr>\n",
       "    <tr>\n",
       "      <th>1</th>\n",
       "      <td>0</td>\n",
       "      <td>1</td>\n",
       "      <td>1&amp;4&amp;6</td>\n",
       "      <td>3&amp;3&amp;17</td>\n",
       "      <td>2&amp;6&amp;6</td>\n",
       "      <td>ELECTIVE</td>\n",
       "      <td>PHYS REFERRAL/NORMAL DELI</td>\n",
       "      <td>HOME</td>\n",
       "      <td>Private</td>\n",
       "      <td>unknow</td>\n",
       "      <td>EPISCOPALIAN</td>\n",
       "      <td>MARRIED</td>\n",
       "      <td>BLACK/AFRICAN AMERICAN</td>\n",
       "      <td>2&amp;0&amp;19</td>\n",
       "      <td>4&amp;5&amp;0</td>\n",
       "      <td>1</td>\n",
       "    </tr>\n",
       "    <tr>\n",
       "      <th>2</th>\n",
       "      <td>1</td>\n",
       "      <td>2</td>\n",
       "      <td>1&amp;2&amp;8</td>\n",
       "      <td>3&amp;4&amp;15</td>\n",
       "      <td>Na</td>\n",
       "      <td>EMERGENCY</td>\n",
       "      <td>EMERGENCY ROOM ADMIT</td>\n",
       "      <td>HOME</td>\n",
       "      <td>Medicaid</td>\n",
       "      <td>unknow</td>\n",
       "      <td>CATHOLIC</td>\n",
       "      <td>WIDOWED</td>\n",
       "      <td>WHITE</td>\n",
       "      <td>4&amp;5&amp;11</td>\n",
       "      <td>3&amp;5&amp;1</td>\n",
       "      <td>1</td>\n",
       "    </tr>\n",
       "    <tr>\n",
       "      <th>3</th>\n",
       "      <td>1</td>\n",
       "      <td>3</td>\n",
       "      <td>1&amp;0&amp;12</td>\n",
       "      <td>2&amp;0&amp;14</td>\n",
       "      <td>Na</td>\n",
       "      <td>EMERGENCY</td>\n",
       "      <td>CLINIC REFERRAL/PREMATURE</td>\n",
       "      <td>SNF</td>\n",
       "      <td>Private</td>\n",
       "      <td>ENGL</td>\n",
       "      <td>CATHOLIC</td>\n",
       "      <td>WIDOWED</td>\n",
       "      <td>WHITE</td>\n",
       "      <td>4&amp;3&amp;17</td>\n",
       "      <td>1&amp;1&amp;3</td>\n",
       "      <td>0</td>\n",
       "    </tr>\n",
       "    <tr>\n",
       "      <th>4</th>\n",
       "      <td>2</td>\n",
       "      <td>4</td>\n",
       "      <td>3&amp;4&amp;11</td>\n",
       "      <td>4&amp;1&amp;11</td>\n",
       "      <td>Na</td>\n",
       "      <td>EMERGENCY</td>\n",
       "      <td>PHYS REFERRAL/NORMAL DELI</td>\n",
       "      <td>HOME</td>\n",
       "      <td>Medicaid</td>\n",
       "      <td>ENGL</td>\n",
       "      <td>PROTESTANT QUAKER</td>\n",
       "      <td>SINGLE</td>\n",
       "      <td>BLACK/AFRICAN AMERICAN</td>\n",
       "      <td>2&amp;1&amp;21</td>\n",
       "      <td>1&amp;4&amp;17</td>\n",
       "      <td>1</td>\n",
       "    </tr>\n",
       "    <tr>\n",
       "      <th>...</th>\n",
       "      <td>...</td>\n",
       "      <td>...</td>\n",
       "      <td>...</td>\n",
       "      <td>...</td>\n",
       "      <td>...</td>\n",
       "      <td>...</td>\n",
       "      <td>...</td>\n",
       "      <td>...</td>\n",
       "      <td>...</td>\n",
       "      <td>...</td>\n",
       "      <td>...</td>\n",
       "      <td>...</td>\n",
       "      <td>...</td>\n",
       "      <td>...</td>\n",
       "      <td>...</td>\n",
       "      <td>...</td>\n",
       "    </tr>\n",
       "    <tr>\n",
       "      <th>68</th>\n",
       "      <td>46</td>\n",
       "      <td>68</td>\n",
       "      <td>3&amp;5&amp;3</td>\n",
       "      <td>4&amp;0&amp;14</td>\n",
       "      <td>Na</td>\n",
       "      <td>EMERGENCY</td>\n",
       "      <td>TRANSFER FROM HOSP/EXTRAM</td>\n",
       "      <td>REHAB/DISTINCT PART HOSP</td>\n",
       "      <td>Private</td>\n",
       "      <td>SPAN</td>\n",
       "      <td>UNOBTAINABLE</td>\n",
       "      <td>unknow</td>\n",
       "      <td>BLACK/AFRICAN AMERICAN</td>\n",
       "      <td>2&amp;1&amp;21</td>\n",
       "      <td>3&amp;1&amp;6</td>\n",
       "      <td>1</td>\n",
       "    </tr>\n",
       "    <tr>\n",
       "      <th>69</th>\n",
       "      <td>47</td>\n",
       "      <td>69</td>\n",
       "      <td>4&amp;3&amp;18</td>\n",
       "      <td>4&amp;2&amp;12</td>\n",
       "      <td>Na</td>\n",
       "      <td>EMERGENCY</td>\n",
       "      <td>CLINIC REFERRAL/PREMATURE</td>\n",
       "      <td>HOME</td>\n",
       "      <td>Private</td>\n",
       "      <td>ENGL</td>\n",
       "      <td>UNOBTAINABLE</td>\n",
       "      <td>unknow</td>\n",
       "      <td>WHITE</td>\n",
       "      <td>2&amp;1&amp;21</td>\n",
       "      <td>2&amp;3&amp;15</td>\n",
       "      <td>1</td>\n",
       "    </tr>\n",
       "    <tr>\n",
       "      <th>70</th>\n",
       "      <td>47</td>\n",
       "      <td>70</td>\n",
       "      <td>1&amp;3&amp;21</td>\n",
       "      <td>2&amp;1&amp;14</td>\n",
       "      <td>Na</td>\n",
       "      <td>EMERGENCY</td>\n",
       "      <td>EMERGENCY ROOM ADMIT</td>\n",
       "      <td>HOME</td>\n",
       "      <td>Medicaid</td>\n",
       "      <td>PTUN</td>\n",
       "      <td>UNOBTAINABLE</td>\n",
       "      <td>WIDOWED</td>\n",
       "      <td>WHITE</td>\n",
       "      <td>2&amp;1&amp;21</td>\n",
       "      <td>4&amp;0&amp;15</td>\n",
       "      <td>1</td>\n",
       "    </tr>\n",
       "    <tr>\n",
       "      <th>71</th>\n",
       "      <td>48</td>\n",
       "      <td>71</td>\n",
       "      <td>1&amp;0&amp;18</td>\n",
       "      <td>2&amp;5&amp;11</td>\n",
       "      <td>2&amp;6&amp;6</td>\n",
       "      <td>EMERGENCY</td>\n",
       "      <td>EMERGENCY ROOM ADMIT</td>\n",
       "      <td>HOME</td>\n",
       "      <td>Medicare</td>\n",
       "      <td>ENGL</td>\n",
       "      <td>NOT SPECIFIED</td>\n",
       "      <td>SINGLE</td>\n",
       "      <td>BLACK/AFRICAN AMERICAN</td>\n",
       "      <td>Na</td>\n",
       "      <td>3&amp;1&amp;21</td>\n",
       "      <td>1</td>\n",
       "    </tr>\n",
       "    <tr>\n",
       "      <th>72</th>\n",
       "      <td>49</td>\n",
       "      <td>72</td>\n",
       "      <td>1&amp;2&amp;8</td>\n",
       "      <td>2&amp;5&amp;18</td>\n",
       "      <td>Na</td>\n",
       "      <td>ELECTIVE</td>\n",
       "      <td>CLINIC REFERRAL/PREMATURE</td>\n",
       "      <td>LONG TERM CARE HOSPITAL</td>\n",
       "      <td>Private</td>\n",
       "      <td>unknow</td>\n",
       "      <td>CATHOLIC</td>\n",
       "      <td>MARRIED</td>\n",
       "      <td>UNKNOWN/NOT SPECIFIED</td>\n",
       "      <td>2&amp;1&amp;21</td>\n",
       "      <td>Na</td>\n",
       "      <td>1</td>\n",
       "    </tr>\n",
       "  </tbody>\n",
       "</table>\n",
       "<p>73 rows × 16 columns</p>\n",
       "</div>"
      ],
      "text/plain": [
       "    subject_id  hadm_id admittime dischtime deathtime admission_type  \\\n",
       "0            0        0    1&6&10    4&0&18    2&5&12      EMERGENCY   \n",
       "1            0        1     1&4&6    3&3&17     2&6&6       ELECTIVE   \n",
       "2            1        2     1&2&8    3&4&15        Na      EMERGENCY   \n",
       "3            1        3    1&0&12    2&0&14        Na      EMERGENCY   \n",
       "4            2        4    3&4&11    4&1&11        Na      EMERGENCY   \n",
       "..         ...      ...       ...       ...       ...            ...   \n",
       "68          46       68     3&5&3    4&0&14        Na      EMERGENCY   \n",
       "69          47       69    4&3&18    4&2&12        Na      EMERGENCY   \n",
       "70          47       70    1&3&21    2&1&14        Na      EMERGENCY   \n",
       "71          48       71    1&0&18    2&5&11     2&6&6      EMERGENCY   \n",
       "72          49       72     1&2&8    2&5&18        Na       ELECTIVE   \n",
       "\n",
       "           admission_location        discharge_location insurance language  \\\n",
       "0   PHYS REFERRAL/NORMAL DELI                      HOME   Private   unknow   \n",
       "1   PHYS REFERRAL/NORMAL DELI                      HOME   Private   unknow   \n",
       "2        EMERGENCY ROOM ADMIT                      HOME  Medicaid   unknow   \n",
       "3   CLINIC REFERRAL/PREMATURE                       SNF   Private     ENGL   \n",
       "4   PHYS REFERRAL/NORMAL DELI                      HOME  Medicaid     ENGL   \n",
       "..                        ...                       ...       ...      ...   \n",
       "68  TRANSFER FROM HOSP/EXTRAM  REHAB/DISTINCT PART HOSP   Private     SPAN   \n",
       "69  CLINIC REFERRAL/PREMATURE                      HOME   Private     ENGL   \n",
       "70       EMERGENCY ROOM ADMIT                      HOME  Medicaid     PTUN   \n",
       "71       EMERGENCY ROOM ADMIT                      HOME  Medicare     ENGL   \n",
       "72  CLINIC REFERRAL/PREMATURE   LONG TERM CARE HOSPITAL   Private   unknow   \n",
       "\n",
       "             religion marital_status               ethnicity edregtime  \\\n",
       "0            CATHOLIC        MARRIED                   WHITE    2&1&21   \n",
       "1        EPISCOPALIAN        MARRIED  BLACK/AFRICAN AMERICAN    2&0&19   \n",
       "2            CATHOLIC        WIDOWED                   WHITE    4&5&11   \n",
       "3            CATHOLIC        WIDOWED                   WHITE    4&3&17   \n",
       "4   PROTESTANT QUAKER         SINGLE  BLACK/AFRICAN AMERICAN    2&1&21   \n",
       "..                ...            ...                     ...       ...   \n",
       "68       UNOBTAINABLE         unknow  BLACK/AFRICAN AMERICAN    2&1&21   \n",
       "69       UNOBTAINABLE         unknow                   WHITE    2&1&21   \n",
       "70       UNOBTAINABLE        WIDOWED                   WHITE    2&1&21   \n",
       "71      NOT SPECIFIED         SINGLE  BLACK/AFRICAN AMERICAN        Na   \n",
       "72           CATHOLIC        MARRIED   UNKNOWN/NOT SPECIFIED    2&1&21   \n",
       "\n",
       "   edouttime  has_chartevents_data  \n",
       "0      4&6&1                     1  \n",
       "1      4&5&0                     1  \n",
       "2      3&5&1                     1  \n",
       "3      1&1&3                     0  \n",
       "4     1&4&17                     1  \n",
       "..       ...                   ...  \n",
       "68     3&1&6                     1  \n",
       "69    2&3&15                     1  \n",
       "70    4&0&15                     1  \n",
       "71    3&1&21                     1  \n",
       "72        Na                     1  \n",
       "\n",
       "[73 rows x 16 columns]"
      ]
     },
     "execution_count": 53,
     "metadata": {},
     "output_type": "execute_result"
    }
   ],
   "source": [
    "new_data_sample['admissions_sample_df']"
   ]
  },
  {
   "cell_type": "markdown",
   "metadata": {},
   "source": [
    "---"
   ]
  },
  {
   "cell_type": "code",
   "execution_count": 63,
   "metadata": {},
   "outputs": [
    {
     "data": {
      "text/plain": [
       "<AxesSubplot:>"
      ]
     },
     "execution_count": 63,
     "metadata": {},
     "output_type": "execute_result"
    },
    {
     "data": {
      "image/png": "[encoded data removed]",
      "text/plain": [
       "<Figure size 432x288 with 1 Axes>"
      ]
     },
     "metadata": {
      "needs_background": "light"
     },
     "output_type": "display_data"
    }
   ],
   "source": [
    "new_data_sample['admissions_sample_df'].insurance.hist()"
   ]
  },
  {
   "cell_type": "code",
   "execution_count": 64,
   "metadata": {},
   "outputs": [
    {
     "data": {
      "text/plain": [
       "<AxesSubplot:>"
      ]
     },
     "execution_count": 64,
     "metadata": {},
     "output_type": "execute_result"
    },
    {
     "data": {
      "image/png": "[encoded data removed]",
      "text/plain": [
       "<Figure size 432x288 with 1 Axes>"
      ]
     },
     "metadata": {
      "needs_background": "light"
     },
     "output_type": "display_data"
    }
   ],
   "source": [
    "admissions_sample_df.insurance.hist()"
   ]
  },
  {
   "cell_type": "code",
   "execution_count": null,
   "metadata": {},
   "outputs": [],
   "source": []
  }
 ],
 "metadata": {
  "kernelspec": {
   "display_name": "Python 3.8.13 ('msc_project')",
   "language": "python",
   "name": "python3"
  },
  "language_info": {
   "codemirror_mode": {
    "name": "ipython",
    "version": 3
   },
   "file_extension": ".py",
   "mimetype": "text/x-python",
   "name": "python",
   "nbconvert_exporter": "python",
   "pygments_lexer": "ipython3",
   "version": "3.8.13"
  },
  "orig_nbformat": 4,
  "vscode": {
   "interpreter": {
    "hash": "e56015fb566b08f7af163d42c82cf08fa5d6db3fbaaffa0afaaff5a893fc0496"
   }
  }
 },
 "nbformat": 4,
 "nbformat_minor": 2
}
