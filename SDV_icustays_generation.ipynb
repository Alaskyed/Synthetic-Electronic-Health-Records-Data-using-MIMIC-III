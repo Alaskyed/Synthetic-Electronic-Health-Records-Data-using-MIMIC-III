{
 "cells": [
  {
   "cell_type": "code",
   "execution_count": 31,
   "metadata": {},
   "outputs": [],
   "source": [
    "# from google.colab import drive\n",
    "# drive.mount('/content/drive')"
   ]
  },
  {
   "cell_type": "code",
   "execution_count": 32,
   "metadata": {},
   "outputs": [],
   "source": [
    "# ! pip install pgmpy"
   ]
  },
  {
   "cell_type": "code",
   "execution_count": 33,
   "metadata": {},
   "outputs": [],
   "source": [
    "# Ignore warnings\n",
    "import warnings\n",
    "warnings.filterwarnings(\"ignore\")"
   ]
  },
  {
   "cell_type": "code",
   "execution_count": 34,
   "metadata": {},
   "outputs": [],
   "source": [
    "import pandas as pd\n",
    "import numpy as np\n",
    "\n",
    "import common"
   ]
  },
  {
   "cell_type": "code",
   "execution_count": 35,
   "metadata": {},
   "outputs": [],
   "source": [
    "date_set_path = \"../temp_sets_100/\""
   ]
  },
  {
   "cell_type": "markdown",
   "metadata": {},
   "source": [
    "# icustays"
   ]
  },
  {
   "cell_type": "markdown",
   "metadata": {},
   "source": [
    "## Read samples"
   ]
  },
  {
   "cell_type": "code",
   "execution_count": 36,
   "metadata": {},
   "outputs": [],
   "source": [
    "icustays_df = common.read_csv_no_rowid(date_set_path+\"icustays.csv\")"
   ]
  },
  {
   "cell_type": "code",
   "execution_count": 37,
   "metadata": {},
   "outputs": [
    {
     "data": {
      "text/plain": [
       "271533    1\n",
       "266628    1\n",
       "238979    1\n",
       "214885    1\n",
       "259374    1\n",
       "         ..\n",
       "223212    1\n",
       "297492    1\n",
       "222646    1\n",
       "232008    1\n",
       "237653    1\n",
       "Name: icustay_id, Length: 124, dtype: int64"
      ]
     },
     "execution_count": 37,
     "metadata": {},
     "output_type": "execute_result"
    }
   ],
   "source": [
    "icustays_df['icustay_id'].value_counts()"
   ]
  },
  {
   "cell_type": "markdown",
   "metadata": {},
   "source": [
    "## Data preproces"
   ]
  },
  {
   "cell_type": "code",
   "execution_count": 38,
   "metadata": {},
   "outputs": [],
   "source": [
    "# Drop useless colums\n",
    "icustays_df.drop(['los'], axis=1, inplace=True)"
   ]
  },
  {
   "cell_type": "markdown",
   "metadata": {},
   "source": [
    "### Process null values"
   ]
  },
  {
   "cell_type": "code",
   "execution_count": 39,
   "metadata": {},
   "outputs": [
    {
     "name": "stdout",
     "output_type": "stream",
     "text": [
      "Total columns: 10\n",
      "Total rows: 124\n",
      "--------------\n",
      "subject_id        0\n",
      "hadm_id           0\n",
      "icustay_id        0\n",
      "dbsource          0\n",
      "first_careunit    0\n",
      "last_careunit     0\n",
      "first_wardid      0\n",
      "last_wardid       0\n",
      "intime            0\n",
      "outtime           0\n",
      "dtype: int64\n"
     ]
    }
   ],
   "source": [
    "# Check null value in table\n",
    "common.nan_count(icustays_df)"
   ]
  },
  {
   "cell_type": "markdown",
   "metadata": {},
   "source": [
    "### Set the column types"
   ]
  },
  {
   "cell_type": "code",
   "execution_count": 40,
   "metadata": {},
   "outputs": [
    {
     "data": {
      "text/plain": [
       "subject_id         int64\n",
       "hadm_id            int64\n",
       "icustay_id         int64\n",
       "dbsource          object\n",
       "first_careunit    object\n",
       "last_careunit     object\n",
       "first_wardid       int64\n",
       "last_wardid        int64\n",
       "intime            object\n",
       "outtime           object\n",
       "dtype: object"
      ]
     },
     "execution_count": 40,
     "metadata": {},
     "output_type": "execute_result"
    }
   ],
   "source": [
    "icustays_df.dtypes"
   ]
  },
  {
   "cell_type": "code",
   "execution_count": 41,
   "metadata": {},
   "outputs": [],
   "source": [
    "# Transfer some date type\n",
    "icustays_df['intime'] = pd.to_datetime(icustays_df['intime'])\n",
    "icustays_df['outtime'] = pd.to_datetime(icustays_df['outtime'])"
   ]
  },
  {
   "cell_type": "code",
   "execution_count": 42,
   "metadata": {},
   "outputs": [
    {
     "data": {
      "text/plain": [
       "subject_id                 int64\n",
       "hadm_id                    int64\n",
       "icustay_id                 int64\n",
       "dbsource                  object\n",
       "first_careunit            object\n",
       "last_careunit             object\n",
       "first_wardid               int64\n",
       "last_wardid                int64\n",
       "intime            datetime64[ns]\n",
       "outtime           datetime64[ns]\n",
       "dtype: object"
      ]
     },
     "execution_count": 42,
     "metadata": {},
     "output_type": "execute_result"
    }
   ],
   "source": [
    "icustays_df.dtypes"
   ]
  },
  {
   "cell_type": "markdown",
   "metadata": {},
   "source": [
    "### Process time value"
   ]
  },
  {
   "cell_type": "code",
   "execution_count": 43,
   "metadata": {},
   "outputs": [],
   "source": [
    "admissions_df = common.read_csv_no_rowid(date_set_path+\"admissions.csv\")"
   ]
  },
  {
   "cell_type": "code",
   "execution_count": 44,
   "metadata": {},
   "outputs": [],
   "source": [
    "admittime_df = admissions_df.loc[:, ['hadm_id', 'admittime']]\n",
    "admittime_df['admittime'] = pd.to_datetime(admittime_df['admittime'])"
   ]
  },
  {
   "cell_type": "code",
   "execution_count": 45,
   "metadata": {},
   "outputs": [],
   "source": [
    "icustays_mid_df = pd.merge(left=icustays_df, right=admittime_df, how='left', on=['hadm_id'])"
   ]
  },
  {
   "cell_type": "code",
   "execution_count": 47,
   "metadata": {},
   "outputs": [],
   "source": [
    "icustays_mid_df['outtime'] = icustays_mid_df.apply(common.time_process, args=('intime', 'outtime'), axis=1)\n",
    "icustays_mid_df['intime'] = icustays_mid_df.apply(common.time_process, args=('admittime', 'intime'), axis=1)"
   ]
  },
  {
   "cell_type": "code",
   "execution_count": 48,
   "metadata": {},
   "outputs": [],
   "source": [
    "icustays_df = icustays_mid_df.drop(['subject_id', 'hadm_id', 'admittime'], axis=1)"
   ]
  },
  {
   "cell_type": "markdown",
   "metadata": {},
   "source": [
    "---\n",
    "\n",
    "##  Build Network"
   ]
  },
  {
   "cell_type": "code",
   "execution_count": 49,
   "metadata": {},
   "outputs": [],
   "source": [
    "from sdv.tabular import CTGAN\n",
    "from sdv.constraints import create_custom_constraint"
   ]
  },
  {
   "cell_type": "code",
   "execution_count": 50,
   "metadata": {},
   "outputs": [
    {
     "data": {
      "text/plain": [
       "Index(['icustay_id', 'dbsource', 'first_careunit', 'last_careunit',\n",
       "       'first_wardid', 'last_wardid', 'intime', 'outtime'],\n",
       "      dtype='object')"
      ]
     },
     "execution_count": 50,
     "metadata": {},
     "output_type": "execute_result"
    }
   ],
   "source": [
    "icustays_df.columns"
   ]
  },
  {
   "cell_type": "markdown",
   "metadata": {},
   "source": [
    "### Set constraint"
   ]
  },
  {
   "cell_type": "code",
   "execution_count": 51,
   "metadata": {},
   "outputs": [],
   "source": [
    "def time_is_valid(column_names, data):\n",
    "    intime_outtime = ((data['outtime'] - data['intime']).apply(lambda x: 0 <= x.days  <= 365))\n",
    "    \n",
    "    return intime_outtime\n",
    "\n",
    "def time_trasform(column_names, data):\n",
    "    # print(data.loc[:, ['dod', 'dod_hosp', 'dod_ssn']])\n",
    "    return data\n",
    "\n",
    "def time_reverse_transform(column_names, transformed_data):\n",
    "    transformed_data['intime'] = pd.to_datetime(transformed_data['intime'])\n",
    "    transformed_data['outtime'] = pd.to_datetime(transformed_data['outtime'])\n",
    "\n",
    "    return transformed_data"
   ]
  },
  {
   "cell_type": "code",
   "execution_count": 52,
   "metadata": {},
   "outputs": [],
   "source": [
    "TimeProcess = create_custom_constraint(\n",
    "    is_valid_fn=time_is_valid,\n",
    "    transform_fn=time_trasform,\n",
    "    reverse_transform_fn=time_reverse_transform\n",
    ")\n",
    "\n",
    "time_constraint = TimeProcess(\n",
    "    column_names=['intime', 'outtime']\n",
    ")"
   ]
  },
  {
   "cell_type": "code",
   "execution_count": 53,
   "metadata": {},
   "outputs": [],
   "source": [
    "from sdv.constraints import Unique\n",
    "\n",
    "unique_icustay_id_constraint = Unique(\n",
    "    column_names=['icustay_id']\n",
    ")"
   ]
  },
  {
   "cell_type": "code",
   "execution_count": 54,
   "metadata": {},
   "outputs": [],
   "source": [
    "constrains = [unique_icustay_id_constraint]"
   ]
  },
  {
   "cell_type": "markdown",
   "metadata": {},
   "source": [
    "### Build and train model"
   ]
  },
  {
   "cell_type": "code",
   "execution_count": 55,
   "metadata": {},
   "outputs": [],
   "source": [
    "model = CTGAN(\n",
    "    constraints=constrains, \n",
    "    # generator_lr=0.0005,\n",
    "    batch_size=100,\n",
    "    cuda=True, \n",
    "    verbose=True, \n",
    "    epochs=100)"
   ]
  },
  {
   "cell_type": "code",
   "execution_count": 56,
   "metadata": {},
   "outputs": [
    {
     "data": {
      "text/plain": [
       "124"
      ]
     },
     "execution_count": 56,
     "metadata": {},
     "output_type": "execute_result"
    }
   ],
   "source": [
    "len(icustays_df)"
   ]
  },
  {
   "cell_type": "code",
   "execution_count": 57,
   "metadata": {},
   "outputs": [
    {
     "name": "stdout",
     "output_type": "stream",
     "text": [
      "Epoch 1, Loss G:  1.4536,Loss D: -0.0086\n",
      "Epoch 2, Loss G:  1.4573,Loss D:  0.0033\n",
      "Epoch 3, Loss G:  1.4661,Loss D:  0.0181\n",
      "Epoch 4, Loss G:  1.4718,Loss D: -0.0387\n",
      "Epoch 5, Loss G:  1.3191,Loss D: -0.0296\n",
      "Epoch 6, Loss G:  1.4645,Loss D: -0.0357\n",
      "Epoch 7, Loss G:  1.4739,Loss D: -0.0949\n",
      "Epoch 8, Loss G:  1.4334,Loss D: -0.1250\n",
      "Epoch 9, Loss G:  1.4449,Loss D: -0.0683\n",
      "Epoch 10, Loss G:  1.4761,Loss D: -0.0564\n",
      "Epoch 11, Loss G:  1.4996,Loss D: -0.1011\n",
      "Epoch 12, Loss G:  1.3574,Loss D: -0.1581\n",
      "Epoch 13, Loss G:  1.4021,Loss D: -0.1964\n",
      "Epoch 14, Loss G:  1.3539,Loss D: -0.1613\n",
      "Epoch 15, Loss G:  1.3624,Loss D: -0.2537\n",
      "Epoch 16, Loss G:  1.3329,Loss D: -0.2197\n",
      "Epoch 17, Loss G:  1.3336,Loss D: -0.1525\n",
      "Epoch 18, Loss G:  1.3593,Loss D: -0.2280\n",
      "Epoch 19, Loss G:  1.2920,Loss D: -0.1282\n",
      "Epoch 20, Loss G:  1.3608,Loss D: -0.1763\n",
      "Epoch 21, Loss G:  1.5088,Loss D: -0.0867\n",
      "Epoch 22, Loss G:  1.2076,Loss D: -0.2957\n",
      "Epoch 23, Loss G:  1.2848,Loss D: -0.2939\n",
      "Epoch 24, Loss G:  1.3413,Loss D: -0.0608\n",
      "Epoch 25, Loss G:  1.2677,Loss D: -0.3048\n",
      "Epoch 26, Loss G:  1.1106,Loss D: -0.2514\n",
      "Epoch 27, Loss G:  1.0183,Loss D: -0.3034\n",
      "Epoch 28, Loss G:  1.1214,Loss D: -0.2815\n",
      "Epoch 29, Loss G:  1.1928,Loss D: -0.1628\n",
      "Epoch 30, Loss G:  0.9510,Loss D: -0.3273\n",
      "Epoch 31, Loss G:  0.7306,Loss D: -0.1342\n",
      "Epoch 32, Loss G:  0.9185,Loss D: -0.3266\n",
      "Epoch 33, Loss G:  1.0903,Loss D: -0.4077\n",
      "Epoch 34, Loss G:  0.8239,Loss D: -0.1464\n",
      "Epoch 35, Loss G:  0.5000,Loss D: -0.2090\n",
      "Epoch 36, Loss G:  0.7154,Loss D: -0.3345\n",
      "Epoch 37, Loss G:  0.6619,Loss D: -0.3243\n",
      "Epoch 38, Loss G:  0.5417,Loss D: -0.2237\n",
      "Epoch 39, Loss G:  0.6170,Loss D: -0.2881\n",
      "Epoch 40, Loss G:  0.5784,Loss D: -0.1959\n",
      "Epoch 41, Loss G:  0.3907,Loss D: -0.2523\n",
      "Epoch 42, Loss G:  0.3016,Loss D: -0.3948\n",
      "Epoch 43, Loss G:  0.5227,Loss D: -0.1600\n",
      "Epoch 44, Loss G:  0.5318,Loss D: -0.0508\n",
      "Epoch 45, Loss G:  0.6851,Loss D: -0.3551\n",
      "Epoch 46, Loss G:  0.2879,Loss D: -0.0540\n",
      "Epoch 47, Loss G:  0.2649,Loss D: -0.5134\n",
      "Epoch 48, Loss G:  0.2044,Loss D: -0.4059\n",
      "Epoch 49, Loss G:  0.1390,Loss D:  0.1855\n",
      "Epoch 50, Loss G:  0.1982,Loss D:  0.0838\n",
      "Epoch 51, Loss G: -0.0416,Loss D: -0.1240\n",
      "Epoch 52, Loss G:  0.2597,Loss D: -0.1022\n",
      "Epoch 53, Loss G:  0.0896,Loss D:  0.0424\n",
      "Epoch 54, Loss G:  0.2419,Loss D:  0.0380\n",
      "Epoch 55, Loss G:  0.0605,Loss D: -0.1864\n",
      "Epoch 56, Loss G:  0.0007,Loss D: -0.0148\n",
      "Epoch 57, Loss G:  0.3124,Loss D: -0.2295\n",
      "Epoch 58, Loss G:  0.1217,Loss D: -0.1324\n",
      "Epoch 59, Loss G:  0.5547,Loss D:  0.2991\n",
      "Epoch 60, Loss G:  0.1240,Loss D: -0.1339\n",
      "Epoch 61, Loss G:  0.1714,Loss D:  0.1370\n",
      "Epoch 62, Loss G:  0.3452,Loss D: -0.0329\n",
      "Epoch 63, Loss G:  0.5195,Loss D: -0.1447\n",
      "Epoch 64, Loss G:  0.3071,Loss D: -0.0671\n",
      "Epoch 65, Loss G:  0.3887,Loss D: -0.1855\n",
      "Epoch 66, Loss G:  0.5106,Loss D:  0.0398\n",
      "Epoch 67, Loss G:  0.2071,Loss D: -0.2819\n",
      "Epoch 68, Loss G:  0.3108,Loss D:  0.1325\n",
      "Epoch 69, Loss G:  0.5082,Loss D:  0.1270\n",
      "Epoch 70, Loss G:  0.4372,Loss D:  0.0478\n"
     ]
    }
   ],
   "source": [
    "train_data = icustays_df\n",
    "model.fit(train_data)"
   ]
  },
  {
   "cell_type": "code",
   "execution_count": 58,
   "metadata": {},
   "outputs": [],
   "source": [
    "import cloudpickle\n",
    "\n",
    "with open(date_set_path + \"100_models/\" + \"icustays_model.pkl\", 'wb') as f:\n",
    "    cloudpickle.dump(model, f)"
   ]
  },
  {
   "cell_type": "code",
   "execution_count": 59,
   "metadata": {},
   "outputs": [],
   "source": [
    "# model.save(date_set_path + \"100_models/\" + \"icustays_model.pkl\")"
   ]
  },
  {
   "cell_type": "code",
   "execution_count": 60,
   "metadata": {},
   "outputs": [
    {
     "name": "stderr",
     "output_type": "stream",
     "text": [
      "Sampling rows: 100%|██████████| 100/100 [00:00<00:00, 1747.23it/s]\n"
     ]
    }
   ],
   "source": [
    "sample = model.sample(100)"
   ]
  },
  {
   "cell_type": "code",
   "execution_count": 61,
   "metadata": {},
   "outputs": [
    {
     "data": {
      "text/plain": [
       "201891    1\n",
       "244456    1\n",
       "273869    1\n",
       "220218    1\n",
       "255756    1\n",
       "         ..\n",
       "289426    1\n",
       "224507    1\n",
       "282084    1\n",
       "281177    1\n",
       "242456    1\n",
       "Name: icustay_id, Length: 100, dtype: int64"
      ]
     },
     "execution_count": 61,
     "metadata": {},
     "output_type": "execute_result"
    }
   ],
   "source": [
    "sample['icustay_id'].value_counts()"
   ]
  },
  {
   "cell_type": "code",
   "execution_count": 62,
   "metadata": {},
   "outputs": [
    {
     "data": {
      "text/html": [
       "<div>\n",
       "<style scoped>\n",
       "    .dataframe tbody tr th:only-of-type {\n",
       "        vertical-align: middle;\n",
       "    }\n",
       "\n",
       "    .dataframe tbody tr th {\n",
       "        vertical-align: top;\n",
       "    }\n",
       "\n",
       "    .dataframe thead th {\n",
       "        text-align: right;\n",
       "    }\n",
       "</style>\n",
       "<table border=\"1\" class=\"dataframe\">\n",
       "  <thead>\n",
       "    <tr style=\"text-align: right;\">\n",
       "      <th></th>\n",
       "      <th>icustay_id</th>\n",
       "      <th>dbsource</th>\n",
       "      <th>first_careunit</th>\n",
       "      <th>last_careunit</th>\n",
       "      <th>first_wardid</th>\n",
       "      <th>last_wardid</th>\n",
       "      <th>intime</th>\n",
       "      <th>outtime</th>\n",
       "    </tr>\n",
       "  </thead>\n",
       "  <tbody>\n",
       "    <tr>\n",
       "      <th>0</th>\n",
       "      <td>201891</td>\n",
       "      <td>metavision</td>\n",
       "      <td>CCU</td>\n",
       "      <td>CCU</td>\n",
       "      <td>7</td>\n",
       "      <td>7</td>\n",
       "      <td>10311.0</td>\n",
       "      <td>3120.0</td>\n",
       "    </tr>\n",
       "    <tr>\n",
       "      <th>1</th>\n",
       "      <td>204065</td>\n",
       "      <td>carevue</td>\n",
       "      <td>MICU</td>\n",
       "      <td>TSICU</td>\n",
       "      <td>7</td>\n",
       "      <td>11</td>\n",
       "      <td>40270.0</td>\n",
       "      <td>3120.0</td>\n",
       "    </tr>\n",
       "    <tr>\n",
       "      <th>2</th>\n",
       "      <td>247332</td>\n",
       "      <td>carevue</td>\n",
       "      <td>MICU</td>\n",
       "      <td>CCU</td>\n",
       "      <td>7</td>\n",
       "      <td>19</td>\n",
       "      <td>31.0</td>\n",
       "      <td>129627.0</td>\n",
       "    </tr>\n",
       "    <tr>\n",
       "      <th>3</th>\n",
       "      <td>209591</td>\n",
       "      <td>metavision</td>\n",
       "      <td>CCU</td>\n",
       "      <td>TSICU</td>\n",
       "      <td>22</td>\n",
       "      <td>57</td>\n",
       "      <td>31.0</td>\n",
       "      <td>3120.0</td>\n",
       "    </tr>\n",
       "    <tr>\n",
       "      <th>4</th>\n",
       "      <td>243804</td>\n",
       "      <td>metavision</td>\n",
       "      <td>MICU</td>\n",
       "      <td>NICU</td>\n",
       "      <td>14</td>\n",
       "      <td>45</td>\n",
       "      <td>31.0</td>\n",
       "      <td>46780.0</td>\n",
       "    </tr>\n",
       "  </tbody>\n",
       "</table>\n",
       "</div>"
      ],
      "text/plain": [
       "   icustay_id    dbsource first_careunit last_careunit  first_wardid  \\\n",
       "0      201891  metavision            CCU           CCU             7   \n",
       "1      204065     carevue           MICU         TSICU             7   \n",
       "2      247332     carevue           MICU           CCU             7   \n",
       "3      209591  metavision            CCU         TSICU            22   \n",
       "4      243804  metavision           MICU          NICU            14   \n",
       "\n",
       "   last_wardid   intime   outtime  \n",
       "0            7  10311.0    3120.0  \n",
       "1           11  40270.0    3120.0  \n",
       "2           19     31.0  129627.0  \n",
       "3           57     31.0    3120.0  \n",
       "4           45     31.0   46780.0  "
      ]
     },
     "execution_count": 62,
     "metadata": {},
     "output_type": "execute_result"
    }
   ],
   "source": [
    "sample.head()"
   ]
  },
  {
   "cell_type": "markdown",
   "metadata": {},
   "source": [
    "---\n",
    "\n",
    "## Evaluate data"
   ]
  },
  {
   "cell_type": "code",
   "execution_count": 63,
   "metadata": {},
   "outputs": [],
   "source": [
    "from sdv.evaluation import evaluate"
   ]
  },
  {
   "cell_type": "code",
   "execution_count": 64,
   "metadata": {},
   "outputs": [
    {
     "data": {
      "text/plain": [
       "Index(['icustay_id', 'dbsource', 'first_careunit', 'last_careunit',\n",
       "       'first_wardid', 'last_wardid', 'intime', 'outtime'],\n",
       "      dtype='object')"
      ]
     },
     "execution_count": 64,
     "metadata": {},
     "output_type": "execute_result"
    }
   ],
   "source": [
    "train_data.columns"
   ]
  },
  {
   "cell_type": "code",
   "execution_count": 65,
   "metadata": {},
   "outputs": [
    {
     "data": {
      "text/plain": [
       "0.4458508691491972"
      ]
     },
     "execution_count": 65,
     "metadata": {},
     "output_type": "execute_result"
    }
   ],
   "source": [
    "evaluate(sample, train_data, metrics=['DiscreteKLDivergence'])"
   ]
  },
  {
   "cell_type": "code",
   "execution_count": 66,
   "metadata": {},
   "outputs": [
    {
     "data": {
      "text/plain": [
       "0.2964071617205636"
      ]
     },
     "execution_count": 66,
     "metadata": {},
     "output_type": "execute_result"
    }
   ],
   "source": [
    "evaluate(sample, train_data, metrics=['ContinuousKLDivergence'])"
   ]
  },
  {
   "cell_type": "code",
   "execution_count": 67,
   "metadata": {},
   "outputs": [
    {
     "data": {
      "text/plain": [
       "carevue       56\n",
       "metavision    44\n",
       "Name: dbsource, dtype: int64"
      ]
     },
     "execution_count": 67,
     "metadata": {},
     "output_type": "execute_result"
    }
   ],
   "source": [
    "sample['dbsource'].value_counts()"
   ]
  },
  {
   "cell_type": "code",
   "execution_count": 68,
   "metadata": {},
   "outputs": [
    {
     "data": {
      "text/plain": [
       "<AxesSubplot:>"
      ]
     },
     "execution_count": 68,
     "metadata": {},
     "output_type": "execute_result"
    },
    {
     "data": {
      "image/png": "[encoded data removed]",
      "text/plain": [
       "<Figure size 432x288 with 1 Axes>"
      ]
     },
     "metadata": {
      "needs_background": "light"
     },
     "output_type": "display_data"
    }
   ],
   "source": [
    "sample['dbsource'].value_counts().plot.bar()"
   ]
  },
  {
   "cell_type": "code",
   "execution_count": 69,
   "metadata": {},
   "outputs": [
    {
     "data": {
      "text/plain": [
       "carevue       72\n",
       "metavision    52\n",
       "Name: dbsource, dtype: int64"
      ]
     },
     "execution_count": 69,
     "metadata": {},
     "output_type": "execute_result"
    }
   ],
   "source": [
    "train_data['dbsource'].value_counts()"
   ]
  },
  {
   "cell_type": "code",
   "execution_count": 70,
   "metadata": {},
   "outputs": [
    {
     "data": {
      "text/plain": [
       "<AxesSubplot:>"
      ]
     },
     "execution_count": 70,
     "metadata": {},
     "output_type": "execute_result"
    },
    {
     "data": {
      "image/png": "[encoded data removed]",
      "text/plain": [
       "<Figure size 432x288 with 1 Axes>"
      ]
     },
     "metadata": {
      "needs_background": "light"
     },
     "output_type": "display_data"
    }
   ],
   "source": [
    "train_data['dbsource'].value_counts().plot.bar()"
   ]
  }
 ],
 "metadata": {
  "kernelspec": {
   "display_name": "Python 3.8.13 ('msc_project')",
   "language": "python",
   "name": "python3"
  },
  "language_info": {
   "codemirror_mode": {
    "name": "ipython",
    "version": 3
   },
   "file_extension": ".py",
   "mimetype": "text/x-python",
   "name": "python",
   "nbconvert_exporter": "python",
   "pygments_lexer": "ipython3",
   "version": "3.8.13"
  },
  "orig_nbformat": 4,
  "vscode": {
   "interpreter": {
    "hash": "e56015fb566b08f7af163d42c82cf08fa5d6db3fbaaffa0afaaff5a893fc0496"
   }
  }
 },
 "nbformat": 4,
 "nbformat_minor": 2
}
