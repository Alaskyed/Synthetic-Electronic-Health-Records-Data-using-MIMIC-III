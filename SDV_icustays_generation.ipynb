{
 "cells": [
  {
   "cell_type": "code",
   "execution_count": 1,
   "metadata": {},
   "outputs": [],
   "source": [
    "# from google.colab import drive\n",
    "# drive.mount('/content/drive')"
   ]
  },
  {
   "cell_type": "code",
   "execution_count": 2,
   "metadata": {},
   "outputs": [],
   "source": [
    "# ! pip install pgmpy"
   ]
  },
  {
   "cell_type": "code",
   "execution_count": 3,
   "metadata": {},
   "outputs": [],
   "source": [
    "# Ignore warnings\n",
    "import warnings\n",
    "warnings.filterwarnings(\"ignore\")"
   ]
  },
  {
   "cell_type": "code",
   "execution_count": 4,
   "metadata": {},
   "outputs": [],
   "source": [
    "import pandas as pd\n",
    "import numpy as np\n",
    "\n",
    "import common"
   ]
  },
  {
   "cell_type": "code",
   "execution_count": 5,
   "metadata": {},
   "outputs": [],
   "source": [
    "date_set_path = \"../temp_sets_100/\""
   ]
  },
  {
   "cell_type": "markdown",
   "metadata": {},
   "source": [
    "## icustays"
   ]
  },
  {
   "cell_type": "markdown",
   "metadata": {},
   "source": [
    "### Read samples"
   ]
  },
  {
   "cell_type": "code",
   "execution_count": 6,
   "metadata": {},
   "outputs": [],
   "source": [
    "icustays_df = common.read_csv_no_rowid(date_set_path+\"icustays.csv\")"
   ]
  },
  {
   "cell_type": "markdown",
   "metadata": {},
   "source": [
    "### Data preproces"
   ]
  },
  {
   "cell_type": "code",
   "execution_count": 7,
   "metadata": {},
   "outputs": [],
   "source": [
    "# Drop useless colums\n",
    "icustays_df.drop(['los'], axis=1, inplace=True)"
   ]
  },
  {
   "cell_type": "markdown",
   "metadata": {},
   "source": [
    "#### Deal with null values"
   ]
  },
  {
   "cell_type": "code",
   "execution_count": 8,
   "metadata": {},
   "outputs": [
    {
     "name": "stdout",
     "output_type": "stream",
     "text": [
      "Total columns: 10\n",
      "Total rows: 124\n",
      "--------------\n",
      "subject_id        0\n",
      "hadm_id           0\n",
      "icustay_id        0\n",
      "dbsource          0\n",
      "first_careunit    0\n",
      "last_careunit     0\n",
      "first_wardid      0\n",
      "last_wardid       0\n",
      "intime            0\n",
      "outtime           0\n",
      "dtype: int64\n"
     ]
    }
   ],
   "source": [
    "# Check null value in table\n",
    "common.nan_count(icustays_df)"
   ]
  },
  {
   "cell_type": "markdown",
   "metadata": {},
   "source": [
    "#### Set the column types"
   ]
  },
  {
   "cell_type": "code",
   "execution_count": 9,
   "metadata": {},
   "outputs": [
    {
     "data": {
      "text/plain": [
       "subject_id         int64\n",
       "hadm_id            int64\n",
       "icustay_id         int64\n",
       "dbsource          object\n",
       "first_careunit    object\n",
       "last_careunit     object\n",
       "first_wardid       int64\n",
       "last_wardid        int64\n",
       "intime            object\n",
       "outtime           object\n",
       "dtype: object"
      ]
     },
     "execution_count": 9,
     "metadata": {},
     "output_type": "execute_result"
    }
   ],
   "source": [
    "icustays_df.dtypes"
   ]
  },
  {
   "cell_type": "code",
   "execution_count": 10,
   "metadata": {},
   "outputs": [],
   "source": [
    "# Transfer some date type\n",
    "icustays_df['intime'] = pd.to_datetime(icustays_df['intime'])\n",
    "icustays_df['outtime'] = pd.to_datetime(icustays_df['outtime'])"
   ]
  },
  {
   "cell_type": "code",
   "execution_count": 11,
   "metadata": {},
   "outputs": [
    {
     "data": {
      "text/plain": [
       "subject_id                 int64\n",
       "hadm_id                    int64\n",
       "icustay_id                 int64\n",
       "dbsource                  object\n",
       "first_careunit            object\n",
       "last_careunit             object\n",
       "first_wardid               int64\n",
       "last_wardid                int64\n",
       "intime            datetime64[ns]\n",
       "outtime           datetime64[ns]\n",
       "dtype: object"
      ]
     },
     "execution_count": 11,
     "metadata": {},
     "output_type": "execute_result"
    }
   ],
   "source": [
    "icustays_df.dtypes"
   ]
  },
  {
   "cell_type": "markdown",
   "metadata": {},
   "source": [
    "#### Deal with some special value"
   ]
  },
  {
   "cell_type": "code",
   "execution_count": 12,
   "metadata": {},
   "outputs": [
    {
     "data": {
      "text/html": [
       "<div>\n",
       "<style scoped>\n",
       "    .dataframe tbody tr th:only-of-type {\n",
       "        vertical-align: middle;\n",
       "    }\n",
       "\n",
       "    .dataframe tbody tr th {\n",
       "        vertical-align: top;\n",
       "    }\n",
       "\n",
       "    .dataframe thead th {\n",
       "        text-align: right;\n",
       "    }\n",
       "</style>\n",
       "<table border=\"1\" class=\"dataframe\">\n",
       "  <thead>\n",
       "    <tr style=\"text-align: right;\">\n",
       "      <th></th>\n",
       "      <th>subject_id</th>\n",
       "      <th>hadm_id</th>\n",
       "      <th>icustay_id</th>\n",
       "      <th>dbsource</th>\n",
       "      <th>first_careunit</th>\n",
       "      <th>last_careunit</th>\n",
       "      <th>first_wardid</th>\n",
       "      <th>last_wardid</th>\n",
       "      <th>intime</th>\n",
       "      <th>outtime</th>\n",
       "    </tr>\n",
       "  </thead>\n",
       "  <tbody>\n",
       "    <tr>\n",
       "      <th>0</th>\n",
       "      <td>569</td>\n",
       "      <td>116412</td>\n",
       "      <td>271533</td>\n",
       "      <td>carevue</td>\n",
       "      <td>CCU</td>\n",
       "      <td>CCU</td>\n",
       "      <td>7</td>\n",
       "      <td>7</td>\n",
       "      <td>2105-02-21 13:33:20</td>\n",
       "      <td>2105-02-23 17:46:48</td>\n",
       "    </tr>\n",
       "    <tr>\n",
       "      <th>1</th>\n",
       "      <td>26282</td>\n",
       "      <td>123094</td>\n",
       "      <td>224604</td>\n",
       "      <td>carevue</td>\n",
       "      <td>SICU</td>\n",
       "      <td>SICU</td>\n",
       "      <td>57</td>\n",
       "      <td>57</td>\n",
       "      <td>2152-03-31 23:27:42</td>\n",
       "      <td>2152-04-01 21:11:12</td>\n",
       "    </tr>\n",
       "    <tr>\n",
       "      <th>2</th>\n",
       "      <td>1762</td>\n",
       "      <td>126479</td>\n",
       "      <td>266937</td>\n",
       "      <td>carevue</td>\n",
       "      <td>NICU</td>\n",
       "      <td>NICU</td>\n",
       "      <td>56</td>\n",
       "      <td>56</td>\n",
       "      <td>2120-03-19 10:03:24</td>\n",
       "      <td>2120-03-27 16:11:07</td>\n",
       "    </tr>\n",
       "    <tr>\n",
       "      <th>3</th>\n",
       "      <td>14481</td>\n",
       "      <td>129421</td>\n",
       "      <td>224797</td>\n",
       "      <td>carevue</td>\n",
       "      <td>SICU</td>\n",
       "      <td>SICU</td>\n",
       "      <td>14</td>\n",
       "      <td>14</td>\n",
       "      <td>2116-05-08 21:43:00</td>\n",
       "      <td>2116-05-09 13:10:00</td>\n",
       "    </tr>\n",
       "    <tr>\n",
       "      <th>4</th>\n",
       "      <td>21470</td>\n",
       "      <td>107803</td>\n",
       "      <td>286277</td>\n",
       "      <td>carevue</td>\n",
       "      <td>NICU</td>\n",
       "      <td>NICU</td>\n",
       "      <td>26</td>\n",
       "      <td>26</td>\n",
       "      <td>2195-05-20 10:32:00</td>\n",
       "      <td>2195-05-20 15:47:00</td>\n",
       "    </tr>\n",
       "  </tbody>\n",
       "</table>\n",
       "</div>"
      ],
      "text/plain": [
       "   subject_id  hadm_id  icustay_id dbsource first_careunit last_careunit  \\\n",
       "0         569   116412      271533  carevue            CCU           CCU   \n",
       "1       26282   123094      224604  carevue           SICU          SICU   \n",
       "2        1762   126479      266937  carevue           NICU          NICU   \n",
       "3       14481   129421      224797  carevue           SICU          SICU   \n",
       "4       21470   107803      286277  carevue           NICU          NICU   \n",
       "\n",
       "   first_wardid  last_wardid              intime             outtime  \n",
       "0             7            7 2105-02-21 13:33:20 2105-02-23 17:46:48  \n",
       "1            57           57 2152-03-31 23:27:42 2152-04-01 21:11:12  \n",
       "2            56           56 2120-03-19 10:03:24 2120-03-27 16:11:07  \n",
       "3            14           14 2116-05-08 21:43:00 2116-05-09 13:10:00  \n",
       "4            26           26 2195-05-20 10:32:00 2195-05-20 15:47:00  "
      ]
     },
     "execution_count": 12,
     "metadata": {},
     "output_type": "execute_result"
    }
   ],
   "source": [
    "icustays_df.head()"
   ]
  },
  {
   "cell_type": "markdown",
   "metadata": {},
   "source": [
    "---"
   ]
  },
  {
   "cell_type": "markdown",
   "metadata": {},
   "source": [
    "##  Build Network"
   ]
  },
  {
   "cell_type": "code",
   "execution_count": 13,
   "metadata": {},
   "outputs": [],
   "source": [
    "from sdv.tabular import CTGAN\n",
    "from sdv.constraints import FixedCombinations\n",
    "from sdv.constraints import create_custom_constraint"
   ]
  },
  {
   "cell_type": "code",
   "execution_count": 14,
   "metadata": {},
   "outputs": [
    {
     "data": {
      "text/plain": [
       "Index(['subject_id', 'hadm_id', 'icustay_id', 'dbsource', 'first_careunit',\n",
       "       'last_careunit', 'first_wardid', 'last_wardid', 'intime', 'outtime'],\n",
       "      dtype='object')"
      ]
     },
     "execution_count": 14,
     "metadata": {},
     "output_type": "execute_result"
    }
   ],
   "source": [
    "icustays_df.columns"
   ]
  },
  {
   "cell_type": "markdown",
   "metadata": {},
   "source": [
    "### Set constraint"
   ]
  },
  {
   "cell_type": "code",
   "execution_count": 15,
   "metadata": {},
   "outputs": [
    {
     "data": {
      "text/plain": [
       "0"
      ]
     },
     "execution_count": 15,
     "metadata": {},
     "output_type": "execute_result"
    }
   ],
   "source": [
    "(icustays_df['outtime'] - icustays_df['intime']).apply(lambda x: x.days).min()"
   ]
  },
  {
   "cell_type": "code",
   "execution_count": 16,
   "metadata": {},
   "outputs": [],
   "source": [
    "def time_is_valid(column_names, data):\n",
    "    intime_outtime = ((data['outtime'] - data['intime']).apply(lambda x: 0 <= x.days  <= 365))\n",
    "    \n",
    "    return intime_outtime"
   ]
  },
  {
   "cell_type": "code",
   "execution_count": 17,
   "metadata": {},
   "outputs": [],
   "source": [
    "def time_trasform(column_names, data):\n",
    "    # print(data.loc[:, ['dod', 'dod_hosp', 'dod_ssn']])\n",
    "    return data\n",
    "\n",
    "def time_reverse_transform(column_names, transformed_data):\n",
    "    transformed_data['intime'] = pd.to_datetime(transformed_data['intime'])\n",
    "    transformed_data['outtime'] = pd.to_datetime(transformed_data['outtime'])\n",
    "\n",
    "    return transformed_data"
   ]
  },
  {
   "cell_type": "code",
   "execution_count": 18,
   "metadata": {},
   "outputs": [],
   "source": [
    "TimeProcess = create_custom_constraint(\n",
    "    is_valid_fn=time_is_valid,\n",
    "    transform_fn=time_trasform,\n",
    "    reverse_transform_fn=time_reverse_transform\n",
    ")"
   ]
  },
  {
   "cell_type": "code",
   "execution_count": 19,
   "metadata": {},
   "outputs": [],
   "source": [
    "time_constraint = TimeProcess(\n",
    "    column_names=['intime', 'outtime']\n",
    ")"
   ]
  },
  {
   "cell_type": "code",
   "execution_count": 20,
   "metadata": {},
   "outputs": [],
   "source": [
    "constrains = [time_constraint]"
   ]
  },
  {
   "cell_type": "markdown",
   "metadata": {},
   "source": [
    "### Build model"
   ]
  },
  {
   "cell_type": "code",
   "execution_count": 21,
   "metadata": {},
   "outputs": [],
   "source": [
    "model = CTGAN(\n",
    "    # constraints=constrains, \n",
    "    # generator_lr=0.0005,\n",
    "    batch_size=100,\n",
    "    cuda=True, \n",
    "    verbose=True, \n",
    "    epochs=50)"
   ]
  },
  {
   "cell_type": "code",
   "execution_count": 22,
   "metadata": {},
   "outputs": [
    {
     "data": {
      "text/plain": [
       "124"
      ]
     },
     "execution_count": 22,
     "metadata": {},
     "output_type": "execute_result"
    }
   ],
   "source": [
    "len(icustays_df)"
   ]
  },
  {
   "cell_type": "code",
   "execution_count": 23,
   "metadata": {},
   "outputs": [
    {
     "name": "stdout",
     "output_type": "stream",
     "text": [
      "Epoch 1, Loss G:  1.4511,Loss D: -0.0030\n",
      "Epoch 2, Loss G:  1.3786,Loss D: -0.0093\n",
      "Epoch 3, Loss G:  1.4435,Loss D:  0.0100\n",
      "Epoch 4, Loss G:  1.3366,Loss D: -0.0125\n",
      "Epoch 5, Loss G:  1.4390,Loss D:  0.0429\n",
      "Epoch 6, Loss G:  1.5456,Loss D:  0.0031\n",
      "Epoch 7, Loss G:  1.4775,Loss D:  0.0306\n",
      "Epoch 8, Loss G:  1.4216,Loss D: -0.0421\n",
      "Epoch 9, Loss G:  1.3093,Loss D: -0.1282\n",
      "Epoch 10, Loss G:  1.4577,Loss D: -0.1666\n",
      "Epoch 11, Loss G:  1.4631,Loss D: -0.0707\n",
      "Epoch 12, Loss G:  1.3093,Loss D: -0.0856\n",
      "Epoch 13, Loss G:  1.3373,Loss D: -0.1300\n",
      "Epoch 14, Loss G:  1.3277,Loss D: -0.0458\n",
      "Epoch 15, Loss G:  1.4437,Loss D:  0.0191\n",
      "Epoch 16, Loss G:  1.4331,Loss D: -0.0582\n",
      "Epoch 17, Loss G:  1.3265,Loss D: -0.0933\n",
      "Epoch 18, Loss G:  1.3486,Loss D:  0.0010\n",
      "Epoch 19, Loss G:  1.1094,Loss D: -0.1541\n",
      "Epoch 20, Loss G:  1.1383,Loss D: -0.0760\n",
      "Epoch 21, Loss G:  1.1809,Loss D: -0.0510\n",
      "Epoch 22, Loss G:  1.1831,Loss D: -0.0639\n",
      "Epoch 23, Loss G:  1.2642,Loss D: -0.1950\n",
      "Epoch 24, Loss G:  1.1476,Loss D: -0.1766\n",
      "Epoch 25, Loss G:  1.1629,Loss D: -0.0934\n",
      "Epoch 26, Loss G:  1.0947,Loss D: -0.2324\n",
      "Epoch 27, Loss G:  1.1271,Loss D: -0.0685\n",
      "Epoch 28, Loss G:  1.0855,Loss D: -0.1365\n",
      "Epoch 29, Loss G:  0.9226,Loss D: -0.1513\n",
      "Epoch 30, Loss G:  1.1245,Loss D: -0.1762\n",
      "Epoch 31, Loss G:  1.2008,Loss D: -0.1701\n",
      "Epoch 32, Loss G:  1.1120,Loss D: -0.2272\n",
      "Epoch 33, Loss G:  0.9864,Loss D: -0.2023\n",
      "Epoch 34, Loss G:  1.0884,Loss D: -0.4419\n",
      "Epoch 35, Loss G:  0.7616,Loss D: -0.1154\n",
      "Epoch 36, Loss G:  0.8665,Loss D: -0.1490\n",
      "Epoch 37, Loss G:  1.0467,Loss D: -0.2328\n",
      "Epoch 38, Loss G:  0.8862,Loss D: -0.5175\n",
      "Epoch 39, Loss G:  1.1141,Loss D: -0.0073\n",
      "Epoch 40, Loss G:  0.8152,Loss D: -0.3006\n",
      "Epoch 41, Loss G:  0.7150,Loss D: -0.2071\n",
      "Epoch 42, Loss G:  0.6924,Loss D:  0.0416\n",
      "Epoch 43, Loss G:  0.4814,Loss D: -0.0557\n",
      "Epoch 44, Loss G:  0.6288,Loss D: -0.3166\n",
      "Epoch 45, Loss G:  0.6257,Loss D:  0.0648\n",
      "Epoch 46, Loss G:  0.8572,Loss D: -0.4444\n",
      "Epoch 47, Loss G:  0.6111,Loss D:  0.0908\n",
      "Epoch 48, Loss G:  0.8097,Loss D:  0.0023\n",
      "Epoch 49, Loss G:  0.8010,Loss D: -0.0052\n",
      "Epoch 50, Loss G:  0.5540,Loss D:  0.1085\n"
     ]
    }
   ],
   "source": [
    "train_data = icustays_df\n",
    "model.fit(train_data)"
   ]
  },
  {
   "cell_type": "code",
   "execution_count": 24,
   "metadata": {},
   "outputs": [],
   "source": [
    "import cloudpickle\n",
    "\n",
    "with open(date_set_path + \"100_models/\" + \"icustays_model.pkl\", 'wb') as f:\n",
    "    cloudpickle.dump(model, f)"
   ]
  },
  {
   "cell_type": "code",
   "execution_count": 25,
   "metadata": {},
   "outputs": [],
   "source": [
    "# model.save(date_set_path + \"100_models/\" + \"icustays_model.pkl\")"
   ]
  },
  {
   "cell_type": "code",
   "execution_count": 26,
   "metadata": {},
   "outputs": [],
   "source": [
    "sample = model.sample(100)"
   ]
  },
  {
   "cell_type": "code",
   "execution_count": 27,
   "metadata": {},
   "outputs": [
    {
     "data": {
      "text/html": [
       "<div>\n",
       "<style scoped>\n",
       "    .dataframe tbody tr th:only-of-type {\n",
       "        vertical-align: middle;\n",
       "    }\n",
       "\n",
       "    .dataframe tbody tr th {\n",
       "        vertical-align: top;\n",
       "    }\n",
       "\n",
       "    .dataframe thead th {\n",
       "        text-align: right;\n",
       "    }\n",
       "</style>\n",
       "<table border=\"1\" class=\"dataframe\">\n",
       "  <thead>\n",
       "    <tr style=\"text-align: right;\">\n",
       "      <th></th>\n",
       "      <th>subject_id</th>\n",
       "      <th>hadm_id</th>\n",
       "      <th>icustay_id</th>\n",
       "      <th>dbsource</th>\n",
       "      <th>first_careunit</th>\n",
       "      <th>last_careunit</th>\n",
       "      <th>first_wardid</th>\n",
       "      <th>last_wardid</th>\n",
       "      <th>intime</th>\n",
       "      <th>outtime</th>\n",
       "    </tr>\n",
       "  </thead>\n",
       "  <tbody>\n",
       "    <tr>\n",
       "      <th>0</th>\n",
       "      <td>59999</td>\n",
       "      <td>181470</td>\n",
       "      <td>283907</td>\n",
       "      <td>carevue</td>\n",
       "      <td>SICU</td>\n",
       "      <td>CSRU</td>\n",
       "      <td>7</td>\n",
       "      <td>7</td>\n",
       "      <td>2106-11-06 11:07:59.069455360</td>\n",
       "      <td>2139-11-09 08:17:38.956508160</td>\n",
       "    </tr>\n",
       "    <tr>\n",
       "      <th>1</th>\n",
       "      <td>41643</td>\n",
       "      <td>100223</td>\n",
       "      <td>207367</td>\n",
       "      <td>metavision</td>\n",
       "      <td>CSRU</td>\n",
       "      <td>CSRU</td>\n",
       "      <td>7</td>\n",
       "      <td>12</td>\n",
       "      <td>2095-09-13 07:59:53.891051520</td>\n",
       "      <td>2100-11-27 19:12:17.320804352</td>\n",
       "    </tr>\n",
       "    <tr>\n",
       "      <th>2</th>\n",
       "      <td>11284</td>\n",
       "      <td>142332</td>\n",
       "      <td>228735</td>\n",
       "      <td>carevue</td>\n",
       "      <td>NICU</td>\n",
       "      <td>CSRU</td>\n",
       "      <td>7</td>\n",
       "      <td>7</td>\n",
       "      <td>2102-12-28 20:21:19.410435072</td>\n",
       "      <td>2165-10-16 06:56:40.899204096</td>\n",
       "    </tr>\n",
       "    <tr>\n",
       "      <th>3</th>\n",
       "      <td>99503</td>\n",
       "      <td>159194</td>\n",
       "      <td>299407</td>\n",
       "      <td>metavision</td>\n",
       "      <td>SICU</td>\n",
       "      <td>NICU</td>\n",
       "      <td>7</td>\n",
       "      <td>7</td>\n",
       "      <td>2107-02-22 16:08:56.630075392</td>\n",
       "      <td>2208-03-15 23:02:09.386450944</td>\n",
       "    </tr>\n",
       "    <tr>\n",
       "      <th>4</th>\n",
       "      <td>99503</td>\n",
       "      <td>109790</td>\n",
       "      <td>265116</td>\n",
       "      <td>metavision</td>\n",
       "      <td>MICU</td>\n",
       "      <td>CCU</td>\n",
       "      <td>13</td>\n",
       "      <td>17</td>\n",
       "      <td>2105-01-21 17:23:14.514159616</td>\n",
       "      <td>2136-01-01 05:55:29.774772224</td>\n",
       "    </tr>\n",
       "  </tbody>\n",
       "</table>\n",
       "</div>"
      ],
      "text/plain": [
       "   subject_id  hadm_id  icustay_id    dbsource first_careunit last_careunit  \\\n",
       "0       59999   181470      283907     carevue           SICU          CSRU   \n",
       "1       41643   100223      207367  metavision           CSRU          CSRU   \n",
       "2       11284   142332      228735     carevue           NICU          CSRU   \n",
       "3       99503   159194      299407  metavision           SICU          NICU   \n",
       "4       99503   109790      265116  metavision           MICU           CCU   \n",
       "\n",
       "   first_wardid  last_wardid                        intime  \\\n",
       "0             7            7 2106-11-06 11:07:59.069455360   \n",
       "1             7           12 2095-09-13 07:59:53.891051520   \n",
       "2             7            7 2102-12-28 20:21:19.410435072   \n",
       "3             7            7 2107-02-22 16:08:56.630075392   \n",
       "4            13           17 2105-01-21 17:23:14.514159616   \n",
       "\n",
       "                        outtime  \n",
       "0 2139-11-09 08:17:38.956508160  \n",
       "1 2100-11-27 19:12:17.320804352  \n",
       "2 2165-10-16 06:56:40.899204096  \n",
       "3 2208-03-15 23:02:09.386450944  \n",
       "4 2136-01-01 05:55:29.774772224  "
      ]
     },
     "execution_count": 27,
     "metadata": {},
     "output_type": "execute_result"
    }
   ],
   "source": [
    "sample.head()"
   ]
  },
  {
   "cell_type": "markdown",
   "metadata": {},
   "source": [
    "### Process the generated data"
   ]
  },
  {
   "cell_type": "markdown",
   "metadata": {},
   "source": [
    "---"
   ]
  },
  {
   "cell_type": "markdown",
   "metadata": {},
   "source": [
    "## Evaluate data"
   ]
  },
  {
   "cell_type": "code",
   "execution_count": 28,
   "metadata": {},
   "outputs": [],
   "source": [
    "from sdv.evaluation import evaluate"
   ]
  },
  {
   "cell_type": "code",
   "execution_count": 29,
   "metadata": {},
   "outputs": [
    {
     "data": {
      "text/plain": [
       "Index(['subject_id', 'hadm_id', 'icustay_id', 'dbsource', 'first_careunit',\n",
       "       'last_careunit', 'first_wardid', 'last_wardid', 'intime', 'outtime'],\n",
       "      dtype='object')"
      ]
     },
     "execution_count": 29,
     "metadata": {},
     "output_type": "execute_result"
    }
   ],
   "source": [
    "train_data.columns"
   ]
  },
  {
   "cell_type": "code",
   "execution_count": 30,
   "metadata": {},
   "outputs": [
    {
     "data": {
      "text/plain": [
       "0.3103376251843734"
      ]
     },
     "execution_count": 30,
     "metadata": {},
     "output_type": "execute_result"
    }
   ],
   "source": [
    "evaluate(sample, train_data, metrics=['DiscreteKLDivergence'])"
   ]
  },
  {
   "cell_type": "code",
   "execution_count": 31,
   "metadata": {},
   "outputs": [
    {
     "data": {
      "text/plain": [
       "0.16480159070027522"
      ]
     },
     "execution_count": 31,
     "metadata": {},
     "output_type": "execute_result"
    }
   ],
   "source": [
    "evaluate(sample, train_data, metrics=['ContinuousKLDivergence'])"
   ]
  },
  {
   "cell_type": "code",
   "execution_count": 32,
   "metadata": {},
   "outputs": [
    {
     "data": {
      "text/plain": [
       "carevue       54\n",
       "metavision    46\n",
       "Name: dbsource, dtype: int64"
      ]
     },
     "execution_count": 32,
     "metadata": {},
     "output_type": "execute_result"
    }
   ],
   "source": [
    "sample['dbsource'].value_counts()"
   ]
  },
  {
   "cell_type": "code",
   "execution_count": 33,
   "metadata": {},
   "outputs": [
    {
     "data": {
      "text/plain": [
       "<AxesSubplot:>"
      ]
     },
     "execution_count": 33,
     "metadata": {},
     "output_type": "execute_result"
    },
    {
     "data": {
      "image/png": "[encoded data removed]",
      "text/plain": [
       "<Figure size 432x288 with 1 Axes>"
      ]
     },
     "metadata": {
      "needs_background": "light"
     },
     "output_type": "display_data"
    }
   ],
   "source": [
    "sample['dbsource'].value_counts().plot.bar()"
   ]
  },
  {
   "cell_type": "code",
   "execution_count": 34,
   "metadata": {},
   "outputs": [
    {
     "data": {
      "text/plain": [
       "carevue       72\n",
       "metavision    52\n",
       "Name: dbsource, dtype: int64"
      ]
     },
     "execution_count": 34,
     "metadata": {},
     "output_type": "execute_result"
    }
   ],
   "source": [
    "train_data['dbsource'].value_counts()"
   ]
  },
  {
   "cell_type": "code",
   "execution_count": 35,
   "metadata": {},
   "outputs": [
    {
     "data": {
      "text/plain": [
       "<AxesSubplot:>"
      ]
     },
     "execution_count": 35,
     "metadata": {},
     "output_type": "execute_result"
    },
    {
     "data": {
      "image/png": "[encoded data removed]",
      "text/plain": [
       "<Figure size 432x288 with 1 Axes>"
      ]
     },
     "metadata": {
      "needs_background": "light"
     },
     "output_type": "display_data"
    }
   ],
   "source": [
    "train_data['dbsource'].value_counts().plot.bar()"
   ]
  }
 ],
 "metadata": {
  "kernelspec": {
   "display_name": "Python 3.8.13 ('msc_project')",
   "language": "python",
   "name": "python3"
  },
  "language_info": {
   "codemirror_mode": {
    "name": "ipython",
    "version": 3
   },
   "file_extension": ".py",
   "mimetype": "text/x-python",
   "name": "python",
   "nbconvert_exporter": "python",
   "pygments_lexer": "ipython3",
   "version": "3.8.13"
  },
  "orig_nbformat": 4,
  "vscode": {
   "interpreter": {
    "hash": "e56015fb566b08f7af163d42c82cf08fa5d6db3fbaaffa0afaaff5a893fc0496"
   }
  }
 },
 "nbformat": 4,
 "nbformat_minor": 2
}
