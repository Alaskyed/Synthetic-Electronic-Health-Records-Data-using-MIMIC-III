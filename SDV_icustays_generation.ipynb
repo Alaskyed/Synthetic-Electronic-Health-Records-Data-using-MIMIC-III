{
 "cells": [
  {
   "cell_type": "code",
   "execution_count": 26,
   "metadata": {},
   "outputs": [],
   "source": [
    "# from google.colab import drive\n",
    "# drive.mount('/content/drive')"
   ]
  },
  {
   "cell_type": "code",
   "execution_count": 27,
   "metadata": {},
   "outputs": [],
   "source": [
    "# ! pip install pgmpy"
   ]
  },
  {
   "cell_type": "code",
   "execution_count": 28,
   "metadata": {},
   "outputs": [],
   "source": [
    "# Ignore warnings\n",
    "import warnings\n",
    "warnings.filterwarnings(\"ignore\")"
   ]
  },
  {
   "cell_type": "code",
   "execution_count": 29,
   "metadata": {},
   "outputs": [],
   "source": [
    "import pandas as pd\n",
    "import numpy as np\n",
    "\n",
    "import common"
   ]
  },
  {
   "cell_type": "code",
   "execution_count": 30,
   "metadata": {},
   "outputs": [],
   "source": [
    "data_set_path = \"../temp_sets_100/\""
   ]
  },
  {
   "cell_type": "markdown",
   "metadata": {},
   "source": [
    "# icustays"
   ]
  },
  {
   "cell_type": "markdown",
   "metadata": {},
   "source": [
    "## Read samples"
   ]
  },
  {
   "cell_type": "code",
   "execution_count": 31,
   "metadata": {},
   "outputs": [],
   "source": [
    "icustays_df = common.read_csv_no_rowid(data_set_path+\"icustays.csv\")"
   ]
  },
  {
   "cell_type": "code",
   "execution_count": 32,
   "metadata": {},
   "outputs": [
    {
     "data": {
      "text/plain": [
       "268209    1\n",
       "276223    1\n",
       "226689    1\n",
       "237618    1\n",
       "279581    1\n",
       "         ..\n",
       "233264    1\n",
       "207733    1\n",
       "240963    1\n",
       "210678    1\n",
       "247962    1\n",
       "Name: icustay_id, Length: 156, dtype: int64"
      ]
     },
     "execution_count": 32,
     "metadata": {},
     "output_type": "execute_result"
    }
   ],
   "source": [
    "icustays_df['icustay_id'].value_counts()"
   ]
  },
  {
   "cell_type": "markdown",
   "metadata": {},
   "source": [
    "## Data preproces"
   ]
  },
  {
   "cell_type": "code",
   "execution_count": 33,
   "metadata": {},
   "outputs": [],
   "source": [
    "# Drop useless colums\n",
    "icustays_df.drop(['los'], axis=1, inplace=True)"
   ]
  },
  {
   "cell_type": "markdown",
   "metadata": {},
   "source": [
    "### Process null values"
   ]
  },
  {
   "cell_type": "code",
   "execution_count": 34,
   "metadata": {},
   "outputs": [
    {
     "name": "stdout",
     "output_type": "stream",
     "text": [
      "Total columns: 10\n",
      "Total rows: 156\n",
      "--------------\n",
      "subject_id        0\n",
      "hadm_id           0\n",
      "icustay_id        0\n",
      "dbsource          0\n",
      "first_careunit    0\n",
      "last_careunit     0\n",
      "first_wardid      0\n",
      "last_wardid       0\n",
      "intime            0\n",
      "outtime           0\n",
      "dtype: int64\n"
     ]
    }
   ],
   "source": [
    "# Check null value in table\n",
    "common.nan_count(icustays_df)"
   ]
  },
  {
   "cell_type": "markdown",
   "metadata": {},
   "source": [
    "### Set the column types"
   ]
  },
  {
   "cell_type": "code",
   "execution_count": 35,
   "metadata": {},
   "outputs": [
    {
     "data": {
      "text/plain": [
       "subject_id         int64\n",
       "hadm_id            int64\n",
       "icustay_id         int64\n",
       "dbsource          object\n",
       "first_careunit    object\n",
       "last_careunit     object\n",
       "first_wardid       int64\n",
       "last_wardid        int64\n",
       "intime            object\n",
       "outtime           object\n",
       "dtype: object"
      ]
     },
     "execution_count": 35,
     "metadata": {},
     "output_type": "execute_result"
    }
   ],
   "source": [
    "icustays_df.dtypes"
   ]
  },
  {
   "cell_type": "code",
   "execution_count": 36,
   "metadata": {},
   "outputs": [],
   "source": [
    "# Transfer some date type\n",
    "icustays_df['intime'] = pd.to_datetime(icustays_df['intime'])\n",
    "icustays_df['outtime'] = pd.to_datetime(icustays_df['outtime'])"
   ]
  },
  {
   "cell_type": "code",
   "execution_count": 37,
   "metadata": {},
   "outputs": [
    {
     "data": {
      "text/plain": [
       "subject_id                 int64\n",
       "hadm_id                    int64\n",
       "icustay_id                 int64\n",
       "dbsource                  object\n",
       "first_careunit            object\n",
       "last_careunit             object\n",
       "first_wardid               int64\n",
       "last_wardid                int64\n",
       "intime            datetime64[ns]\n",
       "outtime           datetime64[ns]\n",
       "dtype: object"
      ]
     },
     "execution_count": 37,
     "metadata": {},
     "output_type": "execute_result"
    }
   ],
   "source": [
    "icustays_df.dtypes"
   ]
  },
  {
   "cell_type": "markdown",
   "metadata": {},
   "source": [
    "### Process time value"
   ]
  },
  {
   "cell_type": "code",
   "execution_count": 38,
   "metadata": {},
   "outputs": [],
   "source": [
    "admissions_df = common.read_csv_no_rowid(data_set_path+\"admissions.csv\")"
   ]
  },
  {
   "cell_type": "code",
   "execution_count": 39,
   "metadata": {},
   "outputs": [],
   "source": [
    "admittime_df = admissions_df.loc[:, ['hadm_id', 'admittime']]\n",
    "admittime_df['admittime'] = pd.to_datetime(admittime_df['admittime'])"
   ]
  },
  {
   "cell_type": "code",
   "execution_count": 40,
   "metadata": {},
   "outputs": [],
   "source": [
    "icustays_mid_df = pd.merge(left=icustays_df, right=admittime_df, how='left', on=['hadm_id'])"
   ]
  },
  {
   "cell_type": "code",
   "execution_count": 41,
   "metadata": {},
   "outputs": [],
   "source": [
    "icustays_mid_df['outtime'] = icustays_mid_df.apply(common.time_process, args=('intime', 'outtime'), axis=1)\n",
    "icustays_mid_df['intime'] = icustays_mid_df.apply(common.time_process, args=('admittime', 'intime'), axis=1)"
   ]
  },
  {
   "cell_type": "code",
   "execution_count": 42,
   "metadata": {},
   "outputs": [],
   "source": [
    "icustays_df = icustays_mid_df.drop(['subject_id', 'hadm_id', 'admittime'], axis=1)"
   ]
  },
  {
   "cell_type": "code",
   "execution_count": 43,
   "metadata": {},
   "outputs": [
    {
     "data": {
      "text/plain": [
       "Index(['icustay_id', 'dbsource', 'first_careunit', 'last_careunit',\n",
       "       'first_wardid', 'last_wardid', 'intime', 'outtime'],\n",
       "      dtype='object')"
      ]
     },
     "execution_count": 43,
     "metadata": {},
     "output_type": "execute_result"
    }
   ],
   "source": [
    "icustays_df.columns"
   ]
  },
  {
   "cell_type": "markdown",
   "metadata": {},
   "source": [
    "---\n",
    "\n",
    "##  Build Network"
   ]
  },
  {
   "cell_type": "code",
   "execution_count": 44,
   "metadata": {},
   "outputs": [],
   "source": [
    "from sdv.tabular import CTGAN\n"
   ]
  },
  {
   "cell_type": "code",
   "execution_count": 45,
   "metadata": {},
   "outputs": [
    {
     "data": {
      "text/plain": [
       "Index(['icustay_id', 'dbsource', 'first_careunit', 'last_careunit',\n",
       "       'first_wardid', 'last_wardid', 'intime', 'outtime'],\n",
       "      dtype='object')"
      ]
     },
     "execution_count": 45,
     "metadata": {},
     "output_type": "execute_result"
    }
   ],
   "source": [
    "icustays_df.columns"
   ]
  },
  {
   "cell_type": "markdown",
   "metadata": {},
   "source": [
    "### Set constraint"
   ]
  },
  {
   "cell_type": "code",
   "execution_count": 46,
   "metadata": {},
   "outputs": [],
   "source": [
    "# def time_is_valid(column_names, data):\n",
    "#     intime_outtime = ((data['outtime'] - data['intime']).apply(lambda x: 0 <= x.days  <= 365))\n",
    "    \n",
    "#     return intime_outtime\n",
    "\n",
    "# def time_trasform(column_names, data):\n",
    "#     # print(data.loc[:, ['dod', 'dod_hosp', 'dod_ssn']])\n",
    "#     return data\n",
    "\n",
    "# def time_reverse_transform(column_names, transformed_data):\n",
    "#     transformed_data['intime'] = pd.to_datetime(transformed_data['intime'])\n",
    "#     transformed_data['outtime'] = pd.to_datetime(transformed_data['outtime'])\n",
    "\n",
    "#     return transformed_data"
   ]
  },
  {
   "cell_type": "code",
   "execution_count": 47,
   "metadata": {},
   "outputs": [],
   "source": [
    "# TimeProcess = create_custom_constraint(\n",
    "#     is_valid_fn=time_is_valid,\n",
    "#     transform_fn=time_trasform,\n",
    "#     reverse_transform_fn=time_reverse_transform\n",
    "# )\n",
    "\n",
    "# time_constraint = TimeProcess(\n",
    "#     column_names=['intime', 'outtime']\n",
    "# )"
   ]
  },
  {
   "cell_type": "code",
   "execution_count": 48,
   "metadata": {},
   "outputs": [],
   "source": [
    "from sdv.constraints import Unique\n",
    "\n",
    "unique_icustay_id_constraint = Unique(\n",
    "    column_names=['icustay_id']\n",
    ")"
   ]
  },
  {
   "cell_type": "code",
   "execution_count": 49,
   "metadata": {},
   "outputs": [],
   "source": [
    "constraints = [unique_icustay_id_constraint]"
   ]
  },
  {
   "cell_type": "markdown",
   "metadata": {},
   "source": [
    "### Build and train model"
   ]
  },
  {
   "cell_type": "code",
   "execution_count": 50,
   "metadata": {},
   "outputs": [
    {
     "name": "stdout",
     "output_type": "stream",
     "text": [
      "Strat training ...\n",
      "Tabular Preset\n"
     ]
    },
    {
     "name": "stderr",
     "output_type": "stream",
     "text": [
      "Sampling rows: 100%|██████████| 156/156 [00:00<00:00, 5751.78it/s]\n"
     ]
    },
    {
     "name": "stdout",
     "output_type": "stream",
     "text": [
      "Gaussian Copula\n"
     ]
    },
    {
     "name": "stderr",
     "output_type": "stream",
     "text": [
      "Sampling rows: 100%|██████████| 156/156 [00:00<00:00, 10025.46it/s]"
     ]
    },
    {
     "name": "stdout",
     "output_type": "stream",
     "text": [
      "CTGAN\n"
     ]
    },
    {
     "name": "stderr",
     "output_type": "stream",
     "text": [
      "\n",
      "Sampling rows: 100%|██████████| 156/156 [00:00<00:00, 2719.78it/s]\n"
     ]
    },
    {
     "name": "stdout",
     "output_type": "stream",
     "text": [
      "CopulaGAN\n"
     ]
    },
    {
     "name": "stderr",
     "output_type": "stream",
     "text": [
      "Sampling rows: 100%|██████████| 156/156 [00:00<00:00, 5049.83it/s]\n"
     ]
    },
    {
     "name": "stdout",
     "output_type": "stream",
     "text": [
      "TVAE\n"
     ]
    },
    {
     "name": "stderr",
     "output_type": "stream",
     "text": [
      "Sampling rows: 100%|██████████| 156/156 [00:00<00:00, 3194.79it/s]\n"
     ]
    },
    {
     "name": "stdout",
     "output_type": "stream",
     "text": [
      "Training finished!\n",
      "Strat evaluating ...\n",
      "Evaluating finished!\n",
      "Gaussian Copula\n"
     ]
    },
    {
     "name": "stderr",
     "output_type": "stream",
     "text": [
      "Sampling rows: 100%|██████████| 156/156 [00:00<00:00, 10742.80it/s]\n"
     ]
    },
    {
     "name": "stdout",
     "output_type": "stream",
     "text": [
      "The ContinuousKL_score is: 0.171569780505133\n",
      "The DiscreteKL_score is: 0.43915592796234554\n",
      "The total score is: 0.380799053795166\n"
     ]
    }
   ],
   "source": [
    "train_data = icustays_df\n",
    "best_model = common.build_model(constraints=constraints, train_data=train_data)"
   ]
  },
  {
   "cell_type": "code",
   "execution_count": 51,
   "metadata": {},
   "outputs": [],
   "source": [
    "model_save_path = data_set_path + \"100_models/\" + \"icustays_model.pkl\"\n",
    "common.save_model(best_model, model_save_path)"
   ]
  },
  {
   "cell_type": "markdown",
   "metadata": {},
   "source": [
    "---\n",
    "\n",
    "## Evaluate data"
   ]
  },
  {
   "cell_type": "code",
   "execution_count": 52,
   "metadata": {},
   "outputs": [],
   "source": [
    "from sdv.evaluation import evaluate"
   ]
  },
  {
   "cell_type": "markdown",
   "metadata": {},
   "source": [
    "### Generate synthetic data"
   ]
  },
  {
   "cell_type": "code",
   "execution_count": 53,
   "metadata": {},
   "outputs": [],
   "source": [
    "# Load model\n",
    "date_load_path = data_set_path + \"100_models/\" + \"icustays_model.pkl\"\n",
    "model = common.load_model(date_load_path)"
   ]
  },
  {
   "cell_type": "code",
   "execution_count": 54,
   "metadata": {},
   "outputs": [
    {
     "name": "stderr",
     "output_type": "stream",
     "text": [
      "Sampling rows: 100%|██████████| 100/100 [00:00<00:00, 6623.14it/s]\n"
     ]
    }
   ],
   "source": [
    "sample = model.sample(100)"
   ]
  },
  {
   "cell_type": "code",
   "execution_count": 55,
   "metadata": {},
   "outputs": [
    {
     "data": {
      "text/html": [
       "<div>\n",
       "<style scoped>\n",
       "    .dataframe tbody tr th:only-of-type {\n",
       "        vertical-align: middle;\n",
       "    }\n",
       "\n",
       "    .dataframe tbody tr th {\n",
       "        vertical-align: top;\n",
       "    }\n",
       "\n",
       "    .dataframe thead th {\n",
       "        text-align: right;\n",
       "    }\n",
       "</style>\n",
       "<table border=\"1\" class=\"dataframe\">\n",
       "  <thead>\n",
       "    <tr style=\"text-align: right;\">\n",
       "      <th></th>\n",
       "      <th>icustay_id</th>\n",
       "      <th>dbsource</th>\n",
       "      <th>first_careunit</th>\n",
       "      <th>last_careunit</th>\n",
       "      <th>first_wardid</th>\n",
       "      <th>last_wardid</th>\n",
       "      <th>intime</th>\n",
       "      <th>outtime</th>\n",
       "    </tr>\n",
       "  </thead>\n",
       "  <tbody>\n",
       "    <tr>\n",
       "      <th>0</th>\n",
       "      <td>259972</td>\n",
       "      <td>carevue</td>\n",
       "      <td>MICU</td>\n",
       "      <td>MICU</td>\n",
       "      <td>41</td>\n",
       "      <td>39</td>\n",
       "      <td>183965.0</td>\n",
       "      <td>1722916.0</td>\n",
       "    </tr>\n",
       "    <tr>\n",
       "      <th>1</th>\n",
       "      <td>249378</td>\n",
       "      <td>metavision</td>\n",
       "      <td>MICU</td>\n",
       "      <td>MICU</td>\n",
       "      <td>14</td>\n",
       "      <td>19</td>\n",
       "      <td>873022.0</td>\n",
       "      <td>3196034.0</td>\n",
       "    </tr>\n",
       "    <tr>\n",
       "      <th>2</th>\n",
       "      <td>237404</td>\n",
       "      <td>metavision</td>\n",
       "      <td>SICU</td>\n",
       "      <td>MICU</td>\n",
       "      <td>23</td>\n",
       "      <td>27</td>\n",
       "      <td>250576.0</td>\n",
       "      <td>681288.0</td>\n",
       "    </tr>\n",
       "    <tr>\n",
       "      <th>3</th>\n",
       "      <td>240241</td>\n",
       "      <td>metavision</td>\n",
       "      <td>CCU</td>\n",
       "      <td>SICU</td>\n",
       "      <td>25</td>\n",
       "      <td>29</td>\n",
       "      <td>307052.0</td>\n",
       "      <td>1712873.0</td>\n",
       "    </tr>\n",
       "    <tr>\n",
       "      <th>4</th>\n",
       "      <td>281759</td>\n",
       "      <td>carevue</td>\n",
       "      <td>CCU</td>\n",
       "      <td>MICU</td>\n",
       "      <td>29</td>\n",
       "      <td>47</td>\n",
       "      <td>694626.0</td>\n",
       "      <td>252502.0</td>\n",
       "    </tr>\n",
       "  </tbody>\n",
       "</table>\n",
       "</div>"
      ],
      "text/plain": [
       "   icustay_id    dbsource first_careunit last_careunit  first_wardid  \\\n",
       "0      259972     carevue           MICU          MICU            41   \n",
       "1      249378  metavision           MICU          MICU            14   \n",
       "2      237404  metavision           SICU          MICU            23   \n",
       "3      240241  metavision            CCU          SICU            25   \n",
       "4      281759     carevue            CCU          MICU            29   \n",
       "\n",
       "   last_wardid    intime    outtime  \n",
       "0           39  183965.0  1722916.0  \n",
       "1           19  873022.0  3196034.0  \n",
       "2           27  250576.0   681288.0  \n",
       "3           29  307052.0  1712873.0  \n",
       "4           47  694626.0   252502.0  "
      ]
     },
     "execution_count": 55,
     "metadata": {},
     "output_type": "execute_result"
    }
   ],
   "source": [
    "sample.head()"
   ]
  },
  {
   "cell_type": "code",
   "execution_count": 56,
   "metadata": {},
   "outputs": [
    {
     "data": {
      "text/plain": [
       "0.605516018428267"
      ]
     },
     "execution_count": 56,
     "metadata": {},
     "output_type": "execute_result"
    }
   ],
   "source": [
    "evaluate(sample, train_data, metrics=['DiscreteKLDivergence'])"
   ]
  },
  {
   "cell_type": "code",
   "execution_count": 57,
   "metadata": {},
   "outputs": [
    {
     "data": {
      "text/plain": [
       "0.1723591540165364"
      ]
     },
     "execution_count": 57,
     "metadata": {},
     "output_type": "execute_result"
    }
   ],
   "source": [
    "evaluate(sample, train_data, metrics=['ContinuousKLDivergence'])"
   ]
  },
  {
   "cell_type": "code",
   "execution_count": 58,
   "metadata": {},
   "outputs": [
    {
     "data": {
      "text/plain": [
       "carevue       59\n",
       "metavision    41\n",
       "Name: dbsource, dtype: int64"
      ]
     },
     "execution_count": 58,
     "metadata": {},
     "output_type": "execute_result"
    }
   ],
   "source": [
    "sample['dbsource'].value_counts()"
   ]
  },
  {
   "cell_type": "code",
   "execution_count": 59,
   "metadata": {},
   "outputs": [
    {
     "data": {
      "text/plain": [
       "<AxesSubplot:>"
      ]
     },
     "execution_count": 59,
     "metadata": {},
     "output_type": "execute_result"
    },
    {
     "data": {
      "image/png": "[encoded data removed]",
      "text/plain": [
       "<Figure size 432x288 with 1 Axes>"
      ]
     },
     "metadata": {
      "needs_background": "light"
     },
     "output_type": "display_data"
    }
   ],
   "source": [
    "sample['dbsource'].value_counts().plot.bar()"
   ]
  },
  {
   "cell_type": "code",
   "execution_count": 60,
   "metadata": {},
   "outputs": [
    {
     "data": {
      "text/plain": [
       "carevue       101\n",
       "metavision     55\n",
       "Name: dbsource, dtype: int64"
      ]
     },
     "execution_count": 60,
     "metadata": {},
     "output_type": "execute_result"
    }
   ],
   "source": [
    "train_data['dbsource'].value_counts()"
   ]
  },
  {
   "cell_type": "code",
   "execution_count": 61,
   "metadata": {},
   "outputs": [
    {
     "data": {
      "text/plain": [
       "<AxesSubplot:>"
      ]
     },
     "execution_count": 61,
     "metadata": {},
     "output_type": "execute_result"
    },
    {
     "data": {
      "image/png": "[encoded data removed]",
      "text/plain": [
       "<Figure size 432x288 with 1 Axes>"
      ]
     },
     "metadata": {
      "needs_background": "light"
     },
     "output_type": "display_data"
    }
   ],
   "source": [
    "train_data['dbsource'].value_counts().plot.bar()"
   ]
  }
 ],
 "metadata": {
  "kernelspec": {
   "display_name": "Python 3.8.13 ('msc_project')",
   "language": "python",
   "name": "python3"
  },
  "language_info": {
   "codemirror_mode": {
    "name": "ipython",
    "version": 3
   },
   "file_extension": ".py",
   "mimetype": "text/x-python",
   "name": "python",
   "nbconvert_exporter": "python",
   "pygments_lexer": "ipython3",
   "version": "3.8.13"
  },
  "orig_nbformat": 4,
  "vscode": {
   "interpreter": {
    "hash": "e56015fb566b08f7af163d42c82cf08fa5d6db3fbaaffa0afaaff5a893fc0496"
   }
  }
 },
 "nbformat": 4,
 "nbformat_minor": 2
}
