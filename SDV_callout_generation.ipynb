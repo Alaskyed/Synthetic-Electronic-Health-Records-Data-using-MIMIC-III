{
 "cells": [
  {
   "cell_type": "code",
   "execution_count": 1,
   "metadata": {},
   "outputs": [],
   "source": [
    "# from google.colab import drive\n",
    "# drive.mount('/content/drive')"
   ]
  },
  {
   "cell_type": "code",
   "execution_count": 2,
   "metadata": {},
   "outputs": [],
   "source": [
    "# ! pip install pgmpy"
   ]
  },
  {
   "cell_type": "code",
   "execution_count": 3,
   "metadata": {},
   "outputs": [],
   "source": [
    "# Ignore warnings\n",
    "import warnings\n",
    "warnings.filterwarnings(\"ignore\")"
   ]
  },
  {
   "cell_type": "code",
   "execution_count": 4,
   "metadata": {},
   "outputs": [],
   "source": [
    "import pandas as pd\n",
    "import numpy as np\n",
    "\n",
    "import common"
   ]
  },
  {
   "cell_type": "code",
   "execution_count": 5,
   "metadata": {},
   "outputs": [],
   "source": [
    "date_set_path = \"../temp_sets_100/\""
   ]
  },
  {
   "cell_type": "markdown",
   "metadata": {},
   "source": [
    "## callout"
   ]
  },
  {
   "cell_type": "markdown",
   "metadata": {},
   "source": [
    "### Read samples"
   ]
  },
  {
   "cell_type": "code",
   "execution_count": 6,
   "metadata": {},
   "outputs": [],
   "source": [
    "callout_df = common.read_csv_no_rowid(date_set_path+\"callout.csv\")"
   ]
  },
  {
   "cell_type": "markdown",
   "metadata": {},
   "source": [
    "### Data preproces"
   ]
  },
  {
   "cell_type": "code",
   "execution_count": 7,
   "metadata": {},
   "outputs": [],
   "source": [
    "# Drop useless colums\n",
    "callout_df.drop(['submit_careunit', 'firstreservationtime', 'currentreservationtime'], axis=1, inplace=True)"
   ]
  },
  {
   "cell_type": "markdown",
   "metadata": {},
   "source": [
    "#### Deal with null values"
   ]
  },
  {
   "cell_type": "code",
   "execution_count": 8,
   "metadata": {},
   "outputs": [
    {
     "name": "stdout",
     "output_type": "stream",
     "text": [
      "Total columns: 20\n",
      "Total rows: 73\n",
      "--------------\n",
      "subject_id            0\n",
      "hadm_id               0\n",
      "submit_wardid         0\n",
      "curr_wardid           0\n",
      "curr_careunit         0\n",
      "callout_wardid        0\n",
      "callout_service       0\n",
      "request_tele          0\n",
      "request_resp          0\n",
      "request_cdiff         0\n",
      "request_mrsa          0\n",
      "request_vre           0\n",
      "callout_status        0\n",
      "callout_outcome       0\n",
      "discharge_wardid      6\n",
      "acknowledge_status    0\n",
      "createtime            0\n",
      "updatetime            0\n",
      "acknowledgetime       5\n",
      "outcometime           0\n",
      "dtype: int64\n"
     ]
    }
   ],
   "source": [
    "# Check null value in table\n",
    "common.nan_count(callout_df)"
   ]
  },
  {
   "cell_type": "markdown",
   "metadata": {},
   "source": [
    "#### Set the column types"
   ]
  },
  {
   "cell_type": "code",
   "execution_count": 9,
   "metadata": {},
   "outputs": [
    {
     "data": {
      "text/plain": [
       "subject_id              int64\n",
       "hadm_id                 int64\n",
       "submit_wardid           int64\n",
       "curr_wardid             int64\n",
       "curr_careunit          object\n",
       "callout_wardid          int64\n",
       "callout_service        object\n",
       "request_tele            int64\n",
       "request_resp            int64\n",
       "request_cdiff           int64\n",
       "request_mrsa            int64\n",
       "request_vre             int64\n",
       "callout_status         object\n",
       "callout_outcome        object\n",
       "discharge_wardid      float64\n",
       "acknowledge_status     object\n",
       "createtime             object\n",
       "updatetime             object\n",
       "acknowledgetime        object\n",
       "outcometime            object\n",
       "dtype: object"
      ]
     },
     "execution_count": 9,
     "metadata": {},
     "output_type": "execute_result"
    }
   ],
   "source": [
    "callout_df.dtypes"
   ]
  },
  {
   "cell_type": "code",
   "execution_count": 10,
   "metadata": {},
   "outputs": [],
   "source": [
    "# Transfer some date type\n",
    "callout_df['createtime'] = pd.to_datetime(callout_df['createtime'])\n",
    "callout_df['updatetime'] = pd.to_datetime(callout_df['updatetime'])\n",
    "callout_df['acknowledgetime'] = pd.to_datetime(callout_df['acknowledgetime'])\n",
    "callout_df['outcometime'] = pd.to_datetime(callout_df['outcometime'])"
   ]
  },
  {
   "cell_type": "code",
   "execution_count": 11,
   "metadata": {},
   "outputs": [
    {
     "data": {
      "text/plain": [
       "subject_id                     int64\n",
       "hadm_id                        int64\n",
       "submit_wardid                  int64\n",
       "curr_wardid                    int64\n",
       "curr_careunit                 object\n",
       "callout_wardid                 int64\n",
       "callout_service               object\n",
       "request_tele                   int64\n",
       "request_resp                   int64\n",
       "request_cdiff                  int64\n",
       "request_mrsa                   int64\n",
       "request_vre                    int64\n",
       "callout_status                object\n",
       "callout_outcome               object\n",
       "discharge_wardid             float64\n",
       "acknowledge_status            object\n",
       "createtime            datetime64[ns]\n",
       "updatetime            datetime64[ns]\n",
       "acknowledgetime       datetime64[ns]\n",
       "outcometime           datetime64[ns]\n",
       "dtype: object"
      ]
     },
     "execution_count": 11,
     "metadata": {},
     "output_type": "execute_result"
    }
   ],
   "source": [
    "callout_df.dtypes"
   ]
  },
  {
   "cell_type": "markdown",
   "metadata": {},
   "source": [
    "#### Deal with some special value"
   ]
  },
  {
   "cell_type": "code",
   "execution_count": null,
   "metadata": {},
   "outputs": [],
   "source": []
  },
  {
   "cell_type": "markdown",
   "metadata": {},
   "source": [
    "---"
   ]
  },
  {
   "cell_type": "markdown",
   "metadata": {},
   "source": [
    "##  Build Network"
   ]
  },
  {
   "cell_type": "code",
   "execution_count": 12,
   "metadata": {},
   "outputs": [],
   "source": [
    "from sdv.tabular import CTGAN\n",
    "from sdv.constraints import FixedCombinations\n",
    "from sdv.constraints import create_custom_constraint"
   ]
  },
  {
   "cell_type": "code",
   "execution_count": 13,
   "metadata": {},
   "outputs": [
    {
     "data": {
      "text/plain": [
       "Index(['subject_id', 'hadm_id', 'submit_wardid', 'curr_wardid',\n",
       "       'curr_careunit', 'callout_wardid', 'callout_service', 'request_tele',\n",
       "       'request_resp', 'request_cdiff', 'request_mrsa', 'request_vre',\n",
       "       'callout_status', 'callout_outcome', 'discharge_wardid',\n",
       "       'acknowledge_status', 'createtime', 'updatetime', 'acknowledgetime',\n",
       "       'outcometime'],\n",
       "      dtype='object')"
      ]
     },
     "execution_count": 13,
     "metadata": {},
     "output_type": "execute_result"
    }
   ],
   "source": [
    "callout_df.columns"
   ]
  },
  {
   "cell_type": "markdown",
   "metadata": {},
   "source": [
    "### Set constraint"
   ]
  },
  {
   "cell_type": "code",
   "execution_count": 14,
   "metadata": {},
   "outputs": [
    {
     "data": {
      "text/plain": [
       "0    2105-02-22 11:25:39\n",
       "1    2105-02-23 18:10:02\n",
       "2    2152-04-01 21:25:02\n",
       "3    2104-10-19 16:40:05\n",
       "4    2106-08-14 18:10:03\n",
       "             ...        \n",
       "68   2179-12-19 13:29:15\n",
       "69   2149-03-23 14:09:01\n",
       "70   2149-03-26 17:55:04\n",
       "71   2152-03-07 15:43:05\n",
       "72   2136-06-27 14:28:01\n",
       "Name: outcometime, Length: 73, dtype: datetime64[ns]"
      ]
     },
     "execution_count": 14,
     "metadata": {},
     "output_type": "execute_result"
    }
   ],
   "source": [
    "callout_df['outcometime']"
   ]
  },
  {
   "cell_type": "code",
   "execution_count": 15,
   "metadata": {},
   "outputs": [
    {
     "data": {
      "text/plain": [
       "0                NaT\n",
       "1    0 days 08:09:32\n",
       "2    0 days 06:07:19\n",
       "3                NaT\n",
       "4                NaT\n",
       "           ...      \n",
       "68   0 days 02:11:10\n",
       "69   0 days 05:41:23\n",
       "70   0 days 05:01:45\n",
       "71   0 days 06:07:16\n",
       "72   0 days 03:01:02\n",
       "Length: 73, dtype: timedelta64[ns]"
      ]
     },
     "execution_count": 15,
     "metadata": {},
     "output_type": "execute_result"
    }
   ],
   "source": [
    "a = callout_df['outcometime'] - callout_df['acknowledgetime']\n",
    "a"
   ]
  },
  {
   "cell_type": "code",
   "execution_count": 16,
   "metadata": {},
   "outputs": [
    {
     "data": {
      "text/plain": [
       "0                    NaT\n",
       "1    2105-02-24 02:19:34\n",
       "2    2152-04-02 03:32:21\n",
       "3                    NaT\n",
       "4                    NaT\n",
       "             ...        \n",
       "68   2179-12-19 15:40:25\n",
       "69   2149-03-23 19:50:24\n",
       "70   2149-03-26 22:56:49\n",
       "71   2152-03-07 21:50:21\n",
       "72   2136-06-27 17:29:03\n",
       "Length: 73, dtype: datetime64[ns]"
      ]
     },
     "execution_count": 16,
     "metadata": {},
     "output_type": "execute_result"
    }
   ],
   "source": [
    "callout_df['outcometime'] + a"
   ]
  },
  {
   "cell_type": "code",
   "execution_count": 17,
   "metadata": {},
   "outputs": [
    {
     "data": {
      "text/plain": [
       "1.0"
      ]
     },
     "execution_count": 17,
     "metadata": {},
     "output_type": "execute_result"
    }
   ],
   "source": [
    "(callout_df['outcometime'] - callout_df['acknowledgetime']).apply(lambda x: x.days).max()\n",
    "# (callout_df['acknowledgetime'] - callout_df['createtime']).apply(lambda x: x.seconds).min()"
   ]
  },
  {
   "cell_type": "code",
   "execution_count": 18,
   "metadata": {},
   "outputs": [],
   "source": [
    "def time_is_valid(column_names, data):\n",
    "    update_create = ((data['updatetime'] - data['createtime']).apply(lambda x: 0 <= x.days  <= 2))\n",
    "\n",
    "    # acknowledge_update = \\\n",
    "    #     (pd.isna(data['acknowledgetime'])) | \\\n",
    "    #     (((pd.isna(data['acknowledgetime']) == False) & ((data['acknowledgetime'] - data['updatetime']).apply(lambda x: -1 <= x.days  <= 1))))\n",
    "\n",
    "    # outcome_create = \\\n",
    "    #     (pd.isna(data['acknowledgetime']) & (callout_df['outcometime'] - callout_df['createtime']).apply(lambda x: 0 <= x.days <= 2)) | \\\n",
    "    #     ( \\\n",
    "    #         (pd.isna(data['acknowledgetime']) == False) & ((data['outcometime'] - data['acknowledgetime']).apply(lambda x: 0 <= x.days  <= 2)) \\\n",
    "    #     )\n",
    "        \n",
    "    return update_create# & acknowledge_update & outcome_create"
   ]
  },
  {
   "cell_type": "code",
   "execution_count": 19,
   "metadata": {},
   "outputs": [],
   "source": [
    "def time_trasform(column_names, data):\n",
    "    data['outcometime'] = data['outcometime'].astype(int) - data['acknowledgetime'].astype(int)\n",
    "    data['acknowledgetime'] = data['acknowledgetime'].astype(int) - data['updatetime'].astype(int)\n",
    "    data['updatetime'] = data['updatetime'].astype(int) - data['createtime'].astype(int)\n",
    "\n",
    "    return data\n",
    "\n",
    "def time_reverse_transform(column_names, transformed_data):\n",
    "    transformed_data['updatetime'] = transformed_data['updatetime'] + transformed_data['createtime']\n",
    "    transformed_data['acknowledgetime'] = transformed_data['acknowledgetime'] + transformed_data['updatetime']\n",
    "    transformed_data['outcometime'] = transformed_data['outcometime'] + transformed_data['acknowledgetime']\n",
    "\n",
    "    # print(transformed_data.head())\n",
    "    return transformed_data"
   ]
  },
  {
   "cell_type": "code",
   "execution_count": 20,
   "metadata": {},
   "outputs": [],
   "source": [
    "TimeProcess = create_custom_constraint(\n",
    "    is_valid_fn=time_is_valid,\n",
    "    transform_fn=time_trasform,\n",
    "    reverse_transform_fn=time_reverse_transform\n",
    ")"
   ]
  },
  {
   "cell_type": "code",
   "execution_count": 21,
   "metadata": {},
   "outputs": [],
   "source": [
    "time_constraint = TimeProcess(\n",
    "    column_names=['createtime', 'updatetime','acknowledgetime', 'outcometime']\n",
    ")"
   ]
  },
  {
   "cell_type": "code",
   "execution_count": 22,
   "metadata": {},
   "outputs": [],
   "source": [
    "constrains = [time_constraint]"
   ]
  },
  {
   "cell_type": "markdown",
   "metadata": {},
   "source": [
    "### Build model"
   ]
  },
  {
   "cell_type": "code",
   "execution_count": 47,
   "metadata": {},
   "outputs": [],
   "source": [
    "model = CTGAN(\n",
    "    constraints=constrains, \n",
    "    # generator_lr=0.0005,\n",
    "    batch_size=10000,\n",
    "    cuda=True, \n",
    "    verbose=True, \n",
    "    epochs=60)"
   ]
  },
  {
   "cell_type": "code",
   "execution_count": 48,
   "metadata": {},
   "outputs": [
    {
     "data": {
      "text/plain": [
       "73"
      ]
     },
     "execution_count": 48,
     "metadata": {},
     "output_type": "execute_result"
    }
   ],
   "source": [
    "len(callout_df)"
   ]
  },
  {
   "cell_type": "code",
   "execution_count": 49,
   "metadata": {},
   "outputs": [
    {
     "name": "stdout",
     "output_type": "stream",
     "text": [
      "Epoch 1, Loss G:  0.8500,Loss D: -0.0141\n",
      "Epoch 2, Loss G:  0.8547,Loss D: -0.0396\n",
      "Epoch 3, Loss G:  0.8435,Loss D: -0.0699\n",
      "Epoch 4, Loss G:  0.8309,Loss D: -0.1196\n",
      "Epoch 5, Loss G:  0.7925,Loss D: -0.1641\n",
      "Epoch 6, Loss G:  0.7782,Loss D: -0.2059\n",
      "Epoch 7, Loss G:  0.7623,Loss D: -0.2468\n",
      "Epoch 8, Loss G:  0.7105,Loss D: -0.2885\n",
      "Epoch 9, Loss G:  0.6690,Loss D: -0.3155\n",
      "Epoch 10, Loss G:  0.6224,Loss D: -0.3545\n",
      "Epoch 11, Loss G:  0.5723,Loss D: -0.3863\n",
      "Epoch 12, Loss G:  0.4801,Loss D: -0.3777\n",
      "Epoch 13, Loss G:  0.4081,Loss D: -0.3652\n",
      "Epoch 14, Loss G:  0.3388,Loss D: -0.3792\n",
      "Epoch 15, Loss G:  0.2377,Loss D: -0.3265\n",
      "Epoch 16, Loss G:  0.1708,Loss D: -0.3128\n",
      "Epoch 17, Loss G:  0.1205,Loss D: -0.3080\n",
      "Epoch 18, Loss G:  0.0720,Loss D: -0.2754\n",
      "Epoch 19, Loss G:  0.1188,Loss D: -0.3042\n",
      "Epoch 20, Loss G:  0.1150,Loss D: -0.2396\n",
      "Epoch 21, Loss G:  0.2294,Loss D: -0.3160\n",
      "Epoch 22, Loss G:  0.3401,Loss D: -0.2912\n",
      "Epoch 23, Loss G:  0.4222,Loss D: -0.3679\n",
      "Epoch 24, Loss G:  0.4977,Loss D: -0.3702\n",
      "Epoch 25, Loss G:  0.6053,Loss D: -0.3840\n",
      "Epoch 26, Loss G:  0.6846,Loss D: -0.3282\n",
      "Epoch 27, Loss G:  0.6762,Loss D: -0.3629\n",
      "Epoch 28, Loss G:  0.7519,Loss D: -0.3397\n",
      "Epoch 29, Loss G:  0.7618,Loss D: -0.2736\n",
      "Epoch 30, Loss G:  0.7611,Loss D: -0.2909\n",
      "Epoch 31, Loss G:  0.7579,Loss D: -0.2360\n",
      "Epoch 32, Loss G:  0.7675,Loss D: -0.1816\n",
      "Epoch 33, Loss G:  0.7129,Loss D: -0.0833\n",
      "Epoch 34, Loss G:  0.6500,Loss D: -0.0541\n",
      "Epoch 35, Loss G:  0.6164,Loss D:  0.0150\n",
      "Epoch 36, Loss G:  0.5786,Loss D:  0.0864\n",
      "Epoch 37, Loss G:  0.5577,Loss D:  0.0932\n",
      "Epoch 38, Loss G:  0.5484,Loss D:  0.0909\n",
      "Epoch 39, Loss G:  0.5099,Loss D:  0.0971\n",
      "Epoch 40, Loss G:  0.5268,Loss D:  0.1090\n",
      "Epoch 41, Loss G:  0.4933,Loss D:  0.0861\n",
      "Epoch 42, Loss G:  0.5358,Loss D:  0.0573\n",
      "Epoch 43, Loss G:  0.5089,Loss D:  0.0190\n",
      "Epoch 44, Loss G:  0.4872,Loss D: -0.0227\n",
      "Epoch 45, Loss G:  0.4881,Loss D: -0.0384\n",
      "Epoch 46, Loss G:  0.4874,Loss D: -0.0433\n",
      "Epoch 47, Loss G:  0.4556,Loss D: -0.0649\n",
      "Epoch 48, Loss G:  0.4278,Loss D: -0.1045\n",
      "Epoch 49, Loss G:  0.3323,Loss D: -0.0419\n",
      "Epoch 50, Loss G:  0.2744,Loss D: -0.0434\n",
      "Epoch 51, Loss G:  0.2194,Loss D: -0.0221\n",
      "Epoch 52, Loss G:  0.1546,Loss D: -0.0095\n",
      "Epoch 53, Loss G:  0.0131,Loss D:  0.0065\n",
      "Epoch 54, Loss G: -0.0488,Loss D:  0.0292\n",
      "Epoch 55, Loss G: -0.0933,Loss D:  0.0382\n",
      "Epoch 56, Loss G: -0.2182,Loss D:  0.0715\n",
      "Epoch 57, Loss G: -0.3179,Loss D:  0.0572\n",
      "Epoch 58, Loss G: -0.3854,Loss D:  0.0940\n",
      "Epoch 59, Loss G: -0.4324,Loss D:  0.0426\n",
      "Epoch 60, Loss G: -0.4785,Loss D:  0.0489\n"
     ]
    }
   ],
   "source": [
    "train_data = callout_df\n",
    "model.fit(train_data)"
   ]
  },
  {
   "cell_type": "code",
   "execution_count": 52,
   "metadata": {},
   "outputs": [],
   "source": [
    "import cloudpickle\n",
    "\n",
    "with open(date_set_path + \"100_models/\" + \"callout_model.pkl\", 'wb') as f:\n",
    "    cloudpickle.dump(model, f)"
   ]
  },
  {
   "cell_type": "code",
   "execution_count": null,
   "metadata": {},
   "outputs": [],
   "source": [
    "# model.save(date_set_path + \"100_models/\" + \"callout_model.pkl\")"
   ]
  },
  {
   "cell_type": "code",
   "execution_count": 36,
   "metadata": {},
   "outputs": [
    {
     "name": "stderr",
     "output_type": "stream",
     "text": [
      "Sampling rows:   3%|▎         | 3/100 [00:39<21:06, 13.05s/it]\n"
     ]
    }
   ],
   "source": [
    "sample = model.sample(100)"
   ]
  },
  {
   "cell_type": "code",
   "execution_count": 35,
   "metadata": {},
   "outputs": [
    {
     "data": {
      "text/html": [
       "<div>\n",
       "<style scoped>\n",
       "    .dataframe tbody tr th:only-of-type {\n",
       "        vertical-align: middle;\n",
       "    }\n",
       "\n",
       "    .dataframe tbody tr th {\n",
       "        vertical-align: top;\n",
       "    }\n",
       "\n",
       "    .dataframe thead th {\n",
       "        text-align: right;\n",
       "    }\n",
       "</style>\n",
       "<table border=\"1\" class=\"dataframe\">\n",
       "  <thead>\n",
       "    <tr style=\"text-align: right;\">\n",
       "      <th></th>\n",
       "      <th>subject_id</th>\n",
       "      <th>hadm_id</th>\n",
       "      <th>submit_wardid</th>\n",
       "      <th>curr_wardid</th>\n",
       "      <th>curr_careunit</th>\n",
       "      <th>callout_wardid</th>\n",
       "      <th>callout_service</th>\n",
       "      <th>request_tele</th>\n",
       "      <th>request_resp</th>\n",
       "      <th>request_cdiff</th>\n",
       "      <th>request_mrsa</th>\n",
       "      <th>request_vre</th>\n",
       "      <th>callout_status</th>\n",
       "      <th>callout_outcome</th>\n",
       "      <th>discharge_wardid</th>\n",
       "      <th>acknowledge_status</th>\n",
       "      <th>createtime</th>\n",
       "      <th>updatetime</th>\n",
       "      <th>acknowledgetime</th>\n",
       "      <th>outcometime</th>\n",
       "    </tr>\n",
       "  </thead>\n",
       "  <tbody>\n",
       "    <tr>\n",
       "      <th>0</th>\n",
       "      <td>58567</td>\n",
       "      <td>100223</td>\n",
       "      <td>54</td>\n",
       "      <td>55</td>\n",
       "      <td>CSRU</td>\n",
       "      <td>55</td>\n",
       "      <td>NMED</td>\n",
       "      <td>1</td>\n",
       "      <td>0</td>\n",
       "      <td>0</td>\n",
       "      <td>1</td>\n",
       "      <td>0</td>\n",
       "      <td>Inactive</td>\n",
       "      <td>Discharged</td>\n",
       "      <td>48.0</td>\n",
       "      <td>Acknowledged</td>\n",
       "      <td>2142-11-11 02:42:09.011450880</td>\n",
       "      <td>2142-11-13 21:03:39.599397888</td>\n",
       "      <td>2094-06-28 20:36:16.956094976</td>\n",
       "      <td>2156-01-28 16:04:16.692486144</td>\n",
       "    </tr>\n",
       "    <tr>\n",
       "      <th>1</th>\n",
       "      <td>569</td>\n",
       "      <td>153294</td>\n",
       "      <td>14</td>\n",
       "      <td>51</td>\n",
       "      <td>CSRU</td>\n",
       "      <td>55</td>\n",
       "      <td>MED</td>\n",
       "      <td>1</td>\n",
       "      <td>0</td>\n",
       "      <td>0</td>\n",
       "      <td>0</td>\n",
       "      <td>0</td>\n",
       "      <td>Inactive</td>\n",
       "      <td>Discharged</td>\n",
       "      <td>NaN</td>\n",
       "      <td>Acknowledged</td>\n",
       "      <td>2130-08-22 04:12:04.282944512</td>\n",
       "      <td>2130-08-23 20:18:04.484800512</td>\n",
       "      <td>2183-02-11 08:59:29.937091584</td>\n",
       "      <td>2167-08-01 07:46:15.083214848</td>\n",
       "    </tr>\n",
       "    <tr>\n",
       "      <th>2</th>\n",
       "      <td>46774</td>\n",
       "      <td>122216</td>\n",
       "      <td>24</td>\n",
       "      <td>9</td>\n",
       "      <td>CSRU</td>\n",
       "      <td>1</td>\n",
       "      <td>CSURG</td>\n",
       "      <td>0</td>\n",
       "      <td>0</td>\n",
       "      <td>0</td>\n",
       "      <td>0</td>\n",
       "      <td>0</td>\n",
       "      <td>Inactive</td>\n",
       "      <td>Discharged</td>\n",
       "      <td>4.0</td>\n",
       "      <td>Acknowledged</td>\n",
       "      <td>2112-12-20 15:10:19.841897984</td>\n",
       "      <td>2112-12-22 08:29:51.659505664</td>\n",
       "      <td>2093-02-20 21:31:15.940450816</td>\n",
       "      <td>2132-06-30 01:11:12.182587392</td>\n",
       "    </tr>\n",
       "    <tr>\n",
       "      <th>3</th>\n",
       "      <td>46105</td>\n",
       "      <td>166609</td>\n",
       "      <td>57</td>\n",
       "      <td>55</td>\n",
       "      <td>CCU</td>\n",
       "      <td>26</td>\n",
       "      <td>MED</td>\n",
       "      <td>1</td>\n",
       "      <td>0</td>\n",
       "      <td>0</td>\n",
       "      <td>1</td>\n",
       "      <td>0</td>\n",
       "      <td>Inactive</td>\n",
       "      <td>Discharged</td>\n",
       "      <td>55.0</td>\n",
       "      <td>Acknowledged</td>\n",
       "      <td>2137-02-11 04:40:28.703436800</td>\n",
       "      <td>2137-02-11 04:48:53.805082624</td>\n",
       "      <td>2129-05-06 07:23:54.901232640</td>\n",
       "      <td>2152-06-06 19:26:31.896283136</td>\n",
       "    </tr>\n",
       "    <tr>\n",
       "      <th>4</th>\n",
       "      <td>18583</td>\n",
       "      <td>153634</td>\n",
       "      <td>57</td>\n",
       "      <td>55</td>\n",
       "      <td>CSRU</td>\n",
       "      <td>1</td>\n",
       "      <td>MED</td>\n",
       "      <td>0</td>\n",
       "      <td>0</td>\n",
       "      <td>0</td>\n",
       "      <td>0</td>\n",
       "      <td>0</td>\n",
       "      <td>Inactive</td>\n",
       "      <td>Discharged</td>\n",
       "      <td>0.0</td>\n",
       "      <td>Acknowledged</td>\n",
       "      <td>2117-04-05 04:14:29.274714112</td>\n",
       "      <td>2117-04-07 14:37:32.023449600</td>\n",
       "      <td>2128-02-15 16:06:55.390842880</td>\n",
       "      <td>2144-05-15 16:03:18.721136640</td>\n",
       "    </tr>\n",
       "  </tbody>\n",
       "</table>\n",
       "</div>"
      ],
      "text/plain": [
       "   subject_id  hadm_id  submit_wardid  curr_wardid curr_careunit  \\\n",
       "0       58567   100223             54           55          CSRU   \n",
       "1         569   153294             14           51          CSRU   \n",
       "2       46774   122216             24            9          CSRU   \n",
       "3       46105   166609             57           55           CCU   \n",
       "4       18583   153634             57           55          CSRU   \n",
       "\n",
       "   callout_wardid callout_service  request_tele  request_resp  request_cdiff  \\\n",
       "0              55            NMED             1             0              0   \n",
       "1              55             MED             1             0              0   \n",
       "2               1           CSURG             0             0              0   \n",
       "3              26             MED             1             0              0   \n",
       "4               1             MED             0             0              0   \n",
       "\n",
       "   request_mrsa  request_vre callout_status callout_outcome  discharge_wardid  \\\n",
       "0             1            0       Inactive      Discharged              48.0   \n",
       "1             0            0       Inactive      Discharged               NaN   \n",
       "2             0            0       Inactive      Discharged               4.0   \n",
       "3             1            0       Inactive      Discharged              55.0   \n",
       "4             0            0       Inactive      Discharged               0.0   \n",
       "\n",
       "  acknowledge_status                    createtime  \\\n",
       "0       Acknowledged 2142-11-11 02:42:09.011450880   \n",
       "1       Acknowledged 2130-08-22 04:12:04.282944512   \n",
       "2       Acknowledged 2112-12-20 15:10:19.841897984   \n",
       "3       Acknowledged 2137-02-11 04:40:28.703436800   \n",
       "4       Acknowledged 2117-04-05 04:14:29.274714112   \n",
       "\n",
       "                     updatetime               acknowledgetime  \\\n",
       "0 2142-11-13 21:03:39.599397888 2094-06-28 20:36:16.956094976   \n",
       "1 2130-08-23 20:18:04.484800512 2183-02-11 08:59:29.937091584   \n",
       "2 2112-12-22 08:29:51.659505664 2093-02-20 21:31:15.940450816   \n",
       "3 2137-02-11 04:48:53.805082624 2129-05-06 07:23:54.901232640   \n",
       "4 2117-04-07 14:37:32.023449600 2128-02-15 16:06:55.390842880   \n",
       "\n",
       "                    outcometime  \n",
       "0 2156-01-28 16:04:16.692486144  \n",
       "1 2167-08-01 07:46:15.083214848  \n",
       "2 2132-06-30 01:11:12.182587392  \n",
       "3 2152-06-06 19:26:31.896283136  \n",
       "4 2144-05-15 16:03:18.721136640  "
      ]
     },
     "execution_count": 35,
     "metadata": {},
     "output_type": "execute_result"
    }
   ],
   "source": [
    "sample.head()"
   ]
  },
  {
   "cell_type": "markdown",
   "metadata": {},
   "source": [
    "### Process the generated data"
   ]
  },
  {
   "cell_type": "markdown",
   "metadata": {},
   "source": [
    "---"
   ]
  },
  {
   "cell_type": "markdown",
   "metadata": {},
   "source": [
    "## Evaluate data"
   ]
  },
  {
   "cell_type": "code",
   "execution_count": 31,
   "metadata": {},
   "outputs": [],
   "source": [
    "from sdv.evaluation import evaluate"
   ]
  },
  {
   "cell_type": "code",
   "execution_count": 32,
   "metadata": {},
   "outputs": [
    {
     "data": {
      "text/plain": [
       "Index(['subject_id', 'hadm_id', 'submit_wardid', 'curr_wardid',\n",
       "       'curr_careunit', 'callout_wardid', 'callout_service', 'request_tele',\n",
       "       'request_resp', 'request_cdiff', 'request_mrsa', 'request_vre',\n",
       "       'callout_status', 'callout_outcome', 'discharge_wardid',\n",
       "       'acknowledge_status', 'createtime', 'updatetime', 'acknowledgetime',\n",
       "       'outcometime'],\n",
       "      dtype='object')"
      ]
     },
     "execution_count": 32,
     "metadata": {},
     "output_type": "execute_result"
    }
   ],
   "source": [
    "train_data.columns"
   ]
  },
  {
   "cell_type": "code",
   "execution_count": 37,
   "metadata": {},
   "outputs": [
    {
     "data": {
      "text/plain": [
       "0.38380808037953645"
      ]
     },
     "execution_count": 37,
     "metadata": {},
     "output_type": "execute_result"
    }
   ],
   "source": [
    "evaluate(sample, train_data)"
   ]
  },
  {
   "cell_type": "code",
   "execution_count": 41,
   "metadata": {},
   "outputs": [
    {
     "data": {
      "text/plain": [
       "MICU    2\n",
       "CSRU    1\n",
       "Name: curr_careunit, dtype: int64"
      ]
     },
     "execution_count": 41,
     "metadata": {},
     "output_type": "execute_result"
    }
   ],
   "source": [
    "sample['curr_careunit'].value_counts()"
   ]
  },
  {
   "cell_type": "code",
   "execution_count": 38,
   "metadata": {},
   "outputs": [
    {
     "data": {
      "text/plain": [
       "<AxesSubplot:>"
      ]
     },
     "execution_count": 38,
     "metadata": {},
     "output_type": "execute_result"
    },
    {
     "data": {
      "image/png": "[encoded data removed]",
      "text/plain": [
       "<Figure size 432x288 with 1 Axes>"
      ]
     },
     "metadata": {
      "needs_background": "light"
     },
     "output_type": "display_data"
    }
   ],
   "source": [
    "sample['curr_careunit'].value_counts().plot.bar()"
   ]
  },
  {
   "cell_type": "code",
   "execution_count": 40,
   "metadata": {},
   "outputs": [
    {
     "data": {
      "text/plain": [
       "MICU     32\n",
       "TSICU    14\n",
       "SICU     12\n",
       "CSRU      9\n",
       "CCU       6\n",
       "Name: curr_careunit, dtype: int64"
      ]
     },
     "execution_count": 40,
     "metadata": {},
     "output_type": "execute_result"
    }
   ],
   "source": [
    "train_data['curr_careunit'].value_counts()"
   ]
  },
  {
   "cell_type": "code",
   "execution_count": 39,
   "metadata": {},
   "outputs": [
    {
     "data": {
      "text/plain": [
       "<AxesSubplot:>"
      ]
     },
     "execution_count": 39,
     "metadata": {},
     "output_type": "execute_result"
    },
    {
     "data": {
      "image/png": "[encoded data removed]",
      "text/plain": [
       "<Figure size 432x288 with 1 Axes>"
      ]
     },
     "metadata": {
      "needs_background": "light"
     },
     "output_type": "display_data"
    }
   ],
   "source": [
    "train_data['curr_careunit'].value_counts().plot.bar()"
   ]
  },
  {
   "cell_type": "code",
   "execution_count": null,
   "metadata": {},
   "outputs": [
    {
     "data": {
      "text/plain": [
       "<AxesSubplot:xlabel='admission_type', ylabel='admission_location'>"
      ]
     },
     "execution_count": 59,
     "metadata": {},
     "output_type": "execute_result"
    },
    {
     "data": {
      "image/png": "[encoded data removed]",
      "text/plain": [
       "<Figure size 432x288 with 1 Axes>"
      ]
     },
     "metadata": {
      "needs_background": "light"
     },
     "output_type": "display_data"
    }
   ],
   "source": [
    "sample.plot.scatter(x='admission_type',y='admission_location')"
   ]
  },
  {
   "cell_type": "code",
   "execution_count": null,
   "metadata": {},
   "outputs": [
    {
     "data": {
      "text/plain": [
       "<AxesSubplot:xlabel='admission_type', ylabel='admission_location'>"
      ]
     },
     "execution_count": 60,
     "metadata": {},
     "output_type": "execute_result"
    },
    {
     "data": {
      "image/png": "[encoded data removed]",
      "text/plain": [
       "<Figure size 432x288 with 1 Axes>"
      ]
     },
     "metadata": {
      "needs_background": "light"
     },
     "output_type": "display_data"
    }
   ],
   "source": [
    "train_data.plot.scatter(x='admission_type',y='admission_location')"
   ]
  },
  {
   "cell_type": "code",
   "execution_count": null,
   "metadata": {},
   "outputs": [],
   "source": [
    "mostly_ai_data = pd.read_csv(\"test_syn.csv\")"
   ]
  },
  {
   "cell_type": "code",
   "execution_count": null,
   "metadata": {},
   "outputs": [
    {
     "data": {
      "text/plain": [
       "Index(['subject_id', 'hadm_id', 'admittime', 'dischtime', 'deathtime',\n",
       "       'admission_type', 'admission_location', 'discharge_location',\n",
       "       'insurance', 'language', 'religion', 'marital_status', 'ethnicity',\n",
       "       'edregtime', 'edouttime', 'has_chartevents_data',\n",
       "       'hospital_expire_flag'],\n",
       "      dtype='object')"
      ]
     },
     "execution_count": 68,
     "metadata": {},
     "output_type": "execute_result"
    }
   ],
   "source": [
    "sample.columns"
   ]
  },
  {
   "cell_type": "code",
   "execution_count": null,
   "metadata": {},
   "outputs": [],
   "source": [
    "mostly_ai_data = mostly_ai_data.drop(['hospital_expire_flag'], axis=1)"
   ]
  },
  {
   "cell_type": "code",
   "execution_count": null,
   "metadata": {},
   "outputs": [
    {
     "data": {
      "text/plain": [
       "0.5564527888761744"
      ]
     },
     "execution_count": 76,
     "metadata": {},
     "output_type": "execute_result"
    }
   ],
   "source": [
    "evaluate(mostly_ai_data, train_data.loc[:, mostly_ai_data.columns], metrics=['DiscreteKLDivergence'])"
   ]
  },
  {
   "cell_type": "code",
   "execution_count": null,
   "metadata": {},
   "outputs": [
    {
     "data": {
      "text/plain": [
       "0.434181554015113"
      ]
     },
     "execution_count": 77,
     "metadata": {},
     "output_type": "execute_result"
    }
   ],
   "source": [
    "evaluate(sample.loc[:, mostly_ai_data.columns], train_data.loc[:, mostly_ai_data.columns], metrics=['DiscreteKLDivergence'])"
   ]
  },
  {
   "cell_type": "code",
   "execution_count": null,
   "metadata": {},
   "outputs": [
    {
     "data": {
      "text/plain": [
       "0.29878381842255286"
      ]
     },
     "execution_count": 78,
     "metadata": {},
     "output_type": "execute_result"
    }
   ],
   "source": [
    "evaluate(mostly_ai_data, train_data.loc[:, mostly_ai_data.columns], metrics=['ContinuousKLDivergence'])"
   ]
  },
  {
   "cell_type": "code",
   "execution_count": null,
   "metadata": {},
   "outputs": [
    {
     "data": {
      "text/plain": [
       "0.5400340429220125"
      ]
     },
     "execution_count": 79,
     "metadata": {},
     "output_type": "execute_result"
    }
   ],
   "source": [
    "evaluate(sample.loc[:, mostly_ai_data.columns], train_data.loc[:, mostly_ai_data.columns], metrics=['ContinuousKLDivergence'])"
   ]
  }
 ],
 "metadata": {
  "kernelspec": {
   "display_name": "Python 3.8.13 ('msc_project')",
   "language": "python",
   "name": "python3"
  },
  "language_info": {
   "codemirror_mode": {
    "name": "ipython",
    "version": 3
   },
   "file_extension": ".py",
   "mimetype": "text/x-python",
   "name": "python",
   "nbconvert_exporter": "python",
   "pygments_lexer": "ipython3",
   "version": "3.8.13"
  },
  "orig_nbformat": 4,
  "vscode": {
   "interpreter": {
    "hash": "e56015fb566b08f7af163d42c82cf08fa5d6db3fbaaffa0afaaff5a893fc0496"
   }
  }
 },
 "nbformat": 4,
 "nbformat_minor": 2
}
