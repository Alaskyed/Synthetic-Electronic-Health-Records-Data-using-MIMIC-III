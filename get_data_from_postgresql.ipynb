{
 "cells": [
  {
   "cell_type": "code",
   "execution_count": 65,
   "metadata": {},
   "outputs": [],
   "source": [
    "import psycopg2\n",
    "from configparser import ConfigParser\n",
    "import pandas as pd\n",
    "\n",
    "import common"
   ]
  },
  {
   "cell_type": "code",
   "execution_count": 66,
   "metadata": {},
   "outputs": [],
   "source": [
    "import warnings\n",
    "warnings.filterwarnings(\"ignore\")"
   ]
  },
  {
   "cell_type": "code",
   "execution_count": 67,
   "metadata": {},
   "outputs": [],
   "source": [
    "csv_save_path = \"F:\\\\MSc Project\\\\temp_sets_100\\\\\""
   ]
  },
  {
   "cell_type": "markdown",
   "metadata": {},
   "source": [
    "\n",
    "\n",
    "## Connect to PostgreSQL"
   ]
  },
  {
   "cell_type": "code",
   "execution_count": 68,
   "metadata": {},
   "outputs": [],
   "source": [
    "def postgresql_config(filename='config.ini', section='postgresql'):\n",
    "    # create a parser\n",
    "    parser = ConfigParser()\n",
    "    # read config file\n",
    "    parser.read(filename)\n",
    "\n",
    "    # get section, default to postgresql\n",
    "    db = {}\n",
    "    if parser.has_section(section):\n",
    "        params = parser.items(section)\n",
    "        for param in params:\n",
    "            db[param[0]] = param[1]\n",
    "    else:\n",
    "        raise Exception('Section {0} not found in the {1} file'.format(section, filename))\n",
    "\n",
    "    return db"
   ]
  },
  {
   "cell_type": "code",
   "execution_count": 69,
   "metadata": {},
   "outputs": [],
   "source": [
    "def test_postgresql_connect():\n",
    "    \"\"\" Connect to the PostgreSQL database server \"\"\"\n",
    "    conn = None\n",
    "    try:\n",
    "        # read connection parameters\n",
    "        params = postgresql_config()\n",
    "\n",
    "        print('------Test Connection------')\n",
    "\n",
    "        # connect to the PostgreSQL server\n",
    "        print('Connecting to the PostgreSQL database...')\n",
    "        conn = psycopg2.connect(**params)\n",
    "\n",
    "        # create a cursor\n",
    "        cur = conn.cursor()\n",
    "\n",
    "        # execute a statement\n",
    "        print('PostgreSQL database version:')\n",
    "        cur.execute('SELECT version()')\n",
    "\n",
    "        # display the PostgreSQL database server version\n",
    "        db_version = cur.fetchone()\n",
    "        print(db_version)\n",
    "\n",
    "        # close the communication with the PostgreSQL\n",
    "        cur.close()\n",
    "        print('Database connection closed.')\n",
    "        # Successfully connected, return True\n",
    "        print('Successfully connected!')\n",
    "        return True\n",
    "    except (Exception, psycopg2.DatabaseError) as error:\n",
    "        print(error)\n",
    "    finally:\n",
    "        if conn is not None:\n",
    "            conn.close()\n",
    "        print('------Test Finished------')"
   ]
  },
  {
   "cell_type": "code",
   "execution_count": 70,
   "metadata": {},
   "outputs": [
    {
     "name": "stdout",
     "output_type": "stream",
     "text": [
      "------Test Connection------\n",
      "Connecting to the PostgreSQL database...\n",
      "PostgreSQL database version:\n",
      "('PostgreSQL 14.2, compiled by Visual C++ build 1914, 64-bit',)\n",
      "Database connection closed.\n",
      "Successfully connected!\n",
      "------Test Finished------\n"
     ]
    },
    {
     "data": {
      "text/plain": [
       "True"
      ]
     },
     "execution_count": 70,
     "metadata": {},
     "output_type": "execute_result"
    }
   ],
   "source": [
    "test_postgresql_connect()"
   ]
  },
  {
   "cell_type": "markdown",
   "metadata": {},
   "source": [
    "---\n",
    "\n",
    "## Querry data from PostgreSQl"
   ]
  },
  {
   "cell_type": "markdown",
   "metadata": {},
   "source": [
    "### Get patients data"
   ]
  },
  {
   "cell_type": "code",
   "execution_count": 71,
   "metadata": {},
   "outputs": [],
   "source": [
    "def get_patients():\n",
    "    \"\"\" query data from the patients table \"\"\"\n",
    "    conn = None\n",
    "    try:\n",
    "        params = postgresql_config()\n",
    "        conn = psycopg2.connect(**params)\n",
    "        cur = conn.cursor()\n",
    "\n",
    "        cur.execute(\"SELECT * from patients\")\n",
    "        print(\"The number of parts: \", cur.rowcount)\n",
    "        row = cur.fetchone()\n",
    "\n",
    "        while row is not None:\n",
    "            print(row)\n",
    "            row = cur.fetchone()\n",
    "\n",
    "        cur.close()\n",
    "    except (Exception, psycopg2.DatabaseError) as error:\n",
    "        print(error)\n",
    "    finally:\n",
    "        if conn is not None:\n",
    "            conn.close()"
   ]
  },
  {
   "cell_type": "code",
   "execution_count": 72,
   "metadata": {},
   "outputs": [],
   "source": [
    "# Select some patients as sample\n",
    "patient_num = 100\n",
    "\n",
    "sql = \"SELECT * FROM patients p order by random() limit \" + str(patient_num)\n",
    "conn = psycopg2.connect(**postgresql_config())"
   ]
  },
  {
   "cell_type": "code",
   "execution_count": 73,
   "metadata": {},
   "outputs": [],
   "source": [
    "# Execute the sql and form the result as DataFrame\n",
    "random_patients_df = pd.read_sql(sql, conn)"
   ]
  },
  {
   "cell_type": "code",
   "execution_count": 74,
   "metadata": {},
   "outputs": [],
   "source": [
    "# Save patient sample\n",
    "random_patients_df.to_csv(csv_save_path + \"patients.csv\", index=None)"
   ]
  },
  {
   "cell_type": "code",
   "execution_count": 75,
   "metadata": {},
   "outputs": [
    {
     "data": {
      "text/plain": [
       "0     44346\n",
       "1     22903\n",
       "2      9279\n",
       "3     20915\n",
       "4     42124\n",
       "      ...  \n",
       "95    95603\n",
       "96    31552\n",
       "97    14758\n",
       "98    26277\n",
       "99    90756\n",
       "Name: subject_id, Length: 100, dtype: int64"
      ]
     },
     "execution_count": 75,
     "metadata": {},
     "output_type": "execute_result"
    }
   ],
   "source": [
    "# Pick Subject_id\n",
    "patients_subject_ids = random_patients_df['subject_id']\n",
    "patients_subject_ids"
   ]
  },
  {
   "cell_type": "markdown",
   "metadata": {},
   "source": [
    "---\n",
    "\n",
    "### Define some methods"
   ]
  },
  {
   "cell_type": "code",
   "execution_count": 76,
   "metadata": {},
   "outputs": [],
   "source": [
    "# create query scripts\n",
    "\n",
    "def create_query_scripts(table_name):\n",
    "    return \"SELECT * FROM \" + table_name + \" WHERE subject_id = \""
   ]
  },
  {
   "cell_type": "code",
   "execution_count": 77,
   "metadata": {},
   "outputs": [],
   "source": [
    "# Query data from database\n",
    "def select_data(subject_ids, sql):\n",
    "    '''\n",
    "    Query data according to the subject from table\n",
    "    :param subject_ids:\n",
    "    :param sql:\n",
    "    :return:\n",
    "    '''\n",
    "\n",
    "    # Create the connection object\n",
    "    conn = None\n",
    "\n",
    "    try:\n",
    "        # Get connection\n",
    "        params = postgresql_config()\n",
    "        conn = psycopg2.connect(**params)\n",
    "        # Create a empty DataFrame\n",
    "        table_df = pd.DataFrame()\n",
    "        # Iterate subject_ids and query data about patients\n",
    "        for subject_id in subject_ids:\n",
    "            new_sql = sql + str(subject_id)\n",
    "            # Query data and transform to DataFrame form\n",
    "            select_result = pd.read_sql(new_sql, conn)\n",
    "\n",
    "            # The first cycle, initial the DataFrame\n",
    "            if table_df.empty:\n",
    "                table_df = select_result.copy()\n",
    "            # DataFrame was initialed, just append the data\n",
    "            else:\n",
    "                table_df = pd.concat([table_df, select_result], axis=0)\n",
    "\n",
    "        return table_df\n",
    "    except (Exception, psycopg2.DatabaseError) as error:\n",
    "        print(error)\n",
    "    finally:\n",
    "        if conn is not None:\n",
    "            conn.close()"
   ]
  },
  {
   "cell_type": "code",
   "execution_count": 78,
   "metadata": {},
   "outputs": [],
   "source": [
    "def query_others(patients_subject_ids, table_name_list):\n",
    "    '''\n",
    "    Pass in a list containing table names, traverse the list, and query data from each table\n",
    "    :param patients_subject_ids: patients id\n",
    "    :param table_name_list: table list\n",
    "    '''\n",
    "    for table_name in table_name_list:\n",
    "        print(\"Start querying: \" + table_name)\n",
    "        # Query data\n",
    "        sample = select_data(patients_subject_ids, create_query_scripts(table_name))\n",
    "        # Save sample to csv file\n",
    "        sample.to_csv(csv_save_path + table_name + \".csv\", index=None)\n",
    "    print(\"All done!\" )"
   ]
  },
  {
   "cell_type": "markdown",
   "metadata": {},
   "source": [
    "## Start querying"
   ]
  },
  {
   "cell_type": "code",
   "execution_count": 79,
   "metadata": {},
   "outputs": [],
   "source": [
    "table_list = ['admissions', 'callout', 'icustays', 'chartevents', 'outputevents', 'inputevents_mv', \n",
    "            'procedureevents_mv', 'cptevents', 'labevents', 'microbiologyevents', 'procedures_icd']"
   ]
  },
  {
   "cell_type": "code",
   "execution_count": 80,
   "metadata": {},
   "outputs": [
    {
     "name": "stdout",
     "output_type": "stream",
     "text": [
      "Start querying: admissions\n",
      "Start querying: callout\n",
      "Start querying: icustays\n",
      "Start querying: chartevents\n",
      "Start querying: outputevents\n",
      "Start querying: inputevents_mv\n",
      "Start querying: procedureevents_mv\n",
      "Start querying: cptevents\n",
      "Start querying: labevents\n",
      "Start querying: microbiologyevents\n",
      "Start querying: procedures_icd\n",
      "All done!\n"
     ]
    }
   ],
   "source": [
    "query_others(patients_subject_ids, table_list)"
   ]
  }
 ],
 "metadata": {
  "kernelspec": {
   "display_name": "Python 3.8.13 ('msc_project')",
   "language": "python",
   "name": "python3"
  },
  "language_info": {
   "codemirror_mode": {
    "name": "ipython",
    "version": 3
   },
   "file_extension": ".py",
   "mimetype": "text/x-python",
   "name": "python",
   "nbconvert_exporter": "python",
   "pygments_lexer": "ipython3",
   "version": "3.8.13"
  },
  "orig_nbformat": 4,
  "vscode": {
   "interpreter": {
    "hash": "e56015fb566b08f7af163d42c82cf08fa5d6db3fbaaffa0afaaff5a893fc0496"
   }
  }
 },
 "nbformat": 4,
 "nbformat_minor": 2
}
