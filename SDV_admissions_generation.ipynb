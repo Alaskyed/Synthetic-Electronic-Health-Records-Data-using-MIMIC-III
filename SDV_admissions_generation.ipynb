{
 "cells": [
  {
   "cell_type": "code",
   "execution_count": 1,
   "metadata": {},
   "outputs": [],
   "source": [
    "# from google.colab import drive\n",
    "# drive.mount('/content/drive')"
   ]
  },
  {
   "cell_type": "code",
   "execution_count": 2,
   "metadata": {},
   "outputs": [],
   "source": [
    "# ! pip install pgmpy"
   ]
  },
  {
   "cell_type": "code",
   "execution_count": 3,
   "metadata": {},
   "outputs": [],
   "source": [
    "# Ignore warnings\n",
    "import warnings\n",
    "warnings.filterwarnings(\"ignore\")"
   ]
  },
  {
   "cell_type": "code",
   "execution_count": 4,
   "metadata": {},
   "outputs": [],
   "source": [
    "import pandas as pd\n",
    "import numpy as np\n",
    "\n",
    "import common"
   ]
  },
  {
   "cell_type": "code",
   "execution_count": 5,
   "metadata": {},
   "outputs": [],
   "source": [
    "date_set_path = \"../temp_sets_100/\""
   ]
  },
  {
   "cell_type": "markdown",
   "metadata": {},
   "source": [
    "## admissions"
   ]
  },
  {
   "cell_type": "markdown",
   "metadata": {},
   "source": [
    "### Read samples"
   ]
  },
  {
   "cell_type": "code",
   "execution_count": 6,
   "metadata": {},
   "outputs": [],
   "source": [
    "admissions_df = common.read_csv_no_rowid(date_set_path+\"admissions.csv\")"
   ]
  },
  {
   "cell_type": "markdown",
   "metadata": {},
   "source": [
    "### Data preproces"
   ]
  },
  {
   "cell_type": "code",
   "execution_count": 7,
   "metadata": {},
   "outputs": [],
   "source": [
    "# Drop useless colums\n",
    "admissions_df.drop(['diagnosis', 'hospital_expire_flag'], axis=1, inplace=True)"
   ]
  },
  {
   "cell_type": "markdown",
   "metadata": {},
   "source": [
    "#### Deal with null values"
   ]
  },
  {
   "cell_type": "code",
   "execution_count": 8,
   "metadata": {},
   "outputs": [
    {
     "name": "stdout",
     "output_type": "stream",
     "text": [
      "Total columns: 16\n",
      "Total rows: 123\n",
      "--------------\n",
      "subject_id                0\n",
      "hadm_id                   0\n",
      "admittime                 0\n",
      "dischtime                 0\n",
      "deathtime               112\n",
      "admission_type            0\n",
      "admission_location        0\n",
      "discharge_location        0\n",
      "insurance                 0\n",
      "language                 52\n",
      "religion                  1\n",
      "marital_status           18\n",
      "ethnicity                 0\n",
      "edregtime                66\n",
      "edouttime                66\n",
      "has_chartevents_data      0\n",
      "dtype: int64\n"
     ]
    }
   ],
   "source": [
    "# Check null value in table\n",
    "common.nan_count(admissions_df)"
   ]
  },
  {
   "cell_type": "code",
   "execution_count": 9,
   "metadata": {},
   "outputs": [],
   "source": [
    "# Set a value replacing the null time value\n",
    "# nan_datetime=pd.to_datetime(0)"
   ]
  },
  {
   "cell_type": "code",
   "execution_count": 10,
   "metadata": {},
   "outputs": [],
   "source": [
    "# admissions_df['dob'].fillna(value=nan_datetime, inplace=True)\n",
    "# admissions_df['dod_hosp'].fillna(value=nan_datetime, inplace=True)\n",
    "# admissions_df['dod_ssn'].fillna(value=nan_datetime, inplace=True)"
   ]
  },
  {
   "cell_type": "code",
   "execution_count": 11,
   "metadata": {},
   "outputs": [
    {
     "name": "stdout",
     "output_type": "stream",
     "text": [
      "Total columns: 16\n",
      "Total rows: 123\n",
      "--------------\n",
      "subject_id                0\n",
      "hadm_id                   0\n",
      "admittime                 0\n",
      "dischtime                 0\n",
      "deathtime               112\n",
      "admission_type            0\n",
      "admission_location        0\n",
      "discharge_location        0\n",
      "insurance                 0\n",
      "language                 52\n",
      "religion                  1\n",
      "marital_status           18\n",
      "ethnicity                 0\n",
      "edregtime                66\n",
      "edouttime                66\n",
      "has_chartevents_data      0\n",
      "dtype: int64\n"
     ]
    }
   ],
   "source": [
    "common.nan_count(admissions_df)"
   ]
  },
  {
   "cell_type": "markdown",
   "metadata": {},
   "source": [
    "#### Set the column types"
   ]
  },
  {
   "cell_type": "code",
   "execution_count": 12,
   "metadata": {},
   "outputs": [
    {
     "data": {
      "text/plain": [
       "subject_id               int64\n",
       "hadm_id                  int64\n",
       "admittime               object\n",
       "dischtime               object\n",
       "deathtime               object\n",
       "admission_type          object\n",
       "admission_location      object\n",
       "discharge_location      object\n",
       "insurance               object\n",
       "language                object\n",
       "religion                object\n",
       "marital_status          object\n",
       "ethnicity               object\n",
       "edregtime               object\n",
       "edouttime               object\n",
       "has_chartevents_data     int64\n",
       "dtype: object"
      ]
     },
     "execution_count": 12,
     "metadata": {},
     "output_type": "execute_result"
    }
   ],
   "source": [
    "admissions_df.dtypes"
   ]
  },
  {
   "cell_type": "code",
   "execution_count": 13,
   "metadata": {},
   "outputs": [],
   "source": [
    "# Transfer some date type\n",
    "admissions_df['admittime'] = pd.to_datetime(admissions_df['admittime'])\n",
    "admissions_df['dischtime'] = pd.to_datetime(admissions_df['dischtime'])\n",
    "admissions_df['deathtime'] = pd.to_datetime(admissions_df['deathtime'])\n",
    "admissions_df['edregtime'] = pd.to_datetime(admissions_df['edregtime'])\n",
    "admissions_df['edouttime'] = pd.to_datetime(admissions_df['edouttime'])"
   ]
  },
  {
   "cell_type": "code",
   "execution_count": 14,
   "metadata": {},
   "outputs": [
    {
     "data": {
      "text/plain": [
       "subject_id                       int64\n",
       "hadm_id                          int64\n",
       "admittime               datetime64[ns]\n",
       "dischtime               datetime64[ns]\n",
       "deathtime               datetime64[ns]\n",
       "admission_type                  object\n",
       "admission_location              object\n",
       "discharge_location              object\n",
       "insurance                       object\n",
       "language                        object\n",
       "religion                        object\n",
       "marital_status                  object\n",
       "ethnicity                       object\n",
       "edregtime               datetime64[ns]\n",
       "edouttime               datetime64[ns]\n",
       "has_chartevents_data             int64\n",
       "dtype: object"
      ]
     },
     "execution_count": 14,
     "metadata": {},
     "output_type": "execute_result"
    }
   ],
   "source": [
    "admissions_df.dtypes"
   ]
  },
  {
   "cell_type": "markdown",
   "metadata": {},
   "source": [
    "#### Deal with some special value"
   ]
  },
  {
   "cell_type": "code",
   "execution_count": 15,
   "metadata": {},
   "outputs": [
    {
     "data": {
      "text/plain": [
       "subject_id                                   97263\n",
       "hadm_id                                     164631\n",
       "admittime                      2122-01-15 22:31:00\n",
       "dischtime                      2122-01-20 20:30:00\n",
       "deathtime                      2122-01-21 20:30:00\n",
       "admission_type                           EMERGENCY\n",
       "admission_location       CLINIC REFERRAL/PREMATURE\n",
       "discharge_location                    DEAD/EXPIRED\n",
       "insurance                                  Private\n",
       "language                                      ENGL\n",
       "religion                              UNOBTAINABLE\n",
       "marital_status                            DIVORCED\n",
       "ethnicity               PATIENT DECLINED TO ANSWER\n",
       "edregtime                      2122-01-15 21:12:00\n",
       "edouttime                      2122-01-16 01:56:00\n",
       "has_chartevents_data                             1\n",
       "Name: 113, dtype: object"
      ]
     },
     "execution_count": 15,
     "metadata": {},
     "output_type": "execute_result"
    }
   ],
   "source": [
    "admissions_df.loc[113]"
   ]
  },
  {
   "cell_type": "code",
   "execution_count": 16,
   "metadata": {},
   "outputs": [],
   "source": [
    "admissions_df = admissions_df.drop(admissions_df.loc[(pd.isna(admissions_df['deathtime']) == False) & (admissions_df['dischtime'] != admissions_df['deathtime'])].index)"
   ]
  },
  {
   "cell_type": "markdown",
   "metadata": {},
   "source": [
    "---"
   ]
  },
  {
   "cell_type": "markdown",
   "metadata": {},
   "source": [
    "##  Build Network"
   ]
  },
  {
   "cell_type": "code",
   "execution_count": 17,
   "metadata": {},
   "outputs": [],
   "source": [
    "from sdv.tabular import CTGAN\n",
    "from sdv.constraints import FixedCombinations\n",
    "from sdv.constraints import create_custom_constraint"
   ]
  },
  {
   "cell_type": "code",
   "execution_count": 18,
   "metadata": {},
   "outputs": [
    {
     "data": {
      "text/plain": [
       "Index(['subject_id', 'hadm_id', 'admittime', 'dischtime', 'deathtime',\n",
       "       'admission_type', 'admission_location', 'discharge_location',\n",
       "       'insurance', 'language', 'religion', 'marital_status', 'ethnicity',\n",
       "       'edregtime', 'edouttime', 'has_chartevents_data'],\n",
       "      dtype='object')"
      ]
     },
     "execution_count": 18,
     "metadata": {},
     "output_type": "execute_result"
    }
   ],
   "source": [
    "admissions_df.columns"
   ]
  },
  {
   "cell_type": "markdown",
   "metadata": {},
   "source": [
    "### Set constraint"
   ]
  },
  {
   "cell_type": "code",
   "execution_count": 19,
   "metadata": {},
   "outputs": [],
   "source": [
    "def time_is_valid(column_names, data):\n",
    "    admit_disch = (data['admittime'] <= data['dischtime']) & ((data['dischtime'] - data['admittime']).apply(lambda x: 0 <= x.days  <= 365))\n",
    "\n",
    "    edreg_admit = \\\n",
    "        (pd.isna(data['edregtime']) & pd.isna(data['edouttime'])) | \\\n",
    "        ( \\\n",
    "            ((pd.isna(data['edregtime']) == False) & (pd.isna(data['edouttime']) == False)) & \\\n",
    "            ((data['admittime'] - data['edregtime']).apply(lambda x: 0 <= x.days  <= 1)) \\\n",
    "        )\n",
    "\n",
    "    # admit_edout = (pd.isna(admissions_df['edregtime'])) | (admissions_df['admittime'] <= admissions_df['edouttime'])\n",
    "\n",
    "    edout_disch = \\\n",
    "        (pd.isna(data['edregtime']) & pd.isna(data['edouttime'])) | \\\n",
    "        ( \\\n",
    "            ((pd.isna(data['edregtime']) == False) & (pd.isna(data['edouttime']) == False)) & \\\n",
    "            ((data['dischtime'] - data['edouttime']).apply(lambda x: 0 <= x.days  <= 365)) \\\n",
    "        )\n",
    "\n",
    "    # disch_death = (pd.isna(data['deathtime'])) | ((pd.isna(data['deathtime']) == False) & (data['dischtime'] == data['deathtime']))        \n",
    "    \n",
    "    return admit_disch & edreg_admit & edout_disch"
   ]
  },
  {
   "cell_type": "code",
   "execution_count": 20,
   "metadata": {},
   "outputs": [],
   "source": [
    "def time_trasform(column_names, data):\n",
    "    # print(data.loc[:, ['dod', 'dod_hosp', 'dod_ssn']])\n",
    "    return data\n",
    "\n",
    "def time_reverse_transform(column_names, transformed_data):\n",
    "\n",
    "    is_death = (pd.isna(transformed_data['deathtime']) == False)\n",
    "    transformed_data.loc[is_death, ['deathtime']] = transformed_data[is_death]['dischtime'].values\n",
    "    transformed_data['deathtime'] = pd.to_datetime(transformed_data['deathtime'])\n",
    "\n",
    "    return transformed_data"
   ]
  },
  {
   "cell_type": "code",
   "execution_count": 21,
   "metadata": {},
   "outputs": [],
   "source": [
    "TimeProcess = create_custom_constraint(\n",
    "    is_valid_fn=time_is_valid,\n",
    "    transform_fn=time_trasform,\n",
    "    reverse_transform_fn=time_reverse_transform\n",
    ")"
   ]
  },
  {
   "cell_type": "code",
   "execution_count": 22,
   "metadata": {},
   "outputs": [],
   "source": [
    "time_constraint = TimeProcess(\n",
    "    column_names=['admittime', 'dischtime','edregtime', 'edouttime', 'deathtime']\n",
    ")"
   ]
  },
  {
   "cell_type": "code",
   "execution_count": 23,
   "metadata": {},
   "outputs": [],
   "source": [
    "constrains = [time_constraint]"
   ]
  },
  {
   "cell_type": "markdown",
   "metadata": {},
   "source": [
    "### Build model"
   ]
  },
  {
   "cell_type": "code",
   "execution_count": 42,
   "metadata": {},
   "outputs": [],
   "source": [
    "model = CTGAN(\n",
    "    constraints=constrains, \n",
    "    generator_lr=0.0005,\n",
    "    batch_size=10000,\n",
    "    cuda=True, \n",
    "    verbose=True, \n",
    "    epochs=60)"
   ]
  },
  {
   "cell_type": "code",
   "execution_count": 43,
   "metadata": {},
   "outputs": [
    {
     "data": {
      "text/plain": [
       "122"
      ]
     },
     "execution_count": 43,
     "metadata": {},
     "output_type": "execute_result"
    }
   ],
   "source": [
    "len(admissions_df)"
   ]
  },
  {
   "cell_type": "code",
   "execution_count": 44,
   "metadata": {},
   "outputs": [
    {
     "name": "stdout",
     "output_type": "stream",
     "text": [
      "Epoch 1, Loss G:  1.6460,Loss D: -0.0081\n",
      "Epoch 2, Loss G:  1.5896,Loss D: -0.0353\n",
      "Epoch 3, Loss G:  1.5417,Loss D: -0.0677\n",
      "Epoch 4, Loss G:  1.5017,Loss D: -0.0897\n",
      "Epoch 5, Loss G:  1.4208,Loss D: -0.1165\n",
      "Epoch 6, Loss G:  1.3630,Loss D: -0.1269\n",
      "Epoch 7, Loss G:  1.3014,Loss D: -0.1383\n",
      "Epoch 8, Loss G:  1.2087,Loss D: -0.1325\n",
      "Epoch 9, Loss G:  1.1061,Loss D: -0.1309\n",
      "Epoch 10, Loss G:  1.0101,Loss D: -0.1500\n",
      "Epoch 11, Loss G:  0.9237,Loss D: -0.1355\n",
      "Epoch 12, Loss G:  0.8112,Loss D: -0.1127\n",
      "Epoch 13, Loss G:  0.7018,Loss D: -0.0998\n",
      "Epoch 14, Loss G:  0.5993,Loss D: -0.0839\n",
      "Epoch 15, Loss G:  0.5125,Loss D: -0.0438\n",
      "Epoch 16, Loss G:  0.4254,Loss D:  0.0214\n",
      "Epoch 17, Loss G:  0.3325,Loss D:  0.0535\n",
      "Epoch 18, Loss G:  0.2619,Loss D:  0.1111\n",
      "Epoch 19, Loss G:  0.1684,Loss D:  0.1974\n",
      "Epoch 20, Loss G:  0.1046,Loss D:  0.2261\n",
      "Epoch 21, Loss G:  0.0836,Loss D:  0.2434\n",
      "Epoch 22, Loss G:  0.1093,Loss D:  0.2781\n",
      "Epoch 23, Loss G:  0.1496,Loss D:  0.2323\n",
      "Epoch 24, Loss G:  0.1773,Loss D:  0.2174\n",
      "Epoch 25, Loss G:  0.2337,Loss D:  0.1745\n",
      "Epoch 26, Loss G:  0.2438,Loss D:  0.0836\n",
      "Epoch 27, Loss G:  0.3416,Loss D:  0.0030\n",
      "Epoch 28, Loss G:  0.3912,Loss D: -0.0646\n",
      "Epoch 29, Loss G:  0.3936,Loss D: -0.1337\n",
      "Epoch 30, Loss G:  0.4665,Loss D: -0.1686\n",
      "Epoch 31, Loss G:  0.4818,Loss D: -0.1850\n",
      "Epoch 32, Loss G:  0.4898,Loss D: -0.1995\n",
      "Epoch 33, Loss G:  0.4400,Loss D: -0.1852\n",
      "Epoch 34, Loss G:  0.3677,Loss D: -0.0929\n",
      "Epoch 35, Loss G:  0.2922,Loss D: -0.0310\n",
      "Epoch 36, Loss G:  0.2113,Loss D:  0.0798\n",
      "Epoch 37, Loss G:  0.0845,Loss D:  0.1581\n",
      "Epoch 38, Loss G: -0.0224,Loss D:  0.2394\n",
      "Epoch 39, Loss G: -0.1087,Loss D:  0.3343\n",
      "Epoch 40, Loss G: -0.1561,Loss D:  0.3761\n",
      "Epoch 41, Loss G: -0.2270,Loss D:  0.3815\n",
      "Epoch 42, Loss G: -0.2291,Loss D:  0.3572\n",
      "Epoch 43, Loss G: -0.2479,Loss D:  0.3292\n",
      "Epoch 44, Loss G: -0.1967,Loss D:  0.2970\n",
      "Epoch 45, Loss G: -0.1489,Loss D:  0.1899\n",
      "Epoch 46, Loss G: -0.0711,Loss D:  0.1355\n",
      "Epoch 47, Loss G:  0.0105,Loss D:  0.0355\n",
      "Epoch 48, Loss G:  0.0730,Loss D: -0.0329\n",
      "Epoch 49, Loss G:  0.1576,Loss D: -0.1022\n",
      "Epoch 50, Loss G:  0.2198,Loss D: -0.1947\n",
      "Epoch 51, Loss G:  0.2457,Loss D: -0.2502\n",
      "Epoch 52, Loss G:  0.2917,Loss D: -0.2954\n",
      "Epoch 53, Loss G:  0.2921,Loss D: -0.3073\n",
      "Epoch 54, Loss G:  0.2881,Loss D: -0.2813\n",
      "Epoch 55, Loss G:  0.2328,Loss D: -0.2764\n",
      "Epoch 56, Loss G:  0.1793,Loss D: -0.1872\n",
      "Epoch 57, Loss G:  0.1522,Loss D: -0.1406\n",
      "Epoch 58, Loss G:  0.0186,Loss D: -0.0502\n",
      "Epoch 59, Loss G: -0.1327,Loss D:  0.0440\n",
      "Epoch 60, Loss G: -0.2388,Loss D:  0.1667\n"
     ]
    }
   ],
   "source": [
    "train_data = admissions_df\n",
    "model.fit(train_data)"
   ]
  },
  {
   "cell_type": "code",
   "execution_count": 46,
   "metadata": {},
   "outputs": [],
   "source": [
    "import cloudpickle\n",
    "\n",
    "with open(date_set_path + \"100_models/\" + \"admissions_model.pkl\", 'wb') as f:\n",
    "    cloudpickle.dump(model, f)"
   ]
  },
  {
   "cell_type": "code",
   "execution_count": 29,
   "metadata": {},
   "outputs": [],
   "source": [
    "import cloudpickle\n",
    "\n",
    "with open(date_set_path + \"100_models/\" + \"admissions_model.pkl\", 'rb') as f:\n",
    "    loaded_model = cloudpickle.load(f)"
   ]
  },
  {
   "cell_type": "code",
   "execution_count": null,
   "metadata": {},
   "outputs": [],
   "source": [
    "# model.save(date_set_path + \"100_models/\" + \"admissions_model.pkl\")"
   ]
  },
  {
   "cell_type": "code",
   "execution_count": null,
   "metadata": {},
   "outputs": [
    {
     "name": "stderr",
     "output_type": "stream",
     "text": [
      "Sampling rows: 100%|██████████| 100/100 [00:09<00:00, 10.41it/s]\n"
     ]
    }
   ],
   "source": [
    "sample = model.sample(100)"
   ]
  },
  {
   "cell_type": "code",
   "execution_count": null,
   "metadata": {},
   "outputs": [],
   "source": [
    "# Add some original columns\n",
    "sample['hospital_expire_flag'] = sample['deathtime'].apply(lambda x: 0 if pd.isna(x) else 1)"
   ]
  },
  {
   "cell_type": "code",
   "execution_count": null,
   "metadata": {},
   "outputs": [
    {
     "data": {
      "text/html": [
       "<div>\n",
       "<style scoped>\n",
       "    .dataframe tbody tr th:only-of-type {\n",
       "        vertical-align: middle;\n",
       "    }\n",
       "\n",
       "    .dataframe tbody tr th {\n",
       "        vertical-align: top;\n",
       "    }\n",
       "\n",
       "    .dataframe thead th {\n",
       "        text-align: right;\n",
       "    }\n",
       "</style>\n",
       "<table border=\"1\" class=\"dataframe\">\n",
       "  <thead>\n",
       "    <tr style=\"text-align: right;\">\n",
       "      <th></th>\n",
       "      <th>subject_id</th>\n",
       "      <th>hadm_id</th>\n",
       "      <th>admittime</th>\n",
       "      <th>dischtime</th>\n",
       "      <th>deathtime</th>\n",
       "      <th>admission_type</th>\n",
       "      <th>admission_location</th>\n",
       "      <th>discharge_location</th>\n",
       "      <th>insurance</th>\n",
       "      <th>language</th>\n",
       "      <th>religion</th>\n",
       "      <th>marital_status</th>\n",
       "      <th>ethnicity</th>\n",
       "      <th>edregtime</th>\n",
       "      <th>edouttime</th>\n",
       "      <th>has_chartevents_data</th>\n",
       "      <th>hospital_expire_flag</th>\n",
       "    </tr>\n",
       "  </thead>\n",
       "  <tbody>\n",
       "    <tr>\n",
       "      <th>0</th>\n",
       "      <td>7055</td>\n",
       "      <td>100223</td>\n",
       "      <td>2145-05-23 04:04:00</td>\n",
       "      <td>2145-11-29 19:18:00</td>\n",
       "      <td>NaT</td>\n",
       "      <td>EMERGENCY</td>\n",
       "      <td>PHYS REFERRAL/NORMAL DELI</td>\n",
       "      <td>HOME</td>\n",
       "      <td>Medicare</td>\n",
       "      <td>NaN</td>\n",
       "      <td>CATHOLIC</td>\n",
       "      <td>SINGLE</td>\n",
       "      <td>WHITE</td>\n",
       "      <td>NaT</td>\n",
       "      <td>NaT</td>\n",
       "      <td>1</td>\n",
       "      <td>0</td>\n",
       "    </tr>\n",
       "    <tr>\n",
       "      <th>1</th>\n",
       "      <td>56955</td>\n",
       "      <td>104314</td>\n",
       "      <td>2132-02-25 12:06:00</td>\n",
       "      <td>2132-08-17 03:01:00</td>\n",
       "      <td>NaT</td>\n",
       "      <td>ELECTIVE</td>\n",
       "      <td>EMERGENCY ROOM ADMIT</td>\n",
       "      <td>HOME</td>\n",
       "      <td>Medicaid</td>\n",
       "      <td>RUSS</td>\n",
       "      <td>CATHOLIC</td>\n",
       "      <td>SINGLE</td>\n",
       "      <td>WHITE</td>\n",
       "      <td>NaT</td>\n",
       "      <td>NaT</td>\n",
       "      <td>1</td>\n",
       "      <td>0</td>\n",
       "    </tr>\n",
       "    <tr>\n",
       "      <th>2</th>\n",
       "      <td>12832</td>\n",
       "      <td>100223</td>\n",
       "      <td>2135-04-30 18:14:00</td>\n",
       "      <td>2135-05-02 08:22:00</td>\n",
       "      <td>2135-05-02 08:22:00</td>\n",
       "      <td>EMERGENCY</td>\n",
       "      <td>EMERGENCY ROOM ADMIT</td>\n",
       "      <td>SNF</td>\n",
       "      <td>Medicaid</td>\n",
       "      <td>ENGL</td>\n",
       "      <td>CATHOLIC</td>\n",
       "      <td>MARRIED</td>\n",
       "      <td>WHITE</td>\n",
       "      <td>NaT</td>\n",
       "      <td>NaT</td>\n",
       "      <td>1</td>\n",
       "      <td>1</td>\n",
       "    </tr>\n",
       "    <tr>\n",
       "      <th>3</th>\n",
       "      <td>25713</td>\n",
       "      <td>143754</td>\n",
       "      <td>2110-03-26 23:27:00</td>\n",
       "      <td>2111-01-08 20:03:00</td>\n",
       "      <td>NaT</td>\n",
       "      <td>EMERGENCY</td>\n",
       "      <td>PHYS REFERRAL/NORMAL DELI</td>\n",
       "      <td>HOME HEALTH CARE</td>\n",
       "      <td>Medicare</td>\n",
       "      <td>ENGL</td>\n",
       "      <td>CATHOLIC</td>\n",
       "      <td>SINGLE</td>\n",
       "      <td>WHITE</td>\n",
       "      <td>NaT</td>\n",
       "      <td>NaT</td>\n",
       "      <td>1</td>\n",
       "      <td>0</td>\n",
       "    </tr>\n",
       "    <tr>\n",
       "      <th>4</th>\n",
       "      <td>569</td>\n",
       "      <td>162014</td>\n",
       "      <td>2116-03-16 22:47:00</td>\n",
       "      <td>2116-05-09 11:08:00</td>\n",
       "      <td>NaT</td>\n",
       "      <td>EMERGENCY</td>\n",
       "      <td>TRANSFER FROM HOSP/EXTRAM</td>\n",
       "      <td>HOME HEALTH CARE</td>\n",
       "      <td>Medicaid</td>\n",
       "      <td>NaN</td>\n",
       "      <td>UNOBTAINABLE</td>\n",
       "      <td>WIDOWED</td>\n",
       "      <td>BLACK/HAITIAN</td>\n",
       "      <td>NaT</td>\n",
       "      <td>NaT</td>\n",
       "      <td>1</td>\n",
       "      <td>0</td>\n",
       "    </tr>\n",
       "  </tbody>\n",
       "</table>\n",
       "</div>"
      ],
      "text/plain": [
       "   subject_id  hadm_id           admittime           dischtime  \\\n",
       "0        7055   100223 2145-05-23 04:04:00 2145-11-29 19:18:00   \n",
       "1       56955   104314 2132-02-25 12:06:00 2132-08-17 03:01:00   \n",
       "2       12832   100223 2135-04-30 18:14:00 2135-05-02 08:22:00   \n",
       "3       25713   143754 2110-03-26 23:27:00 2111-01-08 20:03:00   \n",
       "4         569   162014 2116-03-16 22:47:00 2116-05-09 11:08:00   \n",
       "\n",
       "            deathtime admission_type         admission_location  \\\n",
       "0                 NaT      EMERGENCY  PHYS REFERRAL/NORMAL DELI   \n",
       "1                 NaT       ELECTIVE       EMERGENCY ROOM ADMIT   \n",
       "2 2135-05-02 08:22:00      EMERGENCY       EMERGENCY ROOM ADMIT   \n",
       "3                 NaT      EMERGENCY  PHYS REFERRAL/NORMAL DELI   \n",
       "4                 NaT      EMERGENCY  TRANSFER FROM HOSP/EXTRAM   \n",
       "\n",
       "  discharge_location insurance language      religion marital_status  \\\n",
       "0               HOME  Medicare      NaN      CATHOLIC         SINGLE   \n",
       "1               HOME  Medicaid     RUSS      CATHOLIC         SINGLE   \n",
       "2                SNF  Medicaid     ENGL      CATHOLIC        MARRIED   \n",
       "3   HOME HEALTH CARE  Medicare     ENGL      CATHOLIC         SINGLE   \n",
       "4   HOME HEALTH CARE  Medicaid      NaN  UNOBTAINABLE        WIDOWED   \n",
       "\n",
       "       ethnicity edregtime edouttime  has_chartevents_data  \\\n",
       "0          WHITE       NaT       NaT                     1   \n",
       "1          WHITE       NaT       NaT                     1   \n",
       "2          WHITE       NaT       NaT                     1   \n",
       "3          WHITE       NaT       NaT                     1   \n",
       "4  BLACK/HAITIAN       NaT       NaT                     1   \n",
       "\n",
       "   hospital_expire_flag  \n",
       "0                     0  \n",
       "1                     0  \n",
       "2                     1  \n",
       "3                     0  \n",
       "4                     0  "
      ]
     },
     "execution_count": 47,
     "metadata": {},
     "output_type": "execute_result"
    }
   ],
   "source": [
    "sample.head()"
   ]
  },
  {
   "cell_type": "code",
   "execution_count": null,
   "metadata": {},
   "outputs": [],
   "source": [
    "sample.to_csv(\"test.csv\")"
   ]
  },
  {
   "cell_type": "code",
   "execution_count": null,
   "metadata": {},
   "outputs": [],
   "source": [
    "train_data.to_csv(\"test.csv\")"
   ]
  },
  {
   "cell_type": "markdown",
   "metadata": {},
   "source": [
    "### Process the generated data"
   ]
  },
  {
   "cell_type": "markdown",
   "metadata": {},
   "source": [
    "---"
   ]
  },
  {
   "cell_type": "markdown",
   "metadata": {},
   "source": [
    "## Evaluate data"
   ]
  },
  {
   "cell_type": "code",
   "execution_count": null,
   "metadata": {},
   "outputs": [],
   "source": [
    "from sdv.evaluation import evaluate"
   ]
  },
  {
   "cell_type": "code",
   "execution_count": null,
   "metadata": {},
   "outputs": [
    {
     "data": {
      "text/plain": [
       "Index(['subject_id', 'hadm_id', 'admittime', 'dischtime', 'deathtime',\n",
       "       'admission_type', 'admission_location', 'discharge_location',\n",
       "       'insurance', 'language', 'religion', 'marital_status', 'ethnicity',\n",
       "       'edregtime', 'edouttime', 'has_chartevents_data'],\n",
       "      dtype='object')"
      ]
     },
     "execution_count": 51,
     "metadata": {},
     "output_type": "execute_result"
    }
   ],
   "source": [
    "train_data.columns"
   ]
  },
  {
   "cell_type": "code",
   "execution_count": null,
   "metadata": {},
   "outputs": [
    {
     "data": {
      "text/plain": [
       "0.40531113272964897"
      ]
     },
     "execution_count": 65,
     "metadata": {},
     "output_type": "execute_result"
    }
   ],
   "source": [
    "evaluate(sample.drop(['hospital_expire_flag'], axis=1), train_data, metrics=['DiscreteKLDivergence'])"
   ]
  },
  {
   "cell_type": "code",
   "execution_count": null,
   "metadata": {},
   "outputs": [
    {
     "data": {
      "text/plain": [
       "0.5400340429220125"
      ]
     },
     "execution_count": 61,
     "metadata": {},
     "output_type": "execute_result"
    }
   ],
   "source": [
    "evaluate(sample.drop(['hospital_expire_flag'], axis=1), train_data, metrics=['ContinuousKLDivergence'])"
   ]
  },
  {
   "cell_type": "code",
   "execution_count": null,
   "metadata": {},
   "outputs": [
    {
     "data": {
      "text/plain": [
       "0.6445925116054743"
      ]
     },
     "execution_count": 54,
     "metadata": {},
     "output_type": "execute_result"
    }
   ],
   "source": [
    "evaluate(sample.drop(['hospital_expire_flag'], axis=1), train_data)"
   ]
  },
  {
   "cell_type": "code",
   "execution_count": null,
   "metadata": {},
   "outputs": [
    {
     "data": {
      "text/plain": [
       "EMERGENCY    72\n",
       "NEWBORN      13\n",
       "ELECTIVE     12\n",
       "URGENT        3\n",
       "Name: admission_type, dtype: int64"
      ]
     },
     "execution_count": 55,
     "metadata": {},
     "output_type": "execute_result"
    }
   ],
   "source": [
    "sample['admission_type'].value_counts()"
   ]
  },
  {
   "cell_type": "code",
   "execution_count": null,
   "metadata": {},
   "outputs": [
    {
     "data": {
      "text/plain": [
       "<AxesSubplot:>"
      ]
     },
     "execution_count": 56,
     "metadata": {},
     "output_type": "execute_result"
    },
    {
     "data": {
      "image/png": "[encoded data removed]",
      "text/plain": [
       "<Figure size 432x288 with 1 Axes>"
      ]
     },
     "metadata": {
      "needs_background": "light"
     },
     "output_type": "display_data"
    }
   ],
   "source": [
    "sample['admission_location'].value_counts().plot.bar()"
   ]
  },
  {
   "cell_type": "code",
   "execution_count": null,
   "metadata": {},
   "outputs": [
    {
     "data": {
      "text/plain": [
       "EMERGENCY    89\n",
       "ELECTIVE     17\n",
       "NEWBORN      13\n",
       "URGENT        3\n",
       "Name: admission_type, dtype: int64"
      ]
     },
     "execution_count": 57,
     "metadata": {},
     "output_type": "execute_result"
    }
   ],
   "source": [
    "train_data['admission_type'].value_counts()"
   ]
  },
  {
   "cell_type": "code",
   "execution_count": null,
   "metadata": {},
   "outputs": [
    {
     "data": {
      "text/plain": [
       "<AxesSubplot:>"
      ]
     },
     "execution_count": 58,
     "metadata": {},
     "output_type": "execute_result"
    },
    {
     "data": {
      "image/png": "[encoded data removed]",
      "text/plain": [
       "<Figure size 432x288 with 1 Axes>"
      ]
     },
     "metadata": {
      "needs_background": "light"
     },
     "output_type": "display_data"
    }
   ],
   "source": [
    "train_data['admission_location'].value_counts().plot.bar()"
   ]
  },
  {
   "cell_type": "code",
   "execution_count": null,
   "metadata": {},
   "outputs": [
    {
     "data": {
      "text/plain": [
       "<AxesSubplot:xlabel='admission_type', ylabel='admission_location'>"
      ]
     },
     "execution_count": 59,
     "metadata": {},
     "output_type": "execute_result"
    },
    {
     "data": {
      "image/png": "[encoded data removed]",
      "text/plain": [
       "<Figure size 432x288 with 1 Axes>"
      ]
     },
     "metadata": {
      "needs_background": "light"
     },
     "output_type": "display_data"
    }
   ],
   "source": [
    "sample.plot.scatter(x='admission_type',y='admission_location')"
   ]
  },
  {
   "cell_type": "code",
   "execution_count": null,
   "metadata": {},
   "outputs": [
    {
     "data": {
      "text/plain": [
       "<AxesSubplot:xlabel='admission_type', ylabel='admission_location'>"
      ]
     },
     "execution_count": 60,
     "metadata": {},
     "output_type": "execute_result"
    },
    {
     "data": {
      "image/png": "[encoded data removed]",
      "text/plain": [
       "<Figure size 432x288 with 1 Axes>"
      ]
     },
     "metadata": {
      "needs_background": "light"
     },
     "output_type": "display_data"
    }
   ],
   "source": [
    "train_data.plot.scatter(x='admission_type',y='admission_location')"
   ]
  },
  {
   "cell_type": "code",
   "execution_count": null,
   "metadata": {},
   "outputs": [],
   "source": [
    "mostly_ai_data = pd.read_csv(\"test_syn.csv\")"
   ]
  },
  {
   "cell_type": "code",
   "execution_count": null,
   "metadata": {},
   "outputs": [
    {
     "data": {
      "text/plain": [
       "Index(['subject_id', 'hadm_id', 'admittime', 'dischtime', 'deathtime',\n",
       "       'admission_type', 'admission_location', 'discharge_location',\n",
       "       'insurance', 'language', 'religion', 'marital_status', 'ethnicity',\n",
       "       'edregtime', 'edouttime', 'has_chartevents_data',\n",
       "       'hospital_expire_flag'],\n",
       "      dtype='object')"
      ]
     },
     "execution_count": 68,
     "metadata": {},
     "output_type": "execute_result"
    }
   ],
   "source": [
    "sample.columns"
   ]
  },
  {
   "cell_type": "code",
   "execution_count": null,
   "metadata": {},
   "outputs": [],
   "source": [
    "mostly_ai_data = mostly_ai_data.drop(['hospital_expire_flag'], axis=1)"
   ]
  },
  {
   "cell_type": "code",
   "execution_count": null,
   "metadata": {},
   "outputs": [
    {
     "data": {
      "text/plain": [
       "0.5564527888761744"
      ]
     },
     "execution_count": 76,
     "metadata": {},
     "output_type": "execute_result"
    }
   ],
   "source": [
    "evaluate(mostly_ai_data, train_data.loc[:, mostly_ai_data.columns], metrics=['DiscreteKLDivergence'])"
   ]
  },
  {
   "cell_type": "code",
   "execution_count": null,
   "metadata": {},
   "outputs": [
    {
     "data": {
      "text/plain": [
       "0.434181554015113"
      ]
     },
     "execution_count": 77,
     "metadata": {},
     "output_type": "execute_result"
    }
   ],
   "source": [
    "evaluate(sample.loc[:, mostly_ai_data.columns], train_data.loc[:, mostly_ai_data.columns], metrics=['DiscreteKLDivergence'])"
   ]
  },
  {
   "cell_type": "code",
   "execution_count": null,
   "metadata": {},
   "outputs": [
    {
     "data": {
      "text/plain": [
       "0.29878381842255286"
      ]
     },
     "execution_count": 78,
     "metadata": {},
     "output_type": "execute_result"
    }
   ],
   "source": [
    "evaluate(mostly_ai_data, train_data.loc[:, mostly_ai_data.columns], metrics=['ContinuousKLDivergence'])"
   ]
  },
  {
   "cell_type": "code",
   "execution_count": null,
   "metadata": {},
   "outputs": [
    {
     "data": {
      "text/plain": [
       "0.5400340429220125"
      ]
     },
     "execution_count": 79,
     "metadata": {},
     "output_type": "execute_result"
    }
   ],
   "source": [
    "evaluate(sample.loc[:, mostly_ai_data.columns], train_data.loc[:, mostly_ai_data.columns], metrics=['ContinuousKLDivergence'])"
   ]
  }
 ],
 "metadata": {
  "kernelspec": {
   "display_name": "Python 3.8.13 ('msc_project')",
   "language": "python",
   "name": "python3"
  },
  "language_info": {
   "codemirror_mode": {
    "name": "ipython",
    "version": 3
   },
   "file_extension": ".py",
   "mimetype": "text/x-python",
   "name": "python",
   "nbconvert_exporter": "python",
   "pygments_lexer": "ipython3",
   "version": "3.8.13"
  },
  "orig_nbformat": 4,
  "vscode": {
   "interpreter": {
    "hash": "e56015fb566b08f7af163d42c82cf08fa5d6db3fbaaffa0afaaff5a893fc0496"
   }
  }
 },
 "nbformat": 4,
 "nbformat_minor": 2
}
