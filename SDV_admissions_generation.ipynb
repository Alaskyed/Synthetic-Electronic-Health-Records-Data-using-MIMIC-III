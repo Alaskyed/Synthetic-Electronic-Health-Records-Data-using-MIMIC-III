{
 "cells": [
  {
   "cell_type": "code",
   "execution_count": 2,
   "metadata": {},
   "outputs": [],
   "source": [
    "# from google.colab import drive\n",
    "# drive.mount('/content/drive')"
   ]
  },
  {
   "cell_type": "code",
   "execution_count": 3,
   "metadata": {},
   "outputs": [],
   "source": [
    "# ! pip install pgmpy"
   ]
  },
  {
   "cell_type": "code",
   "execution_count": 4,
   "metadata": {},
   "outputs": [],
   "source": [
    "# Ignore warnings\n",
    "import warnings\n",
    "warnings.filterwarnings(\"ignore\")"
   ]
  },
  {
   "cell_type": "code",
   "execution_count": 5,
   "metadata": {},
   "outputs": [],
   "source": [
    "import pandas as pd\n",
    "import numpy as np\n",
    "\n",
    "import common"
   ]
  },
  {
   "cell_type": "code",
   "execution_count": 6,
   "metadata": {},
   "outputs": [],
   "source": [
    "date_set_path = \"../temp_sets_100/\""
   ]
  },
  {
   "cell_type": "markdown",
   "metadata": {},
   "source": [
    "## Patients"
   ]
  },
  {
   "cell_type": "markdown",
   "metadata": {},
   "source": [
    "### Read samples"
   ]
  },
  {
   "cell_type": "code",
   "execution_count": 7,
   "metadata": {},
   "outputs": [],
   "source": [
    "patients_df = common.read_csv_no_rowid(date_set_path+\"patients.csv\")"
   ]
  },
  {
   "cell_type": "markdown",
   "metadata": {},
   "source": [
    "### Data preproces"
   ]
  },
  {
   "cell_type": "code",
   "execution_count": 8,
   "metadata": {},
   "outputs": [],
   "source": [
    "# Drop useless colums\n",
    "patients_df.drop(['expire_flag'], axis=1, inplace=True)"
   ]
  },
  {
   "cell_type": "markdown",
   "metadata": {},
   "source": [
    "#### Deal with null values"
   ]
  },
  {
   "cell_type": "code",
   "execution_count": 9,
   "metadata": {},
   "outputs": [
    {
     "name": "stdout",
     "output_type": "stream",
     "text": [
      "Total columns: 6\n",
      "Total rows: 100\n",
      "--------------\n",
      "subject_id     0\n",
      "gender         0\n",
      "dob            0\n",
      "dod           59\n",
      "dod_hosp      78\n",
      "dod_ssn       63\n",
      "dtype: int64\n"
     ]
    }
   ],
   "source": [
    "# Check null value in table\n",
    "common.nan_count(patients_df)"
   ]
  },
  {
   "cell_type": "code",
   "execution_count": 10,
   "metadata": {},
   "outputs": [],
   "source": [
    "# Set a value replacing the null time value\n",
    "nan_datetime=pd.to_datetime(0)"
   ]
  },
  {
   "cell_type": "code",
   "execution_count": 11,
   "metadata": {},
   "outputs": [],
   "source": [
    "patients_df['dob'].fillna(value=nan_datetime, inplace=True)\n",
    "# patients_df['dod_hosp'].fillna(value=nan_datetime, inplace=True)\n",
    "# patients_df['dod_ssn'].fillna(value=nan_datetime, inplace=True)"
   ]
  },
  {
   "cell_type": "code",
   "execution_count": 12,
   "metadata": {},
   "outputs": [
    {
     "name": "stdout",
     "output_type": "stream",
     "text": [
      "Total columns: 6\n",
      "Total rows: 100\n",
      "--------------\n",
      "subject_id     0\n",
      "gender         0\n",
      "dob            0\n",
      "dod           59\n",
      "dod_hosp      78\n",
      "dod_ssn       63\n",
      "dtype: int64\n"
     ]
    }
   ],
   "source": [
    "common.nan_count(patients_df)"
   ]
  },
  {
   "cell_type": "markdown",
   "metadata": {},
   "source": [
    "#### Set the column types"
   ]
  },
  {
   "cell_type": "code",
   "execution_count": 13,
   "metadata": {},
   "outputs": [
    {
     "data": {
      "text/plain": [
       "subject_id     int64\n",
       "gender        object\n",
       "dob           object\n",
       "dod           object\n",
       "dod_hosp      object\n",
       "dod_ssn       object\n",
       "dtype: object"
      ]
     },
     "execution_count": 13,
     "metadata": {},
     "output_type": "execute_result"
    }
   ],
   "source": [
    "patients_df.dtypes"
   ]
  },
  {
   "cell_type": "code",
   "execution_count": 14,
   "metadata": {},
   "outputs": [],
   "source": [
    "# Transfer some date type\n",
    "\n",
    "patients_df['dob'] = pd.to_datetime(patients_df['dob'])\n",
    "patients_df['dod'] = pd.to_datetime(patients_df['dod'])\n",
    "patients_df['dod_hosp'] = pd.to_datetime(patients_df['dod_hosp'])\n",
    "patients_df['dod_ssn'] = pd.to_datetime(patients_df['dod_ssn'])"
   ]
  },
  {
   "cell_type": "code",
   "execution_count": 15,
   "metadata": {},
   "outputs": [
    {
     "data": {
      "text/plain": [
       "subject_id             int64\n",
       "gender                object\n",
       "dob           datetime64[ns]\n",
       "dod           datetime64[ns]\n",
       "dod_hosp      datetime64[ns]\n",
       "dod_ssn       datetime64[ns]\n",
       "dtype: object"
      ]
     },
     "execution_count": 15,
     "metadata": {},
     "output_type": "execute_result"
    }
   ],
   "source": [
    "patients_df.dtypes"
   ]
  },
  {
   "cell_type": "markdown",
   "metadata": {},
   "source": [
    "### Process dod_hosp and dod_ssn"
   ]
  },
  {
   "cell_type": "code",
   "execution_count": 16,
   "metadata": {},
   "outputs": [],
   "source": [
    "from pandas import NaT\n",
    "\n",
    "# Define a method to deal with death time\n",
    "def dod_process(df):\n",
    "    '''\n",
    "    Note that DOD merged together DOD_HOSP and DOD_SSN, giving priority to DOD_HOSP if both were recorded\n",
    "    '''\n",
    "    \n",
    "    if not (pd.isna(df['dod_hosp']) or pd.isna(df['dod_ssn'])):\n",
    "        return NaT\n",
    "    else:\n",
    "        return df['dod_ssn']\n",
    "\n",
    "\n",
    "# Define a method to deal with death time\n",
    "def dod_live(df):\n",
    "    '''\n",
    "    If patients didn't dead, then set a new column with a random time to flag it\n",
    "    '''\n",
    "    # print(df['dod_hosp'])\n",
    "\n",
    "    if pd.isna(df['dod_hosp']) and pd.isna(df['dod_ssn']):\n",
    "        return pd.to_datetime(0)\n",
    "    else:\n",
    "        return NaT"
   ]
  },
  {
   "cell_type": "code",
   "execution_count": 17,
   "metadata": {},
   "outputs": [],
   "source": [
    "patients_df['dod_ssn'] = patients_df.apply(dod_process, axis=1)\n",
    "# patients_df['dod_live'] = patients_df.apply(dod_live, axis=1)"
   ]
  },
  {
   "cell_type": "code",
   "execution_count": 18,
   "metadata": {},
   "outputs": [
    {
     "data": {
      "text/html": [
       "<div>\n",
       "<style scoped>\n",
       "    .dataframe tbody tr th:only-of-type {\n",
       "        vertical-align: middle;\n",
       "    }\n",
       "\n",
       "    .dataframe tbody tr th {\n",
       "        vertical-align: top;\n",
       "    }\n",
       "\n",
       "    .dataframe thead th {\n",
       "        text-align: right;\n",
       "    }\n",
       "</style>\n",
       "<table border=\"1\" class=\"dataframe\">\n",
       "  <thead>\n",
       "    <tr style=\"text-align: right;\">\n",
       "      <th></th>\n",
       "      <th>subject_id</th>\n",
       "      <th>gender</th>\n",
       "      <th>dob</th>\n",
       "      <th>dod</th>\n",
       "      <th>dod_hosp</th>\n",
       "      <th>dod_ssn</th>\n",
       "    </tr>\n",
       "  </thead>\n",
       "  <tbody>\n",
       "    <tr>\n",
       "      <th>0</th>\n",
       "      <td>569</td>\n",
       "      <td>M</td>\n",
       "      <td>2021-11-04</td>\n",
       "      <td>2107-11-30</td>\n",
       "      <td>NaT</td>\n",
       "      <td>2107-11-30</td>\n",
       "    </tr>\n",
       "    <tr>\n",
       "      <th>1</th>\n",
       "      <td>26282</td>\n",
       "      <td>F</td>\n",
       "      <td>2074-03-20</td>\n",
       "      <td>NaT</td>\n",
       "      <td>NaT</td>\n",
       "      <td>NaT</td>\n",
       "    </tr>\n",
       "    <tr>\n",
       "      <th>2</th>\n",
       "      <td>1762</td>\n",
       "      <td>F</td>\n",
       "      <td>2120-03-19</td>\n",
       "      <td>NaT</td>\n",
       "      <td>NaT</td>\n",
       "      <td>NaT</td>\n",
       "    </tr>\n",
       "    <tr>\n",
       "      <th>3</th>\n",
       "      <td>14481</td>\n",
       "      <td>M</td>\n",
       "      <td>1816-05-08</td>\n",
       "      <td>2121-02-14</td>\n",
       "      <td>NaT</td>\n",
       "      <td>2121-02-14</td>\n",
       "    </tr>\n",
       "    <tr>\n",
       "      <th>4</th>\n",
       "      <td>21470</td>\n",
       "      <td>M</td>\n",
       "      <td>2195-05-20</td>\n",
       "      <td>NaT</td>\n",
       "      <td>NaT</td>\n",
       "      <td>NaT</td>\n",
       "    </tr>\n",
       "    <tr>\n",
       "      <th>...</th>\n",
       "      <td>...</td>\n",
       "      <td>...</td>\n",
       "      <td>...</td>\n",
       "      <td>...</td>\n",
       "      <td>...</td>\n",
       "      <td>...</td>\n",
       "    </tr>\n",
       "    <tr>\n",
       "      <th>95</th>\n",
       "      <td>23647</td>\n",
       "      <td>M</td>\n",
       "      <td>2077-02-13</td>\n",
       "      <td>NaT</td>\n",
       "      <td>NaT</td>\n",
       "      <td>NaT</td>\n",
       "    </tr>\n",
       "    <tr>\n",
       "      <th>96</th>\n",
       "      <td>26485</td>\n",
       "      <td>F</td>\n",
       "      <td>2075-08-15</td>\n",
       "      <td>2164-05-08</td>\n",
       "      <td>2164-05-08</td>\n",
       "      <td>NaT</td>\n",
       "    </tr>\n",
       "    <tr>\n",
       "      <th>97</th>\n",
       "      <td>26884</td>\n",
       "      <td>F</td>\n",
       "      <td>2067-01-31</td>\n",
       "      <td>2153-06-23</td>\n",
       "      <td>NaT</td>\n",
       "      <td>2153-06-23</td>\n",
       "    </tr>\n",
       "    <tr>\n",
       "      <th>98</th>\n",
       "      <td>49024</td>\n",
       "      <td>M</td>\n",
       "      <td>2055-02-17</td>\n",
       "      <td>2137-01-12</td>\n",
       "      <td>NaT</td>\n",
       "      <td>2137-01-12</td>\n",
       "    </tr>\n",
       "    <tr>\n",
       "      <th>99</th>\n",
       "      <td>15440</td>\n",
       "      <td>M</td>\n",
       "      <td>2034-08-16</td>\n",
       "      <td>NaT</td>\n",
       "      <td>NaT</td>\n",
       "      <td>NaT</td>\n",
       "    </tr>\n",
       "  </tbody>\n",
       "</table>\n",
       "<p>100 rows × 6 columns</p>\n",
       "</div>"
      ],
      "text/plain": [
       "    subject_id gender        dob        dod   dod_hosp    dod_ssn\n",
       "0          569      M 2021-11-04 2107-11-30        NaT 2107-11-30\n",
       "1        26282      F 2074-03-20        NaT        NaT        NaT\n",
       "2         1762      F 2120-03-19        NaT        NaT        NaT\n",
       "3        14481      M 1816-05-08 2121-02-14        NaT 2121-02-14\n",
       "4        21470      M 2195-05-20        NaT        NaT        NaT\n",
       "..         ...    ...        ...        ...        ...        ...\n",
       "95       23647      M 2077-02-13        NaT        NaT        NaT\n",
       "96       26485      F 2075-08-15 2164-05-08 2164-05-08        NaT\n",
       "97       26884      F 2067-01-31 2153-06-23        NaT 2153-06-23\n",
       "98       49024      M 2055-02-17 2137-01-12        NaT 2137-01-12\n",
       "99       15440      M 2034-08-16        NaT        NaT        NaT\n",
       "\n",
       "[100 rows x 6 columns]"
      ]
     },
     "execution_count": 18,
     "metadata": {},
     "output_type": "execute_result"
    }
   ],
   "source": [
    "patients_df"
   ]
  },
  {
   "cell_type": "code",
   "execution_count": 19,
   "metadata": {},
   "outputs": [],
   "source": [
    "# from pandas import NaT\n",
    "\n",
    "# patients_df['dod_hosp'] = patients_df['dod_hosp'].apply(lambda x: 1 if not pd.isna(x) else 0)\n",
    "# patients_df['dod_ssn'] = patients_df['dod_ssn'].apply(lambda x: 1 if not pd.isna(x) else 0)\n",
    "# patients_df['dod_live'] = patients_df['dod_live'].apply(lambda x: 1 if not pd.isna(x) else 0)"
   ]
  },
  {
   "cell_type": "markdown",
   "metadata": {},
   "source": [
    "---"
   ]
  },
  {
   "cell_type": "markdown",
   "metadata": {},
   "source": [
    "##  Build Network"
   ]
  },
  {
   "cell_type": "code",
   "execution_count": 20,
   "metadata": {},
   "outputs": [],
   "source": [
    "from sdv.tabular import CTGAN\n",
    "from sdv.constraints import FixedCombinations"
   ]
  },
  {
   "cell_type": "code",
   "execution_count": 21,
   "metadata": {},
   "outputs": [
    {
     "data": {
      "text/plain": [
       "Index(['subject_id', 'gender', 'dob', 'dod', 'dod_hosp', 'dod_ssn'], dtype='object')"
      ]
     },
     "execution_count": 21,
     "metadata": {},
     "output_type": "execute_result"
    }
   ],
   "source": [
    "patients_df.columns"
   ]
  },
  {
   "cell_type": "markdown",
   "metadata": {},
   "source": [
    "### Set constraint"
   ]
  },
  {
   "cell_type": "code",
   "execution_count": 22,
   "metadata": {},
   "outputs": [],
   "source": [
    "# Fixed constraints\n",
    "# fixed_subject_hadm_icustay_constraint = FixedCombinations(\n",
    "#     column_names=['subject_id', 'hadm_id']\n",
    "# )"
   ]
  },
  {
   "cell_type": "code",
   "execution_count": 23,
   "metadata": {},
   "outputs": [],
   "source": [
    "# dod_hosp_dod_ssn_constraint = OneHotEncoding(\n",
    "#     column_names=['dod_hosp', 'dod_ssn', 'dod_live']\n",
    "# )"
   ]
  },
  {
   "cell_type": "code",
   "execution_count": 24,
   "metadata": {},
   "outputs": [],
   "source": [
    "# patients_constraints = [dod_hosp_dod_ssn_constraint]"
   ]
  },
  {
   "cell_type": "code",
   "execution_count": 25,
   "metadata": {},
   "outputs": [],
   "source": [
    "def dod_data_unique_is_valid(column_names, data):\n",
    "    one = (pd.isna(data['dod']) == False) & (pd.isna(data[column_names[0]]) == False) & (pd.isna(data[column_names[1]]) == True) #& (data['dod'] == data[column_names[0]])\n",
    "    two = (pd.isna(data['dod']) == False) & (pd.isna(data[column_names[0]]) == True) & (pd.isna(data[column_names[1]]) == False) #& (data['dod'] == data[column_names[1]])\n",
    "    three = (pd.isna(data['dod']) == True) & (pd.isna(data[column_names[0]]) == True) & (pd.isna(data[column_names[1]]) == True)\n",
    "    is_only = one | two | three\n",
    "    return is_only"
   ]
  },
  {
   "cell_type": "code",
   "execution_count": 26,
   "metadata": {},
   "outputs": [],
   "source": [
    "def dod_data_unique_trasform(column_names, data):\n",
    "    print(data.loc[:, ['dod', 'dod_hosp', 'dod_ssn']])\n",
    "    return data"
   ]
  },
  {
   "cell_type": "code",
   "execution_count": 27,
   "metadata": {},
   "outputs": [],
   "source": [
    "def dod_data_unique_reverse_transform(column_names, transformed_data):\n",
    "    print(transformed_data.loc[:, ['dod', 'dod_hosp', 'dod_ssn']])\n",
    "\n",
    "    one = (pd.isna(transformed_data['dod']) == False) & (pd.isna(transformed_data[column_names[0]]) == False) & (pd.isna(transformed_data[column_names[1]]) == True)\n",
    "    two = (pd.isna(transformed_data['dod']) == False) & (pd.isna(transformed_data[column_names[0]]) == True) & (pd.isna(transformed_data[column_names[1]]) == False)\n",
    "\n",
    "    transformed_data[column_names[0]] = transformed_data[one]['dod']\n",
    "    transformed_data[column_names[1]] = transformed_data[two]['dod']\n",
    "\n",
    "    return transformed_data"
   ]
  },
  {
   "cell_type": "code",
   "execution_count": 28,
   "metadata": {},
   "outputs": [],
   "source": [
    "from sdv.constraints import create_custom_constraint\n",
    "\n",
    "DodUniqueProcess = create_custom_constraint(\n",
    "    is_valid_fn=dod_data_unique_is_valid,\n",
    "    transform_fn=dod_data_unique_trasform,\n",
    "    reverse_transform_fn=dod_data_unique_reverse_transform\n",
    ")"
   ]
  },
  {
   "cell_type": "code",
   "execution_count": 29,
   "metadata": {},
   "outputs": [],
   "source": [
    "dod_data_unique_constraint = DodUniqueProcess(\n",
    "    column_names=['dod_hosp', 'dod_ssn']\n",
    ")"
   ]
  },
  {
   "cell_type": "code",
   "execution_count": 30,
   "metadata": {},
   "outputs": [],
   "source": [
    "constrains = [dod_data_unique_constraint]"
   ]
  },
  {
   "cell_type": "markdown",
   "metadata": {},
   "source": [
    "### Build model"
   ]
  },
  {
   "cell_type": "code",
   "execution_count": 31,
   "metadata": {},
   "outputs": [],
   "source": [
    "model = CTGAN(\n",
    "    constraints=constrains, \n",
    "    batch_size=10000,\n",
    "    cuda=True, \n",
    "    verbose=True, \n",
    "    epochs=50)"
   ]
  },
  {
   "cell_type": "code",
   "execution_count": 32,
   "metadata": {},
   "outputs": [
    {
     "data": {
      "text/plain": [
       "100"
      ]
     },
     "execution_count": 32,
     "metadata": {},
     "output_type": "execute_result"
    }
   ],
   "source": [
    "len(patients_df)"
   ]
  },
  {
   "cell_type": "code",
   "execution_count": 33,
   "metadata": {},
   "outputs": [
    {
     "name": "stdout",
     "output_type": "stream",
     "text": [
      "          dod   dod_hosp    dod_ssn\n",
      "0  2107-11-30        NaT 2107-11-30\n",
      "1         NaT        NaT        NaT\n",
      "2         NaT        NaT        NaT\n",
      "3  2121-02-14        NaT 2121-02-14\n",
      "4         NaT        NaT        NaT\n",
      "..        ...        ...        ...\n",
      "95        NaT        NaT        NaT\n",
      "96 2164-05-08 2164-05-08        NaT\n",
      "97 2153-06-23        NaT 2153-06-23\n",
      "98 2137-01-12        NaT 2137-01-12\n",
      "99        NaT        NaT        NaT\n",
      "\n",
      "[100 rows x 3 columns]\n",
      "          dod   dod_hosp    dod_ssn\n",
      "0  2107-11-30        NaT 2107-11-30\n",
      "1         NaT        NaT        NaT\n",
      "2         NaT        NaT        NaT\n",
      "3  2121-02-14        NaT 2121-02-14\n",
      "4         NaT        NaT        NaT\n",
      "..        ...        ...        ...\n",
      "95        NaT        NaT        NaT\n",
      "96 2164-05-08 2164-05-08        NaT\n",
      "97 2153-06-23        NaT 2153-06-23\n",
      "98 2137-01-12        NaT 2137-01-12\n",
      "99        NaT        NaT        NaT\n",
      "\n",
      "[100 rows x 3 columns]\n",
      "          dod   dod_hosp    dod_ssn\n",
      "0  2107-11-30        NaT 2107-11-30\n",
      "1         NaT        NaT        NaT\n",
      "2         NaT        NaT        NaT\n",
      "3  2121-02-14        NaT 2121-02-14\n",
      "4         NaT        NaT        NaT\n",
      "..        ...        ...        ...\n",
      "95        NaT        NaT        NaT\n",
      "96 2164-05-08 2164-05-08        NaT\n",
      "97 2153-06-23        NaT 2153-06-23\n",
      "98 2137-01-12        NaT 2137-01-12\n",
      "99        NaT        NaT        NaT\n",
      "\n",
      "[100 rows x 3 columns]\n",
      "          dod   dod_hosp    dod_ssn\n",
      "0  2107-11-30        NaT 2107-11-30\n",
      "1         NaT        NaT        NaT\n",
      "2         NaT        NaT        NaT\n",
      "3  2121-02-14        NaT 2121-02-14\n",
      "4         NaT        NaT        NaT\n",
      "..        ...        ...        ...\n",
      "95        NaT        NaT        NaT\n",
      "96 2164-05-08 2164-05-08        NaT\n",
      "97 2153-06-23        NaT 2153-06-23\n",
      "98 2137-01-12        NaT 2137-01-12\n",
      "99        NaT        NaT        NaT\n",
      "\n",
      "[100 rows x 3 columns]\n",
      "Epoch 1, Loss G:  0.8215,Loss D:  0.0067\n",
      "Epoch 2, Loss G:  0.8065,Loss D: -0.0060\n",
      "Epoch 3, Loss G:  0.8070,Loss D: -0.0089\n",
      "Epoch 4, Loss G:  0.7838,Loss D: -0.0231\n",
      "Epoch 5, Loss G:  0.7863,Loss D: -0.0294\n",
      "Epoch 6, Loss G:  0.7764,Loss D: -0.0507\n",
      "Epoch 7, Loss G:  0.7727,Loss D: -0.0610\n",
      "Epoch 8, Loss G:  0.7544,Loss D: -0.0742\n",
      "Epoch 9, Loss G:  0.7405,Loss D: -0.0869\n",
      "Epoch 10, Loss G:  0.7162,Loss D: -0.0933\n",
      "Epoch 11, Loss G:  0.6956,Loss D: -0.0919\n",
      "Epoch 12, Loss G:  0.6840,Loss D: -0.0913\n",
      "Epoch 13, Loss G:  0.6548,Loss D: -0.0863\n",
      "Epoch 14, Loss G:  0.6049,Loss D: -0.0876\n",
      "Epoch 15, Loss G:  0.5574,Loss D: -0.0750\n",
      "Epoch 16, Loss G:  0.5212,Loss D: -0.0481\n",
      "Epoch 17, Loss G:  0.4612,Loss D: -0.0412\n",
      "Epoch 18, Loss G:  0.4041,Loss D: -0.0051\n",
      "Epoch 19, Loss G:  0.3520,Loss D:  0.0097\n",
      "Epoch 20, Loss G:  0.3074,Loss D:  0.0471\n",
      "Epoch 21, Loss G:  0.2634,Loss D:  0.0747\n",
      "Epoch 22, Loss G:  0.1960,Loss D:  0.0787\n",
      "Epoch 23, Loss G:  0.1435,Loss D:  0.1210\n",
      "Epoch 24, Loss G:  0.1146,Loss D:  0.1573\n",
      "Epoch 25, Loss G:  0.1096,Loss D:  0.1275\n",
      "Epoch 26, Loss G:  0.0642,Loss D:  0.1486\n",
      "Epoch 27, Loss G:  0.0509,Loss D:  0.1331\n",
      "Epoch 28, Loss G:  0.0725,Loss D:  0.1462\n",
      "Epoch 29, Loss G:  0.0712,Loss D:  0.1055\n",
      "Epoch 30, Loss G:  0.0854,Loss D:  0.0775\n",
      "Epoch 31, Loss G:  0.0882,Loss D:  0.0434\n",
      "Epoch 32, Loss G:  0.1145,Loss D:  0.0176\n",
      "Epoch 33, Loss G:  0.1279,Loss D:  0.0258\n",
      "Epoch 34, Loss G:  0.1557,Loss D: -0.0322\n",
      "Epoch 35, Loss G:  0.1290,Loss D: -0.0571\n",
      "Epoch 36, Loss G:  0.1501,Loss D: -0.0304\n",
      "Epoch 37, Loss G:  0.1505,Loss D: -0.0581\n",
      "Epoch 38, Loss G:  0.1829,Loss D: -0.0556\n",
      "Epoch 39, Loss G:  0.1763,Loss D: -0.0634\n",
      "Epoch 40, Loss G:  0.1832,Loss D: -0.0613\n",
      "Epoch 41, Loss G:  0.2099,Loss D: -0.0839\n",
      "Epoch 42, Loss G:  0.2113,Loss D: -0.0927\n",
      "Epoch 43, Loss G:  0.2630,Loss D: -0.1149\n",
      "Epoch 44, Loss G:  0.2642,Loss D: -0.1518\n",
      "Epoch 45, Loss G:  0.2816,Loss D: -0.1187\n",
      "Epoch 46, Loss G:  0.3093,Loss D: -0.1816\n",
      "Epoch 47, Loss G:  0.2847,Loss D: -0.1758\n",
      "Epoch 48, Loss G:  0.3323,Loss D: -0.1992\n",
      "Epoch 49, Loss G:  0.3444,Loss D: -0.1971\n",
      "Epoch 50, Loss G:  0.3561,Loss D: -0.1792\n"
     ]
    }
   ],
   "source": [
    "train_data = patients_df\n",
    "model.fit(train_data)"
   ]
  },
  {
   "cell_type": "code",
   "execution_count": 34,
   "metadata": {},
   "outputs": [],
   "source": [
    "# model.save(date_set_path + \"100_models/\" + \"patients_model.pkl\")"
   ]
  },
  {
   "cell_type": "code",
   "execution_count": 127,
   "metadata": {},
   "outputs": [
    {
     "name": "stderr",
     "output_type": "stream",
     "text": [
      "Sampling rows: 100%|██████████| 100/100 [00:00<00:00, 272.88it/s]"
     ]
    },
    {
     "name": "stdout",
     "output_type": "stream",
     "text": [
      "          dod   dod_hosp    dod_ssn\n",
      "0  2142-05-23        NaT        NaT\n",
      "1  2191-08-29 2139-06-01        NaT\n",
      "2         NaT        NaT        NaT\n",
      "3         NaT 2180-07-27        NaT\n",
      "4  2203-06-27        NaT        NaT\n",
      "..        ...        ...        ...\n",
      "95 2124-09-19        NaT        NaT\n",
      "96 2143-03-13 2141-09-30        NaT\n",
      "97 2152-09-20 2138-02-04 2150-06-09\n",
      "98 2131-05-18        NaT        NaT\n",
      "99 2208-01-12 2142-10-06        NaT\n",
      "\n",
      "[100 rows x 3 columns]\n",
      "          dod   dod_hosp    dod_ssn\n",
      "0  2142-07-12        NaT 2148-08-25\n",
      "1         NaT        NaT        NaT\n",
      "2  2151-08-31        NaT        NaT\n",
      "3  2184-09-25 2142-04-27        NaT\n",
      "4  2194-01-19        NaT 2108-06-23\n",
      "5         NaT 2142-07-08        NaT\n",
      "6  2149-05-15 2139-10-22        NaT\n",
      "7         NaT        NaT        NaT\n",
      "8         NaT        NaT        NaT\n",
      "9         NaT 2143-01-03 2151-03-22\n",
      "10        NaT 2142-08-20        NaT\n",
      "11        NaT        NaT 2085-04-01\n",
      "12        NaT 2140-08-21        NaT\n",
      "13        NaT        NaT        NaT\n",
      "14        NaT        NaT        NaT\n",
      "15 2168-03-17 2151-11-08        NaT\n",
      "16 2140-05-19        NaT        NaT\n",
      "17        NaT        NaT        NaT\n",
      "18        NaT 2143-05-12        NaT\n",
      "19 2148-07-15        NaT        NaT\n",
      "20        NaT        NaT 2148-02-04\n",
      "21 2148-10-22 2143-07-06 2151-09-11\n",
      "22        NaT 2177-02-26        NaT\n",
      "23 2199-07-16 2143-04-27        NaT\n",
      "24 2151-07-18        NaT        NaT\n",
      "25        NaT        NaT        NaT\n",
      "26 2197-01-31        NaT 2149-09-24\n",
      "27 2189-07-20        NaT 2129-10-01\n",
      "28        NaT        NaT        NaT\n",
      "29        NaT        NaT 2078-04-05\n",
      "30        NaT        NaT 2153-10-03\n",
      "31        NaT        NaT        NaT\n",
      "32        NaT        NaT        NaT\n",
      "33        NaT 2141-10-07        NaT\n",
      "34 2145-02-11 2143-02-13        NaT\n",
      "35 2138-03-27        NaT        NaT\n",
      "36        NaT        NaT        NaT\n",
      "37        NaT        NaT        NaT\n",
      "38 2135-12-19 2141-10-18        NaT\n",
      "39        NaT        NaT        NaT\n"
     ]
    },
    {
     "name": "stderr",
     "output_type": "stream",
     "text": [
      "\n"
     ]
    }
   ],
   "source": [
    "sample = model.sample(num_rows=len(train_data))"
   ]
  },
  {
   "cell_type": "code",
   "execution_count": 36,
   "metadata": {},
   "outputs": [
    {
     "data": {
      "text/html": [
       "<div>\n",
       "<style scoped>\n",
       "    .dataframe tbody tr th:only-of-type {\n",
       "        vertical-align: middle;\n",
       "    }\n",
       "\n",
       "    .dataframe tbody tr th {\n",
       "        vertical-align: top;\n",
       "    }\n",
       "\n",
       "    .dataframe thead th {\n",
       "        text-align: right;\n",
       "    }\n",
       "</style>\n",
       "<table border=\"1\" class=\"dataframe\">\n",
       "  <thead>\n",
       "    <tr style=\"text-align: right;\">\n",
       "      <th></th>\n",
       "      <th>subject_id</th>\n",
       "      <th>gender</th>\n",
       "      <th>dob</th>\n",
       "      <th>dod</th>\n",
       "      <th>dod_hosp</th>\n",
       "      <th>dod_ssn</th>\n",
       "    </tr>\n",
       "  </thead>\n",
       "  <tbody>\n",
       "    <tr>\n",
       "      <th>0</th>\n",
       "      <td>42447</td>\n",
       "      <td>F</td>\n",
       "      <td>2125-08-22</td>\n",
       "      <td>NaT</td>\n",
       "      <td>NaT</td>\n",
       "      <td>NaT</td>\n",
       "    </tr>\n",
       "    <tr>\n",
       "      <th>1</th>\n",
       "      <td>26450</td>\n",
       "      <td>F</td>\n",
       "      <td>2042-01-01</td>\n",
       "      <td>2151-09-09</td>\n",
       "      <td>2151-09-09</td>\n",
       "      <td>NaT</td>\n",
       "    </tr>\n",
       "    <tr>\n",
       "      <th>2</th>\n",
       "      <td>569</td>\n",
       "      <td>M</td>\n",
       "      <td>2080-12-26</td>\n",
       "      <td>NaT</td>\n",
       "      <td>NaT</td>\n",
       "      <td>NaT</td>\n",
       "    </tr>\n",
       "    <tr>\n",
       "      <th>3</th>\n",
       "      <td>29558</td>\n",
       "      <td>F</td>\n",
       "      <td>1962-05-15</td>\n",
       "      <td>2147-10-21</td>\n",
       "      <td>NaT</td>\n",
       "      <td>2147-10-21</td>\n",
       "    </tr>\n",
       "    <tr>\n",
       "      <th>4</th>\n",
       "      <td>5138</td>\n",
       "      <td>F</td>\n",
       "      <td>2003-03-27</td>\n",
       "      <td>NaT</td>\n",
       "      <td>NaT</td>\n",
       "      <td>NaT</td>\n",
       "    </tr>\n",
       "    <tr>\n",
       "      <th>...</th>\n",
       "      <td>...</td>\n",
       "      <td>...</td>\n",
       "      <td>...</td>\n",
       "      <td>...</td>\n",
       "      <td>...</td>\n",
       "      <td>...</td>\n",
       "    </tr>\n",
       "    <tr>\n",
       "      <th>95</th>\n",
       "      <td>21505</td>\n",
       "      <td>F</td>\n",
       "      <td>2153-05-26</td>\n",
       "      <td>NaT</td>\n",
       "      <td>NaT</td>\n",
       "      <td>NaT</td>\n",
       "    </tr>\n",
       "    <tr>\n",
       "      <th>96</th>\n",
       "      <td>22512</td>\n",
       "      <td>M</td>\n",
       "      <td>1965-12-24</td>\n",
       "      <td>2163-09-26</td>\n",
       "      <td>2163-09-26</td>\n",
       "      <td>NaT</td>\n",
       "    </tr>\n",
       "    <tr>\n",
       "      <th>97</th>\n",
       "      <td>28114</td>\n",
       "      <td>M</td>\n",
       "      <td>2015-08-31</td>\n",
       "      <td>NaT</td>\n",
       "      <td>NaT</td>\n",
       "      <td>NaT</td>\n",
       "    </tr>\n",
       "    <tr>\n",
       "      <th>98</th>\n",
       "      <td>29341</td>\n",
       "      <td>F</td>\n",
       "      <td>2073-05-25</td>\n",
       "      <td>NaT</td>\n",
       "      <td>NaT</td>\n",
       "      <td>NaT</td>\n",
       "    </tr>\n",
       "    <tr>\n",
       "      <th>99</th>\n",
       "      <td>58094</td>\n",
       "      <td>M</td>\n",
       "      <td>2154-08-28</td>\n",
       "      <td>NaT</td>\n",
       "      <td>NaT</td>\n",
       "      <td>NaT</td>\n",
       "    </tr>\n",
       "  </tbody>\n",
       "</table>\n",
       "<p>100 rows × 6 columns</p>\n",
       "</div>"
      ],
      "text/plain": [
       "    subject_id gender        dob        dod   dod_hosp    dod_ssn\n",
       "0        42447      F 2125-08-22        NaT        NaT        NaT\n",
       "1        26450      F 2042-01-01 2151-09-09 2151-09-09        NaT\n",
       "2          569      M 2080-12-26        NaT        NaT        NaT\n",
       "3        29558      F 1962-05-15 2147-10-21        NaT 2147-10-21\n",
       "4         5138      F 2003-03-27        NaT        NaT        NaT\n",
       "..         ...    ...        ...        ...        ...        ...\n",
       "95       21505      F 2153-05-26        NaT        NaT        NaT\n",
       "96       22512      M 1965-12-24 2163-09-26 2163-09-26        NaT\n",
       "97       28114      M 2015-08-31        NaT        NaT        NaT\n",
       "98       29341      F 2073-05-25        NaT        NaT        NaT\n",
       "99       58094      M 2154-08-28        NaT        NaT        NaT\n",
       "\n",
       "[100 rows x 6 columns]"
      ]
     },
     "execution_count": 36,
     "metadata": {},
     "output_type": "execute_result"
    }
   ],
   "source": [
    "sample"
   ]
  },
  {
   "cell_type": "code",
   "execution_count": null,
   "metadata": {},
   "outputs": [],
   "source": [
    "train_data.to_csv(\"test.csv\")"
   ]
  },
  {
   "cell_type": "code",
   "execution_count": 45,
   "metadata": {},
   "outputs": [],
   "source": [
    "sample.to_csv(\"test.csv\")"
   ]
  },
  {
   "cell_type": "markdown",
   "metadata": {},
   "source": [
    "### Process the generated data"
   ]
  },
  {
   "cell_type": "markdown",
   "metadata": {},
   "source": [
    "---"
   ]
  },
  {
   "cell_type": "markdown",
   "metadata": {},
   "source": [
    "## Evaluate data"
   ]
  },
  {
   "cell_type": "code",
   "execution_count": 109,
   "metadata": {},
   "outputs": [],
   "source": [
    "from sdv.metrics.timeseries import LSTMDetection, TSFCDetection"
   ]
  },
  {
   "cell_type": "code",
   "execution_count": 105,
   "metadata": {},
   "outputs": [],
   "source": [
    "metadata = {'fields': {'subject_id': {'type': 'numerical', 'subtype': 'integer'},\n",
    "  'dod': {'type': 'datetime'}},\n",
    " 'entity_columns': ['subject_id'],\n",
    " 'sequence_index': ''}"
   ]
  },
  {
   "cell_type": "code",
   "execution_count": 106,
   "metadata": {},
   "outputs": [
    {
     "data": {
      "text/plain": [
       "{'fields': {'subject_id': {'type': 'numerical', 'subtype': 'integer'},\n",
       "  'dod': {'type': 'datetime'}},\n",
       " 'entity_columns': ['subject_id'],\n",
       " 'sequence_index': ''}"
      ]
     },
     "execution_count": 106,
     "metadata": {},
     "output_type": "execute_result"
    }
   ],
   "source": [
    "metadata"
   ]
  },
  {
   "cell_type": "code",
   "execution_count": 108,
   "metadata": {},
   "outputs": [],
   "source": [
    "df = pd.read_csv('real.csv').loc[:, ['store_id', 'date']]\n",
    "df.columns=['subject_id', 'dod']"
   ]
  },
  {
   "cell_type": "code",
   "execution_count": 110,
   "metadata": {},
   "outputs": [
    {
     "data": {
      "text/plain": [
       "0.6739130434782609"
      ]
     },
     "execution_count": 110,
     "metadata": {},
     "output_type": "execute_result"
    }
   ],
   "source": [
    "LSTMDetection.compute(df, df, metadata)"
   ]
  },
  {
   "cell_type": "code",
   "execution_count": 113,
   "metadata": {},
   "outputs": [],
   "source": [
    "t_sample = sample.loc[:, ['subject_id', 'dod']]"
   ]
  },
  {
   "cell_type": "code",
   "execution_count": 114,
   "metadata": {},
   "outputs": [
    {
     "data": {
      "text/plain": [
       "0.6571428571428571"
      ]
     },
     "execution_count": 114,
     "metadata": {},
     "output_type": "execute_result"
    }
   ],
   "source": [
    "LSTMDetection.compute(t_sample, t_sample, metadata)"
   ]
  },
  {
   "cell_type": "markdown",
   "metadata": {},
   "source": [
    "---"
   ]
  },
  {
   "cell_type": "code",
   "execution_count": 118,
   "metadata": {},
   "outputs": [],
   "source": [
    "metadata_2 = model.get_metadata().to_dict()"
   ]
  },
  {
   "cell_type": "code",
   "execution_count": 121,
   "metadata": {},
   "outputs": [],
   "source": [
    "metadata_2['entity_columns']=['subject_id']"
   ]
  },
  {
   "cell_type": "code",
   "execution_count": 122,
   "metadata": {},
   "outputs": [
    {
     "data": {
      "text/plain": [
       "{'fields': {'subject_id': {'type': 'numerical',\n",
       "   'subtype': 'integer',\n",
       "   'transformer': 'integer'},\n",
       "  'gender': {'type': 'categorical', 'transformer': None},\n",
       "  'dob': {'type': 'datetime', 'transformer': 'datetime'},\n",
       "  'dod': {'type': 'datetime', 'transformer': 'datetime'},\n",
       "  'dod_hosp': {'type': 'datetime', 'transformer': 'datetime'},\n",
       "  'dod_ssn': {'type': 'datetime', 'transformer': 'datetime'}},\n",
       " 'constraints': [{'constraint': 'sdv.constraints.tabular.CustomConstraint',\n",
       "   'column_names': ['dod_hosp', 'dod_ssn']}],\n",
       " 'model_kwargs': {},\n",
       " 'name': None,\n",
       " 'primary_key': None,\n",
       " 'sequence_index': None,\n",
       " 'entity_columns': ['subject_id'],\n",
       " 'context_columns': []}"
      ]
     },
     "execution_count": 122,
     "metadata": {},
     "output_type": "execute_result"
    }
   ],
   "source": [
    "metadata_2"
   ]
  },
  {
   "cell_type": "code",
   "execution_count": 125,
   "metadata": {},
   "outputs": [
    {
     "data": {
      "text/html": [
       "<div>\n",
       "<style scoped>\n",
       "    .dataframe tbody tr th:only-of-type {\n",
       "        vertical-align: middle;\n",
       "    }\n",
       "\n",
       "    .dataframe tbody tr th {\n",
       "        vertical-align: top;\n",
       "    }\n",
       "\n",
       "    .dataframe thead th {\n",
       "        text-align: right;\n",
       "    }\n",
       "</style>\n",
       "<table border=\"1\" class=\"dataframe\">\n",
       "  <thead>\n",
       "    <tr style=\"text-align: right;\">\n",
       "      <th></th>\n",
       "      <th>subject_id</th>\n",
       "      <th>gender</th>\n",
       "      <th>dob</th>\n",
       "      <th>dod</th>\n",
       "      <th>dod_hosp</th>\n",
       "      <th>dod_ssn</th>\n",
       "    </tr>\n",
       "  </thead>\n",
       "  <tbody>\n",
       "    <tr>\n",
       "      <th>0</th>\n",
       "      <td>569</td>\n",
       "      <td>M</td>\n",
       "      <td>2021-11-04</td>\n",
       "      <td>2107-11-30</td>\n",
       "      <td>NaT</td>\n",
       "      <td>2107-11-30</td>\n",
       "    </tr>\n",
       "    <tr>\n",
       "      <th>1</th>\n",
       "      <td>26282</td>\n",
       "      <td>F</td>\n",
       "      <td>2074-03-20</td>\n",
       "      <td>NaT</td>\n",
       "      <td>NaT</td>\n",
       "      <td>NaT</td>\n",
       "    </tr>\n",
       "    <tr>\n",
       "      <th>2</th>\n",
       "      <td>1762</td>\n",
       "      <td>F</td>\n",
       "      <td>2120-03-19</td>\n",
       "      <td>NaT</td>\n",
       "      <td>NaT</td>\n",
       "      <td>NaT</td>\n",
       "    </tr>\n",
       "    <tr>\n",
       "      <th>3</th>\n",
       "      <td>14481</td>\n",
       "      <td>M</td>\n",
       "      <td>1816-05-08</td>\n",
       "      <td>2121-02-14</td>\n",
       "      <td>NaT</td>\n",
       "      <td>2121-02-14</td>\n",
       "    </tr>\n",
       "    <tr>\n",
       "      <th>4</th>\n",
       "      <td>21470</td>\n",
       "      <td>M</td>\n",
       "      <td>2195-05-20</td>\n",
       "      <td>NaT</td>\n",
       "      <td>NaT</td>\n",
       "      <td>NaT</td>\n",
       "    </tr>\n",
       "    <tr>\n",
       "      <th>...</th>\n",
       "      <td>...</td>\n",
       "      <td>...</td>\n",
       "      <td>...</td>\n",
       "      <td>...</td>\n",
       "      <td>...</td>\n",
       "      <td>...</td>\n",
       "    </tr>\n",
       "    <tr>\n",
       "      <th>95</th>\n",
       "      <td>23647</td>\n",
       "      <td>M</td>\n",
       "      <td>2077-02-13</td>\n",
       "      <td>NaT</td>\n",
       "      <td>NaT</td>\n",
       "      <td>NaT</td>\n",
       "    </tr>\n",
       "    <tr>\n",
       "      <th>96</th>\n",
       "      <td>26485</td>\n",
       "      <td>F</td>\n",
       "      <td>2075-08-15</td>\n",
       "      <td>2164-05-08</td>\n",
       "      <td>2164-05-08</td>\n",
       "      <td>NaT</td>\n",
       "    </tr>\n",
       "    <tr>\n",
       "      <th>97</th>\n",
       "      <td>26884</td>\n",
       "      <td>F</td>\n",
       "      <td>2067-01-31</td>\n",
       "      <td>2153-06-23</td>\n",
       "      <td>NaT</td>\n",
       "      <td>2153-06-23</td>\n",
       "    </tr>\n",
       "    <tr>\n",
       "      <th>98</th>\n",
       "      <td>49024</td>\n",
       "      <td>M</td>\n",
       "      <td>2055-02-17</td>\n",
       "      <td>2137-01-12</td>\n",
       "      <td>NaT</td>\n",
       "      <td>2137-01-12</td>\n",
       "    </tr>\n",
       "    <tr>\n",
       "      <th>99</th>\n",
       "      <td>15440</td>\n",
       "      <td>M</td>\n",
       "      <td>2034-08-16</td>\n",
       "      <td>NaT</td>\n",
       "      <td>NaT</td>\n",
       "      <td>NaT</td>\n",
       "    </tr>\n",
       "  </tbody>\n",
       "</table>\n",
       "<p>100 rows × 6 columns</p>\n",
       "</div>"
      ],
      "text/plain": [
       "    subject_id gender        dob        dod   dod_hosp    dod_ssn\n",
       "0          569      M 2021-11-04 2107-11-30        NaT 2107-11-30\n",
       "1        26282      F 2074-03-20        NaT        NaT        NaT\n",
       "2         1762      F 2120-03-19        NaT        NaT        NaT\n",
       "3        14481      M 1816-05-08 2121-02-14        NaT 2121-02-14\n",
       "4        21470      M 2195-05-20        NaT        NaT        NaT\n",
       "..         ...    ...        ...        ...        ...        ...\n",
       "95       23647      M 2077-02-13        NaT        NaT        NaT\n",
       "96       26485      F 2075-08-15 2164-05-08 2164-05-08        NaT\n",
       "97       26884      F 2067-01-31 2153-06-23        NaT 2153-06-23\n",
       "98       49024      M 2055-02-17 2137-01-12        NaT 2137-01-12\n",
       "99       15440      M 2034-08-16        NaT        NaT        NaT\n",
       "\n",
       "[100 rows x 6 columns]"
      ]
     },
     "execution_count": 125,
     "metadata": {},
     "output_type": "execute_result"
    }
   ],
   "source": [
    "train_data"
   ]
  },
  {
   "cell_type": "code",
   "execution_count": 132,
   "metadata": {},
   "outputs": [
    {
     "data": {
      "text/plain": [
       "0.26190476190476186"
      ]
     },
     "execution_count": 132,
     "metadata": {},
     "output_type": "execute_result"
    }
   ],
   "source": [
    "LSTMDetection.compute(sample, train_data, metadata_2)"
   ]
  }
 ],
 "metadata": {
  "kernelspec": {
   "display_name": "Python 3.8.13 ('msc_project')",
   "language": "python",
   "name": "python3"
  },
  "language_info": {
   "codemirror_mode": {
    "name": "ipython",
    "version": 3
   },
   "file_extension": ".py",
   "mimetype": "text/x-python",
   "name": "python",
   "nbconvert_exporter": "python",
   "pygments_lexer": "ipython3",
   "version": "3.8.13"
  },
  "orig_nbformat": 4,
  "vscode": {
   "interpreter": {
    "hash": "e56015fb566b08f7af163d42c82cf08fa5d6db3fbaaffa0afaaff5a893fc0496"
   }
  }
 },
 "nbformat": 4,
 "nbformat_minor": 2
}
