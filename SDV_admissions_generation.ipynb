{
 "cells": [
  {
   "cell_type": "code",
   "execution_count": 1,
   "metadata": {},
   "outputs": [],
   "source": [
    "# from google.colab import drive\n",
    "# drive.mount('/content/drive')"
   ]
  },
  {
   "cell_type": "code",
   "execution_count": 2,
   "metadata": {},
   "outputs": [],
   "source": [
    "# ! pip install pgmpy"
   ]
  },
  {
   "cell_type": "code",
   "execution_count": 3,
   "metadata": {},
   "outputs": [],
   "source": [
    "# Ignore warnings\n",
    "import warnings\n",
    "warnings.filterwarnings(\"ignore\")"
   ]
  },
  {
   "cell_type": "code",
   "execution_count": 4,
   "metadata": {},
   "outputs": [],
   "source": [
    "import pandas as pd\n",
    "import numpy as np\n",
    "\n",
    "import common"
   ]
  },
  {
   "cell_type": "code",
   "execution_count": 5,
   "metadata": {},
   "outputs": [],
   "source": [
    "data_set_path = \"../temp_sets_100/\""
   ]
  },
  {
   "cell_type": "markdown",
   "metadata": {},
   "source": [
    "# admissions"
   ]
  },
  {
   "cell_type": "markdown",
   "metadata": {},
   "source": [
    "## Data Process"
   ]
  },
  {
   "cell_type": "markdown",
   "metadata": {},
   "source": [
    "### Read samples"
   ]
  },
  {
   "cell_type": "code",
   "execution_count": 6,
   "metadata": {},
   "outputs": [],
   "source": [
    "admissions_df = common.read_csv_no_rowid(data_set_path+\"admissions.csv\")"
   ]
  },
  {
   "cell_type": "code",
   "execution_count": 7,
   "metadata": {},
   "outputs": [],
   "source": [
    "dob_df = pd.read_csv(data_set_path+\"patients.csv\").loc[:, ['subject_id', 'dob']]"
   ]
  },
  {
   "cell_type": "code",
   "execution_count": 8,
   "metadata": {},
   "outputs": [],
   "source": [
    "# patients_df = pd.read_csv(date_set_path+\"patients.csv\")\n",
    "# dob_df = patients_df.loc[:, ['subject_id', 'dob']]"
   ]
  },
  {
   "cell_type": "markdown",
   "metadata": {},
   "source": [
    "### Data preproces"
   ]
  },
  {
   "cell_type": "code",
   "execution_count": 9,
   "metadata": {},
   "outputs": [],
   "source": [
    "# Drop useless colums\n",
    "admissions_df.drop(['diagnosis', 'hospital_expire_flag'], axis=1, inplace=True)"
   ]
  },
  {
   "cell_type": "code",
   "execution_count": 10,
   "metadata": {},
   "outputs": [],
   "source": [
    "admissions_df = pd.merge(dob_df, admissions_df, how='inner', on='subject_id')"
   ]
  },
  {
   "cell_type": "markdown",
   "metadata": {},
   "source": [
    "#### Deal with missing values"
   ]
  },
  {
   "cell_type": "code",
   "execution_count": 11,
   "metadata": {},
   "outputs": [
    {
     "name": "stdout",
     "output_type": "stream",
     "text": [
      "Total columns: 17\n",
      "Total rows: 143\n",
      "--------------\n",
      "subject_id                0\n",
      "dob                       0\n",
      "hadm_id                   0\n",
      "admittime                 0\n",
      "dischtime                 0\n",
      "deathtime               129\n",
      "admission_type            0\n",
      "admission_location        0\n",
      "discharge_location        0\n",
      "insurance                 0\n",
      "language                 63\n",
      "religion                  1\n",
      "marital_status           21\n",
      "ethnicity                 0\n",
      "edregtime                66\n",
      "edouttime                66\n",
      "has_chartevents_data      0\n",
      "dtype: int64\n"
     ]
    }
   ],
   "source": [
    "# Check null value in table\n",
    "common.nan_count(admissions_df)"
   ]
  },
  {
   "cell_type": "code",
   "execution_count": 12,
   "metadata": {},
   "outputs": [],
   "source": [
    "# Set a value replacing the null time value\n",
    "# nan_datetime=pd.to_datetime(0)"
   ]
  },
  {
   "cell_type": "code",
   "execution_count": 13,
   "metadata": {},
   "outputs": [],
   "source": [
    "# admissions_df['dob'].fillna(value=nan_datetime, inplace=True)\n",
    "# admissions_df['dod_hosp'].fillna(value=nan_datetime, inplace=True)\n",
    "# admissions_df['dod_ssn'].fillna(value=nan_datetime, inplace=True)"
   ]
  },
  {
   "cell_type": "code",
   "execution_count": 14,
   "metadata": {},
   "outputs": [
    {
     "name": "stdout",
     "output_type": "stream",
     "text": [
      "Total columns: 17\n",
      "Total rows: 143\n",
      "--------------\n",
      "subject_id                0\n",
      "dob                       0\n",
      "hadm_id                   0\n",
      "admittime                 0\n",
      "dischtime                 0\n",
      "deathtime               129\n",
      "admission_type            0\n",
      "admission_location        0\n",
      "discharge_location        0\n",
      "insurance                 0\n",
      "language                 63\n",
      "religion                  1\n",
      "marital_status           21\n",
      "ethnicity                 0\n",
      "edregtime                66\n",
      "edouttime                66\n",
      "has_chartevents_data      0\n",
      "dtype: int64\n"
     ]
    }
   ],
   "source": [
    "common.nan_count(admissions_df)"
   ]
  },
  {
   "cell_type": "markdown",
   "metadata": {},
   "source": [
    "#### Set the column types"
   ]
  },
  {
   "cell_type": "code",
   "execution_count": 15,
   "metadata": {},
   "outputs": [
    {
     "data": {
      "text/plain": [
       "subject_id               int64\n",
       "dob                     object\n",
       "hadm_id                  int64\n",
       "admittime               object\n",
       "dischtime               object\n",
       "deathtime               object\n",
       "admission_type          object\n",
       "admission_location      object\n",
       "discharge_location      object\n",
       "insurance               object\n",
       "language                object\n",
       "religion                object\n",
       "marital_status          object\n",
       "ethnicity               object\n",
       "edregtime               object\n",
       "edouttime               object\n",
       "has_chartevents_data     int64\n",
       "dtype: object"
      ]
     },
     "execution_count": 15,
     "metadata": {},
     "output_type": "execute_result"
    }
   ],
   "source": [
    "admissions_df.dtypes"
   ]
  },
  {
   "cell_type": "code",
   "execution_count": 16,
   "metadata": {},
   "outputs": [],
   "source": [
    "# Transfer some date type\n",
    "admissions_df['admittime'] = pd.to_datetime(admissions_df['admittime'])\n",
    "admissions_df['dischtime'] = pd.to_datetime(admissions_df['dischtime'])\n",
    "admissions_df['deathtime'] = pd.to_datetime(admissions_df['deathtime'])\n",
    "admissions_df['edregtime'] = pd.to_datetime(admissions_df['edregtime'])\n",
    "admissions_df['edouttime'] = pd.to_datetime(admissions_df['edouttime'])\n",
    "\n",
    "admissions_df['dob'] = pd.to_datetime(admissions_df['dob'])"
   ]
  },
  {
   "cell_type": "code",
   "execution_count": 17,
   "metadata": {},
   "outputs": [
    {
     "data": {
      "text/plain": [
       "True    143\n",
       "dtype: int64"
      ]
     },
     "execution_count": 17,
     "metadata": {},
     "output_type": "execute_result"
    }
   ],
   "source": [
    "(admissions_df['dob'] < admissions_df['admittime']).value_counts()"
   ]
  },
  {
   "cell_type": "code",
   "execution_count": 18,
   "metadata": {},
   "outputs": [
    {
     "data": {
      "text/plain": [
       "subject_id                       int64\n",
       "dob                     datetime64[ns]\n",
       "hadm_id                          int64\n",
       "admittime               datetime64[ns]\n",
       "dischtime               datetime64[ns]\n",
       "deathtime               datetime64[ns]\n",
       "admission_type                  object\n",
       "admission_location              object\n",
       "discharge_location              object\n",
       "insurance                       object\n",
       "language                        object\n",
       "religion                        object\n",
       "marital_status                  object\n",
       "ethnicity                       object\n",
       "edregtime               datetime64[ns]\n",
       "edouttime               datetime64[ns]\n",
       "has_chartevents_data             int64\n",
       "dtype: object"
      ]
     },
     "execution_count": 18,
     "metadata": {},
     "output_type": "execute_result"
    }
   ],
   "source": [
    "admissions_df.dtypes"
   ]
  },
  {
   "cell_type": "markdown",
   "metadata": {},
   "source": [
    "#### Process some special value"
   ]
  },
  {
   "cell_type": "markdown",
   "metadata": {},
   "source": [
    "`dischtime` should be equals to `deathtime` (if `deathtime` is exist), so we drop the row where `dischtime` != `deathtime`"
   ]
  },
  {
   "cell_type": "code",
   "execution_count": 19,
   "metadata": {},
   "outputs": [],
   "source": [
    "# admissions_df.loc[113]"
   ]
  },
  {
   "cell_type": "code",
   "execution_count": 20,
   "metadata": {},
   "outputs": [],
   "source": [
    "# admissions_df = admissions_df.drop(admissions_df.loc[(pd.isna(admissions_df['deathtime']) == False) & (admissions_df['dischtime'] != admissions_df['deathtime'])].index)"
   ]
  },
  {
   "cell_type": "markdown",
   "metadata": {},
   "source": [
    "#### Process time data"
   ]
  },
  {
   "cell_type": "code",
   "execution_count": 21,
   "metadata": {},
   "outputs": [],
   "source": [
    "import datetime\n",
    "import random\n",
    "\n",
    "def adjust_age_over_90(df):\n",
    "    '''\n",
    "    This method is to adjust the invalid date in 'dob' (which is 18xx)\n",
    "    Process: Use the admittime minus 90 - 100 years, to let the age of patients are between 90 to 100\n",
    "    '''\n",
    "\n",
    "    years_100 = datetime.timedelta(days = (365 * 100 + 100/4))\n",
    "    random_days_10_years = datetime.timedelta(days = random.randint(0, 10)*365)\n",
    "    \n",
    "    if (df['dob'] - datetime.datetime(1970,1,1)).total_seconds() < 0:\n",
    "        return (df['admittime'] - years_100 + random_days_10_years)\n",
    "    else:\n",
    "        return df['dob']"
   ]
  },
  {
   "cell_type": "code",
   "execution_count": 22,
   "metadata": {},
   "outputs": [],
   "source": [
    "admissions_df['dob'] = admissions_df.apply(adjust_age_over_90, axis=1)"
   ]
  },
  {
   "cell_type": "markdown",
   "metadata": {},
   "source": [
    "For `deathtime`, If `deathtime` exist, it should euqal to `dischtime`, so I set `deathtime` = 1 if it exist. In sythetic data, set `deathtime` = `dischtime` if it is 1.\n",
    "\n",
    "For others time data, I save the time difference as the columns. In sythetic data, I just need to use the time difference to calculate the exact time."
   ]
  },
  {
   "cell_type": "code",
   "execution_count": 23,
   "metadata": {},
   "outputs": [],
   "source": [
    "admissions_df['deathtime'] = admissions_df['deathtime'].apply(lambda flag: 1 if pd.isna(flag) == False else np.NaN)"
   ]
  },
  {
   "cell_type": "code",
   "execution_count": 24,
   "metadata": {},
   "outputs": [],
   "source": [
    "# def time_process(df, early_col_name, late_col_name):\n",
    "#     '''\n",
    "#     If 2 columns both exist, then use late_col - early_col, and save the difference as late_col\n",
    "#     '''\n",
    "\n",
    "#     if (pd.isna(df[early_col_name]) == False) & (pd.isna(df[late_col_name]) == False):\n",
    "#         # return abs(np.int64(df[late_col_name].to_numpy() - df[early_col_name].to_numpy())/10**9)\n",
    "#         return abs(df[late_col_name] - df[early_col_name]).total_seconds()\n",
    "#     else:\n",
    "#         return np.NaN"
   ]
  },
  {
   "cell_type": "code",
   "execution_count": 25,
   "metadata": {},
   "outputs": [],
   "source": [
    "admissions_df['edouttime'] = admissions_df.apply(common.time_process, args=('edregtime', 'edouttime'), axis=1)\n",
    "admissions_df['edregtime'] = admissions_df.apply(common.time_process, args=('admittime', 'edregtime'), axis=1)\n",
    "admissions_df['dischtime'] = admissions_df.apply(common.time_process, args=('admittime', 'dischtime'), axis=1)\n",
    "admissions_df['admittime'] = admissions_df.apply(common.time_process, args=('dob', 'admittime'), axis=1)"
   ]
  },
  {
   "cell_type": "code",
   "execution_count": 26,
   "metadata": {},
   "outputs": [],
   "source": [
    "admissions_df.drop(['subject_id', 'dob'], axis=1, inplace=True)"
   ]
  },
  {
   "cell_type": "markdown",
   "metadata": {},
   "source": [
    "---\n",
    "\n",
    "##  Build model"
   ]
  },
  {
   "cell_type": "markdown",
   "metadata": {},
   "source": [
    "### Set constraints"
   ]
  },
  {
   "cell_type": "code",
   "execution_count": 27,
   "metadata": {},
   "outputs": [
    {
     "data": {
      "text/plain": [
       "Index(['hadm_id', 'admittime', 'dischtime', 'deathtime', 'admission_type',\n",
       "       'admission_location', 'discharge_location', 'insurance', 'language',\n",
       "       'religion', 'marital_status', 'ethnicity', 'edregtime', 'edouttime',\n",
       "       'has_chartevents_data'],\n",
       "      dtype='object')"
      ]
     },
     "execution_count": 27,
     "metadata": {},
     "output_type": "execute_result"
    }
   ],
   "source": [
    "admissions_df.columns"
   ]
  },
  {
   "cell_type": "code",
   "execution_count": 28,
   "metadata": {},
   "outputs": [],
   "source": [
    "def both_exist(column_names, data):\n",
    "    exist = (pd.isna(data[column_names[0]]) == False) & (pd.isna(data[column_names[1]]) == False)\n",
    "    not_exist = pd.isna(data[column_names[0]]) & pd.isna(data[column_names[1]])\n",
    "\n",
    "    return  exist | not_exist"
   ]
  },
  {
   "cell_type": "code",
   "execution_count": 29,
   "metadata": {},
   "outputs": [],
   "source": [
    "from sdv.constraints import create_custom_constraint\n",
    "\n",
    "EdregEdoutTime = create_custom_constraint(\n",
    "    is_valid_fn=both_exist,\n",
    ")\n",
    "\n",
    "edreg_edout_time_constraint = EdregEdoutTime(\n",
    "    column_names=['edregtime', 'edouttime']\n",
    ")"
   ]
  },
  {
   "cell_type": "code",
   "execution_count": 30,
   "metadata": {},
   "outputs": [],
   "source": [
    "from sdv.constraints import Unique\n",
    "\n",
    "unique_hadm_id_constraint = Unique(\n",
    "    column_names=['hadm_id']\n",
    ")"
   ]
  },
  {
   "cell_type": "code",
   "execution_count": 31,
   "metadata": {},
   "outputs": [],
   "source": [
    "from sdv.constraints import Positive\n",
    "\n",
    "admittime_positive = Positive(column_name='admittime')\n",
    "dischtime_positive = Positive(column_name='dischtime')\n",
    "edregtime_positive = Positive(column_name='edregtime')\n",
    "edouttime_positive = Positive(column_name='edouttime')"
   ]
  },
  {
   "cell_type": "code",
   "execution_count": 32,
   "metadata": {},
   "outputs": [],
   "source": [
    "constraints = [admittime_positive, dischtime_positive, edregtime_positive, edouttime_positive, unique_hadm_id_constraint, edreg_edout_time_constraint]"
   ]
  },
  {
   "cell_type": "markdown",
   "metadata": {},
   "source": [
    "### Build model"
   ]
  },
  {
   "cell_type": "code",
   "execution_count": 34,
   "metadata": {},
   "outputs": [
    {
     "name": "stdout",
     "output_type": "stream",
     "text": [
      "Strat training ...\n",
      "Tabular Preset\n"
     ]
    },
    {
     "name": "stderr",
     "output_type": "stream",
     "text": [
      "Sampling rows: 100%|██████████| 143/143 [00:00<00:00, 2246.96it/s]"
     ]
    },
    {
     "name": "stdout",
     "output_type": "stream",
     "text": [
      "Gaussian Copula\n"
     ]
    },
    {
     "name": "stderr",
     "output_type": "stream",
     "text": [
      "\n",
      "Sampling rows: 100%|██████████| 143/143 [00:00<00:00, 3851.20it/s]\n"
     ]
    },
    {
     "name": "stdout",
     "output_type": "stream",
     "text": [
      "CTGAN\n"
     ]
    },
    {
     "name": "stderr",
     "output_type": "stream",
     "text": [
      "Sampling rows: 100%|██████████| 143/143 [00:00<00:00, 875.40it/s] \n"
     ]
    },
    {
     "name": "stdout",
     "output_type": "stream",
     "text": [
      "CopulaGAN\n"
     ]
    },
    {
     "name": "stderr",
     "output_type": "stream",
     "text": [
      "Sampling rows: 100%|██████████| 143/143 [00:00<00:00, 493.15it/s] \n"
     ]
    },
    {
     "name": "stdout",
     "output_type": "stream",
     "text": [
      "TVAE\n"
     ]
    },
    {
     "name": "stderr",
     "output_type": "stream",
     "text": [
      "Sampling rows: 100%|██████████| 143/143 [00:00<00:00, 1551.64it/s]\n"
     ]
    },
    {
     "name": "stdout",
     "output_type": "stream",
     "text": [
      "Training finished!\n",
      "Strat evaluating ...\n",
      "Evaluating finished!\n",
      "Gaussian Copula\n"
     ]
    },
    {
     "name": "stderr",
     "output_type": "stream",
     "text": [
      "Sampling rows: 100%|██████████| 143/143 [00:00<00:00, 4910.56it/s]\n"
     ]
    },
    {
     "name": "stdout",
     "output_type": "stream",
     "text": [
      "The ContinuousKL_score is: 0.6212643549696073\n",
      "The DiscreteKL_score is: 0.38455737208742297\n",
      "The total score is: 0.5332289337435066\n"
     ]
    }
   ],
   "source": [
    "train_data = admissions_df\n",
    "best_model = common.build_model(constraints=constraints, train_data=train_data)"
   ]
  },
  {
   "cell_type": "code",
   "execution_count": 35,
   "metadata": {},
   "outputs": [],
   "source": [
    "model_save_path = data_set_path + \"100_models/\" + \"admissions_model.pkl\"\n",
    "common.save_model(best_model, model_save_path)"
   ]
  },
  {
   "cell_type": "markdown",
   "metadata": {},
   "source": [
    "---\n",
    "\n",
    "## Evaluate data"
   ]
  },
  {
   "cell_type": "markdown",
   "metadata": {},
   "source": [
    "### Generate synthetic data"
   ]
  },
  {
   "cell_type": "code",
   "execution_count": 36,
   "metadata": {},
   "outputs": [],
   "source": [
    "# Load model\n",
    "date_load_path = data_set_path + \"100_models/\" + \"admissions_model.pkl\"\n",
    "model = common.load_model(date_load_path)"
   ]
  },
  {
   "cell_type": "code",
   "execution_count": 37,
   "metadata": {},
   "outputs": [
    {
     "name": "stderr",
     "output_type": "stream",
     "text": [
      "Sampling rows: 100%|██████████| 143/143 [00:00<00:00, 2517.53it/s]\n"
     ]
    }
   ],
   "source": [
    "sample = model.sample(num_rows=len(train_data))"
   ]
  },
  {
   "cell_type": "markdown",
   "metadata": {},
   "source": [
    "### Evaluation"
   ]
  },
  {
   "cell_type": "code",
   "execution_count": 38,
   "metadata": {},
   "outputs": [],
   "source": [
    "from sdv.evaluation import evaluate"
   ]
  },
  {
   "cell_type": "code",
   "execution_count": 39,
   "metadata": {},
   "outputs": [
    {
     "data": {
      "text/plain": [
       "0.6052598481020043"
      ]
     },
     "execution_count": 39,
     "metadata": {},
     "output_type": "execute_result"
    }
   ],
   "source": [
    "evaluate(sample, train_data, metrics=['ContinuousKLDivergence'])"
   ]
  },
  {
   "cell_type": "code",
   "execution_count": 40,
   "metadata": {},
   "outputs": [
    {
     "data": {
      "text/plain": [
       "0.38740748500781635"
      ]
     },
     "execution_count": 40,
     "metadata": {},
     "output_type": "execute_result"
    }
   ],
   "source": [
    "evaluate(sample, train_data, metrics=['DiscreteKLDivergence'])"
   ]
  },
  {
   "cell_type": "code",
   "execution_count": 41,
   "metadata": {},
   "outputs": [
    {
     "data": {
      "text/plain": [
       "0.5286770442983231"
      ]
     },
     "execution_count": 41,
     "metadata": {},
     "output_type": "execute_result"
    }
   ],
   "source": [
    "evaluate(sample, train_data)"
   ]
  },
  {
   "cell_type": "code",
   "execution_count": 42,
   "metadata": {},
   "outputs": [
    {
     "data": {
      "text/plain": [
       "EMERGENCY    86\n",
       "NEWBORN      44\n",
       "ELECTIVE     10\n",
       "URGENT        3\n",
       "Name: admission_type, dtype: int64"
      ]
     },
     "execution_count": 42,
     "metadata": {},
     "output_type": "execute_result"
    }
   ],
   "source": [
    "sample['admission_type'].value_counts()"
   ]
  },
  {
   "cell_type": "code",
   "execution_count": 43,
   "metadata": {},
   "outputs": [
    {
     "data": {
      "text/plain": [
       "<AxesSubplot:>"
      ]
     },
     "execution_count": 43,
     "metadata": {},
     "output_type": "execute_result"
    },
    {
     "data": {
      "image/png": "[encoded data removed]",
      "text/plain": [
       "<Figure size 432x288 with 1 Axes>"
      ]
     },
     "metadata": {
      "needs_background": "light"
     },
     "output_type": "display_data"
    }
   ],
   "source": [
    "sample['admission_location'].value_counts().plot.bar()"
   ]
  },
  {
   "cell_type": "code",
   "execution_count": 44,
   "metadata": {},
   "outputs": [
    {
     "data": {
      "text/plain": [
       "EMERGENCY    110\n",
       "NEWBORN       16\n",
       "ELECTIVE      14\n",
       "URGENT         3\n",
       "Name: admission_type, dtype: int64"
      ]
     },
     "execution_count": 44,
     "metadata": {},
     "output_type": "execute_result"
    }
   ],
   "source": [
    "train_data['admission_type'].value_counts()"
   ]
  },
  {
   "cell_type": "code",
   "execution_count": 45,
   "metadata": {},
   "outputs": [
    {
     "data": {
      "text/plain": [
       "<AxesSubplot:>"
      ]
     },
     "execution_count": 45,
     "metadata": {},
     "output_type": "execute_result"
    },
    {
     "data": {
      "image/png": "[encoded data removed]",
      "text/plain": [
       "<Figure size 432x288 with 1 Axes>"
      ]
     },
     "metadata": {
      "needs_background": "light"
     },
     "output_type": "display_data"
    }
   ],
   "source": [
    "train_data['admission_location'].value_counts().plot.bar()"
   ]
  },
  {
   "cell_type": "code",
   "execution_count": 46,
   "metadata": {},
   "outputs": [
    {
     "data": {
      "text/plain": [
       "<AxesSubplot:xlabel='admission_type', ylabel='admission_location'>"
      ]
     },
     "execution_count": 46,
     "metadata": {},
     "output_type": "execute_result"
    },
    {
     "data": {
      "image/png": "[encoded data removed]",
      "text/plain": [
       "<Figure size 432x288 with 1 Axes>"
      ]
     },
     "metadata": {
      "needs_background": "light"
     },
     "output_type": "display_data"
    }
   ],
   "source": [
    "sample.plot.scatter(x='admission_type',y='admission_location')"
   ]
  },
  {
   "cell_type": "code",
   "execution_count": 47,
   "metadata": {},
   "outputs": [
    {
     "data": {
      "text/plain": [
       "<AxesSubplot:xlabel='admission_type', ylabel='admission_location'>"
      ]
     },
     "execution_count": 47,
     "metadata": {},
     "output_type": "execute_result"
    },
    {
     "data": {
      "image/png": "[encoded data removed]",
      "text/plain": [
       "<Figure size 432x288 with 1 Axes>"
      ]
     },
     "metadata": {
      "needs_background": "light"
     },
     "output_type": "display_data"
    }
   ],
   "source": [
    "train_data.plot.scatter(x='admission_type',y='admission_location')"
   ]
  },
  {
   "cell_type": "code",
   "execution_count": 48,
   "metadata": {},
   "outputs": [
    {
     "data": {
      "text/plain": [
       "<AxesSubplot:>"
      ]
     },
     "execution_count": 48,
     "metadata": {},
     "output_type": "execute_result"
    },
    {
     "data": {
      "image/png": "[encoded data removed]",
      "text/plain": [
       "<Figure size 432x288 with 1 Axes>"
      ]
     },
     "metadata": {
      "needs_background": "light"
     },
     "output_type": "display_data"
    }
   ],
   "source": [
    "train_data.sort_values(by='insurance')['insurance'].hist()"
   ]
  },
  {
   "cell_type": "code",
   "execution_count": 49,
   "metadata": {},
   "outputs": [
    {
     "data": {
      "text/plain": [
       "<AxesSubplot:>"
      ]
     },
     "execution_count": 49,
     "metadata": {},
     "output_type": "execute_result"
    },
    {
     "data": {
      "image/png": "[encoded data removed]",
      "text/plain": [
       "<Figure size 432x288 with 1 Axes>"
      ]
     },
     "metadata": {
      "needs_background": "light"
     },
     "output_type": "display_data"
    }
   ],
   "source": [
    "sample.sort_values(by='insurance')['insurance'].hist()"
   ]
  }
 ],
 "metadata": {
  "kernelspec": {
   "display_name": "Python 3.8.13 ('msc_project')",
   "language": "python",
   "name": "python3"
  },
  "language_info": {
   "codemirror_mode": {
    "name": "ipython",
    "version": 3
   },
   "file_extension": ".py",
   "mimetype": "text/x-python",
   "name": "python",
   "nbconvert_exporter": "python",
   "pygments_lexer": "ipython3",
   "version": "3.8.13"
  },
  "orig_nbformat": 4,
  "vscode": {
   "interpreter": {
    "hash": "e56015fb566b08f7af163d42c82cf08fa5d6db3fbaaffa0afaaff5a893fc0496"
   }
  }
 },
 "nbformat": 4,
 "nbformat_minor": 2
}
