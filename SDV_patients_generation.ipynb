{
 "cells": [
  {
   "cell_type": "code",
   "execution_count": 81,
   "metadata": {},
   "outputs": [],
   "source": [
    "# from google.colab import drive\n",
    "# drive.mount('/content/drive')"
   ]
  },
  {
   "cell_type": "code",
   "execution_count": 82,
   "metadata": {},
   "outputs": [],
   "source": [
    "# ! pip install pgmpy"
   ]
  },
  {
   "cell_type": "code",
   "execution_count": 83,
   "metadata": {},
   "outputs": [],
   "source": [
    "# Ignore warnings\n",
    "import warnings\n",
    "warnings.filterwarnings(\"ignore\")"
   ]
  },
  {
   "cell_type": "code",
   "execution_count": 84,
   "metadata": {},
   "outputs": [],
   "source": [
    "import pandas as pd\n",
    "import numpy as np\n",
    "\n",
    "import common"
   ]
  },
  {
   "cell_type": "code",
   "execution_count": 85,
   "metadata": {},
   "outputs": [],
   "source": [
    "data_set_path = \"../temp_sets_100/\""
   ]
  },
  {
   "cell_type": "markdown",
   "metadata": {},
   "source": [
    "# Patients  "
   ]
  },
  {
   "cell_type": "markdown",
   "metadata": {},
   "source": [
    "## Data precess"
   ]
  },
  {
   "cell_type": "markdown",
   "metadata": {},
   "source": [
    "### Read samples"
   ]
  },
  {
   "cell_type": "code",
   "execution_count": 86,
   "metadata": {},
   "outputs": [],
   "source": [
    "patients_df = common.read_csv_no_rowid(data_set_path+\"patients.csv\")"
   ]
  },
  {
   "cell_type": "code",
   "execution_count": 87,
   "metadata": {},
   "outputs": [],
   "source": [
    "admissions_date = common.read_csv_no_rowid(data_set_path+\"admissions.csv\").loc[:, ['subject_id', 'admittime']]\n",
    "patients_mid = pd.merge(left=patients_df, right=admissions_date, how='inner', on=['subject_id'])"
   ]
  },
  {
   "cell_type": "code",
   "execution_count": 88,
   "metadata": {},
   "outputs": [],
   "source": [
    "admissions_date = common.read_csv_no_rowid(data_set_path+\"admissions.csv\").loc[:, ['subject_id', 'admittime']]\n",
    "admissions_date.drop_duplicates(subset=['subject_id'], keep='first', inplace=True)\n",
    "admissions_date['admittime'] = pd.to_datetime(admissions_date['admittime'])"
   ]
  },
  {
   "cell_type": "markdown",
   "metadata": {},
   "source": [
    "### Drop useless colums"
   ]
  },
  {
   "cell_type": "code",
   "execution_count": 89,
   "metadata": {},
   "outputs": [],
   "source": [
    "# Drop useless colums\n",
    "patients_df.drop(['expire_flag', 'dod'], axis=1, inplace=True)"
   ]
  },
  {
   "cell_type": "markdown",
   "metadata": {},
   "source": [
    "### Deal with null values"
   ]
  },
  {
   "cell_type": "code",
   "execution_count": 90,
   "metadata": {},
   "outputs": [
    {
     "name": "stdout",
     "output_type": "stream",
     "text": [
      "Total columns: 5\n",
      "Total rows: 100\n",
      "--------------\n",
      "subject_id     0\n",
      "gender         0\n",
      "dob            0\n",
      "dod_hosp      82\n",
      "dod_ssn       69\n",
      "dtype: int64\n"
     ]
    }
   ],
   "source": [
    "# Check null value in table\n",
    "common.nan_count(patients_df)"
   ]
  },
  {
   "cell_type": "code",
   "execution_count": 91,
   "metadata": {},
   "outputs": [],
   "source": [
    "# Set a value replacing the null time value\n",
    "nan_datetime=pd.to_datetime(0)"
   ]
  },
  {
   "cell_type": "code",
   "execution_count": 92,
   "metadata": {},
   "outputs": [],
   "source": [
    "patients_df['dob'].fillna(value=nan_datetime, inplace=True)\n",
    "# patients_df['dod_hosp'].fillna(value=nan_datetime, inplace=True)\n",
    "# patients_df['dod_ssn'].fillna(value=nan_datetime, inplace=True)"
   ]
  },
  {
   "cell_type": "code",
   "execution_count": 93,
   "metadata": {},
   "outputs": [
    {
     "name": "stdout",
     "output_type": "stream",
     "text": [
      "Total columns: 5\n",
      "Total rows: 100\n",
      "--------------\n",
      "subject_id     0\n",
      "gender         0\n",
      "dob            0\n",
      "dod_hosp      82\n",
      "dod_ssn       69\n",
      "dtype: int64\n"
     ]
    }
   ],
   "source": [
    "common.nan_count(patients_df)"
   ]
  },
  {
   "cell_type": "markdown",
   "metadata": {},
   "source": [
    "### Set the column types"
   ]
  },
  {
   "cell_type": "code",
   "execution_count": 94,
   "metadata": {},
   "outputs": [
    {
     "data": {
      "text/plain": [
       "subject_id     int64\n",
       "gender        object\n",
       "dob           object\n",
       "dod_hosp      object\n",
       "dod_ssn       object\n",
       "dtype: object"
      ]
     },
     "execution_count": 94,
     "metadata": {},
     "output_type": "execute_result"
    }
   ],
   "source": [
    "patients_df.dtypes"
   ]
  },
  {
   "cell_type": "code",
   "execution_count": 95,
   "metadata": {},
   "outputs": [],
   "source": [
    "# Transfer some date type\n",
    "\n",
    "patients_df['dob'] = pd.to_datetime(patients_df['dob'])\n",
    "patients_df['dod_hosp'] = pd.to_datetime(patients_df['dod_hosp'])\n",
    "patients_df['dod_ssn'] = pd.to_datetime(patients_df['dod_ssn'])"
   ]
  },
  {
   "cell_type": "code",
   "execution_count": 96,
   "metadata": {},
   "outputs": [
    {
     "data": {
      "text/plain": [
       "subject_id             int64\n",
       "gender                object\n",
       "dob           datetime64[ns]\n",
       "dod_hosp      datetime64[ns]\n",
       "dod_ssn       datetime64[ns]\n",
       "dtype: object"
      ]
     },
     "execution_count": 96,
     "metadata": {},
     "output_type": "execute_result"
    }
   ],
   "source": [
    "patients_df.dtypes"
   ]
  },
  {
   "cell_type": "markdown",
   "metadata": {},
   "source": [
    "### Process dod_hosp and dod_ssn"
   ]
  },
  {
   "cell_type": "code",
   "execution_count": 97,
   "metadata": {},
   "outputs": [],
   "source": [
    "# patients_df['dod_hosp'] = patients_df['dod_hosp'].apply(lambda x: 1 if pd.isna(x) == False else 0)\n",
    "# patients_df['dod_ssn'] = patients_df['dod_ssn'].apply(lambda x: 1 if pd.isna(x) == False else 0)\n",
    "\n",
    "# patients_df['dod_hosp'] = patients_df['dod_hosp'].astype(int)\n",
    "# patients_df['dod_ssn'] = patients_df['dod_ssn'].astype(int)"
   ]
  },
  {
   "cell_type": "code",
   "execution_count": 98,
   "metadata": {},
   "outputs": [],
   "source": [
    "# # Define a method to deal with dod_ssn\n",
    "# def dod_one_hot(df):\n",
    "#     '''\n",
    "#     Note that DOD merged together DOD_HOSP and DOD_SSN, giving priority to DOD_HOSP if both were recorded\n",
    "#     '''\n",
    "    \n",
    "#     if (df['dod_hosp'] == 1) and (df['dod_ssn'] == 1):\n",
    "#         return 0\n",
    "#     else:\n",
    "#         return df['dod_ssn']"
   ]
  },
  {
   "cell_type": "code",
   "execution_count": 99,
   "metadata": {},
   "outputs": [],
   "source": [
    "# patients_df['dod_ssn'] = patients_df.apply(dod_one_hot, axis=1)"
   ]
  },
  {
   "cell_type": "markdown",
   "metadata": {},
   "source": [
    "### Merge table"
   ]
  },
  {
   "cell_type": "code",
   "execution_count": 100,
   "metadata": {},
   "outputs": [],
   "source": [
    "patients_df = pd.merge(left=patients_df, right=admissions_date, how='inner', on=['subject_id'])"
   ]
  },
  {
   "cell_type": "markdown",
   "metadata": {},
   "source": [
    "### Process dob\n",
    "\n",
    "1. some patients who was rather than 89 years old, whose age were set over 300 years. so I need to try to restore a reasonable random date of birth, to let their age when admitted were reasonable.\n",
    "2. MIMIC-III has shifted all the date data. I try to shift the `admittime` back to be 2001 - 2012, and accross `addmittime` to reset the birth date"
   ]
  },
  {
   "cell_type": "code",
   "execution_count": 101,
   "metadata": {},
   "outputs": [],
   "source": [
    "import datetime\n",
    "import random\n",
    "\n",
    "def adjust_age_over_90(df):\n",
    "    years_100 = datetime.timedelta(days = (365 * 100 + 100/4))\n",
    "    random_days_10_years = datetime.timedelta(days = random.randint(0, 10)*365)\n",
    "    \n",
    "    if (df['dob'] - datetime.datetime(1970,1,1)).total_seconds() < 0:\n",
    "        return (df['admittime'] - years_100 + random_days_10_years)\n",
    "    else:\n",
    "        return df['dob']"
   ]
  },
  {
   "cell_type": "code",
   "execution_count": 102,
   "metadata": {},
   "outputs": [],
   "source": [
    "patients_df['dob'] = patients_df.apply(adjust_age_over_90, axis=1)"
   ]
  },
  {
   "cell_type": "code",
   "execution_count": 103,
   "metadata": {},
   "outputs": [],
   "source": [
    "# Calculate the age\n",
    "def get_birth_delta(df):\n",
    "    return df['admittime'] - df['dob']\n",
    "\n",
    "# Randomly pick a time between 2001-2012\n",
    "def adjust_admittime(df):\n",
    "    return pd.Timestamp(year=random.randint(2001, 2012), \\\n",
    "        month=df['admittime'].month, day=df['admittime'].day)\n",
    "\n",
    "# Renew the date of birth\n",
    "def reset_dob(df):\n",
    "    dob = df['admittime'] - df['dob']\n",
    "    return pd.to_datetime(dob.date())"
   ]
  },
  {
   "cell_type": "code",
   "execution_count": 104,
   "metadata": {},
   "outputs": [],
   "source": [
    "patients_df['dob'] = patients_df.apply(get_birth_delta, axis=1)\n",
    "patients_df['admittime'] = patients_df.apply(adjust_admittime, axis=1)\n",
    "patients_df['dob'] = patients_df.apply(reset_dob, axis=1)\n",
    "# patients_df = patients_df.drop(['admittime'], axis=1)"
   ]
  },
  {
   "cell_type": "code",
   "execution_count": 105,
   "metadata": {},
   "outputs": [],
   "source": [
    "patients_df.drop(['admittime', 'subject_id'], axis=1, inplace=True)"
   ]
  },
  {
   "cell_type": "code",
   "execution_count": 106,
   "metadata": {},
   "outputs": [],
   "source": [
    "# import datetime\n",
    "# import random\n",
    "\n",
    "# def adjust_age_over_90(df):\n",
    "#     '''\n",
    "#     This method is to adjust the invalid date in 'dob' (which is 18xx)\n",
    "#     Process: Plus 300 - 310 years from original date, to let the age of patients are between 90 to 100\n",
    "#     '''\n",
    "\n",
    "#     years_100 = datetime.timedelta(days = (365 * 100 + 100/4))\n",
    "#     random_days_10_years = datetime.timedelta(days = random.randint(0, 10*365))\n",
    "    \n",
    "#     # if patient was not dead, give a random reasonable birth\n",
    "#     if pd.isna(df['dod']):\n",
    "#         if np.int64(df['dob'].to_numpy()) < 0:\n",
    "#             return df['dob'] + years_100 + years_100 + years_100 + random_days_10_years\n",
    "#         else:\n",
    "#             return df['dob']\n",
    "#     # if patient was dead, use the death date - random 90 - 100 year, to make sure this patient's age was between 90 to 100\n",
    "#     else:\n",
    "#         return df['dod'] - years_100 + random_days_10_years"
   ]
  },
  {
   "cell_type": "code",
   "execution_count": 107,
   "metadata": {},
   "outputs": [],
   "source": [
    "# from pandas import NaT\n",
    "\n",
    "# patients_df['dod_hosp'] = patients_df['dod_hosp'].apply(lambda x: 1 if not pd.isna(x) else 0)\n",
    "# patients_df['dod_ssn'] = patients_df['dod_ssn'].apply(lambda x: 1 if not pd.isna(x) else 0)\n",
    "# patients_df['dod_live'] = patients_df['dod_live'].apply(lambda x: 1 if not pd.isna(x) else 0)"
   ]
  },
  {
   "cell_type": "code",
   "execution_count": 108,
   "metadata": {},
   "outputs": [
    {
     "data": {
      "text/plain": [
       "Index(['gender', 'dob', 'dod_hosp', 'dod_ssn'], dtype='object')"
      ]
     },
     "execution_count": 108,
     "metadata": {},
     "output_type": "execute_result"
    }
   ],
   "source": [
    "patients_df.columns"
   ]
  },
  {
   "cell_type": "markdown",
   "metadata": {},
   "source": [
    "---\n",
    "##  Build Model"
   ]
  },
  {
   "cell_type": "code",
   "execution_count": 109,
   "metadata": {},
   "outputs": [],
   "source": [
    "from sdv.lite import TabularPreset\n",
    "from sdv.tabular import GaussianCopula\n",
    "from sdv.tabular import CTGAN\n",
    "from sdv.tabular import CopulaGAN \n",
    "from sdv.tabular import TVAE\n",
    "from sdv.constraints import FixedCombinations"
   ]
  },
  {
   "cell_type": "code",
   "execution_count": 110,
   "metadata": {},
   "outputs": [
    {
     "data": {
      "text/plain": [
       "Index(['gender', 'dob', 'dod_hosp', 'dod_ssn'], dtype='object')"
      ]
     },
     "execution_count": 110,
     "metadata": {},
     "output_type": "execute_result"
    }
   ],
   "source": [
    "patients_df.columns"
   ]
  },
  {
   "cell_type": "markdown",
   "metadata": {},
   "source": [
    "### Set constraints"
   ]
  },
  {
   "cell_type": "markdown",
   "metadata": {},
   "source": [
    "#### Build custom constrains"
   ]
  },
  {
   "cell_type": "code",
   "execution_count": 111,
   "metadata": {},
   "outputs": [],
   "source": [
    "from sdv.constraints import create_custom_constraint"
   ]
  },
  {
   "cell_type": "code",
   "execution_count": 112,
   "metadata": {},
   "outputs": [],
   "source": [
    "# # DOD\n",
    "# def dod_data_unique_is_valid(column_names, data):\n",
    "#     one = (pd.isna(data['dod']) == False) & (pd.isna(data['dod_hosp']) == False) & (pd.isna(data['dod_ssn']) == True) #& (data['dod'] == data['dod_hosp'])\n",
    "#     two = (pd.isna(data['dod']) == False) & (pd.isna(data['dod_hosp']) == True) & (pd.isna(data['dod_ssn']) == False) #& (data['dod'] == data['dod_ssn'])\n",
    "#     three = (pd.isna(data['dod']) == True) & (pd.isna(data['dod_hosp']) == True) & (pd.isna(data['dod_ssn']) == True)\n",
    "#     is_only = one | two | three\n",
    "#     return is_only\n",
    "\n",
    "# def dod_data_unique_trasform(column_names, data):\n",
    "#     # print(data.loc[:, ['dod', 'dod_hosp', 'dod_ssn']])\n",
    "#     return data\n",
    "\n",
    "# def dod_data_unique_reverse_transform(column_names, transformed_data):\n",
    "#     # print(transformed_data.loc[:, ['dod', 'dod_hosp', 'dod_ssn']])\n",
    "\n",
    "#     one = (pd.isna(transformed_data['dod']) == False) & (pd.isna(transformed_data['dod_hosp']) == False) & (pd.isna(transformed_data['dod_ssn']) == True)\n",
    "#     two = (pd.isna(transformed_data['dod']) == False) & (pd.isna(transformed_data['dod_hosp']) == True) & (pd.isna(transformed_data['dod_ssn']) == False)\n",
    "\n",
    "#     transformed_data['dod_hosp'] = transformed_data[one]['dod']\n",
    "#     transformed_data['dod_ssn'] = transformed_data[two]['dod']\n",
    "\n",
    "#     return transformed_data\n",
    "\n",
    "\n",
    "# DodUniqueProcess = create_custom_constraint(\n",
    "#     is_valid_fn=dod_data_unique_is_valid,\n",
    "#     transform_fn=dod_data_unique_trasform,\n",
    "#     reverse_transform_fn=dod_data_unique_reverse_transform\n",
    "# )\n",
    "\n",
    "# dod_data_unique_constraint = DodUniqueProcess(\n",
    "#     column_names=['dod_hosp', 'dod_ssn']\n",
    "# )"
   ]
  },
  {
   "cell_type": "code",
   "execution_count": 113,
   "metadata": {},
   "outputs": [],
   "source": [
    "# # DOB\n",
    "# def dob_nut_null(column_names, data):\n",
    "#     return pd.isna(data['dob']) == False\n",
    "\n",
    "# DobNotNull = create_custom_constraint(\n",
    "#     is_valid_fn=dob_nut_null\n",
    "# )\n",
    "\n",
    "# dob_not_null_constraint = DobNotNull(\n",
    "#     column_names=['dob']\n",
    "# )"
   ]
  },
  {
   "cell_type": "markdown",
   "metadata": {},
   "source": [
    "#### Predefined Constraints"
   ]
  },
  {
   "cell_type": "code",
   "execution_count": 114,
   "metadata": {},
   "outputs": [],
   "source": [
    "from sdv.constraints import Unique\n",
    "\n",
    "unique_subject_id_constraint = Unique(\n",
    "    column_names=['subject_id']\n",
    ")"
   ]
  },
  {
   "cell_type": "code",
   "execution_count": 115,
   "metadata": {},
   "outputs": [],
   "source": [
    "# from sdv.constraints import ScalarInequality\n",
    "\n",
    "# dob_before_2200 = ScalarInequality(\n",
    "#     column_name='dob',\n",
    "#     relation='<=',\n",
    "#     value=\"2200-01-01\"\n",
    "# )\n",
    "\n",
    "# dob_after_2000 = ScalarInequality(\n",
    "#     column_name='dob',\n",
    "#     relation='>=',\n",
    "#     value=\"2000-01-01\"\n",
    "# )"
   ]
  },
  {
   "cell_type": "code",
   "execution_count": 116,
   "metadata": {},
   "outputs": [],
   "source": [
    "# from sdv.constraints import Inequality\n",
    "\n",
    "# dob_before_dod = Inequality(\n",
    "#     low_column_name='dob',\n",
    "#     high_column_name='dod'\n",
    "# )"
   ]
  },
  {
   "cell_type": "markdown",
   "metadata": {},
   "source": [
    "### Build and train model"
   ]
  },
  {
   "cell_type": "code",
   "execution_count": 117,
   "metadata": {},
   "outputs": [],
   "source": [
    "# constraints = [unique_subject_id_constraint]\n",
    "constraints = []"
   ]
  },
  {
   "cell_type": "code",
   "execution_count": 118,
   "metadata": {},
   "outputs": [],
   "source": [
    "train_data = patients_df"
   ]
  },
  {
   "cell_type": "code",
   "execution_count": 119,
   "metadata": {},
   "outputs": [
    {
     "name": "stdout",
     "output_type": "stream",
     "text": [
      "Strat training ...\n",
      "Tabular Preset\n",
      "Gaussian Copula\n",
      "CTGAN\n",
      "CopulaGAN\n",
      "TVAE\n",
      "Training finished!\n",
      "Strat evaluating ...\n",
      "Evaluating finished!\n",
      "Gaussian Copula\n",
      "The best model is: tvae\n",
      "The ContinuousKL_score is: nan\n",
      "The DiscreteKL_score is: nan\n",
      "The total score is: 0.8150755920511669\n"
     ]
    }
   ],
   "source": [
    "best_model = common.build_model(constraints=constraints, train_data=train_data)"
   ]
  },
  {
   "cell_type": "markdown",
   "metadata": {},
   "source": [
    "### Save model"
   ]
  },
  {
   "cell_type": "code",
   "execution_count": 120,
   "metadata": {},
   "outputs": [],
   "source": [
    "model_save_path = data_set_path + \"100_models/\" + \"patients_model.pkl\"\n",
    "common.save_model(best_model, model_save_path)"
   ]
  },
  {
   "cell_type": "markdown",
   "metadata": {},
   "source": [
    "---\n",
    "## Evaluate data"
   ]
  },
  {
   "cell_type": "markdown",
   "metadata": {},
   "source": [
    "### Generate synthetic data"
   ]
  },
  {
   "cell_type": "code",
   "execution_count": 121,
   "metadata": {},
   "outputs": [],
   "source": [
    "date_load_path = data_set_path + \"100_models/\" + \"patients_model.pkl\"\n",
    "model = common.load_model(date_load_path)"
   ]
  },
  {
   "cell_type": "code",
   "execution_count": 122,
   "metadata": {},
   "outputs": [],
   "source": [
    "sample = model.sample(num_rows=len(train_data))"
   ]
  },
  {
   "cell_type": "markdown",
   "metadata": {},
   "source": [
    "### Evaluation"
   ]
  },
  {
   "cell_type": "code",
   "execution_count": 123,
   "metadata": {},
   "outputs": [],
   "source": [
    "from sdv.evaluation import evaluate"
   ]
  },
  {
   "cell_type": "code",
   "execution_count": 124,
   "metadata": {},
   "outputs": [
    {
     "data": {
      "text/plain": [
       "nan"
      ]
     },
     "execution_count": 124,
     "metadata": {},
     "output_type": "execute_result"
    }
   ],
   "source": [
    "evaluate(sample, train_data, metrics=['ContinuousKLDivergence'])"
   ]
  },
  {
   "cell_type": "code",
   "execution_count": 125,
   "metadata": {},
   "outputs": [
    {
     "data": {
      "text/plain": [
       "nan"
      ]
     },
     "execution_count": 125,
     "metadata": {},
     "output_type": "execute_result"
    }
   ],
   "source": [
    "evaluate(sample, train_data, metrics=['DiscreteKLDivergence'])"
   ]
  },
  {
   "cell_type": "code",
   "execution_count": 126,
   "metadata": {},
   "outputs": [
    {
     "data": {
      "text/plain": [
       "0.9840401807087351"
      ]
     },
     "execution_count": 126,
     "metadata": {},
     "output_type": "execute_result"
    }
   ],
   "source": [
    "evaluate(sample, train_data, metrics=['CSTest', 'KSTest', 'ContinuousKLDivergence', 'DiscreteKLDivergence'])"
   ]
  },
  {
   "cell_type": "code",
   "execution_count": 127,
   "metadata": {},
   "outputs": [
    {
     "data": {
      "text/plain": [
       "<AxesSubplot:>"
      ]
     },
     "execution_count": 127,
     "metadata": {},
     "output_type": "execute_result"
    },
    {
     "data": {
      "image/png": "[encoded data removed]",
      "text/plain": [
       "<Figure size 432x288 with 1 Axes>"
      ]
     },
     "metadata": {
      "needs_background": "light"
     },
     "output_type": "display_data"
    }
   ],
   "source": [
    "train_data['dob'].hist(bins=10)"
   ]
  },
  {
   "cell_type": "code",
   "execution_count": 128,
   "metadata": {},
   "outputs": [
    {
     "data": {
      "text/plain": [
       "<AxesSubplot:>"
      ]
     },
     "execution_count": 128,
     "metadata": {},
     "output_type": "execute_result"
    },
    {
     "data": {
      "image/png": "[encoded data removed]",
      "text/plain": [
       "<Figure size 432x288 with 1 Axes>"
      ]
     },
     "metadata": {
      "needs_background": "light"
     },
     "output_type": "display_data"
    }
   ],
   "source": [
    "sample['dob'].hist(bins=10)"
   ]
  },
  {
   "cell_type": "code",
   "execution_count": 129,
   "metadata": {},
   "outputs": [
    {
     "data": {
      "text/plain": [
       "gender  dob         dod_hosp    dod_ssn   \n",
       "F       1904-02-27  2155-05-05  2156-01-07    1\n",
       "        1905-08-13  2149-11-16  2183-04-18    1\n",
       "        1910-02-27  2153-10-25  2169-05-21    1\n",
       "        1923-04-12  2151-01-30  2158-06-16    1\n",
       "        1979-03-20  2168-02-04  2166-07-06    1\n",
       "M       1913-01-07  2144-07-05  2130-09-15    1\n",
       "        1918-11-16  2158-05-19  2155-08-12    1\n",
       "        1946-04-06  2168-01-15  2175-12-27    1\n",
       "        1955-01-24  2166-03-19  2152-05-25    1\n",
       "        1962-03-12  2151-04-07  2180-12-03    1\n",
       "        1976-03-12  2147-03-03  2169-11-15    1\n",
       "        2000-01-02  2147-10-17  2141-05-17    1\n",
       "        2001-01-20  2159-01-30  2150-05-12    1\n",
       "dtype: int64"
      ]
     },
     "execution_count": 129,
     "metadata": {},
     "output_type": "execute_result"
    }
   ],
   "source": [
    "sample.value_counts()"
   ]
  },
  {
   "cell_type": "code",
   "execution_count": 130,
   "metadata": {},
   "outputs": [
    {
     "data": {
      "text/plain": [
       "array([<AxesSubplot:ylabel='gender'>], dtype=object)"
      ]
     },
     "execution_count": 130,
     "metadata": {},
     "output_type": "execute_result"
    },
    {
     "data": {
      "image/png": "[encoded data removed]",
      "text/plain": [
       "<Figure size 216x216 with 1 Axes>"
      ]
     },
     "metadata": {},
     "output_type": "display_data"
    }
   ],
   "source": [
    "sample['gender'].value_counts().to_frame().plot.pie(subplots=True, figsize=(3,3))"
   ]
  },
  {
   "cell_type": "code",
   "execution_count": 131,
   "metadata": {},
   "outputs": [
    {
     "data": {
      "text/plain": [
       "array([<AxesSubplot:ylabel='gender'>], dtype=object)"
      ]
     },
     "execution_count": 131,
     "metadata": {},
     "output_type": "execute_result"
    },
    {
     "data": {
      "image/png": "[encoded data removed]",
      "text/plain": [
       "<Figure size 216x216 with 1 Axes>"
      ]
     },
     "metadata": {},
     "output_type": "display_data"
    }
   ],
   "source": [
    "sample['gender'].value_counts().to_frame().plot.pie(subplots=True, figsize=(3,3))"
   ]
  },
  {
   "cell_type": "code",
   "execution_count": 132,
   "metadata": {},
   "outputs": [
    {
     "data": {
      "text/plain": [
       "M    51\n",
       "F    49\n",
       "Name: gender, dtype: int64"
      ]
     },
     "execution_count": 132,
     "metadata": {},
     "output_type": "execute_result"
    }
   ],
   "source": [
    "train_data['gender'].value_counts()"
   ]
  },
  {
   "cell_type": "markdown",
   "metadata": {},
   "source": [
    "---\n",
    "\n",
    "### Evaluate timeseries data (not accurate in tis table)"
   ]
  },
  {
   "cell_type": "code",
   "execution_count": 133,
   "metadata": {},
   "outputs": [],
   "source": [
    "from sdv.metrics.timeseries import LSTMDetection, TSFCDetection"
   ]
  },
  {
   "cell_type": "code",
   "execution_count": 134,
   "metadata": {},
   "outputs": [],
   "source": [
    "metadata_2 = model.get_metadata().to_dict()"
   ]
  },
  {
   "cell_type": "code",
   "execution_count": 135,
   "metadata": {},
   "outputs": [],
   "source": [
    "metadata_2['entity_columns']=['subject_id']"
   ]
  },
  {
   "cell_type": "code",
   "execution_count": 136,
   "metadata": {},
   "outputs": [
    {
     "data": {
      "text/plain": [
       "{'fields': {'gender': {'type': 'categorical',\n",
       "   'transformer': 'categorical_fuzzy'},\n",
       "  'dob': {'type': 'datetime', 'transformer': 'datetime'},\n",
       "  'dod_hosp': {'type': 'datetime', 'transformer': 'datetime'},\n",
       "  'dod_ssn': {'type': 'datetime', 'transformer': 'datetime'}},\n",
       " 'constraints': [],\n",
       " 'model_kwargs': {'GaussianCopula': {'field_distributions': {'gender.value': 'copulas.univariate.truncated_gaussian.TruncatedGaussian',\n",
       "    'dob.value': 'copulas.univariate.truncated_gaussian.TruncatedGaussian',\n",
       "    'dod_hosp.value': 'copulas.univariate.truncated_gaussian.TruncatedGaussian',\n",
       "    'dod_hosp.is_null': 'copulas.univariate.truncated_gaussian.TruncatedGaussian',\n",
       "    'dod_ssn.value': 'copulas.univariate.truncated_gaussian.TruncatedGaussian',\n",
       "    'dod_ssn.is_null': 'copulas.univariate.truncated_gaussian.TruncatedGaussian'},\n",
       "   'default_distribution': copulas.univariate.truncated_gaussian.TruncatedGaussian,\n",
       "   'categorical_transformer': 'categorical_fuzzy'}},\n",
       " 'name': None,\n",
       " 'primary_key': None,\n",
       " 'sequence_index': None,\n",
       " 'entity_columns': ['subject_id'],\n",
       " 'context_columns': []}"
      ]
     },
     "execution_count": 136,
     "metadata": {},
     "output_type": "execute_result"
    }
   ],
   "source": [
    "metadata_2"
   ]
  },
  {
   "cell_type": "code",
   "execution_count": null,
   "metadata": {},
   "outputs": [],
   "source": [
    "LSTMDetection.compute(sample, train_data, metadata_2)"
   ]
  },
  {
   "cell_type": "code",
   "execution_count": null,
   "metadata": {},
   "outputs": [],
   "source": [
    "patients_df.loc[:, ['subject_id', 'dob']].to_csv(data_set_path + \"date_dob.csv\", index=0)"
   ]
  }
 ],
 "metadata": {
  "kernelspec": {
   "display_name": "Python 3.8.13 ('msc_project')",
   "language": "python",
   "name": "python3"
  },
  "language_info": {
   "codemirror_mode": {
    "name": "ipython",
    "version": 3
   },
   "file_extension": ".py",
   "mimetype": "text/x-python",
   "name": "python",
   "nbconvert_exporter": "python",
   "pygments_lexer": "ipython3",
   "version": "3.8.13"
  },
  "orig_nbformat": 4,
  "vscode": {
   "interpreter": {
    "hash": "e56015fb566b08f7af163d42c82cf08fa5d6db3fbaaffa0afaaff5a893fc0496"
   }
  }
 },
 "nbformat": 4,
 "nbformat_minor": 2
}
