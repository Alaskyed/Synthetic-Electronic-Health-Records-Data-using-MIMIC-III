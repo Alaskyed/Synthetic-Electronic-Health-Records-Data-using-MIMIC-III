{
 "cells": [
  {
   "cell_type": "code",
   "execution_count": 58,
   "metadata": {},
   "outputs": [],
   "source": [
    "# from google.colab import drive\n",
    "# drive.mount('/content/drive')"
   ]
  },
  {
   "cell_type": "code",
   "execution_count": 59,
   "metadata": {},
   "outputs": [],
   "source": [
    "# ! pip install pgmpy"
   ]
  },
  {
   "cell_type": "code",
   "execution_count": 60,
   "metadata": {},
   "outputs": [],
   "source": [
    "# Ignore warnings\n",
    "import warnings\n",
    "warnings.filterwarnings(\"ignore\")"
   ]
  },
  {
   "cell_type": "code",
   "execution_count": 61,
   "metadata": {},
   "outputs": [],
   "source": [
    "import pandas as pd\n",
    "import numpy as np\n",
    "\n",
    "import common"
   ]
  },
  {
   "cell_type": "code",
   "execution_count": 62,
   "metadata": {},
   "outputs": [],
   "source": [
    "date_set_path = \"../temp_sets_100/\""
   ]
  },
  {
   "cell_type": "markdown",
   "metadata": {},
   "source": [
    "# Patients  "
   ]
  },
  {
   "cell_type": "markdown",
   "metadata": {},
   "source": [
    "## Data precess"
   ]
  },
  {
   "cell_type": "markdown",
   "metadata": {},
   "source": [
    "### Read samples"
   ]
  },
  {
   "cell_type": "code",
   "execution_count": 63,
   "metadata": {},
   "outputs": [],
   "source": [
    "patients_df = common.read_csv_no_rowid(date_set_path+\"patients.csv\")"
   ]
  },
  {
   "cell_type": "markdown",
   "metadata": {},
   "source": [
    "### Drop useless colums"
   ]
  },
  {
   "cell_type": "code",
   "execution_count": 64,
   "metadata": {},
   "outputs": [],
   "source": [
    "# Drop useless colums\n",
    "patients_df.drop(['expire_flag'], axis=1, inplace=True)"
   ]
  },
  {
   "cell_type": "markdown",
   "metadata": {},
   "source": [
    "### Deal with null values"
   ]
  },
  {
   "cell_type": "code",
   "execution_count": 65,
   "metadata": {},
   "outputs": [
    {
     "name": "stdout",
     "output_type": "stream",
     "text": [
      "Total columns: 6\n",
      "Total rows: 100\n",
      "--------------\n",
      "subject_id     0\n",
      "gender         0\n",
      "dob            0\n",
      "dod           59\n",
      "dod_hosp      78\n",
      "dod_ssn       63\n",
      "dtype: int64\n"
     ]
    }
   ],
   "source": [
    "# Check null value in table\n",
    "common.nan_count(patients_df)"
   ]
  },
  {
   "cell_type": "code",
   "execution_count": 66,
   "metadata": {},
   "outputs": [],
   "source": [
    "# Set a value replacing the null time value\n",
    "nan_datetime=pd.to_datetime(0)"
   ]
  },
  {
   "cell_type": "code",
   "execution_count": 67,
   "metadata": {},
   "outputs": [],
   "source": [
    "patients_df['dob'].fillna(value=nan_datetime, inplace=True)\n",
    "# patients_df['dod_hosp'].fillna(value=nan_datetime, inplace=True)\n",
    "# patients_df['dod_ssn'].fillna(value=nan_datetime, inplace=True)"
   ]
  },
  {
   "cell_type": "code",
   "execution_count": 68,
   "metadata": {},
   "outputs": [
    {
     "name": "stdout",
     "output_type": "stream",
     "text": [
      "Total columns: 6\n",
      "Total rows: 100\n",
      "--------------\n",
      "subject_id     0\n",
      "gender         0\n",
      "dob            0\n",
      "dod           59\n",
      "dod_hosp      78\n",
      "dod_ssn       63\n",
      "dtype: int64\n"
     ]
    }
   ],
   "source": [
    "common.nan_count(patients_df)"
   ]
  },
  {
   "cell_type": "markdown",
   "metadata": {},
   "source": [
    "### Set the column types"
   ]
  },
  {
   "cell_type": "code",
   "execution_count": 69,
   "metadata": {},
   "outputs": [
    {
     "data": {
      "text/plain": [
       "subject_id     int64\n",
       "gender        object\n",
       "dob           object\n",
       "dod           object\n",
       "dod_hosp      object\n",
       "dod_ssn       object\n",
       "dtype: object"
      ]
     },
     "execution_count": 69,
     "metadata": {},
     "output_type": "execute_result"
    }
   ],
   "source": [
    "patients_df.dtypes"
   ]
  },
  {
   "cell_type": "code",
   "execution_count": 70,
   "metadata": {},
   "outputs": [],
   "source": [
    "# Transfer some date type\n",
    "\n",
    "patients_df['dob'] = pd.to_datetime(patients_df['dob'])\n",
    "# patients_df['dob'] = patients_df['dob'].astype(np.int64)\n",
    "patients_df['dod'] = pd.to_datetime(patients_df['dod'])\n",
    "patients_df['dod_hosp'] = pd.to_datetime(patients_df['dod_hosp'])\n",
    "patients_df['dod_ssn'] = pd.to_datetime(patients_df['dod_ssn'])"
   ]
  },
  {
   "cell_type": "code",
   "execution_count": 71,
   "metadata": {},
   "outputs": [
    {
     "data": {
      "text/plain": [
       "subject_id             int64\n",
       "gender                object\n",
       "dob           datetime64[ns]\n",
       "dod           datetime64[ns]\n",
       "dod_hosp      datetime64[ns]\n",
       "dod_ssn       datetime64[ns]\n",
       "dtype: object"
      ]
     },
     "execution_count": 71,
     "metadata": {},
     "output_type": "execute_result"
    }
   ],
   "source": [
    "patients_df.dtypes"
   ]
  },
  {
   "cell_type": "markdown",
   "metadata": {},
   "source": [
    "### Process dod_hosp and dod_ssn"
   ]
  },
  {
   "cell_type": "code",
   "execution_count": 72,
   "metadata": {},
   "outputs": [],
   "source": [
    "from pandas import NaT\n",
    "\n",
    "# Define a method to deal with death time\n",
    "def dod_process(df):\n",
    "    '''\n",
    "    Note that DOD merged together DOD_HOSP and DOD_SSN, giving priority to DOD_HOSP if both were recorded\n",
    "    '''\n",
    "    \n",
    "    if not (pd.isna(df['dod_hosp']) or pd.isna(df['dod_ssn'])):\n",
    "        return NaT\n",
    "    else:\n",
    "        return df['dod_ssn']"
   ]
  },
  {
   "cell_type": "code",
   "execution_count": 73,
   "metadata": {},
   "outputs": [],
   "source": [
    "patients_df['dod_ssn'] = patients_df.apply(dod_process, axis=1)"
   ]
  },
  {
   "cell_type": "code",
   "execution_count": 74,
   "metadata": {},
   "outputs": [
    {
     "data": {
      "text/html": [
       "<div>\n",
       "<style scoped>\n",
       "    .dataframe tbody tr th:only-of-type {\n",
       "        vertical-align: middle;\n",
       "    }\n",
       "\n",
       "    .dataframe tbody tr th {\n",
       "        vertical-align: top;\n",
       "    }\n",
       "\n",
       "    .dataframe thead th {\n",
       "        text-align: right;\n",
       "    }\n",
       "</style>\n",
       "<table border=\"1\" class=\"dataframe\">\n",
       "  <thead>\n",
       "    <tr style=\"text-align: right;\">\n",
       "      <th></th>\n",
       "      <th>subject_id</th>\n",
       "      <th>gender</th>\n",
       "      <th>dob</th>\n",
       "      <th>dod</th>\n",
       "      <th>dod_hosp</th>\n",
       "      <th>dod_ssn</th>\n",
       "    </tr>\n",
       "  </thead>\n",
       "  <tbody>\n",
       "    <tr>\n",
       "      <th>0</th>\n",
       "      <td>569</td>\n",
       "      <td>M</td>\n",
       "      <td>2021-11-04</td>\n",
       "      <td>2107-11-30</td>\n",
       "      <td>NaT</td>\n",
       "      <td>2107-11-30</td>\n",
       "    </tr>\n",
       "    <tr>\n",
       "      <th>1</th>\n",
       "      <td>26282</td>\n",
       "      <td>F</td>\n",
       "      <td>2074-03-20</td>\n",
       "      <td>NaT</td>\n",
       "      <td>NaT</td>\n",
       "      <td>NaT</td>\n",
       "    </tr>\n",
       "    <tr>\n",
       "      <th>2</th>\n",
       "      <td>1762</td>\n",
       "      <td>F</td>\n",
       "      <td>2120-03-19</td>\n",
       "      <td>NaT</td>\n",
       "      <td>NaT</td>\n",
       "      <td>NaT</td>\n",
       "    </tr>\n",
       "    <tr>\n",
       "      <th>3</th>\n",
       "      <td>14481</td>\n",
       "      <td>M</td>\n",
       "      <td>1816-05-08</td>\n",
       "      <td>2121-02-14</td>\n",
       "      <td>NaT</td>\n",
       "      <td>2121-02-14</td>\n",
       "    </tr>\n",
       "    <tr>\n",
       "      <th>4</th>\n",
       "      <td>21470</td>\n",
       "      <td>M</td>\n",
       "      <td>2195-05-20</td>\n",
       "      <td>NaT</td>\n",
       "      <td>NaT</td>\n",
       "      <td>NaT</td>\n",
       "    </tr>\n",
       "    <tr>\n",
       "      <th>...</th>\n",
       "      <td>...</td>\n",
       "      <td>...</td>\n",
       "      <td>...</td>\n",
       "      <td>...</td>\n",
       "      <td>...</td>\n",
       "      <td>...</td>\n",
       "    </tr>\n",
       "    <tr>\n",
       "      <th>95</th>\n",
       "      <td>23647</td>\n",
       "      <td>M</td>\n",
       "      <td>2077-02-13</td>\n",
       "      <td>NaT</td>\n",
       "      <td>NaT</td>\n",
       "      <td>NaT</td>\n",
       "    </tr>\n",
       "    <tr>\n",
       "      <th>96</th>\n",
       "      <td>26485</td>\n",
       "      <td>F</td>\n",
       "      <td>2075-08-15</td>\n",
       "      <td>2164-05-08</td>\n",
       "      <td>2164-05-08</td>\n",
       "      <td>NaT</td>\n",
       "    </tr>\n",
       "    <tr>\n",
       "      <th>97</th>\n",
       "      <td>26884</td>\n",
       "      <td>F</td>\n",
       "      <td>2067-01-31</td>\n",
       "      <td>2153-06-23</td>\n",
       "      <td>NaT</td>\n",
       "      <td>2153-06-23</td>\n",
       "    </tr>\n",
       "    <tr>\n",
       "      <th>98</th>\n",
       "      <td>49024</td>\n",
       "      <td>M</td>\n",
       "      <td>2055-02-17</td>\n",
       "      <td>2137-01-12</td>\n",
       "      <td>NaT</td>\n",
       "      <td>2137-01-12</td>\n",
       "    </tr>\n",
       "    <tr>\n",
       "      <th>99</th>\n",
       "      <td>15440</td>\n",
       "      <td>M</td>\n",
       "      <td>2034-08-16</td>\n",
       "      <td>NaT</td>\n",
       "      <td>NaT</td>\n",
       "      <td>NaT</td>\n",
       "    </tr>\n",
       "  </tbody>\n",
       "</table>\n",
       "<p>100 rows × 6 columns</p>\n",
       "</div>"
      ],
      "text/plain": [
       "    subject_id gender        dob        dod   dod_hosp    dod_ssn\n",
       "0          569      M 2021-11-04 2107-11-30        NaT 2107-11-30\n",
       "1        26282      F 2074-03-20        NaT        NaT        NaT\n",
       "2         1762      F 2120-03-19        NaT        NaT        NaT\n",
       "3        14481      M 1816-05-08 2121-02-14        NaT 2121-02-14\n",
       "4        21470      M 2195-05-20        NaT        NaT        NaT\n",
       "..         ...    ...        ...        ...        ...        ...\n",
       "95       23647      M 2077-02-13        NaT        NaT        NaT\n",
       "96       26485      F 2075-08-15 2164-05-08 2164-05-08        NaT\n",
       "97       26884      F 2067-01-31 2153-06-23        NaT 2153-06-23\n",
       "98       49024      M 2055-02-17 2137-01-12        NaT 2137-01-12\n",
       "99       15440      M 2034-08-16        NaT        NaT        NaT\n",
       "\n",
       "[100 rows x 6 columns]"
      ]
     },
     "execution_count": 74,
     "metadata": {},
     "output_type": "execute_result"
    }
   ],
   "source": [
    "patients_df"
   ]
  },
  {
   "cell_type": "markdown",
   "metadata": {},
   "source": [
    "### Process dob (age > 300)"
   ]
  },
  {
   "cell_type": "code",
   "execution_count": 75,
   "metadata": {},
   "outputs": [
    {
     "data": {
      "text/plain": [
       "subject_id             int64\n",
       "gender                object\n",
       "dob           datetime64[ns]\n",
       "dod           datetime64[ns]\n",
       "dod_hosp      datetime64[ns]\n",
       "dod_ssn       datetime64[ns]\n",
       "dtype: object"
      ]
     },
     "execution_count": 75,
     "metadata": {},
     "output_type": "execute_result"
    }
   ],
   "source": [
    "patients_df.dtypes"
   ]
  },
  {
   "cell_type": "code",
   "execution_count": 76,
   "metadata": {},
   "outputs": [],
   "source": [
    "import datetime\n",
    "import random\n",
    "\n",
    "def adjust_age_over_90(df):\n",
    "    '''\n",
    "    This method is to adjust the invalid date in 'dob' (which is 18xx)\n",
    "    Process: Plus 300 - 310 years from original date, to let the age of patients are between 90 to 100\n",
    "    '''\n",
    "\n",
    "    years_100 = datetime.timedelta(days = (365 * 100 + 100/4))\n",
    "    random_days_10_years = datetime.timedelta(days = random.randint(0, 10*365))\n",
    "    \n",
    "    # if patient was not dead, give a random reasonable birth\n",
    "    if pd.isna(df['dod']):\n",
    "        if np.int64(df['dob'].to_numpy()) < 0:\n",
    "            return df['dob'] + years_100 + years_100 + years_100 + random_days_10_years\n",
    "        else:\n",
    "            return df['dob']\n",
    "    # if patient was dead, use the death date - random 90 - 100 year, to make sure this patient's age was between 90 to 100\n",
    "    else:\n",
    "        return df['dod'] - years_100 + random_days_10_years"
   ]
  },
  {
   "cell_type": "code",
   "execution_count": 77,
   "metadata": {},
   "outputs": [],
   "source": [
    "patients_df['dob'] = patients_df.apply(adjust_age_over_90, axis=1)"
   ]
  },
  {
   "cell_type": "code",
   "execution_count": 78,
   "metadata": {},
   "outputs": [],
   "source": [
    "# from pandas import NaT\n",
    "\n",
    "# patients_df['dod_hosp'] = patients_df['dod_hosp'].apply(lambda x: 1 if not pd.isna(x) else 0)\n",
    "# patients_df['dod_ssn'] = patients_df['dod_ssn'].apply(lambda x: 1 if not pd.isna(x) else 0)\n",
    "# patients_df['dod_live'] = patients_df['dod_live'].apply(lambda x: 1 if not pd.isna(x) else 0)"
   ]
  },
  {
   "cell_type": "markdown",
   "metadata": {},
   "source": [
    "---"
   ]
  },
  {
   "cell_type": "markdown",
   "metadata": {},
   "source": [
    "##  Build Model"
   ]
  },
  {
   "cell_type": "code",
   "execution_count": 79,
   "metadata": {},
   "outputs": [],
   "source": [
    "from sdv.tabular import CTGAN\n",
    "from sdv.constraints import FixedCombinations"
   ]
  },
  {
   "cell_type": "code",
   "execution_count": 80,
   "metadata": {},
   "outputs": [
    {
     "data": {
      "text/plain": [
       "Index(['subject_id', 'gender', 'dob', 'dod', 'dod_hosp', 'dod_ssn'], dtype='object')"
      ]
     },
     "execution_count": 80,
     "metadata": {},
     "output_type": "execute_result"
    }
   ],
   "source": [
    "patients_df.columns"
   ]
  },
  {
   "cell_type": "markdown",
   "metadata": {},
   "source": [
    "### Set constraint"
   ]
  },
  {
   "cell_type": "code",
   "execution_count": 81,
   "metadata": {},
   "outputs": [],
   "source": [
    "# Fixed constraints\n",
    "# fixed_subject_hadm_icustay_constraint = FixedCombinations(\n",
    "#     column_names=['subject_id', 'hadm_id']\n",
    "# )"
   ]
  },
  {
   "cell_type": "code",
   "execution_count": 82,
   "metadata": {},
   "outputs": [],
   "source": [
    "# dod_hosp_dod_ssn_constraint = OneHotEncoding(\n",
    "#     column_names=['dod_hosp', 'dod_ssn', 'dod_live']\n",
    "# )"
   ]
  },
  {
   "cell_type": "code",
   "execution_count": 83,
   "metadata": {},
   "outputs": [],
   "source": [
    "# patients_constraints = [dod_hosp_dod_ssn_constraint]"
   ]
  },
  {
   "cell_type": "markdown",
   "metadata": {},
   "source": [
    "#### Build custom constrains"
   ]
  },
  {
   "cell_type": "code",
   "execution_count": 84,
   "metadata": {},
   "outputs": [],
   "source": [
    "from sdv.constraints import create_custom_constraint"
   ]
  },
  {
   "cell_type": "code",
   "execution_count": 85,
   "metadata": {},
   "outputs": [],
   "source": [
    "# DOD\n",
    "def dod_data_unique_is_valid(column_names, data):\n",
    "    one = (pd.isna(data['dod']) == False) & (pd.isna(data['dod_hosp']) == False) & (pd.isna(data['dod_ssn']) == True) #& (data['dod'] == data['dod_hosp'])\n",
    "    two = (pd.isna(data['dod']) == False) & (pd.isna(data['dod_hosp']) == True) & (pd.isna(data['dod_ssn']) == False) #& (data['dod'] == data['dod_ssn'])\n",
    "    three = (pd.isna(data['dod']) == True) & (pd.isna(data['dod_hosp']) == True) & (pd.isna(data['dod_ssn']) == True)\n",
    "    is_only = one | two | three\n",
    "    return is_only\n",
    "\n",
    "def dod_data_unique_trasform(column_names, data):\n",
    "    # print(data.loc[:, ['dod', 'dod_hosp', 'dod_ssn']])\n",
    "    return data\n",
    "\n",
    "def dod_data_unique_reverse_transform(column_names, transformed_data):\n",
    "    # print(transformed_data.loc[:, ['dod', 'dod_hosp', 'dod_ssn']])\n",
    "\n",
    "    one = (pd.isna(transformed_data['dod']) == False) & (pd.isna(transformed_data['dod_hosp']) == False) & (pd.isna(transformed_data['dod_ssn']) == True)\n",
    "    two = (pd.isna(transformed_data['dod']) == False) & (pd.isna(transformed_data['dod_hosp']) == True) & (pd.isna(transformed_data['dod_ssn']) == False)\n",
    "\n",
    "    transformed_data['dod_hosp'] = transformed_data[one]['dod']\n",
    "    transformed_data['dod_ssn'] = transformed_data[two]['dod']\n",
    "\n",
    "    return transformed_data\n",
    "\n",
    "\n",
    "DodUniqueProcess = create_custom_constraint(\n",
    "    is_valid_fn=dod_data_unique_is_valid,\n",
    "    transform_fn=dod_data_unique_trasform,\n",
    "    reverse_transform_fn=dod_data_unique_reverse_transform\n",
    ")\n",
    "\n",
    "dod_data_unique_constraint = DodUniqueProcess(\n",
    "    column_names=['dod_hosp', 'dod_ssn']\n",
    ")"
   ]
  },
  {
   "cell_type": "code",
   "execution_count": 86,
   "metadata": {},
   "outputs": [],
   "source": [
    "# DOB\n",
    "def dob_nut_null(column_names, data):\n",
    "    return pd.isna(data['dob']) == False\n",
    "\n",
    "DobNotNull = create_custom_constraint(\n",
    "    is_valid_fn=dob_nut_null\n",
    ")\n",
    "\n",
    "dob_not_null_constraint = DobNotNull(\n",
    "    column_names=['dob']\n",
    ")"
   ]
  },
  {
   "cell_type": "markdown",
   "metadata": {},
   "source": [
    "#### Predefined Constraints"
   ]
  },
  {
   "cell_type": "code",
   "execution_count": 87,
   "metadata": {},
   "outputs": [],
   "source": [
    "from sdv.constraints import ScalarInequality\n",
    "\n",
    "dob_before_2200 = ScalarInequality(\n",
    "    column_name='dob',\n",
    "    relation='<=',\n",
    "    value=\"2200-01-01\"\n",
    ")"
   ]
  },
  {
   "cell_type": "code",
   "execution_count": 88,
   "metadata": {},
   "outputs": [],
   "source": [
    "dob_after_2000 = ScalarInequality(\n",
    "    column_name='dob',\n",
    "    relation='>=',\n",
    "    value=\"2000-01-01\"\n",
    ")"
   ]
  },
  {
   "cell_type": "code",
   "execution_count": 89,
   "metadata": {},
   "outputs": [],
   "source": [
    "from sdv.constraints import Inequality\n",
    "\n",
    "dob_before_dod = Inequality(\n",
    "    low_column_name='dob',\n",
    "    high_column_name='dod'\n",
    ")"
   ]
  },
  {
   "cell_type": "markdown",
   "metadata": {},
   "source": [
    "### Build and train model"
   ]
  },
  {
   "cell_type": "code",
   "execution_count": 90,
   "metadata": {},
   "outputs": [],
   "source": [
    "constrains = [dod_data_unique_constraint, dob_not_null_constraint, dob_before_2200, dob_after_2000, dob_before_dod]"
   ]
  },
  {
   "cell_type": "code",
   "execution_count": 91,
   "metadata": {},
   "outputs": [],
   "source": [
    "model = CTGAN(\n",
    "    constraints=constrains, \n",
    "    batch_size=10000,\n",
    "    cuda=True, \n",
    "    verbose=True, \n",
    "    epochs=60)"
   ]
  },
  {
   "cell_type": "code",
   "execution_count": 92,
   "metadata": {},
   "outputs": [
    {
     "data": {
      "text/plain": [
       "100"
      ]
     },
     "execution_count": 92,
     "metadata": {},
     "output_type": "execute_result"
    }
   ],
   "source": [
    "len(patients_df)"
   ]
  },
  {
   "cell_type": "code",
   "execution_count": 93,
   "metadata": {},
   "outputs": [
    {
     "name": "stdout",
     "output_type": "stream",
     "text": [
      "Epoch 1, Loss G:  0.7311,Loss D:  0.0065\n",
      "Epoch 2, Loss G:  0.7188,Loss D: -0.0103\n",
      "Epoch 3, Loss G:  0.7024,Loss D: -0.0182\n",
      "Epoch 4, Loss G:  0.6973,Loss D: -0.0448\n",
      "Epoch 5, Loss G:  0.6799,Loss D: -0.0446\n",
      "Epoch 6, Loss G:  0.6687,Loss D: -0.0713\n",
      "Epoch 7, Loss G:  0.6498,Loss D: -0.0919\n",
      "Epoch 8, Loss G:  0.6371,Loss D: -0.1080\n",
      "Epoch 9, Loss G:  0.6209,Loss D: -0.1294\n",
      "Epoch 10, Loss G:  0.5864,Loss D: -0.1379\n",
      "Epoch 11, Loss G:  0.5596,Loss D: -0.1504\n",
      "Epoch 12, Loss G:  0.5139,Loss D: -0.1593\n",
      "Epoch 13, Loss G:  0.4827,Loss D: -0.1727\n",
      "Epoch 14, Loss G:  0.4288,Loss D: -0.1897\n",
      "Epoch 15, Loss G:  0.3778,Loss D: -0.1607\n",
      "Epoch 16, Loss G:  0.3184,Loss D: -0.1639\n",
      "Epoch 17, Loss G:  0.2459,Loss D: -0.1337\n",
      "Epoch 18, Loss G:  0.1574,Loss D: -0.1251\n",
      "Epoch 19, Loss G:  0.0873,Loss D: -0.0739\n",
      "Epoch 20, Loss G: -0.0153,Loss D: -0.0693\n",
      "Epoch 21, Loss G: -0.1000,Loss D: -0.0342\n",
      "Epoch 22, Loss G: -0.1913,Loss D:  0.0344\n",
      "Epoch 23, Loss G: -0.2648,Loss D:  0.0370\n",
      "Epoch 24, Loss G: -0.3474,Loss D:  0.1080\n",
      "Epoch 25, Loss G: -0.3966,Loss D:  0.1257\n",
      "Epoch 26, Loss G: -0.4105,Loss D:  0.1349\n",
      "Epoch 27, Loss G: -0.4275,Loss D:  0.1753\n",
      "Epoch 28, Loss G: -0.4404,Loss D:  0.1288\n",
      "Epoch 29, Loss G: -0.4631,Loss D:  0.1131\n",
      "Epoch 30, Loss G: -0.4251,Loss D:  0.1194\n",
      "Epoch 31, Loss G: -0.4167,Loss D:  0.0840\n",
      "Epoch 32, Loss G: -0.3769,Loss D:  0.0676\n",
      "Epoch 33, Loss G: -0.3137,Loss D:  0.0385\n",
      "Epoch 34, Loss G: -0.2794,Loss D:  0.0114\n",
      "Epoch 35, Loss G: -0.2488,Loss D: -0.0127\n",
      "Epoch 36, Loss G: -0.2086,Loss D: -0.0435\n",
      "Epoch 37, Loss G: -0.2008,Loss D: -0.0783\n",
      "Epoch 38, Loss G: -0.1746,Loss D: -0.0843\n",
      "Epoch 39, Loss G: -0.1458,Loss D: -0.1062\n",
      "Epoch 40, Loss G: -0.1108,Loss D: -0.1081\n",
      "Epoch 41, Loss G: -0.1437,Loss D: -0.1117\n",
      "Epoch 42, Loss G: -0.1063,Loss D: -0.0930\n",
      "Epoch 43, Loss G: -0.0812,Loss D: -0.0894\n",
      "Epoch 44, Loss G: -0.0484,Loss D: -0.0747\n",
      "Epoch 45, Loss G: -0.0292,Loss D: -0.0758\n",
      "Epoch 46, Loss G: -0.0041,Loss D: -0.0792\n",
      "Epoch 47, Loss G: -0.0042,Loss D: -0.0997\n",
      "Epoch 48, Loss G:  0.0156,Loss D: -0.1189\n",
      "Epoch 49, Loss G:  0.0325,Loss D: -0.0859\n",
      "Epoch 50, Loss G:  0.0332,Loss D: -0.1064\n",
      "Epoch 51, Loss G:  0.0567,Loss D: -0.0927\n",
      "Epoch 52, Loss G:  0.0787,Loss D: -0.0841\n",
      "Epoch 53, Loss G:  0.0728,Loss D: -0.1154\n",
      "Epoch 54, Loss G:  0.1011,Loss D: -0.1046\n",
      "Epoch 55, Loss G:  0.0954,Loss D: -0.1129\n",
      "Epoch 56, Loss G:  0.0996,Loss D: -0.1467\n",
      "Epoch 57, Loss G:  0.1207,Loss D: -0.1419\n",
      "Epoch 58, Loss G:  0.1190,Loss D: -0.1135\n",
      "Epoch 59, Loss G:  0.1121,Loss D: -0.1037\n",
      "Epoch 60, Loss G:  0.1102,Loss D: -0.1256\n"
     ]
    }
   ],
   "source": [
    "train_data = patients_df\n",
    "model.fit(train_data)"
   ]
  },
  {
   "cell_type": "markdown",
   "metadata": {},
   "source": [
    "### Save model"
   ]
  },
  {
   "cell_type": "code",
   "execution_count": 94,
   "metadata": {},
   "outputs": [],
   "source": [
    "import cloudpickle\n",
    "\n",
    "with open(date_set_path + \"100_models/\" + \"patients_model.pkl\", 'wb') as f:\n",
    "    cloudpickle.dump(model, f)"
   ]
  },
  {
   "cell_type": "code",
   "execution_count": 95,
   "metadata": {},
   "outputs": [],
   "source": [
    "# model.save(date_set_path + \"100_models/\" + \"patients_model.pkl\")"
   ]
  },
  {
   "cell_type": "markdown",
   "metadata": {},
   "source": [
    "## Generate synthetic data"
   ]
  },
  {
   "cell_type": "code",
   "execution_count": 96,
   "metadata": {},
   "outputs": [],
   "source": [
    "import cloudpickle\n",
    "\n",
    "with open(date_set_path + \"100_models/\" + \"patients_model.pkl\", 'rb') as f:\n",
    "    model = cloudpickle.load(f)"
   ]
  },
  {
   "cell_type": "code",
   "execution_count": 97,
   "metadata": {},
   "outputs": [
    {
     "name": "stderr",
     "output_type": "stream",
     "text": [
      "Sampling rows: 100%|██████████| 100/100 [00:00<00:00, 249.77it/s]\n"
     ]
    }
   ],
   "source": [
    "sample = model.sample(num_rows=len(train_data))"
   ]
  },
  {
   "cell_type": "code",
   "execution_count": 98,
   "metadata": {},
   "outputs": [
    {
     "data": {
      "text/html": [
       "<div>\n",
       "<style scoped>\n",
       "    .dataframe tbody tr th:only-of-type {\n",
       "        vertical-align: middle;\n",
       "    }\n",
       "\n",
       "    .dataframe tbody tr th {\n",
       "        vertical-align: top;\n",
       "    }\n",
       "\n",
       "    .dataframe thead th {\n",
       "        text-align: right;\n",
       "    }\n",
       "</style>\n",
       "<table border=\"1\" class=\"dataframe\">\n",
       "  <thead>\n",
       "    <tr style=\"text-align: right;\">\n",
       "      <th></th>\n",
       "      <th>subject_id</th>\n",
       "      <th>gender</th>\n",
       "      <th>dob</th>\n",
       "      <th>dod</th>\n",
       "      <th>dod_hosp</th>\n",
       "      <th>dod_ssn</th>\n",
       "    </tr>\n",
       "  </thead>\n",
       "  <tbody>\n",
       "    <tr>\n",
       "      <th>0</th>\n",
       "      <td>26284</td>\n",
       "      <td>F</td>\n",
       "      <td>2072-09-28</td>\n",
       "      <td>NaT</td>\n",
       "      <td>NaT</td>\n",
       "      <td>NaT</td>\n",
       "    </tr>\n",
       "    <tr>\n",
       "      <th>1</th>\n",
       "      <td>34981</td>\n",
       "      <td>F</td>\n",
       "      <td>2099-12-23</td>\n",
       "      <td>NaT</td>\n",
       "      <td>NaT</td>\n",
       "      <td>NaT</td>\n",
       "    </tr>\n",
       "    <tr>\n",
       "      <th>2</th>\n",
       "      <td>29076</td>\n",
       "      <td>F</td>\n",
       "      <td>2096-01-16</td>\n",
       "      <td>NaT</td>\n",
       "      <td>NaT</td>\n",
       "      <td>NaT</td>\n",
       "    </tr>\n",
       "    <tr>\n",
       "      <th>3</th>\n",
       "      <td>27157</td>\n",
       "      <td>M</td>\n",
       "      <td>2094-05-20</td>\n",
       "      <td>2184-12-27</td>\n",
       "      <td>2184-12-27</td>\n",
       "      <td>NaT</td>\n",
       "    </tr>\n",
       "    <tr>\n",
       "      <th>4</th>\n",
       "      <td>59536</td>\n",
       "      <td>M</td>\n",
       "      <td>2065-01-16</td>\n",
       "      <td>2162-04-02</td>\n",
       "      <td>2162-04-02</td>\n",
       "      <td>NaT</td>\n",
       "    </tr>\n",
       "    <tr>\n",
       "      <th>5</th>\n",
       "      <td>47957</td>\n",
       "      <td>M</td>\n",
       "      <td>2055-02-03</td>\n",
       "      <td>NaT</td>\n",
       "      <td>NaT</td>\n",
       "      <td>NaT</td>\n",
       "    </tr>\n",
       "    <tr>\n",
       "      <th>6</th>\n",
       "      <td>69407</td>\n",
       "      <td>F</td>\n",
       "      <td>2117-03-08</td>\n",
       "      <td>NaT</td>\n",
       "      <td>NaT</td>\n",
       "      <td>NaT</td>\n",
       "    </tr>\n",
       "    <tr>\n",
       "      <th>7</th>\n",
       "      <td>99503</td>\n",
       "      <td>M</td>\n",
       "      <td>2048-06-20</td>\n",
       "      <td>NaT</td>\n",
       "      <td>NaT</td>\n",
       "      <td>NaT</td>\n",
       "    </tr>\n",
       "    <tr>\n",
       "      <th>8</th>\n",
       "      <td>12732</td>\n",
       "      <td>M</td>\n",
       "      <td>2101-01-14</td>\n",
       "      <td>NaT</td>\n",
       "      <td>NaT</td>\n",
       "      <td>NaT</td>\n",
       "    </tr>\n",
       "    <tr>\n",
       "      <th>9</th>\n",
       "      <td>21093</td>\n",
       "      <td>M</td>\n",
       "      <td>2032-02-25</td>\n",
       "      <td>NaT</td>\n",
       "      <td>NaT</td>\n",
       "      <td>NaT</td>\n",
       "    </tr>\n",
       "    <tr>\n",
       "      <th>10</th>\n",
       "      <td>33897</td>\n",
       "      <td>M</td>\n",
       "      <td>2004-03-23</td>\n",
       "      <td>NaT</td>\n",
       "      <td>NaT</td>\n",
       "      <td>NaT</td>\n",
       "    </tr>\n",
       "    <tr>\n",
       "      <th>11</th>\n",
       "      <td>31140</td>\n",
       "      <td>M</td>\n",
       "      <td>2019-07-27</td>\n",
       "      <td>NaT</td>\n",
       "      <td>NaT</td>\n",
       "      <td>NaT</td>\n",
       "    </tr>\n",
       "    <tr>\n",
       "      <th>12</th>\n",
       "      <td>29059</td>\n",
       "      <td>M</td>\n",
       "      <td>2118-11-13</td>\n",
       "      <td>NaT</td>\n",
       "      <td>NaT</td>\n",
       "      <td>NaT</td>\n",
       "    </tr>\n",
       "    <tr>\n",
       "      <th>13</th>\n",
       "      <td>91695</td>\n",
       "      <td>F</td>\n",
       "      <td>2068-08-28</td>\n",
       "      <td>NaT</td>\n",
       "      <td>NaT</td>\n",
       "      <td>NaT</td>\n",
       "    </tr>\n",
       "    <tr>\n",
       "      <th>14</th>\n",
       "      <td>29229</td>\n",
       "      <td>F</td>\n",
       "      <td>2042-04-10</td>\n",
       "      <td>NaT</td>\n",
       "      <td>NaT</td>\n",
       "      <td>NaT</td>\n",
       "    </tr>\n",
       "    <tr>\n",
       "      <th>15</th>\n",
       "      <td>46597</td>\n",
       "      <td>M</td>\n",
       "      <td>2031-09-12</td>\n",
       "      <td>NaT</td>\n",
       "      <td>NaT</td>\n",
       "      <td>NaT</td>\n",
       "    </tr>\n",
       "    <tr>\n",
       "      <th>16</th>\n",
       "      <td>41201</td>\n",
       "      <td>F</td>\n",
       "      <td>2079-09-05</td>\n",
       "      <td>NaT</td>\n",
       "      <td>NaT</td>\n",
       "      <td>NaT</td>\n",
       "    </tr>\n",
       "    <tr>\n",
       "      <th>17</th>\n",
       "      <td>75677</td>\n",
       "      <td>M</td>\n",
       "      <td>2094-02-18</td>\n",
       "      <td>NaT</td>\n",
       "      <td>NaT</td>\n",
       "      <td>NaT</td>\n",
       "    </tr>\n",
       "    <tr>\n",
       "      <th>18</th>\n",
       "      <td>46112</td>\n",
       "      <td>M</td>\n",
       "      <td>2045-02-13</td>\n",
       "      <td>NaT</td>\n",
       "      <td>NaT</td>\n",
       "      <td>NaT</td>\n",
       "    </tr>\n",
       "    <tr>\n",
       "      <th>19</th>\n",
       "      <td>92319</td>\n",
       "      <td>M</td>\n",
       "      <td>2121-08-31</td>\n",
       "      <td>NaT</td>\n",
       "      <td>NaT</td>\n",
       "      <td>NaT</td>\n",
       "    </tr>\n",
       "    <tr>\n",
       "      <th>20</th>\n",
       "      <td>15215</td>\n",
       "      <td>F</td>\n",
       "      <td>2056-03-19</td>\n",
       "      <td>2196-03-23</td>\n",
       "      <td>NaT</td>\n",
       "      <td>2196-03-23</td>\n",
       "    </tr>\n",
       "    <tr>\n",
       "      <th>21</th>\n",
       "      <td>42084</td>\n",
       "      <td>F</td>\n",
       "      <td>2070-02-16</td>\n",
       "      <td>NaT</td>\n",
       "      <td>NaT</td>\n",
       "      <td>NaT</td>\n",
       "    </tr>\n",
       "    <tr>\n",
       "      <th>22</th>\n",
       "      <td>66496</td>\n",
       "      <td>F</td>\n",
       "      <td>2122-08-19</td>\n",
       "      <td>NaT</td>\n",
       "      <td>NaT</td>\n",
       "      <td>NaT</td>\n",
       "    </tr>\n",
       "    <tr>\n",
       "      <th>23</th>\n",
       "      <td>32672</td>\n",
       "      <td>M</td>\n",
       "      <td>2116-06-24</td>\n",
       "      <td>NaT</td>\n",
       "      <td>NaT</td>\n",
       "      <td>NaT</td>\n",
       "    </tr>\n",
       "    <tr>\n",
       "      <th>24</th>\n",
       "      <td>70104</td>\n",
       "      <td>F</td>\n",
       "      <td>2105-01-16</td>\n",
       "      <td>NaT</td>\n",
       "      <td>NaT</td>\n",
       "      <td>NaT</td>\n",
       "    </tr>\n",
       "    <tr>\n",
       "      <th>25</th>\n",
       "      <td>72092</td>\n",
       "      <td>M</td>\n",
       "      <td>2053-03-02</td>\n",
       "      <td>NaT</td>\n",
       "      <td>NaT</td>\n",
       "      <td>NaT</td>\n",
       "    </tr>\n",
       "    <tr>\n",
       "      <th>26</th>\n",
       "      <td>55804</td>\n",
       "      <td>M</td>\n",
       "      <td>2045-02-20</td>\n",
       "      <td>2116-03-28</td>\n",
       "      <td>NaT</td>\n",
       "      <td>2116-03-28</td>\n",
       "    </tr>\n",
       "    <tr>\n",
       "      <th>27</th>\n",
       "      <td>18173</td>\n",
       "      <td>M</td>\n",
       "      <td>2098-05-02</td>\n",
       "      <td>2222-11-18</td>\n",
       "      <td>2222-11-18</td>\n",
       "      <td>NaT</td>\n",
       "    </tr>\n",
       "    <tr>\n",
       "      <th>28</th>\n",
       "      <td>78770</td>\n",
       "      <td>F</td>\n",
       "      <td>2040-01-31</td>\n",
       "      <td>NaT</td>\n",
       "      <td>NaT</td>\n",
       "      <td>NaT</td>\n",
       "    </tr>\n",
       "    <tr>\n",
       "      <th>29</th>\n",
       "      <td>22838</td>\n",
       "      <td>F</td>\n",
       "      <td>2187-01-01</td>\n",
       "      <td>NaT</td>\n",
       "      <td>NaT</td>\n",
       "      <td>NaT</td>\n",
       "    </tr>\n",
       "  </tbody>\n",
       "</table>\n",
       "</div>"
      ],
      "text/plain": [
       "    subject_id gender        dob        dod   dod_hosp    dod_ssn\n",
       "0        26284      F 2072-09-28        NaT        NaT        NaT\n",
       "1        34981      F 2099-12-23        NaT        NaT        NaT\n",
       "2        29076      F 2096-01-16        NaT        NaT        NaT\n",
       "3        27157      M 2094-05-20 2184-12-27 2184-12-27        NaT\n",
       "4        59536      M 2065-01-16 2162-04-02 2162-04-02        NaT\n",
       "5        47957      M 2055-02-03        NaT        NaT        NaT\n",
       "6        69407      F 2117-03-08        NaT        NaT        NaT\n",
       "7        99503      M 2048-06-20        NaT        NaT        NaT\n",
       "8        12732      M 2101-01-14        NaT        NaT        NaT\n",
       "9        21093      M 2032-02-25        NaT        NaT        NaT\n",
       "10       33897      M 2004-03-23        NaT        NaT        NaT\n",
       "11       31140      M 2019-07-27        NaT        NaT        NaT\n",
       "12       29059      M 2118-11-13        NaT        NaT        NaT\n",
       "13       91695      F 2068-08-28        NaT        NaT        NaT\n",
       "14       29229      F 2042-04-10        NaT        NaT        NaT\n",
       "15       46597      M 2031-09-12        NaT        NaT        NaT\n",
       "16       41201      F 2079-09-05        NaT        NaT        NaT\n",
       "17       75677      M 2094-02-18        NaT        NaT        NaT\n",
       "18       46112      M 2045-02-13        NaT        NaT        NaT\n",
       "19       92319      M 2121-08-31        NaT        NaT        NaT\n",
       "20       15215      F 2056-03-19 2196-03-23        NaT 2196-03-23\n",
       "21       42084      F 2070-02-16        NaT        NaT        NaT\n",
       "22       66496      F 2122-08-19        NaT        NaT        NaT\n",
       "23       32672      M 2116-06-24        NaT        NaT        NaT\n",
       "24       70104      F 2105-01-16        NaT        NaT        NaT\n",
       "25       72092      M 2053-03-02        NaT        NaT        NaT\n",
       "26       55804      M 2045-02-20 2116-03-28        NaT 2116-03-28\n",
       "27       18173      M 2098-05-02 2222-11-18 2222-11-18        NaT\n",
       "28       78770      F 2040-01-31        NaT        NaT        NaT\n",
       "29       22838      F 2187-01-01        NaT        NaT        NaT"
      ]
     },
     "execution_count": 98,
     "metadata": {},
     "output_type": "execute_result"
    }
   ],
   "source": [
    "sample.head(30)"
   ]
  },
  {
   "cell_type": "markdown",
   "metadata": {},
   "source": [
    "---"
   ]
  },
  {
   "cell_type": "markdown",
   "metadata": {},
   "source": [
    "## Evaluate data"
   ]
  },
  {
   "cell_type": "code",
   "execution_count": 99,
   "metadata": {},
   "outputs": [],
   "source": [
    "from sdv.evaluation import evaluate"
   ]
  },
  {
   "cell_type": "code",
   "execution_count": 100,
   "metadata": {},
   "outputs": [
    {
     "data": {
      "text/plain": [
       "nan"
      ]
     },
     "execution_count": 100,
     "metadata": {},
     "output_type": "execute_result"
    }
   ],
   "source": [
    "evaluate(sample, train_data, metrics=['ContinuousKLDivergence'])"
   ]
  },
  {
   "cell_type": "code",
   "execution_count": 101,
   "metadata": {},
   "outputs": [
    {
     "data": {
      "text/plain": [
       "nan"
      ]
     },
     "execution_count": 101,
     "metadata": {},
     "output_type": "execute_result"
    }
   ],
   "source": [
    "evaluate(sample, train_data, metrics=['DiscreteKLDivergence'])"
   ]
  },
  {
   "cell_type": "markdown",
   "metadata": {},
   "source": [
    "---\n",
    "\n",
    "### Evaluate timeseries data (not accurate in tis table)"
   ]
  },
  {
   "cell_type": "code",
   "execution_count": 102,
   "metadata": {},
   "outputs": [],
   "source": [
    "from sdv.metrics.timeseries import LSTMDetection, TSFCDetection"
   ]
  },
  {
   "cell_type": "code",
   "execution_count": 103,
   "metadata": {},
   "outputs": [],
   "source": [
    "metadata_2 = model.get_metadata().to_dict()"
   ]
  },
  {
   "cell_type": "code",
   "execution_count": 104,
   "metadata": {},
   "outputs": [],
   "source": [
    "metadata_2['entity_columns']=['subject_id']"
   ]
  },
  {
   "cell_type": "code",
   "execution_count": 105,
   "metadata": {},
   "outputs": [
    {
     "data": {
      "text/plain": [
       "{'fields': {'subject_id': {'type': 'numerical',\n",
       "   'subtype': 'integer',\n",
       "   'transformer': 'integer'},\n",
       "  'gender': {'type': 'categorical', 'transformer': None},\n",
       "  'dob': {'type': 'datetime', 'transformer': 'datetime'},\n",
       "  'dod': {'type': 'datetime', 'transformer': 'datetime'},\n",
       "  'dod_hosp': {'type': 'datetime', 'transformer': 'datetime'},\n",
       "  'dod_ssn': {'type': 'datetime', 'transformer': 'datetime'}},\n",
       " 'constraints': [{'constraint': 'sdv.constraints.tabular.CustomConstraint',\n",
       "   'column_names': ['dod_hosp', 'dod_ssn']},\n",
       "  {'constraint': 'sdv.constraints.tabular.CustomConstraint',\n",
       "   'column_names': ['dob']},\n",
       "  {'constraint': 'sdv.constraints.tabular.ScalarInequality',\n",
       "   'column_name': 'dob',\n",
       "   'relation': '<=',\n",
       "   'value': '2200-01-01'},\n",
       "  {'constraint': 'sdv.constraints.tabular.ScalarInequality',\n",
       "   'column_name': 'dob',\n",
       "   'relation': '>=',\n",
       "   'value': '2000-01-01'},\n",
       "  {'constraint': 'sdv.constraints.tabular.Inequality',\n",
       "   'low_column_name': 'dob',\n",
       "   'high_column_name': 'dod'}],\n",
       " 'model_kwargs': {},\n",
       " 'name': None,\n",
       " 'primary_key': None,\n",
       " 'sequence_index': None,\n",
       " 'entity_columns': ['subject_id'],\n",
       " 'context_columns': []}"
      ]
     },
     "execution_count": 105,
     "metadata": {},
     "output_type": "execute_result"
    }
   ],
   "source": [
    "metadata_2"
   ]
  },
  {
   "cell_type": "code",
   "execution_count": 106,
   "metadata": {},
   "outputs": [
    {
     "data": {
      "text/plain": [
       "0.44680851063829785"
      ]
     },
     "execution_count": 106,
     "metadata": {},
     "output_type": "execute_result"
    }
   ],
   "source": [
    "LSTMDetection.compute(sample, train_data, metadata_2)"
   ]
  }
 ],
 "metadata": {
  "kernelspec": {
   "display_name": "Python 3.8.13 ('msc_project')",
   "language": "python",
   "name": "python3"
  },
  "language_info": {
   "codemirror_mode": {
    "name": "ipython",
    "version": 3
   },
   "file_extension": ".py",
   "mimetype": "text/x-python",
   "name": "python",
   "nbconvert_exporter": "python",
   "pygments_lexer": "ipython3",
   "version": "3.8.13"
  },
  "orig_nbformat": 4,
  "vscode": {
   "interpreter": {
    "hash": "e56015fb566b08f7af163d42c82cf08fa5d6db3fbaaffa0afaaff5a893fc0496"
   }
  }
 },
 "nbformat": 4,
 "nbformat_minor": 2
}
