{
 "cells": [
  {
   "cell_type": "code",
   "execution_count": 1,
   "metadata": {},
   "outputs": [],
   "source": [
    "# from google.colab import drive\n",
    "# drive.mount('/content/drive')"
   ]
  },
  {
   "cell_type": "code",
   "execution_count": 2,
   "metadata": {},
   "outputs": [],
   "source": [
    "# ! pip install pgmpy"
   ]
  },
  {
   "cell_type": "code",
   "execution_count": 3,
   "metadata": {},
   "outputs": [],
   "source": [
    "# Ignore warnings\n",
    "import warnings\n",
    "warnings.filterwarnings(\"ignore\")"
   ]
  },
  {
   "cell_type": "code",
   "execution_count": 4,
   "metadata": {},
   "outputs": [],
   "source": [
    "import pandas as pd\n",
    "import numpy as np\n",
    "\n",
    "import common"
   ]
  },
  {
   "cell_type": "code",
   "execution_count": 5,
   "metadata": {},
   "outputs": [],
   "source": [
    "date_set_path = \"../temp_sets_100/\""
   ]
  },
  {
   "cell_type": "markdown",
   "metadata": {},
   "source": [
    "### Read samples"
   ]
  },
  {
   "cell_type": "code",
   "execution_count": 6,
   "metadata": {},
   "outputs": [],
   "source": [
    "patients_df = common.read_csv_no_rowid(date_set_path+\"patients.csv\")"
   ]
  },
  {
   "cell_type": "markdown",
   "metadata": {},
   "source": [
    "## Patients  Preprocess data"
   ]
  },
  {
   "cell_type": "markdown",
   "metadata": {},
   "source": [
    "### Drop useless colums"
   ]
  },
  {
   "cell_type": "code",
   "execution_count": 7,
   "metadata": {},
   "outputs": [],
   "source": [
    "# Drop useless colums\n",
    "patients_df.drop(['expire_flag'], axis=1, inplace=True)"
   ]
  },
  {
   "cell_type": "markdown",
   "metadata": {},
   "source": [
    "### Deal with null values"
   ]
  },
  {
   "cell_type": "code",
   "execution_count": 8,
   "metadata": {},
   "outputs": [
    {
     "name": "stdout",
     "output_type": "stream",
     "text": [
      "Total columns: 6\n",
      "Total rows: 100\n",
      "--------------\n",
      "subject_id     0\n",
      "gender         0\n",
      "dob            0\n",
      "dod           59\n",
      "dod_hosp      78\n",
      "dod_ssn       63\n",
      "dtype: int64\n"
     ]
    }
   ],
   "source": [
    "# Check null value in table\n",
    "common.nan_count(patients_df)"
   ]
  },
  {
   "cell_type": "code",
   "execution_count": 9,
   "metadata": {},
   "outputs": [],
   "source": [
    "# Set a value replacing the null time value\n",
    "nan_datetime=pd.to_datetime(0)"
   ]
  },
  {
   "cell_type": "code",
   "execution_count": 10,
   "metadata": {},
   "outputs": [],
   "source": [
    "patients_df['dob'].fillna(value=nan_datetime, inplace=True)\n",
    "# patients_df['dod_hosp'].fillna(value=nan_datetime, inplace=True)\n",
    "# patients_df['dod_ssn'].fillna(value=nan_datetime, inplace=True)"
   ]
  },
  {
   "cell_type": "code",
   "execution_count": 11,
   "metadata": {},
   "outputs": [
    {
     "name": "stdout",
     "output_type": "stream",
     "text": [
      "Total columns: 6\n",
      "Total rows: 100\n",
      "--------------\n",
      "subject_id     0\n",
      "gender         0\n",
      "dob            0\n",
      "dod           59\n",
      "dod_hosp      78\n",
      "dod_ssn       63\n",
      "dtype: int64\n"
     ]
    }
   ],
   "source": [
    "common.nan_count(patients_df)"
   ]
  },
  {
   "cell_type": "markdown",
   "metadata": {},
   "source": [
    "### Set the column types"
   ]
  },
  {
   "cell_type": "code",
   "execution_count": 12,
   "metadata": {},
   "outputs": [
    {
     "data": {
      "text/plain": [
       "subject_id     int64\n",
       "gender        object\n",
       "dob           object\n",
       "dod           object\n",
       "dod_hosp      object\n",
       "dod_ssn       object\n",
       "dtype: object"
      ]
     },
     "execution_count": 12,
     "metadata": {},
     "output_type": "execute_result"
    }
   ],
   "source": [
    "patients_df.dtypes"
   ]
  },
  {
   "cell_type": "code",
   "execution_count": 13,
   "metadata": {},
   "outputs": [],
   "source": [
    "# Transfer some date type\n",
    "\n",
    "patients_df['dob'] = pd.to_datetime(patients_df['dob'])\n",
    "patients_df['dod'] = pd.to_datetime(patients_df['dod'])\n",
    "patients_df['dod_hosp'] = pd.to_datetime(patients_df['dod_hosp'])\n",
    "patients_df['dod_ssn'] = pd.to_datetime(patients_df['dod_ssn'])"
   ]
  },
  {
   "cell_type": "code",
   "execution_count": 14,
   "metadata": {},
   "outputs": [
    {
     "data": {
      "text/plain": [
       "subject_id             int64\n",
       "gender                object\n",
       "dob           datetime64[ns]\n",
       "dod           datetime64[ns]\n",
       "dod_hosp      datetime64[ns]\n",
       "dod_ssn       datetime64[ns]\n",
       "dtype: object"
      ]
     },
     "execution_count": 14,
     "metadata": {},
     "output_type": "execute_result"
    }
   ],
   "source": [
    "patients_df.dtypes"
   ]
  },
  {
   "cell_type": "markdown",
   "metadata": {},
   "source": [
    "### Process dod_hosp and dod_ssn"
   ]
  },
  {
   "cell_type": "code",
   "execution_count": 15,
   "metadata": {},
   "outputs": [],
   "source": [
    "from pandas import NaT\n",
    "\n",
    "# Define a method to deal with death time\n",
    "def dod_process(df):\n",
    "    '''\n",
    "    Note that DOD merged together DOD_HOSP and DOD_SSN, giving priority to DOD_HOSP if both were recorded\n",
    "    '''\n",
    "    \n",
    "    if not (pd.isna(df['dod_hosp']) or pd.isna(df['dod_ssn'])):\n",
    "        return NaT\n",
    "    else:\n",
    "        return df['dod_ssn']"
   ]
  },
  {
   "cell_type": "code",
   "execution_count": 16,
   "metadata": {},
   "outputs": [],
   "source": [
    "patients_df['dod_ssn'] = patients_df.apply(dod_process, axis=1)"
   ]
  },
  {
   "cell_type": "code",
   "execution_count": 17,
   "metadata": {},
   "outputs": [
    {
     "data": {
      "text/html": [
       "<div>\n",
       "<style scoped>\n",
       "    .dataframe tbody tr th:only-of-type {\n",
       "        vertical-align: middle;\n",
       "    }\n",
       "\n",
       "    .dataframe tbody tr th {\n",
       "        vertical-align: top;\n",
       "    }\n",
       "\n",
       "    .dataframe thead th {\n",
       "        text-align: right;\n",
       "    }\n",
       "</style>\n",
       "<table border=\"1\" class=\"dataframe\">\n",
       "  <thead>\n",
       "    <tr style=\"text-align: right;\">\n",
       "      <th></th>\n",
       "      <th>subject_id</th>\n",
       "      <th>gender</th>\n",
       "      <th>dob</th>\n",
       "      <th>dod</th>\n",
       "      <th>dod_hosp</th>\n",
       "      <th>dod_ssn</th>\n",
       "    </tr>\n",
       "  </thead>\n",
       "  <tbody>\n",
       "    <tr>\n",
       "      <th>0</th>\n",
       "      <td>569</td>\n",
       "      <td>M</td>\n",
       "      <td>2021-11-04</td>\n",
       "      <td>2107-11-30</td>\n",
       "      <td>NaT</td>\n",
       "      <td>2107-11-30</td>\n",
       "    </tr>\n",
       "    <tr>\n",
       "      <th>1</th>\n",
       "      <td>26282</td>\n",
       "      <td>F</td>\n",
       "      <td>2074-03-20</td>\n",
       "      <td>NaT</td>\n",
       "      <td>NaT</td>\n",
       "      <td>NaT</td>\n",
       "    </tr>\n",
       "    <tr>\n",
       "      <th>2</th>\n",
       "      <td>1762</td>\n",
       "      <td>F</td>\n",
       "      <td>2120-03-19</td>\n",
       "      <td>NaT</td>\n",
       "      <td>NaT</td>\n",
       "      <td>NaT</td>\n",
       "    </tr>\n",
       "    <tr>\n",
       "      <th>3</th>\n",
       "      <td>14481</td>\n",
       "      <td>M</td>\n",
       "      <td>1816-05-08</td>\n",
       "      <td>2121-02-14</td>\n",
       "      <td>NaT</td>\n",
       "      <td>2121-02-14</td>\n",
       "    </tr>\n",
       "    <tr>\n",
       "      <th>4</th>\n",
       "      <td>21470</td>\n",
       "      <td>M</td>\n",
       "      <td>2195-05-20</td>\n",
       "      <td>NaT</td>\n",
       "      <td>NaT</td>\n",
       "      <td>NaT</td>\n",
       "    </tr>\n",
       "    <tr>\n",
       "      <th>...</th>\n",
       "      <td>...</td>\n",
       "      <td>...</td>\n",
       "      <td>...</td>\n",
       "      <td>...</td>\n",
       "      <td>...</td>\n",
       "      <td>...</td>\n",
       "    </tr>\n",
       "    <tr>\n",
       "      <th>95</th>\n",
       "      <td>23647</td>\n",
       "      <td>M</td>\n",
       "      <td>2077-02-13</td>\n",
       "      <td>NaT</td>\n",
       "      <td>NaT</td>\n",
       "      <td>NaT</td>\n",
       "    </tr>\n",
       "    <tr>\n",
       "      <th>96</th>\n",
       "      <td>26485</td>\n",
       "      <td>F</td>\n",
       "      <td>2075-08-15</td>\n",
       "      <td>2164-05-08</td>\n",
       "      <td>2164-05-08</td>\n",
       "      <td>NaT</td>\n",
       "    </tr>\n",
       "    <tr>\n",
       "      <th>97</th>\n",
       "      <td>26884</td>\n",
       "      <td>F</td>\n",
       "      <td>2067-01-31</td>\n",
       "      <td>2153-06-23</td>\n",
       "      <td>NaT</td>\n",
       "      <td>2153-06-23</td>\n",
       "    </tr>\n",
       "    <tr>\n",
       "      <th>98</th>\n",
       "      <td>49024</td>\n",
       "      <td>M</td>\n",
       "      <td>2055-02-17</td>\n",
       "      <td>2137-01-12</td>\n",
       "      <td>NaT</td>\n",
       "      <td>2137-01-12</td>\n",
       "    </tr>\n",
       "    <tr>\n",
       "      <th>99</th>\n",
       "      <td>15440</td>\n",
       "      <td>M</td>\n",
       "      <td>2034-08-16</td>\n",
       "      <td>NaT</td>\n",
       "      <td>NaT</td>\n",
       "      <td>NaT</td>\n",
       "    </tr>\n",
       "  </tbody>\n",
       "</table>\n",
       "<p>100 rows × 6 columns</p>\n",
       "</div>"
      ],
      "text/plain": [
       "    subject_id gender        dob        dod   dod_hosp    dod_ssn\n",
       "0          569      M 2021-11-04 2107-11-30        NaT 2107-11-30\n",
       "1        26282      F 2074-03-20        NaT        NaT        NaT\n",
       "2         1762      F 2120-03-19        NaT        NaT        NaT\n",
       "3        14481      M 1816-05-08 2121-02-14        NaT 2121-02-14\n",
       "4        21470      M 2195-05-20        NaT        NaT        NaT\n",
       "..         ...    ...        ...        ...        ...        ...\n",
       "95       23647      M 2077-02-13        NaT        NaT        NaT\n",
       "96       26485      F 2075-08-15 2164-05-08 2164-05-08        NaT\n",
       "97       26884      F 2067-01-31 2153-06-23        NaT 2153-06-23\n",
       "98       49024      M 2055-02-17 2137-01-12        NaT 2137-01-12\n",
       "99       15440      M 2034-08-16        NaT        NaT        NaT\n",
       "\n",
       "[100 rows x 6 columns]"
      ]
     },
     "execution_count": 17,
     "metadata": {},
     "output_type": "execute_result"
    }
   ],
   "source": [
    "patients_df"
   ]
  },
  {
   "cell_type": "code",
   "execution_count": 18,
   "metadata": {},
   "outputs": [],
   "source": [
    "# from pandas import NaT\n",
    "\n",
    "# patients_df['dod_hosp'] = patients_df['dod_hosp'].apply(lambda x: 1 if not pd.isna(x) else 0)\n",
    "# patients_df['dod_ssn'] = patients_df['dod_ssn'].apply(lambda x: 1 if not pd.isna(x) else 0)\n",
    "# patients_df['dod_live'] = patients_df['dod_live'].apply(lambda x: 1 if not pd.isna(x) else 0)"
   ]
  },
  {
   "cell_type": "markdown",
   "metadata": {},
   "source": [
    "---"
   ]
  },
  {
   "cell_type": "markdown",
   "metadata": {},
   "source": [
    "##  Build Network"
   ]
  },
  {
   "cell_type": "code",
   "execution_count": 19,
   "metadata": {},
   "outputs": [],
   "source": [
    "from sdv.tabular import CTGAN\n",
    "from sdv.constraints import FixedCombinations"
   ]
  },
  {
   "cell_type": "code",
   "execution_count": 20,
   "metadata": {},
   "outputs": [
    {
     "data": {
      "text/plain": [
       "Index(['subject_id', 'gender', 'dob', 'dod', 'dod_hosp', 'dod_ssn'], dtype='object')"
      ]
     },
     "execution_count": 20,
     "metadata": {},
     "output_type": "execute_result"
    }
   ],
   "source": [
    "patients_df.columns"
   ]
  },
  {
   "cell_type": "markdown",
   "metadata": {},
   "source": [
    "### Set constraint"
   ]
  },
  {
   "cell_type": "code",
   "execution_count": 21,
   "metadata": {},
   "outputs": [],
   "source": [
    "# Fixed constraints\n",
    "# fixed_subject_hadm_icustay_constraint = FixedCombinations(\n",
    "#     column_names=['subject_id', 'hadm_id']\n",
    "# )"
   ]
  },
  {
   "cell_type": "code",
   "execution_count": 22,
   "metadata": {},
   "outputs": [],
   "source": [
    "# dod_hosp_dod_ssn_constraint = OneHotEncoding(\n",
    "#     column_names=['dod_hosp', 'dod_ssn', 'dod_live']\n",
    "# )"
   ]
  },
  {
   "cell_type": "code",
   "execution_count": 23,
   "metadata": {},
   "outputs": [],
   "source": [
    "# patients_constraints = [dod_hosp_dod_ssn_constraint]"
   ]
  },
  {
   "cell_type": "code",
   "execution_count": 24,
   "metadata": {},
   "outputs": [],
   "source": [
    "# Custom constrains\n",
    "def dod_data_unique_is_valid(column_names, data):\n",
    "    one = (pd.isna(data['dod']) == False) & (pd.isna(data[column_names[0]]) == False) & (pd.isna(data[column_names[1]]) == True) #& (data['dod'] == data[column_names[0]])\n",
    "    two = (pd.isna(data['dod']) == False) & (pd.isna(data[column_names[0]]) == True) & (pd.isna(data[column_names[1]]) == False) #& (data['dod'] == data[column_names[1]])\n",
    "    three = (pd.isna(data['dod']) == True) & (pd.isna(data[column_names[0]]) == True) & (pd.isna(data[column_names[1]]) == True)\n",
    "    is_only = one | two | three\n",
    "    return is_only\n",
    "\n",
    "def dod_data_unique_trasform(column_names, data):\n",
    "    # print(data.loc[:, ['dod', 'dod_hosp', 'dod_ssn']])\n",
    "    return data\n",
    "\n",
    "def dod_data_unique_reverse_transform(column_names, transformed_data):\n",
    "    # print(transformed_data.loc[:, ['dod', 'dod_hosp', 'dod_ssn']])\n",
    "\n",
    "    one = (pd.isna(transformed_data['dod']) == False) & (pd.isna(transformed_data[column_names[0]]) == False) & (pd.isna(transformed_data[column_names[1]]) == True)\n",
    "    two = (pd.isna(transformed_data['dod']) == False) & (pd.isna(transformed_data[column_names[0]]) == True) & (pd.isna(transformed_data[column_names[1]]) == False)\n",
    "\n",
    "    transformed_data[column_names[0]] = transformed_data[one]['dod']\n",
    "    transformed_data[column_names[1]] = transformed_data[two]['dod']\n",
    "\n",
    "    return transformed_data"
   ]
  },
  {
   "cell_type": "code",
   "execution_count": 25,
   "metadata": {},
   "outputs": [],
   "source": [
    "# Build custom constrains\n",
    "from sdv.constraints import create_custom_constraint\n",
    "\n",
    "DodUniqueProcess = create_custom_constraint(\n",
    "    is_valid_fn=dod_data_unique_is_valid,\n",
    "    transform_fn=dod_data_unique_trasform,\n",
    "    reverse_transform_fn=dod_data_unique_reverse_transform\n",
    ")"
   ]
  },
  {
   "cell_type": "code",
   "execution_count": 26,
   "metadata": {},
   "outputs": [],
   "source": [
    "dod_data_unique_constraint = DodUniqueProcess(\n",
    "    column_names=['dod_hosp', 'dod_ssn']\n",
    ")"
   ]
  },
  {
   "cell_type": "code",
   "execution_count": 27,
   "metadata": {},
   "outputs": [],
   "source": [
    "constrains = [dod_data_unique_constraint]"
   ]
  },
  {
   "cell_type": "markdown",
   "metadata": {},
   "source": [
    "### Build and train model"
   ]
  },
  {
   "cell_type": "code",
   "execution_count": 28,
   "metadata": {},
   "outputs": [],
   "source": [
    "model = CTGAN(\n",
    "    constraints=constrains, \n",
    "    batch_size=10000,\n",
    "    cuda=True, \n",
    "    verbose=True, \n",
    "    epochs=60)"
   ]
  },
  {
   "cell_type": "code",
   "execution_count": 29,
   "metadata": {},
   "outputs": [
    {
     "data": {
      "text/plain": [
       "100"
      ]
     },
     "execution_count": 29,
     "metadata": {},
     "output_type": "execute_result"
    }
   ],
   "source": [
    "len(patients_df)"
   ]
  },
  {
   "cell_type": "code",
   "execution_count": 30,
   "metadata": {},
   "outputs": [
    {
     "name": "stdout",
     "output_type": "stream",
     "text": [
      "Epoch 1, Loss G:  0.7192,Loss D:  0.0055\n",
      "Epoch 2, Loss G:  0.6978,Loss D: -0.0052\n",
      "Epoch 3, Loss G:  0.6873,Loss D: -0.0120\n",
      "Epoch 4, Loss G:  0.6749,Loss D: -0.0226\n",
      "Epoch 5, Loss G:  0.6467,Loss D: -0.0295\n",
      "Epoch 6, Loss G:  0.6278,Loss D: -0.0409\n",
      "Epoch 7, Loss G:  0.6059,Loss D: -0.0311\n",
      "Epoch 8, Loss G:  0.5909,Loss D: -0.0440\n",
      "Epoch 9, Loss G:  0.5697,Loss D: -0.0551\n",
      "Epoch 10, Loss G:  0.5446,Loss D: -0.0516\n",
      "Epoch 11, Loss G:  0.5249,Loss D: -0.0372\n",
      "Epoch 12, Loss G:  0.4812,Loss D: -0.0514\n",
      "Epoch 13, Loss G:  0.4619,Loss D: -0.0400\n",
      "Epoch 14, Loss G:  0.4076,Loss D: -0.0418\n",
      "Epoch 15, Loss G:  0.3704,Loss D: -0.0199\n",
      "Epoch 16, Loss G:  0.3359,Loss D: -0.0241\n",
      "Epoch 17, Loss G:  0.3017,Loss D: -0.0094\n",
      "Epoch 18, Loss G:  0.2630,Loss D: -0.0239\n",
      "Epoch 19, Loss G:  0.2329,Loss D: -0.0115\n",
      "Epoch 20, Loss G:  0.1899,Loss D:  0.0059\n",
      "Epoch 21, Loss G:  0.1501,Loss D: -0.0047\n",
      "Epoch 22, Loss G:  0.1591,Loss D:  0.0194\n",
      "Epoch 23, Loss G:  0.1183,Loss D:  0.0047\n",
      "Epoch 24, Loss G:  0.0762,Loss D:  0.0128\n",
      "Epoch 25, Loss G:  0.0891,Loss D: -0.0094\n",
      "Epoch 26, Loss G:  0.1049,Loss D: -0.0149\n",
      "Epoch 27, Loss G:  0.1171,Loss D: -0.0272\n",
      "Epoch 28, Loss G:  0.1035,Loss D: -0.0526\n",
      "Epoch 29, Loss G:  0.1364,Loss D: -0.0564\n",
      "Epoch 30, Loss G:  0.1511,Loss D: -0.0781\n",
      "Epoch 31, Loss G:  0.1653,Loss D: -0.1010\n",
      "Epoch 32, Loss G:  0.1583,Loss D: -0.1078\n",
      "Epoch 33, Loss G:  0.1794,Loss D: -0.1028\n",
      "Epoch 34, Loss G:  0.1803,Loss D: -0.0735\n",
      "Epoch 35, Loss G:  0.1882,Loss D: -0.0701\n",
      "Epoch 36, Loss G:  0.2043,Loss D: -0.0892\n",
      "Epoch 37, Loss G:  0.1705,Loss D: -0.0724\n",
      "Epoch 38, Loss G:  0.1421,Loss D: -0.0274\n",
      "Epoch 39, Loss G:  0.1441,Loss D: -0.0288\n",
      "Epoch 40, Loss G:  0.1564,Loss D: -0.0006\n",
      "Epoch 41, Loss G:  0.1641,Loss D: -0.0076\n",
      "Epoch 42, Loss G:  0.1463,Loss D: -0.0254\n",
      "Epoch 43, Loss G:  0.1689,Loss D: -0.0132\n",
      "Epoch 44, Loss G:  0.1664,Loss D:  0.0073\n",
      "Epoch 45, Loss G:  0.1638,Loss D: -0.0030\n",
      "Epoch 46, Loss G:  0.1568,Loss D: -0.0009\n",
      "Epoch 47, Loss G:  0.1569,Loss D:  0.0134\n",
      "Epoch 48, Loss G:  0.1358,Loss D:  0.0281\n",
      "Epoch 49, Loss G:  0.1222,Loss D:  0.0117\n",
      "Epoch 50, Loss G:  0.1292,Loss D:  0.0398\n",
      "Epoch 51, Loss G:  0.0927,Loss D:  0.0563\n",
      "Epoch 52, Loss G:  0.1002,Loss D:  0.0202\n",
      "Epoch 53, Loss G:  0.0562,Loss D:  0.0065\n",
      "Epoch 54, Loss G:  0.0550,Loss D:  0.0342\n",
      "Epoch 55, Loss G:  0.0507,Loss D:  0.0507\n",
      "Epoch 56, Loss G:  0.0132,Loss D:  0.0336\n",
      "Epoch 57, Loss G: -0.0048,Loss D:  0.0193\n",
      "Epoch 58, Loss G: -0.0174,Loss D:  0.0309\n",
      "Epoch 59, Loss G: -0.0532,Loss D:  0.0255\n",
      "Epoch 60, Loss G: -0.0903,Loss D: -0.0043\n"
     ]
    }
   ],
   "source": [
    "train_data = patients_df\n",
    "model.fit(train_data)"
   ]
  },
  {
   "cell_type": "code",
   "execution_count": 31,
   "metadata": {},
   "outputs": [],
   "source": [
    "import cloudpickle\n",
    "\n",
    "with open(date_set_path + \"100_models/\" + \"patients_model.pkl\", 'wb') as f:\n",
    "    cloudpickle.dump(model, f)"
   ]
  },
  {
   "cell_type": "code",
   "execution_count": 32,
   "metadata": {},
   "outputs": [],
   "source": [
    "# model.save(date_set_path + \"100_models/\" + \"patients_model.pkl\")"
   ]
  },
  {
   "cell_type": "markdown",
   "metadata": {},
   "source": [
    "### Generate synthetic data"
   ]
  },
  {
   "cell_type": "code",
   "execution_count": 33,
   "metadata": {},
   "outputs": [
    {
     "name": "stderr",
     "output_type": "stream",
     "text": [
      "Sampling rows: 100%|██████████| 100/100 [00:00<00:00, 266.66it/s]\n"
     ]
    }
   ],
   "source": [
    "sample = model.sample(num_rows=len(train_data))"
   ]
  },
  {
   "cell_type": "code",
   "execution_count": 34,
   "metadata": {},
   "outputs": [
    {
     "data": {
      "text/html": [
       "<div>\n",
       "<style scoped>\n",
       "    .dataframe tbody tr th:only-of-type {\n",
       "        vertical-align: middle;\n",
       "    }\n",
       "\n",
       "    .dataframe tbody tr th {\n",
       "        vertical-align: top;\n",
       "    }\n",
       "\n",
       "    .dataframe thead th {\n",
       "        text-align: right;\n",
       "    }\n",
       "</style>\n",
       "<table border=\"1\" class=\"dataframe\">\n",
       "  <thead>\n",
       "    <tr style=\"text-align: right;\">\n",
       "      <th></th>\n",
       "      <th>subject_id</th>\n",
       "      <th>gender</th>\n",
       "      <th>dob</th>\n",
       "      <th>dod</th>\n",
       "      <th>dod_hosp</th>\n",
       "      <th>dod_ssn</th>\n",
       "    </tr>\n",
       "  </thead>\n",
       "  <tbody>\n",
       "    <tr>\n",
       "      <th>0</th>\n",
       "      <td>23822</td>\n",
       "      <td>F</td>\n",
       "      <td>2129-09-04</td>\n",
       "      <td>NaT</td>\n",
       "      <td>NaT</td>\n",
       "      <td>NaT</td>\n",
       "    </tr>\n",
       "    <tr>\n",
       "      <th>1</th>\n",
       "      <td>35000</td>\n",
       "      <td>F</td>\n",
       "      <td>1953-01-14</td>\n",
       "      <td>NaT</td>\n",
       "      <td>NaT</td>\n",
       "      <td>NaT</td>\n",
       "    </tr>\n",
       "    <tr>\n",
       "      <th>2</th>\n",
       "      <td>3631</td>\n",
       "      <td>M</td>\n",
       "      <td>2150-05-29</td>\n",
       "      <td>NaT</td>\n",
       "      <td>NaT</td>\n",
       "      <td>NaT</td>\n",
       "    </tr>\n",
       "    <tr>\n",
       "      <th>3</th>\n",
       "      <td>99503</td>\n",
       "      <td>F</td>\n",
       "      <td>2068-07-01</td>\n",
       "      <td>NaT</td>\n",
       "      <td>NaT</td>\n",
       "      <td>NaT</td>\n",
       "    </tr>\n",
       "    <tr>\n",
       "      <th>4</th>\n",
       "      <td>99503</td>\n",
       "      <td>F</td>\n",
       "      <td>2160-02-04</td>\n",
       "      <td>NaT</td>\n",
       "      <td>NaT</td>\n",
       "      <td>NaT</td>\n",
       "    </tr>\n",
       "  </tbody>\n",
       "</table>\n",
       "</div>"
      ],
      "text/plain": [
       "   subject_id gender        dob dod dod_hosp dod_ssn\n",
       "0       23822      F 2129-09-04 NaT      NaT     NaT\n",
       "1       35000      F 1953-01-14 NaT      NaT     NaT\n",
       "2        3631      M 2150-05-29 NaT      NaT     NaT\n",
       "3       99503      F 2068-07-01 NaT      NaT     NaT\n",
       "4       99503      F 2160-02-04 NaT      NaT     NaT"
      ]
     },
     "execution_count": 34,
     "metadata": {},
     "output_type": "execute_result"
    }
   ],
   "source": [
    "sample.head()"
   ]
  },
  {
   "cell_type": "markdown",
   "metadata": {},
   "source": [
    "---"
   ]
  },
  {
   "cell_type": "markdown",
   "metadata": {},
   "source": [
    "## Evaluate data"
   ]
  },
  {
   "cell_type": "code",
   "execution_count": 35,
   "metadata": {},
   "outputs": [],
   "source": [
    "from sdv.evaluation import evaluate"
   ]
  },
  {
   "cell_type": "code",
   "execution_count": 36,
   "metadata": {},
   "outputs": [
    {
     "data": {
      "text/plain": [
       "nan"
      ]
     },
     "execution_count": 36,
     "metadata": {},
     "output_type": "execute_result"
    }
   ],
   "source": [
    "evaluate(sample, train_data, metrics=['ContinuousKLDivergence'])"
   ]
  },
  {
   "cell_type": "code",
   "execution_count": 37,
   "metadata": {},
   "outputs": [
    {
     "data": {
      "text/plain": [
       "nan"
      ]
     },
     "execution_count": 37,
     "metadata": {},
     "output_type": "execute_result"
    }
   ],
   "source": [
    "evaluate(sample, train_data, metrics=['DiscreteKLDivergence'])"
   ]
  },
  {
   "cell_type": "markdown",
   "metadata": {},
   "source": [
    "---\n",
    "\n",
    "### Evaluate timeseries data (not accurate in tis table)"
   ]
  },
  {
   "cell_type": "code",
   "execution_count": 38,
   "metadata": {},
   "outputs": [],
   "source": [
    "from sdv.metrics.timeseries import LSTMDetection, TSFCDetection"
   ]
  },
  {
   "cell_type": "code",
   "execution_count": 39,
   "metadata": {},
   "outputs": [],
   "source": [
    "metadata_2 = model.get_metadata().to_dict()"
   ]
  },
  {
   "cell_type": "code",
   "execution_count": 40,
   "metadata": {},
   "outputs": [],
   "source": [
    "metadata_2['entity_columns']=['subject_id']"
   ]
  },
  {
   "cell_type": "code",
   "execution_count": 41,
   "metadata": {},
   "outputs": [
    {
     "data": {
      "text/plain": [
       "{'fields': {'subject_id': {'type': 'numerical',\n",
       "   'subtype': 'integer',\n",
       "   'transformer': 'integer'},\n",
       "  'gender': {'type': 'categorical', 'transformer': None},\n",
       "  'dob': {'type': 'datetime', 'transformer': 'datetime'},\n",
       "  'dod': {'type': 'datetime', 'transformer': 'datetime'},\n",
       "  'dod_hosp': {'type': 'datetime', 'transformer': 'datetime'},\n",
       "  'dod_ssn': {'type': 'datetime', 'transformer': 'datetime'}},\n",
       " 'constraints': [{'constraint': 'sdv.constraints.tabular.CustomConstraint',\n",
       "   'column_names': ['dod_hosp', 'dod_ssn']}],\n",
       " 'model_kwargs': {},\n",
       " 'name': None,\n",
       " 'primary_key': None,\n",
       " 'sequence_index': None,\n",
       " 'entity_columns': ['subject_id'],\n",
       " 'context_columns': []}"
      ]
     },
     "execution_count": 41,
     "metadata": {},
     "output_type": "execute_result"
    }
   ],
   "source": [
    "metadata_2"
   ]
  },
  {
   "cell_type": "code",
   "execution_count": 42,
   "metadata": {},
   "outputs": [
    {
     "data": {
      "text/plain": [
       "0.4565217391304348"
      ]
     },
     "execution_count": 42,
     "metadata": {},
     "output_type": "execute_result"
    }
   ],
   "source": [
    "LSTMDetection.compute(sample, train_data, metadata_2)"
   ]
  }
 ],
 "metadata": {
  "kernelspec": {
   "display_name": "Python 3.8.13 ('msc_project')",
   "language": "python",
   "name": "python3"
  },
  "language_info": {
   "codemirror_mode": {
    "name": "ipython",
    "version": 3
   },
   "file_extension": ".py",
   "mimetype": "text/x-python",
   "name": "python",
   "nbconvert_exporter": "python",
   "pygments_lexer": "ipython3",
   "version": "3.8.13"
  },
  "orig_nbformat": 4,
  "vscode": {
   "interpreter": {
    "hash": "e56015fb566b08f7af163d42c82cf08fa5d6db3fbaaffa0afaaff5a893fc0496"
   }
  }
 },
 "nbformat": 4,
 "nbformat_minor": 2
}
