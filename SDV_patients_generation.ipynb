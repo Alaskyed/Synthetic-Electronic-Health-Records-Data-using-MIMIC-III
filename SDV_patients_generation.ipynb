{
 "cells": [
  {
   "cell_type": "code",
   "execution_count": 873,
   "metadata": {},
   "outputs": [],
   "source": [
    "# from google.colab import drive\n",
    "# drive.mount('/content/drive')"
   ]
  },
  {
   "cell_type": "code",
   "execution_count": 874,
   "metadata": {},
   "outputs": [],
   "source": [
    "# ! pip install pgmpy"
   ]
  },
  {
   "cell_type": "code",
   "execution_count": 875,
   "metadata": {},
   "outputs": [],
   "source": [
    "# Ignore warnings\n",
    "import warnings\n",
    "warnings.filterwarnings(\"ignore\")"
   ]
  },
  {
   "cell_type": "code",
   "execution_count": 876,
   "metadata": {},
   "outputs": [],
   "source": [
    "import pandas as pd\n",
    "import numpy as np\n",
    "\n",
    "import common"
   ]
  },
  {
   "cell_type": "code",
   "execution_count": 877,
   "metadata": {},
   "outputs": [],
   "source": [
    "data_set_path = \"../temp_sets_100/\""
   ]
  },
  {
   "cell_type": "markdown",
   "metadata": {},
   "source": [
    "# Patients  "
   ]
  },
  {
   "cell_type": "markdown",
   "metadata": {},
   "source": [
    "## Data precess"
   ]
  },
  {
   "cell_type": "markdown",
   "metadata": {},
   "source": [
    "### Read samples"
   ]
  },
  {
   "cell_type": "code",
   "execution_count": 878,
   "metadata": {},
   "outputs": [],
   "source": [
    "patients_df = common.read_csv_no_rowid(data_set_path+\"patients.csv\")"
   ]
  },
  {
   "cell_type": "code",
   "execution_count": 879,
   "metadata": {},
   "outputs": [],
   "source": [
    "admissions_date = common.read_csv_no_rowid(data_set_path+\"admissions.csv\").loc[:, ['subject_id', 'admittime']]\n",
    "patients_mid = pd.merge(left=patients_df, right=admissions_date, how='inner', on=['subject_id'])"
   ]
  },
  {
   "cell_type": "code",
   "execution_count": 880,
   "metadata": {},
   "outputs": [],
   "source": [
    "admissions_date = common.read_csv_no_rowid(data_set_path+\"admissions.csv\").loc[:, ['subject_id', 'admittime']]\n",
    "admissions_date.drop_duplicates(subset=['subject_id'], keep='first', inplace=True)\n",
    "admissions_date['admittime'] = pd.to_datetime(admissions_date['admittime'])"
   ]
  },
  {
   "cell_type": "markdown",
   "metadata": {},
   "source": [
    "### Drop useless colums"
   ]
  },
  {
   "cell_type": "code",
   "execution_count": 881,
   "metadata": {},
   "outputs": [],
   "source": [
    "# Drop useless colums\n",
    "patients_df.drop(['expire_flag', 'dod', 'dod_hosp', 'dod_ssn'], axis=1, inplace=True)"
   ]
  },
  {
   "cell_type": "markdown",
   "metadata": {},
   "source": [
    "### Deal with null values"
   ]
  },
  {
   "cell_type": "code",
   "execution_count": 882,
   "metadata": {},
   "outputs": [
    {
     "name": "stdout",
     "output_type": "stream",
     "text": [
      "Total columns: 3\n",
      "Total rows: 100\n",
      "--------------\n",
      "subject_id    0\n",
      "gender        0\n",
      "dob           0\n",
      "dtype: int64\n"
     ]
    }
   ],
   "source": [
    "# Check null value in table\n",
    "common.nan_count(patients_df)"
   ]
  },
  {
   "cell_type": "code",
   "execution_count": 883,
   "metadata": {},
   "outputs": [],
   "source": [
    "# Set a value replacing the null time value\n",
    "nan_datetime=pd.to_datetime(0)"
   ]
  },
  {
   "cell_type": "code",
   "execution_count": 884,
   "metadata": {},
   "outputs": [],
   "source": [
    "patients_df['dob'].fillna(value=nan_datetime, inplace=True)\n",
    "# patients_df['dod_hosp'].fillna(value=nan_datetime, inplace=True)\n",
    "# patients_df['dod_ssn'].fillna(value=nan_datetime, inplace=True)"
   ]
  },
  {
   "cell_type": "code",
   "execution_count": 885,
   "metadata": {},
   "outputs": [
    {
     "name": "stdout",
     "output_type": "stream",
     "text": [
      "Total columns: 3\n",
      "Total rows: 100\n",
      "--------------\n",
      "subject_id    0\n",
      "gender        0\n",
      "dob           0\n",
      "dtype: int64\n"
     ]
    }
   ],
   "source": [
    "common.nan_count(patients_df)"
   ]
  },
  {
   "cell_type": "markdown",
   "metadata": {},
   "source": [
    "### Set the column types"
   ]
  },
  {
   "cell_type": "code",
   "execution_count": 886,
   "metadata": {},
   "outputs": [
    {
     "data": {
      "text/plain": [
       "subject_id     int64\n",
       "gender        object\n",
       "dob           object\n",
       "dtype: object"
      ]
     },
     "execution_count": 886,
     "metadata": {},
     "output_type": "execute_result"
    }
   ],
   "source": [
    "patients_df.dtypes"
   ]
  },
  {
   "cell_type": "code",
   "execution_count": 887,
   "metadata": {},
   "outputs": [],
   "source": [
    "# Transfer some date type\n",
    "\n",
    "patients_df['dob'] = pd.to_datetime(patients_df['dob'])\n",
    "# patients_df['dob'] = patients_df['dob'].astype(np.int64)\n",
    "# patients_df['dod'] = pd.to_datetime(patients_df['dod'])\n",
    "# patients_df['dod_hosp'] = pd.to_datetime(patients_df['dod_hosp'])\n",
    "# patients_df['dod_ssn'] = pd.to_datetime(patients_df['dod_ssn'])"
   ]
  },
  {
   "cell_type": "code",
   "execution_count": 888,
   "metadata": {},
   "outputs": [
    {
     "data": {
      "text/plain": [
       "subject_id             int64\n",
       "gender                object\n",
       "dob           datetime64[ns]\n",
       "dtype: object"
      ]
     },
     "execution_count": 888,
     "metadata": {},
     "output_type": "execute_result"
    }
   ],
   "source": [
    "patients_df.dtypes"
   ]
  },
  {
   "cell_type": "markdown",
   "metadata": {},
   "source": [
    "### Process dod_hosp and dod_ssn"
   ]
  },
  {
   "cell_type": "code",
   "execution_count": 889,
   "metadata": {},
   "outputs": [],
   "source": [
    "from pandas import NaT\n",
    "\n",
    "# Define a method to deal with death time\n",
    "def dod_process(df):\n",
    "    '''\n",
    "    Note that DOD merged together DOD_HOSP and DOD_SSN, giving priority to DOD_HOSP if both were recorded\n",
    "    '''\n",
    "    \n",
    "    if not (pd.isna(df['dod_hosp']) or pd.isna(df['dod_ssn'])):\n",
    "        return NaT\n",
    "    else:\n",
    "        return df['dod_ssn']"
   ]
  },
  {
   "cell_type": "code",
   "execution_count": 890,
   "metadata": {},
   "outputs": [],
   "source": [
    "# patients_df['dod_ssn'] = patients_df.apply(dod_process, axis=1)"
   ]
  },
  {
   "cell_type": "code",
   "execution_count": 891,
   "metadata": {},
   "outputs": [
    {
     "data": {
      "text/html": [
       "<div>\n",
       "<style scoped>\n",
       "    .dataframe tbody tr th:only-of-type {\n",
       "        vertical-align: middle;\n",
       "    }\n",
       "\n",
       "    .dataframe tbody tr th {\n",
       "        vertical-align: top;\n",
       "    }\n",
       "\n",
       "    .dataframe thead th {\n",
       "        text-align: right;\n",
       "    }\n",
       "</style>\n",
       "<table border=\"1\" class=\"dataframe\">\n",
       "  <thead>\n",
       "    <tr style=\"text-align: right;\">\n",
       "      <th></th>\n",
       "      <th>subject_id</th>\n",
       "      <th>gender</th>\n",
       "      <th>dob</th>\n",
       "    </tr>\n",
       "  </thead>\n",
       "  <tbody>\n",
       "    <tr>\n",
       "      <th>0</th>\n",
       "      <td>569</td>\n",
       "      <td>M</td>\n",
       "      <td>2021-11-04</td>\n",
       "    </tr>\n",
       "    <tr>\n",
       "      <th>1</th>\n",
       "      <td>26282</td>\n",
       "      <td>F</td>\n",
       "      <td>2074-03-20</td>\n",
       "    </tr>\n",
       "    <tr>\n",
       "      <th>2</th>\n",
       "      <td>1762</td>\n",
       "      <td>F</td>\n",
       "      <td>2120-03-19</td>\n",
       "    </tr>\n",
       "    <tr>\n",
       "      <th>3</th>\n",
       "      <td>14481</td>\n",
       "      <td>M</td>\n",
       "      <td>1816-05-08</td>\n",
       "    </tr>\n",
       "    <tr>\n",
       "      <th>4</th>\n",
       "      <td>21470</td>\n",
       "      <td>M</td>\n",
       "      <td>2195-05-20</td>\n",
       "    </tr>\n",
       "    <tr>\n",
       "      <th>...</th>\n",
       "      <td>...</td>\n",
       "      <td>...</td>\n",
       "      <td>...</td>\n",
       "    </tr>\n",
       "    <tr>\n",
       "      <th>95</th>\n",
       "      <td>23647</td>\n",
       "      <td>M</td>\n",
       "      <td>2077-02-13</td>\n",
       "    </tr>\n",
       "    <tr>\n",
       "      <th>96</th>\n",
       "      <td>26485</td>\n",
       "      <td>F</td>\n",
       "      <td>2075-08-15</td>\n",
       "    </tr>\n",
       "    <tr>\n",
       "      <th>97</th>\n",
       "      <td>26884</td>\n",
       "      <td>F</td>\n",
       "      <td>2067-01-31</td>\n",
       "    </tr>\n",
       "    <tr>\n",
       "      <th>98</th>\n",
       "      <td>49024</td>\n",
       "      <td>M</td>\n",
       "      <td>2055-02-17</td>\n",
       "    </tr>\n",
       "    <tr>\n",
       "      <th>99</th>\n",
       "      <td>15440</td>\n",
       "      <td>M</td>\n",
       "      <td>2034-08-16</td>\n",
       "    </tr>\n",
       "  </tbody>\n",
       "</table>\n",
       "<p>100 rows × 3 columns</p>\n",
       "</div>"
      ],
      "text/plain": [
       "    subject_id gender        dob\n",
       "0          569      M 2021-11-04\n",
       "1        26282      F 2074-03-20\n",
       "2         1762      F 2120-03-19\n",
       "3        14481      M 1816-05-08\n",
       "4        21470      M 2195-05-20\n",
       "..         ...    ...        ...\n",
       "95       23647      M 2077-02-13\n",
       "96       26485      F 2075-08-15\n",
       "97       26884      F 2067-01-31\n",
       "98       49024      M 2055-02-17\n",
       "99       15440      M 2034-08-16\n",
       "\n",
       "[100 rows x 3 columns]"
      ]
     },
     "execution_count": 891,
     "metadata": {},
     "output_type": "execute_result"
    }
   ],
   "source": [
    "patients_df"
   ]
  },
  {
   "cell_type": "markdown",
   "metadata": {},
   "source": [
    "### Merge table"
   ]
  },
  {
   "cell_type": "code",
   "execution_count": 892,
   "metadata": {},
   "outputs": [],
   "source": [
    "patients_df = pd.merge(left=patients_df, right=admissions_date, how='inner', on=['subject_id'])"
   ]
  },
  {
   "cell_type": "markdown",
   "metadata": {},
   "source": [
    "### Process dob\n",
    "\n",
    "1. some patients who was rather than 89 years old, whose age were set over 300 years. so I need to try to restore a reasonable random date of birth, to let their age when admitted were reasonable.\n",
    "2. MIMIC-III has shifted all the date data. I try to shift the `admittime` back to be 2001 - 2012, and accross `addmittime` to reset the birth date"
   ]
  },
  {
   "cell_type": "code",
   "execution_count": 893,
   "metadata": {},
   "outputs": [],
   "source": [
    "import datetime\n",
    "import random\n",
    "\n",
    "def adjust_age_over_90(df):\n",
    "    '''\n",
    "    This method is to adjust the invalid date in 'dob' (which is 18xx)\n",
    "    Process: Use the admittime minus 90 - 100 years, to let the age of patients are between 90 to 100\n",
    "    '''\n",
    "\n",
    "    years_100 = datetime.timedelta(days = (365 * 100 + 100/4))\n",
    "    random_days_10_years = datetime.timedelta(days = random.randint(0, 10)*365)\n",
    "    \n",
    "    if (df['dob'] - datetime.datetime(1970,1,1)).total_seconds() < 0:\n",
    "        return (df['admittime'] - years_100 + random_days_10_years)\n",
    "    else:\n",
    "        return df['dob']"
   ]
  },
  {
   "cell_type": "code",
   "execution_count": 894,
   "metadata": {},
   "outputs": [],
   "source": [
    "def get_birth_delta(df):\n",
    "    '''\n",
    "    Get the difference bwteen birth and admition \n",
    "    '''\n",
    "    return df['admittime'] - df['dob']"
   ]
  },
  {
   "cell_type": "code",
   "execution_count": 895,
   "metadata": {},
   "outputs": [],
   "source": [
    "def adjust_admittime(df):\n",
    "    return pd.Timestamp(year=random.randint(2001, 2012), month=df['admittime'].month, day=df['admittime'].day)"
   ]
  },
  {
   "cell_type": "code",
   "execution_count": 896,
   "metadata": {},
   "outputs": [],
   "source": [
    "def reset_dob(df):\n",
    "    dob = df['admittime'] - df['dob']\n",
    "    return pd.to_datetime(dob.date())"
   ]
  },
  {
   "cell_type": "code",
   "execution_count": 897,
   "metadata": {},
   "outputs": [],
   "source": [
    "patients_df['dob'] = patients_df.apply(adjust_age_over_90, axis=1)\n",
    "patients_df['dob'] = patients_df.apply(get_birth_delta, axis=1)\n",
    "patients_df['admittime'] = patients_df.apply(adjust_admittime, axis=1)\n",
    "patients_df['dob'] = patients_df.apply(reset_dob, axis=1)\n",
    "# patients_df = patients_df.drop(['admittime'], axis=1)"
   ]
  },
  {
   "cell_type": "code",
   "execution_count": 898,
   "metadata": {},
   "outputs": [],
   "source": [
    "patients_df.drop(['admittime'], axis=1, inplace=True)"
   ]
  },
  {
   "cell_type": "code",
   "execution_count": 900,
   "metadata": {},
   "outputs": [],
   "source": [
    "# import datetime\n",
    "# import random\n",
    "\n",
    "# def adjust_age_over_90(df):\n",
    "#     '''\n",
    "#     This method is to adjust the invalid date in 'dob' (which is 18xx)\n",
    "#     Process: Plus 300 - 310 years from original date, to let the age of patients are between 90 to 100\n",
    "#     '''\n",
    "\n",
    "#     years_100 = datetime.timedelta(days = (365 * 100 + 100/4))\n",
    "#     random_days_10_years = datetime.timedelta(days = random.randint(0, 10*365))\n",
    "    \n",
    "#     # if patient was not dead, give a random reasonable birth\n",
    "#     if pd.isna(df['dod']):\n",
    "#         if np.int64(df['dob'].to_numpy()) < 0:\n",
    "#             return df['dob'] + years_100 + years_100 + years_100 + random_days_10_years\n",
    "#         else:\n",
    "#             return df['dob']\n",
    "#     # if patient was dead, use the death date - random 90 - 100 year, to make sure this patient's age was between 90 to 100\n",
    "#     else:\n",
    "#         return df['dod'] - years_100 + random_days_10_years"
   ]
  },
  {
   "cell_type": "code",
   "execution_count": 901,
   "metadata": {},
   "outputs": [],
   "source": [
    "# from pandas import NaT\n",
    "\n",
    "# patients_df['dod_hosp'] = patients_df['dod_hosp'].apply(lambda x: 1 if not pd.isna(x) else 0)\n",
    "# patients_df['dod_ssn'] = patients_df['dod_ssn'].apply(lambda x: 1 if not pd.isna(x) else 0)\n",
    "# patients_df['dod_live'] = patients_df['dod_live'].apply(lambda x: 1 if not pd.isna(x) else 0)"
   ]
  },
  {
   "cell_type": "markdown",
   "metadata": {},
   "source": [
    "---"
   ]
  },
  {
   "cell_type": "markdown",
   "metadata": {},
   "source": [
    "##  Build Model"
   ]
  },
  {
   "cell_type": "code",
   "execution_count": 902,
   "metadata": {},
   "outputs": [],
   "source": [
    "from sdv.lite import TabularPreset\n",
    "from sdv.tabular import GaussianCopula\n",
    "from sdv.tabular import CTGAN\n",
    "from sdv.tabular import CopulaGAN \n",
    "from sdv.tabular import TVAE\n",
    "from sdv.constraints import FixedCombinations"
   ]
  },
  {
   "cell_type": "code",
   "execution_count": 903,
   "metadata": {},
   "outputs": [
    {
     "data": {
      "text/plain": [
       "Index(['subject_id', 'gender', 'dob'], dtype='object')"
      ]
     },
     "execution_count": 903,
     "metadata": {},
     "output_type": "execute_result"
    }
   ],
   "source": [
    "patients_df.columns"
   ]
  },
  {
   "cell_type": "markdown",
   "metadata": {},
   "source": [
    "### Set constraints"
   ]
  },
  {
   "cell_type": "markdown",
   "metadata": {},
   "source": [
    "#### Build custom constrains"
   ]
  },
  {
   "cell_type": "code",
   "execution_count": 904,
   "metadata": {},
   "outputs": [],
   "source": [
    "from sdv.constraints import create_custom_constraint"
   ]
  },
  {
   "cell_type": "code",
   "execution_count": 905,
   "metadata": {},
   "outputs": [],
   "source": [
    "# DOD\n",
    "def dod_data_unique_is_valid(column_names, data):\n",
    "    one = (pd.isna(data['dod']) == False) & (pd.isna(data['dod_hosp']) == False) & (pd.isna(data['dod_ssn']) == True) #& (data['dod'] == data['dod_hosp'])\n",
    "    two = (pd.isna(data['dod']) == False) & (pd.isna(data['dod_hosp']) == True) & (pd.isna(data['dod_ssn']) == False) #& (data['dod'] == data['dod_ssn'])\n",
    "    three = (pd.isna(data['dod']) == True) & (pd.isna(data['dod_hosp']) == True) & (pd.isna(data['dod_ssn']) == True)\n",
    "    is_only = one | two | three\n",
    "    return is_only\n",
    "\n",
    "def dod_data_unique_trasform(column_names, data):\n",
    "    # print(data.loc[:, ['dod', 'dod_hosp', 'dod_ssn']])\n",
    "    return data\n",
    "\n",
    "def dod_data_unique_reverse_transform(column_names, transformed_data):\n",
    "    # print(transformed_data.loc[:, ['dod', 'dod_hosp', 'dod_ssn']])\n",
    "\n",
    "    one = (pd.isna(transformed_data['dod']) == False) & (pd.isna(transformed_data['dod_hosp']) == False) & (pd.isna(transformed_data['dod_ssn']) == True)\n",
    "    two = (pd.isna(transformed_data['dod']) == False) & (pd.isna(transformed_data['dod_hosp']) == True) & (pd.isna(transformed_data['dod_ssn']) == False)\n",
    "\n",
    "    transformed_data['dod_hosp'] = transformed_data[one]['dod']\n",
    "    transformed_data['dod_ssn'] = transformed_data[two]['dod']\n",
    "\n",
    "    return transformed_data\n",
    "\n",
    "\n",
    "DodUniqueProcess = create_custom_constraint(\n",
    "    is_valid_fn=dod_data_unique_is_valid,\n",
    "    transform_fn=dod_data_unique_trasform,\n",
    "    reverse_transform_fn=dod_data_unique_reverse_transform\n",
    ")\n",
    "\n",
    "dod_data_unique_constraint = DodUniqueProcess(\n",
    "    column_names=['dod_hosp', 'dod_ssn']\n",
    ")"
   ]
  },
  {
   "cell_type": "code",
   "execution_count": 906,
   "metadata": {},
   "outputs": [],
   "source": [
    "# # DOB\n",
    "# def dob_nut_null(column_names, data):\n",
    "#     return pd.isna(data['dob']) == False\n",
    "\n",
    "# DobNotNull = create_custom_constraint(\n",
    "#     is_valid_fn=dob_nut_null\n",
    "# )\n",
    "\n",
    "# dob_not_null_constraint = DobNotNull(\n",
    "#     column_names=['dob']\n",
    "# )"
   ]
  },
  {
   "cell_type": "markdown",
   "metadata": {},
   "source": [
    "#### Predefined Constraints"
   ]
  },
  {
   "cell_type": "code",
   "execution_count": 907,
   "metadata": {},
   "outputs": [],
   "source": [
    "from sdv.constraints import Unique\n",
    "\n",
    "unique_subject_id_constraint = Unique(\n",
    "    column_names=['subject_id']\n",
    ")"
   ]
  },
  {
   "cell_type": "code",
   "execution_count": 908,
   "metadata": {},
   "outputs": [],
   "source": [
    "# from sdv.constraints import ScalarInequality\n",
    "\n",
    "# dob_before_2200 = ScalarInequality(\n",
    "#     column_name='dob',\n",
    "#     relation='<=',\n",
    "#     value=\"2200-01-01\"\n",
    "# )\n",
    "\n",
    "# dob_after_2000 = ScalarInequality(\n",
    "#     column_name='dob',\n",
    "#     relation='>=',\n",
    "#     value=\"2000-01-01\"\n",
    "# )"
   ]
  },
  {
   "cell_type": "code",
   "execution_count": 909,
   "metadata": {},
   "outputs": [],
   "source": [
    "# from sdv.constraints import Inequality\n",
    "\n",
    "# dob_before_dod = Inequality(\n",
    "#     low_column_name='dob',\n",
    "#     high_column_name='dod'\n",
    "# )"
   ]
  },
  {
   "cell_type": "markdown",
   "metadata": {},
   "source": [
    "### Build and train model"
   ]
  },
  {
   "cell_type": "code",
   "execution_count": 910,
   "metadata": {},
   "outputs": [],
   "source": [
    "constrains = [unique_subject_id_constraint]"
   ]
  },
  {
   "cell_type": "code",
   "execution_count": 911,
   "metadata": {},
   "outputs": [],
   "source": [
    "# model = CopulaGAN(\n",
    "#     constraints=constrains, \n",
    "#     cuda=True)"
   ]
  },
  {
   "cell_type": "code",
   "execution_count": 912,
   "metadata": {},
   "outputs": [],
   "source": [
    "# model = TabularPreset(name='FAST_ML')\n",
    "model = GaussianCopula(\n",
    "    constraints=constrains\n",
    ")"
   ]
  },
  {
   "cell_type": "code",
   "execution_count": 913,
   "metadata": {},
   "outputs": [
    {
     "data": {
      "text/plain": [
       "100"
      ]
     },
     "execution_count": 913,
     "metadata": {},
     "output_type": "execute_result"
    }
   ],
   "source": [
    "len(patients_df)"
   ]
  },
  {
   "cell_type": "code",
   "execution_count": 914,
   "metadata": {},
   "outputs": [],
   "source": [
    "train_data = patients_df\n",
    "model.fit(train_data)"
   ]
  },
  {
   "cell_type": "markdown",
   "metadata": {},
   "source": [
    "### Save model"
   ]
  },
  {
   "cell_type": "code",
   "execution_count": 915,
   "metadata": {},
   "outputs": [],
   "source": [
    "import cloudpickle\n",
    "\n",
    "with open(data_set_path + \"100_models/\" + \"patients_model.pkl\", 'wb') as f:\n",
    "    cloudpickle.dump(model, f)"
   ]
  },
  {
   "cell_type": "code",
   "execution_count": 916,
   "metadata": {},
   "outputs": [],
   "source": [
    "# model.save(data_set_path + \"100_models/\" + \"patients_model.pkl\")"
   ]
  },
  {
   "cell_type": "markdown",
   "metadata": {},
   "source": [
    "## Generate synthetic data"
   ]
  },
  {
   "cell_type": "code",
   "execution_count": 917,
   "metadata": {},
   "outputs": [],
   "source": [
    "import cloudpickle\n",
    "\n",
    "with open(data_set_path + \"100_models/\" + \"patients_model.pkl\", 'rb') as f:\n",
    "    model = cloudpickle.load(f)"
   ]
  },
  {
   "cell_type": "code",
   "execution_count": 918,
   "metadata": {},
   "outputs": [
    {
     "name": "stderr",
     "output_type": "stream",
     "text": [
      "Sampling rows: 100%|██████████| 100/100 [00:00<00:00, 10994.24it/s]\n"
     ]
    }
   ],
   "source": [
    "sample = model.sample(num_rows=len(train_data))"
   ]
  },
  {
   "cell_type": "code",
   "execution_count": 919,
   "metadata": {},
   "outputs": [
    {
     "data": {
      "text/html": [
       "<div>\n",
       "<style scoped>\n",
       "    .dataframe tbody tr th:only-of-type {\n",
       "        vertical-align: middle;\n",
       "    }\n",
       "\n",
       "    .dataframe tbody tr th {\n",
       "        vertical-align: top;\n",
       "    }\n",
       "\n",
       "    .dataframe thead th {\n",
       "        text-align: right;\n",
       "    }\n",
       "</style>\n",
       "<table border=\"1\" class=\"dataframe\">\n",
       "  <thead>\n",
       "    <tr style=\"text-align: right;\">\n",
       "      <th></th>\n",
       "      <th>subject_id</th>\n",
       "      <th>gender</th>\n",
       "      <th>dob</th>\n",
       "    </tr>\n",
       "  </thead>\n",
       "  <tbody>\n",
       "    <tr>\n",
       "      <th>0</th>\n",
       "      <td>10573</td>\n",
       "      <td>M</td>\n",
       "      <td>1939-02-20</td>\n",
       "    </tr>\n",
       "    <tr>\n",
       "      <th>1</th>\n",
       "      <td>62860</td>\n",
       "      <td>M</td>\n",
       "      <td>1929-05-31</td>\n",
       "    </tr>\n",
       "    <tr>\n",
       "      <th>2</th>\n",
       "      <td>50256</td>\n",
       "      <td>M</td>\n",
       "      <td>1919-03-04</td>\n",
       "    </tr>\n",
       "    <tr>\n",
       "      <th>3</th>\n",
       "      <td>8146</td>\n",
       "      <td>M</td>\n",
       "      <td>1945-08-01</td>\n",
       "    </tr>\n",
       "    <tr>\n",
       "      <th>4</th>\n",
       "      <td>14400</td>\n",
       "      <td>M</td>\n",
       "      <td>1919-11-28</td>\n",
       "    </tr>\n",
       "    <tr>\n",
       "      <th>5</th>\n",
       "      <td>49250</td>\n",
       "      <td>F</td>\n",
       "      <td>1944-05-19</td>\n",
       "    </tr>\n",
       "    <tr>\n",
       "      <th>6</th>\n",
       "      <td>45449</td>\n",
       "      <td>M</td>\n",
       "      <td>1930-08-22</td>\n",
       "    </tr>\n",
       "    <tr>\n",
       "      <th>7</th>\n",
       "      <td>9835</td>\n",
       "      <td>M</td>\n",
       "      <td>1928-07-21</td>\n",
       "    </tr>\n",
       "    <tr>\n",
       "      <th>8</th>\n",
       "      <td>44623</td>\n",
       "      <td>M</td>\n",
       "      <td>1929-12-09</td>\n",
       "    </tr>\n",
       "    <tr>\n",
       "      <th>9</th>\n",
       "      <td>10976</td>\n",
       "      <td>F</td>\n",
       "      <td>1922-05-24</td>\n",
       "    </tr>\n",
       "    <tr>\n",
       "      <th>10</th>\n",
       "      <td>42852</td>\n",
       "      <td>F</td>\n",
       "      <td>1944-01-12</td>\n",
       "    </tr>\n",
       "    <tr>\n",
       "      <th>11</th>\n",
       "      <td>1254</td>\n",
       "      <td>F</td>\n",
       "      <td>2003-01-20</td>\n",
       "    </tr>\n",
       "    <tr>\n",
       "      <th>12</th>\n",
       "      <td>24464</td>\n",
       "      <td>M</td>\n",
       "      <td>1979-04-23</td>\n",
       "    </tr>\n",
       "    <tr>\n",
       "      <th>13</th>\n",
       "      <td>18629</td>\n",
       "      <td>M</td>\n",
       "      <td>1949-10-06</td>\n",
       "    </tr>\n",
       "    <tr>\n",
       "      <th>14</th>\n",
       "      <td>96901</td>\n",
       "      <td>M</td>\n",
       "      <td>1919-11-11</td>\n",
       "    </tr>\n",
       "    <tr>\n",
       "      <th>15</th>\n",
       "      <td>1885</td>\n",
       "      <td>M</td>\n",
       "      <td>1951-01-23</td>\n",
       "    </tr>\n",
       "    <tr>\n",
       "      <th>16</th>\n",
       "      <td>11284</td>\n",
       "      <td>M</td>\n",
       "      <td>1960-11-17</td>\n",
       "    </tr>\n",
       "    <tr>\n",
       "      <th>17</th>\n",
       "      <td>86789</td>\n",
       "      <td>M</td>\n",
       "      <td>1980-09-19</td>\n",
       "    </tr>\n",
       "    <tr>\n",
       "      <th>18</th>\n",
       "      <td>70102</td>\n",
       "      <td>M</td>\n",
       "      <td>1919-10-17</td>\n",
       "    </tr>\n",
       "    <tr>\n",
       "      <th>19</th>\n",
       "      <td>58439</td>\n",
       "      <td>M</td>\n",
       "      <td>1961-11-25</td>\n",
       "    </tr>\n",
       "    <tr>\n",
       "      <th>20</th>\n",
       "      <td>54349</td>\n",
       "      <td>M</td>\n",
       "      <td>1929-11-18</td>\n",
       "    </tr>\n",
       "    <tr>\n",
       "      <th>21</th>\n",
       "      <td>9305</td>\n",
       "      <td>F</td>\n",
       "      <td>1928-10-31</td>\n",
       "    </tr>\n",
       "    <tr>\n",
       "      <th>22</th>\n",
       "      <td>43816</td>\n",
       "      <td>M</td>\n",
       "      <td>1959-03-29</td>\n",
       "    </tr>\n",
       "    <tr>\n",
       "      <th>23</th>\n",
       "      <td>77644</td>\n",
       "      <td>M</td>\n",
       "      <td>1974-12-24</td>\n",
       "    </tr>\n",
       "    <tr>\n",
       "      <th>24</th>\n",
       "      <td>16670</td>\n",
       "      <td>F</td>\n",
       "      <td>1935-07-05</td>\n",
       "    </tr>\n",
       "    <tr>\n",
       "      <th>25</th>\n",
       "      <td>92137</td>\n",
       "      <td>M</td>\n",
       "      <td>1936-09-29</td>\n",
       "    </tr>\n",
       "    <tr>\n",
       "      <th>26</th>\n",
       "      <td>14820</td>\n",
       "      <td>M</td>\n",
       "      <td>1946-09-11</td>\n",
       "    </tr>\n",
       "    <tr>\n",
       "      <th>27</th>\n",
       "      <td>38718</td>\n",
       "      <td>F</td>\n",
       "      <td>1909-11-16</td>\n",
       "    </tr>\n",
       "    <tr>\n",
       "      <th>28</th>\n",
       "      <td>17367</td>\n",
       "      <td>M</td>\n",
       "      <td>1914-04-19</td>\n",
       "    </tr>\n",
       "    <tr>\n",
       "      <th>29</th>\n",
       "      <td>47244</td>\n",
       "      <td>F</td>\n",
       "      <td>1916-06-27</td>\n",
       "    </tr>\n",
       "  </tbody>\n",
       "</table>\n",
       "</div>"
      ],
      "text/plain": [
       "    subject_id gender        dob\n",
       "0        10573      M 1939-02-20\n",
       "1        62860      M 1929-05-31\n",
       "2        50256      M 1919-03-04\n",
       "3         8146      M 1945-08-01\n",
       "4        14400      M 1919-11-28\n",
       "5        49250      F 1944-05-19\n",
       "6        45449      M 1930-08-22\n",
       "7         9835      M 1928-07-21\n",
       "8        44623      M 1929-12-09\n",
       "9        10976      F 1922-05-24\n",
       "10       42852      F 1944-01-12\n",
       "11        1254      F 2003-01-20\n",
       "12       24464      M 1979-04-23\n",
       "13       18629      M 1949-10-06\n",
       "14       96901      M 1919-11-11\n",
       "15        1885      M 1951-01-23\n",
       "16       11284      M 1960-11-17\n",
       "17       86789      M 1980-09-19\n",
       "18       70102      M 1919-10-17\n",
       "19       58439      M 1961-11-25\n",
       "20       54349      M 1929-11-18\n",
       "21        9305      F 1928-10-31\n",
       "22       43816      M 1959-03-29\n",
       "23       77644      M 1974-12-24\n",
       "24       16670      F 1935-07-05\n",
       "25       92137      M 1936-09-29\n",
       "26       14820      M 1946-09-11\n",
       "27       38718      F 1909-11-16\n",
       "28       17367      M 1914-04-19\n",
       "29       47244      F 1916-06-27"
      ]
     },
     "execution_count": 919,
     "metadata": {},
     "output_type": "execute_result"
    }
   ],
   "source": [
    "sample.head(30)"
   ]
  },
  {
   "cell_type": "markdown",
   "metadata": {},
   "source": [
    "---"
   ]
  },
  {
   "cell_type": "markdown",
   "metadata": {},
   "source": [
    "## Evaluate data"
   ]
  },
  {
   "cell_type": "code",
   "execution_count": 920,
   "metadata": {},
   "outputs": [],
   "source": [
    "from sdv.evaluation import evaluate"
   ]
  },
  {
   "cell_type": "code",
   "execution_count": 921,
   "metadata": {},
   "outputs": [
    {
     "data": {
      "text/plain": [
       "nan"
      ]
     },
     "execution_count": 921,
     "metadata": {},
     "output_type": "execute_result"
    }
   ],
   "source": [
    "evaluate(sample, train_data, metrics=['ContinuousKLDivergence'])"
   ]
  },
  {
   "cell_type": "code",
   "execution_count": 922,
   "metadata": {},
   "outputs": [
    {
     "data": {
      "text/plain": [
       "nan"
      ]
     },
     "execution_count": 922,
     "metadata": {},
     "output_type": "execute_result"
    }
   ],
   "source": [
    "evaluate(sample, train_data, metrics=['DiscreteKLDivergence'])"
   ]
  },
  {
   "cell_type": "code",
   "execution_count": 923,
   "metadata": {},
   "outputs": [
    {
     "data": {
      "text/plain": [
       "0.646416144086084"
      ]
     },
     "execution_count": 923,
     "metadata": {},
     "output_type": "execute_result"
    }
   ],
   "source": [
    "evaluate(sample, train_data)"
   ]
  },
  {
   "cell_type": "code",
   "execution_count": 924,
   "metadata": {},
   "outputs": [
    {
     "data": {
      "text/plain": [
       "<AxesSubplot:>"
      ]
     },
     "execution_count": 924,
     "metadata": {},
     "output_type": "execute_result"
    },
    {
     "data": {
      "image/png": "[encoded data removed]",
      "text/plain": [
       "<Figure size 432x288 with 1 Axes>"
      ]
     },
     "metadata": {
      "needs_background": "light"
     },
     "output_type": "display_data"
    }
   ],
   "source": [
    "train_data['dob'].hist()"
   ]
  },
  {
   "cell_type": "code",
   "execution_count": 925,
   "metadata": {},
   "outputs": [
    {
     "data": {
      "text/plain": [
       "<AxesSubplot:>"
      ]
     },
     "execution_count": 925,
     "metadata": {},
     "output_type": "execute_result"
    },
    {
     "data": {
      "image/png": "[encoded data removed]",
      "text/plain": [
       "<Figure size 432x288 with 1 Axes>"
      ]
     },
     "metadata": {
      "needs_background": "light"
     },
     "output_type": "display_data"
    }
   ],
   "source": [
    "sample['dob'].hist()"
   ]
  },
  {
   "cell_type": "code",
   "execution_count": 926,
   "metadata": {},
   "outputs": [
    {
     "data": {
      "text/plain": [
       "<AxesSubplot:>"
      ]
     },
     "execution_count": 926,
     "metadata": {},
     "output_type": "execute_result"
    },
    {
     "data": {
      "image/png": "[encoded data removed]",
      "text/plain": [
       "<Figure size 432x288 with 1 Axes>"
      ]
     },
     "metadata": {
      "needs_background": "light"
     },
     "output_type": "display_data"
    }
   ],
   "source": [
    "sample['gender'].hist()"
   ]
  },
  {
   "cell_type": "code",
   "execution_count": 927,
   "metadata": {},
   "outputs": [
    {
     "data": {
      "text/plain": [
       "<AxesSubplot:>"
      ]
     },
     "execution_count": 927,
     "metadata": {},
     "output_type": "execute_result"
    },
    {
     "data": {
      "image/png": "[encoded data removed]",
      "text/plain": [
       "<Figure size 432x288 with 1 Axes>"
      ]
     },
     "metadata": {
      "needs_background": "light"
     },
     "output_type": "display_data"
    }
   ],
   "source": [
    "train_data['gender'].hist()"
   ]
  },
  {
   "cell_type": "markdown",
   "metadata": {},
   "source": [
    "---\n",
    "\n",
    "### Evaluate timeseries data (not accurate in tis table)"
   ]
  },
  {
   "cell_type": "code",
   "execution_count": 928,
   "metadata": {},
   "outputs": [],
   "source": [
    "from sdv.metrics.timeseries import LSTMDetection, TSFCDetection"
   ]
  },
  {
   "cell_type": "code",
   "execution_count": 929,
   "metadata": {},
   "outputs": [],
   "source": [
    "metadata_2 = model.get_metadata().to_dict()"
   ]
  },
  {
   "cell_type": "code",
   "execution_count": 930,
   "metadata": {},
   "outputs": [],
   "source": [
    "metadata_2['entity_columns']=['subject_id']"
   ]
  },
  {
   "cell_type": "code",
   "execution_count": 931,
   "metadata": {},
   "outputs": [
    {
     "data": {
      "text/plain": [
       "{'fields': {'subject_id': {'type': 'numerical',\n",
       "   'subtype': 'integer',\n",
       "   'transformer': 'integer'},\n",
       "  'gender': {'type': 'categorical', 'transformer': 'categorical_fuzzy'},\n",
       "  'dob': {'type': 'datetime', 'transformer': 'datetime'}},\n",
       " 'constraints': [{'constraint': 'sdv.constraints.tabular.Unique',\n",
       "   'column_names': ['subject_id']}],\n",
       " 'model_kwargs': {'GaussianCopula': {'field_distributions': {'subject_id.value': 'copulas.univariate.truncated_gaussian.TruncatedGaussian',\n",
       "    'gender.value': 'copulas.univariate.truncated_gaussian.TruncatedGaussian',\n",
       "    'dob.value': 'copulas.univariate.truncated_gaussian.TruncatedGaussian'},\n",
       "   'default_distribution': copulas.univariate.truncated_gaussian.TruncatedGaussian,\n",
       "   'categorical_transformer': 'categorical_fuzzy'}},\n",
       " 'name': None,\n",
       " 'primary_key': None,\n",
       " 'sequence_index': None,\n",
       " 'entity_columns': ['subject_id'],\n",
       " 'context_columns': []}"
      ]
     },
     "execution_count": 931,
     "metadata": {},
     "output_type": "execute_result"
    }
   ],
   "source": [
    "metadata_2"
   ]
  },
  {
   "cell_type": "code",
   "execution_count": 932,
   "metadata": {},
   "outputs": [
    {
     "data": {
      "text/plain": [
       "0.5"
      ]
     },
     "execution_count": 932,
     "metadata": {},
     "output_type": "execute_result"
    }
   ],
   "source": [
    "LSTMDetection.compute(sample, train_data, metadata_2)"
   ]
  },
  {
   "cell_type": "code",
   "execution_count": 933,
   "metadata": {},
   "outputs": [],
   "source": [
    "patients_df.loc[:, ['subject_id', 'dob']].to_csv(data_set_path + \"date_dob.csv\", index=0)"
   ]
  }
 ],
 "metadata": {
  "kernelspec": {
   "display_name": "Python 3.8.13 ('msc_project')",
   "language": "python",
   "name": "python3"
  },
  "language_info": {
   "codemirror_mode": {
    "name": "ipython",
    "version": 3
   },
   "file_extension": ".py",
   "mimetype": "text/x-python",
   "name": "python",
   "nbconvert_exporter": "python",
   "pygments_lexer": "ipython3",
   "version": "3.8.13"
  },
  "orig_nbformat": 4,
  "vscode": {
   "interpreter": {
    "hash": "e56015fb566b08f7af163d42c82cf08fa5d6db3fbaaffa0afaaff5a893fc0496"
   }
  }
 },
 "nbformat": 4,
 "nbformat_minor": 2
}
