{
 "cells": [
  {
   "cell_type": "code",
   "execution_count": 58,
   "metadata": {},
   "outputs": [],
   "source": [
    "# from google.colab import drive\n",
    "# drive.mount('/content/drive')"
   ]
  },
  {
   "cell_type": "code",
   "execution_count": 59,
   "metadata": {},
   "outputs": [],
   "source": [
    "# ! pip install pgmpy"
   ]
  },
  {
   "cell_type": "code",
   "execution_count": 60,
   "metadata": {},
   "outputs": [],
   "source": [
    "# Ignore warnings\n",
    "import warnings\n",
    "warnings.filterwarnings(\"ignore\")"
   ]
  },
  {
   "cell_type": "code",
   "execution_count": 61,
   "metadata": {},
   "outputs": [],
   "source": [
    "import pandas as pd\n",
    "import numpy as np\n",
    "\n",
    "import common"
   ]
  },
  {
   "cell_type": "code",
   "execution_count": 62,
   "metadata": {},
   "outputs": [],
   "source": [
    "data_set_path = \"../temp_sets_100/\""
   ]
  },
  {
   "cell_type": "markdown",
   "metadata": {},
   "source": [
    "# Patients  "
   ]
  },
  {
   "cell_type": "markdown",
   "metadata": {},
   "source": [
    "## Data precess"
   ]
  },
  {
   "cell_type": "markdown",
   "metadata": {},
   "source": [
    "### Read samples"
   ]
  },
  {
   "cell_type": "code",
   "execution_count": 63,
   "metadata": {},
   "outputs": [],
   "source": [
    "patients_df = common.read_csv_no_rowid(data_set_path+\"patients.csv\")"
   ]
  },
  {
   "cell_type": "code",
   "execution_count": 64,
   "metadata": {},
   "outputs": [],
   "source": [
    "admissions_date = common.read_csv_no_rowid(data_set_path+\"admissions.csv\").loc[:, ['subject_id', 'admittime']]\n",
    "patients_mid = pd.merge(left=patients_df, right=admissions_date, how='inner', on=['subject_id'])"
   ]
  },
  {
   "cell_type": "code",
   "execution_count": 65,
   "metadata": {},
   "outputs": [],
   "source": [
    "admissions_date = common.read_csv_no_rowid(data_set_path+\"admissions.csv\").loc[:, ['subject_id', 'admittime']]\n",
    "admissions_date.drop_duplicates(subset=['subject_id'], keep='first', inplace=True)\n",
    "admissions_date['admittime'] = pd.to_datetime(admissions_date['admittime'])"
   ]
  },
  {
   "cell_type": "markdown",
   "metadata": {},
   "source": [
    "### Drop useless colums"
   ]
  },
  {
   "cell_type": "code",
   "execution_count": 66,
   "metadata": {},
   "outputs": [],
   "source": [
    "# Drop useless colums\n",
    "patients_df.drop(['expire_flag', 'dod'], axis=1, inplace=True)"
   ]
  },
  {
   "cell_type": "markdown",
   "metadata": {},
   "source": [
    "### Deal with null values"
   ]
  },
  {
   "cell_type": "code",
   "execution_count": 67,
   "metadata": {},
   "outputs": [
    {
     "name": "stdout",
     "output_type": "stream",
     "text": [
      "Total columns: 5\n",
      "Total rows: 100\n",
      "--------------\n",
      "subject_id     0\n",
      "gender         0\n",
      "dob            0\n",
      "dod_hosp      82\n",
      "dod_ssn       69\n",
      "dtype: int64\n"
     ]
    }
   ],
   "source": [
    "# Check null value in table\n",
    "common.nan_count(patients_df)"
   ]
  },
  {
   "cell_type": "code",
   "execution_count": 68,
   "metadata": {},
   "outputs": [],
   "source": [
    "# Set a value replacing the null time value\n",
    "nan_datetime=pd.to_datetime(0)"
   ]
  },
  {
   "cell_type": "code",
   "execution_count": 69,
   "metadata": {},
   "outputs": [],
   "source": [
    "patients_df['dob'].fillna(value=nan_datetime, inplace=True)\n",
    "# patients_df['dod_hosp'].fillna(value=nan_datetime, inplace=True)\n",
    "# patients_df['dod_ssn'].fillna(value=nan_datetime, inplace=True)"
   ]
  },
  {
   "cell_type": "code",
   "execution_count": 70,
   "metadata": {},
   "outputs": [
    {
     "name": "stdout",
     "output_type": "stream",
     "text": [
      "Total columns: 5\n",
      "Total rows: 100\n",
      "--------------\n",
      "subject_id     0\n",
      "gender         0\n",
      "dob            0\n",
      "dod_hosp      82\n",
      "dod_ssn       69\n",
      "dtype: int64\n"
     ]
    }
   ],
   "source": [
    "common.nan_count(patients_df)"
   ]
  },
  {
   "cell_type": "markdown",
   "metadata": {},
   "source": [
    "### Set the column types"
   ]
  },
  {
   "cell_type": "code",
   "execution_count": 71,
   "metadata": {},
   "outputs": [
    {
     "data": {
      "text/plain": [
       "subject_id     int64\n",
       "gender        object\n",
       "dob           object\n",
       "dod_hosp      object\n",
       "dod_ssn       object\n",
       "dtype: object"
      ]
     },
     "execution_count": 71,
     "metadata": {},
     "output_type": "execute_result"
    }
   ],
   "source": [
    "patients_df.dtypes"
   ]
  },
  {
   "cell_type": "code",
   "execution_count": 72,
   "metadata": {},
   "outputs": [],
   "source": [
    "# Transfer some date type\n",
    "\n",
    "patients_df['dob'] = pd.to_datetime(patients_df['dob'])\n",
    "patients_df['dod_hosp'] = pd.to_datetime(patients_df['dod_hosp'])\n",
    "patients_df['dod_ssn'] = pd.to_datetime(patients_df['dod_ssn'])"
   ]
  },
  {
   "cell_type": "code",
   "execution_count": 73,
   "metadata": {},
   "outputs": [
    {
     "data": {
      "text/plain": [
       "subject_id             int64\n",
       "gender                object\n",
       "dob           datetime64[ns]\n",
       "dod_hosp      datetime64[ns]\n",
       "dod_ssn       datetime64[ns]\n",
       "dtype: object"
      ]
     },
     "execution_count": 73,
     "metadata": {},
     "output_type": "execute_result"
    }
   ],
   "source": [
    "patients_df.dtypes"
   ]
  },
  {
   "cell_type": "markdown",
   "metadata": {},
   "source": [
    "### Process dod_hosp and dod_ssn"
   ]
  },
  {
   "cell_type": "code",
   "execution_count": 75,
   "metadata": {},
   "outputs": [],
   "source": [
    "# patients_df['dod_hosp'] = patients_df['dod_hosp'].apply(lambda x: 1 if pd.isna(x) == False else 0)\n",
    "# patients_df['dod_ssn'] = patients_df['dod_ssn'].apply(lambda x: 1 if pd.isna(x) == False else 0)\n",
    "\n",
    "# patients_df['dod_hosp'] = patients_df['dod_hosp'].astype(int)\n",
    "# patients_df['dod_ssn'] = patients_df['dod_ssn'].astype(int)"
   ]
  },
  {
   "cell_type": "code",
   "execution_count": 79,
   "metadata": {},
   "outputs": [],
   "source": [
    "# # Define a method to deal with dod_ssn\n",
    "# def dod_one_hot(df):\n",
    "#     '''\n",
    "#     Note that DOD merged together DOD_HOSP and DOD_SSN, giving priority to DOD_HOSP if both were recorded\n",
    "#     '''\n",
    "    \n",
    "#     if (df['dod_hosp'] == 1) and (df['dod_ssn'] == 1):\n",
    "#         return 0\n",
    "#     else:\n",
    "#         return df['dod_ssn']"
   ]
  },
  {
   "cell_type": "code",
   "execution_count": 82,
   "metadata": {},
   "outputs": [],
   "source": [
    "# patients_df['dod_ssn'] = patients_df.apply(dod_one_hot, axis=1)"
   ]
  },
  {
   "cell_type": "markdown",
   "metadata": {},
   "source": [
    "### Merge table"
   ]
  },
  {
   "cell_type": "code",
   "execution_count": 20,
   "metadata": {},
   "outputs": [],
   "source": [
    "patients_df = pd.merge(left=patients_df, right=admissions_date, how='inner', on=['subject_id'])"
   ]
  },
  {
   "cell_type": "markdown",
   "metadata": {},
   "source": [
    "### Process dob\n",
    "\n",
    "1. some patients who was rather than 89 years old, whose age were set over 300 years. so I need to try to restore a reasonable random date of birth, to let their age when admitted were reasonable.\n",
    "2. MIMIC-III has shifted all the date data. I try to shift the `admittime` back to be 2001 - 2012, and accross `addmittime` to reset the birth date"
   ]
  },
  {
   "cell_type": "code",
   "execution_count": 21,
   "metadata": {},
   "outputs": [],
   "source": [
    "import datetime\n",
    "import random\n",
    "\n",
    "def adjust_age_over_90(df):\n",
    "    years_100 = datetime.timedelta(days = (365 * 100 + 100/4))\n",
    "    random_days_10_years = datetime.timedelta(days = random.randint(0, 10)*365)\n",
    "    \n",
    "    if (df['dob'] - datetime.datetime(1970,1,1)).total_seconds() < 0:\n",
    "        return (df['admittime'] - years_100 + random_days_10_years)\n",
    "    else:\n",
    "        return df['dob']"
   ]
  },
  {
   "cell_type": "code",
   "execution_count": null,
   "metadata": {},
   "outputs": [],
   "source": [
    "patients_df['dob'] = patients_df.apply(adjust_age_over_90, axis=1)"
   ]
  },
  {
   "cell_type": "code",
   "execution_count": 22,
   "metadata": {},
   "outputs": [],
   "source": [
    "# Calculate the age\n",
    "def get_birth_delta(df):\n",
    "    return df['admittime'] - df['dob']\n",
    "\n",
    "# Randomly pick a time between 2001-2012\n",
    "def adjust_admittime(df):\n",
    "    return pd.Timestamp(year=random.randint(2001, 2012), \\\n",
    "        month=df['admittime'].month, day=df['admittime'].day)\n",
    "\n",
    "# Renew the date of birth\n",
    "def reset_dob(df):\n",
    "    dob = df['admittime'] - df['dob']\n",
    "    return pd.to_datetime(dob.date())"
   ]
  },
  {
   "cell_type": "code",
   "execution_count": 25,
   "metadata": {},
   "outputs": [],
   "source": [
    "patients_df['dob'] = patients_df.apply(get_birth_delta, axis=1)\n",
    "patients_df['admittime'] = patients_df.apply(adjust_admittime, axis=1)\n",
    "patients_df['dob'] = patients_df.apply(reset_dob, axis=1)\n",
    "# patients_df = patients_df.drop(['admittime'], axis=1)"
   ]
  },
  {
   "cell_type": "code",
   "execution_count": 26,
   "metadata": {},
   "outputs": [],
   "source": [
    "patients_df.drop(['admittime'], axis=1, inplace=True)"
   ]
  },
  {
   "cell_type": "code",
   "execution_count": 27,
   "metadata": {},
   "outputs": [],
   "source": [
    "# import datetime\n",
    "# import random\n",
    "\n",
    "# def adjust_age_over_90(df):\n",
    "#     '''\n",
    "#     This method is to adjust the invalid date in 'dob' (which is 18xx)\n",
    "#     Process: Plus 300 - 310 years from original date, to let the age of patients are between 90 to 100\n",
    "#     '''\n",
    "\n",
    "#     years_100 = datetime.timedelta(days = (365 * 100 + 100/4))\n",
    "#     random_days_10_years = datetime.timedelta(days = random.randint(0, 10*365))\n",
    "    \n",
    "#     # if patient was not dead, give a random reasonable birth\n",
    "#     if pd.isna(df['dod']):\n",
    "#         if np.int64(df['dob'].to_numpy()) < 0:\n",
    "#             return df['dob'] + years_100 + years_100 + years_100 + random_days_10_years\n",
    "#         else:\n",
    "#             return df['dob']\n",
    "#     # if patient was dead, use the death date - random 90 - 100 year, to make sure this patient's age was between 90 to 100\n",
    "#     else:\n",
    "#         return df['dod'] - years_100 + random_days_10_years"
   ]
  },
  {
   "cell_type": "code",
   "execution_count": 28,
   "metadata": {},
   "outputs": [],
   "source": [
    "# from pandas import NaT\n",
    "\n",
    "# patients_df['dod_hosp'] = patients_df['dod_hosp'].apply(lambda x: 1 if not pd.isna(x) else 0)\n",
    "# patients_df['dod_ssn'] = patients_df['dod_ssn'].apply(lambda x: 1 if not pd.isna(x) else 0)\n",
    "# patients_df['dod_live'] = patients_df['dod_live'].apply(lambda x: 1 if not pd.isna(x) else 0)"
   ]
  },
  {
   "cell_type": "markdown",
   "metadata": {},
   "source": [
    "---\n",
    "##  Build Model"
   ]
  },
  {
   "cell_type": "code",
   "execution_count": 29,
   "metadata": {},
   "outputs": [],
   "source": [
    "from sdv.lite import TabularPreset\n",
    "from sdv.tabular import GaussianCopula\n",
    "from sdv.tabular import CTGAN\n",
    "from sdv.tabular import CopulaGAN \n",
    "from sdv.tabular import TVAE\n",
    "from sdv.constraints import FixedCombinations"
   ]
  },
  {
   "cell_type": "code",
   "execution_count": 30,
   "metadata": {},
   "outputs": [
    {
     "data": {
      "text/plain": [
       "Index(['subject_id', 'gender', 'dob'], dtype='object')"
      ]
     },
     "execution_count": 30,
     "metadata": {},
     "output_type": "execute_result"
    }
   ],
   "source": [
    "patients_df.columns"
   ]
  },
  {
   "cell_type": "markdown",
   "metadata": {},
   "source": [
    "### Set constraints"
   ]
  },
  {
   "cell_type": "markdown",
   "metadata": {},
   "source": [
    "#### Build custom constrains"
   ]
  },
  {
   "cell_type": "code",
   "execution_count": 31,
   "metadata": {},
   "outputs": [],
   "source": [
    "from sdv.constraints import create_custom_constraint"
   ]
  },
  {
   "cell_type": "code",
   "execution_count": 32,
   "metadata": {},
   "outputs": [],
   "source": [
    "# DOD\n",
    "def dod_data_unique_is_valid(column_names, data):\n",
    "    one = (pd.isna(data['dod']) == False) & (pd.isna(data['dod_hosp']) == False) & (pd.isna(data['dod_ssn']) == True) #& (data['dod'] == data['dod_hosp'])\n",
    "    two = (pd.isna(data['dod']) == False) & (pd.isna(data['dod_hosp']) == True) & (pd.isna(data['dod_ssn']) == False) #& (data['dod'] == data['dod_ssn'])\n",
    "    three = (pd.isna(data['dod']) == True) & (pd.isna(data['dod_hosp']) == True) & (pd.isna(data['dod_ssn']) == True)\n",
    "    is_only = one | two | three\n",
    "    return is_only\n",
    "\n",
    "def dod_data_unique_trasform(column_names, data):\n",
    "    # print(data.loc[:, ['dod', 'dod_hosp', 'dod_ssn']])\n",
    "    return data\n",
    "\n",
    "def dod_data_unique_reverse_transform(column_names, transformed_data):\n",
    "    # print(transformed_data.loc[:, ['dod', 'dod_hosp', 'dod_ssn']])\n",
    "\n",
    "    one = (pd.isna(transformed_data['dod']) == False) & (pd.isna(transformed_data['dod_hosp']) == False) & (pd.isna(transformed_data['dod_ssn']) == True)\n",
    "    two = (pd.isna(transformed_data['dod']) == False) & (pd.isna(transformed_data['dod_hosp']) == True) & (pd.isna(transformed_data['dod_ssn']) == False)\n",
    "\n",
    "    transformed_data['dod_hosp'] = transformed_data[one]['dod']\n",
    "    transformed_data['dod_ssn'] = transformed_data[two]['dod']\n",
    "\n",
    "    return transformed_data\n",
    "\n",
    "\n",
    "DodUniqueProcess = create_custom_constraint(\n",
    "    is_valid_fn=dod_data_unique_is_valid,\n",
    "    transform_fn=dod_data_unique_trasform,\n",
    "    reverse_transform_fn=dod_data_unique_reverse_transform\n",
    ")\n",
    "\n",
    "dod_data_unique_constraint = DodUniqueProcess(\n",
    "    column_names=['dod_hosp', 'dod_ssn']\n",
    ")"
   ]
  },
  {
   "cell_type": "code",
   "execution_count": 33,
   "metadata": {},
   "outputs": [],
   "source": [
    "# # DOB\n",
    "# def dob_nut_null(column_names, data):\n",
    "#     return pd.isna(data['dob']) == False\n",
    "\n",
    "# DobNotNull = create_custom_constraint(\n",
    "#     is_valid_fn=dob_nut_null\n",
    "# )\n",
    "\n",
    "# dob_not_null_constraint = DobNotNull(\n",
    "#     column_names=['dob']\n",
    "# )"
   ]
  },
  {
   "cell_type": "markdown",
   "metadata": {},
   "source": [
    "#### Predefined Constraints"
   ]
  },
  {
   "cell_type": "code",
   "execution_count": 34,
   "metadata": {},
   "outputs": [],
   "source": [
    "from sdv.constraints import Unique\n",
    "\n",
    "unique_subject_id_constraint = Unique(\n",
    "    column_names=['subject_id']\n",
    ")"
   ]
  },
  {
   "cell_type": "code",
   "execution_count": 35,
   "metadata": {},
   "outputs": [],
   "source": [
    "# from sdv.constraints import ScalarInequality\n",
    "\n",
    "# dob_before_2200 = ScalarInequality(\n",
    "#     column_name='dob',\n",
    "#     relation='<=',\n",
    "#     value=\"2200-01-01\"\n",
    "# )\n",
    "\n",
    "# dob_after_2000 = ScalarInequality(\n",
    "#     column_name='dob',\n",
    "#     relation='>=',\n",
    "#     value=\"2000-01-01\"\n",
    "# )"
   ]
  },
  {
   "cell_type": "code",
   "execution_count": 36,
   "metadata": {},
   "outputs": [],
   "source": [
    "# from sdv.constraints import Inequality\n",
    "\n",
    "# dob_before_dod = Inequality(\n",
    "#     low_column_name='dob',\n",
    "#     high_column_name='dod'\n",
    "# )"
   ]
  },
  {
   "cell_type": "markdown",
   "metadata": {},
   "source": [
    "### Build and train model"
   ]
  },
  {
   "cell_type": "code",
   "execution_count": 37,
   "metadata": {},
   "outputs": [],
   "source": [
    "constraints = [unique_subject_id_constraint]"
   ]
  },
  {
   "cell_type": "code",
   "execution_count": 38,
   "metadata": {},
   "outputs": [],
   "source": [
    "train_data = patients_df"
   ]
  },
  {
   "cell_type": "code",
   "execution_count": 39,
   "metadata": {},
   "outputs": [
    {
     "name": "stdout",
     "output_type": "stream",
     "text": [
      "Strat training ...\n",
      "Tabular Preset\n"
     ]
    },
    {
     "name": "stderr",
     "output_type": "stream",
     "text": [
      "Sampling rows: 100%|██████████| 100/100 [00:00<00:00, 5012.73it/s]\n"
     ]
    },
    {
     "name": "stdout",
     "output_type": "stream",
     "text": [
      "Gaussian Copula\n"
     ]
    },
    {
     "name": "stderr",
     "output_type": "stream",
     "text": [
      "Sampling rows: 100%|██████████| 100/100 [00:00<00:00, 8690.52it/s]"
     ]
    },
    {
     "name": "stdout",
     "output_type": "stream",
     "text": [
      "CTGAN\n"
     ]
    },
    {
     "name": "stderr",
     "output_type": "stream",
     "text": [
      "\n",
      "Sampling rows: 100%|██████████| 100/100 [00:00<00:00, 2340.24it/s]\n"
     ]
    },
    {
     "name": "stdout",
     "output_type": "stream",
     "text": [
      "CopulaGAN\n"
     ]
    },
    {
     "name": "stderr",
     "output_type": "stream",
     "text": [
      "Sampling rows: 100%|██████████| 100/100 [00:00<00:00, 5875.20it/s]\n"
     ]
    },
    {
     "name": "stdout",
     "output_type": "stream",
     "text": [
      "TVAE\n"
     ]
    },
    {
     "name": "stderr",
     "output_type": "stream",
     "text": [
      "Sampling rows: 100%|██████████| 100/100 [00:00<00:00, 3274.09it/s]\n"
     ]
    },
    {
     "name": "stdout",
     "output_type": "stream",
     "text": [
      "Training finished!\n",
      "Strat evaluating ...\n",
      "Evaluating finished!\n",
      "The best_model is ctgan, evaluation score is 0.6697707847039548\n"
     ]
    }
   ],
   "source": [
    "best_model = common.build_model(constraints=constraints, train_data=train_data)"
   ]
  },
  {
   "cell_type": "markdown",
   "metadata": {},
   "source": [
    "### Save model"
   ]
  },
  {
   "cell_type": "code",
   "execution_count": 40,
   "metadata": {},
   "outputs": [],
   "source": [
    "model_save_path = data_set_path + \"100_models/\" + \"admissions_model.pkl\"\n",
    "common.save_model(best_model, model_save_path)"
   ]
  },
  {
   "cell_type": "markdown",
   "metadata": {},
   "source": [
    "---\n",
    "## Evaluate data"
   ]
  },
  {
   "cell_type": "markdown",
   "metadata": {},
   "source": [
    "### Generate synthetic data"
   ]
  },
  {
   "cell_type": "code",
   "execution_count": 41,
   "metadata": {},
   "outputs": [],
   "source": [
    "date_load_path = data_set_path + \"100_models/\" + \"patients_model.pkl\"\n",
    "model = common.load_model(date_load_path)"
   ]
  },
  {
   "cell_type": "code",
   "execution_count": 42,
   "metadata": {},
   "outputs": [
    {
     "name": "stderr",
     "output_type": "stream",
     "text": [
      "Sampling rows: 100%|██████████| 100/100 [00:00<00:00, 9994.53it/s]\n"
     ]
    }
   ],
   "source": [
    "sample = model.sample(num_rows=len(train_data))"
   ]
  },
  {
   "cell_type": "markdown",
   "metadata": {},
   "source": [
    "### Evaluation"
   ]
  },
  {
   "cell_type": "code",
   "execution_count": 43,
   "metadata": {},
   "outputs": [],
   "source": [
    "from sdv.evaluation import evaluate"
   ]
  },
  {
   "cell_type": "code",
   "execution_count": 44,
   "metadata": {},
   "outputs": [
    {
     "data": {
      "text/plain": [
       "nan"
      ]
     },
     "execution_count": 44,
     "metadata": {},
     "output_type": "execute_result"
    }
   ],
   "source": [
    "evaluate(sample, train_data, metrics=['ContinuousKLDivergence'])"
   ]
  },
  {
   "cell_type": "code",
   "execution_count": 45,
   "metadata": {},
   "outputs": [
    {
     "data": {
      "text/plain": [
       "nan"
      ]
     },
     "execution_count": 45,
     "metadata": {},
     "output_type": "execute_result"
    }
   ],
   "source": [
    "evaluate(sample, train_data, metrics=['DiscreteKLDivergence'])"
   ]
  },
  {
   "cell_type": "code",
   "execution_count": 46,
   "metadata": {},
   "outputs": [
    {
     "data": {
      "text/plain": [
       "0.6183310396351749"
      ]
     },
     "execution_count": 46,
     "metadata": {},
     "output_type": "execute_result"
    }
   ],
   "source": [
    "evaluate(sample, train_data)"
   ]
  },
  {
   "cell_type": "code",
   "execution_count": 47,
   "metadata": {},
   "outputs": [
    {
     "data": {
      "text/plain": [
       "<AxesSubplot:>"
      ]
     },
     "execution_count": 47,
     "metadata": {},
     "output_type": "execute_result"
    },
    {
     "data": {
      "image/png": "[encoded data removed]",
      "text/plain": [
       "<Figure size 432x288 with 1 Axes>"
      ]
     },
     "metadata": {
      "needs_background": "light"
     },
     "output_type": "display_data"
    }
   ],
   "source": [
    "train_data['dob'].hist()"
   ]
  },
  {
   "cell_type": "code",
   "execution_count": 48,
   "metadata": {},
   "outputs": [
    {
     "data": {
      "text/plain": [
       "<AxesSubplot:>"
      ]
     },
     "execution_count": 48,
     "metadata": {},
     "output_type": "execute_result"
    },
    {
     "data": {
      "image/png": "[encoded data removed]",
      "text/plain": [
       "<Figure size 432x288 with 1 Axes>"
      ]
     },
     "metadata": {
      "needs_background": "light"
     },
     "output_type": "display_data"
    }
   ],
   "source": [
    "sample['dob'].hist()"
   ]
  },
  {
   "cell_type": "code",
   "execution_count": 49,
   "metadata": {},
   "outputs": [
    {
     "data": {
      "text/plain": [
       "<AxesSubplot:>"
      ]
     },
     "execution_count": 49,
     "metadata": {},
     "output_type": "execute_result"
    },
    {
     "data": {
      "image/png": "[encoded data removed]",
      "text/plain": [
       "<Figure size 432x288 with 1 Axes>"
      ]
     },
     "metadata": {
      "needs_background": "light"
     },
     "output_type": "display_data"
    }
   ],
   "source": [
    "sample['gender'].hist()"
   ]
  },
  {
   "cell_type": "code",
   "execution_count": 50,
   "metadata": {},
   "outputs": [
    {
     "data": {
      "text/plain": [
       "<AxesSubplot:>"
      ]
     },
     "execution_count": 50,
     "metadata": {},
     "output_type": "execute_result"
    },
    {
     "data": {
      "image/png": "[encoded data removed]",
      "text/plain": [
       "<Figure size 432x288 with 1 Axes>"
      ]
     },
     "metadata": {
      "needs_background": "light"
     },
     "output_type": "display_data"
    }
   ],
   "source": [
    "train_data['gender'].hist()"
   ]
  },
  {
   "cell_type": "markdown",
   "metadata": {},
   "source": [
    "---\n",
    "\n",
    "### Evaluate timeseries data (not accurate in tis table)"
   ]
  },
  {
   "cell_type": "code",
   "execution_count": 51,
   "metadata": {},
   "outputs": [],
   "source": [
    "from sdv.metrics.timeseries import LSTMDetection, TSFCDetection"
   ]
  },
  {
   "cell_type": "code",
   "execution_count": 52,
   "metadata": {},
   "outputs": [],
   "source": [
    "metadata_2 = model.get_metadata().to_dict()"
   ]
  },
  {
   "cell_type": "code",
   "execution_count": 53,
   "metadata": {},
   "outputs": [],
   "source": [
    "metadata_2['entity_columns']=['subject_id']"
   ]
  },
  {
   "cell_type": "code",
   "execution_count": 54,
   "metadata": {},
   "outputs": [
    {
     "data": {
      "text/plain": [
       "{'fields': {'subject_id': {'type': 'numerical',\n",
       "   'subtype': 'integer',\n",
       "   'transformer': 'integer'},\n",
       "  'gender': {'type': 'categorical', 'transformer': 'categorical_fuzzy'},\n",
       "  'dob': {'type': 'datetime', 'transformer': 'datetime'}},\n",
       " 'constraints': [{'constraint': 'sdv.constraints.tabular.Unique',\n",
       "   'column_names': ['subject_id']}],\n",
       " 'model_kwargs': {'GaussianCopula': {'field_distributions': {'subject_id.value': 'copulas.univariate.truncated_gaussian.TruncatedGaussian',\n",
       "    'gender.value': 'copulas.univariate.truncated_gaussian.TruncatedGaussian',\n",
       "    'dob.value': 'copulas.univariate.truncated_gaussian.TruncatedGaussian'},\n",
       "   'default_distribution': copulas.univariate.truncated_gaussian.TruncatedGaussian,\n",
       "   'categorical_transformer': 'categorical_fuzzy'}},\n",
       " 'name': None,\n",
       " 'primary_key': None,\n",
       " 'sequence_index': None,\n",
       " 'entity_columns': ['subject_id'],\n",
       " 'context_columns': []}"
      ]
     },
     "execution_count": 54,
     "metadata": {},
     "output_type": "execute_result"
    }
   ],
   "source": [
    "metadata_2"
   ]
  },
  {
   "cell_type": "code",
   "execution_count": 55,
   "metadata": {},
   "outputs": [
    {
     "data": {
      "text/plain": [
       "0.4"
      ]
     },
     "execution_count": 55,
     "metadata": {},
     "output_type": "execute_result"
    }
   ],
   "source": [
    "LSTMDetection.compute(sample, train_data, metadata_2)"
   ]
  },
  {
   "cell_type": "code",
   "execution_count": 56,
   "metadata": {},
   "outputs": [],
   "source": [
    "patients_df.loc[:, ['subject_id', 'dob']].to_csv(data_set_path + \"date_dob.csv\", index=0)"
   ]
  }
 ],
 "metadata": {
  "kernelspec": {
   "display_name": "Python 3.8.13 ('msc_project')",
   "language": "python",
   "name": "python3"
  },
  "language_info": {
   "codemirror_mode": {
    "name": "ipython",
    "version": 3
   },
   "file_extension": ".py",
   "mimetype": "text/x-python",
   "name": "python",
   "nbconvert_exporter": "python",
   "pygments_lexer": "ipython3",
   "version": "3.8.13"
  },
  "orig_nbformat": 4,
  "vscode": {
   "interpreter": {
    "hash": "e56015fb566b08f7af163d42c82cf08fa5d6db3fbaaffa0afaaff5a893fc0496"
   }
  }
 },
 "nbformat": 4,
 "nbformat_minor": 2
}
