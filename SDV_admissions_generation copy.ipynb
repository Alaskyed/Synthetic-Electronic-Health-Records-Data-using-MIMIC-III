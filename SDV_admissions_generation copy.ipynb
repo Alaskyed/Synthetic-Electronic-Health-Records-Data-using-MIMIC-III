{
 "cells": [
  {
   "cell_type": "code",
   "execution_count": 1,
   "metadata": {},
   "outputs": [],
   "source": [
    "# from google.colab import drive\n",
    "# drive.mount('/content/drive')"
   ]
  },
  {
   "cell_type": "code",
   "execution_count": 2,
   "metadata": {},
   "outputs": [],
   "source": [
    "# ! pip install pgmpy"
   ]
  },
  {
   "cell_type": "code",
   "execution_count": 3,
   "metadata": {},
   "outputs": [],
   "source": [
    "# Ignore warnings\n",
    "import warnings\n",
    "warnings.filterwarnings(\"ignore\")"
   ]
  },
  {
   "cell_type": "code",
   "execution_count": 4,
   "metadata": {},
   "outputs": [],
   "source": [
    "import pandas as pd\n",
    "import numpy as np\n",
    "\n",
    "import common"
   ]
  },
  {
   "cell_type": "code",
   "execution_count": 5,
   "metadata": {},
   "outputs": [],
   "source": [
    "date_set_path = \"../temp_sets_100/\""
   ]
  },
  {
   "cell_type": "markdown",
   "metadata": {},
   "source": [
    "## admissions"
   ]
  },
  {
   "cell_type": "markdown",
   "metadata": {},
   "source": [
    "### Read samples"
   ]
  },
  {
   "cell_type": "code",
   "execution_count": 6,
   "metadata": {},
   "outputs": [],
   "source": [
    "admissions_df = common.read_csv_no_rowid(date_set_path+\"admissions.csv\")"
   ]
  },
  {
   "cell_type": "markdown",
   "metadata": {},
   "source": [
    "### Data preproces"
   ]
  },
  {
   "cell_type": "code",
   "execution_count": 7,
   "metadata": {},
   "outputs": [],
   "source": [
    "# Drop useless colums\n",
    "admissions_df.drop(['diagnosis', 'hospital_expire_flag'], axis=1, inplace=True)"
   ]
  },
  {
   "cell_type": "markdown",
   "metadata": {},
   "source": [
    "#### Deal with null values"
   ]
  },
  {
   "cell_type": "code",
   "execution_count": 8,
   "metadata": {},
   "outputs": [
    {
     "name": "stdout",
     "output_type": "stream",
     "text": [
      "Total columns: 16\n",
      "Total rows: 123\n",
      "--------------\n",
      "subject_id                0\n",
      "hadm_id                   0\n",
      "admittime                 0\n",
      "dischtime                 0\n",
      "deathtime               112\n",
      "admission_type            0\n",
      "admission_location        0\n",
      "discharge_location        0\n",
      "insurance                 0\n",
      "language                 52\n",
      "religion                  1\n",
      "marital_status           18\n",
      "ethnicity                 0\n",
      "edregtime                66\n",
      "edouttime                66\n",
      "has_chartevents_data      0\n",
      "dtype: int64\n"
     ]
    }
   ],
   "source": [
    "# Check null value in table\n",
    "common.nan_count(admissions_df)"
   ]
  },
  {
   "cell_type": "code",
   "execution_count": 9,
   "metadata": {},
   "outputs": [],
   "source": [
    "# Set a value replacing the null time value\n",
    "# nan_datetime=pd.to_datetime(0)"
   ]
  },
  {
   "cell_type": "code",
   "execution_count": 10,
   "metadata": {},
   "outputs": [],
   "source": [
    "# admissions_df['dob'].fillna(value=nan_datetime, inplace=True)\n",
    "# admissions_df['dod_hosp'].fillna(value=nan_datetime, inplace=True)\n",
    "# admissions_df['dod_ssn'].fillna(value=nan_datetime, inplace=True)"
   ]
  },
  {
   "cell_type": "code",
   "execution_count": 11,
   "metadata": {},
   "outputs": [
    {
     "name": "stdout",
     "output_type": "stream",
     "text": [
      "Total columns: 16\n",
      "Total rows: 123\n",
      "--------------\n",
      "subject_id                0\n",
      "hadm_id                   0\n",
      "admittime                 0\n",
      "dischtime                 0\n",
      "deathtime               112\n",
      "admission_type            0\n",
      "admission_location        0\n",
      "discharge_location        0\n",
      "insurance                 0\n",
      "language                 52\n",
      "religion                  1\n",
      "marital_status           18\n",
      "ethnicity                 0\n",
      "edregtime                66\n",
      "edouttime                66\n",
      "has_chartevents_data      0\n",
      "dtype: int64\n"
     ]
    }
   ],
   "source": [
    "common.nan_count(admissions_df)"
   ]
  },
  {
   "cell_type": "markdown",
   "metadata": {},
   "source": [
    "#### Set the column types"
   ]
  },
  {
   "cell_type": "code",
   "execution_count": 12,
   "metadata": {},
   "outputs": [
    {
     "data": {
      "text/plain": [
       "subject_id               int64\n",
       "hadm_id                  int64\n",
       "admittime               object\n",
       "dischtime               object\n",
       "deathtime               object\n",
       "admission_type          object\n",
       "admission_location      object\n",
       "discharge_location      object\n",
       "insurance               object\n",
       "language                object\n",
       "religion                object\n",
       "marital_status          object\n",
       "ethnicity               object\n",
       "edregtime               object\n",
       "edouttime               object\n",
       "has_chartevents_data     int64\n",
       "dtype: object"
      ]
     },
     "execution_count": 12,
     "metadata": {},
     "output_type": "execute_result"
    }
   ],
   "source": [
    "admissions_df.dtypes"
   ]
  },
  {
   "cell_type": "code",
   "execution_count": 13,
   "metadata": {},
   "outputs": [],
   "source": [
    "# Transfer some date type\n",
    "admissions_df['admittime'] = pd.to_datetime(admissions_df['admittime'])\n",
    "admissions_df['dischtime'] = pd.to_datetime(admissions_df['dischtime'])\n",
    "admissions_df['deathtime'] = pd.to_datetime(admissions_df['deathtime'])\n",
    "admissions_df['edregtime'] = pd.to_datetime(admissions_df['edregtime'])\n",
    "admissions_df['edouttime'] = pd.to_datetime(admissions_df['edouttime'])"
   ]
  },
  {
   "cell_type": "code",
   "execution_count": 14,
   "metadata": {},
   "outputs": [
    {
     "data": {
      "text/plain": [
       "subject_id                       int64\n",
       "hadm_id                          int64\n",
       "admittime               datetime64[ns]\n",
       "dischtime               datetime64[ns]\n",
       "deathtime               datetime64[ns]\n",
       "admission_type                  object\n",
       "admission_location              object\n",
       "discharge_location              object\n",
       "insurance                       object\n",
       "language                        object\n",
       "religion                        object\n",
       "marital_status                  object\n",
       "ethnicity                       object\n",
       "edregtime               datetime64[ns]\n",
       "edouttime               datetime64[ns]\n",
       "has_chartevents_data             int64\n",
       "dtype: object"
      ]
     },
     "execution_count": 14,
     "metadata": {},
     "output_type": "execute_result"
    }
   ],
   "source": [
    "admissions_df.dtypes"
   ]
  },
  {
   "cell_type": "markdown",
   "metadata": {},
   "source": [
    "#### Deal with some special value"
   ]
  },
  {
   "cell_type": "code",
   "execution_count": 15,
   "metadata": {},
   "outputs": [
    {
     "data": {
      "text/plain": [
       "subject_id                                   97263\n",
       "hadm_id                                     164631\n",
       "admittime                      2122-01-15 22:31:00\n",
       "dischtime                      2122-01-20 20:30:00\n",
       "deathtime                      2122-01-21 20:30:00\n",
       "admission_type                           EMERGENCY\n",
       "admission_location       CLINIC REFERRAL/PREMATURE\n",
       "discharge_location                    DEAD/EXPIRED\n",
       "insurance                                  Private\n",
       "language                                      ENGL\n",
       "religion                              UNOBTAINABLE\n",
       "marital_status                            DIVORCED\n",
       "ethnicity               PATIENT DECLINED TO ANSWER\n",
       "edregtime                      2122-01-15 21:12:00\n",
       "edouttime                      2122-01-16 01:56:00\n",
       "has_chartevents_data                             1\n",
       "Name: 113, dtype: object"
      ]
     },
     "execution_count": 15,
     "metadata": {},
     "output_type": "execute_result"
    }
   ],
   "source": [
    "admissions_df.loc[113]"
   ]
  },
  {
   "cell_type": "code",
   "execution_count": 16,
   "metadata": {},
   "outputs": [],
   "source": [
    "admissions_df = admissions_df.drop(admissions_df.loc[(pd.isna(admissions_df['deathtime']) == False) & (admissions_df['dischtime'] != admissions_df['deathtime'])].index)"
   ]
  },
  {
   "cell_type": "markdown",
   "metadata": {},
   "source": [
    "---"
   ]
  },
  {
   "cell_type": "markdown",
   "metadata": {},
   "source": [
    "##  Build Network"
   ]
  },
  {
   "cell_type": "code",
   "execution_count": 17,
   "metadata": {},
   "outputs": [],
   "source": [
    "from sdv.tabular import CTGAN\n",
    "from sdv.constraints import FixedCombinations\n",
    "from sdv.constraints import create_custom_constraint"
   ]
  },
  {
   "cell_type": "code",
   "execution_count": 18,
   "metadata": {},
   "outputs": [
    {
     "data": {
      "text/plain": [
       "Index(['subject_id', 'hadm_id', 'admittime', 'dischtime', 'deathtime',\n",
       "       'admission_type', 'admission_location', 'discharge_location',\n",
       "       'insurance', 'language', 'religion', 'marital_status', 'ethnicity',\n",
       "       'edregtime', 'edouttime', 'has_chartevents_data'],\n",
       "      dtype='object')"
      ]
     },
     "execution_count": 18,
     "metadata": {},
     "output_type": "execute_result"
    }
   ],
   "source": [
    "admissions_df.columns"
   ]
  },
  {
   "cell_type": "markdown",
   "metadata": {},
   "source": [
    "### Set constraint"
   ]
  },
  {
   "cell_type": "code",
   "execution_count": 19,
   "metadata": {},
   "outputs": [],
   "source": [
    "def time_is_valid(column_names, data):\n",
    "    admit_disch = (data['admittime'] <= data['dischtime']) & ((data['dischtime'] - data['admittime']).apply(lambda x: 0 <= x.days  <= 365))\n",
    "\n",
    "    edreg_admit = \\\n",
    "        (pd.isna(data['edregtime']) & pd.isna(data['edouttime'])) | \\\n",
    "        ( \\\n",
    "            ((pd.isna(data['edregtime']) == False) & (pd.isna(data['edouttime']) == False)) & \\\n",
    "            ((data['admittime'] - data['edregtime']).apply(lambda x: 0 <= x.days  <= 1)) \\\n",
    "        )\n",
    "\n",
    "    # admit_edout = (pd.isna(admissions_df['edregtime'])) | (admissions_df['admittime'] <= admissions_df['edouttime'])\n",
    "\n",
    "    edout_disch = \\\n",
    "        (pd.isna(data['edregtime']) & pd.isna(data['edouttime'])) | \\\n",
    "        ( \\\n",
    "            ((pd.isna(data['edregtime']) == False) & (pd.isna(data['edouttime']) == False)) & \\\n",
    "            ((data['dischtime'] - data['edouttime']).apply(lambda x: 0 <= x.days  <= 365)) \\\n",
    "        )\n",
    "\n",
    "    # disch_death = (pd.isna(data['deathtime'])) | ((pd.isna(data['deathtime']) == False) & (data['dischtime'] == data['deathtime']))        \n",
    "    \n",
    "    return admit_disch & edreg_admit & edout_disch"
   ]
  },
  {
   "cell_type": "code",
   "execution_count": 20,
   "metadata": {},
   "outputs": [],
   "source": [
    "def time_trasform(column_names, data):\n",
    "    # print(data.loc[:, ['dod', 'dod_hosp', 'dod_ssn']])\n",
    "    return data\n",
    "\n",
    "def time_reverse_transform(column_names, transformed_data):\n",
    "\n",
    "    is_death = (pd.isna(transformed_data['deathtime']) == False)\n",
    "    transformed_data.loc[is_death, ['deathtime']] = transformed_data[is_death]['dischtime'].values\n",
    "    transformed_data['deathtime'] = pd.to_datetime(transformed_data['deathtime'])\n",
    "\n",
    "    return transformed_data"
   ]
  },
  {
   "cell_type": "code",
   "execution_count": 21,
   "metadata": {},
   "outputs": [],
   "source": [
    "TimeProcess = create_custom_constraint(\n",
    "    is_valid_fn=time_is_valid,\n",
    "    transform_fn=time_trasform,\n",
    "    reverse_transform_fn=time_reverse_transform\n",
    ")"
   ]
  },
  {
   "cell_type": "code",
   "execution_count": 22,
   "metadata": {},
   "outputs": [],
   "source": [
    "time_constraint = TimeProcess(\n",
    "    column_names=['admittime', 'dischtime','edregtime', 'edouttime', 'deathtime']\n",
    ")"
   ]
  },
  {
   "cell_type": "code",
   "execution_count": 23,
   "metadata": {},
   "outputs": [],
   "source": [
    "constrains = [time_constraint]"
   ]
  },
  {
   "cell_type": "markdown",
   "metadata": {},
   "source": [
    "### Build model"
   ]
  },
  {
   "cell_type": "code",
   "execution_count": 24,
   "metadata": {},
   "outputs": [],
   "source": [
    "model = CTGAN(\n",
    "    # constraints=constrains, \n",
    "    # generator_lr=0.0005,\n",
    "    batch_size=10000,\n",
    "    cuda=True, \n",
    "    verbose=True, \n",
    "    epochs=50)"
   ]
  },
  {
   "cell_type": "code",
   "execution_count": 25,
   "metadata": {},
   "outputs": [
    {
     "data": {
      "text/plain": [
       "122"
      ]
     },
     "execution_count": 25,
     "metadata": {},
     "output_type": "execute_result"
    }
   ],
   "source": [
    "len(admissions_df)"
   ]
  },
  {
   "cell_type": "code",
   "execution_count": 26,
   "metadata": {},
   "outputs": [
    {
     "name": "stdout",
     "output_type": "stream",
     "text": [
      "Epoch 1, Loss G:  1.5632,Loss D:  0.0040\n",
      "Epoch 2, Loss G:  1.5531,Loss D: -0.0275\n",
      "Epoch 3, Loss G:  1.5364,Loss D: -0.0609\n",
      "Epoch 4, Loss G:  1.4999,Loss D: -0.1020\n",
      "Epoch 5, Loss G:  1.5007,Loss D: -0.1496\n",
      "Epoch 6, Loss G:  1.4537,Loss D: -0.1954\n",
      "Epoch 7, Loss G:  1.4276,Loss D: -0.2360\n",
      "Epoch 8, Loss G:  1.4024,Loss D: -0.2945\n",
      "Epoch 9, Loss G:  1.3452,Loss D: -0.3477\n",
      "Epoch 10, Loss G:  1.3046,Loss D: -0.4017\n",
      "Epoch 11, Loss G:  1.2624,Loss D: -0.4537\n",
      "Epoch 12, Loss G:  1.2059,Loss D: -0.4990\n",
      "Epoch 13, Loss G:  1.1789,Loss D: -0.5608\n",
      "Epoch 14, Loss G:  1.1576,Loss D: -0.5930\n",
      "Epoch 15, Loss G:  1.1282,Loss D: -0.6443\n",
      "Epoch 16, Loss G:  1.0841,Loss D: -0.6525\n",
      "Epoch 17, Loss G:  1.0678,Loss D: -0.6843\n",
      "Epoch 18, Loss G:  1.0482,Loss D: -0.6923\n",
      "Epoch 19, Loss G:  1.0001,Loss D: -0.6760\n",
      "Epoch 20, Loss G:  1.0152,Loss D: -0.6379\n",
      "Epoch 21, Loss G:  0.9828,Loss D: -0.5697\n",
      "Epoch 22, Loss G:  0.9093,Loss D: -0.5009\n",
      "Epoch 23, Loss G:  0.8989,Loss D: -0.4320\n",
      "Epoch 24, Loss G:  0.8598,Loss D: -0.3587\n",
      "Epoch 25, Loss G:  0.8374,Loss D: -0.2973\n",
      "Epoch 26, Loss G:  0.7967,Loss D: -0.2792\n",
      "Epoch 27, Loss G:  0.7955,Loss D: -0.2644\n",
      "Epoch 28, Loss G:  0.7552,Loss D: -0.2280\n",
      "Epoch 29, Loss G:  0.7414,Loss D: -0.2362\n",
      "Epoch 30, Loss G:  0.7584,Loss D: -0.1686\n",
      "Epoch 31, Loss G:  0.7289,Loss D: -0.1778\n",
      "Epoch 32, Loss G:  0.7077,Loss D: -0.1507\n",
      "Epoch 33, Loss G:  0.7447,Loss D: -0.0891\n",
      "Epoch 34, Loss G:  0.7219,Loss D: -0.1089\n",
      "Epoch 35, Loss G:  0.7586,Loss D: -0.0496\n",
      "Epoch 36, Loss G:  0.7908,Loss D: -0.0103\n",
      "Epoch 37, Loss G:  0.7953,Loss D: -0.0483\n",
      "Epoch 38, Loss G:  0.8415,Loss D: -0.0553\n",
      "Epoch 39, Loss G:  0.8863,Loss D: -0.0316\n",
      "Epoch 40, Loss G:  0.9790,Loss D: -0.0597\n",
      "Epoch 41, Loss G:  1.0147,Loss D: -0.0846\n",
      "Epoch 42, Loss G:  1.0886,Loss D: -0.0756\n",
      "Epoch 43, Loss G:  1.1449,Loss D: -0.0678\n",
      "Epoch 44, Loss G:  1.1721,Loss D: -0.0607\n",
      "Epoch 45, Loss G:  1.1996,Loss D: -0.0656\n",
      "Epoch 46, Loss G:  1.2010,Loss D: -0.0581\n",
      "Epoch 47, Loss G:  1.2308,Loss D: -0.0397\n",
      "Epoch 48, Loss G:  1.2608,Loss D: -0.0087\n",
      "Epoch 49, Loss G:  1.2629,Loss D:  0.0404\n",
      "Epoch 50, Loss G:  1.2621,Loss D:  0.0562\n"
     ]
    }
   ],
   "source": [
    "train_data = admissions_df\n",
    "model.fit(train_data)"
   ]
  },
  {
   "cell_type": "code",
   "execution_count": 27,
   "metadata": {},
   "outputs": [],
   "source": [
    "# model.save(date_set_path + \"100_models/\" + \"admissions_model.pkl\")"
   ]
  },
  {
   "cell_type": "code",
   "execution_count": 28,
   "metadata": {},
   "outputs": [],
   "source": [
    "sample = model.sample(100)"
   ]
  },
  {
   "cell_type": "code",
   "execution_count": 29,
   "metadata": {},
   "outputs": [],
   "source": [
    "# Add some original columns\n",
    "sample['hospital_expire_flag'] = sample['deathtime'].apply(lambda x: 0 if pd.isna(x) else 1)"
   ]
  },
  {
   "cell_type": "code",
   "execution_count": 30,
   "metadata": {},
   "outputs": [
    {
     "data": {
      "text/html": [
       "<div>\n",
       "<style scoped>\n",
       "    .dataframe tbody tr th:only-of-type {\n",
       "        vertical-align: middle;\n",
       "    }\n",
       "\n",
       "    .dataframe tbody tr th {\n",
       "        vertical-align: top;\n",
       "    }\n",
       "\n",
       "    .dataframe thead th {\n",
       "        text-align: right;\n",
       "    }\n",
       "</style>\n",
       "<table border=\"1\" class=\"dataframe\">\n",
       "  <thead>\n",
       "    <tr style=\"text-align: right;\">\n",
       "      <th></th>\n",
       "      <th>subject_id</th>\n",
       "      <th>hadm_id</th>\n",
       "      <th>admittime</th>\n",
       "      <th>dischtime</th>\n",
       "      <th>deathtime</th>\n",
       "      <th>admission_type</th>\n",
       "      <th>admission_location</th>\n",
       "      <th>discharge_location</th>\n",
       "      <th>insurance</th>\n",
       "      <th>language</th>\n",
       "      <th>religion</th>\n",
       "      <th>marital_status</th>\n",
       "      <th>ethnicity</th>\n",
       "      <th>edregtime</th>\n",
       "      <th>edouttime</th>\n",
       "      <th>has_chartevents_data</th>\n",
       "      <th>hospital_expire_flag</th>\n",
       "    </tr>\n",
       "  </thead>\n",
       "  <tbody>\n",
       "    <tr>\n",
       "      <th>0</th>\n",
       "      <td>44726</td>\n",
       "      <td>193300</td>\n",
       "      <td>2150-06-01 19:33:00</td>\n",
       "      <td>2159-05-31 11:46:00</td>\n",
       "      <td>NaT</td>\n",
       "      <td>EMERGENCY</td>\n",
       "      <td>EMERGENCY ROOM ADMIT</td>\n",
       "      <td>HOME HEALTH CARE</td>\n",
       "      <td>Medicare</td>\n",
       "      <td>NaN</td>\n",
       "      <td>CATHOLIC</td>\n",
       "      <td>DIVORCED</td>\n",
       "      <td>WHITE</td>\n",
       "      <td>2106-11-23 06:27:00</td>\n",
       "      <td>NaT</td>\n",
       "      <td>0</td>\n",
       "      <td>0</td>\n",
       "    </tr>\n",
       "    <tr>\n",
       "      <th>1</th>\n",
       "      <td>9993</td>\n",
       "      <td>199589</td>\n",
       "      <td>2206-07-09 19:26:00</td>\n",
       "      <td>2123-08-06 05:51:00</td>\n",
       "      <td>NaT</td>\n",
       "      <td>EMERGENCY</td>\n",
       "      <td>TRANSFER FROM HOSP/EXTRAM</td>\n",
       "      <td>DEAD/EXPIRED</td>\n",
       "      <td>Private</td>\n",
       "      <td>ENGL</td>\n",
       "      <td>CATHOLIC</td>\n",
       "      <td>MARRIED</td>\n",
       "      <td>WHITE</td>\n",
       "      <td>NaT</td>\n",
       "      <td>2153-12-16 07:43:00</td>\n",
       "      <td>1</td>\n",
       "      <td>0</td>\n",
       "    </tr>\n",
       "    <tr>\n",
       "      <th>2</th>\n",
       "      <td>87417</td>\n",
       "      <td>164691</td>\n",
       "      <td>2138-08-28 10:03:00</td>\n",
       "      <td>2152-07-18 19:08:00</td>\n",
       "      <td>NaT</td>\n",
       "      <td>EMERGENCY</td>\n",
       "      <td>CLINIC REFERRAL/PREMATURE</td>\n",
       "      <td>SNF</td>\n",
       "      <td>Private</td>\n",
       "      <td>ENGL</td>\n",
       "      <td>PROTESTANT QUAKER</td>\n",
       "      <td>SINGLE</td>\n",
       "      <td>WHITE</td>\n",
       "      <td>2158-01-25 03:01:00</td>\n",
       "      <td>NaT</td>\n",
       "      <td>1</td>\n",
       "      <td>0</td>\n",
       "    </tr>\n",
       "    <tr>\n",
       "      <th>3</th>\n",
       "      <td>93062</td>\n",
       "      <td>160409</td>\n",
       "      <td>2155-07-20 10:52:00</td>\n",
       "      <td>2157-05-10 17:00:00</td>\n",
       "      <td>NaT</td>\n",
       "      <td>EMERGENCY</td>\n",
       "      <td>PHYS REFERRAL/NORMAL DELI</td>\n",
       "      <td>HOME HEALTH CARE</td>\n",
       "      <td>Medicaid</td>\n",
       "      <td>PTUN</td>\n",
       "      <td>CATHOLIC</td>\n",
       "      <td>NaN</td>\n",
       "      <td>WHITE</td>\n",
       "      <td>2152-12-19 05:05:00</td>\n",
       "      <td>NaT</td>\n",
       "      <td>1</td>\n",
       "      <td>0</td>\n",
       "    </tr>\n",
       "    <tr>\n",
       "      <th>4</th>\n",
       "      <td>46390</td>\n",
       "      <td>199589</td>\n",
       "      <td>2162-03-29 17:28:00</td>\n",
       "      <td>2151-05-02 03:23:00</td>\n",
       "      <td>NaT</td>\n",
       "      <td>EMERGENCY</td>\n",
       "      <td>PHYS REFERRAL/NORMAL DELI</td>\n",
       "      <td>HOME HEALTH CARE</td>\n",
       "      <td>Medicare</td>\n",
       "      <td>ENGL</td>\n",
       "      <td>CATHOLIC</td>\n",
       "      <td>NaN</td>\n",
       "      <td>WHITE</td>\n",
       "      <td>NaT</td>\n",
       "      <td>NaT</td>\n",
       "      <td>1</td>\n",
       "      <td>0</td>\n",
       "    </tr>\n",
       "  </tbody>\n",
       "</table>\n",
       "</div>"
      ],
      "text/plain": [
       "   subject_id  hadm_id           admittime           dischtime deathtime  \\\n",
       "0       44726   193300 2150-06-01 19:33:00 2159-05-31 11:46:00       NaT   \n",
       "1        9993   199589 2206-07-09 19:26:00 2123-08-06 05:51:00       NaT   \n",
       "2       87417   164691 2138-08-28 10:03:00 2152-07-18 19:08:00       NaT   \n",
       "3       93062   160409 2155-07-20 10:52:00 2157-05-10 17:00:00       NaT   \n",
       "4       46390   199589 2162-03-29 17:28:00 2151-05-02 03:23:00       NaT   \n",
       "\n",
       "  admission_type         admission_location discharge_location insurance  \\\n",
       "0      EMERGENCY       EMERGENCY ROOM ADMIT   HOME HEALTH CARE  Medicare   \n",
       "1      EMERGENCY  TRANSFER FROM HOSP/EXTRAM       DEAD/EXPIRED   Private   \n",
       "2      EMERGENCY  CLINIC REFERRAL/PREMATURE                SNF   Private   \n",
       "3      EMERGENCY  PHYS REFERRAL/NORMAL DELI   HOME HEALTH CARE  Medicaid   \n",
       "4      EMERGENCY  PHYS REFERRAL/NORMAL DELI   HOME HEALTH CARE  Medicare   \n",
       "\n",
       "  language           religion marital_status ethnicity           edregtime  \\\n",
       "0      NaN           CATHOLIC       DIVORCED     WHITE 2106-11-23 06:27:00   \n",
       "1     ENGL           CATHOLIC        MARRIED     WHITE                 NaT   \n",
       "2     ENGL  PROTESTANT QUAKER         SINGLE     WHITE 2158-01-25 03:01:00   \n",
       "3     PTUN           CATHOLIC            NaN     WHITE 2152-12-19 05:05:00   \n",
       "4     ENGL           CATHOLIC            NaN     WHITE                 NaT   \n",
       "\n",
       "            edouttime  has_chartevents_data  hospital_expire_flag  \n",
       "0                 NaT                     0                     0  \n",
       "1 2153-12-16 07:43:00                     1                     0  \n",
       "2                 NaT                     1                     0  \n",
       "3                 NaT                     1                     0  \n",
       "4                 NaT                     1                     0  "
      ]
     },
     "execution_count": 30,
     "metadata": {},
     "output_type": "execute_result"
    }
   ],
   "source": [
    "sample.head()"
   ]
  },
  {
   "cell_type": "code",
   "execution_count": 31,
   "metadata": {},
   "outputs": [],
   "source": [
    "sample.to_csv(\"test.csv\")"
   ]
  },
  {
   "cell_type": "code",
   "execution_count": 32,
   "metadata": {},
   "outputs": [],
   "source": [
    "train_data.to_csv(\"test.csv\")"
   ]
  },
  {
   "cell_type": "markdown",
   "metadata": {},
   "source": [
    "### Process the generated data"
   ]
  },
  {
   "cell_type": "markdown",
   "metadata": {},
   "source": [
    "---"
   ]
  },
  {
   "cell_type": "markdown",
   "metadata": {},
   "source": [
    "## Evaluate data"
   ]
  },
  {
   "cell_type": "code",
   "execution_count": 33,
   "metadata": {},
   "outputs": [],
   "source": [
    "from sdv.evaluation import evaluate"
   ]
  },
  {
   "cell_type": "code",
   "execution_count": 34,
   "metadata": {},
   "outputs": [
    {
     "data": {
      "text/plain": [
       "Index(['subject_id', 'hadm_id', 'admittime', 'dischtime', 'deathtime',\n",
       "       'admission_type', 'admission_location', 'discharge_location',\n",
       "       'insurance', 'language', 'religion', 'marital_status', 'ethnicity',\n",
       "       'edregtime', 'edouttime', 'has_chartevents_data'],\n",
       "      dtype='object')"
      ]
     },
     "execution_count": 34,
     "metadata": {},
     "output_type": "execute_result"
    }
   ],
   "source": [
    "train_data.columns"
   ]
  },
  {
   "cell_type": "code",
   "execution_count": 35,
   "metadata": {},
   "outputs": [
    {
     "data": {
      "text/plain": [
       "0.4374791858787666"
      ]
     },
     "execution_count": 35,
     "metadata": {},
     "output_type": "execute_result"
    }
   ],
   "source": [
    "evaluate(sample.drop(['hospital_expire_flag'], axis=1), train_data, metrics=['DiscreteKLDivergence'])"
   ]
  },
  {
   "cell_type": "code",
   "execution_count": 36,
   "metadata": {},
   "outputs": [
    {
     "data": {
      "text/plain": [
       "0.472312302044843"
      ]
     },
     "execution_count": 36,
     "metadata": {},
     "output_type": "execute_result"
    }
   ],
   "source": [
    "evaluate(sample.drop(['hospital_expire_flag'], axis=1), train_data, metrics=['ContinuousKLDivergence'])"
   ]
  },
  {
   "cell_type": "code",
   "execution_count": 37,
   "metadata": {},
   "outputs": [
    {
     "data": {
      "text/plain": [
       "0.6900597500181804"
      ]
     },
     "execution_count": 37,
     "metadata": {},
     "output_type": "execute_result"
    }
   ],
   "source": [
    "evaluate(sample.drop(['hospital_expire_flag'], axis=1), train_data)"
   ]
  },
  {
   "cell_type": "code",
   "execution_count": 38,
   "metadata": {},
   "outputs": [
    {
     "data": {
      "text/plain": [
       "EMERGENCY    72\n",
       "ELECTIVE     13\n",
       "NEWBORN      12\n",
       "URGENT        3\n",
       "Name: admission_type, dtype: int64"
      ]
     },
     "execution_count": 38,
     "metadata": {},
     "output_type": "execute_result"
    }
   ],
   "source": [
    "sample['admission_type'].value_counts()"
   ]
  },
  {
   "cell_type": "code",
   "execution_count": 39,
   "metadata": {},
   "outputs": [
    {
     "data": {
      "text/plain": [
       "<AxesSubplot:>"
      ]
     },
     "execution_count": 39,
     "metadata": {},
     "output_type": "execute_result"
    },
    {
     "data": {
      "image/png": "[encoded data removed]",
      "text/plain": [
       "<Figure size 432x288 with 1 Axes>"
      ]
     },
     "metadata": {
      "needs_background": "light"
     },
     "output_type": "display_data"
    }
   ],
   "source": [
    "sample['admission_location'].value_counts().plot.bar()"
   ]
  },
  {
   "cell_type": "code",
   "execution_count": 40,
   "metadata": {},
   "outputs": [
    {
     "data": {
      "text/plain": [
       "EMERGENCY    89\n",
       "ELECTIVE     17\n",
       "NEWBORN      13\n",
       "URGENT        3\n",
       "Name: admission_type, dtype: int64"
      ]
     },
     "execution_count": 40,
     "metadata": {},
     "output_type": "execute_result"
    }
   ],
   "source": [
    "train_data['admission_type'].value_counts()"
   ]
  },
  {
   "cell_type": "code",
   "execution_count": 41,
   "metadata": {},
   "outputs": [
    {
     "data": {
      "text/plain": [
       "<AxesSubplot:>"
      ]
     },
     "execution_count": 41,
     "metadata": {},
     "output_type": "execute_result"
    },
    {
     "data": {
      "image/png": "[encoded data removed]",
      "text/plain": [
       "<Figure size 432x288 with 1 Axes>"
      ]
     },
     "metadata": {
      "needs_background": "light"
     },
     "output_type": "display_data"
    }
   ],
   "source": [
    "train_data['admission_location'].value_counts().plot.bar()"
   ]
  },
  {
   "cell_type": "code",
   "execution_count": 42,
   "metadata": {},
   "outputs": [
    {
     "data": {
      "text/plain": [
       "<AxesSubplot:xlabel='admission_type', ylabel='admission_location'>"
      ]
     },
     "execution_count": 42,
     "metadata": {},
     "output_type": "execute_result"
    },
    {
     "data": {
      "image/png": "[encoded data removed]",
      "text/plain": [
       "<Figure size 432x288 with 1 Axes>"
      ]
     },
     "metadata": {
      "needs_background": "light"
     },
     "output_type": "display_data"
    }
   ],
   "source": [
    "sample.plot.scatter(x='admission_type',y='admission_location')"
   ]
  },
  {
   "cell_type": "code",
   "execution_count": 43,
   "metadata": {},
   "outputs": [
    {
     "data": {
      "text/plain": [
       "<AxesSubplot:xlabel='admission_type', ylabel='admission_location'>"
      ]
     },
     "execution_count": 43,
     "metadata": {},
     "output_type": "execute_result"
    },
    {
     "data": {
      "image/png": "[encoded data removed]",
      "text/plain": [
       "<Figure size 432x288 with 1 Axes>"
      ]
     },
     "metadata": {
      "needs_background": "light"
     },
     "output_type": "display_data"
    }
   ],
   "source": [
    "train_data.plot.scatter(x='admission_type',y='admission_location')"
   ]
  }
 ],
 "metadata": {
  "kernelspec": {
   "display_name": "Python 3.8.13 ('msc_project')",
   "language": "python",
   "name": "python3"
  },
  "language_info": {
   "codemirror_mode": {
    "name": "ipython",
    "version": 3
   },
   "file_extension": ".py",
   "mimetype": "text/x-python",
   "name": "python",
   "nbconvert_exporter": "python",
   "pygments_lexer": "ipython3",
   "version": "3.8.13"
  },
  "orig_nbformat": 4,
  "vscode": {
   "interpreter": {
    "hash": "e56015fb566b08f7af163d42c82cf08fa5d6db3fbaaffa0afaaff5a893fc0496"
   }
  }
 },
 "nbformat": 4,
 "nbformat_minor": 2
}
