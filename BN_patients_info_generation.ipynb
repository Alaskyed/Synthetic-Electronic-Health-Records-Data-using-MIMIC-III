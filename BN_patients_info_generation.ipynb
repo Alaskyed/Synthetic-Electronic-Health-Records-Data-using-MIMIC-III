{
 "cells": [
  {
   "cell_type": "code",
   "execution_count": 1,
   "metadata": {},
   "outputs": [],
   "source": [
    "# from google.colab import drive\n",
    "# drive.mount('/content/drive')"
   ]
  },
  {
   "cell_type": "code",
   "execution_count": 2,
   "metadata": {},
   "outputs": [],
   "source": [
    "# ! pip install pgmpy"
   ]
  },
  {
   "cell_type": "code",
   "execution_count": 3,
   "metadata": {},
   "outputs": [],
   "source": [
    "import pandas as pd\n",
    "import numpy as np"
   ]
  },
  {
   "cell_type": "markdown",
   "metadata": {},
   "source": [
    "## Time data discretisation"
   ]
  },
  {
   "cell_type": "code",
   "execution_count": 4,
   "metadata": {},
   "outputs": [],
   "source": [
    "def date_discretisation(date):\n",
    "    if not pd.isna(date):\n",
    "        # Do not use \"-\" as connector, because Pandas might read it as date or time!!\n",
    "        return str(date.quarter) + \"&\" + str(date.dayofweek)\n",
    "    else:\n",
    "        return \"Na\""
   ]
  },
  {
   "cell_type": "code",
   "execution_count": 5,
   "metadata": {},
   "outputs": [],
   "source": [
    "def datetime_discretisation(date):\n",
    "    if not pd.isna(date):\n",
    "        # Do not use \"-\" as connector, because Pandas might read it as date or time!!\n",
    "        return str(date.quarter) + \"&\" + str(date.dayofweek) + \"&\" + str(date.hour)\n",
    "    else:\n",
    "        return \"Na\""
   ]
  },
  {
   "cell_type": "code",
   "execution_count": 6,
   "metadata": {},
   "outputs": [],
   "source": [
    "date = pd.to_datetime('10/27/2044')"
   ]
  },
  {
   "cell_type": "code",
   "execution_count": 7,
   "metadata": {},
   "outputs": [
    {
     "data": {
      "text/plain": [
       "'4&3'"
      ]
     },
     "execution_count": 7,
     "metadata": {},
     "output_type": "execute_result"
    }
   ],
   "source": [
    "date_discretisation(date)"
   ]
  },
  {
   "cell_type": "code",
   "execution_count": 8,
   "metadata": {},
   "outputs": [
    {
     "data": {
      "text/plain": [
       "3"
      ]
     },
     "execution_count": 8,
     "metadata": {},
     "output_type": "execute_result"
    }
   ],
   "source": [
    "date.day_of_week"
   ]
  },
  {
   "cell_type": "markdown",
   "metadata": {},
   "source": [
    "## Read Tempdatasets"
   ]
  },
  {
   "cell_type": "code",
   "execution_count": 9,
   "metadata": {},
   "outputs": [],
   "source": [
    "# read csv file as dataframe, and drop ROW_ID column\n",
    "def read_csv_no_rowid(file_path):\n",
    "    df = pd.read_csv(file_path)\n",
    "    df.drop([\"Unnamed: 0\", 'row_id'], axis=1, inplace=True)\n",
    "\n",
    "    return df"
   ]
  },
  {
   "cell_type": "code",
   "execution_count": 10,
   "metadata": {},
   "outputs": [],
   "source": [
    "# check NaN value\n",
    "\n",
    "def nan_count(df):\n",
    "    print(\"Total columns: \" + str(len(df.columns)))\n",
    "    print(\"Total rows: \" + str(len(df)))\n",
    "    print(\"--------------\")\n",
    "    print(df.isnull().sum())"
   ]
  },
  {
   "cell_type": "markdown",
   "metadata": {},
   "source": [
    "### Patients"
   ]
  },
  {
   "cell_type": "code",
   "execution_count": 11,
   "metadata": {},
   "outputs": [],
   "source": [
    "random_patients_df = read_csv_no_rowid(\"../temp_sets/patients.csv\")"
   ]
  },
  {
   "cell_type": "code",
   "execution_count": 12,
   "metadata": {},
   "outputs": [],
   "source": [
    "# Drop useless colums\n",
    "random_patients_df.drop(['dod', 'expire_flag'], axis=1, inplace=True)"
   ]
  },
  {
   "cell_type": "code",
   "execution_count": 13,
   "metadata": {},
   "outputs": [],
   "source": [
    "# Transfer some date type\n",
    "\n",
    "random_patients_df['dob'] = pd.to_datetime(random_patients_df['dob'])\n",
    "# random_patients_df['DOD'] = pd.to_datetime(random_patients_df['DOD'])\n",
    "random_patients_df['dod_hosp'] = pd.to_datetime(random_patients_df['dod_hosp'])\n",
    "random_patients_df['dod_ssn'] = pd.to_datetime(random_patients_df['dod_ssn'])"
   ]
  },
  {
   "cell_type": "code",
   "execution_count": 14,
   "metadata": {},
   "outputs": [
    {
     "name": "stdout",
     "output_type": "stream",
     "text": [
      "Total columns: 5\n",
      "Total rows: 1000\n",
      "--------------\n",
      "subject_id      0\n",
      "gender          0\n",
      "dob             0\n",
      "dod_hosp      774\n",
      "dod_ssn       702\n",
      "dtype: int64\n"
     ]
    }
   ],
   "source": [
    "nan_count(random_patients_df)"
   ]
  },
  {
   "cell_type": "code",
   "execution_count": 15,
   "metadata": {},
   "outputs": [],
   "source": [
    "random_patients_df.loc[:, 'dob'] = random_patients_df.loc[:, 'dob'].apply(date_discretisation)\n",
    "random_patients_df.loc[:, 'dod_hosp'] = random_patients_df.loc[:, 'dod_hosp'].apply(date_discretisation)\n",
    "random_patients_df.loc[:, 'dod_ssn'] = random_patients_df.loc[:, 'dod_ssn'].apply(date_discretisation)"
   ]
  },
  {
   "cell_type": "code",
   "execution_count": 16,
   "metadata": {},
   "outputs": [],
   "source": [
    "# random_patients_df['dob'].fillna(value=nan_time, inplace=True)\n",
    "# random_patients_df['dod_hosp'].fillna(value=nan_time, inplace=True)\n",
    "# random_patients_df['dod_ssn'].fillna(value=nan_time, inplace=True)"
   ]
  },
  {
   "cell_type": "code",
   "execution_count": 17,
   "metadata": {},
   "outputs": [
    {
     "name": "stdout",
     "output_type": "stream",
     "text": [
      "Total columns: 5\n",
      "Total rows: 1000\n",
      "--------------\n",
      "subject_id    0\n",
      "gender        0\n",
      "dob           0\n",
      "dod_hosp      0\n",
      "dod_ssn       0\n",
      "dtype: int64\n"
     ]
    }
   ],
   "source": [
    "nan_count(random_patients_df)"
   ]
  },
  {
   "cell_type": "markdown",
   "metadata": {},
   "source": [
    "### Admissions\n",
    "\n",
    "Note: the 'deathtime' in admission table cannot be dropped, as this column includes the exact time."
   ]
  },
  {
   "cell_type": "code",
   "execution_count": 18,
   "metadata": {},
   "outputs": [],
   "source": [
    "admissions_sample_df = read_csv_no_rowid(\"../temp_sets/admissions.csv\")"
   ]
  },
  {
   "cell_type": "code",
   "execution_count": 19,
   "metadata": {},
   "outputs": [],
   "source": [
    "admissions_sample_df.drop(['diagnosis', 'hospital_expire_flag'], axis=1, inplace=True)"
   ]
  },
  {
   "cell_type": "code",
   "execution_count": 20,
   "metadata": {},
   "outputs": [],
   "source": [
    "admissions_sample_df['admittime'] = pd.to_datetime(admissions_sample_df['admittime'])\n",
    "admissions_sample_df['dischtime'] = pd.to_datetime(admissions_sample_df['dischtime'])\n",
    "admissions_sample_df['deathtime'] = pd.to_datetime(admissions_sample_df['deathtime'])\n",
    "admissions_sample_df['edregtime'] = pd.to_datetime(admissions_sample_df['edregtime'])\n",
    "admissions_sample_df['edouttime'] = pd.to_datetime(admissions_sample_df['edouttime'])"
   ]
  },
  {
   "cell_type": "code",
   "execution_count": 21,
   "metadata": {},
   "outputs": [
    {
     "data": {
      "text/plain": [
       "subject_id                       int64\n",
       "hadm_id                          int64\n",
       "admittime               datetime64[ns]\n",
       "dischtime               datetime64[ns]\n",
       "deathtime               datetime64[ns]\n",
       "admission_type                  object\n",
       "admission_location              object\n",
       "discharge_location              object\n",
       "insurance                       object\n",
       "language                        object\n",
       "religion                        object\n",
       "marital_status                  object\n",
       "ethnicity                       object\n",
       "edregtime               datetime64[ns]\n",
       "edouttime               datetime64[ns]\n",
       "has_chartevents_data             int64\n",
       "dtype: object"
      ]
     },
     "execution_count": 21,
     "metadata": {},
     "output_type": "execute_result"
    }
   ],
   "source": [
    "admissions_sample_df.dtypes"
   ]
  },
  {
   "cell_type": "code",
   "execution_count": 22,
   "metadata": {},
   "outputs": [],
   "source": [
    "admissions_sample_df.loc[:, 'admittime'] = admissions_sample_df.loc[:, 'admittime'].apply(datetime_discretisation)\n",
    "admissions_sample_df.loc[:, 'dischtime'] = admissions_sample_df.loc[:, 'dischtime'].apply(datetime_discretisation)\n",
    "admissions_sample_df.loc[:, 'deathtime'] = admissions_sample_df.loc[:, 'deathtime'].apply(datetime_discretisation)\n",
    "admissions_sample_df.loc[:, 'edregtime'] = admissions_sample_df.loc[:, 'edregtime'].apply(datetime_discretisation)\n",
    "admissions_sample_df.loc[:, 'edouttime'] = admissions_sample_df.loc[:, 'edouttime'].apply(datetime_discretisation)"
   ]
  },
  {
   "cell_type": "code",
   "execution_count": 23,
   "metadata": {},
   "outputs": [],
   "source": [
    "admissions_sample_df['language'].fillna(value='unknow', inplace=True)\n",
    "admissions_sample_df['marital_status'].fillna(value='unknow', inplace=True)\n",
    "admissions_sample_df['religion'].fillna(value='unknow', inplace=True)\n",
    "# admissions_sample_df['deathtime'].fillna(value=nan_time, inplace=True)\n",
    "# admissions_sample_df['edregtime'].fillna(value=nan_time, inplace=True)\n",
    "# admissions_sample_df['edouttime'].fillna(value=nan_time, inplace=True)"
   ]
  },
  {
   "cell_type": "code",
   "execution_count": 24,
   "metadata": {},
   "outputs": [
    {
     "name": "stdout",
     "output_type": "stream",
     "text": [
      "Total columns: 16\n",
      "Total rows: 1289\n",
      "--------------\n",
      "subject_id              0\n",
      "hadm_id                 0\n",
      "admittime               0\n",
      "dischtime               0\n",
      "deathtime               0\n",
      "admission_type          0\n",
      "admission_location      0\n",
      "discharge_location      0\n",
      "insurance               0\n",
      "language                0\n",
      "religion                0\n",
      "marital_status          0\n",
      "ethnicity               0\n",
      "edregtime               0\n",
      "edouttime               0\n",
      "has_chartevents_data    0\n",
      "dtype: int64\n"
     ]
    }
   ],
   "source": [
    "nan_count(admissions_sample_df)"
   ]
  },
  {
   "cell_type": "markdown",
   "metadata": {},
   "source": [
    "### Callout"
   ]
  },
  {
   "cell_type": "code",
   "execution_count": 25,
   "metadata": {},
   "outputs": [],
   "source": [
    "callout_sample_df = read_csv_no_rowid(\"../temp_sets/callout.csv\")"
   ]
  },
  {
   "cell_type": "code",
   "execution_count": 26,
   "metadata": {},
   "outputs": [],
   "source": [
    "callout_sample_df.drop(['submit_careunit', 'firstreservationtime', 'currentreservationtime'], axis=1, inplace=True)"
   ]
  },
  {
   "cell_type": "code",
   "execution_count": 27,
   "metadata": {},
   "outputs": [],
   "source": [
    "callout_sample_df['createtime'] = pd.to_datetime(callout_sample_df['createtime'])\n",
    "callout_sample_df['updatetime'] = pd.to_datetime(callout_sample_df['updatetime'])\n",
    "callout_sample_df['acknowledgetime'] = pd.to_datetime(callout_sample_df['acknowledgetime'])\n",
    "callout_sample_df['outcometime'] = pd.to_datetime(callout_sample_df['outcometime'])"
   ]
  },
  {
   "cell_type": "code",
   "execution_count": 28,
   "metadata": {},
   "outputs": [],
   "source": [
    "callout_sample_df.loc[:, 'createtime'] = callout_sample_df.loc[:, 'createtime'].apply(datetime_discretisation)\n",
    "callout_sample_df.loc[:, 'updatetime'] = callout_sample_df.loc[:, 'updatetime'].apply(datetime_discretisation)\n",
    "callout_sample_df.loc[:, 'acknowledgetime'] = callout_sample_df.loc[:, 'acknowledgetime'].apply(datetime_discretisation)\n",
    "callout_sample_df.loc[:, 'outcometime'] = callout_sample_df.loc[:, 'outcometime'].apply(datetime_discretisation)"
   ]
  },
  {
   "cell_type": "code",
   "execution_count": 29,
   "metadata": {},
   "outputs": [],
   "source": [
    "callout_sample_df['discharge_wardid'].fillna(value=100, inplace=True)\n",
    "# callout_sample_df['acknowledgetime'].fillna(value=nan_time, inplace=True)"
   ]
  },
  {
   "cell_type": "code",
   "execution_count": 30,
   "metadata": {},
   "outputs": [
    {
     "name": "stdout",
     "output_type": "stream",
     "text": [
      "Total columns: 20\n",
      "Total rows: 807\n",
      "--------------\n",
      "subject_id            0\n",
      "hadm_id               0\n",
      "submit_wardid         0\n",
      "curr_wardid           0\n",
      "curr_careunit         0\n",
      "callout_wardid        0\n",
      "callout_service       0\n",
      "request_tele          0\n",
      "request_resp          0\n",
      "request_cdiff         0\n",
      "request_mrsa          0\n",
      "request_vre           0\n",
      "callout_status        0\n",
      "callout_outcome       0\n",
      "discharge_wardid      0\n",
      "acknowledge_status    0\n",
      "createtime            0\n",
      "updatetime            0\n",
      "acknowledgetime       0\n",
      "outcometime           0\n",
      "dtype: int64\n"
     ]
    }
   ],
   "source": [
    "nan_count(callout_sample_df)"
   ]
  },
  {
   "cell_type": "markdown",
   "metadata": {},
   "source": [
    "### ICUstays"
   ]
  },
  {
   "cell_type": "code",
   "execution_count": 31,
   "metadata": {},
   "outputs": [],
   "source": [
    "icustays_sample_df = read_csv_no_rowid(\"../temp_sets/icustays.csv\")"
   ]
  },
  {
   "cell_type": "code",
   "execution_count": 32,
   "metadata": {},
   "outputs": [],
   "source": [
    "icustays_sample_df.drop(['los'], axis=1, inplace=True)"
   ]
  },
  {
   "cell_type": "code",
   "execution_count": 33,
   "metadata": {},
   "outputs": [],
   "source": [
    "icustays_sample_df['intime'] = pd.to_datetime(icustays_sample_df['intime'])\n",
    "icustays_sample_df['outtime'] = pd.to_datetime(icustays_sample_df['outtime'])"
   ]
  },
  {
   "cell_type": "code",
   "execution_count": 34,
   "metadata": {},
   "outputs": [],
   "source": [
    "icustays_sample_df.loc[:, 'intime'] = icustays_sample_df.loc[:, 'intime'].apply(datetime_discretisation)\n",
    "icustays_sample_df.loc[:, 'outtime'] = icustays_sample_df.loc[:, 'outtime'].apply(datetime_discretisation)"
   ]
  },
  {
   "cell_type": "code",
   "execution_count": 35,
   "metadata": {},
   "outputs": [
    {
     "name": "stdout",
     "output_type": "stream",
     "text": [
      "Total columns: 10\n",
      "Total rows: 1342\n",
      "--------------\n",
      "subject_id        0\n",
      "hadm_id           0\n",
      "icustay_id        0\n",
      "dbsource          0\n",
      "first_careunit    0\n",
      "last_careunit     0\n",
      "first_wardid      0\n",
      "last_wardid       0\n",
      "intime            0\n",
      "outtime           0\n",
      "dtype: int64\n"
     ]
    }
   ],
   "source": [
    "nan_count(icustays_sample_df)"
   ]
  },
  {
   "cell_type": "markdown",
   "metadata": {},
   "source": [
    "---"
   ]
  },
  {
   "cell_type": "markdown",
   "metadata": {},
   "source": [
    "## Combine samples"
   ]
  },
  {
   "cell_type": "code",
   "execution_count": 37,
   "metadata": {},
   "outputs": [],
   "source": [
    "patients_df = pd.merge(random_patients_df, admissions_sample_df, on=['subject_id'], how='inner')"
   ]
  },
  {
   "cell_type": "code",
   "execution_count": 38,
   "metadata": {},
   "outputs": [],
   "source": [
    "patients_df = pd.merge(patients_df, callout_sample_df, on=['subject_id', 'hadm_id'], how='inner')"
   ]
  },
  {
   "cell_type": "code",
   "execution_count": 39,
   "metadata": {},
   "outputs": [],
   "source": [
    "patients_df = pd.merge(patients_df, icustays_sample_df, on=['subject_id', 'hadm_id'], how='inner')"
   ]
  },
  {
   "cell_type": "code",
   "execution_count": 40,
   "metadata": {},
   "outputs": [
    {
     "data": {
      "text/plain": [
       "Index(['subject_id', 'gender', 'dob', 'dod_hosp', 'dod_ssn', 'hadm_id',\n",
       "       'admittime', 'dischtime', 'deathtime', 'admission_type',\n",
       "       'admission_location', 'discharge_location', 'insurance', 'language',\n",
       "       'religion', 'marital_status', 'ethnicity', 'edregtime', 'edouttime',\n",
       "       'has_chartevents_data', 'submit_wardid', 'curr_wardid', 'curr_careunit',\n",
       "       'callout_wardid', 'callout_service', 'request_tele', 'request_resp',\n",
       "       'request_cdiff', 'request_mrsa', 'request_vre', 'callout_status',\n",
       "       'callout_outcome', 'discharge_wardid', 'acknowledge_status',\n",
       "       'createtime', 'updatetime', 'acknowledgetime', 'outcometime',\n",
       "       'icustay_id', 'dbsource', 'first_careunit', 'last_careunit',\n",
       "       'first_wardid', 'last_wardid', 'intime', 'outtime'],\n",
       "      dtype='object')"
      ]
     },
     "execution_count": 40,
     "metadata": {},
     "output_type": "execute_result"
    }
   ],
   "source": [
    "patients_df.columns"
   ]
  },
  {
   "cell_type": "code",
   "execution_count": 41,
   "metadata": {},
   "outputs": [
    {
     "name": "stdout",
     "output_type": "stream",
     "text": [
      "Total columns: 46\n",
      "Total rows: 992\n",
      "--------------\n",
      "subject_id              0\n",
      "gender                  0\n",
      "dob                     0\n",
      "dod_hosp                0\n",
      "dod_ssn                 0\n",
      "hadm_id                 0\n",
      "admittime               0\n",
      "dischtime               0\n",
      "deathtime               0\n",
      "admission_type          0\n",
      "admission_location      0\n",
      "discharge_location      0\n",
      "insurance               0\n",
      "language                0\n",
      "religion                0\n",
      "marital_status          0\n",
      "ethnicity               0\n",
      "edregtime               0\n",
      "edouttime               0\n",
      "has_chartevents_data    0\n",
      "submit_wardid           0\n",
      "curr_wardid             0\n",
      "curr_careunit           0\n",
      "callout_wardid          0\n",
      "callout_service         0\n",
      "request_tele            0\n",
      "request_resp            0\n",
      "request_cdiff           0\n",
      "request_mrsa            0\n",
      "request_vre             0\n",
      "callout_status          0\n",
      "callout_outcome         0\n",
      "discharge_wardid        0\n",
      "acknowledge_status      0\n",
      "createtime              0\n",
      "updatetime              0\n",
      "acknowledgetime         0\n",
      "outcometime             0\n",
      "icustay_id              0\n",
      "dbsource                0\n",
      "first_careunit          0\n",
      "last_careunit           0\n",
      "first_wardid            0\n",
      "last_wardid             0\n",
      "intime                  0\n",
      "outtime                 0\n",
      "dtype: int64\n"
     ]
    }
   ],
   "source": [
    "nan_count(patients_df)"
   ]
  },
  {
   "cell_type": "code",
   "execution_count": 42,
   "metadata": {},
   "outputs": [],
   "source": [
    "# patients_df = pd.merge(patients_df, services_sample_df, on=['subject_id', 'hadm_id'], how='outer')\n",
    "# patients_df = pd.merge(patients_df, transfers_sample_df.drop(['icustay_id', 'dbsource', 'curr_careunit', 'curr_wardid', \\\n",
    "#                                                 'intime', 'outtime', 'los'], axis=1), on=['subject_id', 'hadm_id'], how='outer')\n",
    "# patients_df.fillna(value=\"Na\", inplace=True)"
   ]
  },
  {
   "cell_type": "code",
   "execution_count": 44,
   "metadata": {},
   "outputs": [],
   "source": [
    "patients_df.to_csv(\"patients_info.csv\")"
   ]
  },
  {
   "cell_type": "code",
   "execution_count": 45,
   "metadata": {},
   "outputs": [],
   "source": [
    "patients_df.drop(['subject_id', 'hadm_id'], axis=1, inplace=True)"
   ]
  },
  {
   "cell_type": "markdown",
   "metadata": {},
   "source": [
    "---"
   ]
  },
  {
   "cell_type": "markdown",
   "metadata": {},
   "source": [
    "##  Build Network"
   ]
  },
  {
   "cell_type": "code",
   "execution_count": 46,
   "metadata": {},
   "outputs": [
    {
     "data": {
      "application/vnd.jupyter.widget-view+json": {
       "model_id": "28115be11de541e4a940333cccf83880",
       "version_major": 2,
       "version_minor": 0
      },
      "text/plain": [
       "  0%|          | 0/1000000 [00:00<?, ?it/s]"
      ]
     },
     "metadata": {},
     "output_type": "display_data"
    },
    {
     "name": "stdout",
     "output_type": "stream",
     "text": [
      "[('gender', 'religion'), ('dob', 'dischtime'), ('dob', 'gender'), ('dob', 'religion'), ('dod_hosp', 'discharge_location'), ('dod_hosp', 'insurance'), ('dod_hosp', 'edouttime'), ('dod_ssn', 'language'), ('dod_ssn', 'edouttime'), ('dod_ssn', 'gender'), ('admittime', 'intime'), ('dischtime', 'admittime'), ('deathtime', 'dod_ssn'), ('deathtime', 'dod_hosp'), ('deathtime', 'ethnicity'), ('deathtime', 'discharge_wardid'), ('deathtime', 'discharge_location'), ('deathtime', 'first_wardid'), ('deathtime', 'edouttime'), ('admission_type', 'admission_location'), ('admission_type', 'marital_status'), ('admission_type', 'discharge_location'), ('admission_type', 'dob'), ('admission_location', 'dbsource'), ('admission_location', 'edouttime'), ('discharge_location', 'dischtime'), ('insurance', 'marital_status'), ('insurance', 'request_mrsa'), ('language', 'dob'), ('language', 'insurance'), ('language', 'edouttime'), ('language', 'gender'), ('marital_status', 'dob'), ('marital_status', 'gender'), ('marital_status', 'dischtime'), ('ethnicity', 'insurance'), ('ethnicity', 'marital_status'), ('ethnicity', 'admission_location'), ('edregtime', 'dischtime'), ('edregtime', 'admittime'), ('edouttime', 'edregtime'), ('submit_wardid', 'discharge_wardid'), ('curr_careunit', 'last_careunit'), ('curr_careunit', 'submit_wardid'), ('callout_wardid', 'callout_service'), ('callout_wardid', 'admission_type'), ('callout_service', 'curr_careunit'), ('request_tele', 'request_mrsa'), ('request_tele', 'admission_type'), ('request_tele', 'createtime'), ('request_tele', 'updatetime'), ('request_cdiff', 'ethnicity'), ('request_cdiff', 'discharge_location'), ('request_cdiff', 'dod_hosp'), ('request_cdiff', 'first_wardid'), ('request_cdiff', 'callout_wardid'), ('request_cdiff', 'religion'), ('request_mrsa', 'admission_type'), ('request_vre', 'request_mrsa'), ('request_vre', 'discharge_location'), ('request_vre', 'insurance'), ('request_vre', 'ethnicity'), ('request_vre', 'dob'), ('request_vre', 'edouttime'), ('request_vre', 'religion'), ('callout_outcome', 'request_mrsa'), ('callout_outcome', 'createtime'), ('discharge_wardid', 'curr_wardid'), ('discharge_wardid', 'callout_outcome'), ('acknowledge_status', 'deathtime'), ('acknowledge_status', 'request_tele'), ('acknowledge_status', 'curr_careunit'), ('createtime', 'updatetime'), ('updatetime', 'acknowledgetime'), ('updatetime', 'outcometime'), ('first_careunit', 'first_wardid'), ('first_careunit', 'intime'), ('last_careunit', 'first_careunit'), ('last_careunit', 'last_wardid'), ('last_careunit', 'request_tele'), ('first_wardid', 'last_wardid'), ('last_wardid', 'submit_wardid'), ('intime', 'icustay_id'), ('intime', 'outtime'), ('outtime', 'createtime')]\n"
     ]
    }
   ],
   "source": [
    "from pgmpy.estimators import HillClimbSearch\n",
    "\n",
    "hc = HillClimbSearch(patients_df.loc[0:50, :])\n",
    "best_model = hc.estimate()\n",
    "print(best_model.edges())\n",
    "edges = best_model.edges()"
   ]
  },
  {
   "cell_type": "markdown",
   "metadata": {},
   "source": [
    "[('subject_id', 'dischtime'), ('subject_id', 'gender'), ('subject_id', 'religion'), ('dob', 'subject_id'), ('dod_hosp', 'discharge_location'), ('dod_hosp', 'insurance'), ('dod_hosp', 'edouttime'), ('dod_hosp', 'subject_id'), ('dod_ssn', 'language'), ('dod_ssn', 'edouttime'), ('dod_ssn', 'subject_id'), ('hadm_id', 'icustay_id'), ('admittime', 'hadm_id'), ('dischtime', 'admittime'), ('deathtime', 'dod_ssn'), ('deathtime', 'dod_hosp'), ('deathtime', 'ethnicity'), ('deathtime', 'discharge_wardid'), ('deathtime', 'discharge_location'), ('deathtime', 'first_wardid'), ('deathtime', 'edouttime'), ('admission_type', 'admission_location'), ('admission_type', 'marital_status'), ('admission_type', 'discharge_location'), ('admission_type', 'dob'), ('admission_location', 'dbsource'), ('admission_location', 'edouttime'), ('discharge_location', 'dischtime'), ('insurance', 'marital_status'), ('insurance', 'request_mrsa'), ('language', 'dob'), ('language', 'insurance'), ('language', 'edouttime'), ('language', 'subject_id'), ('marital_status', 'dob'), ('ethnicity', 'insurance'), ('ethnicity', 'marital_status'), ('ethnicity', 'admission_location'), ('edregtime', 'admittime'), ('edouttime', 'edregtime'), ('edouttime', 'dischtime'), ('edouttime', 'hadm_id'), ('submit_wardid', 'discharge_wardid'), ('curr_careunit', 'submit_wardid'), ('callout_wardid', 'callout_service'), ('callout_wardid', 'admission_type'), ('callout_service', 'last_careunit'), ('request_tele', 'request_mrsa'), ('request_tele', 'admission_type'), ('request_tele', 'createtime'), ('request_tele', 'updatetime'), ('request_cdiff', 'ethnicity'), ('request_cdiff', 'discharge_location'), ('request_cdiff', 'dod_hosp'), ('request_cdiff', 'first_wardid'), ('request_cdiff', 'callout_wardid'), ('request_mrsa', 'admission_type'), ('request_vre', 'request_mrsa'), ('request_vre', 'discharge_location'), ('request_vre', 'insurance'), ('request_vre', 'ethnicity'), ('request_vre', 'dob'), ('request_vre', 'edouttime'), ('request_vre', 'subject_id'), ('callout_outcome', 'request_mrsa'), ('callout_outcome', 'createtime'), ('discharge_wardid', 'curr_wardid'), ('discharge_wardid', 'callout_outcome'), ('acknowledge_status', 'deathtime'), ('acknowledge_status', 'request_tele'), ('acknowledge_status', 'last_careunit'), ('createtime', 'updatetime'), ('updatetime', 'acknowledgetime'), ('updatetime', 'outcometime'), ('icustay_id', 'intime'), ('first_careunit', 'first_wardid'), ('last_careunit', 'first_careunit'), ('last_careunit', 'curr_careunit'), ('last_careunit', 'last_wardid'), ('last_careunit', 'request_tele'), ('last_careunit', 'icustay_id'), ('first_wardid', 'last_wardid'), ('last_wardid', 'submit_wardid'), ('intime', 'outtime'), ('outtime', 'createtime')]"
   ]
  },
  {
   "cell_type": "code",
   "execution_count": null,
   "metadata": {},
   "outputs": [],
   "source": [
    "# from pgmpy.estimators import MmhcEstimator\n",
    "# from pgmpy.estimators import BDeuScore\n",
    "# from pgmpy.estimators import HillClimbSearch \n",
    "# from pgmpy.models import BayesianNetwork\n",
    "\n",
    "# mmhc = MmhcEstimator(patients_df.loc[0:30, :])\n",
    "# skeleton = mmhc.mmpc()\n",
    "# print(\"Part 1) Skeleton: \", skeleton.edges())\n",
    "\n",
    "# hc = HillClimbSearch(patients_df.loc[0:30, :])\n",
    "# model = hc.estimate(tabu_length=10, white_list=skeleton.to_directed().edges())\n",
    "# print(\"Part 2) Model:    \", model.edges())"
   ]
  },
  {
   "cell_type": "code",
   "execution_count": null,
   "metadata": {},
   "outputs": [],
   "source": [
    "# edges = [('subject_id', 'dischtime'), ('subject_id', 'gender'), ('subject_id', 'religion'), ('dob', 'subject_id'), ('dod_hosp', 'discharge_location'), ('dod_hosp', 'insurance'), ('dod_hosp', 'edouttime'), ('dod_hosp', 'subject_id'), ('dod_ssn', 'language'), ('dod_ssn', 'edouttime'), ('dod_ssn', 'subject_id'), ('hadm_id', 'icustay_id'), ('admittime', 'hadm_id'), ('dischtime', 'admittime'), ('deathtime', 'dod_ssn'), ('deathtime', 'dod_hosp'), ('deathtime', 'ethnicity'), ('deathtime', 'discharge_wardid'), ('deathtime', 'discharge_location'), ('deathtime', 'first_wardid'), ('deathtime', 'edouttime'), ('admission_type', 'admission_location'), ('admission_type', 'marital_status'), ('admission_type', 'discharge_location'), ('admission_type', 'dob'), ('admission_location', 'dbsource'), ('admission_location', 'edouttime'), ('discharge_location', 'dischtime'), ('insurance', 'marital_status'), ('insurance', 'request_mrsa'), ('language', 'dob'), ('language', 'insurance'), ('language', 'edouttime'), ('language', 'subject_id'), ('marital_status', 'dob'), ('ethnicity', 'insurance'), ('ethnicity', 'marital_status'), ('ethnicity', 'admission_location'), ('edregtime', 'admittime'), ('edouttime', 'edregtime'), ('edouttime', 'dischtime'), ('edouttime', 'hadm_id'), ('submit_wardid', 'discharge_wardid'), ('curr_careunit', 'submit_wardid'), ('callout_wardid', 'callout_service'), ('callout_wardid', 'admission_type'), ('callout_service', 'last_careunit'), ('request_tele', 'request_mrsa'), ('request_tele', 'admission_type'), ('request_tele', 'createtime'), ('request_tele', 'updatetime'), ('request_cdiff', 'ethnicity'), ('request_cdiff', 'discharge_location'), ('request_cdiff', 'dod_hosp'), ('request_cdiff', 'first_wardid'), ('request_cdiff', 'callout_wardid'), ('request_mrsa', 'admission_type'), ('request_vre', 'request_mrsa'), ('request_vre', 'discharge_location'), ('request_vre', 'insurance'), ('request_vre', 'ethnicity'), ('request_vre', 'dob'), ('request_vre', 'edouttime'), ('request_vre', 'subject_id'), ('callout_outcome', 'request_mrsa'), ('callout_outcome', 'createtime'), ('discharge_wardid', 'curr_wardid'), ('discharge_wardid', 'callout_outcome'), ('acknowledge_status', 'deathtime'), ('acknowledge_status', 'request_tele'), ('acknowledge_status', 'last_careunit'), ('createtime', 'updatetime'), ('updatetime', 'acknowledgetime'), ('updatetime', 'outcometime'), ('icustay_id', 'intime'), ('first_careunit', 'first_wardid'), ('last_careunit', 'first_careunit'), ('last_careunit', 'curr_careunit'), ('last_careunit', 'last_wardid'), ('last_careunit', 'request_tele'), ('last_careunit', 'icustay_id'), ('first_wardid', 'last_wardid'), ('last_wardid', 'submit_wardid'), ('intime', 'outtime'), ('outtime', 'createtime')]"
   ]
  },
  {
   "cell_type": "code",
   "execution_count": 51,
   "metadata": {},
   "outputs": [],
   "source": [
    "from pgmpy.models import BayesianNetwork\n",
    "from pgmpy.estimators import BayesianEstimator\n",
    "\n",
    "patients_info_model = BayesianNetwork(edges)"
   ]
  },
  {
   "cell_type": "code",
   "execution_count": 52,
   "metadata": {},
   "outputs": [
    {
     "data": {
      "text/plain": [
       "85"
      ]
     },
     "execution_count": 52,
     "metadata": {},
     "output_type": "execute_result"
    }
   ],
   "source": [
    "len(edges)"
   ]
  },
  {
   "cell_type": "code",
   "execution_count": 53,
   "metadata": {},
   "outputs": [],
   "source": [
    "patients_info_model.fit(patients_df.loc[:500, :], estimator=BayesianEstimator, prior_type=\"BDeu\", n_jobs=8) # default equivalent_sample_size=5"
   ]
  },
  {
   "cell_type": "markdown",
   "metadata": {},
   "source": [
    "## Generation test"
   ]
  },
  {
   "cell_type": "code",
   "execution_count": 54,
   "metadata": {},
   "outputs": [
    {
     "data": {
      "text/plain": [
       "(2, 28, 27, 15, 7)"
      ]
     },
     "execution_count": 54,
     "metadata": {},
     "output_type": "execute_result"
    }
   ],
   "source": [
    "patients_info_model.get_cpds()[0].values.shape"
   ]
  },
  {
   "cell_type": "code",
   "execution_count": 55,
   "metadata": {},
   "outputs": [],
   "source": [
    "# patients_info_model.fit_update(patients_df.loc[101:200, list(patients_info_model.nodes)])"
   ]
  },
  {
   "cell_type": "code",
   "execution_count": 56,
   "metadata": {},
   "outputs": [],
   "source": [
    "# patients_info_model.save(filename=\"patients_info_model.bif\", filetype='bif')"
   ]
  },
  {
   "cell_type": "code",
   "execution_count": 57,
   "metadata": {},
   "outputs": [
    {
     "data": {
      "application/vnd.jupyter.widget-view+json": {
       "model_id": "c4bd28f1eafb484bb8a2ada9811ffc30",
       "version_major": 2,
       "version_minor": 0
      },
      "text/plain": [
       "  0%|          | 0/41 [00:00<?, ?it/s]"
      ]
     },
     "metadata": {},
     "output_type": "display_data"
    },
    {
     "name": "stderr",
     "output_type": "stream",
     "text": [
      "d:\\Environment\\anaconda3\\envs\\msc_project\\lib\\site-packages\\pgmpy\\utils\\mathext.py:83: UserWarning: Probability values don't exactly sum to 1. Differ by: 1.1102230246251565e-16. Adjusting values.\n",
      "  warn(\n"
     ]
    },
    {
     "ename": "KeyboardInterrupt",
     "evalue": "",
     "output_type": "error",
     "traceback": [
      "\u001b[1;31m---------------------------------------------------------------------------\u001b[0m",
      "\u001b[1;31mKeyboardInterrupt\u001b[0m                         Traceback (most recent call last)",
      "\u001b[1;32mf:\\MSc Project\\Synthetic-Electronic-Health-Records-Data-using-MIMIC-III\\patients_info_generation.ipynb Cell 65\u001b[0m in \u001b[0;36m<cell line: 1>\u001b[1;34m()\u001b[0m\n\u001b[1;32m----> <a href='vscode-notebook-cell:/f%3A/MSc%20Project/Synthetic-Electronic-Health-Records-Data-using-MIMIC-III/patients_info_generation.ipynb#ch0000066?line=0'>1</a>\u001b[0m samples \u001b[39m=\u001b[39m patients_info_model\u001b[39m.\u001b[39;49msimulate(n_samples\u001b[39m=\u001b[39;49m\u001b[39m10\u001b[39;49m)\n",
      "File \u001b[1;32md:\\Environment\\anaconda3\\envs\\msc_project\\lib\\site-packages\\pgmpy\\models\\BayesianNetwork.py:1215\u001b[0m, in \u001b[0;36mBayesianNetwork.simulate\u001b[1;34m(self, n_samples, do, evidence, virtual_evidence, virtual_intervention, include_latents, partial_samples, seed, show_progress)\u001b[0m\n\u001b[0;32m   1213\u001b[0m \u001b[39m# Step 3: If no evidence do a forward sampling\u001b[39;00m\n\u001b[0;32m   1214\u001b[0m \u001b[39mif\u001b[39;00m \u001b[39mlen\u001b[39m(evidence) \u001b[39m==\u001b[39m \u001b[39m0\u001b[39m:\n\u001b[1;32m-> 1215\u001b[0m     samples \u001b[39m=\u001b[39m BayesianModelSampling(model)\u001b[39m.\u001b[39;49mforward_sample(\n\u001b[0;32m   1216\u001b[0m         size\u001b[39m=\u001b[39;49mn_samples,\n\u001b[0;32m   1217\u001b[0m         include_latents\u001b[39m=\u001b[39;49minclude_latents,\n\u001b[0;32m   1218\u001b[0m         seed\u001b[39m=\u001b[39;49mseed,\n\u001b[0;32m   1219\u001b[0m         show_progress\u001b[39m=\u001b[39;49mshow_progress,\n\u001b[0;32m   1220\u001b[0m         partial_samples\u001b[39m=\u001b[39;49mpartial_samples,\n\u001b[0;32m   1221\u001b[0m     )\n\u001b[0;32m   1223\u001b[0m \u001b[39m# Step 4: If evidence; do a rejection sampling\u001b[39;00m\n\u001b[0;32m   1224\u001b[0m \u001b[39melse\u001b[39;00m:\n\u001b[0;32m   1225\u001b[0m     samples \u001b[39m=\u001b[39m BayesianModelSampling(model)\u001b[39m.\u001b[39mrejection_sample(\n\u001b[0;32m   1226\u001b[0m         size\u001b[39m=\u001b[39mn_samples,\n\u001b[0;32m   1227\u001b[0m         evidence\u001b[39m=\u001b[39m[(k, v) \u001b[39mfor\u001b[39;00m k, v \u001b[39min\u001b[39;00m evidence\u001b[39m.\u001b[39mitems()],\n\u001b[1;32m   (...)\u001b[0m\n\u001b[0;32m   1231\u001b[0m         partial_samples\u001b[39m=\u001b[39mpartial_samples,\n\u001b[0;32m   1232\u001b[0m     )\n",
      "File \u001b[1;32md:\\Environment\\anaconda3\\envs\\msc_project\\lib\\site-packages\\pgmpy\\sampling\\Sampling.py:108\u001b[0m, in \u001b[0;36mBayesianModelSampling.forward_sample\u001b[1;34m(self, size, include_latents, seed, show_progress, partial_samples)\u001b[0m\n\u001b[0;32m    105\u001b[0m \u001b[39mif\u001b[39;00m evidence:\n\u001b[0;32m    106\u001b[0m     evidence_values \u001b[39m=\u001b[39m np\u001b[39m.\u001b[39mvstack([sampled[i] \u001b[39mfor\u001b[39;00m i \u001b[39min\u001b[39;00m evidence])\n\u001b[1;32m--> 108\u001b[0m     state_to_index, index_to_weight \u001b[39m=\u001b[39m \u001b[39mself\u001b[39;49m\u001b[39m.\u001b[39;49mpre_compute_reduce_maps(\n\u001b[0;32m    109\u001b[0m         variable\u001b[39m=\u001b[39;49mnode\n\u001b[0;32m    110\u001b[0m     )\n\u001b[0;32m    111\u001b[0m     unique, inverse \u001b[39m=\u001b[39m np\u001b[39m.\u001b[39munique(\n\u001b[0;32m    112\u001b[0m         evidence_values\u001b[39m.\u001b[39mT, axis\u001b[39m=\u001b[39m\u001b[39m0\u001b[39m, return_inverse\u001b[39m=\u001b[39m\u001b[39mTrue\u001b[39;00m\n\u001b[0;32m    113\u001b[0m     )\n\u001b[0;32m    114\u001b[0m     weight_index \u001b[39m=\u001b[39m np\u001b[39m.\u001b[39marray([state_to_index[\u001b[39mtuple\u001b[39m(u)] \u001b[39mfor\u001b[39;00m u \u001b[39min\u001b[39;00m unique])[\n\u001b[0;32m    115\u001b[0m         inverse\n\u001b[0;32m    116\u001b[0m     ]\n",
      "File \u001b[1;32md:\\Environment\\anaconda3\\envs\\msc_project\\lib\\site-packages\\pgmpy\\sampling\\base.py:98\u001b[0m, in \u001b[0;36mBayesianModelInference.pre_compute_reduce_maps\u001b[1;34m(self, variable)\u001b[0m\n\u001b[0;32m     89\u001b[0m variable_evid \u001b[39m=\u001b[39m variable_cpd\u001b[39m.\u001b[39mvariables[:\u001b[39m0\u001b[39m:\u001b[39m-\u001b[39m\u001b[39m1\u001b[39m]\n\u001b[0;32m     91\u001b[0m state_combinations \u001b[39m=\u001b[39m [\n\u001b[0;32m     92\u001b[0m     \u001b[39mtuple\u001b[39m(sc)\n\u001b[0;32m     93\u001b[0m     \u001b[39mfor\u001b[39;00m sc \u001b[39min\u001b[39;00m itertools\u001b[39m.\u001b[39mproduct(\n\u001b[0;32m     94\u001b[0m         \u001b[39m*\u001b[39m[\u001b[39mrange\u001b[39m(\u001b[39mself\u001b[39m\u001b[39m.\u001b[39mcardinality[var]) \u001b[39mfor\u001b[39;00m var \u001b[39min\u001b[39;00m variable_evid]\n\u001b[0;32m     95\u001b[0m     )\n\u001b[0;32m     96\u001b[0m ]\n\u001b[0;32m     97\u001b[0m weights_list \u001b[39m=\u001b[39m np\u001b[39m.\u001b[39marray(\n\u001b[1;32m---> 98\u001b[0m     [\n\u001b[0;32m     99\u001b[0m         variable_cpd\u001b[39m.\u001b[39mreduce(\n\u001b[0;32m    100\u001b[0m             \u001b[39mlist\u001b[39m(\u001b[39mzip\u001b[39m(variable_evid, sc)), inplace\u001b[39m=\u001b[39m\u001b[39mFalse\u001b[39;00m, show_warnings\u001b[39m=\u001b[39m\u001b[39mFalse\u001b[39;00m\n\u001b[0;32m    101\u001b[0m         )\u001b[39m.\u001b[39mvalues\n\u001b[0;32m    102\u001b[0m         \u001b[39mfor\u001b[39;00m sc \u001b[39min\u001b[39;00m state_combinations\n\u001b[0;32m    103\u001b[0m     ]\n\u001b[0;32m    104\u001b[0m )\n\u001b[0;32m    106\u001b[0m unique_weights, weights_indices \u001b[39m=\u001b[39m np\u001b[39m.\u001b[39munique(\n\u001b[0;32m    107\u001b[0m     weights_list, axis\u001b[39m=\u001b[39m\u001b[39m0\u001b[39m, return_inverse\u001b[39m=\u001b[39m\u001b[39mTrue\u001b[39;00m\n\u001b[0;32m    108\u001b[0m )\n\u001b[0;32m    110\u001b[0m \u001b[39m# convert weights to index; make mapping of state to index\u001b[39;00m\n",
      "File \u001b[1;32md:\\Environment\\anaconda3\\envs\\msc_project\\lib\\site-packages\\pgmpy\\sampling\\base.py:99\u001b[0m, in \u001b[0;36m<listcomp>\u001b[1;34m(.0)\u001b[0m\n\u001b[0;32m     89\u001b[0m variable_evid \u001b[39m=\u001b[39m variable_cpd\u001b[39m.\u001b[39mvariables[:\u001b[39m0\u001b[39m:\u001b[39m-\u001b[39m\u001b[39m1\u001b[39m]\n\u001b[0;32m     91\u001b[0m state_combinations \u001b[39m=\u001b[39m [\n\u001b[0;32m     92\u001b[0m     \u001b[39mtuple\u001b[39m(sc)\n\u001b[0;32m     93\u001b[0m     \u001b[39mfor\u001b[39;00m sc \u001b[39min\u001b[39;00m itertools\u001b[39m.\u001b[39mproduct(\n\u001b[0;32m     94\u001b[0m         \u001b[39m*\u001b[39m[\u001b[39mrange\u001b[39m(\u001b[39mself\u001b[39m\u001b[39m.\u001b[39mcardinality[var]) \u001b[39mfor\u001b[39;00m var \u001b[39min\u001b[39;00m variable_evid]\n\u001b[0;32m     95\u001b[0m     )\n\u001b[0;32m     96\u001b[0m ]\n\u001b[0;32m     97\u001b[0m weights_list \u001b[39m=\u001b[39m np\u001b[39m.\u001b[39marray(\n\u001b[0;32m     98\u001b[0m     [\n\u001b[1;32m---> 99\u001b[0m         variable_cpd\u001b[39m.\u001b[39;49mreduce(\n\u001b[0;32m    100\u001b[0m             \u001b[39mlist\u001b[39;49m(\u001b[39mzip\u001b[39;49m(variable_evid, sc)), inplace\u001b[39m=\u001b[39;49m\u001b[39mFalse\u001b[39;49;00m, show_warnings\u001b[39m=\u001b[39;49m\u001b[39mFalse\u001b[39;49;00m\n\u001b[0;32m    101\u001b[0m         )\u001b[39m.\u001b[39mvalues\n\u001b[0;32m    102\u001b[0m         \u001b[39mfor\u001b[39;00m sc \u001b[39min\u001b[39;00m state_combinations\n\u001b[0;32m    103\u001b[0m     ]\n\u001b[0;32m    104\u001b[0m )\n\u001b[0;32m    106\u001b[0m unique_weights, weights_indices \u001b[39m=\u001b[39m np\u001b[39m.\u001b[39munique(\n\u001b[0;32m    107\u001b[0m     weights_list, axis\u001b[39m=\u001b[39m\u001b[39m0\u001b[39m, return_inverse\u001b[39m=\u001b[39m\u001b[39mTrue\u001b[39;00m\n\u001b[0;32m    108\u001b[0m )\n\u001b[0;32m    110\u001b[0m \u001b[39m# convert weights to index; make mapping of state to index\u001b[39;00m\n",
      "File \u001b[1;32md:\\Environment\\anaconda3\\envs\\msc_project\\lib\\site-packages\\pgmpy\\factors\\discrete\\CPD.py:406\u001b[0m, in \u001b[0;36mTabularCPD.reduce\u001b[1;34m(self, values, inplace, show_warnings)\u001b[0m\n\u001b[0;32m    401\u001b[0m \u001b[39mif\u001b[39;00m \u001b[39mself\u001b[39m\u001b[39m.\u001b[39mvariable \u001b[39min\u001b[39;00m (value[\u001b[39m0\u001b[39m] \u001b[39mfor\u001b[39;00m value \u001b[39min\u001b[39;00m values):\n\u001b[0;32m    402\u001b[0m     \u001b[39mraise\u001b[39;00m \u001b[39mValueError\u001b[39;00m(\n\u001b[0;32m    403\u001b[0m         \u001b[39m\"\u001b[39m\u001b[39mReduce not allowed on the variable on which CPD is defined\u001b[39m\u001b[39m\"\u001b[39m\n\u001b[0;32m    404\u001b[0m     )\n\u001b[1;32m--> 406\u001b[0m tabular_cpd \u001b[39m=\u001b[39m \u001b[39mself\u001b[39m \u001b[39mif\u001b[39;00m inplace \u001b[39melse\u001b[39;00m \u001b[39mself\u001b[39;49m\u001b[39m.\u001b[39;49mcopy()\n\u001b[0;32m    408\u001b[0m \u001b[39msuper\u001b[39m(TabularCPD, tabular_cpd)\u001b[39m.\u001b[39mreduce(values, show_warnings\u001b[39m=\u001b[39mshow_warnings)\n\u001b[0;32m    409\u001b[0m tabular_cpd\u001b[39m.\u001b[39mnormalize()\n",
      "File \u001b[1;32md:\\Environment\\anaconda3\\envs\\msc_project\\lib\\site-packages\\pgmpy\\factors\\discrete\\CPD.py:299\u001b[0m, in \u001b[0;36mTabularCPD.copy\u001b[1;34m(self)\u001b[0m\n\u001b[0;32m    297\u001b[0m evidence \u001b[39m=\u001b[39m \u001b[39mself\u001b[39m\u001b[39m.\u001b[39mvariables[\u001b[39m1\u001b[39m:] \u001b[39mif\u001b[39;00m \u001b[39mlen\u001b[39m(\u001b[39mself\u001b[39m\u001b[39m.\u001b[39mvariables) \u001b[39m>\u001b[39m \u001b[39m1\u001b[39m \u001b[39melse\u001b[39;00m \u001b[39mNone\u001b[39;00m\n\u001b[0;32m    298\u001b[0m evidence_card \u001b[39m=\u001b[39m \u001b[39mself\u001b[39m\u001b[39m.\u001b[39mcardinality[\u001b[39m1\u001b[39m:] \u001b[39mif\u001b[39;00m \u001b[39mlen\u001b[39m(\u001b[39mself\u001b[39m\u001b[39m.\u001b[39mvariables) \u001b[39m>\u001b[39m \u001b[39m1\u001b[39m \u001b[39melse\u001b[39;00m \u001b[39mNone\u001b[39;00m\n\u001b[1;32m--> 299\u001b[0m \u001b[39mreturn\u001b[39;00m TabularCPD(\n\u001b[0;32m    300\u001b[0m     \u001b[39mself\u001b[39;49m\u001b[39m.\u001b[39;49mvariable,\n\u001b[0;32m    301\u001b[0m     \u001b[39mself\u001b[39;49m\u001b[39m.\u001b[39;49mvariable_card,\n\u001b[0;32m    302\u001b[0m     \u001b[39mself\u001b[39;49m\u001b[39m.\u001b[39;49mget_values(),\n\u001b[0;32m    303\u001b[0m     evidence,\n\u001b[0;32m    304\u001b[0m     evidence_card,\n\u001b[0;32m    305\u001b[0m     state_names\u001b[39m=\u001b[39;49m\u001b[39mself\u001b[39;49m\u001b[39m.\u001b[39;49mstate_names\u001b[39m.\u001b[39;49mcopy(),\n\u001b[0;32m    306\u001b[0m )\n",
      "File \u001b[1;32md:\\Environment\\anaconda3\\envs\\msc_project\\lib\\site-packages\\pgmpy\\factors\\discrete\\CPD.py:142\u001b[0m, in \u001b[0;36mTabularCPD.__init__\u001b[1;34m(self, variable, variable_card, values, evidence, evidence_card, state_names)\u001b[0m\n\u001b[0;32m    137\u001b[0m \u001b[39mif\u001b[39;00m \u001b[39mnot\u001b[39;00m \u001b[39misinstance\u001b[39m(state_names, \u001b[39mdict\u001b[39m):\n\u001b[0;32m    138\u001b[0m     \u001b[39mraise\u001b[39;00m \u001b[39mValueError\u001b[39;00m(\n\u001b[0;32m    139\u001b[0m         \u001b[39mf\u001b[39m\u001b[39m\"\u001b[39m\u001b[39mstate_names must be of type dict. Got \u001b[39m\u001b[39m{\u001b[39;00m\u001b[39mtype\u001b[39m(state_names)\u001b[39m}\u001b[39;00m\u001b[39m\"\u001b[39m\n\u001b[0;32m    140\u001b[0m     )\n\u001b[1;32m--> 142\u001b[0m \u001b[39msuper\u001b[39;49m(TabularCPD, \u001b[39mself\u001b[39;49m)\u001b[39m.\u001b[39;49m\u001b[39m__init__\u001b[39;49m(\n\u001b[0;32m    143\u001b[0m     variables, cardinality, values\u001b[39m.\u001b[39;49mflatten(\u001b[39m\"\u001b[39;49m\u001b[39mC\u001b[39;49m\u001b[39m\"\u001b[39;49m), state_names\u001b[39m=\u001b[39;49mstate_names\n\u001b[0;32m    144\u001b[0m )\n",
      "File \u001b[1;32md:\\Environment\\anaconda3\\envs\\msc_project\\lib\\site-packages\\pgmpy\\factors\\discrete\\DiscreteFactor.py:88\u001b[0m, in \u001b[0;36mDiscreteFactor.__init__\u001b[1;34m(self, variables, cardinality, values, state_names)\u001b[0m\n\u001b[0;32m     85\u001b[0m \u001b[39mif\u001b[39;00m \u001b[39misinstance\u001b[39m(variables, \u001b[39mstr\u001b[39m):\n\u001b[0;32m     86\u001b[0m     \u001b[39mraise\u001b[39;00m \u001b[39mTypeError\u001b[39;00m(\u001b[39m\"\u001b[39m\u001b[39mVariables: Expected type list or array like, got string\u001b[39m\u001b[39m\"\u001b[39m)\n\u001b[1;32m---> 88\u001b[0m values \u001b[39m=\u001b[39m np\u001b[39m.\u001b[39;49marray(values, dtype\u001b[39m=\u001b[39;49m\u001b[39mfloat\u001b[39;49m)\n\u001b[0;32m     90\u001b[0m \u001b[39mif\u001b[39;00m \u001b[39mlen\u001b[39m(cardinality) \u001b[39m!=\u001b[39m \u001b[39mlen\u001b[39m(variables):\n\u001b[0;32m     91\u001b[0m     \u001b[39mraise\u001b[39;00m \u001b[39mValueError\u001b[39;00m(\n\u001b[0;32m     92\u001b[0m         \u001b[39m\"\u001b[39m\u001b[39mNumber of elements in cardinality must be equal to number of variables\u001b[39m\u001b[39m\"\u001b[39m\n\u001b[0;32m     93\u001b[0m     )\n",
      "\u001b[1;31mKeyboardInterrupt\u001b[0m: "
     ]
    }
   ],
   "source": [
    "samples = patients_info_model.simulate(n_samples=10)"
   ]
  },
  {
   "cell_type": "code",
   "execution_count": null,
   "metadata": {},
   "outputs": [
    {
     "data": {
      "text/html": [
       "<div>\n",
       "<style scoped>\n",
       "    .dataframe tbody tr th:only-of-type {\n",
       "        vertical-align: middle;\n",
       "    }\n",
       "\n",
       "    .dataframe tbody tr th {\n",
       "        vertical-align: top;\n",
       "    }\n",
       "\n",
       "    .dataframe thead th {\n",
       "        text-align: right;\n",
       "    }\n",
       "</style>\n",
       "<table border=\"1\" class=\"dataframe\">\n",
       "  <thead>\n",
       "    <tr style=\"text-align: right;\">\n",
       "      <th></th>\n",
       "      <th>ethnicity</th>\n",
       "      <th>curr_wardid</th>\n",
       "      <th>curr_careunit</th>\n",
       "      <th>admission_type</th>\n",
       "      <th>intime</th>\n",
       "      <th>dod_ssn</th>\n",
       "      <th>dbsource</th>\n",
       "      <th>subject_id</th>\n",
       "      <th>createtime</th>\n",
       "      <th>insurance</th>\n",
       "      <th>...</th>\n",
       "      <th>last_wardid</th>\n",
       "      <th>dischtime</th>\n",
       "      <th>callout_service</th>\n",
       "      <th>last_careunit</th>\n",
       "      <th>updatetime</th>\n",
       "      <th>callout_wardid</th>\n",
       "      <th>dob</th>\n",
       "      <th>icustay_id</th>\n",
       "      <th>edouttime</th>\n",
       "      <th>dod_hosp</th>\n",
       "    </tr>\n",
       "  </thead>\n",
       "  <tbody>\n",
       "    <tr>\n",
       "      <th>0</th>\n",
       "      <td>WHITE</td>\n",
       "      <td>40</td>\n",
       "      <td>TSICU</td>\n",
       "      <td>ELECTIVE</td>\n",
       "      <td>4&amp;0&amp;2</td>\n",
       "      <td>Na</td>\n",
       "      <td>carevue</td>\n",
       "      <td>52990</td>\n",
       "      <td>1&amp;4&amp;10</td>\n",
       "      <td>Medicare</td>\n",
       "      <td>...</td>\n",
       "      <td>14</td>\n",
       "      <td>3&amp;4&amp;14</td>\n",
       "      <td>ORTHO</td>\n",
       "      <td>TSICU</td>\n",
       "      <td>1&amp;4&amp;11</td>\n",
       "      <td>31</td>\n",
       "      <td>1&amp;2</td>\n",
       "      <td>284010</td>\n",
       "      <td>3&amp;1&amp;22</td>\n",
       "      <td>Na</td>\n",
       "    </tr>\n",
       "    <tr>\n",
       "      <th>1</th>\n",
       "      <td>WHITE</td>\n",
       "      <td>45</td>\n",
       "      <td>MICU</td>\n",
       "      <td>EMERGENCY</td>\n",
       "      <td>3&amp;2&amp;16</td>\n",
       "      <td>Na</td>\n",
       "      <td>metavision</td>\n",
       "      <td>3482</td>\n",
       "      <td>1&amp;2&amp;12</td>\n",
       "      <td>Medicare</td>\n",
       "      <td>...</td>\n",
       "      <td>23</td>\n",
       "      <td>4&amp;4&amp;18</td>\n",
       "      <td>OMED</td>\n",
       "      <td>MICU</td>\n",
       "      <td>1&amp;2&amp;12</td>\n",
       "      <td>48</td>\n",
       "      <td>2&amp;5</td>\n",
       "      <td>232828</td>\n",
       "      <td>1&amp;6&amp;18</td>\n",
       "      <td>Na</td>\n",
       "    </tr>\n",
       "    <tr>\n",
       "      <th>2</th>\n",
       "      <td>WHITE</td>\n",
       "      <td>29</td>\n",
       "      <td>MICU</td>\n",
       "      <td>EMERGENCY</td>\n",
       "      <td>2&amp;2&amp;9</td>\n",
       "      <td>2&amp;1</td>\n",
       "      <td>metavision</td>\n",
       "      <td>81096</td>\n",
       "      <td>2&amp;5&amp;15</td>\n",
       "      <td>Private</td>\n",
       "      <td>...</td>\n",
       "      <td>52</td>\n",
       "      <td>2&amp;5&amp;14</td>\n",
       "      <td>MED</td>\n",
       "      <td>MICU</td>\n",
       "      <td>2&amp;5&amp;16</td>\n",
       "      <td>1</td>\n",
       "      <td>1&amp;4</td>\n",
       "      <td>283598</td>\n",
       "      <td>4&amp;6&amp;21</td>\n",
       "      <td>Na</td>\n",
       "    </tr>\n",
       "    <tr>\n",
       "      <th>3</th>\n",
       "      <td>WHITE</td>\n",
       "      <td>4</td>\n",
       "      <td>SICU</td>\n",
       "      <td>EMERGENCY</td>\n",
       "      <td>2&amp;2&amp;2</td>\n",
       "      <td>3&amp;1</td>\n",
       "      <td>metavision</td>\n",
       "      <td>70641</td>\n",
       "      <td>2&amp;2&amp;14</td>\n",
       "      <td>Medicare</td>\n",
       "      <td>...</td>\n",
       "      <td>57</td>\n",
       "      <td>3&amp;1&amp;17</td>\n",
       "      <td>MED</td>\n",
       "      <td>SICU</td>\n",
       "      <td>2&amp;4&amp;12</td>\n",
       "      <td>1</td>\n",
       "      <td>3&amp;0</td>\n",
       "      <td>208303</td>\n",
       "      <td>1&amp;0&amp;20</td>\n",
       "      <td>3&amp;2</td>\n",
       "    </tr>\n",
       "    <tr>\n",
       "      <th>4</th>\n",
       "      <td>WHITE</td>\n",
       "      <td>18</td>\n",
       "      <td>MICU</td>\n",
       "      <td>EMERGENCY</td>\n",
       "      <td>4&amp;3&amp;2</td>\n",
       "      <td>Na</td>\n",
       "      <td>metavision</td>\n",
       "      <td>30020</td>\n",
       "      <td>4&amp;3&amp;14</td>\n",
       "      <td>Medicare</td>\n",
       "      <td>...</td>\n",
       "      <td>52</td>\n",
       "      <td>4&amp;3&amp;14</td>\n",
       "      <td>MED</td>\n",
       "      <td>MICU</td>\n",
       "      <td>4&amp;3&amp;14</td>\n",
       "      <td>1</td>\n",
       "      <td>2&amp;2</td>\n",
       "      <td>252878</td>\n",
       "      <td>4&amp;6&amp;18</td>\n",
       "      <td>Na</td>\n",
       "    </tr>\n",
       "    <tr>\n",
       "      <th>5</th>\n",
       "      <td>WHITE</td>\n",
       "      <td>18</td>\n",
       "      <td>MICU</td>\n",
       "      <td>EMERGENCY</td>\n",
       "      <td>2&amp;2&amp;21</td>\n",
       "      <td>Na</td>\n",
       "      <td>carevue</td>\n",
       "      <td>9216</td>\n",
       "      <td>2&amp;3&amp;9</td>\n",
       "      <td>Medicare</td>\n",
       "      <td>...</td>\n",
       "      <td>52</td>\n",
       "      <td>2&amp;1&amp;15</td>\n",
       "      <td>MED</td>\n",
       "      <td>MICU</td>\n",
       "      <td>2&amp;3&amp;9</td>\n",
       "      <td>1</td>\n",
       "      <td>2&amp;3</td>\n",
       "      <td>216906</td>\n",
       "      <td>2&amp;2&amp;22</td>\n",
       "      <td>Na</td>\n",
       "    </tr>\n",
       "    <tr>\n",
       "      <th>6</th>\n",
       "      <td>BLACK/AFRICAN AMERICAN</td>\n",
       "      <td>23</td>\n",
       "      <td>MICU</td>\n",
       "      <td>EMERGENCY</td>\n",
       "      <td>2&amp;5&amp;12</td>\n",
       "      <td>Na</td>\n",
       "      <td>metavision</td>\n",
       "      <td>65401</td>\n",
       "      <td>3&amp;6&amp;9</td>\n",
       "      <td>Private</td>\n",
       "      <td>...</td>\n",
       "      <td>52</td>\n",
       "      <td>2&amp;4&amp;15</td>\n",
       "      <td>MED</td>\n",
       "      <td>MICU</td>\n",
       "      <td>3&amp;6&amp;11</td>\n",
       "      <td>1</td>\n",
       "      <td>2&amp;2</td>\n",
       "      <td>250355</td>\n",
       "      <td>Na</td>\n",
       "      <td>Na</td>\n",
       "    </tr>\n",
       "    <tr>\n",
       "      <th>7</th>\n",
       "      <td>WHITE</td>\n",
       "      <td>31</td>\n",
       "      <td>SICU</td>\n",
       "      <td>ELECTIVE</td>\n",
       "      <td>2&amp;3&amp;22</td>\n",
       "      <td>Na</td>\n",
       "      <td>metavision</td>\n",
       "      <td>47747</td>\n",
       "      <td>2&amp;2&amp;14</td>\n",
       "      <td>Medicare</td>\n",
       "      <td>...</td>\n",
       "      <td>33</td>\n",
       "      <td>1&amp;0&amp;17</td>\n",
       "      <td>MED</td>\n",
       "      <td>SICU</td>\n",
       "      <td>2&amp;4&amp;12</td>\n",
       "      <td>2</td>\n",
       "      <td>4&amp;5</td>\n",
       "      <td>229034</td>\n",
       "      <td>Na</td>\n",
       "      <td>Na</td>\n",
       "    </tr>\n",
       "    <tr>\n",
       "      <th>8</th>\n",
       "      <td>BLACK/AFRICAN AMERICAN</td>\n",
       "      <td>8</td>\n",
       "      <td>CSRU</td>\n",
       "      <td>EMERGENCY</td>\n",
       "      <td>1&amp;0&amp;17</td>\n",
       "      <td>Na</td>\n",
       "      <td>carevue</td>\n",
       "      <td>17621</td>\n",
       "      <td>2&amp;5&amp;8</td>\n",
       "      <td>Private</td>\n",
       "      <td>...</td>\n",
       "      <td>15</td>\n",
       "      <td>2&amp;4&amp;12</td>\n",
       "      <td>CSURG</td>\n",
       "      <td>CCU</td>\n",
       "      <td>2&amp;5&amp;8</td>\n",
       "      <td>55</td>\n",
       "      <td>4&amp;0</td>\n",
       "      <td>299479</td>\n",
       "      <td>2&amp;0&amp;17</td>\n",
       "      <td>Na</td>\n",
       "    </tr>\n",
       "    <tr>\n",
       "      <th>9</th>\n",
       "      <td>WHITE</td>\n",
       "      <td>8</td>\n",
       "      <td>MICU</td>\n",
       "      <td>EMERGENCY</td>\n",
       "      <td>3&amp;2&amp;16</td>\n",
       "      <td>3&amp;1</td>\n",
       "      <td>carevue</td>\n",
       "      <td>10424</td>\n",
       "      <td>4&amp;3&amp;14</td>\n",
       "      <td>Medicare</td>\n",
       "      <td>...</td>\n",
       "      <td>57</td>\n",
       "      <td>3&amp;5&amp;8</td>\n",
       "      <td>MED</td>\n",
       "      <td>SICU</td>\n",
       "      <td>4&amp;3&amp;14</td>\n",
       "      <td>1</td>\n",
       "      <td>3&amp;2</td>\n",
       "      <td>232828</td>\n",
       "      <td>3&amp;4&amp;17</td>\n",
       "      <td>3&amp;5</td>\n",
       "    </tr>\n",
       "  </tbody>\n",
       "</table>\n",
       "<p>10 rows × 43 columns</p>\n",
       "</div>"
      ],
      "text/plain": [
       "                ethnicity  curr_wardid curr_careunit admission_type  intime  \\\n",
       "0                   WHITE           40         TSICU       ELECTIVE   4&0&2   \n",
       "1                   WHITE           45          MICU      EMERGENCY  3&2&16   \n",
       "2                   WHITE           29          MICU      EMERGENCY   2&2&9   \n",
       "3                   WHITE            4          SICU      EMERGENCY   2&2&2   \n",
       "4                   WHITE           18          MICU      EMERGENCY   4&3&2   \n",
       "5                   WHITE           18          MICU      EMERGENCY  2&2&21   \n",
       "6  BLACK/AFRICAN AMERICAN           23          MICU      EMERGENCY  2&5&12   \n",
       "7                   WHITE           31          SICU       ELECTIVE  2&3&22   \n",
       "8  BLACK/AFRICAN AMERICAN            8          CSRU      EMERGENCY  1&0&17   \n",
       "9                   WHITE            8          MICU      EMERGENCY  3&2&16   \n",
       "\n",
       "  dod_ssn    dbsource  subject_id createtime insurance  ... last_wardid  \\\n",
       "0      Na     carevue       52990     1&4&10  Medicare  ...          14   \n",
       "1      Na  metavision        3482     1&2&12  Medicare  ...          23   \n",
       "2     2&1  metavision       81096     2&5&15   Private  ...          52   \n",
       "3     3&1  metavision       70641     2&2&14  Medicare  ...          57   \n",
       "4      Na  metavision       30020     4&3&14  Medicare  ...          52   \n",
       "5      Na     carevue        9216      2&3&9  Medicare  ...          52   \n",
       "6      Na  metavision       65401      3&6&9   Private  ...          52   \n",
       "7      Na  metavision       47747     2&2&14  Medicare  ...          33   \n",
       "8      Na     carevue       17621      2&5&8   Private  ...          15   \n",
       "9     3&1     carevue       10424     4&3&14  Medicare  ...          57   \n",
       "\n",
       "  dischtime callout_service  last_careunit updatetime callout_wardid  dob  \\\n",
       "0    3&4&14           ORTHO          TSICU     1&4&11             31  1&2   \n",
       "1    4&4&18            OMED           MICU     1&2&12             48  2&5   \n",
       "2    2&5&14             MED           MICU     2&5&16              1  1&4   \n",
       "3    3&1&17             MED           SICU     2&4&12              1  3&0   \n",
       "4    4&3&14             MED           MICU     4&3&14              1  2&2   \n",
       "5    2&1&15             MED           MICU      2&3&9              1  2&3   \n",
       "6    2&4&15             MED           MICU     3&6&11              1  2&2   \n",
       "7    1&0&17             MED           SICU     2&4&12              2  4&5   \n",
       "8    2&4&12           CSURG            CCU      2&5&8             55  4&0   \n",
       "9     3&5&8             MED           SICU     4&3&14              1  3&2   \n",
       "\n",
       "  icustay_id  edouttime dod_hosp  \n",
       "0     284010     3&1&22       Na  \n",
       "1     232828     1&6&18       Na  \n",
       "2     283598     4&6&21       Na  \n",
       "3     208303     1&0&20      3&2  \n",
       "4     252878     4&6&18       Na  \n",
       "5     216906     2&2&22       Na  \n",
       "6     250355         Na       Na  \n",
       "7     229034         Na       Na  \n",
       "8     299479     2&0&17       Na  \n",
       "9     232828     3&4&17      3&5  \n",
       "\n",
       "[10 rows x 43 columns]"
      ]
     },
     "execution_count": 72,
     "metadata": {},
     "output_type": "execute_result"
    }
   ],
   "source": [
    "samples"
   ]
  },
  {
   "cell_type": "code",
   "execution_count": null,
   "metadata": {},
   "outputs": [],
   "source": [
    "# my_model.fit(callout_sample_df, estimator=BayesianEstimator, prior_type=\"BDeu\") # default equivalent_sample_size=5\n",
    "# for cpd in patients_info_model.get_cpds():\n",
    "#     print(cpd)"
   ]
  },
  {
   "cell_type": "code",
   "execution_count": null,
   "metadata": {},
   "outputs": [],
   "source": [
    "# patients_info_model.edges"
   ]
  },
  {
   "cell_type": "code",
   "execution_count": null,
   "metadata": {},
   "outputs": [],
   "source": []
  }
 ],
 "metadata": {
  "kernelspec": {
   "display_name": "Python 3.8.13 ('msc_project')",
   "language": "python",
   "name": "python3"
  },
  "language_info": {
   "codemirror_mode": {
    "name": "ipython",
    "version": 3
   },
   "file_extension": ".py",
   "mimetype": "text/x-python",
   "name": "python",
   "nbconvert_exporter": "python",
   "pygments_lexer": "ipython3",
   "version": "3.8.13"
  },
  "orig_nbformat": 4,
  "vscode": {
   "interpreter": {
    "hash": "e56015fb566b08f7af163d42c82cf08fa5d6db3fbaaffa0afaaff5a893fc0496"
   }
  }
 },
 "nbformat": 4,
 "nbformat_minor": 2
}
