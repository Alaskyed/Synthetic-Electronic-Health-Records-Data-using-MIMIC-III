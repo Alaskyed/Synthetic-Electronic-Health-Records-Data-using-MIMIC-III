{
 "cells": [
  {
   "cell_type": "code",
   "execution_count": 1,
   "metadata": {},
   "outputs": [],
   "source": [
    "import psycopg2\n",
    "from configparser import ConfigParser\n",
    "import pandas as pd"
   ]
  },
  {
   "cell_type": "code",
   "execution_count": 2,
   "metadata": {},
   "outputs": [],
   "source": [
    "import warnings\n",
    "warnings.filterwarnings(\"ignore\")"
   ]
  },
  {
   "cell_type": "code",
   "execution_count": 3,
   "metadata": {},
   "outputs": [],
   "source": [
    "def postgresql_config(filename='config.ini', section='postgresql'):\n",
    "    # create a parser\n",
    "    parser = ConfigParser()\n",
    "    # read config file\n",
    "    parser.read(filename)\n",
    "\n",
    "    # get section, default to postgresql\n",
    "    db = {}\n",
    "    if parser.has_section(section):\n",
    "        params = parser.items(section)\n",
    "        for param in params:\n",
    "            db[param[0]] = param[1]\n",
    "    else:\n",
    "        raise Exception('Section {0} not found in the {1} file'.format(section, filename))\n",
    "\n",
    "    return db"
   ]
  },
  {
   "cell_type": "code",
   "execution_count": 4,
   "metadata": {},
   "outputs": [],
   "source": [
    "def test_postgresql_connect():\n",
    "    \"\"\" Connect to the PostgreSQL database server \"\"\"\n",
    "    conn = None\n",
    "    try:\n",
    "        # read connection parameters\n",
    "        params = postgresql_config()\n",
    "\n",
    "        # connect to the PostgreSQL server\n",
    "        print('Connecting to the PostgreSQL database...')\n",
    "        conn = psycopg2.connect(**params)\n",
    "\t\t\n",
    "        # create a cursor\n",
    "        cur = conn.cursor()\n",
    "        \n",
    "\t# execute a statement\n",
    "        print('PostgreSQL database version:')\n",
    "        cur.execute('SELECT version()')\n",
    "\n",
    "        # display the PostgreSQL database server version\n",
    "        db_version = cur.fetchone()\n",
    "        print(db_version)\n",
    "       \n",
    "\t    # close the communication with the PostgreSQL\n",
    "        cur.close()\n",
    "    except (Exception, psycopg2.DatabaseError) as error:\n",
    "        print(error)\n",
    "    finally:\n",
    "        if conn is not None:\n",
    "            conn.close()\n",
    "            print('Database connection closed.')"
   ]
  },
  {
   "cell_type": "code",
   "execution_count": 5,
   "metadata": {},
   "outputs": [
    {
     "name": "stdout",
     "output_type": "stream",
     "text": [
      "Connecting to the PostgreSQL database...\n",
      "PostgreSQL database version:\n",
      "('PostgreSQL 14.2, compiled by Visual C++ build 1914, 64-bit',)\n",
      "Database connection closed.\n"
     ]
    }
   ],
   "source": [
    "test_postgresql_connect()"
   ]
  },
  {
   "cell_type": "markdown",
   "metadata": {},
   "source": [
    "---"
   ]
  },
  {
   "cell_type": "code",
   "execution_count": 6,
   "metadata": {},
   "outputs": [],
   "source": [
    "def get_patients():\n",
    "    \"\"\" query data from the patients table \"\"\"\n",
    "    conn = None\n",
    "    try:\n",
    "        params = postgresql_config()\n",
    "        conn = psycopg2.connect(**params)\n",
    "        cur = conn.cursor()\n",
    "\n",
    "        cur.execute(\"SELECT * from patients\")\n",
    "        print(\"The number of parts: \", cur.rowcount)\n",
    "        row = cur.fetchone()\n",
    "\n",
    "        while row is not None:\n",
    "            print(row)\n",
    "            row = cur.fetchone()\n",
    "\n",
    "        cur.close()\n",
    "    except (Exception, psycopg2.DatabaseError) as error:\n",
    "        print(error)\n",
    "    finally:\n",
    "        if conn is not None:\n",
    "            conn.close()"
   ]
  },
  {
   "cell_type": "code",
   "execution_count": 7,
   "metadata": {},
   "outputs": [],
   "source": [
    "sql = \"SELECT * FROM patients p  order by random() limit 1000;\"\n",
    "conn = psycopg2.connect(**postgresql_config())"
   ]
  },
  {
   "cell_type": "code",
   "execution_count": 8,
   "metadata": {},
   "outputs": [],
   "source": [
    "random_patients_df = pd.read_sql(sql, conn)"
   ]
  },
  {
   "cell_type": "code",
   "execution_count": 9,
   "metadata": {},
   "outputs": [
    {
     "data": {
      "text/html": [
       "<div>\n",
       "<style scoped>\n",
       "    .dataframe tbody tr th:only-of-type {\n",
       "        vertical-align: middle;\n",
       "    }\n",
       "\n",
       "    .dataframe tbody tr th {\n",
       "        vertical-align: top;\n",
       "    }\n",
       "\n",
       "    .dataframe thead th {\n",
       "        text-align: right;\n",
       "    }\n",
       "</style>\n",
       "<table border=\"1\" class=\"dataframe\">\n",
       "  <thead>\n",
       "    <tr style=\"text-align: right;\">\n",
       "      <th></th>\n",
       "      <th>row_id</th>\n",
       "      <th>subject_id</th>\n",
       "      <th>gender</th>\n",
       "      <th>dob</th>\n",
       "      <th>dod</th>\n",
       "      <th>dod_hosp</th>\n",
       "      <th>dod_ssn</th>\n",
       "      <th>expire_flag</th>\n",
       "    </tr>\n",
       "  </thead>\n",
       "  <tbody>\n",
       "    <tr>\n",
       "      <th>0</th>\n",
       "      <td>10673</td>\n",
       "      <td>11290</td>\n",
       "      <td>M</td>\n",
       "      <td>2173-11-19</td>\n",
       "      <td>NaT</td>\n",
       "      <td>NaT</td>\n",
       "      <td>NaT</td>\n",
       "      <td>0</td>\n",
       "    </tr>\n",
       "    <tr>\n",
       "      <th>1</th>\n",
       "      <td>33056</td>\n",
       "      <td>48637</td>\n",
       "      <td>F</td>\n",
       "      <td>2044-10-27</td>\n",
       "      <td>NaT</td>\n",
       "      <td>NaT</td>\n",
       "      <td>NaT</td>\n",
       "      <td>0</td>\n",
       "    </tr>\n",
       "    <tr>\n",
       "      <th>2</th>\n",
       "      <td>8721</td>\n",
       "      <td>9216</td>\n",
       "      <td>M</td>\n",
       "      <td>2170-04-19</td>\n",
       "      <td>NaT</td>\n",
       "      <td>NaT</td>\n",
       "      <td>NaT</td>\n",
       "      <td>0</td>\n",
       "    </tr>\n",
       "    <tr>\n",
       "      <th>3</th>\n",
       "      <td>18513</td>\n",
       "      <td>19611</td>\n",
       "      <td>M</td>\n",
       "      <td>2170-03-15</td>\n",
       "      <td>NaT</td>\n",
       "      <td>NaT</td>\n",
       "      <td>NaT</td>\n",
       "      <td>0</td>\n",
       "    </tr>\n",
       "    <tr>\n",
       "      <th>4</th>\n",
       "      <td>28235</td>\n",
       "      <td>30020</td>\n",
       "      <td>M</td>\n",
       "      <td>2046-06-27</td>\n",
       "      <td>2126-03-02</td>\n",
       "      <td>NaT</td>\n",
       "      <td>2126-03-02</td>\n",
       "      <td>1</td>\n",
       "    </tr>\n",
       "    <tr>\n",
       "      <th>...</th>\n",
       "      <td>...</td>\n",
       "      <td>...</td>\n",
       "      <td>...</td>\n",
       "      <td>...</td>\n",
       "      <td>...</td>\n",
       "      <td>...</td>\n",
       "      <td>...</td>\n",
       "      <td>...</td>\n",
       "    </tr>\n",
       "    <tr>\n",
       "      <th>995</th>\n",
       "      <td>46011</td>\n",
       "      <td>97990</td>\n",
       "      <td>M</td>\n",
       "      <td>2020-08-22</td>\n",
       "      <td>NaT</td>\n",
       "      <td>NaT</td>\n",
       "      <td>NaT</td>\n",
       "      <td>0</td>\n",
       "    </tr>\n",
       "    <tr>\n",
       "      <th>996</th>\n",
       "      <td>12718</td>\n",
       "      <td>13445</td>\n",
       "      <td>M</td>\n",
       "      <td>2071-09-26</td>\n",
       "      <td>2146-08-12</td>\n",
       "      <td>NaT</td>\n",
       "      <td>2146-08-12</td>\n",
       "      <td>1</td>\n",
       "    </tr>\n",
       "    <tr>\n",
       "      <th>997</th>\n",
       "      <td>11297</td>\n",
       "      <td>11936</td>\n",
       "      <td>M</td>\n",
       "      <td>2108-07-22</td>\n",
       "      <td>NaT</td>\n",
       "      <td>NaT</td>\n",
       "      <td>NaT</td>\n",
       "      <td>0</td>\n",
       "    </tr>\n",
       "    <tr>\n",
       "      <th>998</th>\n",
       "      <td>18552</td>\n",
       "      <td>19654</td>\n",
       "      <td>M</td>\n",
       "      <td>2085-03-12</td>\n",
       "      <td>2173-05-10</td>\n",
       "      <td>NaT</td>\n",
       "      <td>2173-05-10</td>\n",
       "      <td>1</td>\n",
       "    </tr>\n",
       "    <tr>\n",
       "      <th>999</th>\n",
       "      <td>6677</td>\n",
       "      <td>7059</td>\n",
       "      <td>F</td>\n",
       "      <td>2072-02-01</td>\n",
       "      <td>2139-01-05</td>\n",
       "      <td>NaT</td>\n",
       "      <td>2139-01-05</td>\n",
       "      <td>1</td>\n",
       "    </tr>\n",
       "  </tbody>\n",
       "</table>\n",
       "<p>1000 rows × 8 columns</p>\n",
       "</div>"
      ],
      "text/plain": [
       "     row_id  subject_id gender        dob        dod dod_hosp    dod_ssn  \\\n",
       "0     10673       11290      M 2173-11-19        NaT      NaT        NaT   \n",
       "1     33056       48637      F 2044-10-27        NaT      NaT        NaT   \n",
       "2      8721        9216      M 2170-04-19        NaT      NaT        NaT   \n",
       "3     18513       19611      M 2170-03-15        NaT      NaT        NaT   \n",
       "4     28235       30020      M 2046-06-27 2126-03-02      NaT 2126-03-02   \n",
       "..      ...         ...    ...        ...        ...      ...        ...   \n",
       "995   46011       97990      M 2020-08-22        NaT      NaT        NaT   \n",
       "996   12718       13445      M 2071-09-26 2146-08-12      NaT 2146-08-12   \n",
       "997   11297       11936      M 2108-07-22        NaT      NaT        NaT   \n",
       "998   18552       19654      M 2085-03-12 2173-05-10      NaT 2173-05-10   \n",
       "999    6677        7059      F 2072-02-01 2139-01-05      NaT 2139-01-05   \n",
       "\n",
       "     expire_flag  \n",
       "0              0  \n",
       "1              0  \n",
       "2              0  \n",
       "3              0  \n",
       "4              1  \n",
       "..           ...  \n",
       "995            0  \n",
       "996            1  \n",
       "997            0  \n",
       "998            1  \n",
       "999            1  \n",
       "\n",
       "[1000 rows x 8 columns]"
      ]
     },
     "execution_count": 9,
     "metadata": {},
     "output_type": "execute_result"
    }
   ],
   "source": [
    "random_patients_df"
   ]
  },
  {
   "cell_type": "code",
   "execution_count": 10,
   "metadata": {},
   "outputs": [
    {
     "data": {
      "text/plain": [
       "0      11290\n",
       "1      48637\n",
       "2       9216\n",
       "3      19611\n",
       "4      30020\n",
       "       ...  \n",
       "995    97990\n",
       "996    13445\n",
       "997    11936\n",
       "998    19654\n",
       "999     7059\n",
       "Name: subject_id, Length: 1000, dtype: int64"
      ]
     },
     "execution_count": 10,
     "metadata": {},
     "output_type": "execute_result"
    }
   ],
   "source": [
    "# Pick Subject_id\n",
    "patients_subject_ids = random_patients_df['subject_id']\n",
    "patients_subject_ids"
   ]
  },
  {
   "cell_type": "markdown",
   "metadata": {},
   "source": [
    "---"
   ]
  },
  {
   "cell_type": "code",
   "execution_count": 11,
   "metadata": {},
   "outputs": [],
   "source": [
    "# create query scripts\n",
    "\n",
    "def create_query_scripts(table_name):\n",
    "    return \"SELECT * FROM \" + table_name + \" WHERE SUBJECT_ID = \""
   ]
  },
  {
   "cell_type": "code",
   "execution_count": 12,
   "metadata": {},
   "outputs": [],
   "source": [
    "def select_data(subject_ids, sql):\n",
    "    conn = None\n",
    "\n",
    "    try:\n",
    "        params = postgresql_config()\n",
    "        conn = psycopg2.connect(**params)\n",
    "        # cur = conn.cursor()\n",
    "        \n",
    "        table_df = pd.DataFrame()\n",
    "\n",
    "        for subject_id in subject_ids:\n",
    "            new_sql = sql + str(subject_id)\n",
    "            select_result = df = pd.read_sql(new_sql, conn)\n",
    "\n",
    "            if table_df.empty:\n",
    "                table_df = select_result.copy()\n",
    "            else:\n",
    "                table_df = pd.concat([table_df, select_result], axis=0)\n",
    "\n",
    "        return table_df\n",
    "    except (Exception, psycopg2.DatabaseError) as error:\n",
    "        print(error)\n",
    "    finally:\n",
    "        if conn is not None:\n",
    "            conn.close()"
   ]
  },
  {
   "cell_type": "markdown",
   "metadata": {},
   "source": [
    "### Patients and transfer information"
   ]
  },
  {
   "cell_type": "code",
   "execution_count": 15,
   "metadata": {},
   "outputs": [],
   "source": [
    "admissions_sample_df = select_data(patients_subject_ids, create_query_scripts('admissions'))"
   ]
  },
  {
   "cell_type": "code",
   "execution_count": 16,
   "metadata": {},
   "outputs": [],
   "source": [
    "admissions_sample_df.to_csv(\"../temp_sets/admissions.csv\")"
   ]
  },
  {
   "cell_type": "code",
   "execution_count": 17,
   "metadata": {},
   "outputs": [],
   "source": [
    "callout_sample_df = select_data(patients_subject_ids, create_query_scripts('callout'))"
   ]
  },
  {
   "cell_type": "code",
   "execution_count": 18,
   "metadata": {},
   "outputs": [],
   "source": [
    "callout_sample_df.to_csv(\"../temp_sets/callout.csv\")"
   ]
  },
  {
   "cell_type": "code",
   "execution_count": 19,
   "metadata": {},
   "outputs": [],
   "source": [
    "icustays_sample_df = select_data(patients_subject_ids, create_query_scripts('icustays'))"
   ]
  },
  {
   "cell_type": "code",
   "execution_count": 20,
   "metadata": {},
   "outputs": [],
   "source": [
    "icustays_sample_df.to_csv(\"../temp_sets/icustays.csv\")"
   ]
  },
  {
   "cell_type": "code",
   "execution_count": 21,
   "metadata": {},
   "outputs": [],
   "source": [
    "services_sample_df = select_data(patients_subject_ids, create_query_scripts('services'))"
   ]
  },
  {
   "cell_type": "code",
   "execution_count": 22,
   "metadata": {},
   "outputs": [],
   "source": [
    "services_sample_df.to_csv(\"../temp_sets/services.csv\")"
   ]
  },
  {
   "cell_type": "code",
   "execution_count": 23,
   "metadata": {},
   "outputs": [],
   "source": [
    "transfers_sample_df = select_data(patients_subject_ids, create_query_scripts('transfers'))"
   ]
  },
  {
   "cell_type": "code",
   "execution_count": 24,
   "metadata": {},
   "outputs": [],
   "source": [
    "transfers_sample_df.to_csv(\"../temp_sets/transfers.csv\")"
   ]
  },
  {
   "cell_type": "markdown",
   "metadata": {},
   "source": [
    "### ICU Information"
   ]
  },
  {
   "cell_type": "code",
   "execution_count": 30,
   "metadata": {},
   "outputs": [],
   "source": [
    "caregivers_sample_df = None"
   ]
  },
  {
   "cell_type": "code",
   "execution_count": 33,
   "metadata": {},
   "outputs": [],
   "source": [
    "chartevents_sample_df = select_data(patients_subject_ids, create_query_scripts('chartevents'))"
   ]
  },
  {
   "cell_type": "code",
   "execution_count": 34,
   "metadata": {},
   "outputs": [],
   "source": [
    "chartevents_sample_df.to_csv(\"../temp_sets/chartevents.csv\")"
   ]
  },
  {
   "cell_type": "code",
   "execution_count": 35,
   "metadata": {},
   "outputs": [],
   "source": [
    "datetimeevents_sample_df = select_data(patients_subject_ids, create_query_scripts('datetimeevents'))"
   ]
  },
  {
   "cell_type": "code",
   "execution_count": 36,
   "metadata": {},
   "outputs": [],
   "source": [
    "datetimeevents_sample_df.to_csv(\"../temp_sets/datetimeevents.csv\")"
   ]
  },
  {
   "cell_type": "code",
   "execution_count": 37,
   "metadata": {},
   "outputs": [],
   "source": [
    "inputevents_cv_sample_df = select_data(patients_subject_ids, create_query_scripts('inputevents_cv'))"
   ]
  },
  {
   "cell_type": "code",
   "execution_count": 38,
   "metadata": {},
   "outputs": [],
   "source": [
    "inputevents_cv_sample_df.to_csv(\"../temp_sets/inputevents_cv.csv\")"
   ]
  },
  {
   "cell_type": "code",
   "execution_count": 39,
   "metadata": {},
   "outputs": [],
   "source": [
    "inputevents_mv_sample_df = select_data(patients_subject_ids, create_query_scripts('inputevents_mv'))"
   ]
  },
  {
   "cell_type": "code",
   "execution_count": 40,
   "metadata": {},
   "outputs": [],
   "source": [
    "inputevents_mv_sample_df.to_csv(\"../temp_sets/inputevents_mv.csv\")"
   ]
  },
  {
   "cell_type": "code",
   "execution_count": 41,
   "metadata": {},
   "outputs": [],
   "source": [
    "outputevents_sample_df = select_data(patients_subject_ids, create_query_scripts('outputevents'))"
   ]
  },
  {
   "cell_type": "code",
   "execution_count": 42,
   "metadata": {},
   "outputs": [],
   "source": [
    "outputevents_sample_df.to_csv(\"../temp_sets/outputevents.csv\")"
   ]
  },
  {
   "cell_type": "code",
   "execution_count": 43,
   "metadata": {},
   "outputs": [],
   "source": [
    "procedureevents_mv_sample_df = select_data(patients_subject_ids, create_query_scripts('procedureevents_mv'))"
   ]
  },
  {
   "cell_type": "code",
   "execution_count": 44,
   "metadata": {},
   "outputs": [],
   "source": [
    "procedureevents_mv_sample_df.to_csv(\"../temp_sets/procedureevents_mv.csv\")"
   ]
  },
  {
   "cell_type": "markdown",
   "metadata": {},
   "source": [
    "### Hospital recording"
   ]
  },
  {
   "cell_type": "code",
   "execution_count": 45,
   "metadata": {},
   "outputs": [],
   "source": [
    "cptevents_sample_df = select_data(patients_subject_ids, create_query_scripts('cptevents'))"
   ]
  },
  {
   "cell_type": "code",
   "execution_count": 46,
   "metadata": {},
   "outputs": [],
   "source": [
    "cptevents_sample_df.to_csv(\"../temp_sets/cptevents.csv\")"
   ]
  },
  {
   "cell_type": "code",
   "execution_count": 47,
   "metadata": {},
   "outputs": [],
   "source": [
    "diagnoses_icd_sample_df = select_data(patients_subject_ids, create_query_scripts('diagnoses_icd'))"
   ]
  },
  {
   "cell_type": "code",
   "execution_count": 48,
   "metadata": {},
   "outputs": [],
   "source": [
    "diagnoses_icd_sample_df.to_csv(\"../temp_sets/diagnoses_icd.csv\")"
   ]
  },
  {
   "cell_type": "code",
   "execution_count": 49,
   "metadata": {},
   "outputs": [],
   "source": [
    "drgcodes_sample_df = select_data(patients_subject_ids, create_query_scripts('drgcodes'))"
   ]
  },
  {
   "cell_type": "code",
   "execution_count": 50,
   "metadata": {},
   "outputs": [],
   "source": [
    "drgcodes_sample_df.to_csv(\"../temp_sets/drgcodes.csv\")"
   ]
  },
  {
   "cell_type": "code",
   "execution_count": 51,
   "metadata": {},
   "outputs": [],
   "source": [
    "labevents_sample_df = select_data(patients_subject_ids, create_query_scripts('labevents'))"
   ]
  },
  {
   "cell_type": "code",
   "execution_count": 52,
   "metadata": {},
   "outputs": [],
   "source": [
    "labevents_sample_df.to_csv(\"../temp_sets/labevents.csv\")"
   ]
  },
  {
   "cell_type": "code",
   "execution_count": 53,
   "metadata": {},
   "outputs": [],
   "source": [
    "microbiologyevents_sample_df = select_data(patients_subject_ids, create_query_scripts('microbiologyevents'))"
   ]
  },
  {
   "cell_type": "code",
   "execution_count": 54,
   "metadata": {},
   "outputs": [],
   "source": [
    "microbiologyevents_sample_df.to_csv(\"../temp_sets/microbiologyevents.csv\")"
   ]
  },
  {
   "cell_type": "code",
   "execution_count": 55,
   "metadata": {},
   "outputs": [],
   "source": [
    "prescriptions_sample_df = select_data(patients_subject_ids, create_query_scripts('prescriptions'))"
   ]
  },
  {
   "cell_type": "code",
   "execution_count": 56,
   "metadata": {},
   "outputs": [],
   "source": [
    "prescriptions_sample_df.to_csv(\"../temp_sets/prescriptions.csv\")"
   ]
  },
  {
   "cell_type": "code",
   "execution_count": 57,
   "metadata": {},
   "outputs": [],
   "source": [
    "procedures_icd_sample_df = select_data(patients_subject_ids, create_query_scripts('procedures_icd'))"
   ]
  },
  {
   "cell_type": "code",
   "execution_count": 58,
   "metadata": {},
   "outputs": [],
   "source": [
    "procedures_icd_sample_df.to_csv(\"../temp_sets/procedures_icd.csv\")"
   ]
  },
  {
   "cell_type": "markdown",
   "metadata": {},
   "source": [
    "---"
   ]
  },
  {
   "cell_type": "code",
   "execution_count": null,
   "metadata": {},
   "outputs": [],
   "source": []
  }
 ],
 "metadata": {
  "kernelspec": {
   "display_name": "Python 3.8.13 ('msc_project')",
   "language": "python",
   "name": "python3"
  },
  "language_info": {
   "codemirror_mode": {
    "name": "ipython",
    "version": 3
   },
   "file_extension": ".py",
   "mimetype": "text/x-python",
   "name": "python",
   "nbconvert_exporter": "python",
   "pygments_lexer": "ipython3",
   "version": "3.8.13"
  },
  "orig_nbformat": 4,
  "vscode": {
   "interpreter": {
    "hash": "e56015fb566b08f7af163d42c82cf08fa5d6db3fbaaffa0afaaff5a893fc0496"
   }
  }
 },
 "nbformat": 4,
 "nbformat_minor": 2
}
