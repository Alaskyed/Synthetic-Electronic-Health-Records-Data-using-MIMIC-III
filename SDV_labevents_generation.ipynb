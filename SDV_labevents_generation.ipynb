{
 "cells": [
  {
   "cell_type": "code",
   "execution_count": 1,
   "metadata": {},
   "outputs": [],
   "source": [
    "# from google.colab import drive\n",
    "# drive.mount('/content/drive')"
   ]
  },
  {
   "cell_type": "code",
   "execution_count": 2,
   "metadata": {},
   "outputs": [],
   "source": [
    "# Ignore warnings\n",
    "import warnings\n",
    "warnings.filterwarnings(\"ignore\")"
   ]
  },
  {
   "cell_type": "code",
   "execution_count": 3,
   "metadata": {},
   "outputs": [],
   "source": [
    "import pandas as pd\n",
    "import numpy as np\n",
    "\n",
    "import common"
   ]
  },
  {
   "cell_type": "code",
   "execution_count": 4,
   "metadata": {},
   "outputs": [],
   "source": [
    "date_set_path = \"../temp_sets_100/\""
   ]
  },
  {
   "cell_type": "markdown",
   "metadata": {},
   "source": [
    "# labevents"
   ]
  },
  {
   "cell_type": "markdown",
   "metadata": {},
   "source": [
    "## Read samples"
   ]
  },
  {
   "cell_type": "code",
   "execution_count": 5,
   "metadata": {},
   "outputs": [],
   "source": [
    "labevents_df = common.read_csv_no_rowid(date_set_path + \"labevents.csv\")"
   ]
  },
  {
   "cell_type": "markdown",
   "metadata": {},
   "source": [
    "## Data preproces"
   ]
  },
  {
   "cell_type": "code",
   "execution_count": 6,
   "metadata": {},
   "outputs": [],
   "source": [
    "# Drop useless colums\n",
    "labevents_df.drop(['subject_id', 'valuenum', 'flag'], axis=1, inplace=True)"
   ]
  },
  {
   "cell_type": "markdown",
   "metadata": {},
   "source": [
    "### Process missing values"
   ]
  },
  {
   "cell_type": "code",
   "execution_count": 7,
   "metadata": {},
   "outputs": [],
   "source": [
    "# Drop some null value\n",
    "labevents_df.dropna(subset=['hadm_id'], inplace=True, axis=0)\n",
    "labevents_df['hadm_id'] = labevents_df['hadm_id'].astype(np.int64)"
   ]
  },
  {
   "cell_type": "code",
   "execution_count": 8,
   "metadata": {},
   "outputs": [
    {
     "name": "stdout",
     "output_type": "stream",
     "text": [
      "Total columns: 5\n",
      "Total rows: 65503\n",
      "--------------\n",
      "hadm_id         0\n",
      "itemid          0\n",
      "charttime       0\n",
      "value           5\n",
      "valueuom     7441\n",
      "dtype: int64\n"
     ]
    }
   ],
   "source": [
    "common.nan_count(labevents_df)"
   ]
  },
  {
   "cell_type": "code",
   "execution_count": 9,
   "metadata": {},
   "outputs": [],
   "source": [
    "labevents_df['value'].fillna(value='Na', inplace=True)"
   ]
  },
  {
   "cell_type": "markdown",
   "metadata": {},
   "source": [
    "### Set the column types"
   ]
  },
  {
   "cell_type": "code",
   "execution_count": 10,
   "metadata": {},
   "outputs": [
    {
     "data": {
      "text/plain": [
       "hadm_id       int64\n",
       "itemid        int64\n",
       "charttime    object\n",
       "value        object\n",
       "valueuom     object\n",
       "dtype: object"
      ]
     },
     "execution_count": 10,
     "metadata": {},
     "output_type": "execute_result"
    }
   ],
   "source": [
    "labevents_df.dtypes"
   ]
  },
  {
   "cell_type": "code",
   "execution_count": 11,
   "metadata": {},
   "outputs": [],
   "source": [
    "labevents_df['charttime'] = pd.to_datetime(labevents_df['charttime'])"
   ]
  },
  {
   "cell_type": "code",
   "execution_count": 12,
   "metadata": {},
   "outputs": [
    {
     "data": {
      "text/plain": [
       "hadm_id               int64\n",
       "itemid                int64\n",
       "charttime    datetime64[ns]\n",
       "value                object\n",
       "valueuom             object\n",
       "dtype: object"
      ]
     },
     "execution_count": 12,
     "metadata": {},
     "output_type": "execute_result"
    }
   ],
   "source": [
    "labevents_df.dtypes"
   ]
  },
  {
   "cell_type": "markdown",
   "metadata": {},
   "source": [
    "### Process time value"
   ]
  },
  {
   "cell_type": "code",
   "execution_count": 13,
   "metadata": {},
   "outputs": [],
   "source": [
    "admissions_df = common.read_csv_no_rowid(date_set_path+\"admissions.csv\")"
   ]
  },
  {
   "cell_type": "code",
   "execution_count": 14,
   "metadata": {},
   "outputs": [],
   "source": [
    "hadm_intime_df = admissions_df.loc[:, ['hadm_id', 'admittime']]\n",
    "hadm_intime_df['admittime'] = pd.to_datetime(hadm_intime_df['admittime'])"
   ]
  },
  {
   "cell_type": "code",
   "execution_count": 15,
   "metadata": {},
   "outputs": [],
   "source": [
    "labevents_mid_df = pd.merge(left=labevents_df, right=hadm_intime_df, how='left', on=['hadm_id'])"
   ]
  },
  {
   "cell_type": "code",
   "execution_count": 16,
   "metadata": {},
   "outputs": [
    {
     "data": {
      "text/plain": [
       "hadm_id               int64\n",
       "itemid                int64\n",
       "charttime    datetime64[ns]\n",
       "value                object\n",
       "valueuom             object\n",
       "admittime    datetime64[ns]\n",
       "dtype: object"
      ]
     },
     "execution_count": 16,
     "metadata": {},
     "output_type": "execute_result"
    }
   ],
   "source": [
    "labevents_mid_df.dtypes"
   ]
  },
  {
   "cell_type": "code",
   "execution_count": 17,
   "metadata": {},
   "outputs": [],
   "source": [
    "labevents_mid_df['charttime'] = labevents_mid_df.apply(common.time_process, args=('admittime', 'charttime'), axis=1)\n",
    "labevents_mid_df['charttime'] = labevents_mid_df['charttime'].astype(np.int64)"
   ]
  },
  {
   "cell_type": "code",
   "execution_count": 73,
   "metadata": {},
   "outputs": [],
   "source": [
    "labevents_df = labevents_mid_df.drop(['hadm_id', 'admittime'], axis=1)"
   ]
  },
  {
   "cell_type": "markdown",
   "metadata": {},
   "source": [
    "##  Build Network"
   ]
  },
  {
   "cell_type": "markdown",
   "metadata": {},
   "source": [
    "---"
   ]
  },
  {
   "cell_type": "markdown",
   "metadata": {},
   "source": [
    "### CTGAN"
   ]
  },
  {
   "cell_type": "code",
   "execution_count": 75,
   "metadata": {},
   "outputs": [],
   "source": [
    "from sdv.tabular import CTGAN\n",
    "from sdv.tabular import GaussianCopula\n",
    "from sdv.evaluation import evaluate\n",
    "from sdv.constraints import FixedCombinations"
   ]
  },
  {
   "cell_type": "code",
   "execution_count": 76,
   "metadata": {},
   "outputs": [],
   "source": [
    "fixed_item_value_constraint = FixedCombinations(\n",
    "    column_names=['itemid', 'value', 'valueuom']\n",
    ")"
   ]
  },
  {
   "cell_type": "code",
   "execution_count": 77,
   "metadata": {},
   "outputs": [],
   "source": [
    "labevents_constraints = [fixed_item_value_constraint]"
   ]
  },
  {
   "cell_type": "code",
   "execution_count": 78,
   "metadata": {},
   "outputs": [],
   "source": [
    "model = CTGAN(\n",
    "    constraints=labevents_constraints, \n",
    "    cuda=True, \n",
    "    verbose=True)"
   ]
  },
  {
   "cell_type": "code",
   "execution_count": 79,
   "metadata": {},
   "outputs": [
    {
     "data": {
      "text/plain": [
       "44069"
      ]
     },
     "execution_count": 79,
     "metadata": {},
     "output_type": "execute_result"
    }
   ],
   "source": [
    "len(labevents_df)"
   ]
  },
  {
   "cell_type": "code",
   "execution_count": 80,
   "metadata": {},
   "outputs": [
    {
     "name": "stdout",
     "output_type": "stream",
     "text": [
      "Epoch 1, Loss G:  7.1438,Loss D: -0.0030\n",
      "Epoch 2, Loss G:  7.1169,Loss D: -0.0076\n",
      "Epoch 3, Loss G:  7.0650,Loss D: -0.0104\n",
      "Epoch 4, Loss G:  7.0619,Loss D: -0.0178\n",
      "Epoch 5, Loss G:  7.0658,Loss D: -0.0091\n",
      "Epoch 6, Loss G:  7.0392,Loss D:  0.0127\n",
      "Epoch 7, Loss G:  7.0355,Loss D:  0.0024\n",
      "Epoch 8, Loss G:  7.0374,Loss D: -0.0079\n",
      "Epoch 9, Loss G:  6.9916,Loss D: -0.0007\n",
      "Epoch 10, Loss G:  7.0168,Loss D:  0.0047\n",
      "Epoch 11, Loss G:  6.9618,Loss D:  0.0129\n",
      "Epoch 12, Loss G:  6.9743,Loss D: -0.0058\n",
      "Epoch 13, Loss G:  6.9819,Loss D:  0.0170\n",
      "Epoch 14, Loss G:  7.0244,Loss D: -0.0048\n",
      "Epoch 15, Loss G:  6.9495,Loss D: -0.0006\n",
      "Epoch 16, Loss G:  6.9344,Loss D:  0.0234\n",
      "Epoch 17, Loss G:  6.9391,Loss D:  0.0253\n",
      "Epoch 18, Loss G:  6.9015,Loss D: -0.0034\n",
      "Epoch 19, Loss G:  6.9643,Loss D: -0.0040\n",
      "Epoch 20, Loss G:  6.9435,Loss D: -0.0012\n",
      "Epoch 21, Loss G:  6.9112,Loss D: -0.0046\n",
      "Epoch 22, Loss G:  6.8984,Loss D: -0.0003\n",
      "Epoch 23, Loss G:  6.8877,Loss D:  0.0237\n",
      "Epoch 24, Loss G:  6.8502,Loss D:  0.0071\n",
      "Epoch 25, Loss G:  6.8719,Loss D:  0.0043\n",
      "Epoch 26, Loss G:  6.9065,Loss D: -0.0016\n",
      "Epoch 27, Loss G:  6.9151,Loss D: -0.0141\n",
      "Epoch 28, Loss G:  6.8641,Loss D: -0.0050\n",
      "Epoch 29, Loss G:  6.8915,Loss D:  0.0046\n",
      "Epoch 30, Loss G:  6.8842,Loss D:  0.0136\n",
      "Epoch 31, Loss G:  6.8292,Loss D: -0.0051\n",
      "Epoch 32, Loss G:  6.8557,Loss D: -0.0150\n",
      "Epoch 33, Loss G:  6.8576,Loss D: -0.0272\n",
      "Epoch 34, Loss G:  6.7873,Loss D: -0.0062\n",
      "Epoch 35, Loss G:  6.7839,Loss D:  0.0182\n",
      "Epoch 36, Loss G:  6.7662,Loss D:  0.0304\n",
      "Epoch 37, Loss G:  6.7762,Loss D:  0.0110\n",
      "Epoch 38, Loss G:  6.7903,Loss D:  0.0033\n",
      "Epoch 39, Loss G:  6.7349,Loss D: -0.0227\n",
      "Epoch 40, Loss G:  6.7502,Loss D: -0.0118\n",
      "Epoch 41, Loss G:  6.6762,Loss D:  0.0126\n",
      "Epoch 42, Loss G:  6.6417,Loss D:  0.0147\n",
      "Epoch 43, Loss G:  6.6632,Loss D:  0.0177\n",
      "Epoch 44, Loss G:  6.7350,Loss D:  0.0013\n",
      "Epoch 45, Loss G:  6.6835,Loss D: -0.0016\n",
      "Epoch 46, Loss G:  6.6303,Loss D: -0.0011\n",
      "Epoch 47, Loss G:  6.6458,Loss D:  0.0059\n",
      "Epoch 48, Loss G:  6.6394,Loss D: -0.0010\n",
      "Epoch 49, Loss G:  6.6714,Loss D: -0.0122\n",
      "Epoch 50, Loss G:  6.6357,Loss D: -0.0383\n",
      "Epoch 51, Loss G:  6.6305,Loss D: -0.0183\n",
      "Epoch 52, Loss G:  6.6350,Loss D:  0.0036\n",
      "Epoch 53, Loss G:  6.5773,Loss D: -0.0152\n",
      "Epoch 54, Loss G:  6.5895,Loss D: -0.0044\n",
      "Epoch 55, Loss G:  6.5882,Loss D:  0.0262\n",
      "Epoch 56, Loss G:  6.5143,Loss D:  0.0250\n",
      "Epoch 57, Loss G:  6.4696,Loss D:  0.0139\n",
      "Epoch 58, Loss G:  6.4683,Loss D:  0.0058\n",
      "Epoch 59, Loss G:  6.4496,Loss D: -0.0072\n",
      "Epoch 60, Loss G:  6.4103,Loss D: -0.0125\n",
      "Epoch 61, Loss G:  6.4091,Loss D: -0.0122\n",
      "Epoch 62, Loss G:  6.3144,Loss D: -0.0154\n",
      "Epoch 63, Loss G:  6.3387,Loss D:  0.0005\n",
      "Epoch 64, Loss G:  6.2515,Loss D: -0.0038\n",
      "Epoch 65, Loss G:  6.2500,Loss D:  0.0330\n",
      "Epoch 66, Loss G:  6.2362,Loss D:  0.0176\n",
      "Epoch 67, Loss G:  6.2126,Loss D:  0.0041\n",
      "Epoch 68, Loss G:  6.1791,Loss D: -0.0127\n",
      "Epoch 69, Loss G:  6.0991,Loss D: -0.0033\n",
      "Epoch 70, Loss G:  6.0499,Loss D: -0.0018\n",
      "Epoch 71, Loss G:  6.0312,Loss D:  0.0158\n",
      "Epoch 72, Loss G:  6.0216,Loss D: -0.0292\n",
      "Epoch 73, Loss G:  5.8778,Loss D: -0.0181\n",
      "Epoch 74, Loss G:  5.9129,Loss D: -0.0100\n",
      "Epoch 75, Loss G:  5.8226,Loss D:  0.0003\n",
      "Epoch 76, Loss G:  5.7614,Loss D: -0.0116\n",
      "Epoch 77, Loss G:  5.7044,Loss D: -0.0022\n",
      "Epoch 78, Loss G:  5.6469,Loss D:  0.0162\n",
      "Epoch 79, Loss G:  5.5931,Loss D:  0.0094\n",
      "Epoch 80, Loss G:  5.4787,Loss D:  0.0044\n",
      "Epoch 81, Loss G:  5.4737,Loss D: -0.0089\n",
      "Epoch 82, Loss G:  5.3706,Loss D: -0.0257\n",
      "Epoch 83, Loss G:  5.2775,Loss D: -0.0179\n",
      "Epoch 84, Loss G:  5.2971,Loss D:  0.0050\n",
      "Epoch 85, Loss G:  5.2045,Loss D: -0.0043\n",
      "Epoch 86, Loss G:  5.1282,Loss D:  0.0002\n",
      "Epoch 87, Loss G:  5.1120,Loss D: -0.0104\n",
      "Epoch 88, Loss G:  4.9632,Loss D: -0.0224\n",
      "Epoch 89, Loss G:  4.9382,Loss D:  0.0154\n",
      "Epoch 90, Loss G:  4.8606,Loss D:  0.0223\n",
      "Epoch 91, Loss G:  4.8551,Loss D:  0.0212\n",
      "Epoch 92, Loss G:  4.7817,Loss D: -0.0012\n",
      "Epoch 93, Loss G:  4.6976,Loss D: -0.0147\n",
      "Epoch 94, Loss G:  4.7232,Loss D: -0.0219\n",
      "Epoch 95, Loss G:  4.6022,Loss D: -0.0401\n",
      "Epoch 96, Loss G:  4.4103,Loss D: -0.0299\n",
      "Epoch 97, Loss G:  4.3316,Loss D:  0.0003\n",
      "Epoch 98, Loss G:  4.3281,Loss D: -0.0022\n",
      "Epoch 99, Loss G:  4.1596,Loss D:  0.0127\n",
      "Epoch 100, Loss G:  4.1341,Loss D:  0.0244\n",
      "Epoch 101, Loss G:  4.0915,Loss D:  0.0129\n",
      "Epoch 102, Loss G:  3.9564,Loss D: -0.0086\n",
      "Epoch 103, Loss G:  3.8968,Loss D: -0.0142\n",
      "Epoch 104, Loss G:  3.9103,Loss D: -0.0089\n",
      "Epoch 105, Loss G:  3.8475,Loss D: -0.0320\n",
      "Epoch 106, Loss G:  3.7688,Loss D: -0.0416\n",
      "Epoch 107, Loss G:  3.5305,Loss D: -0.0093\n",
      "Epoch 108, Loss G:  3.3437,Loss D:  0.0051\n",
      "Epoch 109, Loss G:  3.4199,Loss D:  0.0018\n",
      "Epoch 110, Loss G:  3.2386,Loss D:  0.0320\n",
      "Epoch 111, Loss G:  3.2094,Loss D: -0.0054\n",
      "Epoch 112, Loss G:  3.1529,Loss D: -0.0168\n",
      "Epoch 113, Loss G:  2.9458,Loss D: -0.0225\n",
      "Epoch 114, Loss G:  2.9057,Loss D: -0.0415\n",
      "Epoch 115, Loss G:  2.7610,Loss D: -0.0252\n",
      "Epoch 116, Loss G:  2.5500,Loss D: -0.0052\n",
      "Epoch 117, Loss G:  2.3373,Loss D: -0.0167\n",
      "Epoch 118, Loss G:  2.3694,Loss D:  0.0203\n",
      "Epoch 119, Loss G:  2.2016,Loss D:  0.0093\n",
      "Epoch 120, Loss G:  2.0944,Loss D:  0.0046\n",
      "Epoch 121, Loss G:  1.9697,Loss D: -0.0063\n",
      "Epoch 122, Loss G:  1.8534,Loss D:  0.0039\n",
      "Epoch 123, Loss G:  1.6492,Loss D: -0.0070\n",
      "Epoch 124, Loss G:  1.5389,Loss D: -0.0107\n",
      "Epoch 125, Loss G:  1.4597,Loss D: -0.0128\n",
      "Epoch 126, Loss G:  1.2782,Loss D: -0.0499\n",
      "Epoch 127, Loss G:  1.1820,Loss D: -0.0341\n",
      "Epoch 128, Loss G:  1.1192,Loss D:  0.0078\n",
      "Epoch 129, Loss G:  0.9088,Loss D:  0.0181\n",
      "Epoch 130, Loss G:  0.7701,Loss D:  0.0052\n",
      "Epoch 131, Loss G:  0.7221,Loss D:  0.0049\n",
      "Epoch 132, Loss G:  0.6029,Loss D:  0.0030\n",
      "Epoch 133, Loss G:  0.5232,Loss D:  0.0048\n",
      "Epoch 134, Loss G:  0.4699,Loss D:  0.0045\n",
      "Epoch 135, Loss G:  0.3893,Loss D:  0.0159\n",
      "Epoch 136, Loss G:  0.2889,Loss D:  0.0009\n",
      "Epoch 137, Loss G:  0.2595,Loss D:  0.0051\n",
      "Epoch 138, Loss G:  0.2068,Loss D:  0.0054\n",
      "Epoch 139, Loss G:  0.1396,Loss D: -0.0017\n",
      "Epoch 140, Loss G:  0.0900,Loss D:  0.0013\n",
      "Epoch 141, Loss G:  0.0645,Loss D: -0.0029\n",
      "Epoch 142, Loss G:  0.0137,Loss D: -0.0162\n",
      "Epoch 143, Loss G: -0.0303,Loss D: -0.0132\n",
      "Epoch 144, Loss G: -0.0411,Loss D: -0.0212\n",
      "Epoch 145, Loss G: -0.0621,Loss D: -0.0510\n",
      "Epoch 146, Loss G: -0.0939,Loss D: -0.0173\n",
      "Epoch 147, Loss G: -0.1273,Loss D: -0.0157\n",
      "Epoch 148, Loss G: -0.1587,Loss D:  0.0149\n",
      "Epoch 149, Loss G: -0.1714,Loss D:  0.0217\n",
      "Epoch 150, Loss G: -0.1589,Loss D:  0.0179\n",
      "Epoch 151, Loss G: -0.1675,Loss D:  0.0196\n",
      "Epoch 152, Loss G: -0.1630,Loss D:  0.0178\n",
      "Epoch 153, Loss G: -0.1491,Loss D: -0.0113\n",
      "Epoch 154, Loss G: -0.1522,Loss D: -0.0155\n",
      "Epoch 155, Loss G: -0.1687,Loss D: -0.0138\n",
      "Epoch 156, Loss G: -0.1723,Loss D:  0.0120\n",
      "Epoch 157, Loss G: -0.1932,Loss D:  0.0235\n",
      "Epoch 158, Loss G: -0.2076,Loss D:  0.0244\n",
      "Epoch 159, Loss G: -0.2062,Loss D:  0.0227\n",
      "Epoch 160, Loss G: -0.1937,Loss D:  0.0103\n",
      "Epoch 161, Loss G: -0.1900,Loss D: -0.0205\n",
      "Epoch 162, Loss G: -0.2022,Loss D: -0.0291\n",
      "Epoch 163, Loss G: -0.2206,Loss D: -0.0102\n",
      "Epoch 164, Loss G: -0.2405,Loss D:  0.0090\n",
      "Epoch 165, Loss G: -0.2622,Loss D:  0.0302\n",
      "Epoch 166, Loss G: -0.2666,Loss D:  0.0118\n",
      "Epoch 167, Loss G: -0.2581,Loss D:  0.0119\n",
      "Epoch 168, Loss G: -0.2458,Loss D:  0.0152\n",
      "Epoch 169, Loss G: -0.2273,Loss D:  0.0151\n",
      "Epoch 170, Loss G: -0.2174,Loss D: -0.0075\n",
      "Epoch 171, Loss G: -0.2175,Loss D: -0.0043\n",
      "Epoch 172, Loss G: -0.2413,Loss D: -0.0099\n",
      "Epoch 173, Loss G: -0.2302,Loss D: -0.0215\n",
      "Epoch 174, Loss G: -0.2631,Loss D:  0.0190\n",
      "Epoch 175, Loss G: -0.2662,Loss D:  0.0174\n",
      "Epoch 176, Loss G: -0.2788,Loss D:  0.0568\n",
      "Epoch 177, Loss G: -0.2612,Loss D:  0.0351\n",
      "Epoch 178, Loss G: -0.2413,Loss D: -0.0172\n",
      "Epoch 179, Loss G: -0.2530,Loss D: -0.0363\n",
      "Epoch 180, Loss G: -0.2638,Loss D: -0.0463\n",
      "Epoch 181, Loss G: -0.2956,Loss D: -0.0217\n",
      "Epoch 182, Loss G: -0.3120,Loss D:  0.0052\n",
      "Epoch 183, Loss G: -0.3121,Loss D:  0.0103\n",
      "Epoch 184, Loss G: -0.2966,Loss D:  0.0319\n",
      "Epoch 185, Loss G: -0.3038,Loss D:  0.0142\n",
      "Epoch 186, Loss G: -0.2874,Loss D:  0.0259\n",
      "Epoch 187, Loss G: -0.2916,Loss D:  0.0228\n",
      "Epoch 188, Loss G: -0.2849,Loss D: -0.0007\n",
      "Epoch 189, Loss G: -0.2725,Loss D: -0.0181\n",
      "Epoch 190, Loss G: -0.2817,Loss D: -0.0084\n",
      "Epoch 191, Loss G: -0.2896,Loss D: -0.0085\n",
      "Epoch 192, Loss G: -0.2811,Loss D: -0.0260\n",
      "Epoch 193, Loss G: -0.2696,Loss D:  0.0117\n",
      "Epoch 194, Loss G: -0.3032,Loss D:  0.0249\n",
      "Epoch 195, Loss G: -0.2981,Loss D:  0.0218\n",
      "Epoch 196, Loss G: -0.2946,Loss D:  0.0080\n",
      "Epoch 197, Loss G: -0.2986,Loss D: -0.0047\n",
      "Epoch 198, Loss G: -0.3003,Loss D: -0.0221\n",
      "Epoch 199, Loss G: -0.2993,Loss D: -0.0331\n",
      "Epoch 200, Loss G: -0.3034,Loss D: -0.0349\n",
      "Epoch 201, Loss G: -0.3167,Loss D: -0.0080\n",
      "Epoch 202, Loss G: -0.3312,Loss D: -0.0068\n",
      "Epoch 203, Loss G: -0.3456,Loss D: -0.0167\n",
      "Epoch 204, Loss G: -0.3565,Loss D:  0.0075\n",
      "Epoch 205, Loss G: -0.3481,Loss D:  0.0046\n",
      "Epoch 206, Loss G: -0.3582,Loss D:  0.0107\n",
      "Epoch 207, Loss G: -0.3529,Loss D:  0.0234\n",
      "Epoch 208, Loss G: -0.3419,Loss D:  0.0024\n",
      "Epoch 209, Loss G: -0.3347,Loss D:  0.0010\n",
      "Epoch 210, Loss G: -0.3289,Loss D: -0.0183\n",
      "Epoch 211, Loss G: -0.3182,Loss D:  0.0045\n",
      "Epoch 212, Loss G: -0.3138,Loss D: -0.0017\n",
      "Epoch 213, Loss G: -0.2979,Loss D: -0.0101\n",
      "Epoch 214, Loss G: -0.3043,Loss D: -0.0362\n",
      "Epoch 215, Loss G: -0.3360,Loss D: -0.0047\n",
      "Epoch 216, Loss G: -0.3682,Loss D:  0.0359\n",
      "Epoch 217, Loss G: -0.3607,Loss D:  0.0363\n",
      "Epoch 218, Loss G: -0.3597,Loss D:  0.0384\n",
      "Epoch 219, Loss G: -0.3652,Loss D:  0.0016\n",
      "Epoch 220, Loss G: -0.3632,Loss D: -0.0007\n",
      "Epoch 221, Loss G: -0.3480,Loss D: -0.0522\n",
      "Epoch 222, Loss G: -0.3542,Loss D: -0.0595\n",
      "Epoch 223, Loss G: -0.3611,Loss D:  0.0076\n",
      "Epoch 224, Loss G: -0.3707,Loss D:  0.0150\n",
      "Epoch 225, Loss G: -0.4143,Loss D:  0.0060\n",
      "Epoch 226, Loss G: -0.4150,Loss D:  0.0051\n",
      "Epoch 227, Loss G: -0.4170,Loss D:  0.0323\n",
      "Epoch 228, Loss G: -0.3830,Loss D: -0.0066\n",
      "Epoch 229, Loss G: -0.3609,Loss D:  0.0138\n",
      "Epoch 230, Loss G: -0.3395,Loss D: -0.0105\n",
      "Epoch 231, Loss G: -0.3424,Loss D: -0.0378\n",
      "Epoch 232, Loss G: -0.3490,Loss D: -0.0055\n",
      "Epoch 233, Loss G: -0.3403,Loss D: -0.0120\n",
      "Epoch 234, Loss G: -0.3535,Loss D: -0.0082\n",
      "Epoch 235, Loss G: -0.3443,Loss D:  0.0249\n",
      "Epoch 236, Loss G: -0.3824,Loss D:  0.0034\n",
      "Epoch 237, Loss G: -0.3948,Loss D: -0.0128\n",
      "Epoch 238, Loss G: -0.4109,Loss D:  0.0290\n",
      "Epoch 239, Loss G: -0.4115,Loss D:  0.0290\n",
      "Epoch 240, Loss G: -0.4058,Loss D:  0.0164\n",
      "Epoch 241, Loss G: -0.4158,Loss D: -0.0309\n",
      "Epoch 242, Loss G: -0.4164,Loss D:  0.0064\n",
      "Epoch 243, Loss G: -0.4069,Loss D: -0.0116\n",
      "Epoch 244, Loss G: -0.4393,Loss D:  0.0076\n",
      "Epoch 245, Loss G: -0.4287,Loss D:  0.0016\n",
      "Epoch 246, Loss G: -0.4270,Loss D: -0.0026\n",
      "Epoch 247, Loss G: -0.4242,Loss D:  0.0064\n",
      "Epoch 248, Loss G: -0.4038,Loss D: -0.0253\n",
      "Epoch 249, Loss G: -0.4593,Loss D: -0.0057\n",
      "Epoch 250, Loss G: -0.4354,Loss D:  0.0012\n",
      "Epoch 251, Loss G: -0.4502,Loss D:  0.0415\n",
      "Epoch 252, Loss G: -0.4464,Loss D:  0.0311\n",
      "Epoch 253, Loss G: -0.4670,Loss D:  0.0298\n",
      "Epoch 254, Loss G: -0.4120,Loss D:  0.0250\n",
      "Epoch 255, Loss G: -0.4244,Loss D:  0.0073\n",
      "Epoch 256, Loss G: -0.4305,Loss D: -0.0112\n",
      "Epoch 257, Loss G: -0.4322,Loss D:  0.0047\n",
      "Epoch 258, Loss G: -0.4611,Loss D: -0.0048\n",
      "Epoch 259, Loss G: -0.4638,Loss D:  0.0310\n",
      "Epoch 260, Loss G: -0.4634,Loss D:  0.0224\n",
      "Epoch 261, Loss G: -0.4830,Loss D:  0.0192\n",
      "Epoch 262, Loss G: -0.4608,Loss D:  0.0225\n",
      "Epoch 263, Loss G: -0.4546,Loss D:  0.0142\n",
      "Epoch 264, Loss G: -0.4415,Loss D: -0.0244\n",
      "Epoch 265, Loss G: -0.4193,Loss D:  0.0003\n",
      "Epoch 266, Loss G: -0.4087,Loss D: -0.0318\n",
      "Epoch 267, Loss G: -0.4118,Loss D: -0.0673\n",
      "Epoch 268, Loss G: -0.4072,Loss D: -0.0385\n",
      "Epoch 269, Loss G: -0.4220,Loss D:  0.0036\n",
      "Epoch 270, Loss G: -0.4659,Loss D:  0.0280\n",
      "Epoch 271, Loss G: -0.4794,Loss D:  0.0436\n",
      "Epoch 272, Loss G: -0.4729,Loss D:  0.0293\n",
      "Epoch 273, Loss G: -0.4548,Loss D:  0.0294\n",
      "Epoch 274, Loss G: -0.4557,Loss D:  0.0118\n",
      "Epoch 275, Loss G: -0.4343,Loss D: -0.0124\n",
      "Epoch 276, Loss G: -0.4336,Loss D:  0.0145\n",
      "Epoch 277, Loss G: -0.4566,Loss D: -0.0351\n",
      "Epoch 278, Loss G: -0.4522,Loss D: -0.0075\n",
      "Epoch 279, Loss G: -0.4872,Loss D:  0.0008\n",
      "Epoch 280, Loss G: -0.4936,Loss D: -0.0042\n",
      "Epoch 281, Loss G: -0.5228,Loss D: -0.0069\n",
      "Epoch 282, Loss G: -0.5239,Loss D:  0.0061\n",
      "Epoch 283, Loss G: -0.5346,Loss D:  0.0316\n",
      "Epoch 284, Loss G: -0.5181,Loss D:  0.0163\n",
      "Epoch 285, Loss G: -0.5111,Loss D: -0.0176\n",
      "Epoch 286, Loss G: -0.5051,Loss D: -0.0130\n",
      "Epoch 287, Loss G: -0.4789,Loss D: -0.0156\n",
      "Epoch 288, Loss G: -0.4985,Loss D: -0.0191\n",
      "Epoch 289, Loss G: -0.5090,Loss D:  0.0043\n",
      "Epoch 290, Loss G: -0.5577,Loss D:  0.0403\n",
      "Epoch 291, Loss G: -0.5700,Loss D:  0.0400\n",
      "Epoch 292, Loss G: -0.5990,Loss D:  0.0486\n",
      "Epoch 293, Loss G: -0.5473,Loss D:  0.0286\n",
      "Epoch 294, Loss G: -0.5305,Loss D: -0.0053\n",
      "Epoch 295, Loss G: -0.5272,Loss D: -0.0116\n",
      "Epoch 296, Loss G: -0.4877,Loss D: -0.0378\n",
      "Epoch 297, Loss G: -0.4963,Loss D: -0.0368\n",
      "Epoch 298, Loss G: -0.5030,Loss D: -0.0542\n",
      "Epoch 299, Loss G: -0.5213,Loss D: -0.0225\n",
      "Epoch 300, Loss G: -0.5388,Loss D:  0.0520\n"
     ]
    }
   ],
   "source": [
    "train_data = labevents_df.sample(n=2000)\n",
    "model.fit(train_data)"
   ]
  },
  {
   "cell_type": "code",
   "execution_count": 81,
   "metadata": {},
   "outputs": [],
   "source": [
    "# model.save(date_set_path + \"100_models/\" + \"labevents_model.pkl\")\n",
    "\n",
    "import cloudpickle\n",
    "\n",
    "with open(date_set_path + \"100_models/\" + \"labevents_model.pkl\", 'wb') as f:\n",
    "    cloudpickle.dump(model, f)"
   ]
  },
  {
   "cell_type": "code",
   "execution_count": 82,
   "metadata": {},
   "outputs": [
    {
     "name": "stderr",
     "output_type": "stream",
     "text": [
      "Sampling rows: 100%|██████████| 10000/10000 [00:00<00:00, 16598.99it/s]\n"
     ]
    }
   ],
   "source": [
    "sample = model.sample(num_rows=10000)"
   ]
  },
  {
   "cell_type": "code",
   "execution_count": 84,
   "metadata": {},
   "outputs": [],
   "source": [
    "def format_values(df):\n",
    "    if is_number(df['value']):\n",
    "        return round(float(df['value']), 2)\n",
    "    else:\n",
    "        return df['value']\n"
   ]
  },
  {
   "cell_type": "code",
   "execution_count": 85,
   "metadata": {},
   "outputs": [],
   "source": [
    "sample['value'] = sample.apply(format_values, axis=1)\n",
    "sample['value'] = sample['value'].astype(str)"
   ]
  },
  {
   "cell_type": "code",
   "execution_count": 86,
   "metadata": {},
   "outputs": [
    {
     "data": {
      "text/plain": [
       "0.9246008790957898"
      ]
     },
     "execution_count": 86,
     "metadata": {},
     "output_type": "execute_result"
    }
   ],
   "source": [
    "evaluate(sample, train_data, metrics=['ContinuousKLDivergence'])"
   ]
  },
  {
   "cell_type": "code",
   "execution_count": 87,
   "metadata": {},
   "outputs": [
    {
     "data": {
      "text/plain": [
       "0.13475231087482883"
      ]
     },
     "execution_count": 87,
     "metadata": {},
     "output_type": "execute_result"
    }
   ],
   "source": [
    "evaluate(sample, train_data, metrics=['DiscreteKLDivergence'])"
   ]
  },
  {
   "cell_type": "code",
   "execution_count": 88,
   "metadata": {},
   "outputs": [
    {
     "data": {
      "text/plain": [
       "0.569835364412904"
      ]
     },
     "execution_count": 88,
     "metadata": {},
     "output_type": "execute_result"
    }
   ],
   "source": [
    "evaluate(sample, train_data)"
   ]
  },
  {
   "cell_type": "code",
   "execution_count": 91,
   "metadata": {},
   "outputs": [
    {
     "data": {
      "text/plain": [
       "<AxesSubplot:>"
      ]
     },
     "execution_count": 91,
     "metadata": {},
     "output_type": "execute_result"
    },
    {
     "data": {
      "image/png": "[encoded data removed]",
      "text/plain": [
       "<Figure size 432x288 with 1 Axes>"
      ]
     },
     "metadata": {
      "needs_background": "light"
     },
     "output_type": "display_data"
    }
   ],
   "source": [
    "sample.sort_values('itemid')['itemid'].hist()"
   ]
  },
  {
   "cell_type": "code",
   "execution_count": 92,
   "metadata": {},
   "outputs": [
    {
     "data": {
      "text/plain": [
       "<AxesSubplot:>"
      ]
     },
     "execution_count": 92,
     "metadata": {},
     "output_type": "execute_result"
    },
    {
     "data": {
      "image/png": "[encoded data removed]",
      "text/plain": [
       "<Figure size 432x288 with 1 Axes>"
      ]
     },
     "metadata": {
      "needs_background": "light"
     },
     "output_type": "display_data"
    }
   ],
   "source": [
    "train_data.sort_values('itemid')['itemid'].hist()"
   ]
  }
 ],
 "metadata": {
  "kernelspec": {
   "display_name": "Python 3.8.13 ('msc_project')",
   "language": "python",
   "name": "python3"
  },
  "language_info": {
   "codemirror_mode": {
    "name": "ipython",
    "version": 3
   },
   "file_extension": ".py",
   "mimetype": "text/x-python",
   "name": "python",
   "nbconvert_exporter": "python",
   "pygments_lexer": "ipython3",
   "version": "3.8.13"
  },
  "orig_nbformat": 4,
  "vscode": {
   "interpreter": {
    "hash": "e56015fb566b08f7af163d42c82cf08fa5d6db3fbaaffa0afaaff5a893fc0496"
   }
  }
 },
 "nbformat": 4,
 "nbformat_minor": 2
}
