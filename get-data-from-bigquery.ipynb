{
 "cells": [
  {
   "cell_type": "code",
   "execution_count": 44,
   "metadata": {},
   "outputs": [
    {
     "name": "stdout",
     "output_type": "stream",
     "text": [
      "The google.cloud.bigquery extension is already loaded. To reload it, use:\n",
      "  %reload_ext google.cloud.bigquery\n"
     ]
    }
   ],
   "source": [
    "%load_ext google.cloud.bigquery"
   ]
  },
  {
   "cell_type": "code",
   "execution_count": 45,
   "metadata": {},
   "outputs": [],
   "source": [
    "from google.cloud import bigquery\n",
    "import pandas as pd\n",
    "import matplotlib.pyplot as plt"
   ]
  },
  {
   "cell_type": "code",
   "execution_count": 46,
   "metadata": {},
   "outputs": [],
   "source": [
    "client = bigquery.Client()"
   ]
  },
  {
   "cell_type": "code",
   "execution_count": 47,
   "metadata": {},
   "outputs": [],
   "source": [
    "# create query scripts\n",
    "\n",
    "def create_query_scripts(table_name):\n",
    "    return \"SELECT * FROM my-msc-project-345300.MIMIC_III.\" + table_name + \" WHERE SUBJECT_ID = \""
   ]
  },
  {
   "cell_type": "code",
   "execution_count": 48,
   "metadata": {},
   "outputs": [],
   "source": [
    "# Query data from Google Bigquery\n",
    "\n",
    "def select_data(subject_ids, query):\n",
    "    table_df = pd.DataFrame()\n",
    "\n",
    "    for subject_id in subject_ids:\n",
    "        new_query = query + str(subject_id)\n",
    "        select_result = client.query(new_query).result().to_dataframe()\n",
    "\n",
    "        if table_df.empty:\n",
    "            table_df = select_result.copy()\n",
    "        else:\n",
    "            table_df = pd.concat([table_df, select_result], axis=0)\n",
    "\n",
    "    return table_df"
   ]
  },
  {
   "cell_type": "markdown",
   "metadata": {},
   "source": [
    "## Select patient sample"
   ]
  },
  {
   "cell_type": "code",
   "execution_count": 49,
   "metadata": {},
   "outputs": [
    {
     "data": {
      "text/html": [
       "<div>\n",
       "<style scoped>\n",
       "    .dataframe tbody tr th:only-of-type {\n",
       "        vertical-align: middle;\n",
       "    }\n",
       "\n",
       "    .dataframe tbody tr th {\n",
       "        vertical-align: top;\n",
       "    }\n",
       "\n",
       "    .dataframe thead th {\n",
       "        text-align: right;\n",
       "    }\n",
       "</style>\n",
       "<table border=\"1\" class=\"dataframe\">\n",
       "  <thead>\n",
       "    <tr style=\"text-align: right;\">\n",
       "      <th></th>\n",
       "      <th>ROW_ID</th>\n",
       "      <th>SUBJECT_ID</th>\n",
       "      <th>GENDER</th>\n",
       "      <th>DOB</th>\n",
       "      <th>DOD</th>\n",
       "      <th>DOD_HOSP</th>\n",
       "      <th>DOD_SSN</th>\n",
       "      <th>EXPIRE_FLAG</th>\n",
       "    </tr>\n",
       "  </thead>\n",
       "  <tbody>\n",
       "    <tr>\n",
       "      <th>0</th>\n",
       "      <td>1201</td>\n",
       "      <td>1265</td>\n",
       "      <td>M</td>\n",
       "      <td>2140-07-31</td>\n",
       "      <td>2192-04-08</td>\n",
       "      <td>NaT</td>\n",
       "      <td>2192-04-08</td>\n",
       "      <td>1</td>\n",
       "    </tr>\n",
       "    <tr>\n",
       "      <th>1</th>\n",
       "      <td>17722</td>\n",
       "      <td>18756</td>\n",
       "      <td>F</td>\n",
       "      <td>1840-12-01</td>\n",
       "      <td>NaT</td>\n",
       "      <td>NaT</td>\n",
       "      <td>NaT</td>\n",
       "      <td>0</td>\n",
       "    </tr>\n",
       "    <tr>\n",
       "      <th>2</th>\n",
       "      <td>13435</td>\n",
       "      <td>14206</td>\n",
       "      <td>F</td>\n",
       "      <td>2101-05-30</td>\n",
       "      <td>NaT</td>\n",
       "      <td>NaT</td>\n",
       "      <td>NaT</td>\n",
       "      <td>0</td>\n",
       "    </tr>\n",
       "    <tr>\n",
       "      <th>3</th>\n",
       "      <td>41348</td>\n",
       "      <td>80222</td>\n",
       "      <td>F</td>\n",
       "      <td>2080-02-11</td>\n",
       "      <td>NaT</td>\n",
       "      <td>NaT</td>\n",
       "      <td>NaT</td>\n",
       "      <td>0</td>\n",
       "    </tr>\n",
       "    <tr>\n",
       "      <th>4</th>\n",
       "      <td>21368</td>\n",
       "      <td>22639</td>\n",
       "      <td>M</td>\n",
       "      <td>2058-08-17</td>\n",
       "      <td>NaT</td>\n",
       "      <td>NaT</td>\n",
       "      <td>NaT</td>\n",
       "      <td>0</td>\n",
       "    </tr>\n",
       "  </tbody>\n",
       "</table>\n",
       "</div>"
      ],
      "text/plain": [
       "   ROW_ID  SUBJECT_ID GENDER        DOB        DOD DOD_HOSP    DOD_SSN  \\\n",
       "0    1201        1265      M 2140-07-31 2192-04-08      NaT 2192-04-08   \n",
       "1   17722       18756      F 1840-12-01        NaT      NaT        NaT   \n",
       "2   13435       14206      F 2101-05-30        NaT      NaT        NaT   \n",
       "3   41348       80222      F 2080-02-11        NaT      NaT        NaT   \n",
       "4   21368       22639      M 2058-08-17        NaT      NaT        NaT   \n",
       "\n",
       "   EXPIRE_FLAG  \n",
       "0            1  \n",
       "1            0  \n",
       "2            0  \n",
       "3            0  \n",
       "4            0  "
      ]
     },
     "execution_count": 49,
     "metadata": {},
     "output_type": "execute_result"
    }
   ],
   "source": [
    "query_get_random_patients = \"SELECT * FROM my-msc-project-345300.MIMIC_III.patients order by rand() limit 1000;\"\n",
    "random_patients_df = client.query(query_get_random_patients).result().to_dataframe()\n",
    "\n",
    "random_patients_df.head()"
   ]
  },
  {
   "cell_type": "code",
   "execution_count": 50,
   "metadata": {},
   "outputs": [],
   "source": [
    "random_patients_df.to_csv(\"./temp_sets/patients.csv\")"
   ]
  },
  {
   "cell_type": "code",
   "execution_count": 51,
   "metadata": {},
   "outputs": [
    {
     "data": {
      "text/plain": [
       "0       1265\n",
       "1      18756\n",
       "2      14206\n",
       "3      80222\n",
       "4      22639\n",
       "       ...  \n",
       "995     4602\n",
       "996    21490\n",
       "997    27982\n",
       "998    54600\n",
       "999    25982\n",
       "Name: SUBJECT_ID, Length: 1000, dtype: Int64"
      ]
     },
     "execution_count": 51,
     "metadata": {},
     "output_type": "execute_result"
    }
   ],
   "source": [
    "# Pick Subject_id\n",
    "patients_subject_ids = random_patients_df['SUBJECT_ID']\n",
    "patients_subject_ids"
   ]
  },
  {
   "cell_type": "markdown",
   "metadata": {},
   "source": [
    "### Patients and transfer information"
   ]
  },
  {
   "cell_type": "code",
   "execution_count": null,
   "metadata": {},
   "outputs": [],
   "source": [
    "admissions_sample_df = select_data(patients_subject_ids, create_query_scripts('admissions'))"
   ]
  },
  {
   "cell_type": "code",
   "execution_count": null,
   "metadata": {},
   "outputs": [],
   "source": [
    "admissions_sample_df.to_csv(\"./temp_sets/admissions.csv\")"
   ]
  },
  {
   "cell_type": "code",
   "execution_count": null,
   "metadata": {},
   "outputs": [],
   "source": [
    "callout_sample_df = select_data(patients_subject_ids, create_query_scripts('callout'))"
   ]
  },
  {
   "cell_type": "code",
   "execution_count": null,
   "metadata": {},
   "outputs": [],
   "source": [
    "callout_sample_df.to_csv(\"./temp_sets/callout.csv\")"
   ]
  },
  {
   "cell_type": "code",
   "execution_count": null,
   "metadata": {},
   "outputs": [],
   "source": [
    "icustays_sample_df = select_data(patients_subject_ids, create_query_scripts('icustays'))"
   ]
  },
  {
   "cell_type": "code",
   "execution_count": null,
   "metadata": {},
   "outputs": [],
   "source": [
    "icustays_sample_df.to_csv(\"./temp_sets/icustays.csv\")"
   ]
  },
  {
   "cell_type": "code",
   "execution_count": null,
   "metadata": {},
   "outputs": [],
   "source": [
    "services_sample_df = select_data(patients_subject_ids, create_query_scripts('services'))"
   ]
  },
  {
   "cell_type": "code",
   "execution_count": null,
   "metadata": {},
   "outputs": [],
   "source": [
    "services_sample_df.to_csv(\"./temp_sets/services.csv\")"
   ]
  },
  {
   "cell_type": "code",
   "execution_count": null,
   "metadata": {},
   "outputs": [],
   "source": [
    "transfers_sample_df = select_data(patients_subject_ids, create_query_scripts('transfers'))"
   ]
  },
  {
   "cell_type": "code",
   "execution_count": null,
   "metadata": {},
   "outputs": [],
   "source": [
    "transfers_sample_df.to_csv(\"./temp_sets/transfers.csv\")"
   ]
  },
  {
   "cell_type": "markdown",
   "metadata": {},
   "source": [
    "### ICU Information"
   ]
  },
  {
   "cell_type": "code",
   "execution_count": null,
   "metadata": {},
   "outputs": [],
   "source": [
    "caregivers_sample_df = None"
   ]
  },
  {
   "cell_type": "code",
   "execution_count": null,
   "metadata": {},
   "outputs": [],
   "source": [
    "chartevents_sample_df = select_data(patients_subject_ids, create_query_scripts('./temp_sets/chartevents'))"
   ]
  },
  {
   "cell_type": "code",
   "execution_count": null,
   "metadata": {},
   "outputs": [],
   "source": [
    "chartevents_sample_df.to_csv(\"./temp_sets/chartevents.csv\")"
   ]
  },
  {
   "cell_type": "code",
   "execution_count": null,
   "metadata": {},
   "outputs": [],
   "source": [
    "datetimeevents_sample_df = select_data(patients_subject_ids, create_query_scripts('datetimeevents'))"
   ]
  },
  {
   "cell_type": "code",
   "execution_count": null,
   "metadata": {},
   "outputs": [],
   "source": [
    "datetimeevents_sample_df.to_csv(\"datetimeevents.csv\")"
   ]
  },
  {
   "cell_type": "code",
   "execution_count": null,
   "metadata": {},
   "outputs": [],
   "source": [
    "inputevents_cv_sample_df = select_data(patients_subject_ids, create_query_scripts('inputevents_cv'))"
   ]
  },
  {
   "cell_type": "code",
   "execution_count": null,
   "metadata": {},
   "outputs": [],
   "source": [
    "inputevents_cv_sample_df.to_csv(\"inputevents_cv.csv\")"
   ]
  },
  {
   "cell_type": "code",
   "execution_count": null,
   "metadata": {},
   "outputs": [],
   "source": [
    "inputevents_mv_sample_df = select_data(patients_subject_ids, create_query_scripts('inputevents_mv'))"
   ]
  },
  {
   "cell_type": "code",
   "execution_count": null,
   "metadata": {},
   "outputs": [],
   "source": [
    "inputevents_mv_sample_df.to_csv(\"inputevents_mv.csv\")"
   ]
  },
  {
   "cell_type": "code",
   "execution_count": null,
   "metadata": {},
   "outputs": [],
   "source": [
    "outputevents_sample_df = select_data(patients_subject_ids, create_query_scripts('outputevents'))"
   ]
  },
  {
   "cell_type": "code",
   "execution_count": null,
   "metadata": {},
   "outputs": [],
   "source": [
    "outputevents_sample_df.to_csv(\"outputevents.csv\")"
   ]
  },
  {
   "cell_type": "code",
   "execution_count": null,
   "metadata": {},
   "outputs": [],
   "source": [
    "procedureevents_mv_sample_df = select_data(patients_subject_ids, create_query_scripts('procedureevents_mv'))"
   ]
  },
  {
   "cell_type": "code",
   "execution_count": null,
   "metadata": {},
   "outputs": [],
   "source": [
    "procedureevents_mv_sample_df.to_csv(\"procedureevents_mv.csv\")"
   ]
  },
  {
   "cell_type": "markdown",
   "metadata": {},
   "source": [
    "### Hospital recording"
   ]
  },
  {
   "cell_type": "code",
   "execution_count": null,
   "metadata": {},
   "outputs": [],
   "source": [
    "cptevents_sample_df = select_data(patients_subject_ids, create_query_scripts('cptevents'))"
   ]
  },
  {
   "cell_type": "code",
   "execution_count": null,
   "metadata": {},
   "outputs": [],
   "source": [
    "cptevents_sample_df.to_csv(\"cptevents.csv\")"
   ]
  },
  {
   "cell_type": "code",
   "execution_count": null,
   "metadata": {},
   "outputs": [],
   "source": [
    "diagnoses_icd_sample_df = select_data(patients_subject_ids, create_query_scripts('diagnoses_icd'))"
   ]
  },
  {
   "cell_type": "code",
   "execution_count": null,
   "metadata": {},
   "outputs": [],
   "source": [
    "diagnoses_icd_sample_df.to_csv(\"diagnoses_icd.csv\")"
   ]
  },
  {
   "cell_type": "code",
   "execution_count": null,
   "metadata": {},
   "outputs": [],
   "source": [
    "drgcodes_sample_df = select_data(patients_subject_ids, create_query_scripts('drgcodes'))"
   ]
  },
  {
   "cell_type": "code",
   "execution_count": null,
   "metadata": {},
   "outputs": [],
   "source": [
    "drgcodes_sample_df.to_csv(\"drgcodes.csv\")"
   ]
  },
  {
   "cell_type": "code",
   "execution_count": null,
   "metadata": {},
   "outputs": [],
   "source": [
    "labevents_sample_df = select_data(patients_subject_ids, create_query_scripts('labevents'))"
   ]
  },
  {
   "cell_type": "code",
   "execution_count": null,
   "metadata": {},
   "outputs": [],
   "source": [
    "labevents_sample_df.to_csv(\"labevents.csv\")"
   ]
  },
  {
   "cell_type": "code",
   "execution_count": null,
   "metadata": {},
   "outputs": [],
   "source": [
    "microbiologyevents_sample_df = select_data(patients_subject_ids, create_query_scripts('microbiologyevents'))"
   ]
  },
  {
   "cell_type": "code",
   "execution_count": null,
   "metadata": {},
   "outputs": [],
   "source": [
    "microbiologyevents_sample_df.to_csv(\"microbiologyevents.csv\")"
   ]
  },
  {
   "cell_type": "code",
   "execution_count": null,
   "metadata": {},
   "outputs": [],
   "source": [
    "prescriptions_sample_df = select_data(patients_subject_ids, create_query_scripts('prescriptions'))"
   ]
  },
  {
   "cell_type": "code",
   "execution_count": null,
   "metadata": {},
   "outputs": [],
   "source": [
    "prescriptions_sample_df.to_csv(\"prescriptions.csv\")"
   ]
  },
  {
   "cell_type": "code",
   "execution_count": null,
   "metadata": {},
   "outputs": [],
   "source": [
    "procedures_icd_sample_df = select_data(patients_subject_ids, create_query_scripts('procedures_icd'))"
   ]
  },
  {
   "cell_type": "code",
   "execution_count": null,
   "metadata": {},
   "outputs": [],
   "source": [
    "procedures_icd_sample_df.to_csv(\"procedures_icd.csv\")"
   ]
  },
  {
   "cell_type": "markdown",
   "metadata": {},
   "source": [
    "## Combine samples"
   ]
  },
  {
   "cell_type": "code",
   "execution_count": null,
   "metadata": {},
   "outputs": [],
   "source": [
    "patients_df = pd.merge(random_patients_df.drop('ROW_ID', axis=1), admissions_sample_df.drop('ROW_ID', axis=1), on=['SUBJECT_ID'], how='outer')"
   ]
  },
  {
   "cell_type": "code",
   "execution_count": null,
   "metadata": {},
   "outputs": [],
   "source": [
    "patients_df = pd.merge(patients_df, callout_sample_df.drop('ROW_ID', axis=1), on=['SUBJECT_ID', 'HADM_ID'], how='outer')"
   ]
  },
  {
   "cell_type": "code",
   "execution_count": null,
   "metadata": {},
   "outputs": [],
   "source": [
    "patients_df = pd.merge(patients_df, icustays_sample_df.drop('ROW_ID', axis=1), on=['SUBJECT_ID', 'HADM_ID'], how='outer')"
   ]
  },
  {
   "cell_type": "code",
   "execution_count": null,
   "metadata": {},
   "outputs": [],
   "source": [
    "patients_df = pd.merge(patients_df, services_sample_df.drop('ROW_ID', axis=1), on=['SUBJECT_ID', 'HADM_ID'], how='outer')"
   ]
  },
  {
   "cell_type": "code",
   "execution_count": null,
   "metadata": {},
   "outputs": [],
   "source": [
    "patients_df = pd.merge(patients_df, icustays_sample_df.drop(['ROW_ID', 'ICUSTAY_ID', 'DBSOURCE', 'FIRST_CAREUNIT', 'LAST_CAREUNIT', 'FIRST_WARDID', \\\n",
    "                                                'LAST_WARDID', 'INTIME', 'OUTTIME', 'LOS'], axis=1), on=['SUBJECT_ID', 'HADM_ID'], how='outer')"
   ]
  },
  {
   "cell_type": "code",
   "execution_count": null,
   "metadata": {},
   "outputs": [],
   "source": [
    "patients_df = pd.merge(patients_df, transfers_sample_df.drop(['ROW_ID', 'ICUSTAY_ID', 'DBSOURCE', 'CURR_CAREUNIT', 'CURR_WARDID', \\\n",
    "                                                'INTIME', 'OUTTIME', 'LOS'], axis=1), on=['SUBJECT_ID', 'HADM_ID'], how='outer')"
   ]
  },
  {
   "cell_type": "code",
   "execution_count": null,
   "metadata": {},
   "outputs": [],
   "source": [
    "patients_df.to_csv(\"patients_info.csv\")"
   ]
  },
  {
   "cell_type": "markdown",
   "metadata": {},
   "source": [
    "---"
   ]
  },
  {
   "cell_type": "code",
   "execution_count": null,
   "metadata": {},
   "outputs": [],
   "source": [
    "df1 = pd.merge(random_patients_df.drop('ROW_ID', axis=1), datetimeevents_sample_df.drop('ROW_ID', axis=1), on=['SUBJECT_ID'], how='outer')"
   ]
  },
  {
   "cell_type": "code",
   "execution_count": null,
   "metadata": {},
   "outputs": [],
   "source": [
    "df2 = pd.merge(random_patients_df.drop('ROW_ID', axis=1), inputevents_cv_sample_df.drop('ROW_ID', axis=1), on=['SUBJECT_ID'], how='outer')"
   ]
  },
  {
   "cell_type": "code",
   "execution_count": null,
   "metadata": {},
   "outputs": [],
   "source": [
    "df3 = pd.merge(random_patients_df.drop('ROW_ID', axis=1), inputevents_mv_sample_df.drop('ROW_ID', axis=1), on=['SUBJECT_ID'], how='outer')"
   ]
  },
  {
   "cell_type": "code",
   "execution_count": null,
   "metadata": {},
   "outputs": [],
   "source": [
    "df4 = pd.merge(random_patients_df.drop('ROW_ID', axis=1), outputevents_sample_df.drop('ROW_ID', axis=1), on=['SUBJECT_ID'], how='outer')"
   ]
  },
  {
   "cell_type": "code",
   "execution_count": null,
   "metadata": {},
   "outputs": [],
   "source": [
    "df5 = pd.merge(random_patients_df.drop('ROW_ID', axis=1), procedureevents_mv_sample_df.drop('ROW_ID', axis=1), on=['SUBJECT_ID'], how='outer')"
   ]
  },
  {
   "cell_type": "markdown",
   "metadata": {},
   "source": [
    "---"
   ]
  },
  {
   "cell_type": "markdown",
   "metadata": {},
   "source": [
    "## Build Bayesian Network"
   ]
  }
 ],
 "metadata": {
  "kernelspec": {
   "display_name": "Python 3.8.13 ('msc_project')",
   "language": "python",
   "name": "python3"
  },
  "language_info": {
   "codemirror_mode": {
    "name": "ipython",
    "version": 3
   },
   "file_extension": ".py",
   "mimetype": "text/x-python",
   "name": "python",
   "nbconvert_exporter": "python",
   "pygments_lexer": "ipython3",
   "version": "3.8.13"
  },
  "orig_nbformat": 4,
  "vscode": {
   "interpreter": {
    "hash": "e56015fb566b08f7af163d42c82cf08fa5d6db3fbaaffa0afaaff5a893fc0496"
   }
  }
 },
 "nbformat": 4,
 "nbformat_minor": 2
}
