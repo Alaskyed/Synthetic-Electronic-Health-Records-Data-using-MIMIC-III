{
 "cells": [
  {
   "cell_type": "code",
   "execution_count": 1,
   "metadata": {},
   "outputs": [],
   "source": [
    "# Ignore warnings\n",
    "import warnings\n",
    "warnings.filterwarnings(\"ignore\")"
   ]
  },
  {
   "cell_type": "code",
   "execution_count": 2,
   "metadata": {},
   "outputs": [],
   "source": [
    "import pandas as pd\n",
    "import numpy as np"
   ]
  },
  {
   "cell_type": "code",
   "execution_count": 3,
   "metadata": {},
   "outputs": [],
   "source": [
    "date_set_path = \"../temp_sets/\""
   ]
  },
  {
   "cell_type": "code",
   "execution_count": 4,
   "metadata": {},
   "outputs": [],
   "source": [
    "random_patients_df = pd.read_csv(date_set_path+\"patients.csv\")"
   ]
  },
  {
   "cell_type": "code",
   "execution_count": 5,
   "metadata": {},
   "outputs": [],
   "source": [
    "from sdv.tabular import CTGAN\n",
    "from sdv.evaluation import evaluate\n",
    "from sdv.constraints import FixedCombinations"
   ]
  },
  {
   "cell_type": "code",
   "execution_count": 6,
   "metadata": {},
   "outputs": [],
   "source": [
    "model = CTGAN.load(\"./outputevents_model.pkl\")"
   ]
  },
  {
   "cell_type": "code",
   "execution_count": 7,
   "metadata": {},
   "outputs": [
    {
     "ename": "AttributeError",
     "evalue": "'CTGAN' object has no attribute '_model'",
     "output_type": "error",
     "traceback": [
      "\u001b[1;31m---------------------------------------------------------------------------\u001b[0m",
      "\u001b[1;31mAttributeError\u001b[0m                            Traceback (most recent call last)",
      "\u001b[1;32mf:\\MSc Project\\Synthetic-Electronic-Health-Records-Data-using-MIMIC-III\\Synthetic-data-test.ipynb Cell 7\u001b[0m in \u001b[0;36m<cell line: 1>\u001b[1;34m()\u001b[0m\n\u001b[1;32m----> <a href='vscode-notebook-cell:/f%3A/MSc%20Project/Synthetic-Electronic-Health-Records-Data-using-MIMIC-III/Synthetic-data-test.ipynb#ch0000034?line=0'>1</a>\u001b[0m model\u001b[39m.\u001b[39;49msample(num_rows\u001b[39m=\u001b[39;49m\u001b[39m100\u001b[39;49m)\n",
      "File \u001b[1;32md:\\Environment\\anaconda3\\envs\\msc_project\\lib\\site-packages\\sdv\\tabular\\base.py:499\u001b[0m, in \u001b[0;36mBaseTabularModel.sample\u001b[1;34m(self, num_rows, randomize_samples, batch_size, output_file_path, conditions)\u001b[0m\n\u001b[0;32m    496\u001b[0m \u001b[39mif\u001b[39;00m num_rows \u001b[39m==\u001b[39m \u001b[39m0\u001b[39m:\n\u001b[0;32m    497\u001b[0m     \u001b[39mreturn\u001b[39;00m pd\u001b[39m.\u001b[39mDataFrame()\n\u001b[1;32m--> 499\u001b[0m \u001b[39mself\u001b[39;49m\u001b[39m.\u001b[39;49m_randomize_samples(randomize_samples)\n\u001b[0;32m    501\u001b[0m output_file_path \u001b[39m=\u001b[39m \u001b[39mself\u001b[39m\u001b[39m.\u001b[39m_validate_file_path(output_file_path)\n\u001b[0;32m    503\u001b[0m batch_size \u001b[39m=\u001b[39m \u001b[39mmin\u001b[39m(batch_size, num_rows) \u001b[39mif\u001b[39;00m batch_size \u001b[39melse\u001b[39;00m num_rows\n",
      "File \u001b[1;32md:\\Environment\\anaconda3\\envs\\msc_project\\lib\\site-packages\\sdv\\tabular\\base.py:456\u001b[0m, in \u001b[0;36mBaseTabularModel._randomize_samples\u001b[1;34m(self, randomize_samples)\u001b[0m\n\u001b[0;32m    446\u001b[0m \u001b[39mdef\u001b[39;00m \u001b[39m_randomize_samples\u001b[39m(\u001b[39mself\u001b[39m, randomize_samples):\n\u001b[0;32m    447\u001b[0m     \u001b[39m\"\"\"Randomize the samples according to user output.\u001b[39;00m\n\u001b[0;32m    448\u001b[0m \n\u001b[0;32m    449\u001b[0m \u001b[39m    If ``randomize_samples`` is false, fix the seed that the random number generator\u001b[39;00m\n\u001b[1;32m   (...)\u001b[0m\n\u001b[0;32m    454\u001b[0m \u001b[39m            Whether or not to randomize the generated samples.\u001b[39;00m\n\u001b[0;32m    455\u001b[0m \u001b[39m    \"\"\"\u001b[39;00m\n\u001b[1;32m--> 456\u001b[0m     \u001b[39mif\u001b[39;00m \u001b[39mself\u001b[39;49m\u001b[39m.\u001b[39;49m_model \u001b[39mis\u001b[39;00m \u001b[39mNone\u001b[39;00m:\n\u001b[0;32m    457\u001b[0m         \u001b[39mreturn\u001b[39;00m\n\u001b[0;32m    459\u001b[0m     \u001b[39mif\u001b[39;00m randomize_samples:\n",
      "\u001b[1;31mAttributeError\u001b[0m: 'CTGAN' object has no attribute '_model'"
     ]
    }
   ],
   "source": [
    "model.sample(num_rows=100)"
   ]
  }
 ],
 "metadata": {
  "kernelspec": {
   "display_name": "Python 3.8.13 ('msc_project')",
   "language": "python",
   "name": "python3"
  },
  "language_info": {
   "codemirror_mode": {
    "name": "ipython",
    "version": 3
   },
   "file_extension": ".py",
   "mimetype": "text/x-python",
   "name": "python",
   "nbconvert_exporter": "python",
   "pygments_lexer": "ipython3",
   "version": "3.8.13"
  },
  "orig_nbformat": 4,
  "vscode": {
   "interpreter": {
    "hash": "e56015fb566b08f7af163d42c82cf08fa5d6db3fbaaffa0afaaff5a893fc0496"
   }
  }
 },
 "nbformat": 4,
 "nbformat_minor": 2
}
